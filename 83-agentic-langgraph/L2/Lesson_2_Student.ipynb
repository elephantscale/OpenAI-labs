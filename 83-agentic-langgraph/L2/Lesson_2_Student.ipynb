{
 "cells": [
  {
   "cell_type": "markdown",
   "id": "21fa2e13-567d-4509-9023-c99fb230f31f",
   "metadata": {},
   "source": [
    "# Lesson 2 : LangGraph Components"
   ]
  },
  {
   "cell_type": "code",
   "execution_count": 1,
   "id": "f5762271-8736-4e94-9444-8c92bd0e8074",
   "metadata": {
    "height": 47
   },
   "outputs": [],
   "source": [
    "from dotenv import load_dotenv\n",
    "_ = load_dotenv()"
   ]
  },
  {
   "cell_type": "code",
   "execution_count": 2,
   "id": "d0168aee-bce9-4d60-b827-f86a88187e31",
   "metadata": {
    "height": 130
   },
   "outputs": [],
   "source": [
    "from langgraph.graph import StateGraph, END\n",
    "from typing import TypedDict, Annotated\n",
    "import operator\n",
    "from langchain_core.messages import AnyMessage, SystemMessage, HumanMessage, ToolMessage\n",
    "from langchain_openai import ChatOpenAI\n",
    "from langchain_community.tools.tavily_search import TavilySearchResults"
   ]
  },
  {
   "cell_type": "code",
   "execution_count": 3,
   "id": "2589c5b6-6cc2-4594-9a17-dccdcf676054",
   "metadata": {
    "height": 79
   },
   "outputs": [
    {
     "name": "stdout",
     "output_type": "stream",
     "text": [
      "<class 'langchain_community.tools.tavily_search.tool.TavilySearchResults'>\n",
      "tavily_search_results_json\n"
     ]
    }
   ],
   "source": [
    "tool = TavilySearchResults(max_results=4) #increased number of results\n",
    "print(type(tool))\n",
    "print(tool.name)"
   ]
  },
  {
   "cell_type": "markdown",
   "id": "e196c186-af55-4f2d-b569-b7d63a859304",
   "metadata": {},
   "source": [
    "> If you are not familiar with python typing annotation, you can refer to the [python documents](https://docs.python.org/3/library/typing.html)."
   ]
  },
  {
   "cell_type": "code",
   "execution_count": 4,
   "id": "a2ba84ec-c172-4de7-ac55-e3158a531b23",
   "metadata": {
    "height": 62
   },
   "outputs": [],
   "source": [
    "class AgentState(TypedDict):\n",
    "    messages: Annotated[list[AnyMessage], operator.add]"
   ]
  },
  {
   "cell_type": "markdown",
   "id": "74c7ba73-e603-453b-b06f-5db92c567b19",
   "metadata": {},
   "source": [
    "> Note: in `take_action` below, some logic was added to cover the case that the LLM returned a non-existent tool name. Even with function calling, LLMs can still occasionally hallucinate. Note that all that is done is instructing the LLM to try again! An advantage of an agentic organization."
   ]
  },
  {
   "cell_type": "code",
   "execution_count": 5,
   "id": "876d5092-b8ef-4e38-b4d7-0e80c609bf7a",
   "metadata": {
    "height": 742
   },
   "outputs": [],
   "source": [
    "class Agent:\n",
    "\n",
    "    def __init__(self, model, tools, system=\"\"):\n",
    "        self.system = system\n",
    "        graph = StateGraph(AgentState)\n",
    "        graph.add_node(\"llm\", self.call_openai)\n",
    "        graph.add_node(\"action\", self.take_action)\n",
    "        graph.add_conditional_edges(\n",
    "            \"llm\",\n",
    "            self.exists_action,\n",
    "            {True: \"action\", False: END}\n",
    "        )\n",
    "        graph.add_edge(\"action\", \"llm\")\n",
    "        graph.set_entry_point(\"llm\")\n",
    "        self.graph = graph.compile()\n",
    "        self.tools = {t.name: t for t in tools}\n",
    "        self.model = model.bind_tools(tools)\n",
    "\n",
    "    def exists_action(self, state: AgentState):\n",
    "        result = state['messages'][-1]\n",
    "        return len(result.tool_calls) > 0\n",
    "\n",
    "    def call_openai(self, state: AgentState):\n",
    "        messages = state['messages']\n",
    "        if self.system:\n",
    "            messages = [SystemMessage(content=self.system)] + messages\n",
    "        message = self.model.invoke(messages)\n",
    "        return {'messages': [message]}\n",
    "\n",
    "    def take_action(self, state: AgentState):\n",
    "        tool_calls = state['messages'][-1].tool_calls\n",
    "        results = []\n",
    "        for t in tool_calls:\n",
    "            print(f\"Calling: {t}\")\n",
    "            if not t['name'] in self.tools:      # check for bad tool name from LLM\n",
    "                print(\"\\n ....bad tool name....\")\n",
    "                result = \"bad tool name, retry\"  # instruct LLM to retry if bad\n",
    "            else:\n",
    "                result = self.tools[t['name']].invoke(t['args'])\n",
    "            results.append(ToolMessage(tool_call_id=t['id'], name=t['name'], content=str(result)))\n",
    "        print(\"Back to the model!\")\n",
    "        return {'messages': results}"
   ]
  },
  {
   "cell_type": "code",
   "execution_count": 6,
   "id": "10084a02-2928-4945-9f7c-ad3f5b33caf7",
   "metadata": {
    "height": 164
   },
   "outputs": [],
   "source": [
    "prompt = \"\"\"You are a smart research assistant. Use the search engine to look up information. \\\n",
    "You are allowed to make multiple calls (either together or in sequence). \\\n",
    "Only look up information when you are sure of what you want. \\\n",
    "If you need to look up some information before asking a follow up question, you are allowed to do that!\n",
    "\"\"\"\n",
    "\n",
    "model = ChatOpenAI(model=\"gpt-3.5-turbo\")  #reduce inference cost\n",
    "abot = Agent(model, [tool], system=prompt)"
   ]
  },
  {
   "cell_type": "code",
   "execution_count": 7,
   "id": "a3d6f5f4-2392-41b9-ab96-7919840baa3e",
   "metadata": {
    "height": 64
   },
   "outputs": [
    {
     "data": {
      "image/png": "[encoded data removed]",
      "text/plain": [
       "<IPython.core.display.Image object>"
      ]
     },
     "execution_count": 7,
     "metadata": {},
     "output_type": "execute_result"
    }
   ],
   "source": [
    "from IPython.display import Image\n",
    "\n",
    "Image(abot.graph.get_graph().draw_png())"
   ]
  },
  {
   "cell_type": "code",
   "execution_count": 8,
   "id": "83588e70-254f-4f83-a510-c8ae81e729b0",
   "metadata": {
    "height": 62
   },
   "outputs": [
    {
     "name": "stdout",
     "output_type": "stream",
     "text": [
      "Calling: {'name': 'tavily_search_results_json', 'args': {'query': 'weather in San Francisco'}, 'id': 'call_lqn1NYSgwZEKJ0i2dpK1xymM'}\n",
      "Back to the model!\n"
     ]
    }
   ],
   "source": [
    "messages = [HumanMessage(content=\"What is the weather in sf?\")]\n",
    "result = abot.graph.invoke({\"messages\": messages})"
   ]
  },
  {
   "cell_type": "code",
   "execution_count": 9,
   "id": "89a06a8c-fcd4-4ca6-98f0-36c5809813e6",
   "metadata": {
    "height": 30,
    "scrolled": true
   },
   "outputs": [
    {
     "data": {
      "text/plain": [
       "{'messages': [HumanMessage(content='What is the weather in sf?'),\n",
       "  AIMessage(content='', additional_kwargs={'tool_calls': [{'id': 'call_8aTmWVweqle0tgZhKB9nWeD3', 'function': {'arguments': '{\"query\":\"current weather in San Francisco\"}', 'name': 'tavily_search_results_json'}, 'type': 'function'}]}, response_metadata={'token_usage': {'completion_tokens': 22, 'prompt_tokens': 153, 'total_tokens': 175, 'prompt_tokens_details': {'cached_tokens': 0, 'audio_tokens': 0}, 'completion_tokens_details': {'reasoning_tokens': 0, 'audio_tokens': 0, 'accepted_prediction_tokens': 0, 'rejected_prediction_tokens': 0}}, 'model_name': 'gpt-3.5-turbo', 'system_fingerprint': None, 'finish_reason': 'tool_calls', 'logprobs': None}, id='run-e72e5e4e-a03d-4e8e-850a-b11b6d755175-0', tool_calls=[{'name': 'tavily_search_results_json', 'args': {'query': 'current weather in San Francisco'}, 'id': 'call_8aTmWVweqle0tgZhKB9nWeD3'}]),\n",
       "  ToolMessage(content=\"[{'url': 'https://www.peoplesweather.com/weather/San+Francisco/?date=2025-09-19', 'content': '# Weather for San Francisco\\\\n\\\\n##### Friday 19 September 2025\\\\n\\\\n|  |  |  |\\\\n --- \\\\n|  | 17°CFeels like: 17°C | SSW / 4km/h  Light Air |\\\\n| Overcast. Mild | | |\\\\n\\\\n|  |  |\\\\n --- |\\\\n| Pressure | 1013mb |\\\\n| Humidity | 84% |\\\\n| Rain | 0% |\\\\n| Cloud Cover | 92% |\\\\n| Dew Point | 14°C |\\\\n\\\\n|  |  |  |\\\\n --- \\\\n| This Afternoon | | |\\\\n|  | 20°C | S / 9km/h  Light Breeze |\\\\n| Partly Cloudy. Mild | | |\\\\n\\\\n|  |  |  |\\\\n --- \\\\n| Tonight | | |\\\\n|  | 18°C | WSW / 7km/h  Light Breeze |\\\\n| Partly Cloudy. Mild | | | [...] ### 6 Day Forecast for San Francisco\\\\n\\\\n##### Weather\\\\n\\\\n##### Popular\\\\n\\\\n##### About us\\\\n\\\\n##### Newsletter\\\\n\\\\n© 2007-2025 People°s Weather Pty. Ltd., All rights reserved.'}, {'url': 'https://www.weather25.com/north-america/usa/california/san-francisco?page=month&month=September', 'content': 'weather25.com\\\\nSearch\\\\nweather in United States\\\\nRemove from your favorite locations\\\\nAdd to my locations\\\\nShare\\\\nweather in United States\\\\n\\\\n# San Francisco weather in September 2025\\\\n\\\\nMist\\\\nMist\\\\nOvercast\\\\nFog\\\\nClear\\\\nClear\\\\nClear\\\\nClear\\\\nClear\\\\nClear\\\\nClear\\\\nClear\\\\nClear\\\\nClear\\\\n\\\\n## The average weather in San Francisco in September\\\\n\\\\nThe temperatures in San Francisco in September are comfortable with low of 14°C and and high up to 25°C. [...] | 14 Sunny 21° /14° | 15 Partly cloudy 20° /13° | 16 Partly cloudy 19° /14° | 17 Partly cloudy 19° /13° | 18 Mist 16° /14° | 19 Mist 17° /15° | 20 Overcast 17° /15° |\\\\n| 21 Fog 18° /14° | 22 Sunny 20° /15° | 23 Sunny 22° /15° | 24 Sunny 20° /15° | 25 Sunny 17° /14° | 26 Sunny 19° /14° | 27 Sunny 19° /15° |\\\\n| 28 Sunny 17° /14° | 29 Sunny 16° /13° | 30 Sunny 18° /13° |  |  |  |  | [...] There is little to no rain in San Francisco during September, so it’s a lot easier to explore the city. Just remember to dress in warm layers, as it can still get pretty chilly.\\\\n\\\\nOur weather forecast can give you a great sense of what weather to expect in San Francisco in September 2025.\\\\n\\\\nIf you’re planning to visit San Francisco in the near future, we highly recommend that you review the 14 day weather forecast for San Francisco before you arrive.'}, {'url': 'https://www.accuweather.com/en/us/san-francisco/94103/weather-forecast/347629', 'content': 'Areas of low clouds, then sun\\\\n\\\\nMostly cloudy\\\\n\\\\nSun\\\\n\\\\n9/21\\\\n\\\\nAreas of low clouds, then sun\\\\n\\\\nClear\\\\n\\\\nMon\\\\n\\\\n9/22\\\\n\\\\nPartly sunny and pleasant\\\\n\\\\nPartly cloudy, a shower late\\\\n\\\\nTue\\\\n\\\\n9/23\\\\n\\\\nA couple of showers possible\\\\n\\\\nLow clouds\\\\n\\\\nWed\\\\n\\\\n9/24\\\\n\\\\nPartial sunshine\\\\n\\\\nMainly clear\\\\n\\\\nThu\\\\n\\\\n9/25\\\\n\\\\nMostly sunny\\\\n\\\\nLow clouds\\\\n\\\\nFri\\\\n\\\\n9/26\\\\n\\\\nClouds and sun\\\\n\\\\nMainly cloudy, a shower late\\\\n\\\\nSat\\\\n\\\\n9/27\\\\n\\\\nA couple of morning showers\\\\n\\\\nPartly cloudy\\\\n\\\\n## Sun & Moon\\\\n\\\\n## Air Quality [...] Tomorrow: Clouds giving way to sun\\\\nHi: 71°\\\\n\\\\n## Current Weather\\\\n\\\\n9:27 PM\\\\n\\\\n## Looking Ahead\\\\n\\\\nExpect showers late tonight\\\\n\\\\n## San Francisco Weather Radar\\\\n\\\\nSan Francisco Weather Radar\\\\n\\\\n## Hourly Weather\\\\n\\\\nrain drop\\\\n\\\\nrain drop\\\\n\\\\nrain drop\\\\n\\\\nrain drop\\\\n\\\\nrain drop\\\\n\\\\nrain drop\\\\n\\\\nrain drop\\\\n\\\\nrain drop\\\\n\\\\nrain drop\\\\n\\\\nrain drop\\\\n\\\\nrain drop\\\\n\\\\nrain drop\\\\n\\\\n## 10-Day Weather Forecast\\\\n\\\\nTonight\\\\n\\\\n9/18\\\\n\\\\nCloudy with a shower late\\\\n\\\\nFri\\\\n\\\\n9/19\\\\n\\\\nClouds giving way to sun\\\\n\\\\nNight: Mainly clear\\\\n\\\\nSat\\\\n\\\\n9/20 [...] Bob Dylan to perform at Farm Aid festival this weekend\\\\n\\\\n18 hours ago\\\\n\\\\nTravel\\\\n\\\\nFlying cars collide at airshow rehearsal in China\\\\n\\\\n1 day ago\\\\n\\\\n## Weather Near San Francisco:\\\\n\\\\n...\\\\n\\\\n...\\\\n\\\\n...'}, {'url': 'https://www.accuweather.com/en/us/san-francisco/94103/september-weather/347629', 'content': '# San Francisco, CA\\\\n\\\\nSan Francisco\\\\n\\\\nCalifornia\\\\n\\\\n## Around the Globe\\\\n\\\\nAround the Globe\\\\n\\\\n### Hurricane Tracker\\\\n\\\\n### Severe Weather\\\\n\\\\n### Radar & Maps\\\\n\\\\n### News & Features\\\\n\\\\n### Astronomy\\\\n\\\\n### Business\\\\n\\\\n### Climate\\\\n\\\\n### Health\\\\n\\\\n### Recreation\\\\n\\\\n### Sports\\\\n\\\\n### Travel\\\\n\\\\n### Warnings\\\\n\\\\n### Data Suite\\\\n\\\\n### Forensics\\\\n\\\\n### Advertising\\\\n\\\\n### Superior Accuracy™\\\\n\\\\n### Video\\\\n\\\\n### Winter Center\\\\n\\\\n## Monthly\\\\n\\\\n## September\\\\n\\\\n## 2025\\\\n\\\\n## Daily\\\\n\\\\n## Temperature Graph\\\\n\\\\n## Further Ahead\\\\n\\\\nFurther Ahead\\\\n\\\\n### October 2025 [...] ### November 2025\\\\n\\\\n### December 2025\\\\n\\\\n## Around the Globe\\\\n\\\\nAround the Globe\\\\n\\\\n### Hurricane Tracker\\\\n\\\\n### Severe Weather\\\\n\\\\n### Radar & Maps\\\\n\\\\n### News\\\\n\\\\n### Video\\\\n\\\\n### Winter Center\\\\n\\\\nTop Stories\\\\n\\\\nWeather News\\\\n\\\\nLarge earthquake prompts tsunami danger in Pacific Ocean\\\\n\\\\n7 hours ago\\\\n\\\\nHurricane\\\\n\\\\nGabrielle may eye Bermuda as a hurricane; Is Caribbean next for a stor...\\\\n\\\\n8 hours ago\\\\n\\\\nRecreation\\\\n\\\\nMan dies after falling into Thor’s Well on Oregon coast\\\\n\\\\n15 hours ago\\\\n\\\\nWeather Forecasts'}]\", name='tavily_search_results_json', tool_call_id='call_8aTmWVweqle0tgZhKB9nWeD3'),\n",
       "  AIMessage(content='The current weather in San Francisco is as follows:\\n- Temperature: 17°C, Feels like: 17°C\\n- Wind: SSW at 4km/h (Light Air)\\n- Conditions: Overcast, Mild\\n- Pressure: 1013mb\\n- Humidity: 84%\\n- Rain: 0%\\n- Cloud Cover: 92%\\n- Dew Point: 14°C\\n\\nThis afternoon, the weather is expected to be 20°C with a light breeze. Tonight, it will be 18°C with a light breeze and partly cloudy conditions.', response_metadata={'token_usage': {'completion_tokens': 118, 'prompt_tokens': 1640, 'total_tokens': 1758, 'prompt_tokens_details': {'cached_tokens': 0, 'audio_tokens': 0}, 'completion_tokens_details': {'reasoning_tokens': 0, 'audio_tokens': 0, 'accepted_prediction_tokens': 0, 'rejected_prediction_tokens': 0}}, 'model_name': 'gpt-3.5-turbo', 'system_fingerprint': None, 'finish_reason': 'stop', 'logprobs': None}, id='run-ab0986ba-441a-4c55-b4ea-f99ca107c55a-0')]}"
      ]
     },
     "execution_count": 9,
     "metadata": {},
     "output_type": "execute_result"
    }
   ],
   "source": [
    "result"
   ]
  },
  {
   "cell_type": "code",
   "execution_count": 10,
   "id": "6cb3ef4c-58b3-401b-b104-0d51e553d982",
   "metadata": {
    "height": 30
   },
   "outputs": [
    {
     "data": {
      "text/plain": [
       "'The current weather in San Francisco is as follows:\\n- Temperature: 17°C, Feels like: 17°C\\n- Wind: SSW at 4km/h (Light Air)\\n- Conditions: Overcast, Mild\\n- Pressure: 1013mb\\n- Humidity: 84%\\n- Rain: 0%\\n- Cloud Cover: 92%\\n- Dew Point: 14°C\\n\\nThis afternoon, the weather is expected to be 20°C with a light breeze. Tonight, it will be 18°C with a light breeze and partly cloudy conditions.'"
      ]
     },
     "execution_count": 10,
     "metadata": {},
     "output_type": "execute_result"
    }
   ],
   "source": [
    "result['messages'][-1].content"
   ]
  },
  {
   "cell_type": "code",
   "execution_count": 11,
   "id": "dc3293b7-a50c-43c8-a022-8975e1e444b8",
   "metadata": {
    "height": 62
   },
   "outputs": [
    {
     "name": "stdout",
     "output_type": "stream",
     "text": [
      "Calling: {'name': 'tavily_search_results_json', 'args': {'query': 'weather in San Francisco'}, 'id': 'call_MjTubQvAfnQLEgvjxz4j76ZL'}\n",
      "Calling: {'name': 'tavily_search_results_json', 'args': {'query': 'weather in Los Angeles'}, 'id': 'call_HOPMmWAjxFhth84BVo3OXGXa'}\n",
      "Back to the model!\n"
     ]
    }
   ],
   "source": [
    "messages = [HumanMessage(content=\"What is the weather in SF and LA?\")]\n",
    "result = abot.graph.invoke({\"messages\": messages})"
   ]
  },
  {
   "cell_type": "code",
   "execution_count": 12,
   "id": "0722c3d4-4cbf-43bf-81b0-50f634c4ce61",
   "metadata": {
    "height": 30
   },
   "outputs": [
    {
     "data": {
      "text/plain": [
       "'The weather in San Francisco for September 17 is a max temperature of 20°C (68°F) and a min temperature of 16°C (60.8°F) with clear sky and 0% rain risk. The humidity is at 76%.\\n\\nIn Los Angeles for September 17, the weather is sunny with a temperature of 30°C (86°F) and a minimum of 23°C (73.4°F). There is no precipitation with a humidity of 57%.'"
      ]
     },
     "execution_count": 12,
     "metadata": {},
     "output_type": "execute_result"
    }
   ],
   "source": [
    "result['messages'][-1].content"
   ]
  },
  {
   "cell_type": "code",
   "execution_count": 13,
   "id": "6b2f82fe-3ec4-4917-be51-9fb10d1317fa",
   "metadata": {
    "height": 198
   },
   "outputs": [
    {
     "name": "stdout",
     "output_type": "stream",
     "text": [
      "Calling: {'name': 'tavily_search_results_json', 'args': {'query': 'Super Bowl 2024 winner'}, 'id': 'call_yYXu1gbPiWDR57AArxvROtu2'}\n",
      "Back to the model!\n",
      "Calling: {'name': 'tavily_search_results_json', 'args': {'query': 'Kansas City Chiefs headquarters location'}, 'id': 'call_8UJAFZNy4zcPny5xv4fJ3Cpd'}\n",
      "Calling: {'name': 'tavily_search_results_json', 'args': {'query': 'Missouri GDP 2024'}, 'id': 'call_5HzdftvAj3cUNP7FDU4ddDC0'}\n",
      "Back to the model!\n"
     ]
    }
   ],
   "source": [
    "# Note, the query was modified to produce more consistent results. \n",
    "# Results may vary per run and over time as search information and models change.\n",
    "\n",
    "query = \"Who won the super bowl in 2024? In what state is the winning team headquarters located? \\\n",
    "What is the GDP of that state? Answer each question.\" \n",
    "messages = [HumanMessage(content=query)]\n",
    "\n",
    "model = ChatOpenAI(model=\"gpt-4o\")  # requires more advanced model\n",
    "abot = Agent(model, [tool], system=prompt)\n",
    "result = abot.graph.invoke({\"messages\": messages})"
   ]
  },
  {
   "cell_type": "code",
   "execution_count": 14,
   "id": "ee0fe1c7-77e2-499c-a2f9-1f739bb6ddf0",
   "metadata": {
    "height": 30
   },
   "outputs": [
    {
     "name": "stdout",
     "output_type": "stream",
     "text": [
      "1. The Kansas City Chiefs won the Super Bowl in 2024.\n",
      "\n",
      "2. The Kansas City Chiefs' headquarters is located in Kansas City, Missouri.\n",
      "\n",
      "3. The GDP of Missouri in 2024 was $356.7 billion.\n"
     ]
    }
   ],
   "source": [
    "print(result['messages'][-1].content)"
   ]
  },
  {
   "cell_type": "code",
   "execution_count": null,
   "id": "1d643182-2802-40fb-ba35-d4f893c5b976",
   "metadata": {
    "height": 30
   },
   "outputs": [],
   "source": []
  }
 ],
 "metadata": {
  "kernelspec": {
   "display_name": "My env",
   "language": "python",
   "name": "myenv"
  },
  "language_info": {
   "codemirror_mode": {
    "name": "ipython",
    "version": 3
   },
   "file_extension": ".py",
   "mimetype": "text/x-python",
   "name": "python",
   "nbconvert_exporter": "python",
   "pygments_lexer": "ipython3",
   "version": "3.12.7"
  }
 },
 "nbformat": 4,
 "nbformat_minor": 5
}
