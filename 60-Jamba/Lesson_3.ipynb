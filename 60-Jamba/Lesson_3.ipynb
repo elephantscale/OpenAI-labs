{
 "cells": [
  {
   "cell_type": "markdown",
   "id": "30694aa9-029f-4010-bed4-0a5c30b66106",
   "metadata": {},
   "source": [
    "# L3: Jamba Prompting and Documents"
   ]
  },
  {
   "cell_type": "markdown",
   "id": "7ab2887d-306b-4f94-a800-effb4542dd86",
   "metadata": {},
   "source": [
    "<p style=\"background-color:#fff6e4; padding:15px; border-width:3px; border-color:#f5ecda; border-style:solid; border-radius:6px\"> ⏳ <b>Note <code>(Kernel Starting)</code>:</b> This notebook takes about 30 seconds to be ready to use. You may start and watch the video while you wait.</p>"
   ]
  },
  {
   "cell_type": "code",
   "execution_count": 1,
   "id": "f34ce155-7153-4cc6-82e2-9f4026201259",
   "metadata": {
    "height": 47
   },
   "outputs": [],
   "source": [
    "import warnings\n",
    "warnings.filterwarnings('ignore')"
   ]
  },
  {
   "cell_type": "markdown",
   "id": "b143c366-fdc6-467f-8659-b2e434aa142c",
   "metadata": {},
   "source": [
    "## Import libraries"
   ]
  },
  {
   "cell_type": "code",
   "execution_count": 2,
   "id": "9977646b-f467-4e95-8fbe-31885271c273",
   "metadata": {
    "height": 64
   },
   "outputs": [],
   "source": [
    "from ai21 import AI21Client\n",
    "from ai21.models.chat import ChatMessage, DocumentSchema\n",
    "import json"
   ]
  },
  {
   "cell_type": "markdown",
   "id": "ba0007e1-b59c-4dc7-a387-ec1c0eecc1f5",
   "metadata": {},
   "source": [
    "<div style=\"background-color:#fff6ff; padding:13px; border-width:3px; border-color:#efe6ef; border-style:solid; border-radius:6px\">\n",
    "<p> 💻 &nbsp; <b>Access <code>requirements.txt</code> and <code>utils.py</code> files:</b> 1) click on the <em>\"File\"</em> option on the top menu of the notebook and then 2) click on <em>\"Open\"</em>.\n",
    "\n",
    "<p> ⬇ &nbsp; <b>Download Notebooks:</b> 1) click on the <em>\"File\"</em> option on the top menu of the notebook and then 2) click on <em>\"Download as\"</em> and select <em>\"Notebook (.ipynb)\"</em>.</p>\n",
    "\n",
    "<p> 📒 &nbsp; For more help, please see the <em>\"Appendix – Tips, Help, and Download\"</em> Lesson.</p>\n",
    "</div>"
   ]
  },
  {
   "cell_type": "markdown",
   "id": "7273f2fe-9553-41b4-8fb2-992190472eab",
   "metadata": {},
   "source": [
    "## Load API key and create AI21Client"
   ]
  },
  {
   "cell_type": "code",
   "execution_count": 3,
   "id": "ca22225d-18ee-4114-926f-270c380221a3",
   "metadata": {
    "height": 81
   },
   "outputs": [
    {
     "ename": "MissingApiKeyError",
     "evalue": "MissingApiKeyError API key must be supplied either globally in the ai21 namespace, or to be provided in the call args",
     "output_type": "error",
     "traceback": [
      "\u001b[0;31m---------------------------------------------------------------------------\u001b[0m",
      "\u001b[0;31mMissingApiKeyError\u001b[0m                        Traceback (most recent call last)",
      "Cell \u001b[0;32mIn[3], line 4\u001b[0m\n\u001b[1;32m      1\u001b[0m \u001b[38;5;28;01mfrom\u001b[39;00m\u001b[38;5;250m \u001b[39m\u001b[38;5;21;01mutils\u001b[39;00m\u001b[38;5;250m \u001b[39m\u001b[38;5;28;01mimport\u001b[39;00m get_ai21_api_key\n\u001b[1;32m      2\u001b[0m ai21_api_key \u001b[38;5;241m=\u001b[39m get_ai21_api_key()\n\u001b[0;32m----> 4\u001b[0m client \u001b[38;5;241m=\u001b[39m \u001b[43mAI21Client\u001b[49m\u001b[43m(\u001b[49m\u001b[43mapi_key\u001b[49m\u001b[38;5;241;43m=\u001b[39;49m\u001b[43mai21_api_key\u001b[49m\u001b[43m)\u001b[49m\n",
      "File \u001b[0;32m/media/mark/data/ES/OpenAI-labs/60-Jamba/myenv/lib/python3.12/site-packages/ai21/clients/studio/ai21_client.py:34\u001b[0m, in \u001b[0;36mAI21Client.__init__\u001b[0;34m(self, api_key, api_host, headers, timeout_sec, num_retries, via, http_client, env_config, **kwargs)\u001b[0m\n\u001b[1;32m     21\u001b[0m \u001b[38;5;28;01mdef\u001b[39;00m\u001b[38;5;250m \u001b[39m\u001b[38;5;21m__init__\u001b[39m(\n\u001b[1;32m     22\u001b[0m     \u001b[38;5;28mself\u001b[39m,\n\u001b[1;32m     23\u001b[0m     api_key: Optional[\u001b[38;5;28mstr\u001b[39m] \u001b[38;5;241m=\u001b[39m \u001b[38;5;28;01mNone\u001b[39;00m,\n\u001b[0;32m   (...)\u001b[0m\n\u001b[1;32m     31\u001b[0m     \u001b[38;5;241m*\u001b[39m\u001b[38;5;241m*\u001b[39mkwargs,\n\u001b[1;32m     32\u001b[0m ):\n\u001b[1;32m     33\u001b[0m     base_url \u001b[38;5;241m=\u001b[39m create_client_url(api_host \u001b[38;5;129;01mor\u001b[39;00m env_config\u001b[38;5;241m.\u001b[39mapi_host)\n\u001b[0;32m---> 34\u001b[0m     \u001b[38;5;28;43msuper\u001b[39;49m\u001b[43m(\u001b[49m\u001b[43m)\u001b[49m\u001b[38;5;241;43m.\u001b[39;49m\u001b[38;5;21;43m__init__\u001b[39;49m\u001b[43m(\u001b[49m\n\u001b[1;32m     35\u001b[0m \u001b[43m        \u001b[49m\u001b[43mapi_key\u001b[49m\u001b[38;5;241;43m=\u001b[39;49m\u001b[43mapi_key\u001b[49m\u001b[43m \u001b[49m\u001b[38;5;129;43;01mor\u001b[39;49;00m\u001b[43m \u001b[49m\u001b[43menv_config\u001b[49m\u001b[38;5;241;43m.\u001b[39;49m\u001b[43mapi_key\u001b[49m\u001b[43m,\u001b[49m\n\u001b[1;32m     36\u001b[0m \u001b[43m        \u001b[49m\u001b[43mbase_url\u001b[49m\u001b[38;5;241;43m=\u001b[39;49m\u001b[43mbase_url\u001b[49m\u001b[43m,\u001b[49m\n\u001b[1;32m     37\u001b[0m \u001b[43m        \u001b[49m\u001b[43mheaders\u001b[49m\u001b[38;5;241;43m=\u001b[39;49m\u001b[43mheaders\u001b[49m\u001b[43m,\u001b[49m\n\u001b[1;32m     38\u001b[0m \u001b[43m        \u001b[49m\u001b[43mtimeout_sec\u001b[49m\u001b[38;5;241;43m=\u001b[39;49m\u001b[43mtimeout_sec\u001b[49m\u001b[43m \u001b[49m\u001b[38;5;129;43;01mor\u001b[39;49;00m\u001b[43m \u001b[49m\u001b[43menv_config\u001b[49m\u001b[38;5;241;43m.\u001b[39;49m\u001b[43mtimeout_sec\u001b[49m\u001b[43m,\u001b[49m\n\u001b[1;32m     39\u001b[0m \u001b[43m        \u001b[49m\u001b[43mnum_retries\u001b[49m\u001b[38;5;241;43m=\u001b[39;49m\u001b[43mnum_retries\u001b[49m\u001b[43m \u001b[49m\u001b[38;5;129;43;01mor\u001b[39;49;00m\u001b[43m \u001b[49m\u001b[43menv_config\u001b[49m\u001b[38;5;241;43m.\u001b[39;49m\u001b[43mnum_retries\u001b[49m\u001b[43m,\u001b[49m\n\u001b[1;32m     40\u001b[0m \u001b[43m        \u001b[49m\u001b[43mvia\u001b[49m\u001b[38;5;241;43m=\u001b[39;49m\u001b[43mvia\u001b[49m\u001b[43m,\u001b[49m\n\u001b[1;32m     41\u001b[0m \u001b[43m        \u001b[49m\u001b[43mclient\u001b[49m\u001b[38;5;241;43m=\u001b[39;49m\u001b[43mhttp_client\u001b[49m\u001b[43m,\u001b[49m\n\u001b[1;32m     42\u001b[0m \u001b[43m    \u001b[49m\u001b[43m)\u001b[49m\n\u001b[1;32m     43\u001b[0m     \u001b[38;5;28mself\u001b[39m\u001b[38;5;241m.\u001b[39mchat: StudioChat \u001b[38;5;241m=\u001b[39m StudioChat(\u001b[38;5;28mself\u001b[39m)\n\u001b[1;32m     44\u001b[0m     \u001b[38;5;28mself\u001b[39m\u001b[38;5;241m.\u001b[39mlibrary \u001b[38;5;241m=\u001b[39m StudioLibrary(\u001b[38;5;28mself\u001b[39m)\n",
      "File \u001b[0;32m/media/mark/data/ES/OpenAI-labs/60-Jamba/myenv/lib/python3.12/site-packages/ai21/http_client/http_client.py:39\u001b[0m, in \u001b[0;36mAI21HTTPClient.__init__\u001b[0;34m(self, api_key, requires_api_key, client, timeout_sec, num_retries, headers, via, base_url)\u001b[0m\n\u001b[1;32m     28\u001b[0m \u001b[38;5;28;01mdef\u001b[39;00m\u001b[38;5;250m \u001b[39m\u001b[38;5;21m__init__\u001b[39m(\n\u001b[1;32m     29\u001b[0m     \u001b[38;5;28mself\u001b[39m,\n\u001b[1;32m     30\u001b[0m     api_key: Optional[\u001b[38;5;28mstr\u001b[39m] \u001b[38;5;241m=\u001b[39m \u001b[38;5;28;01mNone\u001b[39;00m,\n\u001b[0;32m   (...)\u001b[0m\n\u001b[1;32m     37\u001b[0m     base_url: Optional[\u001b[38;5;28mstr\u001b[39m] \u001b[38;5;241m=\u001b[39m \u001b[38;5;28;01mNone\u001b[39;00m,\n\u001b[1;32m     38\u001b[0m ):\n\u001b[0;32m---> 39\u001b[0m     \u001b[38;5;28;43msuper\u001b[39;49m\u001b[43m(\u001b[49m\u001b[43m)\u001b[49m\u001b[38;5;241;43m.\u001b[39;49m\u001b[38;5;21;43m__init__\u001b[39;49m\u001b[43m(\u001b[49m\n\u001b[1;32m     40\u001b[0m \u001b[43m        \u001b[49m\u001b[43mapi_key\u001b[49m\u001b[38;5;241;43m=\u001b[39;49m\u001b[43mapi_key\u001b[49m\u001b[43m,\u001b[49m\n\u001b[1;32m     41\u001b[0m \u001b[43m        \u001b[49m\u001b[43mbase_url\u001b[49m\u001b[38;5;241;43m=\u001b[39;49m\u001b[43mbase_url\u001b[49m\u001b[43m,\u001b[49m\n\u001b[1;32m     42\u001b[0m \u001b[43m        \u001b[49m\u001b[43mrequires_api_key\u001b[49m\u001b[38;5;241;43m=\u001b[39;49m\u001b[43mrequires_api_key\u001b[49m\u001b[43m,\u001b[49m\n\u001b[1;32m     43\u001b[0m \u001b[43m        \u001b[49m\u001b[43mtimeout_sec\u001b[49m\u001b[38;5;241;43m=\u001b[39;49m\u001b[43mtimeout_sec\u001b[49m\u001b[43m,\u001b[49m\n\u001b[1;32m     44\u001b[0m \u001b[43m        \u001b[49m\u001b[43mnum_retries\u001b[49m\u001b[38;5;241;43m=\u001b[39;49m\u001b[43mnum_retries\u001b[49m\u001b[43m,\u001b[49m\n\u001b[1;32m     45\u001b[0m \u001b[43m        \u001b[49m\u001b[43mheaders\u001b[49m\u001b[38;5;241;43m=\u001b[39;49m\u001b[43mheaders\u001b[49m\u001b[43m,\u001b[49m\n\u001b[1;32m     46\u001b[0m \u001b[43m        \u001b[49m\u001b[43mvia\u001b[49m\u001b[38;5;241;43m=\u001b[39;49m\u001b[43mvia\u001b[49m\u001b[43m,\u001b[49m\n\u001b[1;32m     47\u001b[0m \u001b[43m    \u001b[49m\u001b[43m)\u001b[49m\n\u001b[1;32m     48\u001b[0m     \u001b[38;5;28mself\u001b[39m\u001b[38;5;241m.\u001b[39m_client \u001b[38;5;241m=\u001b[39m \u001b[38;5;28mself\u001b[39m\u001b[38;5;241m.\u001b[39m_init_client(client)\n\u001b[1;32m     49\u001b[0m     \u001b[38;5;28mself\u001b[39m\u001b[38;5;241m.\u001b[39m_headers \u001b[38;5;241m=\u001b[39m \u001b[38;5;28mself\u001b[39m\u001b[38;5;241m.\u001b[39m_build_headers(passed_headers\u001b[38;5;241m=\u001b[39mheaders)\n",
      "File \u001b[0;32m/media/mark/data/ES/OpenAI-labs/60-Jamba/myenv/lib/python3.12/site-packages/ai21/http_client/base_http_client.py:67\u001b[0m, in \u001b[0;36mBaseHttpClient.__init__\u001b[0;34m(self, base_url, api_key, requires_api_key, timeout_sec, num_retries, headers, via)\u001b[0m\n\u001b[1;32m     56\u001b[0m \u001b[38;5;28;01mdef\u001b[39;00m\u001b[38;5;250m \u001b[39m\u001b[38;5;21m__init__\u001b[39m(\n\u001b[1;32m     57\u001b[0m     \u001b[38;5;28mself\u001b[39m,\n\u001b[1;32m     58\u001b[0m     base_url: \u001b[38;5;28mstr\u001b[39m,\n\u001b[0;32m   (...)\u001b[0m\n\u001b[1;32m     64\u001b[0m     via: Optional[\u001b[38;5;28mstr\u001b[39m] \u001b[38;5;241m=\u001b[39m \u001b[38;5;28;01mNone\u001b[39;00m,\n\u001b[1;32m     65\u001b[0m ):\n\u001b[1;32m     66\u001b[0m     \u001b[38;5;28;01mif\u001b[39;00m requires_api_key \u001b[38;5;129;01mand\u001b[39;00m api_key \u001b[38;5;129;01mis\u001b[39;00m \u001b[38;5;28;01mNone\u001b[39;00m:\n\u001b[0;32m---> 67\u001b[0m         \u001b[38;5;28;01mraise\u001b[39;00m MissingApiKeyError()\n\u001b[1;32m     69\u001b[0m     \u001b[38;5;28mself\u001b[39m\u001b[38;5;241m.\u001b[39m_base_url \u001b[38;5;241m=\u001b[39m base_url\n\u001b[1;32m     70\u001b[0m     \u001b[38;5;28mself\u001b[39m\u001b[38;5;241m.\u001b[39m_api_key \u001b[38;5;241m=\u001b[39m api_key\n",
      "\u001b[0;31mMissingApiKeyError\u001b[0m: MissingApiKeyError API key must be supplied either globally in the ai21 namespace, or to be provided in the call args"
     ]
    }
   ],
   "source": [
    "from utils import get_ai21_api_key\n",
    "ai21_api_key = get_ai21_api_key()\n",
    "\n",
    "client = AI21Client(api_key=ai21_api_key)"
   ]
  },
  {
   "cell_type": "code",
   "execution_count": null,
   "id": "9fba3d20-e66e-4de3-ad09-ad6cd77011c7",
   "metadata": {
    "height": 79
   },
   "outputs": [],
   "source": [
    "messages = [ChatMessage(role='system', content='You are a concise factual based question answering assistant.'),\n",
    "            ChatMessage(role='user', content='Explain SEC filings in one sentence.')\n",
    "            ]"
   ]
  },
  {
   "cell_type": "code",
   "execution_count": null,
   "id": "f683105a-bc0d-4ad4-9712-9e7c34ac5247",
   "metadata": {
    "height": 181
   },
   "outputs": [],
   "source": [
    "response = client.chat.completions.create(messages=messages,\n",
    "                                          model='jamba-1.5-large',\n",
    "                                          # max_tokens=4096,\n",
    "                                          # temperature=0.4,\n",
    "                                          # top_p=1.0,\n",
    "                                          # stop = [], ## ['####', '\\n'],\n",
    "                                          # n=1,\n",
    "                                          # stream = False\n",
    "                                          )"
   ]
  },
  {
   "cell_type": "markdown",
   "id": "1401cd1d-ba7e-4a2e-978c-e328ce030774",
   "metadata": {},
   "source": [
    "<p style=\"background-color:#f7fff8; padding:15px; border-width:3px; border-color:#e0f0e0; border-style:solid; border-radius:6px\"> 🚨\n",
    "&nbsp; <b>Different Run Results:</b> The output generated by AI chat models can vary with each execution due to their probabilistic nature. Don't be surprised if your results differ from those shown in the video.</p>"
   ]
  },
  {
   "cell_type": "code",
   "execution_count": null,
   "id": "1613170d-fe40-416c-982c-2ba11bff8e97",
   "metadata": {
    "height": 30
   },
   "outputs": [],
   "source": [
    "response"
   ]
  },
  {
   "cell_type": "code",
   "execution_count": null,
   "id": "ba305c25-5eb8-489f-96b2-2d8675f6a4a0",
   "metadata": {
    "height": 30
   },
   "outputs": [],
   "source": [
    "response.choices[0].message.content"
   ]
  },
  {
   "cell_type": "markdown",
   "id": "35d7807a-1bdd-4567-a494-416ecaa6fd21",
   "metadata": {},
   "source": [
    "## JSON output"
   ]
  },
  {
   "cell_type": "code",
   "execution_count": null,
   "id": "d0e15d39-8728-4747-8862-b7c0ad10d2b5",
   "metadata": {
    "height": 130
   },
   "outputs": [],
   "source": [
    "messages = [ChatMessage(role='system', \n",
    "                        content='You are an assistant that provides information in JSON format.'),\n",
    "            ChatMessage(role='user', \n",
    "                        content=('List top 5 most common type of SEC '\n",
    "                                 'filings in JSON format, including '\n",
    "                                 'only form name and description'))]"
   ]
  },
  {
   "cell_type": "code",
   "execution_count": null,
   "id": "d2b8b996-f740-447e-b1f3-2578280f4854",
   "metadata": {
    "height": 115
   },
   "outputs": [],
   "source": [
    "response = client.chat.completions.create(\n",
    "    messages=messages,\n",
    "    model=\"jamba-1.5-large\",\n",
    "    temperature = 0,\n",
    "    response_format={\"type\": \"json_object\"}\n",
    ")"
   ]
  },
  {
   "cell_type": "code",
   "execution_count": null,
   "id": "1c68d5b6-b7c4-4fa5-bb7b-2e4393e7d1e8",
   "metadata": {
    "height": 45
   },
   "outputs": [],
   "source": [
    "print(json.dumps(json.loads(response.choices[0].message.content), indent=2))"
   ]
  },
  {
   "cell_type": "markdown",
   "id": "0e0ca2a4-24a0-4eff-827c-e0dcfc245118",
   "metadata": {},
   "source": [
    "## Documents object"
   ]
  },
  {
   "cell_type": "code",
   "execution_count": null,
   "id": "ad9b23a1-d11f-4e0c-b79d-5d381184a63c",
   "metadata": {
    "height": 96
   },
   "outputs": [],
   "source": [
    "## The NVIDIA 10K filing data used in this lesson can be found online here \n",
    "## https://www.nasdaq.com/market-activity/stocks/nvda/sec-filings\n",
    "Filing2023_text = open('Nvidia_10K_20230129.txt', 'r', encoding='utf-8').read()\n",
    "Filing2024_text = open('Nvidia_10K_20240128.txt', 'r', encoding='utf-8').read()"
   ]
  },
  {
   "cell_type": "code",
   "execution_count": null,
   "id": "c8948e68-ca41-4497-9de0-e482c8c0b03f",
   "metadata": {
    "height": 215
   },
   "outputs": [],
   "source": [
    "Filing2023_doc = DocumentSchema(\n",
    "    content=Filing2023_text,\n",
    "    metadata={'company': 'Nvida', 'doc_type': 'SEC annual financial earnings report', 'year': '2023'}\n",
    ")\n",
    "\n",
    "Filing2024_doc = DocumentSchema(\n",
    "    content=Filing2024_text,\n",
    "    metadata={'company': 'Nvida', 'doc_type': 'SEC annual financial earnings report', 'year': '2024'}\n",
    ")\n",
    "\n",
    "documents = [Filing2023_doc, Filing2024_doc]"
   ]
  },
  {
   "cell_type": "code",
   "execution_count": null,
   "id": "58b7d2c5-681c-49db-a697-8bd186855455",
   "metadata": {
    "height": 283
   },
   "outputs": [],
   "source": [
    "messages = [ChatMessage(\n",
    "                role='system', \n",
    "                content='You are a concise factual based question answering assistant. Your answer must be grounded with the document provided.'),\n",
    "            ChatMessage(\n",
    "                role='user', \n",
    "                content=('Create an html table of the financial performance '\n",
    "                         'from both of these separate Nvidia 10K filings. '\n",
    "                         'Include the fiscal year, revenue, and earnings per share'))]\n",
    "\n",
    "response = client.chat.completions.create(messages=messages,\n",
    "                                          model=\"jamba-1.5-large\",\n",
    "                                          documents=documents\n",
    "                                          )\n",
    "\n",
    "print(response.choices[0].message.content)"
   ]
  },
  {
   "cell_type": "code",
   "execution_count": null,
   "id": "a0786ad5-f719-4d6c-ad93-022994d8b6ef",
   "metadata": {
    "height": 47
   },
   "outputs": [],
   "source": [
    "from IPython.display import display, Markdown, HTML\n",
    "display(HTML(response.choices[0].message.content))"
   ]
  },
  {
   "cell_type": "code",
   "execution_count": null,
   "id": "900d79a7-171b-4b96-adc5-6723f1da1f9c",
   "metadata": {
    "height": 30
   },
   "outputs": [],
   "source": [
    "response.usage"
   ]
  },
  {
   "cell_type": "code",
   "execution_count": null,
   "id": "8dda248e-94fb-4c8c-a26b-59afbd9fa1a0",
   "metadata": {
    "height": 30
   },
   "outputs": [],
   "source": []
  },
  {
   "cell_type": "code",
   "execution_count": null,
   "id": "e780b942-0829-495e-ac72-7e3af7576800",
   "metadata": {
    "height": 30
   },
   "outputs": [],
   "source": []
  },
  {
   "cell_type": "code",
   "execution_count": null,
   "id": "e677c26b-36ef-42e7-bc97-b4bec692d597",
   "metadata": {
    "height": 30
   },
   "outputs": [],
   "source": []
  },
  {
   "cell_type": "code",
   "execution_count": null,
   "id": "f80b4925-74f9-402a-9d4a-d242a681e4ae",
   "metadata": {
    "height": 30
   },
   "outputs": [],
   "source": []
  },
  {
   "cell_type": "code",
   "execution_count": null,
   "id": "052e524f-afba-4dd1-9f6d-f7cef551db7a",
   "metadata": {
    "height": 30
   },
   "outputs": [],
   "source": []
  },
  {
   "cell_type": "code",
   "execution_count": null,
   "id": "c7788610-9e36-4739-ad95-9e5d884238b2",
   "metadata": {
    "height": 30
   },
   "outputs": [],
   "source": []
  }
 ],
 "metadata": {
  "kernelspec": {
   "display_name": "Python 3 (ipykernel)",
   "language": "python",
   "name": "python3"
  },
  "language_info": {
   "codemirror_mode": {
    "name": "ipython",
    "version": 3
   },
   "file_extension": ".py",
   "mimetype": "text/x-python",
   "name": "python",
   "nbconvert_exporter": "python",
   "pygments_lexer": "ipython3",
   "version": "3.12.7"
  }
 },
 "nbformat": 4,
 "nbformat_minor": 5
}
