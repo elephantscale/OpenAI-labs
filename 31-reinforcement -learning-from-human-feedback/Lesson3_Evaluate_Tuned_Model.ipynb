{
 "cells": [
  {
   "cell_type": "markdown",
   "id": "163c0c0417f7f0f6",
   "metadata": {
    "collapsed": false,
    "jupyter": {
     "outputs_hidden": false
    }
   },
   "source": [
    "# Lesson 3: Evaluate the Tuned Model"
   ]
  },
  {
   "cell_type": "markdown",
   "id": "9649270d41607b0",
   "metadata": {
    "collapsed": false,
    "jupyter": {
     "outputs_hidden": false
    }
   },
   "source": [
    "## Explore results with Tensorboard"
   ]
  },
  {
   "cell_type": "code",
   "execution_count": null,
   "id": "254e7b9db33b3679",
   "metadata": {
    "ExecuteTime": {
     "end_time": "2024-07-10T09:17:46.222131Z",
     "start_time": "2024-07-10T09:17:46.066719Z"
    },
    "collapsed": false,
    "jupyter": {
     "outputs_hidden": false
    }
   },
   "outputs": [],
   "source": [
    "%load_ext tensorboard"
   ]
  },
  {
   "cell_type": "code",
   "execution_count": null,
   "id": "23fae355a24692ab",
   "metadata": {
    "ExecuteTime": {
     "end_time": "2024-07-09T09:22:35.628391Z",
     "start_time": "2024-07-09T09:22:31.016008Z"
    },
    "collapsed": false,
    "jupyter": {
     "outputs_hidden": false
    }
   },
   "outputs": [],
   "source": [
    "%tensorboard --logdir reinforcer-logs "
   ]
  },
  {
   "cell_type": "code",
   "execution_count": null,
   "id": "51a6c72bd92559d1",
   "metadata": {
    "ExecuteTime": {
     "end_time": "2024-07-09T09:24:38.339026Z",
     "start_time": "2024-07-09T09:24:33.762082Z"
    },
    "collapsed": false,
    "jupyter": {
     "outputs_hidden": false
    }
   },
   "outputs": [],
   "source": [
    "%tensorboard --logdir reinforcer-fulldata-logs"
   ]
  },
  {
   "cell_type": "code",
   "execution_count": null,
   "id": "e5c9aad4fe24cc42",
   "metadata": {
    "ExecuteTime": {
     "end_time": "2024-07-09T09:24:51.176883Z",
     "start_time": "2024-07-09T09:24:51.155822Z"
    },
    "collapsed": false,
    "jupyter": {
     "outputs_hidden": false
    }
   },
   "outputs": [],
   "source": [
    "parameter_values={\n",
    "        \"preference_dataset\": \\\n",
    "    \"gs://vertex-ai/generative-ai/rlhf/text_small/summarize_from_feedback_tfds/comparisons/train/*.jsonl\",\n",
    "        \"prompt_dataset\": \\\n",
    "    \"gs://vertex-ai/generative-ai/rlhf/text_small/reddit_tfds/train/*.jsonl\",\n",
    "        \"eval_dataset\": \\\n",
    "    \"gs://vertex-ai/generative-ai/rlhf/text_small/reddit_tfds/val/*.jsonl\",\n",
    "        \"large_model_reference\": \"llama-2-7b\",\n",
    "        \"reward_model_train_steps\": 1410,\n",
    "        \"reinforcement_learning_train_steps\": 320,\n",
    "        \"reward_model_learning_rate_multiplier\": 1.0,\n",
    "        \"reinforcement_learning_rate_multiplier\": 1.0,\n",
    "        \"kl_coeff\": 0.1,\n",
    "        \"instruction\":\\\n",
    "    \"Summarize in less than 50 words\"}"
   ]
  },
  {
   "cell_type": "code",
   "execution_count": null,
   "id": "a572fe0a676bdbb7",
   "metadata": {
    "ExecuteTime": {
     "end_time": "2024-07-09T09:24:52.596856Z",
     "start_time": "2024-07-09T09:24:51.923114Z"
    },
    "collapsed": false,
    "jupyter": {
     "outputs_hidden": false
    }
   },
   "outputs": [],
   "source": [
    "import json\n",
    "from utils import print_d\n",
    "import pandas as pd\n",
    "\n",
    "eval_tuned_path = 'eval_results_tuned.jsonl'\n",
    "eval_data_tuned = []\n",
    "\n",
    "with open(eval_tuned_path) as f:\n",
    "    for line in f:\n",
    "        eval_data_tuned.append(json.loads(line))"
   ]
  },
  {
   "cell_type": "code",
   "execution_count": null,
   "id": "64a564c54b59fc1c",
   "metadata": {
    "ExecuteTime": {
     "end_time": "2024-07-09T09:24:55.322120Z",
     "start_time": "2024-07-09T09:24:55.313974Z"
    },
    "collapsed": false,
    "jupyter": {
     "outputs_hidden": false
    }
   },
   "outputs": [],
   "source": [
    "print_d(eval_data_tuned[0])\n",
    "eval_untuned_path = 'eval_results_untuned.jsonl'\n",
    "eval_data_untuned = []\n",
    "\n",
    "with open(eval_untuned_path) as f:\n",
    "    for line in f:\n",
    "        eval_data_untuned.append(json.loads(line))\n",
    "        \n",
    "print_d(eval_data_untuned[0])"
   ]
  },
  {
   "cell_type": "markdown",
   "id": "bbb64027b7020118",
   "metadata": {
    "collapsed": false,
    "jupyter": {
     "outputs_hidden": false
    }
   },
   "source": [
    "## Explore the results side by side in a dataframe"
   ]
  },
  {
   "cell_type": "code",
   "execution_count": null,
   "id": "41ecfd1012284248",
   "metadata": {
    "ExecuteTime": {
     "end_time": "2024-07-09T09:25:01.070804Z",
     "start_time": "2024-07-09T09:25:01.063049Z"
    },
    "collapsed": false,
    "jupyter": {
     "outputs_hidden": false
    }
   },
   "outputs": [],
   "source": [
    "# Extract all the prompts\n",
    "prompts = [sample['inputs']['inputs_pretokenized']\n",
    "           for sample in eval_data_tuned]"
   ]
  },
  {
   "cell_type": "code",
   "execution_count": null,
   "id": "4e1bb917626c8115",
   "metadata": {
    "ExecuteTime": {
     "end_time": "2024-07-09T09:25:01.812357Z",
     "start_time": "2024-07-09T09:25:01.809791Z"
    },
    "collapsed": false,
    "jupyter": {
     "outputs_hidden": false
    }
   },
   "outputs": [],
   "source": [
    "untuned_completions = [sample['prediction']\n",
    "                       for sample in eval_data_untuned]"
   ]
  },
  {
   "cell_type": "code",
   "execution_count": null,
   "id": "859b2a136bdc40b2",
   "metadata": {
    "ExecuteTime": {
     "end_time": "2024-07-09T09:25:04.385862Z",
     "start_time": "2024-07-09T09:25:04.377888Z"
    },
    "collapsed": false,
    "jupyter": {
     "outputs_hidden": false
    }
   },
   "outputs": [],
   "source": [
    "tuned_completions = [sample['prediction']\n",
    "                     for sample in eval_data_tuned]"
   ]
  },
  {
   "cell_type": "code",
   "execution_count": null,
   "id": "655803fb5addd599",
   "metadata": {
    "ExecuteTime": {
     "end_time": "2024-07-09T08:04:48.871283Z",
     "start_time": "2024-07-09T08:04:48.861703Z"
    },
    "collapsed": false,
    "jupyter": {
     "outputs_hidden": false
    }
   },
   "outputs": [],
   "source": [
    "results = pd.DataFrame(\n",
    "    data={'prompt': prompts,\n",
    "          'base_model':untuned_completions,\n",
    "          'tuned_model': tuned_completions})"
   ]
  }
 ],
 "metadata": {
  "kernelspec": {
   "display_name": "Python (lab 31)",
   "language": "python",
   "name": "31"
  },
  "language_info": {
   "codemirror_mode": {
    "name": "ipython",
    "version": 3
   },
   "file_extension": ".py",
   "mimetype": "text/x-python",
   "name": "python",
   "nbconvert_exporter": "python",
   "pygments_lexer": "ipython3",
   "version": "3.10.14"
  }
 },
 "nbformat": 4,
 "nbformat_minor": 5
}
