{
 "cells": [
  {
   "cell_type": "markdown",
   "source": [
    "# Instruction-tuning"
   ],
   "metadata": {
    "collapsed": false
   },
   "id": "f1849fef41cccda8"
  },
  {
   "cell_type": "code",
   "outputs": [],
   "source": [
    "import warnings\n",
    "\n",
    "warnings.filterwarnings(\"ignore\", category=UserWarning)"
   ],
   "metadata": {
    "collapsed": false
   },
   "id": "e0ee055427816c5c",
   "execution_count": null
  },
  {
   "cell_type": "code",
   "outputs": [],
   "source": [
    "import itertools\n",
    "import jsonlines\n",
    "\n",
    "from datasets import load_dataset\n",
    "from pprint import pprint"
   ],
   "metadata": {
    "collapsed": false
   },
   "id": "3a0e52329eef9fa4",
   "execution_count": null
  },
  {
   "cell_type": "markdown",
   "source": [
    "## Load instruction tuned dataset"
   ],
   "metadata": {
    "collapsed": false
   },
   "id": "13d4a7cece899fb2"
  },
  {
   "cell_type": "code",
   "outputs": [],
   "source": [
    "instruction_tuned_dataset = load_dataset(\"tatsu-lab/alpaca\", split=\"train\", streaming=True)"
   ],
   "metadata": {
    "collapsed": false
   },
   "id": "3b2c0bb89a714400",
   "execution_count": null
  },
  {
   "cell_type": "code",
   "outputs": [],
   "source": [
    "m = 5\n",
    "print(\"Instruction-tuned dataset:\")\n",
    "top_m = list(itertools.islice(instruction_tuned_dataset, m))\n",
    "for j in top_m:\n",
    "    print(j)"
   ],
   "metadata": {
    "collapsed": false
   },
   "id": "e50707c6ee6fd872",
   "execution_count": null
  },
  {
   "cell_type": "markdown",
   "source": [
    "## Two prompt template"
   ],
   "metadata": {
    "collapsed": false
   },
   "id": "a3f3ecf7c3df6e3a"
  },
  {
   "cell_type": "code",
   "outputs": [],
   "source": [
    "prompt_template_with_input = \"\"\"Below is an instruction that describes a task, paired with an input that provides further context. Write a response that appropriately completes the request.\n",
    "\n",
    "### Instruction:\n",
    "{instruction}\n",
    "\n",
    "### Input:\n",
    "{input}\n",
    "\n",
    "### Response:\"\"\"\n",
    "\n",
    "prompt_template_without_input = \"\"\"Below is an instruction that describes a task. Write a response that appropriately completes the request.\n",
    "\n",
    "### Instruction:\n",
    "{instruction}\n",
    "\n",
    "### Response:\"\"\""
   ],
   "metadata": {
    "collapsed": false
   },
   "id": "b56dc718791afa79",
   "execution_count": null
  },
  {
   "cell_type": "markdown",
   "source": [
    "## Hydrate prompts (add data to prompts)"
   ],
   "metadata": {
    "collapsed": false
   },
   "id": "1aa10b64063c5c8f"
  },
  {
   "cell_type": "code",
   "outputs": [],
   "source": [
    "processed_data = []\n",
    "for j in top_m:\n",
    "    if not j[\"input\"]:\n",
    "        processed_prompt = prompt_template_without_input.format(instruction=j[\"instruction\"])\n",
    "    else:\n",
    "        processed_prompt = prompt_template_with_input.format(instruction=j[\"instruction\"], input=j[\"input\"])\n",
    "\n",
    "    processed_data.append({\"input\": processed_prompt, \"output\": j[\"output\"]})\n"
   ],
   "metadata": {
    "collapsed": false
   },
   "id": "35b612502334d6e2",
   "execution_count": null
  },
  {
   "cell_type": "code",
   "outputs": [],
   "source": [
    "pprint(processed_data[0])"
   ],
   "metadata": {
    "collapsed": false
   },
   "id": "e6e6de427bd5c5c4",
   "execution_count": null
  },
  {
   "cell_type": "markdown",
   "source": [
    "## Save data to jsonl"
   ],
   "metadata": {
    "collapsed": false
   },
   "id": "6237770a17092137"
  },
  {
   "cell_type": "code",
   "outputs": [],
   "source": [
    "with jsonlines.open(f'alpaca_processed.jsonl', 'w') as writer:\n",
    "    writer.write_all(processed_data)"
   ],
   "metadata": {
    "collapsed": false
   },
   "id": "81cff308e1bcbeee",
   "execution_count": null
  },
  {
   "cell_type": "markdown",
   "source": [
    "## Compare non-instruction-tuned vs. instruction-tuned models"
   ],
   "metadata": {
    "collapsed": false
   },
   "id": "80d135a3fafdf4ee"
  },
  {
   "cell_type": "code",
   "outputs": [],
   "source": [
    "dataset_path_hf = \"lamini/alpaca\"\n",
    "dataset_hf = load_dataset(dataset_path_hf)\n",
    "print(dataset_hf)"
   ],
   "metadata": {
    "collapsed": false
   },
   "id": "d6577c77e7de3601",
   "execution_count": null
  },
  {
   "cell_type": "code",
   "outputs": [],
   "source": [
    "import lamini\n",
    "import os\n",
    "from dotenv import load_dotenv\n",
    "\n",
    "load_dotenv()\n",
    "\n",
    "lamini.api_key = os.environ['LAMINI_API_KEY']\n",
    "llm = lamini.Lamini(\"meta-llama/Llama-2-7b-hf\")\n",
    "\n",
    "non_instruct_output = llm.generate(\"Tell me how to train my dog to sit\")\n",
    "\n",
    "print(\"Not instruction-tuned output (Llama 2 Base):\", non_instruct_output)"
   ],
   "metadata": {
    "collapsed": false
   },
   "id": "3fb0d8be2ce0c70c",
   "execution_count": null
  },
  {
   "cell_type": "code",
   "outputs": [],
   "source": [
    "non_instruct_output = llm.generate(\"Tell me how to train my dog to sit\")\n",
    "print(\"Not instruction-tuned output (Llama 2 Base):\", non_instruct_output)"
   ],
   "metadata": {
    "collapsed": false
   },
   "id": "66d89d06eee7485a",
   "execution_count": null
  },
  {
   "cell_type": "markdown",
   "source": [
    "## Try small models"
   ],
   "metadata": {
    "collapsed": false
   },
   "id": "4fb0b6f40d782ed8"
  },
  {
   "cell_type": "code",
   "outputs": [],
   "source": [
    "def inference(text, model, tokenizer, max_input_tokens=1000, max_output_tokens=100):\n",
    "  # Tokenize\n",
    "  input_ids = tokenizer.encode(\n",
    "          text,\n",
    "          return_tensors=\"pt\",\n",
    "          truncation=True,\n",
    "          max_length=max_input_tokens\n",
    "  )\n",
    "\n",
    "  # Generate\n",
    "  device = model.device\n",
    "  generated_tokens_with_prompt = model.generate(\n",
    "    input_ids=input_ids.to(device),\n",
    "    max_length=max_output_tokens\n",
    "  )\n",
    "\n",
    "  # Decode\n",
    "  generated_text_with_prompt = tokenizer.batch_decode(generated_tokens_with_prompt, skip_special_tokens=True)\n",
    "\n",
    "  # Strip the prompt\n",
    "  generated_text_answer = generated_text_with_prompt[0][len(text):]\n",
    "\n",
    "  return generated_text_answer"
   ],
   "metadata": {
    "collapsed": false
   },
   "id": "5c9a497e021a3ded",
   "execution_count": null
  },
  {
   "cell_type": "code",
   "outputs": [],
   "source": [
    "from transformers import AutoModelForCausalLM\n",
    "from transformers import AutoTokenizer\n",
    "\n",
    "tokenizer = AutoTokenizer.from_pretrained(\"EleutherAI/pythia-70m\")\n",
    "model = AutoModelForCausalLM.from_pretrained(\"EleutherAI/pythia-70m\")"
   ],
   "metadata": {
    "collapsed": false
   },
   "id": "72c3be87dddaadb2",
   "execution_count": null
  },
  {
   "cell_type": "code",
   "outputs": [],
   "source": [
    "finetuning_dataset_path = \"lamini/lamini_docs\"\n",
    "finetuning_dataset = load_dataset(finetuning_dataset_path)\n",
    "print(finetuning_dataset)"
   ],
   "metadata": {
    "collapsed": false
   },
   "id": "6cfa42655123f9cd",
   "execution_count": null
  },
  {
   "cell_type": "code",
   "outputs": [],
   "source": [
    "test_sample = finetuning_dataset[\"test\"][0]\n",
    "print(test_sample)"
   ],
   "metadata": {
    "collapsed": false
   },
   "id": "ad4b23804d19ff91",
   "execution_count": null
  },
  {
   "cell_type": "markdown",
   "source": [
    "## Compare to finetuned small model"
   ],
   "metadata": {
    "collapsed": false
   },
   "id": "d3aaa1a931c68770"
  },
  {
   "cell_type": "code",
   "outputs": [],
   "source": [
    "instruction_model = AutoModelForCausalLM.from_pretrained(\"lamini/lamini_docs_finetuned\")"
   ],
   "metadata": {
    "collapsed": false
   },
   "id": "2c7373f68df612fe",
   "execution_count": null
  },
  {
   "cell_type": "code",
   "outputs": [],
   "source": [
    "print(inference(test_sample[\"question\"], instruction_model, tokenizer))"
   ],
   "metadata": {
    "collapsed": false
   },
   "id": "13715382260c6694",
   "execution_count": null
  }
 ],
 "metadata": {
  "kernelspec": {
   "display_name": "Python 3",
   "language": "python",
   "name": "python3"
  },
  "language_info": {
   "codemirror_mode": {
    "name": "ipython",
    "version": 2
   },
   "file_extension": ".py",
   "mimetype": "text/x-python",
   "name": "python",
   "nbconvert_exporter": "python",
   "pygments_lexer": "ipython2",
   "version": "2.7.6"
  }
 },
 "nbformat": 4,
 "nbformat_minor": 5
}
