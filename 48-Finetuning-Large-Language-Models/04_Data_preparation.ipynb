{
 "cells": [
  {
   "cell_type": "markdown",
   "source": [
    "# Data preparation"
   ],
   "metadata": {
    "collapsed": false
   },
   "id": "8787fefabfef67f8"
  },
  {
   "cell_type": "code",
   "outputs": [],
   "source": [
    "import datasets\n",
    "from transformers import AutoTokenizer"
   ],
   "metadata": {
    "collapsed": false,
    "ExecuteTime": {
     "end_time": "2024-08-20T09:52:05.972115Z",
     "start_time": "2024-08-20T09:52:05.964962Z"
    }
   },
   "id": "7a1ed739cd5cb04d",
   "execution_count": 30
  },
  {
   "cell_type": "markdown",
   "source": [
    "# Tokenizing text"
   ],
   "metadata": {
    "collapsed": false
   },
   "id": "e14174cda2cdf709"
  },
  {
   "cell_type": "code",
   "outputs": [],
   "source": [
    "tokenizer=AutoTokenizer.from_pretrained(\"EleutherAI/pythia-70m\")"
   ],
   "metadata": {
    "collapsed": false
   },
   "id": "b7d5f7f8e174ef57",
   "execution_count": null
  },
  {
   "cell_type": "code",
   "outputs": [],
   "source": [
    "text=\"Hi, how are you?\"\n",
    "encoded_text=tokenizer(text)[\"input_ids\"]\n",
    "encoded_text"
   ],
   "metadata": {
    "collapsed": false
   },
   "id": "603c91e485d5172d",
   "execution_count": null
  },
  {
   "cell_type": "code",
   "outputs": [],
   "source": [
    "decode_text=tokenizer.decode(encoded_text)\n",
    "print(decode_text)"
   ],
   "metadata": {
    "collapsed": false
   },
   "id": "49252a35ac266c1d",
   "execution_count": null
  },
  {
   "cell_type": "markdown",
   "source": [
    "# Tokenize multiple texts at once"
   ],
   "metadata": {
    "collapsed": false
   },
   "id": "88621442080b0d88"
  },
  {
   "cell_type": "code",
   "outputs": [],
   "source": [
    "list_texts=[\"Hi how are you?\",\"I am good\",\"Yes\"]\n",
    "encoded_text=tokenizer(list_texts)[\"input_ids\"]\n",
    "encoded_text"
   ],
   "metadata": {
    "collapsed": false
   },
   "id": "a8144630ec306208",
   "execution_count": null
  },
  {
   "cell_type": "markdown",
   "source": [
    "# Padding and truncation"
   ],
   "metadata": {
    "collapsed": false
   },
   "id": "8f1916e21da91ef3"
  },
  {
   "cell_type": "code",
   "outputs": [],
   "source": [
    "tokenizer.pad_token=tokenizer.eos_token\n",
    "encoded_text_longest=tokenizer(list_texts,padding=True)\n",
    "print(encoded_text_longest[\"input_ids\"])"
   ],
   "metadata": {
    "collapsed": false
   },
   "id": "d9d863440ff65ce1",
   "execution_count": null
  },
  {
   "cell_type": "code",
   "outputs": [],
   "source": [
    "encoded_texts_truncation = tokenizer(list_texts, max_length=3, truncation=True)\n",
    "print(\"Using truncation: \", encoded_texts_truncation[\"input_ids\"])"
   ],
   "metadata": {
    "collapsed": false
   },
   "id": "e55e0b634bb1562e",
   "execution_count": null
  },
  {
   "cell_type": "code",
   "outputs": [],
   "source": [
    "tokenizer.truncation_side = \"left\"\n",
    "encoded_texts_truncation_left = tokenizer(list_texts, max_length=3, truncation=True)\n",
    "print(\"Using left-side truncation: \", encoded_texts_truncation_left[\"input_ids\"])"
   ],
   "metadata": {
    "collapsed": false
   },
   "id": "c5551a2a40f0fdbd",
   "execution_count": null
  },
  {
   "cell_type": "code",
   "outputs": [],
   "source": [
    "encoded_texts_both = tokenizer(list_texts, max_length=3, truncation=True, padding=True)\n",
    "print(\"Using both padding and truncation: \", encoded_texts_both[\"input_ids\"])"
   ],
   "metadata": {
    "collapsed": false
   },
   "id": "95adbc3c0c57e444",
   "execution_count": null
  },
  {
   "cell_type": "markdown",
   "source": [
    "# Prepare instruction dataset"
   ],
   "metadata": {
    "collapsed": false
   },
   "id": "79997db1d1ed2fff"
  },
  {
   "cell_type": "code",
   "outputs": [],
   "source": [
    "import pandas as pd\n",
    "\n",
    "filename=\"lamini_docs.jsonl\"\n",
    "instruction_dataset_df=pd.read_json(filename, lines=True)\n",
    "examples=instruction_dataset_df.to_dict()\n",
    "\n",
    "if \"question\" in examples and \"answer\" in examples:\n",
    "  text = examples[\"question\"][0] + examples[\"answer\"][0]\n",
    "elif \"instruction\" in examples and \"response\" in examples:\n",
    "  text = examples[\"instruction\"][0] + examples[\"response\"][0]\n",
    "elif \"input\" in examples and \"output\" in examples:\n",
    "  text = examples[\"input\"][0] + examples[\"output\"][0]\n",
    "else:\n",
    "  text = examples[\"text\"][0]\n",
    "\n",
    "prompt_template = \"\"\"### Question:\n",
    "{question}\n",
    "\n",
    "### Answer:\"\"\"\n",
    "\n",
    "num_examples = len(examples[\"question\"])\n",
    "finetuning_dataset = []\n",
    "for i in range(num_examples):\n",
    "  question = examples[\"question\"][i]\n",
    "  answer = examples[\"answer\"][i]\n",
    "  text_with_prompt_template = prompt_template.format(question=question)\n",
    "  finetuning_dataset.append({\"question\": text_with_prompt_template, \"answer\": answer})\n",
    "\n",
    "from pprint import pprint\n",
    "print(\"One datapoint in the finetuning dataset:\")\n",
    "pprint(finetuning_dataset[0])"
   ],
   "metadata": {
    "collapsed": false
   },
   "id": "a4085a39ec12c37e",
   "execution_count": null
  },
  {
   "cell_type": "markdown",
   "source": [
    "# Tokenize a single example"
   ],
   "metadata": {
    "collapsed": false
   },
   "id": "64e0a0bf8ca9bb44"
  },
  {
   "cell_type": "code",
   "outputs": [],
   "source": [
    "text = finetuning_dataset[0][\"question\"] + finetuning_dataset[0][\"answer\"]\n",
    "tokenized_inputs = tokenizer(\n",
    "    text,\n",
    "    return_tensors=\"np\",\n",
    "    padding=True\n",
    ")\n",
    "print(tokenized_inputs[\"input_ids\"])\n",
    "max_length = 2048\n",
    "max_length = min(\n",
    "    tokenized_inputs[\"input_ids\"].shape[1],\n",
    "    max_length,\n",
    ")\n",
    "tokenized_inputs = tokenizer(\n",
    "    text,\n",
    "    return_tensors=\"np\",\n",
    "    truncation=True,\n",
    "    max_length=max_length\n",
    ")\n",
    "tokenized_inputs[\"input_ids\"]\n"
   ],
   "metadata": {
    "collapsed": false
   },
   "id": "7066e5bce762d5e2",
   "execution_count": null
  },
  {
   "cell_type": "code",
   "outputs": [],
   "source": [
    "#Tokenize the instruction dataset\n",
    "def tokenize_function(examples):\n",
    "    if \"question\" in examples and \"answer\" in examples:\n",
    "      text = examples[\"question\"][0] + examples[\"answer\"][0]\n",
    "    elif \"input\" in examples and \"output\" in examples:\n",
    "      text = examples[\"input\"][0] + examples[\"output\"][0]\n",
    "    else:\n",
    "      text = examples[\"text\"][0]\n",
    "\n",
    "    tokenizer.pad_token = tokenizer.eos_token\n",
    "    tokenized_inputs = tokenizer(\n",
    "        text,\n",
    "        return_tensors=\"np\",\n",
    "        padding=True,\n",
    "    )\n",
    "\n",
    "    max_length = min(\n",
    "        tokenized_inputs[\"input_ids\"].shape[1],\n",
    "        2048\n",
    "    )\n",
    "    tokenizer.truncation_side = \"left\"\n",
    "    tokenized_inputs = tokenizer(\n",
    "        text,\n",
    "        return_tensors=\"np\",\n",
    "        truncation=True,\n",
    "        max_length=max_length\n",
    "    )\n",
    "\n",
    "    return tokenized_inputs\n",
    "finetuning_dataset_loaded = datasets.load_dataset(\"json\", data_files=filename, split=\"train\")\n",
    "\n",
    "tokenized_dataset = finetuning_dataset_loaded.map(\n",
    "    tokenize_function,\n",
    "    batched=True,\n",
    "    batch_size=1,\n",
    "    drop_last_batch=True\n",
    ")\n",
    "\n",
    "print(tokenized_dataset)\n",
    "tokenized_dataset = tokenized_dataset.add_column(\"labels\", tokenized_dataset[\"input_ids\"])"
   ],
   "metadata": {
    "collapsed": false
   },
   "id": "82e276d146b0edf1",
   "execution_count": null
  },
  {
   "cell_type": "code",
   "outputs": [],
   "source": [
    "finetuning_dataset_loaded = datasets.load_dataset(\"json\", data_files=filename, split=\"train\")\n",
    "\n",
    "tokenized_dataset=finetuning_dataset_loaded.map(\n",
    "    tokenize_function,\n",
    "    batched=True,\n",
    "    batch_size=1,\n",
    "    drop_last_batch=True\n",
    ")\n",
    "print(tokenized_dataset)"
   ],
   "metadata": {
    "collapsed": false
   },
   "id": "e3a278c3d05b766a",
   "execution_count": null
  },
  {
   "cell_type": "code",
   "outputs": [],
   "source": [
    "tokenized_dataset = tokenized_dataset.add_column(\"labels\",tokenized_dataset[\"input_ids\"])"
   ],
   "metadata": {
    "collapsed": false
   },
   "id": "b4dd0412e3fc895",
   "execution_count": null
  },
  {
   "cell_type": "markdown",
   "source": [
    "# Prepare test"
   ],
   "metadata": {
    "collapsed": false
   },
   "id": "997175a49ffd2f57"
  },
  {
   "cell_type": "code",
   "outputs": [],
   "source": [
    "split_dataset = tokenized_dataset.train_test_split(test_size=0.1, shuffle=True, seed=123)\n",
    "print(split_dataset)"
   ],
   "metadata": {
    "collapsed": false
   },
   "id": "de405209943cf87d",
   "execution_count": null
  },
  {
   "cell_type": "code",
   "outputs": [],
   "source": [
    "finetuning_dataset_path = \"lamini/lamini_docs\"\n",
    "finetuning_dataset = datasets.load_dataset(finetuning_dataset_path)\n",
    "print(finetuning_dataset)"
   ],
   "metadata": {
    "collapsed": false
   },
   "id": "aecfe015fbdc4a09",
   "execution_count": null
  },
  {
   "cell_type": "code",
   "outputs": [],
   "source": [
    "taylor_swift_dataset = \"lamini/taylor_swift\"\n",
    "bts_dataset = \"lamini/bts\"\n",
    "open_llms = \"lamini/open_llms\""
   ],
   "metadata": {
    "collapsed": false
   },
   "id": "68d7fae3fbb47984",
   "execution_count": null
  },
  {
   "cell_type": "code",
   "outputs": [],
   "source": [
    "dataset_swiftie = datasets.load_dataset(taylor_swift_dataset)\n",
    "print(dataset_swiftie[\"train\"][1])"
   ],
   "metadata": {
    "collapsed": false
   },
   "id": "7d8182292c1495a",
   "execution_count": null
  },
  {
   "cell_type": "code",
   "outputs": [],
   "source": [
    "# This is how to push your own dataset to your Huggingface hub\n",
    "# !pip install huggingface_hub\n",
    "# !huggingface-cli login\n",
    "# split_dataset.push_to_hub(dataset_path_hf)"
   ],
   "metadata": {
    "collapsed": false
   },
   "id": "ecb5d786f5d36164"
  }
 ],
 "metadata": {
  "kernelspec": {
   "display_name": "Python 3",
   "language": "python",
   "name": "python3"
  },
  "language_info": {
   "codemirror_mode": {
    "name": "ipython",
    "version": 2
   },
   "file_extension": ".py",
   "mimetype": "text/x-python",
   "name": "python",
   "nbconvert_exporter": "python",
   "pygments_lexer": "ipython2",
   "version": "2.7.6"
  }
 },
 "nbformat": 4,
 "nbformat_minor": 5
}
