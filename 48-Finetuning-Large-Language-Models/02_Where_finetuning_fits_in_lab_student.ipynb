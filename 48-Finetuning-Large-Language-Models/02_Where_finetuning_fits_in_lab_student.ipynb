{
 "cells": [
  {
   "cell_type": "markdown",
   "source": [
    "# Finetuning data: compare to pretraining and basic preparation"
   ],
   "metadata": {
    "collapsed": false
   },
   "id": "6e2f7c2ac3d23eb6"
  },
  {
   "cell_type": "code",
   "outputs": [
    {
     "ename": "AttributeError",
     "evalue": "partially initialized module 'datasets' has no attribute 'utils' (most likely due to a circular import)",
     "output_type": "error",
     "traceback": [
      "\u001B[0;31m---------------------------------------------------------------------------\u001B[0m",
      "\u001B[0;31mAttributeError\u001B[0m                            Traceback (most recent call last)",
      "Cell \u001B[0;32mIn[3], line 1\u001B[0m\n\u001B[0;32m----> 1\u001B[0m \u001B[38;5;28;01mimport\u001B[39;00m \u001B[38;5;21;01mdatasets\u001B[39;00m\n\u001B[1;32m      2\u001B[0m \u001B[38;5;28;01mimport\u001B[39;00m \u001B[38;5;21;01mitertools\u001B[39;00m\n\u001B[1;32m      3\u001B[0m \u001B[38;5;28;01mfrom\u001B[39;00m \u001B[38;5;21;01mdatasets\u001B[39;00m \u001B[38;5;28;01mimport\u001B[39;00m load_dataset\n",
      "File \u001B[0;32m~/PycharmProjects/48-Finetuning-Large-Language-Models/lib/python3.12/site-packages/datasets/__init__.py:26\u001B[0m\n\u001B[1;32m     24\u001B[0m \u001B[38;5;28;01mfrom\u001B[39;00m \u001B[38;5;21;01m.\u001B[39;00m\u001B[38;5;21;01mfingerprint\u001B[39;00m \u001B[38;5;28;01mimport\u001B[39;00m disable_caching, enable_caching, is_caching_enabled, set_caching_enabled\n\u001B[1;32m     25\u001B[0m \u001B[38;5;28;01mfrom\u001B[39;00m \u001B[38;5;21;01m.\u001B[39;00m\u001B[38;5;21;01minfo\u001B[39;00m \u001B[38;5;28;01mimport\u001B[39;00m DatasetInfo, MetricInfo\n\u001B[0;32m---> 26\u001B[0m \u001B[38;5;28;01mfrom\u001B[39;00m \u001B[38;5;21;01m.\u001B[39;00m\u001B[38;5;21;01minspect\u001B[39;00m \u001B[38;5;28;01mimport\u001B[39;00m (\n\u001B[1;32m     27\u001B[0m     get_dataset_config_info,\n\u001B[1;32m     28\u001B[0m     get_dataset_config_names,\n\u001B[1;32m     29\u001B[0m     get_dataset_default_config_name,\n\u001B[1;32m     30\u001B[0m     get_dataset_infos,\n\u001B[1;32m     31\u001B[0m     get_dataset_split_names,\n\u001B[1;32m     32\u001B[0m     inspect_dataset,\n\u001B[1;32m     33\u001B[0m     inspect_metric,\n\u001B[1;32m     34\u001B[0m     list_datasets,\n\u001B[1;32m     35\u001B[0m     list_metrics,\n\u001B[1;32m     36\u001B[0m )\n\u001B[1;32m     37\u001B[0m \u001B[38;5;28;01mfrom\u001B[39;00m \u001B[38;5;21;01m.\u001B[39;00m\u001B[38;5;21;01miterable_dataset\u001B[39;00m \u001B[38;5;28;01mimport\u001B[39;00m IterableDataset\n\u001B[1;32m     38\u001B[0m \u001B[38;5;28;01mfrom\u001B[39;00m \u001B[38;5;21;01m.\u001B[39;00m\u001B[38;5;21;01mload\u001B[39;00m \u001B[38;5;28;01mimport\u001B[39;00m load_dataset, load_dataset_builder, load_from_disk, load_metric\n",
      "File \u001B[0;32m~/PycharmProjects/48-Finetuning-Large-Language-Models/lib/python3.12/site-packages/datasets/inspect.py:32\u001B[0m\n\u001B[1;32m     30\u001B[0m \u001B[38;5;28;01mfrom\u001B[39;00m \u001B[38;5;21;01m.\u001B[39;00m\u001B[38;5;21;01mdownload\u001B[39;00m\u001B[38;5;21;01m.\u001B[39;00m\u001B[38;5;21;01mstreaming_download_manager\u001B[39;00m \u001B[38;5;28;01mimport\u001B[39;00m StreamingDownloadManager\n\u001B[1;32m     31\u001B[0m \u001B[38;5;28;01mfrom\u001B[39;00m \u001B[38;5;21;01m.\u001B[39;00m\u001B[38;5;21;01minfo\u001B[39;00m \u001B[38;5;28;01mimport\u001B[39;00m DatasetInfo\n\u001B[0;32m---> 32\u001B[0m \u001B[38;5;28;01mfrom\u001B[39;00m \u001B[38;5;21;01m.\u001B[39;00m\u001B[38;5;21;01mload\u001B[39;00m \u001B[38;5;28;01mimport\u001B[39;00m (\n\u001B[1;32m     33\u001B[0m     dataset_module_factory,\n\u001B[1;32m     34\u001B[0m     get_dataset_builder_class,\n\u001B[1;32m     35\u001B[0m     import_main_class,\n\u001B[1;32m     36\u001B[0m     load_dataset_builder,\n\u001B[1;32m     37\u001B[0m     metric_module_factory,\n\u001B[1;32m     38\u001B[0m )\n\u001B[1;32m     39\u001B[0m \u001B[38;5;28;01mfrom\u001B[39;00m \u001B[38;5;21;01m.\u001B[39;00m\u001B[38;5;21;01mutils\u001B[39;00m\u001B[38;5;21;01m.\u001B[39;00m\u001B[38;5;21;01mdeprecation_utils\u001B[39;00m \u001B[38;5;28;01mimport\u001B[39;00m deprecated\n\u001B[1;32m     40\u001B[0m \u001B[38;5;28;01mfrom\u001B[39;00m \u001B[38;5;21;01m.\u001B[39;00m\u001B[38;5;21;01mutils\u001B[39;00m\u001B[38;5;21;01m.\u001B[39;00m\u001B[38;5;21;01mfile_utils\u001B[39;00m \u001B[38;5;28;01mimport\u001B[39;00m relative_to_absolute_path\n",
      "File \u001B[0;32m~/PycharmProjects/48-Finetuning-Large-Language-Models/lib/python3.12/site-packages/datasets/load.py:67\u001B[0m\n\u001B[1;32m     65\u001B[0m \u001B[38;5;28;01mfrom\u001B[39;00m \u001B[38;5;21;01m.\u001B[39;00m\u001B[38;5;21;01mmetric\u001B[39;00m \u001B[38;5;28;01mimport\u001B[39;00m Metric\n\u001B[1;32m     66\u001B[0m \u001B[38;5;28;01mfrom\u001B[39;00m \u001B[38;5;21;01m.\u001B[39;00m\u001B[38;5;21;01mnaming\u001B[39;00m \u001B[38;5;28;01mimport\u001B[39;00m camelcase_to_snakecase, snakecase_to_camelcase\n\u001B[0;32m---> 67\u001B[0m \u001B[38;5;28;01mfrom\u001B[39;00m \u001B[38;5;21;01m.\u001B[39;00m\u001B[38;5;21;01mpackaged_modules\u001B[39;00m \u001B[38;5;28;01mimport\u001B[39;00m (\n\u001B[1;32m     68\u001B[0m     _EXTENSION_TO_MODULE,\n\u001B[1;32m     69\u001B[0m     _MODULE_SUPPORTS_METADATA,\n\u001B[1;32m     70\u001B[0m     _MODULE_TO_EXTENSIONS,\n\u001B[1;32m     71\u001B[0m     _PACKAGED_DATASETS_MODULES,\n\u001B[1;32m     72\u001B[0m     _hash_python_lines,\n\u001B[1;32m     73\u001B[0m )\n\u001B[1;32m     74\u001B[0m \u001B[38;5;28;01mfrom\u001B[39;00m \u001B[38;5;21;01m.\u001B[39;00m\u001B[38;5;21;01msplits\u001B[39;00m \u001B[38;5;28;01mimport\u001B[39;00m Split\n\u001B[1;32m     75\u001B[0m \u001B[38;5;28;01mfrom\u001B[39;00m \u001B[38;5;21;01m.\u001B[39;00m\u001B[38;5;21;01mutils\u001B[39;00m \u001B[38;5;28;01mimport\u001B[39;00m _dataset_viewer\n",
      "File \u001B[0;32m~/PycharmProjects/48-Finetuning-Large-Language-Models/lib/python3.12/site-packages/datasets/packaged_modules/__init__.py:7\u001B[0m\n\u001B[1;32m      3\u001B[0m \u001B[38;5;28;01mfrom\u001B[39;00m \u001B[38;5;21;01mtyping\u001B[39;00m \u001B[38;5;28;01mimport\u001B[39;00m Dict, List, Tuple\n\u001B[1;32m      5\u001B[0m \u001B[38;5;28;01mfrom\u001B[39;00m \u001B[38;5;21;01mhuggingface_hub\u001B[39;00m\u001B[38;5;21;01m.\u001B[39;00m\u001B[38;5;21;01mutils\u001B[39;00m \u001B[38;5;28;01mimport\u001B[39;00m insecure_hashlib\n\u001B[0;32m----> 7\u001B[0m \u001B[38;5;28;01mfrom\u001B[39;00m \u001B[38;5;21;01m.\u001B[39;00m\u001B[38;5;21;01marrow\u001B[39;00m \u001B[38;5;28;01mimport\u001B[39;00m arrow\n\u001B[1;32m      8\u001B[0m \u001B[38;5;28;01mfrom\u001B[39;00m \u001B[38;5;21;01m.\u001B[39;00m\u001B[38;5;21;01maudiofolder\u001B[39;00m \u001B[38;5;28;01mimport\u001B[39;00m audiofolder\n\u001B[1;32m      9\u001B[0m \u001B[38;5;28;01mfrom\u001B[39;00m \u001B[38;5;21;01m.\u001B[39;00m\u001B[38;5;21;01mcache\u001B[39;00m \u001B[38;5;28;01mimport\u001B[39;00m cache\n",
      "File \u001B[0;32m~/PycharmProjects/48-Finetuning-Large-Language-Models/lib/python3.12/site-packages/datasets/packaged_modules/arrow/arrow.py:11\u001B[0m\n\u001B[1;32m      7\u001B[0m \u001B[38;5;28;01mimport\u001B[39;00m \u001B[38;5;21;01mdatasets\u001B[39;00m\n\u001B[1;32m      8\u001B[0m \u001B[38;5;28;01mfrom\u001B[39;00m \u001B[38;5;21;01mdatasets\u001B[39;00m\u001B[38;5;21;01m.\u001B[39;00m\u001B[38;5;21;01mtable\u001B[39;00m \u001B[38;5;28;01mimport\u001B[39;00m table_cast\n\u001B[0;32m---> 11\u001B[0m logger \u001B[38;5;241m=\u001B[39m \u001B[43mdatasets\u001B[49m\u001B[38;5;241;43m.\u001B[39;49m\u001B[43mutils\u001B[49m\u001B[38;5;241m.\u001B[39mlogging\u001B[38;5;241m.\u001B[39mget_logger(\u001B[38;5;18m__name__\u001B[39m)\n\u001B[1;32m     14\u001B[0m \u001B[38;5;129m@dataclass\u001B[39m\n\u001B[1;32m     15\u001B[0m \u001B[38;5;28;01mclass\u001B[39;00m \u001B[38;5;21;01mArrowConfig\u001B[39;00m(datasets\u001B[38;5;241m.\u001B[39mBuilderConfig):\n\u001B[1;32m     16\u001B[0m \u001B[38;5;250m    \u001B[39m\u001B[38;5;124;03m\"\"\"BuilderConfig for Arrow.\"\"\"\u001B[39;00m\n",
      "\u001B[0;31mAttributeError\u001B[0m: partially initialized module 'datasets' has no attribute 'utils' (most likely due to a circular import)"
     ]
    }
   ],
   "source": [
    "import datasets\n",
    "import itertools\n",
    "from datasets import load_dataset\n",
    "\n",
    "pretrained_dataset = load_dataset(\"c4\", \"en\", split=\"train\", streaming=True)"
   ],
   "metadata": {
    "collapsed": false,
    "ExecuteTime": {
     "end_time": "2024-08-19T13:22:56.395644Z",
     "start_time": "2024-08-19T13:22:55.796079Z"
    }
   },
   "id": "2525c3ed8e72d5e9",
   "execution_count": 3
  },
  {
   "cell_type": "code",
   "outputs": [],
   "source": [],
   "metadata": {
    "collapsed": false
   },
   "id": "11868eaa790780ef"
  }
 ],
 "metadata": {
  "kernelspec": {
   "display_name": "Python 3",
   "language": "python",
   "name": "python3"
  },
  "language_info": {
   "codemirror_mode": {
    "name": "ipython",
    "version": 2
   },
   "file_extension": ".py",
   "mimetype": "text/x-python",
   "name": "python",
   "nbconvert_exporter": "python",
   "pygments_lexer": "ipython2",
   "version": "2.7.6"
  }
 },
 "nbformat": 4,
 "nbformat_minor": 5
}
