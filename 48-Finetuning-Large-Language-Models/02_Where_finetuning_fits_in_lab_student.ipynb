{
 "cells": [
  {
   "cell_type": "markdown",
   "source": [
    "# Finetuning data: compare to pretraining and basic preparation"
   ],
   "metadata": {
    "collapsed": false
   },
   "id": "6e2f7c2ac3d23eb6"
  },
  {
   "cell_type": "code",
   "outputs": [],
   "source": [
    "from pprint import pprint\n",
    "\n",
    "import itertools\n",
    "from datasets import load_dataset\n",
    "\n",
    "pretrained_dataset = load_dataset(\"allenai/c4\", \"en\", split=\"train\", streaming=True)"
   ],
   "metadata": {
    "collapsed": false
   },
   "id": "2525c3ed8e72d5e9",
   "execution_count": null
  },
  {
   "cell_type": "code",
   "outputs": [],
   "source": [
    "n = 5\n",
    "print(\"Pretrained dataset:\")\n",
    "top_n = itertools.islice(pretrained_dataset, n)\n",
    "for i in top_n:\n",
    "    print(i)"
   ],
   "metadata": {
    "collapsed": false
   },
   "id": "11868eaa790780ef",
   "execution_count": null
  },
  {
   "cell_type": "code",
   "outputs": [],
   "source": [
    "import pandas as pd\n",
    "\n",
    "filename = \"lamini_docs.jsonl\"\n",
    "instruction_dataset_df = pd.read_json(filename, lines=True)\n",
    "instruction_dataset_df"
   ],
   "metadata": {
    "collapsed": false
   },
   "id": "3f4e8a417721c0f6",
   "execution_count": null
  },
  {
   "cell_type": "markdown",
   "source": [
    "## Ways to format data"
   ],
   "metadata": {
    "collapsed": false
   },
   "id": "83f690008eda896c"
  },
  {
   "cell_type": "code",
   "outputs": [],
   "source": [
    "examples = instruction_dataset_df.to_dict()\n",
    "text = examples[\"question\"][0] + examples[\"answer\"][0]\n",
    "text"
   ],
   "metadata": {
    "collapsed": false
   },
   "id": "4b055a8a172f8e49",
   "execution_count": null
  },
  {
   "cell_type": "code",
   "outputs": [],
   "source": [
    "if \"question\" in examples and \"answer\" in examples:\n",
    "    text = examples[\"question\"][0] + examples[\"answer\"][0]\n",
    "elif \"instruction\" in examples and \"response\" in examples:\n",
    "    text = examples[\"instruction\"][0] + examples[\"response\"][0]\n",
    "elif \"input\" in examples and \"output\" in examples:\n",
    "    text = examples[\"input\"][0] + examples[\"output\"][0]\n",
    "else:\n",
    "    text = examples[\"text\"][0]"
   ],
   "metadata": {
    "collapsed": false
   },
   "id": "73fc0dc2d9d736b6",
   "execution_count": null
  },
  {
   "cell_type": "code",
   "outputs": [],
   "source": [
    "prompt_template_qa=\"\"\"### Question:\n",
    "{question}\n",
    "\n",
    "### Answer:{answer}\"\"\""
   ],
   "metadata": {
    "collapsed": false
   },
   "id": "b8e6db9c175c1bf6",
   "execution_count": null
  },
  {
   "cell_type": "code",
   "outputs": [],
   "source": [
    "question=examples[\"question\"][0]\n",
    "answer=examples[\"answer\"][0]\n",
    "\n",
    "text_with_prompt_template=prompt_template_qa.format(question=question, answer=answer)\n",
    "text_with_prompt_template"
   ],
   "metadata": {
    "collapsed": false
   },
   "id": "79a37adb7e6613cc",
   "execution_count": null
  },
  {
   "cell_type": "code",
   "outputs": [],
   "source": [
    "prompt_template_q = \"\"\"### Question:\n",
    "{question}\n",
    "\n",
    "### Answer:\"\"\""
   ],
   "metadata": {
    "collapsed": false
   },
   "id": "57b15dc5759a57b",
   "execution_count": null
  },
  {
   "cell_type": "code",
   "outputs": [],
   "source": [
    "num_examples = len(examples[\"question\"])\n",
    "finetuning_dataset_text_only = []\n",
    "finetuning_dataset_question_answer = []\n",
    "for i in range(num_examples):\n",
    "  question = examples[\"question\"][i]\n",
    "  answer = examples[\"answer\"][i]\n",
    "\n",
    "  text_with_prompt_template_qa = prompt_template_qa.format(question=question, answer=answer)\n",
    "  finetuning_dataset_text_only.append({\"text\": text_with_prompt_template_qa})\n",
    "\n",
    "  text_with_prompt_template_q = prompt_template_q.format(question=question)\n",
    "  finetuning_dataset_question_answer.append({\"question\": text_with_prompt_template_q, \"answer\": answer})"
   ],
   "metadata": {
    "collapsed": false
   },
   "id": "67f86755429da151",
   "execution_count": null
  },
  {
   "cell_type": "code",
   "outputs": [],
   "source": [
    "pprint(finetuning_dataset_text_only[0])"
   ],
   "metadata": {
    "collapsed": false
   },
   "id": "d02d41229ca35bbe",
   "execution_count": null
  },
  {
   "cell_type": "code",
   "outputs": [],
   "source": [
    "pprint(finetuning_dataset_question_answer[0])"
   ],
   "metadata": {
    "collapsed": false
   },
   "id": "5cfb99ff8f11d9c1",
   "execution_count": null
  },
  {
   "cell_type": "markdown",
   "source": [
    "## Common ways of storing your data"
   ],
   "metadata": {
    "collapsed": false
   },
   "id": "1b089c073124fc4e"
  },
  {
   "cell_type": "code",
   "outputs": [],
   "source": [
    "from jsonlines import jsonlines\n",
    "\n",
    "with jsonlines.open(f'lamini_docs_processed.jsonl', 'w') as writer:\n",
    "    writer.write_all(finetuning_dataset_question_answer)"
   ],
   "metadata": {
    "collapsed": false
   },
   "id": "96f56054ae0fecaa",
   "execution_count": null
  },
  {
   "cell_type": "code",
   "outputs": [],
   "source": [
    "finetuning_dataset_name = \"lamini/lamini_docs\"\n",
    "finetuning_dataset = load_dataset(finetuning_dataset_name)\n",
    "print(finetuning_dataset)"
   ],
   "metadata": {
    "collapsed": false
   },
   "id": "3c897b678fcca957",
   "execution_count": null
  },
  {
   "cell_type": "code",
   "outputs": [],
   "source": [],
   "metadata": {
    "collapsed": false
   },
   "id": "a121d9158dceec70"
  }
 ],
 "metadata": {
  "kernelspec": {
   "display_name": "Python 3",
   "language": "python",
   "name": "python3"
  },
  "language_info": {
   "codemirror_mode": {
    "name": "ipython",
    "version": 2
   },
   "file_extension": ".py",
   "mimetype": "text/x-python",
   "name": "python",
   "nbconvert_exporter": "python",
   "pygments_lexer": "ipython2",
   "version": "2.7.6"
  }
 },
 "nbformat": 4,
 "nbformat_minor": 5
}
