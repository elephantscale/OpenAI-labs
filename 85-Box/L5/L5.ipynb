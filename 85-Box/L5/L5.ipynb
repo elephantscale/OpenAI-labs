{
 "cells": [
  {
   "cell_type": "markdown",
   "metadata": {
    "id": "6a63f50996b5"
   },
   "source": [
    "# Processing Invoices Using a Multi-Agent System\n"
   ]
  },
  {
   "cell_type": "markdown",
   "metadata": {},
   "source": [
    "In this lesson, you will transform your application into a multi-agent system consisting of specialized agents communicating through A2A (Agent-to-Agent)."
   ]
  },
  {
   "cell_type": "code",
   "execution_count": null,
   "metadata": {
    "height": 47
   },
   "outputs": [],
   "source": [
    "import warnings\n",
    "warnings.filterwarnings('ignore')"
   ]
  },
  {
   "cell_type": "markdown",
   "metadata": {},
   "source": [
    "You'll use Google's ADK or Agent Development Kit to define each agent in the multi-agent system. Note that each agent is MCP compliant, meaning you can connect it to any MCP server by simply defining the server's parameter configuration."
   ]
  },
  {
   "cell_type": "code",
   "execution_count": null,
   "metadata": {
    "height": 234
   },
   "outputs": [],
   "source": [
    "import os\n",
    "\n",
    "from google.adk.agents import Agent\n",
    "from google.adk.agents.remote_a2a_agent import RemoteA2aAgent\n",
    "from google.adk.artifacts import InMemoryArtifactService\n",
    "from google.adk.memory.in_memory_memory_service import InMemoryMemoryService\n",
    "from google.adk.runners import Runner\n",
    "from google.adk.sessions import InMemorySessionService\n",
    "from google.adk.tools.mcp_tool.mcp_toolset import (\n",
    "    MCPToolset,\n",
    "    StdioServerParameters,\n",
    "    StdioConnectionParams,\n",
    ")"
   ]
  },
  {
   "cell_type": "markdown",
   "metadata": {},
   "source": [
    "The following are all the required libraries from [A2A](https://a2a-protocol.org/latest/) to let the agents communicate through A2A."
   ]
  },
  {
   "cell_type": "code",
   "execution_count": null,
   "metadata": {
    "height": 540,
    "id": "2c229a99c6b8"
   },
   "outputs": [],
   "source": [
    "from a2a.server.apps import A2AStarletteApplication\n",
    "from a2a.server.request_handlers import DefaultRequestHandler\n",
    "from a2a.server.tasks import InMemoryTaskStore\n",
    "from a2a.types import (\n",
    "    AgentCapabilities,\n",
    "    AgentCard,\n",
    "    AgentSkill,\n",
    "    MessageSendParams,\n",
    "    SendMessageRequest,\n",
    ")\n",
    "from a2a.utils.constants import AGENT_CARD_WELL_KNOWN_PATH\n",
    "from a2a.client import A2AClient\n",
    "\n",
    "from google.adk.a2a.executor.a2a_agent_executor import (\n",
    "    A2aAgentExecutor,\n",
    "    A2aAgentExecutorConfig,\n",
    ")\n",
    "\n",
    "import asyncio\n",
    "import threading\n",
    "import time\n",
    "import json\n",
    "from typing import Any\n",
    "import uuid\n",
    "import httpx\n",
    "import nest_asyncio\n",
    "import uvicorn\n",
    "\n",
    "\n",
    "from dotenv import load_dotenv\n",
    "_ = load_dotenv(override=True)"
   ]
  },
  {
   "cell_type": "markdown",
   "metadata": {},
   "source": [
    "<div style=\"background-color:#fff6ff; padding:13px; border-width:3px; border-color:#efe6ef; border-style:solid; border-radius:6px\">\n",
    "<p>💻 &nbsp; <b>To access the <code>requirements.txt</code>, <code>env.example</code> and the MCP server files:</b> 1) click the <em>\"File\"</em> option in the top menu of the notebook 2) click <em>\"Open\"</em>.\n",
    "\n",
    "<p>⬇ &nbsp; <b>Download Notebooks:</b> 1) click the <em>\"File\"</em> option in the top menu of the notebook and then 2) click <em>\"Download as\"</em> and select <em>\"Notebook (.ipynb)\"</em>.</p>\n",
    "</div>"
   ]
  },
  {
   "cell_type": "markdown",
   "metadata": {},
   "source": [
    "Here, you'll define the three local ports that each of the agents will use to listen for requests in this local lab environment.\n",
    "\n",
    "The other variables include:\n",
    "- The folder ID pointing to the Box folder \n",
    "- and the path to the MCP server"
   ]
  },
  {
   "cell_type": "code",
   "execution_count": null,
   "metadata": {
    "height": 200
   },
   "outputs": [],
   "source": [
    "MODEL_NAME = \"gemini-2.5-pro\"\n",
    "\n",
    "FILES_AGENT_PORT = 10024\n",
    "EXTRACTION_AGENT_PORT = 10025\n",
    "ORCHESTRATOR_AGENT_PORT = 10026\n",
    "\n",
    "BOX_FOLDER_ID = os.getenv(\"BOX_FOLDER_ID\")\n",
    "BOX_MCP_SERVER_PATH = \"./mcp-server-box\"\n",
    "\n",
    "# Apply nest_asyncio to allow nested event loops in Jupyter\n",
    "nest_asyncio.apply()"
   ]
  },
  {
   "cell_type": "markdown",
   "metadata": {},
   "source": [
    "## Configuring access to Box's MCP Server"
   ]
  },
  {
   "cell_type": "code",
   "execution_count": null,
   "metadata": {
    "height": 217
   },
   "outputs": [],
   "source": [
    "connection_params = StdioConnectionParams(\n",
    "    server_params=StdioServerParameters(\n",
    "        command=\"uv\",\n",
    "        args=[\n",
    "            \"--directory\",\n",
    "            BOX_MCP_SERVER_PATH,\n",
    "            \"run\",\n",
    "            \"src/mcp_server_box.py\",\n",
    "        ],\n",
    "        timeout=60,\n",
    "    )\n",
    ")"
   ]
  },
  {
   "cell_type": "markdown",
   "metadata": {},
   "source": [
    "## Creating the Agents"
   ]
  },
  {
   "cell_type": "markdown",
   "metadata": {},
   "source": [
    "You'll create three agents:\n",
    "\n",
    "1. Files Agent - Returns every file inside a specified folder in Box.\n",
    "2. Extraction Agent - Extracts structure data from a specific document stored in Box.\n",
    "3. Orchestrator Agent - Orchestrates the work of the other agents."
   ]
  },
  {
   "cell_type": "markdown",
   "metadata": {
    "id": "bf7079208e95"
   },
   "source": [
    "### Agent 1 - Files Agent\n",
    "\n",
    "This agent will list the IDs of all files inside a given folder."
   ]
  },
  {
   "cell_type": "code",
   "execution_count": null,
   "metadata": {
    "height": 234
   },
   "outputs": [],
   "source": [
    "files_agent = Agent(\n",
    "    model=MODEL_NAME,\n",
    "    name=\"files_agent\",\n",
    "    instruction=\"\"\"\n",
    "    Your job is to list the ID of every file inside the folder with the given ID.\n",
    "    \"\"\",\n",
    "    tools=[\n",
    "        MCPToolset(\n",
    "            connection_params=connection_params,\n",
    "            tool_filter=[\"box_list_folder_content_by_folder_id\"],\n",
    "        )\n",
    "    ],\n",
    ")"
   ]
  },
  {
   "cell_type": "markdown",
   "metadata": {},
   "source": [
    "Let's now create the Agent Card. The Agent Card outlines the agent's capabilities and determines if this agent can assist with a specific task."
   ]
  },
  {
   "cell_type": "code",
   "execution_count": null,
   "metadata": {
    "height": 336
   },
   "outputs": [],
   "source": [
    "files_agent_card = AgentCard(\n",
    "    name=\"Files Agent\",\n",
    "    #url=f\"http://localhost:{FILES_AGENT_PORT}\",\n",
    "    url=os.getenv('DLAI_LOCAL_URL').format(port=FILES_AGENT_PORT),\n",
    "    description=\"List files in a folder given its folder ID.\",\n",
    "    version=\"1.0\",\n",
    "    capabilities=AgentCapabilities(streaming=True),\n",
    "    default_input_modes=[\"text/plain\"],\n",
    "    default_output_modes=[\"text/plain\"],\n",
    "    skills=[\n",
    "        AgentSkill(\n",
    "            id=\"list_files_in_folder\",\n",
    "            name=\"List existing files in a folder\",\n",
    "            description=\"List files in a folder given its folder ID.\",\n",
    "            tags=[\"files\", \"folder\", \"find\", \"list\"],\n",
    "            examples=[\"List files in folder 12345\"],\n",
    "        )\n",
    "    ],\n",
    ")"
   ]
  },
  {
   "cell_type": "markdown",
   "metadata": {},
   "source": [
    "Once you have the Agent Card, you'll set up a remote A2A instance to enable the Orchestrator to communicate with this ADK agent using A2A."
   ]
  },
  {
   "cell_type": "code",
   "execution_count": null,
   "metadata": {
    "height": 164
   },
   "outputs": [],
   "source": [
    "remote_files_agent = RemoteA2aAgent(\n",
    "    name=\"list_files_in_folder\",\n",
    "    description=\"List files in a folder given the folder ID.\",\n",
    "    #agent_card=f\"http://localhost:{Files_AGENT_PORT}{AGENT_CARD_WELL_KNOWN_PATH}\",\n",
    "    agent_card=os.getenv('DLAI_LOCAL_URL').format(port=FILES_AGENT_PORT)[:-1]+AGENT_CARD_WELL_KNOWN_PATH,\n",
    ")\n",
    "\n",
    "print(AGENT_CARD_WELL_KNOWN_PATH)"
   ]
  },
  {
   "cell_type": "markdown",
   "metadata": {},
   "source": [
    "**Note:** The agent card has an endpoint that ends with what you just printed. This endpoint will be used by the orchestrator to get information about the remote files agent."
   ]
  },
  {
   "cell_type": "markdown",
   "metadata": {},
   "source": [
    "### Agent 2 - Extraction Agent\n",
    "\n",
    "This agent will extract invoice data from a file in Box. You'll instruct the agent to extract the client name, invoice amount, and product name, and return everything as a JSON object in a specific format."
   ]
  },
  {
   "cell_type": "code",
   "execution_count": null,
   "metadata": {
    "height": 470
   },
   "outputs": [],
   "source": [
    "extraction_agent = Agent(\n",
    "    model=MODEL_NAME,\n",
    "    name=\"data_extraction_agent\",\n",
    "    instruction=\"\"\"\n",
    "    Your job is to extract invoice data from a file given its ID.\n",
    "\n",
    "    You will receive the ID of a file. You will extract the following fields from that file:\n",
    "    client_name, invoice_amount, product_name.\n",
    "\n",
    "    You MUST return your response in the following JSON format:\n",
    "    {\n",
    "        \"ID\": \"<file_id>\",\n",
    "        \"client_name\": \"<name_of_the_client>\",\n",
    "        \"invoice_amount\": <amount>,\n",
    "        \"product_name\": \"<name_of_the_product>\"\n",
    "    }\n",
    "\n",
    "    Only return the JSON object, no additional text, and no markdown formatting.\n",
    "    \"\"\",\n",
    "    tools=[\n",
    "        MCPToolset(\n",
    "            connection_params=connection_params,\n",
    "            tool_filter=[\"box_ai_extract_freeform_tool\"],\n",
    "        )\n",
    "    ],\n",
    ")"
   ]
  },
  {
   "cell_type": "markdown",
   "metadata": {},
   "source": [
    "Let's now create the Agent Card."
   ]
  },
  {
   "cell_type": "code",
   "execution_count": null,
   "metadata": {
    "height": 387
   },
   "outputs": [],
   "source": [
    "extraction_agent_card = AgentCard(\n",
    "    name=\"Invoice Data Extraction Agent\",\n",
    "    #url=f\"http://localhost:{EXTRACTION_AGENT_PORT}\",\n",
    "    url = os.getenv('DLAI_LOCAL_URL').format(port=EXTRACTION_AGENT_PORT),\n",
    "    description=\"Extract invoice data from a given file\",\n",
    "    version=\"1.0\",\n",
    "    capabilities=AgentCapabilities(streaming=True),\n",
    "    default_input_modes=[\"text/plain\", \"application/json\"],\n",
    "    default_output_modes=[\"text/plain\", \"application/json\"],\n",
    "    skills=[\n",
    "        AgentSkill(\n",
    "            id=\"extract_invoice_data_from_file\",\n",
    "            name=\"Extract Invoice Data From File\",\n",
    "            description=\"Extracts invoice data from a specific file\",\n",
    "            tags=[\"extract\", \"data\"],\n",
    "            examples=[\n",
    "                \"Extract invoice data from file ID 12345\",\n",
    "                '{\"file_id\": \"67890\"}',\n",
    "            ],\n",
    "        )\n",
    "    ],\n",
    ")"
   ]
  },
  {
   "cell_type": "markdown",
   "metadata": {},
   "source": [
    "Let's also create the remote instance for this agent."
   ]
  },
  {
   "cell_type": "code",
   "execution_count": null,
   "metadata": {
    "height": 130
   },
   "outputs": [],
   "source": [
    "remote_extraction_agent = RemoteA2aAgent(\n",
    "    name=\"extract_invoice_data_from_file\",\n",
    "    description=\"Extracts invoice data from a specific file\",\n",
    "    #agent_card=f\"http://localhost:{EXTRACTION_AGENT_PORT}{AGENT_CARD_WELL_KNOWN_PATH}\",\n",
    "    agent_card=os.getenv('DLAI_LOCAL_URL').format(port=EXTRACTION_AGENT_PORT)[:-1]+AGENT_CARD_WELL_KNOWN_PATH,\n",
    ")"
   ]
  },
  {
   "cell_type": "markdown",
   "metadata": {
    "id": "18e76145ebd4"
   },
   "source": [
    "### Agent 3 - Orchestrator Agent\n",
    "\n",
    "This agent will coordinate between the other agents to process every invoice in Box and extract their data."
   ]
  },
  {
   "cell_type": "code",
   "execution_count": null,
   "metadata": {
    "height": 370,
    "id": "99522ad83421"
   },
   "outputs": [],
   "source": [
    "orchestrator_agent = Agent(\n",
    "    model=MODEL_NAME,\n",
    "    name=\"orchestrator_agent\",\n",
    "    instruction=\"\"\"\n",
    "You are an expert AI Orchestrator.\n",
    "\n",
    "Your primary responsibility is to interpret user requests, plan the necessary\n",
    "sequence of actions if multiple steps are involved, and delegate them to the\n",
    "most appropriate specialized remote agents.\n",
    "\n",
    "You do not perform the tasks yourself but manage their assignment, sequence, \n",
    "and can monitor their status.\n",
    "\n",
    "* Always prioritize selecting the correct agent(s) based on their documented purpose.\n",
    "* Ensure all information required by the chosen remote agent is included in the\n",
    "  call, including outputs from previous agents if it's a sequential task.\n",
    "* Focus on the most recent parts of the conversation for immediate context, \n",
    "  but maintain awareness of the overall goal, especially for multi-step requests.\n",
    "\"\"\",\n",
    "    sub_agents=[remote_files_agent, remote_extraction_agent],\n",
    ")"
   ]
  },
  {
   "cell_type": "markdown",
   "metadata": {},
   "source": [
    "Let's now create the Agent Card."
   ]
  },
  {
   "cell_type": "code",
   "execution_count": null,
   "metadata": {
    "height": 419
   },
   "outputs": [],
   "source": [
    "orchestrator_agent_card = AgentCard(\n",
    "    name=\"Orchestrator Agent\",\n",
    "    #url=f\"http://localhost:{ORCHESTRATOR_AGENT_PORT}\",\n",
    "    url=os.getenv('DLAI_LOCAL_URL').format(port=ORCHESTRATOR_AGENT_PORT),\n",
    "    description=\"Orchestrates listing files in folders and extracting invoice data from them\",\n",
    "    version=\"1.0\",\n",
    "    capabilities=AgentCapabilities(streaming=True),\n",
    "    default_input_modes=[\"text/plain\"],\n",
    "    default_output_modes=[\"text/plain\", \"application/json\"],\n",
    "    skills=[\n",
    "        AgentSkill(\n",
    "            id=\"list_files_and_extract_data\",\n",
    "            name=\"List Files and Extract Data\",\n",
    "            description=\"Lists files in a folder and extracts invoice data from them\",\n",
    "            tags=[\"files\", \"extract\", \"orchestration\"],\n",
    "            examples=[\n",
    "                \"List files in folder 123\",\n",
    "                \"Process folder 123\",\n",
    "                \"Extract invoice data from file 123\",\n",
    "            ],\n",
    "        )\n",
    "    ],\n",
    ")"
   ]
  },
  {
   "cell_type": "markdown",
   "metadata": {},
   "source": [
    "## Running the agents"
   ]
  },
  {
   "cell_type": "markdown",
   "metadata": {
    "id": "1802fda73322"
   },
   "source": [
    "Let's define functions to start a server for any given agent and run it in the background.\n",
    "\n",
    "In this first function, the Runner instance provides the execution environment for each ADK agent. So this instance is required anytime you define an agent with ADK. It manages the execution of an agent within a session, handling message processing, event generation, and interaction with various services like artifact storage, session management, and memory.\n",
    "\n",
    "The second important instance is the A2AAgentExecutor: the Agent executor acts as the bridge between the A2A protocol and your agent's specific logic. It receives context about the request and uses an event queue to communicate results or updates back.\n",
    "\n",
    "The DefaultRequestHandler instance will then process this queue to send the response to the user who requested the query.\n",
    "\n",
    "Finally you need to wrap the request_handler and the agent card in an `A2AStarletteApplication` instance which you can use to run the A2A agent server."
   ]
  },
  {
   "cell_type": "code",
   "execution_count": null,
   "metadata": {
    "height": 353
   },
   "outputs": [],
   "source": [
    "def create_agent_a2a_server(agent, agent_card):\n",
    "    \"\"\"Create an A2A server for the supplied agent.\"\"\"\n",
    "    runner = Runner(\n",
    "        app_name=agent.name,\n",
    "        agent=agent,\n",
    "        artifact_service=InMemoryArtifactService(),\n",
    "        session_service=InMemorySessionService(),\n",
    "        memory_service=InMemoryMemoryService(),\n",
    "    )\n",
    "\n",
    "    config = A2aAgentExecutorConfig()\n",
    "    executor = A2aAgentExecutor(runner=runner, config=config)\n",
    "\n",
    "    request_handler = DefaultRequestHandler(\n",
    "        agent_executor=executor,\n",
    "        task_store=InMemoryTaskStore(),\n",
    "    )\n",
    "\n",
    "    return A2AStarletteApplication(agent_card=agent_card, \n",
    "                                   http_handler=request_handler)"
   ]
  },
  {
   "cell_type": "markdown",
   "metadata": {
    "id": "5b4c7a75c7ec"
   },
   "source": [
    "Now to launch each agent as an A2A server, you could have the definition of each agent in a separate python file (as shown in this [example](https://a2a-protocol.org/latest/tutorials/python/5-start-server/)) and then start the server of each agent in a different terminal. In this lesson, however, you're going to launch each agent from this notebook environment, and for that you are provided with these special functions."
   ]
  },
  {
   "cell_type": "code",
   "execution_count": null,
   "metadata": {
    "height": 589
   },
   "outputs": [],
   "source": [
    "servers = []\n",
    "\n",
    "\n",
    "async def run_server_notebook(create_agent_function, port):\n",
    "    \"\"\"Run server with proper error handling.\"\"\"\n",
    "    try:\n",
    "        print(f\"\\nStarting agent on port {port}...\")\n",
    "        app = create_agent_function()\n",
    "        config = uvicorn.Config(\n",
    "            #app.build(), host=\"127.0.0.1\", port=port, log_level=\"error\", loop=\"asyncio\"\n",
    "            app.build(), host=\"0.0.0.0\", port=port, log_level=\"error\", loop=\"asyncio\"\n",
    "        )\n",
    "        server = uvicorn.Server(config)\n",
    "        servers.append(server)\n",
    "        await server.serve()\n",
    "    except Exception as e:\n",
    "        print(f\"Error running agent server: {e}\")\n",
    "\n",
    "\n",
    "def run_agent_in_background(create_agent_function, port, name):\n",
    "    \"\"\"Run an agent server in a background thread.\"\"\"\n",
    "\n",
    "    def run():\n",
    "        loop = asyncio.new_event_loop()\n",
    "        asyncio.set_event_loop(loop)\n",
    "        try:\n",
    "            loop.run_until_complete(run_server_notebook(create_agent_function, port))\n",
    "        except Exception as e:\n",
    "            print(f\"{name} error: {e}\")\n",
    "\n",
    "    thread = threading.Thread(target=run, daemon=True)\n",
    "    thread.start()\n",
    "    return thread"
   ]
  },
  {
   "cell_type": "markdown",
   "metadata": {},
   "source": [
    "Let's now start the agent servers."
   ]
  },
  {
   "cell_type": "code",
   "execution_count": null,
   "metadata": {
    "height": 302
   },
   "outputs": [],
   "source": [
    "files_thread = run_agent_in_background(\n",
    "    lambda: create_agent_a2a_server(files_agent, files_agent_card),\n",
    "    FILES_AGENT_PORT,\n",
    "    \"Files Agent\",\n",
    ")\n",
    "\n",
    "extraction_thread = run_agent_in_background(\n",
    "    lambda: create_agent_a2a_server(extraction_agent, extraction_agent_card),\n",
    "    EXTRACTION_AGENT_PORT,\n",
    "    \"Invoice Data Extraction Agent\",\n",
    ")\n",
    "\n",
    "orchestrator_thread = run_agent_in_background(\n",
    "    lambda: create_agent_a2a_server(orchestrator_agent, orchestrator_agent_card),\n",
    "    ORCHESTRATOR_AGENT_PORT,\n",
    "    \"Orchestrator Agent\",\n",
    ")"
   ]
  },
  {
   "cell_type": "markdown",
   "metadata": {},
   "source": [
    "**Note:** If you receive a message that the agents are already running on the given port numbers (in case you decided to run the notebooks twice), make sure first to shut down the notebook's kernel and then re-run the notebook. To shut down the notebook's kernel, you can click on the `Kernel` tab in the top-level menu and then on `shutdown`."
   ]
  },
  {
   "cell_type": "markdown",
   "metadata": {},
   "source": [
    "Let's wait for the servers to start and check if every agent is running."
   ]
  },
  {
   "cell_type": "code",
   "execution_count": null,
   "metadata": {
    "height": 183
   },
   "outputs": [],
   "source": [
    "time.sleep(3)\n",
    "\n",
    "if (\n",
    "    files_thread.is_alive()\n",
    "    and extraction_thread.is_alive()\n",
    "    and orchestrator_thread.is_alive()\n",
    "):\n",
    "    print(\"Agent servers are running.\")\n",
    "else:\n",
    "    print(\"Agent servers failed to start.\")"
   ]
  },
  {
   "cell_type": "markdown",
   "metadata": {},
   "source": [
    "## Running the Multi-Agent system"
   ]
  },
  {
   "cell_type": "markdown",
   "metadata": {
    "id": "8211c3344a60"
   },
   "source": [
    "Now that everything is up, you'll create an A2A client that will help you connect to any A2A agent server. You can think of it as an interface that receives the user's request and sends the request to the agent it's connected to.\n",
    "\n",
    "In this case, you will connect the A2A client to the orchestrator, and the orchestrator will analyze the request and forward the requests to the specialized agent."
   ]
  },
  {
   "cell_type": "code",
   "execution_count": null,
   "metadata": {
    "height": 1354,
    "id": "03e7b1c16c1a"
   },
   "outputs": [],
   "source": [
    "class A2ASimpleClient:\n",
    "    def __init__(self, default_timeout: float = 3600.0):\n",
    "        self._agent_info_cache: dict[\n",
    "            str, dict[str, Any] | None\n",
    "        ] = {}  # Cache for agent metadata\n",
    "        self.default_timeout = default_timeout\n",
    "\n",
    "    async def create_task(self, agent_url: str, message: str) -> str:\n",
    "        \"\"\"Send a message following the official A2A SDK pattern.\"\"\"\n",
    "        # Configure httpx client with timeout\n",
    "        timeout_config = httpx.Timeout(\n",
    "            timeout=self.default_timeout,\n",
    "            connect=10.0,\n",
    "            read=self.default_timeout,\n",
    "            write=10.0,\n",
    "            pool=5.0,\n",
    "        )\n",
    "\n",
    "        async with httpx.AsyncClient(timeout=timeout_config) as httpx_client:\n",
    "            # Check if we have cached agent card data\n",
    "            if (\n",
    "                agent_url in self._agent_info_cache\n",
    "                and self._agent_info_cache[agent_url] is not None\n",
    "            ):\n",
    "                agent_card_data = self._agent_info_cache[agent_url]\n",
    "            else:\n",
    "                # Fetch the agent card\n",
    "                agent_card_response = await httpx_client.get(\n",
    "                    f\"{agent_url}\"[:-1]+f\"{AGENT_CARD_WELL_KNOWN_PATH}\"\n",
    "                )\n",
    "                agent_card_data = self._agent_info_cache[agent_url] = (\n",
    "                    agent_card_response.json()\n",
    "                )\n",
    "\n",
    "            # Create AgentCard from data\n",
    "            agent_card = AgentCard(**agent_card_data)\n",
    "\n",
    "            # Create A2A client with the agent card\n",
    "            client = A2AClient(httpx_client=httpx_client, agent_card=agent_card)\n",
    "\n",
    "            # Build the message parameters following official structure\n",
    "            send_message_payload = {\n",
    "                \"message\": {\n",
    "                    \"role\": \"user\",\n",
    "                    \"parts\": [{\"kind\": \"text\", \"text\": message}],\n",
    "                    \"messageId\": uuid.uuid4().hex,\n",
    "                }\n",
    "            }\n",
    "\n",
    "            # Create the request\n",
    "            request = SendMessageRequest(\n",
    "                id=str(uuid.uuid4()), params=MessageSendParams(**send_message_payload)\n",
    "            )\n",
    "\n",
    "            # Send the message with timeout configuration\n",
    "            response = await client.send_message(request)\n",
    "\n",
    "            # Extract text from response\n",
    "            try:\n",
    "                response_dict = response.model_dump(mode=\"json\", exclude_none=True)\n",
    "\n",
    "                if \"result\" in response_dict and \"artifacts\" in response_dict[\"result\"]:\n",
    "                    artifacts = response_dict[\"result\"][\"artifacts\"]\n",
    "                    for artifact in artifacts:\n",
    "                        if \"parts\" in artifact:\n",
    "                            for part in artifact[\"parts\"]:\n",
    "                                if \"text\" in part:\n",
    "                                    return part[\"text\"]\n",
    "\n",
    "                # If we couldn't extract text, return the full response as formatted JSON\n",
    "                return json.dumps(response_dict, indent=2)\n",
    "\n",
    "            except Exception as e:\n",
    "                print(f\"Error parsing response: {e}\")\n",
    "                return str(response)\n",
    "\n",
    "\n",
    "a2a_client = A2ASimpleClient()"
   ]
  },
  {
   "cell_type": "markdown",
   "metadata": {},
   "source": [
    "Let's now ask the orchestrator agent to list every file in a folder. \n",
    "\n",
    "**Notes:** \n",
    "\n",
    "- If you receive this warning,\n",
    "\n",
    "    ```\n",
    "    Warning: there are non-text parts in the response: ['thought_signature', 'function_call'], returning concatenated text result from text parts. Check the full candidates.content.parts accessor to get the full model response. auth_config or auth_config.auth_scheme is missing. Will skip authentication.Using FunctionTool instead if authentication is not required.\n",
    "    ```\n",
    "\n",
    "    you don't need to worry about it, you can ignore it.\n",
    "\n",
    "- The following two cells might take a few minutes to generate a response."
   ]
  },
  {
   "cell_type": "code",
   "execution_count": null,
   "metadata": {
    "height": 115
   },
   "outputs": [],
   "source": [
    "report = await a2a_client.create_task(\n",
    "    os.getenv('DLAI_LOCAL_URL').format(port=ORCHESTRATOR_AGENT_PORT),\n",
    "    f\"List files in folder {BOX_FOLDER_ID}.\",\n",
    ")\n",
    "\n",
    "print(report)"
   ]
  },
  {
   "cell_type": "markdown",
   "metadata": {},
   "source": [
    "You can also ask the orchestrator to extract data from a specific file."
   ]
  },
  {
   "cell_type": "code",
   "execution_count": null,
   "metadata": {
    "height": 115
   },
   "outputs": [],
   "source": [
    "report = await a2a_client.create_task(\n",
    "    os.getenv('DLAI_LOCAL_URL').format(port=ORCHESTRATOR_AGENT_PORT),\n",
    "    \"Extract data from file 1956535377108\",\n",
    ")\n",
    "\n",
    "print(report)"
   ]
  },
  {
   "cell_type": "markdown",
   "metadata": {},
   "source": [
    "## Resources"
   ]
  },
  {
   "cell_type": "markdown",
   "metadata": {},
   "source": [
    "- [A2A Documentation](https://a2a-protocol.org/latest/)\n",
    "- [A2A Introduction in ADK documentation](https://google.github.io/adk-docs/a2a/intro/)"
   ]
  }
 ],
 "metadata": {
  "colab": {
   "name": "a2a_quickstart.ipynb",
   "toc_visible": true
  },
  "kernelspec": {
   "display_name": "Python 3 (ipykernel)",
   "language": "python",
   "name": "python3"
  },
  "language_info": {
   "codemirror_mode": {
    "name": "ipython",
    "version": 3
   },
   "file_extension": ".py",
   "mimetype": "text/x-python",
   "name": "python",
   "nbconvert_exporter": "python",
   "pygments_lexer": "ipython3",
   "version": "3.11.3"
  }
 },
 "nbformat": 4,
 "nbformat_minor": 4
}
