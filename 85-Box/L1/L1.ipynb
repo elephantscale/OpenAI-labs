{
 "cells": [
  {
   "cell_type": "markdown",
   "id": "6cad2ce0",
   "metadata": {},
   "source": [
    "# Simple Invoice Processing App"
   ]
  },
  {
   "cell_type": "markdown",
   "id": "219fc623",
   "metadata": {},
   "source": [
    "In this lesson, you'll process invoices that were manually downloaded locally from a Box folder."
   ]
  },
  {
   "cell_type": "code",
   "execution_count": null,
   "id": "1a8bec3b",
   "metadata": {
    "height": 149
   },
   "outputs": [],
   "source": [
    "import json\n",
    "import os\n",
    "import sqlite3\n",
    "from dotenv import load_dotenv\n",
    "from google import genai\n",
    "from PyPDF2 import PdfReader\n",
    "\n",
    "_ = load_dotenv(override=True)"
   ]
  },
  {
   "cell_type": "markdown",
   "id": "1f7de9f7",
   "metadata": {},
   "source": [
    "The first step is to configure a few settings that you'll use throughout the notebook."
   ]
  },
  {
   "cell_type": "code",
   "execution_count": null,
   "id": "f28dcfdc",
   "metadata": {
    "height": 81
   },
   "outputs": [],
   "source": [
    "MODEL_NAME = \"gemini-2.5-flash\"\n",
    "LOCAL_INVOICE_FOLDER = \"invoices\"\n",
    "\n",
    "GEMINI_API_KEY = os.getenv(\"GEMINI_API_KEY\")"
   ]
  },
  {
   "cell_type": "markdown",
   "id": "c0b69d70-a82b-452b-adb5-0dcbe77597f3",
   "metadata": {},
   "source": [
    "<div style=\"background-color:#fff6ff; padding:13px; border-width:3px; border-color:#efe6ef; border-style:solid; border-radius:6px\">\n",
    "<p>💻 &nbsp; <b>To access the <code>requirements.txt</code> file, and the invoices folder:</b> 1) click the <em>\"File\"</em> option in the top menu of the notebook 2) click <em>\"Open\"</em>.\n",
    "\n",
    "<p>⬇ &nbsp; <b>Download Notebooks:</b> 1) click the <em>\"File\"</em> option in the top menu of the notebook and then 2) click <em>\"Download as\"</em> and select <em>\"Notebook (.ipynb)\"</em>.</p>\n",
    "</div>"
   ]
  },
  {
   "cell_type": "markdown",
   "id": "ab296d03-8fbb-4d27-aee3-7a639d25001d",
   "metadata": {},
   "source": [
    "## Processing invoices"
   ]
  },
  {
   "cell_type": "markdown",
   "id": "5b6635c1",
   "metadata": {},
   "source": [
    "With the invoices locally stored, you can loop and process them one by one to extract their information.\n",
    "\n",
    "Let's start by defining a helper function that will help process JSON results from Gemini."
   ]
  },
  {
   "cell_type": "code",
   "execution_count": null,
   "id": "cdcfdbd4",
   "metadata": {
    "height": 353
   },
   "outputs": [],
   "source": [
    "def parse_json(content):\n",
    "    # Try parsing as pure JSON first\n",
    "    try:\n",
    "        return json.loads(content)\n",
    "    except json.JSONDecodeError:\n",
    "        pass\n",
    "\n",
    "    # If that fails, try to extract JSON from the text\n",
    "    # Look for JSON-like content between curly braces\n",
    "    import re\n",
    "\n",
    "    json_match = re.search(r\"\\{.*\\}\", content, re.DOTALL)\n",
    "    if json_match:\n",
    "        try:\n",
    "            return json.loads(json_match.group())\n",
    "        except json.JSONDecodeError:\n",
    "            pass\n",
    "\n",
    "    # If all else fails, return the original text\n",
    "    return content"
   ]
  },
  {
   "cell_type": "markdown",
   "id": "eb2a1d3f-3cdc-43d7-8c50-4cf189b07724",
   "metadata": {},
   "source": [
    "**Note:** Alternatively, you can use Pydantic to define the expected output structure and instruct Gemini to format its responses accordingly. In the lesson's folder, you can check the notebook `L1_structured_output` for an implementation example."
   ]
  },
  {
   "cell_type": "markdown",
   "id": "ba664f71",
   "metadata": {},
   "source": [
    "Now, let's create a function to extract fields from an invoice."
   ]
  },
  {
   "cell_type": "code",
   "execution_count": null,
   "id": "9c1dbbf6",
   "metadata": {
    "height": 506
   },
   "outputs": [],
   "source": [
    "def extract_invoice_fields(file: str, invoice: str):\n",
    "    \"\"\"\n",
    "    Extract data from the supplied invoice text.\n",
    "    \"\"\"\n",
    "    print(f\"Extracting data from invoice {file}...\")\n",
    "    llm_client = genai.Client(api_key=GEMINI_API_KEY)\n",
    "\n",
    "    prompt = (\n",
    "        \"Extract the following information from this invoice text: \"\n",
    "        \"1. Client name \"\n",
    "        \"2. Invoice amount \"\n",
    "        \"3. Product name \"\n",
    "        \"Return the result as a JSON object.\"\n",
    "        \"Use the the following keys: \"\n",
    "        \"1. client_name (string) \"\n",
    "        \"2. invoice_amount (float) \"\n",
    "        \"3. product_name (string) \"\n",
    "        \"If the information is not found, return 'null' for the corresponding key.\\n\"\n",
    "        f\"Invoice text:\\n{invoice}\"\n",
    "    )\n",
    "\n",
    "    try:\n",
    "        response = llm_client.models.generate_content(model=MODEL_NAME, contents=prompt)\n",
    "        result = parse_json(response.candidates[0].content.parts[0].text)\n",
    "        result[\"file\"] = file\n",
    "        print(json.dumps(result, indent=4))\n",
    "        return result\n",
    "    except Exception as e:\n",
    "        print(f\"Failed to extract data using Gemini. Exception:{e}\")"
   ]
  },
  {
   "cell_type": "markdown",
   "id": "79839738",
   "metadata": {},
   "source": [
    "Let's set up the database where you'll store the information of every invoice."
   ]
  },
  {
   "cell_type": "code",
   "execution_count": null,
   "id": "0eba2358",
   "metadata": {
    "height": 200
   },
   "outputs": [],
   "source": [
    "connection = sqlite3.connect(\"invoices.db\")\n",
    "cursor = connection.cursor()\n",
    "cursor.execute(\"\"\"\n",
    "    CREATE TABLE IF NOT EXISTS invoices (\n",
    "        file TEXT PRIMARY KEY UNIQUE,\n",
    "        client TEXT,\n",
    "        amount REAL,\n",
    "        product TEXT\n",
    "    )\n",
    "\"\"\")\n",
    "connection.commit()"
   ]
  },
  {
   "cell_type": "markdown",
   "id": "4321a463",
   "metadata": {},
   "source": [
    "Let's now process all invoices in the local folder and extract the appropriate fields. After you process an invoice, you'll update the database with all of its data.\n",
    "\n",
    "**Note:** The following cell might take a few minutes to process each of the 5 invoices."
   ]
  },
  {
   "cell_type": "code",
   "execution_count": null,
   "id": "a28c0e80",
   "metadata": {
    "height": 591
   },
   "outputs": [],
   "source": [
    "cursor = connection.cursor()\n",
    "\n",
    "for file in os.listdir(LOCAL_INVOICE_FOLDER):\n",
    "    if file.endswith(\".pdf\"):\n",
    "        print(f\"\\nProcessing {file}...\")\n",
    "        try:\n",
    "            reader = PdfReader(os.path.join(LOCAL_INVOICE_FOLDER, file))\n",
    "            text = \"\"\n",
    "            for page in reader.pages:\n",
    "                text += page.extract_text() or \"\"\n",
    "\n",
    "            data = extract_invoice_fields(file, text)\n",
    "\n",
    "            print(f\"Updating database with invoice {data['file']}...\")\n",
    "            cursor.execute(\n",
    "                \"\"\"\n",
    "                INSERT INTO invoices (file, client, amount, product)\n",
    "                VALUES (?, ?, ?, ?)\n",
    "                ON CONFLICT(file) DO UPDATE SET\n",
    "                    client=excluded.client,\n",
    "                    amount=excluded.amount,\n",
    "                    product=excluded.product\n",
    "                \"\"\",\n",
    "                (\n",
    "                    data[\"file\"],\n",
    "                    data[\"client_name\"],\n",
    "                    data[\"invoice_amount\"],\n",
    "                    data[\"product_name\"],\n",
    "                ),\n",
    "            )\n",
    "        except Exception as e:\n",
    "            print(f\"Failed to extract text from {file}. Exception: {e}\")\n",
    "\n",
    "connection.commit()"
   ]
  },
  {
   "cell_type": "markdown",
   "id": "a0304a73-1e81-4917-b0b6-6b8f3b434681",
   "metadata": {},
   "source": [
    "## Generating final reports"
   ]
  },
  {
   "cell_type": "markdown",
   "id": "f58ced49",
   "metadata": {},
   "source": [
    "Finally, you'll generate a couple of reports with the data that you stored in the database."
   ]
  },
  {
   "cell_type": "code",
   "execution_count": null,
   "id": "4ba6f998",
   "metadata": {
    "height": 285
   },
   "outputs": [],
   "source": [
    "print(\"\\nInvoice Report\")\n",
    "\n",
    "cursor = connection.cursor()\n",
    "cursor.execute(\"SELECT COUNT(*), SUM(amount) FROM invoices\")\n",
    "total_invoices, total_amount = cursor.fetchone()\n",
    "\n",
    "print(f\"* Total invoices: {total_invoices}\")\n",
    "print(f\"* Total amount: {total_amount}\")\n",
    "\n",
    "print(\"\\nBreakdown by client:\")\n",
    "cursor.execute(\"SELECT client, COUNT(*), SUM(amount) FROM invoices GROUP BY client\")\n",
    "for row in cursor.fetchall():\n",
    "    client, count, amount = row\n",
    "    print(f\"* {client}: {count} invoices (${amount})\")\n",
    "\n",
    "connection.close()"
   ]
  }
 ],
 "metadata": {
  "kernelspec": {
   "display_name": "Python 3 (ipykernel)",
   "language": "python",
   "name": "python3"
  },
  "language_info": {
   "codemirror_mode": {
    "name": "ipython",
    "version": 3
   },
   "file_extension": ".py",
   "mimetype": "text/x-python",
   "name": "python",
   "nbconvert_exporter": "python",
   "pygments_lexer": "ipython3",
   "version": "3.11.3"
  }
 },
 "nbformat": 4,
 "nbformat_minor": 5
}
