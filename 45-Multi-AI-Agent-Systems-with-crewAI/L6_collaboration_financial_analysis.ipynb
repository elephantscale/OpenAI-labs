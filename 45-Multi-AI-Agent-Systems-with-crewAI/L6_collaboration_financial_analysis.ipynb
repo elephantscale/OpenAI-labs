{
 "cells": [
  {
   "cell_type": "markdown",
   "source": [
    "# Multi-agent Collaboration for Financial Analysis"
   ],
   "metadata": {
    "collapsed": false
   },
   "id": "b1679b4b7e0be8c6"
  },
  {
   "cell_type": "code",
   "outputs": [],
   "source": [
    "import warnings\n",
    "\n",
    "from crewai import Task, Agent\n",
    "from dotenv import load_dotenv\n",
    "\n",
    "import utils\n",
    "\n",
    "warnings.filterwarnings('ignore')\n",
    "load_dotenv()\n",
    "\n",
    "openai_api_key = utils.get_openai_api_key()\n",
    "SERPER_API_KEY = utils.get_serper_api_key()"
   ],
   "metadata": {
    "collapsed": false
   },
   "id": "1c7c0e15d2d7284f",
   "execution_count": null
  },
  {
   "cell_type": "code",
   "outputs": [],
   "source": [
    "from crewai_tools import ScrapeWebsiteTool, SerperDevTool\n",
    "\n",
    "search_tool = SerperDevTool()\n",
    "scrape_tool = ScrapeWebsiteTool()"
   ],
   "metadata": {
    "collapsed": false
   },
   "id": "30555ae2f64f68f4",
   "execution_count": null
  },
  {
   "cell_type": "code",
   "outputs": [],
   "source": [
    "data_analyst_agent = Agent(\n",
    "    role=\"Data Analyst\",\n",
    "    goal=\"Monitor and analyze market data in real-time \"\n",
    "         \"to identify trends and predict market movements.\",\n",
    "    backstory=\"Specializing in financial markets, this agent \"\n",
    "              \"uses statistical modeling and machine learning \"\n",
    "              \"to provide crucial insights. With a knack for data, \"\n",
    "              \"the Data Analyst Agent is the cornerstone for \"\n",
    "              \"informing trading decisions.\",\n",
    "    verbose=True,\n",
    "    allow_delegation=True,\n",
    "    tools = [scrape_tool, search_tool]\n",
    ")"
   ],
   "metadata": {
    "collapsed": false
   },
   "id": "3e5ba2bf1453c15a",
   "execution_count": null
  },
  {
   "cell_type": "code",
   "outputs": [],
   "source": [
    "trading_strategy_agent = Agent(\n",
    "    role=\"Trading Strategy Developer\",\n",
    "    goal=\"Develop and test various trading strategies based \"\n",
    "         \"on insights from the Data Analyst Agent.\",\n",
    "    backstory=\"Equipped with a deep understanding of financial \"\n",
    "              \"markets and quantitative analysis, this agent \"\n",
    "              \"devises and refines trading strategies. It evaluates \"\n",
    "              \"the performance of different approaches to determine \"\n",
    "              \"the most profitable and risk-averse options.\",\n",
    "    verbose=True,\n",
    "    allow_delegation=True,\n",
    "    tools = [scrape_tool, search_tool]\n",
    ")"
   ],
   "metadata": {
    "collapsed": false
   },
   "id": "6c74a5a955d89849",
   "execution_count": null
  },
  {
   "cell_type": "code",
   "outputs": [],
   "source": [
    "execution_agent = Agent(\n",
    "    role=\"Trade Advisor\",\n",
    "    goal=\"Suggest optimal trade execution strategies \"\n",
    "         \"based on approved trading strategies.\",\n",
    "    backstory=\"This agent specializes in analyzing the timing, price, \"\n",
    "              \"and logistical details of potential trades. By evaluating \"\n",
    "              \"these factors, it provides well-founded suggestions for \"\n",
    "              \"when and how trades should be executed to maximize \"\n",
    "              \"efficiency and adherence to strategy.\",\n",
    "    verbose=True,\n",
    "    allow_delegation=True,\n",
    "    tools = [scrape_tool, search_tool]\n",
    ")"
   ],
   "metadata": {
    "collapsed": false
   },
   "id": "4145da6fcac5433a",
   "execution_count": null
  },
  {
   "cell_type": "code",
   "outputs": [],
   "source": [
    "risk_management_agent = Agent(\n",
    "    role=\"Risk Advisor\",\n",
    "    goal=\"Evaluate and provide insights on the risks \"\n",
    "         \"associated with potential trading activities.\",\n",
    "    backstory=\"Armed with a deep understanding of risk assessment models \"\n",
    "              \"and market dynamics, this agent scrutinizes the potential \"\n",
    "              \"risks of proposed trades. It offers a detailed analysis of \"\n",
    "              \"risk exposure and suggests safeguards to ensure that \"\n",
    "              \"trading activities align with the firm’s risk tolerance.\",\n",
    "    verbose=True,\n",
    "    allow_delegation=True,\n",
    "    tools = [scrape_tool, search_tool]\n",
    ")"
   ],
   "metadata": {
    "collapsed": false
   },
   "id": "723b6fe9a6af140f",
   "execution_count": null
  },
  {
   "cell_type": "markdown",
   "source": [
    "# Creating Tasks"
   ],
   "metadata": {
    "collapsed": false
   },
   "id": "309648368c884947"
  },
  {
   "cell_type": "code",
   "outputs": [],
   "source": [
    "data_analysis_task = Task(\n",
    "    description=(\n",
    "        \"Continuously monitor and analyze market data for \"\n",
    "        \"the selected stock ({stock_selection}). \"\n",
    "        \"Use statistical modeling and machine learning to \"\n",
    "        \"identify trends and predict market movements.\"\n",
    "    ),\n",
    "    expected_output=(\n",
    "        \"Insights and alerts about significant market \"\n",
    "        \"opportunities or threats for {stock_selection}.\"\n",
    "    ),\n",
    "    agent=data_analyst_agent,\n",
    ")"
   ],
   "metadata": {
    "collapsed": false
   },
   "id": "872bbebef6795bda",
   "execution_count": null
  },
  {
   "cell_type": "code",
   "outputs": [],
   "source": [
    "strategy_development_task = Task(\n",
    "    description=(\n",
    "        \"Develop and refine trading strategies based on \"\n",
    "        \"the insights from the Data Analyst and \"\n",
    "        \"user-defined risk tolerance ({risk_tolerance}). \"\n",
    "        \"Consider trading preferences ({trading_strategy_preference}).\"\n",
    "    ),\n",
    "    expected_output=(\n",
    "        \"A set of potential trading strategies for {stock_selection} \"\n",
    "        \"that align with the user's risk tolerance.\"\n",
    "    ),\n",
    "    agent=trading_strategy_agent,\n",
    ")"
   ],
   "metadata": {
    "collapsed": false
   },
   "id": "e216b696c323c0a1",
   "execution_count": null
  },
  {
   "cell_type": "code",
   "outputs": [],
   "source": [
    "execution_planning_task = Task(\n",
    "    description=(\n",
    "        \"Analyze approved trading strategies to determine the \"\n",
    "        \"best execution methods for {stock_selection}, \"\n",
    "        \"considering current market conditions and optimal pricing.\"\n",
    "    ),\n",
    "    expected_output=(\n",
    "        \"Detailed execution plans suggesting how and when to \"\n",
    "        \"execute trades for {stock_selection}.\"\n",
    "    ),\n",
    "    agent=execution_agent,\n",
    ")"
   ],
   "metadata": {
    "collapsed": false
   },
   "id": "7f79e07c12266561",
   "execution_count": null
  },
  {
   "cell_type": "code",
   "outputs": [],
   "source": [
    "risk_assessment_task = Task(\n",
    "    description=(\n",
    "        \"Evaluate the risks associated with the proposed trading \"\n",
    "        \"strategies and execution plans for {stock_selection}. \"\n",
    "        \"Provide a detailed analysis of potential risks \"\n",
    "        \"and suggest mitigation strategies.\"\n",
    "    ),\n",
    "    expected_output=(\n",
    "        \"A comprehensive risk analysis report detailing potential \"\n",
    "        \"risks and mitigation recommendations for {stock_selection}.\"\n",
    "    ),\n",
    "    agent=risk_management_agent,\n",
    ")"
   ],
   "metadata": {
    "collapsed": false
   },
   "id": "466c072627a7b881",
   "execution_count": null
  },
  {
   "cell_type": "code",
   "outputs": [],
   "source": [
    "from crewai import Crew, Process\n",
    "from langchain_openai import ChatOpenAI\n",
    "\n",
    "financial_trading_crew = Crew(\n",
    "    agents=[data_analyst_agent, \n",
    "            trading_strategy_agent, \n",
    "            execution_agent, \n",
    "            risk_management_agent],\n",
    "    \n",
    "    tasks=[data_analysis_task, \n",
    "           strategy_development_task, \n",
    "           execution_planning_task, \n",
    "           risk_assessment_task],\n",
    "    \n",
    "    manager_llm=ChatOpenAI(temperature=0.7),\n",
    "    process=Process.hierarchical,\n",
    "    verbose=True\n",
    ")"
   ],
   "metadata": {
    "collapsed": false
   },
   "id": "9aa0017030ca50cc",
   "execution_count": null
  },
  {
   "cell_type": "code",
   "outputs": [],
   "source": [
    "financial_trading_inputs = {\n",
    "    'stock_selection': 'AAPL',\n",
    "    'initial_capital': '100000',\n",
    "    'risk_tolerance': 'Medium',\n",
    "    'trading_strategy_preference': 'Day Trading',\n",
    "    'news_impact_consideration': True\n",
    "}"
   ],
   "metadata": {
    "collapsed": false
   },
   "id": "4e46646fa90e7545",
   "execution_count": null
  },
  {
   "cell_type": "code",
   "outputs": [],
   "source": [
    "result = financial_trading_crew.kickoff(inputs=financial_trading_inputs)"
   ],
   "metadata": {
    "collapsed": false
   },
   "id": "1624cdc694ed90ec",
   "execution_count": null
  },
  {
   "cell_type": "code",
   "outputs": [],
   "source": [
    "from IPython.display import Markdown\n",
    "Markdown(result)"
   ],
   "metadata": {
    "collapsed": false
   },
   "id": "18fbd56963c75e63",
   "execution_count": null
  },
  {
   "cell_type": "code",
   "outputs": [],
   "source": [
    " "
   ],
   "metadata": {
    "collapsed": false
   },
   "id": "964ef34b8f14c681"
  }
 ],
 "metadata": {
  "kernelspec": {
   "display_name": "Python 3",
   "language": "python",
   "name": "python3"
  },
  "language_info": {
   "codemirror_mode": {
    "name": "ipython",
    "version": 2
   },
   "file_extension": ".py",
   "mimetype": "text/x-python",
   "name": "python",
   "nbconvert_exporter": "python",
   "pygments_lexer": "ipython2",
   "version": "2.7.6"
  }
 },
 "nbformat": 4,
 "nbformat_minor": 5
}
