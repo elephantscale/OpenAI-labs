{
 "cells": [
  {
   "cell_type": "code",
   "outputs": [],
   "source": [
    "import warnings\n",
    "warnings.filterwarnings('ignore')"
   ],
   "metadata": {
    "collapsed": false
   },
   "id": "5087ea67881356ec"
  },
  {
   "cell_type": "code",
   "execution_count": null,
   "id": "initial_id",
   "metadata": {
    "collapsed": true
   },
   "outputs": [],
   "source": [
    "import utils\n",
    "from dotenv import load_dotenv\n",
    "from crewai import Agent, Task\n",
    "\n",
    "load_dotenv()\n",
    "OPEN_API_KEY = utils.get_openai_api_key()"
   ]
  },
  {
   "cell_type": "markdown",
   "source": [
    "# Creating agents"
   ],
   "metadata": {
    "collapsed": false
   },
   "id": "aa76419b7fb94735"
  },
  {
   "cell_type": "code",
   "outputs": [],
   "source": [
    "support_agent = Agent(\n",
    "    role=\"Senior Support Representative\",\n",
    "    goal=\"Be the most friendly and helpful \"\n",
    "         \"support representative in your team\",\n",
    "    backstory=(\n",
    "        \"You work at crewAI (https://crewai.com) and \"\n",
    "        \" are now working on providing \"\n",
    "        \"support to {customer}, a super important customer \"\n",
    "        \" for your company.\"\n",
    "        \"You need to make sure that you provide the best support!\"\n",
    "        \"Make sure to provide full complete answers, \"\n",
    "        \" and make no assumptions.\"\n",
    "    ),\n",
    "    verbose=True,\n",
    "    allow_delegation=False\n",
    ")"
   ],
   "metadata": {
    "collapsed": false
   },
   "id": "2915216a9046b993",
   "execution_count": null
  },
  {
   "cell_type": "code",
   "outputs": [],
   "source": [
    "support_quality_assurance_agent = Agent(\n",
    "    role=\"Support Quality Assurance Specialist\",\n",
    "    goal=\"Get recognition for providing the \"\n",
    "         \"best support quality assurance in your team\",\n",
    "    backstory=(\n",
    "        \"You work at crewAI (https://crewai.com) and \"\n",
    "        \"are now working with your team \"\n",
    "        \"on a request from {customer} ensuring that \"\n",
    "        \"the support representative is \"\n",
    "        \"providing the best support possible.\\n\"\n",
    "        \"You need to make sure that the support representative \"\n",
    "        \"is providing full\"\n",
    "        \"complete answers, and make no assumptions.\"\n",
    "    ),\n",
    "    verbose=True\n",
    ")"
   ],
   "metadata": {
    "collapsed": false
   },
   "id": "dd4dbb87cb6a32c7",
   "execution_count": null
  },
  {
   "cell_type": "code",
   "outputs": [],
   "source": [
    "from crewai_tools import ScrapeWebsiteTool\n",
    "\n",
    "docs_scrape_tool = ScrapeWebsiteTool(\n",
    "    website_url=\"https://docs.crewai.com/how-to/Creating-a-Crew-and-kick-it-off/\"\n",
    ")"
   ],
   "metadata": {
    "collapsed": false
   },
   "id": "6a96df1491bbb49a",
   "execution_count": null
  },
  {
   "cell_type": "markdown",
   "source": [
    "# Creating task"
   ],
   "metadata": {
    "collapsed": false
   },
   "id": "73d8c0d08961a85f"
  },
  {
   "cell_type": "code",
   "outputs": [],
   "source": [
    "inquiry_resolution = Task(\n",
    "    description=(\n",
    "        \"{customer} just reached out with a super important ask:\\n\"\n",
    "\t    \"{inquiry}\\n\\n\"\n",
    "        \"{person} from {customer} is the one that reached out. \"\n",
    "\t\t\"Make sure to use everything you know \"\n",
    "        \"to provide the best support possible.\"\n",
    "\t\t\"You must strive to provide a complete \"\n",
    "        \"and accurate response to the customer's inquiry.\"\n",
    "    ),\n",
    "    expected_output=(\n",
    "\t    \"A detailed, informative response to the \"\n",
    "        \"customer's inquiry that addresses \"\n",
    "        \"all aspects of their question.\\n\"\n",
    "        \"The response should include references \"\n",
    "        \"to everything you used to find the answer, \"\n",
    "        \"including external data or solutions. \"\n",
    "        \"Ensure the answer is complete, \"\n",
    "\t\t\"leaving no questions unanswered, and maintain a helpful and friendly \"\n",
    "\t\t\"tone throughout.\"\n",
    "    ),\n",
    "\ttools=[docs_scrape_tool],\n",
    "    agent=support_agent,\n",
    ")"
   ],
   "metadata": {
    "collapsed": false
   },
   "id": "abde0acfe0844a53",
   "execution_count": null
  },
  {
   "cell_type": "code",
   "outputs": [],
   "source": [
    "quality_assurance_review = Task(\n",
    "    description=(\n",
    "        \"Review the response drafted by the Senior Support Representative for {customer}'s inquiry. \"\n",
    "        \"Ensure that the answer is comprehensive, accurate, and adheres to the \"\n",
    "\t\t\"high-quality standards expected for customer support.\\n\"\n",
    "        \"Verify that all parts of the customer's inquiry \"\n",
    "        \"have been addressed \"\n",
    "\t\t\"thoroughly, with a helpful and friendly tone.\\n\"\n",
    "        \"Check for references and sources used to \"\n",
    "        \" find the information, \"\n",
    "\t\t\"ensuring the response is well-supported and \"\n",
    "        \"leaves no questions unanswered.\"\n",
    "    ),\n",
    "    expected_output=(\n",
    "        \"A final, detailed, and informative response \"\n",
    "        \"ready to be sent to the customer.\\n\"\n",
    "        \"This response should fully address the \"\n",
    "        \"customer's inquiry, incorporating all \"\n",
    "\t\t\"relevant feedback and improvements.\\n\"\n",
    "\t\t\"Don't be too formal, we are a chill and cool company \"\n",
    "\t    \"but maintain a professional and friendly tone throughout.\"\n",
    "    ),\n",
    "    agent=support_quality_assurance_agent,\n",
    ")\n"
   ],
   "metadata": {
    "collapsed": false
   },
   "id": "67afac4e1af63741",
   "execution_count": null
  },
  {
   "cell_type": "markdown",
   "source": [
    "# Creating a crew"
   ],
   "metadata": {
    "collapsed": false
   },
   "id": "3b39dc37a88a057"
  },
  {
   "cell_type": "code",
   "outputs": [],
   "source": [
    "from crewai import Crew\n",
    "\n",
    "crew = Crew(\n",
    "  agents=[support_agent, support_quality_assurance_agent],\n",
    "  tasks=[inquiry_resolution, quality_assurance_review],\n",
    "  verbose=2,\n",
    "  memory=True\n",
    ")"
   ],
   "metadata": {
    "collapsed": false
   },
   "id": "5384e69c912feb7c",
   "execution_count": null
  },
  {
   "cell_type": "code",
   "outputs": [],
   "source": [
    "inputs = {\n",
    "    \"customer\": \"DeepLearningAI\",\n",
    "    \"person\": \"Andrew Ng\",\n",
    "    \"inquiry\": \"I need help with setting up a Crew \"\n",
    "               \"and kicking it off, specifically \"\n",
    "               \"how can I add memory to my crew? \"\n",
    "               \"Can you provide guidance?\"\n",
    "}"
   ],
   "metadata": {
    "collapsed": false
   },
   "id": "ed82b7f85b09cea8",
   "execution_count": null
  },
  {
   "cell_type": "code",
   "outputs": [],
   "source": [
    "from IPython.display import Markdown\n",
    "\n",
    "result=crew.kickoff(inputs)\n",
    "Markdown(result)"
   ],
   "metadata": {
    "collapsed": false
   },
   "id": "e2344746d7490dbf",
   "execution_count": null
  }
 ],
 "metadata": {
  "kernelspec": {
   "display_name": "Python 3",
   "language": "python",
   "name": "python3"
  },
  "language_info": {
   "codemirror_mode": {
    "name": "ipython",
    "version": 2
   },
   "file_extension": ".py",
   "mimetype": "text/x-python",
   "name": "python",
   "nbconvert_exporter": "python",
   "pygments_lexer": "ipython2",
   "version": "2.7.6"
  }
 },
 "nbformat": 4,
 "nbformat_minor": 5
}
