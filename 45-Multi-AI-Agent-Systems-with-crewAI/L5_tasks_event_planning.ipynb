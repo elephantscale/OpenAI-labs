{
 "cells": [
  {
   "cell_type": "markdown",
   "source": [
    "# Automate Event Planning"
   ],
   "metadata": {
    "collapsed": false
   },
   "id": "eafc859d7adf9a33"
  },
  {
   "cell_type": "code",
   "outputs": [],
   "source": [
    "import os\n",
    "import warnings\n",
    "from crewai import Task, Agent, Crew\n",
    "import utils\n",
    "from dotenv import load_dotenv\n",
    "\n",
    "warnings.filterwarnings('ignore')\n",
    "load_dotenv()\n",
    "\n",
    "openai_api_key = utils.get_openai_api_key()\n",
    "SERPER_API_KEY = utils.get_serper_api_key()\n",
    "OPENAI_MODEL_NAME = os.getenv('OPENAI_MODEL_NAME')"
   ],
   "metadata": {
    "collapsed": false
   },
   "id": "41c99dd23734d265",
   "execution_count": null
  },
  {
   "cell_type": "code",
   "outputs": [],
   "source": [
    "from crewai_tools import ScrapeWebsiteTool, SerperDevTool\n",
    "\n",
    "search_tool = SerperDevTool()\n",
    "scrape_tool = ScrapeWebsiteTool()"
   ],
   "metadata": {
    "collapsed": false
   },
   "id": "5acc3bac615ef636",
   "execution_count": null
  },
  {
   "cell_type": "markdown",
   "source": [
    "# Creating Agents"
   ],
   "metadata": {
    "collapsed": false
   },
   "id": "4f2741b18dd52233"
  },
  {
   "cell_type": "code",
   "outputs": [],
   "source": [
    "venue_coordinator = Agent(\n",
    "    role=\"Venue Coordinator\",\n",
    "    goal=\"Identify and book an appropriate venue \"\n",
    "         \"based on event requirements\",\n",
    "    tools=[search_tool, scrape_tool],\n",
    "    verbose=True,\n",
    "    backstory=(\n",
    "        \"With a keen sense of space and \"\n",
    "        \"understanding of event logistics, \"\n",
    "        \"you excel at finding and securing \"\n",
    "        \"the perfect venue that fits the event's theme, \"\n",
    "        \"size, and budget constraints.\"\n",
    "    )\n",
    ")"
   ],
   "metadata": {
    "collapsed": false
   },
   "id": "6a211f96a2ad1c57",
   "execution_count": null
  },
  {
   "cell_type": "code",
   "outputs": [],
   "source": [
    "# Agent 2: Logistics Manager\n",
    "logistics_manager = Agent(\n",
    "    role='Logistics Manager',\n",
    "    goal=(\n",
    "        \"Manage all logistics for the event \"\n",
    "        \"including catering and equipmen\"\n",
    "    ),\n",
    "    tools=[search_tool, scrape_tool],\n",
    "    verbose=True,\n",
    "    backstory=(\n",
    "        \"Organized and detail-oriented, \"\n",
    "        \"you ensure that every logistical aspect of the event \"\n",
    "        \"from catering to equipment setup \"\n",
    "        \"is flawlessly executed to create a seamless experience.\"\n",
    "    )\n",
    ")"
   ],
   "metadata": {
    "collapsed": false
   },
   "id": "bcfe39106158833c",
   "execution_count": null
  },
  {
   "cell_type": "code",
   "outputs": [],
   "source": [
    "# Agent 3: Marketing and Communications Agent\n",
    "marketing_communications_agent = Agent(\n",
    "    role=\"Marketing and Communications Agent\",\n",
    "    goal=\"Effectively market the event and \"\n",
    "         \"communicate with participants\",\n",
    "    tools=[search_tool, scrape_tool],\n",
    "    verbose=True,\n",
    "    backstory=(\n",
    "        \"Creative and communicative, \"\n",
    "        \"you craft compelling messages and \"\n",
    "        \"engage with potential attendees \"\n",
    "        \"to maximize event exposure and participation.\"\n",
    "    )\n",
    ")"
   ],
   "metadata": {
    "collapsed": false
   },
   "id": "a759326924512a54",
   "execution_count": null
  },
  {
   "cell_type": "markdown",
   "source": [
    "# Creating Venue Pydantic Object"
   ],
   "metadata": {
    "collapsed": false
   },
   "id": "42b41b347cc40f22"
  },
  {
   "cell_type": "code",
   "outputs": [],
   "source": [
    "from pydantic import BaseModel\n",
    "\n",
    "\n",
    "class VenueDetails(BaseModel):\n",
    "    name: str\n",
    "    address: str\n",
    "    capacity: int\n",
    "    booking_status: str"
   ],
   "metadata": {
    "collapsed": false
   },
   "id": "192bdf8d4ee55a87",
   "execution_count": null
  },
  {
   "cell_type": "markdown",
   "source": [
    "# Creating Tasks"
   ],
   "metadata": {
    "collapsed": false
   },
   "id": "44ca4334ee574aff"
  },
  {
   "cell_type": "code",
   "outputs": [],
   "source": [
    "venue_task = Task(\n",
    "    description=\"Find a venue in {event_city} \"\n",
    "                \"that meets criteria for {event_topic}.\",\n",
    "    expected_output=\"All the details of a specifically chosen\"\n",
    "                    \"venue you found to accommodate the event.\",\n",
    "    human_input=True,\n",
    "    output_json=VenueDetails,\n",
    "    output_file=\"venue_details.json\",\n",
    "    # Outputs the venue details as a JSON file\n",
    "    agent=venue_coordinator\n",
    ")"
   ],
   "metadata": {
    "collapsed": false
   },
   "id": "b722e23bccb9a444",
   "execution_count": null
  },
  {
   "cell_type": "code",
   "outputs": [],
   "source": [
    "logistics_task = Task(\n",
    "    description=\"Coordinate catering and \"\n",
    "                \"equipment for an event \"\n",
    "                \"with {expected_participants} participants \"\n",
    "                \"on {tentative_date}.\",\n",
    "    expected_output=\"Confirmation of all logistics arrangements \"\n",
    "                    \"including catering and equipment setup.\",\n",
    "    human_input=True,\n",
    "    async_execution=True,\n",
    "    agent=logistics_manager\n",
    ")"
   ],
   "metadata": {
    "collapsed": false
   },
   "id": "86a56f979bfe6c73",
   "execution_count": null
  },
  {
   "cell_type": "code",
   "outputs": [],
   "source": [
    "marketing_task = Task(\n",
    "    description=\"Promote the {event_topic} \"\n",
    "                \"aiming to engage at least\"\n",
    "                \"{expected_participants} potential attendees.\",\n",
    "    expected_output=\"Report on marketing activities \"\n",
    "                    \"and attendee engagement formatted as markdown.\",\n",
    "    async_execution=True,\n",
    "    output_file=\"marketing_report.md\",  # Outputs the report as a text file\n",
    "    agent=marketing_communications_agent\n",
    ")"
   ],
   "metadata": {
    "collapsed": false
   },
   "id": "247d115cce97d033",
   "execution_count": null
  },
  {
   "cell_type": "markdown",
   "source": [
    "# Creating the Crew"
   ],
   "metadata": {
    "collapsed": false
   },
   "id": "5f9a256bd14a4692"
  },
  {
   "cell_type": "code",
   "outputs": [],
   "source": [
    "event_management_crew = Crew(\n",
    "    agents=[venue_coordinator,\n",
    "            logistics_manager,\n",
    "            marketing_communications_agent],\n",
    "\n",
    "    tasks=[venue_task,\n",
    "           logistics_task,\n",
    "           marketing_task],\n",
    "\n",
    "    verbose=True\n",
    ")"
   ],
   "metadata": {
    "collapsed": false
   },
   "id": "a3a216d40bac1f16",
   "execution_count": null
  },
  {
   "cell_type": "code",
   "outputs": [],
   "source": [
    "event_details = {\n",
    "    'event_topic': \"Tech Innovation Conference\",\n",
    "    'event_description': \"A gathering of tech innovators \"\n",
    "                         \"and industry leaders \"\n",
    "                         \"to explore future technologies.\",\n",
    "    'event_city': \"San Francisco\",\n",
    "    'tentative_date': \"2024-09-15\",\n",
    "    'expected_participants': 500,\n",
    "    'budget': 20000,\n",
    "    'venue_type': \"Conference Hall\"\n",
    "}"
   ],
   "metadata": {
    "collapsed": false
   },
   "id": "4ce4e1294828005a",
   "execution_count": null
  },
  {
   "cell_type": "code",
   "outputs": [],
   "source": [
    "result = event_management_crew.kickoff(inputs=event_details)"
   ],
   "metadata": {
    "collapsed": false
   },
   "id": "1f9ba2d8019a68c",
   "execution_count": null
  },
  {
   "cell_type": "code",
   "outputs": [],
   "source": [
    "import json\n",
    "from pprint import pprint\n",
    "\n",
    "with open('venue_details.json') as f:\n",
    "    data = json.load(f)\n",
    "\n",
    "pprint(data)"
   ],
   "metadata": {
    "collapsed": false
   },
   "id": "3bdaa3443655ce73",
   "execution_count": null
  },
  {
   "cell_type": "code",
   "outputs": [],
   "source": [
    "from IPython.display import Markdown\n",
    "\n",
    "Markdown(\"marketing_report.md\")"
   ],
   "metadata": {
    "collapsed": false
   },
   "id": "c05846ddc54a94eb",
   "execution_count": null
  }
 ],
 "metadata": {
  "kernelspec": {
   "display_name": "Python 3",
   "language": "python",
   "name": "python3"
  },
  "language_info": {
   "codemirror_mode": {
    "name": "ipython",
    "version": 2
   },
   "file_extension": ".py",
   "mimetype": "text/x-python",
   "name": "python",
   "nbconvert_exporter": "python",
   "pygments_lexer": "ipython2",
   "version": "2.7.6"
  }
 },
 "nbformat": 4,
 "nbformat_minor": 5
}
