{
 "cells": [
  {
   "cell_type": "markdown",
   "source": [
    "# Create Agents to Research and Write an Article"
   ],
   "metadata": {
    "collapsed": false
   },
   "id": "bfd888a021355a51"
  },
  {
   "cell_type": "code",
   "outputs": [],
   "source": [
    "import warnings\n",
    "\n",
    "warnings.filterwarnings('ignore')"
   ],
   "metadata": {
    "collapsed": false
   },
   "id": "4369113d4f3dfc7a",
   "execution_count": null
  },
  {
   "cell_type": "code",
   "outputs": [],
   "source": [
    "from crewai import Task, Agent, Crew\n",
    "from utils import get_openai_api_key\n",
    "from dotenv import load_dotenv\n",
    "\n",
    "load_dotenv()\n"
   ],
   "metadata": {
    "collapsed": false
   },
   "id": "8d04894f6e7185ad",
   "execution_count": null
  },
  {
   "cell_type": "code",
   "outputs": [],
   "source": [
    "OPENAI_API_KEY = get_openai_api_key()"
   ],
   "metadata": {
    "collapsed": false
   },
   "id": "817a29e7606b12a8",
   "execution_count": null
  },
  {
   "cell_type": "markdown",
   "source": [
    "# Creating agent"
   ],
   "metadata": {
    "collapsed": false
   },
   "id": "ed73497fa04fc097"
  },
  {
   "cell_type": "markdown",
   "source": [
    "## Agen:Planner"
   ],
   "metadata": {
    "collapsed": false
   },
   "id": "f9fc08427584836d"
  },
  {
   "cell_type": "code",
   "outputs": [],
   "source": [
    "planner = Agent(\n",
    "    role=\"Content Planner\",\n",
    "    goal=\"Plan engaging and factually accurate content on {topic}\",\n",
    "    backstory=\"You're working on planning a blog article \"\n",
    "              \"about the topic: {topic}.\"\n",
    "              \"You collect information that helps the \"\n",
    "              \"audience learn something \"\n",
    "              \"and make informed decisions. \"\n",
    "              \"Your work is the basis for \"\n",
    "              \"the Content Writer to write an article on this topic.\",\n",
    "    allow_delegation=False,\n",
    "    verbose=True\n",
    ")"
   ],
   "metadata": {
    "collapsed": false
   },
   "id": "7af3e29e6dfd59d4",
   "execution_count": null
  },
  {
   "cell_type": "code",
   "outputs": [],
   "source": [
    "writer = Agent(\n",
    "    role=\"Content Writer\",\n",
    "    goal=\"Write insightful and factually accurate \"\n",
    "         \"opinion piece about the topic: {topic}\",\n",
    "    backstory=\"You're working on a writing \"\n",
    "              \"a new opinion piece about the topic: {topic}. \"\n",
    "              \"You base your writing on the work of \"\n",
    "              \"the Content Planner, who provides an outline \"\n",
    "              \"and relevant context about the topic. \"\n",
    "              \"You follow the main objectives and \"\n",
    "              \"direction of the outline, \"\n",
    "              \"as provide by the Content Planner. \"\n",
    "              \"You also provide objective and impartial insights \"\n",
    "              \"and back them up with information \"\n",
    "              \"provide by the Content Planner. \"\n",
    "              \"You acknowledge in your opinion piece \"\n",
    "              \"when your statements are opinions \"\n",
    "              \"as opposed to objective statements.\",\n",
    "    allow_delegation=False,\n",
    "    verbose=True\n",
    ")"
   ],
   "metadata": {
    "collapsed": false
   },
   "id": "2ccae4714c956466",
   "execution_count": null
  },
  {
   "cell_type": "code",
   "outputs": [],
   "source": [
    "editor = Agent(\n",
    "    role=\"Editor\",\n",
    "    goal=\"Edit a given blog post to align with \"\n",
    "         \"the writing style of the organization. \",\n",
    "    backstory=\"You are an editor who receives a blog post \"\n",
    "              \"from the Content Writer. \"\n",
    "              \"Your goal is to review the blog post \"\n",
    "              \"to ensure that it follows journalistic best practices,\"\n",
    "              \"provides balanced viewpoints \"\n",
    "              \"when providing opinions or assertions, \"\n",
    "              \"and also avoids major controversial topics \"\n",
    "              \"or opinions when possible.\",\n",
    "    allow_delegation=False,\n",
    "    verbose=True\n",
    ")"
   ],
   "metadata": {
    "collapsed": false
   },
   "id": "a0a6ab8ade457485",
   "execution_count": null
  },
  {
   "cell_type": "markdown",
   "source": [
    "# Creating task"
   ],
   "metadata": {
    "collapsed": false
   },
   "id": "48fec10d1aea0fe7"
  },
  {
   "cell_type": "code",
   "outputs": [],
   "source": [
    "plan = Task(\n",
    "    description=(\n",
    "        \"1. Prioritize the latest trends, key players, \"\n",
    "        \"and noteworthy news on {topic}.\\n\"\n",
    "        \"2. Identify the target audience, considering \"\n",
    "        \"their interests and pain points.\\n\"\n",
    "        \"3. Develop a detailed content outline including \"\n",
    "        \"an introduction, key points, and a call to action.\\n\"\n",
    "        \"4. Include SEO keywords and relevant data or sources.\"\n",
    "    ),\n",
    "    expected_output=\"A comprehensive content plan document \"\n",
    "                    \"with an outline, audience analysis, \"\n",
    "                    \"SEO keywords, and resources.\",\n",
    "    agent=planner,\n",
    ")"
   ],
   "metadata": {
    "collapsed": false
   },
   "id": "3c0c1445281acf93",
   "execution_count": null
  },
  {
   "cell_type": "code",
   "outputs": [],
   "source": [
    "write = Task(\n",
    "    description=(\n",
    "        \"1. Use the content plan to craft a compelling \"\n",
    "        \"blog post on {topic}.\\n\"\n",
    "        \"2. Incorporate SEO keywords naturally.\\n\"\n",
    "        \"3. Sections/Subtitles are properly named \"\n",
    "        \"in an engaging manner.\\n\"\n",
    "        \"4. Ensure the post is structured with an \"\n",
    "        \"engaging introduction, insightful body, \"\n",
    "        \"and a summarizing conclusion.\\n\"\n",
    "        \"5. Proofread for grammatical errors and \"\n",
    "        \"alignment with the brand's voice.\\n\"\n",
    "    ),\n",
    "    expected_output=\"A well-written blog post \"\n",
    "                    \"in markdown format, ready for publication, \"\n",
    "                    \"each section should have 2 or 3 paragraphs.\",\n",
    "    agent=writer,\n",
    ")"
   ],
   "metadata": {
    "collapsed": false
   },
   "id": "51de449e62274e5e",
   "execution_count": null
  },
  {
   "cell_type": "code",
   "outputs": [],
   "source": [
    "edit = Task(\n",
    "    description=(\"Proofread the given blog post for \"\n",
    "                 \"grammatical errors and \"\n",
    "                 \"alignment with the brand's voice.\"),\n",
    "    expected_output=\"A well-written blog post in markdown format, \"\n",
    "                    \"ready for publication, \"\n",
    "                    \"each section should have 2 or 3 paragraphs.\",\n",
    "    agent=editor\n",
    ")"
   ],
   "metadata": {
    "collapsed": false
   },
   "id": "43a6c48dad7360c4",
   "execution_count": null
  },
  {
   "cell_type": "markdown",
   "source": [
    "# Creating the crew"
   ],
   "metadata": {
    "collapsed": false
   },
   "id": "54ed45130629abb8"
  },
  {
   "cell_type": "code",
   "outputs": [],
   "source": [
    "crew = Crew(\n",
    "    agents=[planner, writer, editor],\n",
    "    tasks=[plan, write, edit],\n",
    "    verbose=2\n",
    ")"
   ],
   "metadata": {
    "collapsed": false
   },
   "id": "924ee551b4d6575f",
   "execution_count": null
  },
  {
   "cell_type": "markdown",
   "source": [
    "# Running the crew"
   ],
   "metadata": {
    "collapsed": false
   },
   "id": "2a9ae54a0fb5851f"
  },
  {
   "cell_type": "code",
   "outputs": [],
   "source": [
    "result = crew.kickoff(inputs={\"topic\": \"Artificial Intelligence\"})"
   ],
   "metadata": {
    "collapsed": false
   },
   "id": "d27127699960c580",
   "execution_count": null
  },
  {
   "cell_type": "code",
   "outputs": [],
   "source": [
    "from IPython.display import Markdown\n",
    "\n",
    "Markdown(result)"
   ],
   "metadata": {
    "collapsed": false
   },
   "id": "362a773a9068ef2a",
   "execution_count": null
  },
  {
   "cell_type": "code",
   "outputs": [],
   "source": [
    "result = crew.kickoff(inputs={\"topic\": \"Taj Mahal\"})\n"
   ],
   "metadata": {
    "collapsed": false
   },
   "id": "7b82e2fc1cf4a613",
   "execution_count": null
  },
  {
   "cell_type": "code",
   "outputs": [],
   "source": [
    "Markdown(result)"
   ],
   "metadata": {
    "collapsed": false
   },
   "id": "b8630e55ce65b06",
   "execution_count": null
  }
 ],
 "metadata": {
  "kernelspec": {
   "display_name": "Python 3",
   "language": "python",
   "name": "python3"
  },
  "language_info": {
   "codemirror_mode": {
    "name": "ipython",
    "version": 2
   },
   "file_extension": ".py",
   "mimetype": "text/x-python",
   "name": "python",
   "nbconvert_exporter": "python",
   "pygments_lexer": "ipython2",
   "version": "2.7.6"
  }
 },
 "nbformat": 4,
 "nbformat_minor": 5
}
