{
 "cells": [
  {
   "cell_type": "markdown",
   "id": "9d950f879d0b41f4",
   "metadata": {
    "collapsed": false
   },
   "source": [
    "# Image generation app"
   ]
  },
  {
   "cell_type": "code",
   "execution_count": null,
   "id": "7247581cf8ddb34c",
   "metadata": {
    "collapsed": false
   },
   "outputs": [],
   "source": [
    "import os\n",
    "from dotenv import load_dotenv\n",
    "\n",
    "load_dotenv()\n",
    "hf_api_key = os.environ['HF_API_KEY']"
   ]
  },
  {
   "cell_type": "code",
   "execution_count": null,
   "id": "73b51725eef30e1",
   "metadata": {
    "collapsed": false
   },
   "outputs": [],
   "source": [
    "import requests, json\n",
    "\n",
    "def get_completion(inputs, parameters=None, ENDPOINT_URL=\"https://api-inference.huggingface.co/models/runwayml/stable-diffusion-v1-5\"):\n",
    "    headers = {\n",
    "      \"Authorization\": f\"Bearer {hf_api_key}\",\n",
    "      \"Content-Type\": \"application/json\"\n",
    "    }   \n",
    "    data = { \"inputs\": inputs }\n",
    "    if parameters is not None:\n",
    "        data.update({\"parameters\": parameters})\n",
    "    response = requests.request(\"POST\",\n",
    "                                ENDPOINT_URL,\n",
    "                                headers=headers,\n",
    "                                data=json.dumps(data))\n",
    "    \n",
    "    return response.content\n"
   ]
  },
  {
   "cell_type": "code",
   "execution_count": null,
   "id": "668bba55e1005374",
   "metadata": {
    "collapsed": false
   },
   "outputs": [],
   "source": [
    "from IPython.display import Image, display\n",
    "\n",
    "prompt = \"a dog in a park\"\n",
    "\n",
    "result = get_completion(prompt)\n",
    "\n",
    "display(Image(data=result))"
   ]
  },
  {
   "cell_type": "code",
   "execution_count": null,
   "id": "c6557497801a648c",
   "metadata": {
    "collapsed": false
   },
   "outputs": [],
   "source": [
    "from PIL import Image\n",
    "import gradio as gr\n",
    "\n",
    "def raw_bytes_to_pil(img_bytes):\n",
    "    try:\n",
    "        byte_stream = BytesIO(img_bytes)\n",
    "        \n",
    "        pil_image = Image.open(byte_stream)\n",
    "        pil_image.verify()  \n",
    "        byte_stream.seek(0)  \n",
    "        pil_image = Image.open(byte_stream)  \n",
    "        return pil_image\n",
    "    except Exception as e:\n",
    "        print(f\"An error occurred: {e}\")\n",
    "        return None\n",
    "\n",
    "def generate(prompt):\n",
    "    output = get_completion(prompt)\n",
    "    print(f\"Output type: {type(output)}, length: {len(output)}\")  \n",
    "    result_image = raw_bytes_to_pil(output)\n",
    "    return result_image\n",
    "\n",
    "gr.close_all()\n",
    "demo = gr.Interface(fn=generate,\n",
    "                    inputs=[gr.Textbox(label=\"Your prompt\")],\n",
    "                    outputs=[gr.Image(label=\"Result\")],\n",
    "                    title=\"Image Generation with Stable Diffusion\",\n",
    "                    description=\"Generate any image with Stable Diffusion\",\n",
    "                    allow_flagging=\"never\",\n",
    "                    examples=[\"the spirit of a tamagotchi wandering in the city of Vienna\",\"a mecha robot in a favela\"])\n",
    "\n",
    "demo.launch()"
   ]
  },
  {
   "cell_type": "code",
   "execution_count": null,
   "id": "f580b71bb093eef5",
   "metadata": {
    "collapsed": false
   },
   "outputs": [],
   "source": [
    "from io import BytesIO\n",
    "\n",
    "def raw_bytes_to_pil(img_bytes):\n",
    "    try:\n",
    "        byte_stream = BytesIO(img_bytes)\n",
    "        \n",
    "        pil_image = Image.open(byte_stream)\n",
    "        pil_image.verify()  \n",
    "        byte_stream.seek(0)  \n",
    "        pil_image = Image.open(byte_stream)  \n",
    "        return pil_image\n",
    "    except Exception as e:\n",
    "        print(f\"An error occurred: {e}\")\n",
    "        return None\n",
    "\n",
    "def generate(prompt):\n",
    "    output = get_completion(prompt)\n",
    "    print(f\"Output type: {type(output)}, length: {len(output)}\")  \n",
    "    result_image = raw_bytes_to_pil(output)\n",
    "    return result_image\n",
    "\n",
    "gr.close_all()\n",
    "demo = gr.Interface(fn=generate,\n",
    "                    inputs=[gr.Textbox(label=\"Your prompt\")],\n",
    "                    outputs=[gr.Image(label=\"Result\")],\n",
    "                    title=\"Image Generation with Stable Diffusion\",\n",
    "                    description=\"Generate any image with Stable Diffusion\",\n",
    "                    allow_flagging=\"never\",\n",
    "                    examples=[\"the spirit of a tamagotchi wandering in the city of Vienna\", \"a mecha robot in a favela\"])\n",
    "\n",
    "demo.launch(share=True)"
   ]
  },
  {
   "cell_type": "code",
   "execution_count": null,
   "id": "cfc106f371eb6e51",
   "metadata": {
    "collapsed": false
   },
   "outputs": [],
   "source": []
  }
 ],
 "metadata": {
  "kernelspec": {
   "display_name": "Python (lab 41)",
   "language": "python",
   "name": "41"
  },
  "language_info": {
   "codemirror_mode": {
    "name": "ipython",
    "version": 3
   },
   "file_extension": ".py",
   "mimetype": "text/x-python",
   "name": "python",
   "nbconvert_exporter": "python",
   "pygments_lexer": "ipython3",
   "version": "3.10.13"
  }
 },
 "nbformat": 4,
 "nbformat_minor": 5
}
