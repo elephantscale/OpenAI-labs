{
 "cells": [
  {
   "cell_type": "markdown",
   "id": "cd95fceddfaa3a48",
   "metadata": {
    "collapsed": false,
    "jupyter": {
     "outputs_hidden": false
    }
   },
   "source": [
    "# Vectorstore retrieval"
   ]
  },
  {
   "cell_type": "code",
   "execution_count": null,
   "id": "d0caee0425949315",
   "metadata": {
    "ExecuteTime": {
     "end_time": "2024-07-17T09:53:50.204260Z",
     "start_time": "2024-07-17T09:53:49.721393Z"
    },
    "collapsed": false,
    "jupyter": {
     "outputs_hidden": false
    }
   },
   "outputs": [],
   "source": [
    "import os\n",
    "import openai\n",
    "from dotenv import load_dotenv\n",
    "\n",
    "load_dotenv()\n",
    "openai.api_key = os.getenv(\"OPENAI_API_KEY\")"
   ]
  },
  {
   "cell_type": "markdown",
   "id": "12cd3f78a7ed12b5",
   "metadata": {
    "collapsed": false,
    "jupyter": {
     "outputs_hidden": false
    }
   },
   "source": [
    "## Similarity Search"
   ]
  },
  {
   "cell_type": "code",
   "execution_count": null,
   "id": "a69296005418809f",
   "metadata": {
    "ExecuteTime": {
     "end_time": "2024-07-17T09:55:01.449415Z",
     "start_time": "2024-07-17T09:55:00.999293Z"
    },
    "collapsed": false,
    "jupyter": {
     "outputs_hidden": false
    }
   },
   "outputs": [],
   "source": [
    "from langchain.vectorstores import Chroma\n",
    "from langchain_openai.embeddings import OpenAIEmbeddings\n",
    "\n",
    "persist_directory = 'docs/chroma/'"
   ]
  },
  {
   "cell_type": "code",
   "execution_count": null,
   "id": "b3db6340ca2246ca",
   "metadata": {
    "ExecuteTime": {
     "end_time": "2024-07-17T09:55:46.791542Z",
     "start_time": "2024-07-17T09:55:46.143045Z"
    },
    "collapsed": false,
    "jupyter": {
     "outputs_hidden": false
    }
   },
   "outputs": [],
   "source": [
    "embeddings = OpenAIEmbeddings()\n",
    "vectordb = Chroma(persist_directory=persist_directory,\n",
    "                  embedding_function=embeddings)"
   ]
  },
  {
   "cell_type": "code",
   "execution_count": null,
   "id": "734866c8f4e0915b",
   "metadata": {
    "ExecuteTime": {
     "end_time": "2024-07-17T09:56:17.352790Z",
     "start_time": "2024-07-17T09:56:17.331330Z"
    },
    "collapsed": false,
    "jupyter": {
     "outputs_hidden": false
    }
   },
   "outputs": [],
   "source": [
    "print(vectordb._collection.count())"
   ]
  },
  {
   "cell_type": "code",
   "execution_count": null,
   "id": "248af3da5aa9c530",
   "metadata": {
    "ExecuteTime": {
     "end_time": "2024-07-17T09:56:25.994873Z",
     "start_time": "2024-07-17T09:56:25.988088Z"
    },
    "collapsed": false,
    "jupyter": {
     "outputs_hidden": false
    }
   },
   "outputs": [],
   "source": [
    "texts = [\n",
    "    \"\"\"The Amanita phalloides has a large and imposing epigeous (aboveground) fruiting body (basidiocarp).\"\"\",\n",
    "    \"\"\"A mushroom with a large fruiting body is the Amanita phalloides. Some varieties are all-white.\"\"\",\n",
    "    \"\"\"A. phalloides, a.k.a Death Cap, is one of the most poisonous of all known mushrooms.\"\"\",\n",
    "]"
   ]
  },
  {
   "cell_type": "code",
   "execution_count": null,
   "id": "192db723e96850f4",
   "metadata": {
    "ExecuteTime": {
     "end_time": "2024-07-17T09:57:04.492011Z",
     "start_time": "2024-07-17T09:57:03.462974Z"
    },
    "collapsed": false,
    "jupyter": {
     "outputs_hidden": false
    }
   },
   "outputs": [],
   "source": [
    "smalldb = Chroma.from_texts(texts, embedding=embeddings)"
   ]
  },
  {
   "cell_type": "code",
   "execution_count": null,
   "id": "aff268aedf056ac8",
   "metadata": {
    "ExecuteTime": {
     "end_time": "2024-07-17T09:57:09.828287Z",
     "start_time": "2024-07-17T09:57:09.824735Z"
    },
    "collapsed": false,
    "jupyter": {
     "outputs_hidden": false
    }
   },
   "outputs": [],
   "source": [
    "question = \"Tell me about all-white mushrooms with large fruiting bodies\""
   ]
  },
  {
   "cell_type": "code",
   "execution_count": null,
   "id": "a27bce2832792fc9",
   "metadata": {
    "ExecuteTime": {
     "end_time": "2024-07-17T09:57:47.797589Z",
     "start_time": "2024-07-17T09:57:47.044208Z"
    },
    "collapsed": false,
    "jupyter": {
     "outputs_hidden": false
    }
   },
   "outputs": [],
   "source": [
    "smalldb.similarity_search(question, k=2)"
   ]
  },
  {
   "cell_type": "code",
   "execution_count": null,
   "id": "1b904f1d3bf2b607",
   "metadata": {
    "ExecuteTime": {
     "end_time": "2024-07-17T09:58:32.370066Z",
     "start_time": "2024-07-17T09:58:31.653986Z"
    },
    "collapsed": false,
    "jupyter": {
     "outputs_hidden": false
    }
   },
   "outputs": [],
   "source": [
    "smalldb.max_marginal_relevance_search(question,k=2,fetch_k=3)"
   ]
  },
  {
   "cell_type": "markdown",
   "id": "e09c9123f01a54ab",
   "metadata": {
    "collapsed": false,
    "jupyter": {
     "outputs_hidden": false
    }
   },
   "source": [
    "## Addressing Diversity: Maximum marginal relevance"
   ]
  },
  {
   "cell_type": "code",
   "execution_count": null,
   "id": "a3546e279086c36",
   "metadata": {
    "ExecuteTime": {
     "end_time": "2024-07-17T09:59:18.003937Z",
     "start_time": "2024-07-17T09:59:17.172647Z"
    },
    "collapsed": false,
    "jupyter": {
     "outputs_hidden": false
    }
   },
   "outputs": [],
   "source": [
    "question = \"what did they say about matlab?\"\n",
    "docs_ss = vectordb.similarity_search(question,k=3)"
   ]
  },
  {
   "cell_type": "code",
   "execution_count": null,
   "id": "97f50fb8d1f207b8",
   "metadata": {
    "ExecuteTime": {
     "end_time": "2024-07-17T09:59:25.157096Z",
     "start_time": "2024-07-17T09:59:25.149284Z"
    },
    "collapsed": false,
    "jupyter": {
     "outputs_hidden": false
    }
   },
   "outputs": [],
   "source": [
    "docs_ss[0].page_content[:100]"
   ]
  },
  {
   "cell_type": "code",
   "execution_count": null,
   "id": "8c1478b9b8b72592",
   "metadata": {
    "ExecuteTime": {
     "end_time": "2024-07-17T09:59:45.638237Z",
     "start_time": "2024-07-17T09:59:44.931375Z"
    },
    "collapsed": false,
    "jupyter": {
     "outputs_hidden": false
    }
   },
   "outputs": [],
   "source": [
    "docs_mmr = vectordb.max_marginal_relevance_search(question,k=3)"
   ]
  },
  {
   "cell_type": "code",
   "execution_count": null,
   "id": "4395201926100507",
   "metadata": {
    "ExecuteTime": {
     "end_time": "2024-07-17T09:59:55.510372Z",
     "start_time": "2024-07-17T09:59:55.504597Z"
    },
    "collapsed": false,
    "jupyter": {
     "outputs_hidden": false
    }
   },
   "outputs": [],
   "source": [
    "docs_mmr[0].page_content[:100]"
   ]
  }
 ],
 "metadata": {
  "kernelspec": {
   "display_name": "Python 3 (ipykernel)",
   "language": "python",
   "name": "python3"
  },
  "language_info": {
   "codemirror_mode": {
    "name": "ipython",
    "version": 3
   },
   "file_extension": ".py",
   "mimetype": "text/x-python",
   "name": "python",
   "nbconvert_exporter": "python",
   "pygments_lexer": "ipython3",
   "version": "3.12.4"
  }
 },
 "nbformat": 4,
 "nbformat_minor": 5
}
