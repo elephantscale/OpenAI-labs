{
 "cells": [
  {
   "cell_type": "markdown",
   "id": "b3ba0a7dc4b9aaac",
   "metadata": {
    "collapsed": false,
    "jupyter": {
     "outputs_hidden": false
    }
   },
   "source": [
    "# Question Answering"
   ]
  },
  {
   "cell_type": "code",
   "execution_count": null,
   "id": "3214b8631bab47ee",
   "metadata": {
    "ExecuteTime": {
     "end_time": "2024-07-18T06:10:47.860003Z",
     "start_time": "2024-07-18T06:10:47.851236Z"
    },
    "collapsed": false,
    "jupyter": {
     "outputs_hidden": false
    }
   },
   "outputs": [],
   "source": [
    "import os\n",
    "import openai\n",
    "import datetime\n",
    "from dotenv import load_dotenv\n",
    "\n",
    "load_dotenv()\n",
    "openai.api_key=os.getenv(\"OPENAI_API_KEY\")"
   ]
  },
  {
   "cell_type": "code",
   "execution_count": null,
   "id": "f14948cb92dd6a51",
   "metadata": {
    "ExecuteTime": {
     "end_time": "2024-07-18T06:10:48.448782Z",
     "start_time": "2024-07-18T06:10:48.443552Z"
    },
    "collapsed": false,
    "jupyter": {
     "outputs_hidden": false
    }
   },
   "outputs": [],
   "source": [
    "current_date = datetime.datetime.now().date()\n",
    "if current_date < datetime.date(2023, 9, 2):\n",
    "    llm_name = \"gpt-3.5-turbo-0301\"\n",
    "else:\n",
    "    llm_name = \"gpt-3.5-turbo\"\n",
    "print(llm_name) "
   ]
  },
  {
   "cell_type": "code",
   "execution_count": null,
   "id": "f60cadd5b3082118",
   "metadata": {
    "ExecuteTime": {
     "end_time": "2024-07-18T06:10:54.086661Z",
     "start_time": "2024-07-18T06:10:53.072493Z"
    },
    "collapsed": false,
    "jupyter": {
     "outputs_hidden": false
    }
   },
   "outputs": [],
   "source": [
    "from langchain.vectorstores import Chroma\n",
    "from langchain_openai.embeddings import OpenAIEmbeddings\n",
    "persist_directory = 'docs/chroma/'\n",
    "embedding = OpenAIEmbeddings()\n",
    "vectordb = Chroma(persist_directory=persist_directory, embedding_function=embedding)"
   ]
  },
  {
   "cell_type": "code",
   "execution_count": null,
   "id": "b08c38188bc3a364",
   "metadata": {
    "ExecuteTime": {
     "end_time": "2024-07-18T06:11:02.350874Z",
     "start_time": "2024-07-18T06:11:02.340400Z"
    },
    "collapsed": false,
    "jupyter": {
     "outputs_hidden": false
    }
   },
   "outputs": [],
   "source": [
    "print(vectordb._collection.count())"
   ]
  },
  {
   "cell_type": "code",
   "execution_count": null,
   "id": "ca975b984e07b50d",
   "metadata": {
    "ExecuteTime": {
     "end_time": "2024-07-18T06:11:09.896953Z",
     "start_time": "2024-07-18T06:11:08.907676Z"
    },
    "collapsed": false,
    "jupyter": {
     "outputs_hidden": false
    }
   },
   "outputs": [],
   "source": [
    "question = \"What are major topics for this class?\"\n",
    "docs = vectordb.similarity_search(question,k=3)\n",
    "len(docs)"
   ]
  },
  {
   "cell_type": "code",
   "execution_count": null,
   "id": "5141fd1faaa30180",
   "metadata": {
    "ExecuteTime": {
     "end_time": "2024-07-18T06:11:17.617038Z",
     "start_time": "2024-07-18T06:11:17.450926Z"
    },
    "collapsed": false,
    "jupyter": {
     "outputs_hidden": false
    }
   },
   "outputs": [],
   "source": [
    "from langchain_openai import ChatOpenAI\n",
    "llm = ChatOpenAI(model_name=llm_name, temperature=0)"
   ]
  },
  {
   "cell_type": "markdown",
   "id": "ad8df666a8002d59",
   "metadata": {
    "collapsed": false,
    "jupyter": {
     "outputs_hidden": false
    }
   },
   "source": [
    "# RetrievalQA chain"
   ]
  },
  {
   "cell_type": "code",
   "execution_count": null,
   "id": "57c986f6fb95dc80",
   "metadata": {
    "ExecuteTime": {
     "end_time": "2024-07-18T06:12:13.761514Z",
     "start_time": "2024-07-18T06:12:13.683898Z"
    },
    "collapsed": false,
    "jupyter": {
     "outputs_hidden": false
    }
   },
   "outputs": [],
   "source": [
    "from langchain.chains.retrieval_qa.base import RetrievalQA"
   ]
  },
  {
   "cell_type": "code",
   "execution_count": null,
   "id": "593c756add05e4bb",
   "metadata": {
    "ExecuteTime": {
     "end_time": "2024-07-18T06:12:22.096515Z",
     "start_time": "2024-07-18T06:12:22.053717Z"
    },
    "collapsed": false,
    "jupyter": {
     "outputs_hidden": false
    }
   },
   "outputs": [],
   "source": [
    "qa_chain = RetrievalQA.from_chain_type(\n",
    "    llm,\n",
    "    retriever=vectordb.as_retriever()\n",
    ")"
   ]
  },
  {
   "cell_type": "code",
   "execution_count": null,
   "id": "8e2e1bdfe47f2ae8",
   "metadata": {
    "ExecuteTime": {
     "end_time": "2024-07-18T06:12:30.774377Z",
     "start_time": "2024-07-18T06:12:28.666134Z"
    },
    "collapsed": false,
    "jupyter": {
     "outputs_hidden": false
    }
   },
   "outputs": [],
   "source": [
    "result = qa_chain.invoke({\"query\": question})"
   ]
  },
  {
   "cell_type": "code",
   "execution_count": null,
   "id": "203abd338baf4a47",
   "metadata": {
    "ExecuteTime": {
     "end_time": "2024-07-18T06:12:31.428621Z",
     "start_time": "2024-07-18T06:12:31.415733Z"
    },
    "collapsed": false,
    "jupyter": {
     "outputs_hidden": false
    }
   },
   "outputs": [],
   "source": [
    "result[\"result\"]"
   ]
  },
  {
   "cell_type": "markdown",
   "id": "b1ca76b9f77a5c7c",
   "metadata": {
    "collapsed": false,
    "jupyter": {
     "outputs_hidden": false
    }
   },
   "source": [
    "### Prompt"
   ]
  },
  {
   "cell_type": "code",
   "execution_count": null,
   "id": "be8cf43a7b2ec9a3",
   "metadata": {
    "ExecuteTime": {
     "end_time": "2024-07-18T06:13:43.442242Z",
     "start_time": "2024-07-18T06:13:43.429234Z"
    },
    "collapsed": false,
    "jupyter": {
     "outputs_hidden": false
    }
   },
   "outputs": [],
   "source": [
    "from langchain.prompts import PromptTemplate\n",
    "\n",
    "# Build prompt\n",
    "template = \"\"\"Use the following pieces of context to answer the question at the end. If you don't know the answer, just say that you don't know, don't try to make up an answer. Use three sentences maximum. Keep the answer as concise as possible. Always say \"thanks for asking!\" at the end of the answer. \n",
    "{context}\n",
    "Question: {question}\n",
    "Helpful Answer:\"\"\"\n",
    "QA_CHAIN_PROMPT = PromptTemplate.from_template(template)"
   ]
  },
  {
   "cell_type": "code",
   "execution_count": null,
   "id": "b2926e9ee7cee996",
   "metadata": {
    "ExecuteTime": {
     "end_time": "2024-07-18T06:13:52.239466Z",
     "start_time": "2024-07-18T06:13:52.228273Z"
    },
    "collapsed": false,
    "jupyter": {
     "outputs_hidden": false
    }
   },
   "outputs": [],
   "source": [
    "# Run chain\n",
    "qa_chain = RetrievalQA.from_chain_type(\n",
    "    llm,\n",
    "    retriever=vectordb.as_retriever(),\n",
    "    return_source_documents=True,\n",
    "    chain_type_kwargs={\"prompt\": QA_CHAIN_PROMPT}\n",
    ")"
   ]
  },
  {
   "cell_type": "code",
   "execution_count": null,
   "id": "b96bd853cdec7c04",
   "metadata": {
    "ExecuteTime": {
     "end_time": "2024-07-18T06:13:58.792685Z",
     "start_time": "2024-07-18T06:13:58.786320Z"
    },
    "collapsed": false,
    "jupyter": {
     "outputs_hidden": false
    }
   },
   "outputs": [],
   "source": [
    "question = \"Is probability a class topic?\""
   ]
  },
  {
   "cell_type": "code",
   "execution_count": null,
   "id": "f712eda273c57657",
   "metadata": {
    "ExecuteTime": {
     "end_time": "2024-07-18T06:14:07.315136Z",
     "start_time": "2024-07-18T06:14:04.932971Z"
    },
    "collapsed": false,
    "jupyter": {
     "outputs_hidden": false
    }
   },
   "outputs": [],
   "source": [
    "result = qa_chain.invoke({\"query\": question})"
   ]
  },
  {
   "cell_type": "code",
   "execution_count": null,
   "id": "37b211e33a7af6eb",
   "metadata": {
    "ExecuteTime": {
     "end_time": "2024-07-18T06:14:10.762315Z",
     "start_time": "2024-07-18T06:14:10.757468Z"
    },
    "collapsed": false,
    "jupyter": {
     "outputs_hidden": false
    }
   },
   "outputs": [],
   "source": [
    "result[\"result\"]"
   ]
  },
  {
   "cell_type": "code",
   "execution_count": null,
   "id": "1d10d9405c257ea1",
   "metadata": {
    "ExecuteTime": {
     "end_time": "2024-07-18T06:14:13.738742Z",
     "start_time": "2024-07-18T06:14:13.733417Z"
    },
    "collapsed": false,
    "jupyter": {
     "outputs_hidden": false
    }
   },
   "outputs": [],
   "source": [
    "result[\"source_documents\"][0]"
   ]
  },
  {
   "cell_type": "markdown",
   "id": "449e4321faaf8487",
   "metadata": {
    "collapsed": false,
    "jupyter": {
     "outputs_hidden": false
    }
   },
   "source": [
    "### RetrievalQA chain types"
   ]
  },
  {
   "cell_type": "code",
   "execution_count": null,
   "id": "f8f0ad73b84c7a54",
   "metadata": {
    "ExecuteTime": {
     "end_time": "2024-07-18T06:14:48.341884Z",
     "start_time": "2024-07-18T06:14:48.333522Z"
    },
    "collapsed": false,
    "jupyter": {
     "outputs_hidden": false
    }
   },
   "outputs": [],
   "source": [
    "qa_chain_mr = RetrievalQA.from_chain_type(\n",
    "    llm,\n",
    "    retriever=vectordb.as_retriever(),\n",
    "    chain_type=\"map_reduce\"\n",
    ")"
   ]
  },
  {
   "cell_type": "code",
   "execution_count": null,
   "id": "51184935d49967fe",
   "metadata": {
    "ExecuteTime": {
     "end_time": "2024-07-18T06:15:29.337984Z",
     "start_time": "2024-07-18T06:15:20.551364Z"
    },
    "collapsed": false,
    "jupyter": {
     "outputs_hidden": false
    }
   },
   "outputs": [],
   "source": [
    "result = qa_chain_mr.invoke({\"query\": question})"
   ]
  },
  {
   "cell_type": "code",
   "execution_count": null,
   "id": "d6dacd08f448aa24",
   "metadata": {
    "ExecuteTime": {
     "end_time": "2024-07-18T06:19:23.935555Z",
     "start_time": "2024-07-18T06:19:23.903063Z"
    },
    "collapsed": false,
    "jupyter": {
     "outputs_hidden": false
    }
   },
   "outputs": [],
   "source": [
    "result[\"result\"]"
   ]
  },
  {
   "cell_type": "markdown",
   "id": "95c1977d8bc2153",
   "metadata": {
    "collapsed": false,
    "jupyter": {
     "outputs_hidden": false
    }
   },
   "source": [
    "## note: for creating langchain plus key\n",
    "- Go to LangSmith and sign up\n",
    "- Create an API key from your account's settings"
   ]
  },
  {
   "cell_type": "code",
   "execution_count": null,
   "id": "ece8f40f2aded8dc",
   "metadata": {
    "ExecuteTime": {
     "end_time": "2024-07-18T06:20:30.368146Z",
     "start_time": "2024-07-18T06:20:30.358664Z"
    },
    "collapsed": false,
    "jupyter": {
     "outputs_hidden": false
    }
   },
   "outputs": [],
   "source": [
    "LANGCHAIN_TRACING_V2=os.getenv(\"LANGCHAIN_TRACING_V2\")\n",
    "LANGCHAIN_ENDPOINT=os.getenv(\"LANGCHAIN_ENDPOINT\")\n",
    "LANGCHAIN_API_KEY=os.getenv(\"LANGCHAIN_API_KEY\")"
   ]
  },
  {
   "cell_type": "code",
   "execution_count": null,
   "id": "d9463b85f62b36c6",
   "metadata": {
    "ExecuteTime": {
     "end_time": "2024-07-18T06:22:21.305059Z",
     "start_time": "2024-07-18T06:22:08.845148Z"
    },
    "collapsed": false,
    "jupyter": {
     "outputs_hidden": false
    }
   },
   "outputs": [],
   "source": [
    "qa_chain_mr=RetrievalQA.from_chain_type(\n",
    "    llm,\n",
    "    retriever=vectordb.as_retriever(),\n",
    "    chain_type=\"map_reduce\"\n",
    ")\n",
    "\n",
    "result=qa_chain_mr.invoke({\"query\": question})\n",
    "result[\"result\"]"
   ]
  },
  {
   "cell_type": "code",
   "execution_count": null,
   "id": "a6977d7f2836ae33",
   "metadata": {
    "ExecuteTime": {
     "end_time": "2024-07-18T06:23:53.778566Z",
     "start_time": "2024-07-18T06:23:44.881623Z"
    },
    "collapsed": false,
    "jupyter": {
     "outputs_hidden": false
    }
   },
   "outputs": [],
   "source": [
    "qa_chain_mr = RetrievalQA.from_chain_type(\n",
    "    llm,\n",
    "    retriever=vectordb.as_retriever(),\n",
    "    chain_type=\"refine\"\n",
    ")\n",
    "result = qa_chain_mr.invoke({\"query\": question})\n",
    "result[\"result\"]"
   ]
  },
  {
   "cell_type": "markdown",
   "id": "7a6a888d6e2c8755",
   "metadata": {
    "collapsed": false,
    "jupyter": {
     "outputs_hidden": false
    }
   },
   "source": [
    "## RetrievalQA limitations"
   ]
  },
  {
   "cell_type": "code",
   "execution_count": null,
   "id": "e9e315fe60ab7645",
   "metadata": {
    "ExecuteTime": {
     "end_time": "2024-07-18T06:24:08.870641Z",
     "start_time": "2024-07-18T06:24:08.861694Z"
    },
    "collapsed": false,
    "jupyter": {
     "outputs_hidden": false
    }
   },
   "outputs": [],
   "source": [
    "qa_chain = RetrievalQA.from_chain_type(\n",
    "    llm,\n",
    "    retriever=vectordb.as_retriever()\n",
    ")"
   ]
  },
  {
   "cell_type": "code",
   "execution_count": null,
   "id": "402ca88401a4dba0",
   "metadata": {
    "ExecuteTime": {
     "end_time": "2024-07-18T06:24:16.989190Z",
     "start_time": "2024-07-18T06:24:14.700178Z"
    },
    "collapsed": false,
    "jupyter": {
     "outputs_hidden": false
    }
   },
   "outputs": [],
   "source": [
    "question = \"Is probability a class topic?\"\n",
    "result = qa_chain.invoke({\"query\": question})\n",
    "result[\"result\"]"
   ]
  },
  {
   "cell_type": "code",
   "execution_count": null,
   "id": "558e453e09c0b79f",
   "metadata": {
    "ExecuteTime": {
     "end_time": "2024-07-18T06:24:23.060281Z",
     "start_time": "2024-07-18T06:24:20.553593Z"
    },
    "collapsed": false,
    "jupyter": {
     "outputs_hidden": false
    }
   },
   "outputs": [],
   "source": [
    "question = \"why are those prerequesites needed?\"\n",
    "result = qa_chain.invoke({\"query\": question})\n",
    "result[\"result\"]"
   ]
  }
 ],
 "metadata": {
  "kernelspec": {
   "display_name": "Python (lab 34)",
   "language": "python",
   "name": "34"
  },
  "language_info": {
   "codemirror_mode": {
    "name": "ipython",
    "version": 3
   },
   "file_extension": ".py",
   "mimetype": "text/x-python",
   "name": "python",
   "nbconvert_exporter": "python",
   "pygments_lexer": "ipython3",
   "version": "3.12.4"
  }
 },
 "nbformat": 4,
 "nbformat_minor": 5
}
