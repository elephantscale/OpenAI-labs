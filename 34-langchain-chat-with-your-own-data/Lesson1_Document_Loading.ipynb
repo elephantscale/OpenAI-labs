{
 "cells": [
  {
   "cell_type": "markdown",
   "id": "8f0c1e03e37f7501",
   "metadata": {
    "collapsed": false,
    "jupyter": {
     "outputs_hidden": false
    }
   },
   "source": [
    "# Document Loading"
   ]
  },
  {
   "cell_type": "markdown",
   "id": "3f582d4c26b75a7",
   "metadata": {
    "collapsed": false,
    "jupyter": {
     "outputs_hidden": false
    }
   },
   "source": [
    "## PDFs"
   ]
  },
  {
   "cell_type": "code",
   "execution_count": null,
   "id": "initial_id",
   "metadata": {
    "ExecuteTime": {
     "end_time": "2024-07-18T04:25:46.084676Z",
     "start_time": "2024-07-18T04:25:45.079627Z"
    }
   },
   "outputs": [],
   "source": [
    "import os\n",
    "import openai\n",
    "from dotenv import load_dotenv\n",
    "from langchain.document_loaders import PyPDFLoader\n",
    "\n",
    "load_dotenv()\n",
    "\n",
    "openai.api_key=os.getenv(\"OPENAI_API_KEY\")"
   ]
  },
  {
   "cell_type": "code",
   "execution_count": null,
   "id": "76cde835f3e50db5",
   "metadata": {
    "ExecuteTime": {
     "end_time": "2024-07-18T04:25:46.277960Z",
     "start_time": "2024-07-18T04:25:46.092513Z"
    },
    "collapsed": false,
    "jupyter": {
     "outputs_hidden": false
    }
   },
   "outputs": [],
   "source": [
    "loader=PyPDFLoader(\"./docs/MachineLearning-Lecture01.pdf\")\n",
    "pages=loader.load()"
   ]
  },
  {
   "cell_type": "code",
   "execution_count": null,
   "id": "e6913db7bcf646ee",
   "metadata": {
    "ExecuteTime": {
     "end_time": "2024-07-18T04:25:46.284642Z",
     "start_time": "2024-07-18T04:25:46.278924Z"
    },
    "collapsed": false,
    "jupyter": {
     "outputs_hidden": false
    }
   },
   "outputs": [],
   "source": [
    "len(pages)"
   ]
  },
  {
   "cell_type": "code",
   "execution_count": null,
   "id": "341cdf9eb94bf666",
   "metadata": {
    "ExecuteTime": {
     "end_time": "2024-07-18T04:25:46.292274Z",
     "start_time": "2024-07-18T04:25:46.289264Z"
    },
    "collapsed": false,
    "jupyter": {
     "outputs_hidden": false
    }
   },
   "outputs": [],
   "source": [
    "page=pages[0]"
   ]
  },
  {
   "cell_type": "code",
   "execution_count": null,
   "id": "cac74870eeffd976",
   "metadata": {
    "ExecuteTime": {
     "end_time": "2024-07-18T04:25:46.297074Z",
     "start_time": "2024-07-18T04:25:46.293746Z"
    },
    "collapsed": false,
    "jupyter": {
     "outputs_hidden": false
    }
   },
   "outputs": [],
   "source": [
    "print(page.page_content[0:500])"
   ]
  },
  {
   "cell_type": "code",
   "execution_count": null,
   "id": "98d94df2aeae1b2e",
   "metadata": {
    "ExecuteTime": {
     "end_time": "2024-07-18T04:25:46.305876Z",
     "start_time": "2024-07-18T04:25:46.298572Z"
    },
    "collapsed": false,
    "jupyter": {
     "outputs_hidden": false
    }
   },
   "outputs": [],
   "source": [
    "page.metadata"
   ]
  },
  {
   "cell_type": "markdown",
   "id": "b6cb6abd92982aed",
   "metadata": {
    "collapsed": false,
    "jupyter": {
     "outputs_hidden": false
    }
   },
   "source": [
    "# YouTube"
   ]
  },
  {
   "cell_type": "code",
   "execution_count": null,
   "id": "ceef4a23c1e18c6e",
   "metadata": {
    "ExecuteTime": {
     "end_time": "2024-07-18T04:25:46.318238Z",
     "start_time": "2024-07-18T04:25:46.307855Z"
    },
    "collapsed": false,
    "jupyter": {
     "outputs_hidden": false
    }
   },
   "outputs": [],
   "source": [
    "from langchain_community.document_loaders import YoutubeLoader"
   ]
  },
  {
   "cell_type": "code",
   "execution_count": null,
   "id": "27964cef67babcd0",
   "metadata": {
    "ExecuteTime": {
     "end_time": "2024-07-18T04:25:47.444561Z",
     "start_time": "2024-07-18T04:25:46.320177Z"
    },
    "collapsed": false,
    "jupyter": {
     "outputs_hidden": false
    }
   },
   "outputs": [],
   "source": [
    "url=\"https://www.youtube.com/watch?v=jGwO_UgTS7I\"\n",
    "save_dir=\"./docs/youtube/\"\n",
    "\n",
    "loader=YoutubeLoader.from_youtube_url(url,add_video_info=False)\n",
    "\n",
    "docs=loader.load()"
   ]
  },
  {
   "cell_type": "code",
   "execution_count": null,
   "id": "8b0c88c3ccc94c25",
   "metadata": {
    "ExecuteTime": {
     "end_time": "2024-07-18T04:25:47.449335Z",
     "start_time": "2024-07-18T04:25:47.445647Z"
    },
    "collapsed": false,
    "jupyter": {
     "outputs_hidden": false
    }
   },
   "outputs": [],
   "source": [
    "docs[0].page_content[0:500]"
   ]
  },
  {
   "cell_type": "markdown",
   "id": "e8a0859fe3d6fbb8",
   "metadata": {
    "collapsed": false,
    "jupyter": {
     "outputs_hidden": false
    }
   },
   "source": [
    "## URLs"
   ]
  },
  {
   "cell_type": "code",
   "execution_count": null,
   "id": "bd04b5682512ac74",
   "metadata": {
    "ExecuteTime": {
     "end_time": "2024-07-18T04:25:47.571491Z",
     "start_time": "2024-07-18T04:25:47.451190Z"
    },
    "collapsed": false,
    "jupyter": {
     "outputs_hidden": false
    }
   },
   "outputs": [],
   "source": [
    "import os \n",
    "os.environ['USER_AGENT'] = 'myagent'\n",
    "from langchain.document_loaders import WebBaseLoader\n",
    "\n",
    "loader = WebBaseLoader(\"https://python.langchain.com/v0.2/docs/integrations/document_loaders/youtube_audio/\")"
   ]
  },
  {
   "cell_type": "code",
   "execution_count": null,
   "id": "ad7785915c9f0f3e",
   "metadata": {
    "ExecuteTime": {
     "end_time": "2024-07-18T04:25:48.242356Z",
     "start_time": "2024-07-18T04:25:47.572903Z"
    },
    "collapsed": false,
    "jupyter": {
     "outputs_hidden": false
    }
   },
   "outputs": [],
   "source": [
    "docs=loader.load()\n",
    "\n",
    "docs[0].page_content[0:500].strip()"
   ]
  },
  {
   "cell_type": "markdown",
   "id": "9aaf8a0f88b5b5a",
   "metadata": {
    "collapsed": false,
    "jupyter": {
     "outputs_hidden": false
    }
   },
   "source": [
    "## Notion DB"
   ]
  },
  {
   "cell_type": "code",
   "execution_count": null,
   "id": "94afc80fd9ec0154",
   "metadata": {
    "ExecuteTime": {
     "end_time": "2024-07-18T04:25:48.250435Z",
     "start_time": "2024-07-18T04:25:48.243354Z"
    },
    "collapsed": false,
    "jupyter": {
     "outputs_hidden": false
    }
   },
   "outputs": [],
   "source": [
    "from langchain.document_loaders import NotionDirectoryLoader\n",
    "loader = NotionDirectoryLoader(\"./docs/Notion_DB\")\n",
    "docs=loader.load()"
   ]
  },
  {
   "cell_type": "code",
   "execution_count": null,
   "id": "b31aa66a27ab6fe7",
   "metadata": {
    "ExecuteTime": {
     "end_time": "2024-07-18T04:25:48.257799Z",
     "start_time": "2024-07-18T04:25:48.252383Z"
    },
    "collapsed": false,
    "jupyter": {
     "outputs_hidden": false
    }
   },
   "outputs": [],
   "source": [
    "print(docs[0].page_content[0:200])"
   ]
  },
  {
   "cell_type": "code",
   "execution_count": null,
   "id": "7ab1e9a4756ac6d1",
   "metadata": {
    "ExecuteTime": {
     "end_time": "2024-07-18T04:25:48.265007Z",
     "start_time": "2024-07-18T04:25:48.260843Z"
    },
    "collapsed": false,
    "jupyter": {
     "outputs_hidden": false
    }
   },
   "outputs": [],
   "source": [
    "docs[0].metadata"
   ]
  }
 ],
 "metadata": {
  "kernelspec": {
   "display_name": "Python (lab 34)",
   "language": "python",
   "name": "34"
  },
  "language_info": {
   "codemirror_mode": {
    "name": "ipython",
    "version": 3
   },
   "file_extension": ".py",
   "mimetype": "text/x-python",
   "name": "python",
   "nbconvert_exporter": "python",
   "pygments_lexer": "ipython3",
   "version": "3.12.4"
  }
 },
 "nbformat": 4,
 "nbformat_minor": 5
}
