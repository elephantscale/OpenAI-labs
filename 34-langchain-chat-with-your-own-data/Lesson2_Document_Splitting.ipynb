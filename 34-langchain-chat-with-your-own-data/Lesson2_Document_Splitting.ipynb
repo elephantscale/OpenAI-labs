{
 "cells": [
  {
   "cell_type": "markdown",
   "id": "f4cd49c66468a9a",
   "metadata": {
    "collapsed": false,
    "jupyter": {
     "outputs_hidden": false
    }
   },
   "source": [
    "# Document Splitting"
   ]
  },
  {
   "cell_type": "code",
   "execution_count": null,
   "id": "df117c43e5dc545d",
   "metadata": {
    "ExecuteTime": {
     "end_time": "2024-07-18T04:28:35.560917Z",
     "start_time": "2024-07-18T04:28:35.458992Z"
    },
    "collapsed": false,
    "jupyter": {
     "outputs_hidden": false
    }
   },
   "outputs": [],
   "source": [
    "import os\n",
    "import openai\n",
    "from dotenv import load_dotenv\n",
    "\n",
    "load_dotenv()\n",
    "openai.api_key=os.getenv(\"OPENAI_API_KEY\")"
   ]
  },
  {
   "cell_type": "code",
   "execution_count": null,
   "id": "677e89610131cee3",
   "metadata": {
    "ExecuteTime": {
     "end_time": "2024-07-18T04:28:35.573645Z",
     "start_time": "2024-07-18T04:28:35.565270Z"
    },
    "collapsed": false,
    "jupyter": {
     "outputs_hidden": false
    }
   },
   "outputs": [],
   "source": [
    "from langchain.text_splitter import RecursiveCharacterTextSplitter\n",
    "from langchain.text_splitter import CharacterTextSplitter\n",
    "\n",
    "chunk_size=26\n",
    "chunk_overlap=4\n",
    "\n",
    "rec_spilliter=RecursiveCharacterTextSplitter(chunk_size=chunk_size, chunk_overlap=chunk_overlap)\n",
    "\n",
    "char_text_splitter = CharacterTextSplitter(chunk_size=chunk_size, chunk_overlap=chunk_overlap)"
   ]
  },
  {
   "cell_type": "code",
   "execution_count": null,
   "id": "fce002f8eb0a4864",
   "metadata": {
    "ExecuteTime": {
     "end_time": "2024-07-18T04:28:35.589397Z",
     "start_time": "2024-07-18T04:28:35.576553Z"
    },
    "collapsed": false,
    "jupyter": {
     "outputs_hidden": false
    }
   },
   "outputs": [],
   "source": [
    "text1=\"abcdefghijklmnopqrstuvwxyz\"\n",
    "text2=\"abcdefghijklmnopqrstuvwxyzabcdefg\"\n",
    "\n",
    "rec_spilliter.split_text(text1)\n"
   ]
  },
  {
   "cell_type": "code",
   "execution_count": null,
   "id": "bf43a926e966ca02",
   "metadata": {
    "ExecuteTime": {
     "end_time": "2024-07-18T04:28:35.621696Z",
     "start_time": "2024-07-18T04:28:35.606367Z"
    },
    "collapsed": false,
    "jupyter": {
     "outputs_hidden": false
    }
   },
   "outputs": [],
   "source": [
    "rec_spilliter.split_text(text2)"
   ]
  },
  {
   "cell_type": "code",
   "execution_count": null,
   "id": "dc3324863b51190",
   "metadata": {
    "ExecuteTime": {
     "end_time": "2024-07-18T04:28:35.628816Z",
     "start_time": "2024-07-18T04:28:35.624891Z"
    },
    "collapsed": false,
    "jupyter": {
     "outputs_hidden": false
    }
   },
   "outputs": [],
   "source": [
    "text3 = \"a b c d e f g h i j k l m n o p q r s t u v w x y z\""
   ]
  },
  {
   "cell_type": "code",
   "execution_count": null,
   "id": "4f9b9b914f89def9",
   "metadata": {
    "ExecuteTime": {
     "end_time": "2024-07-18T04:28:35.762395Z",
     "start_time": "2024-07-18T04:28:35.755481Z"
    },
    "collapsed": false,
    "jupyter": {
     "outputs_hidden": false
    }
   },
   "outputs": [],
   "source": [
    "rec_spilliter.split_text(text3)"
   ]
  },
  {
   "cell_type": "code",
   "execution_count": null,
   "id": "660ee76ad5f0260e",
   "metadata": {
    "ExecuteTime": {
     "end_time": "2024-07-18T04:28:35.876550Z",
     "start_time": "2024-07-18T04:28:35.868597Z"
    },
    "collapsed": false,
    "jupyter": {
     "outputs_hidden": false
    }
   },
   "outputs": [],
   "source": [
    "char_text_splitter.split_text(text3)"
   ]
  },
  {
   "cell_type": "code",
   "execution_count": null,
   "id": "b04ac2d4ef743375",
   "metadata": {
    "ExecuteTime": {
     "end_time": "2024-07-18T04:28:35.906501Z",
     "start_time": "2024-07-18T04:28:35.898570Z"
    },
    "collapsed": false,
    "jupyter": {
     "outputs_hidden": false
    }
   },
   "outputs": [],
   "source": [
    "c_splitter = CharacterTextSplitter(\n",
    "    chunk_size=chunk_size,\n",
    "    chunk_overlap=chunk_overlap,\n",
    "    separator = ' '\n",
    ")\n",
    "c_splitter.split_text(text3)"
   ]
  },
  {
   "cell_type": "code",
   "execution_count": null,
   "id": "fbd0db202139aa3b",
   "metadata": {
    "ExecuteTime": {
     "end_time": "2024-07-18T04:28:35.982517Z",
     "start_time": "2024-07-18T04:28:35.976676Z"
    },
    "collapsed": false,
    "jupyter": {
     "outputs_hidden": false
    }
   },
   "outputs": [],
   "source": [
    "some_text = \"\"\"When writing documents, writers will use document structure to group content. \\\n",
    "This can convey to the reader, which idea's are related. For example, closely related ideas \\\n",
    "are in sentances. Similar ideas are in paragraphs. Paragraphs form a document. \\n\\n  \\\n",
    "Paragraphs are often delimited with a carriage return or two carriage returns. \\\n",
    "Carriage returns are the \"backslash n\" you see embedded in this string. \\\n",
    "Sentences have a period at the end, but also, have a space.\\\n",
    "and words are separated by space.\"\"\""
   ]
  },
  {
   "cell_type": "code",
   "execution_count": null,
   "id": "bfd82c38641ea7d",
   "metadata": {
    "ExecuteTime": {
     "end_time": "2024-07-18T04:28:36.008739Z",
     "start_time": "2024-07-18T04:28:36.004795Z"
    },
    "collapsed": false,
    "jupyter": {
     "outputs_hidden": false
    }
   },
   "outputs": [],
   "source": [
    "len(some_text)"
   ]
  },
  {
   "cell_type": "code",
   "execution_count": null,
   "id": "75fb196f7c9f2eae",
   "metadata": {
    "ExecuteTime": {
     "end_time": "2024-07-18T04:28:36.035610Z",
     "start_time": "2024-07-18T04:28:36.029146Z"
    },
    "collapsed": false,
    "jupyter": {
     "outputs_hidden": false
    }
   },
   "outputs": [],
   "source": [
    "char_text_splitter=CharacterTextSplitter(chunk_size=450,chunk_overlap=0,separator=' ')\n",
    "\n",
    "rec_spilliter=RecursiveCharacterTextSplitter(chunk_size=450,chunk_overlap=0,separators=[\"\\n\\n\", \"\\n\", \" \", \"\"])"
   ]
  },
  {
   "cell_type": "code",
   "execution_count": null,
   "id": "c5cd142640e762f6",
   "metadata": {
    "ExecuteTime": {
     "end_time": "2024-07-18T04:28:36.050047Z",
     "start_time": "2024-07-18T04:28:36.043507Z"
    },
    "collapsed": false,
    "jupyter": {
     "outputs_hidden": false
    }
   },
   "outputs": [],
   "source": [
    "char_text_splitter.split_text(some_text)"
   ]
  },
  {
   "cell_type": "code",
   "execution_count": null,
   "id": "3d3ce18828608a2a",
   "metadata": {
    "ExecuteTime": {
     "end_time": "2024-07-18T04:28:36.076761Z",
     "start_time": "2024-07-18T04:28:36.070767Z"
    },
    "collapsed": false,
    "jupyter": {
     "outputs_hidden": false
    }
   },
   "outputs": [],
   "source": [
    "rec_spilliter.split_text(some_text)"
   ]
  },
  {
   "cell_type": "code",
   "execution_count": null,
   "id": "54e506e263dcfeb8",
   "metadata": {
    "ExecuteTime": {
     "end_time": "2024-07-18T04:28:36.105295Z",
     "start_time": "2024-07-18T04:28:36.097994Z"
    },
    "collapsed": false,
    "jupyter": {
     "outputs_hidden": false
    }
   },
   "outputs": [],
   "source": [
    "r_splitter = RecursiveCharacterTextSplitter(\n",
    "    chunk_size=150,\n",
    "    chunk_overlap=0,\n",
    "    separators=[\"\\n\\n\", \"\\n\", \". \", \" \", \"\"]\n",
    ")\n",
    "r_splitter.split_text(some_text)"
   ]
  },
  {
   "cell_type": "code",
   "execution_count": null,
   "id": "8325b20aaad14bc7",
   "metadata": {
    "ExecuteTime": {
     "end_time": "2024-07-18T04:28:36.124790Z",
     "start_time": "2024-07-18T04:28:36.117621Z"
    },
    "collapsed": false,
    "jupyter": {
     "outputs_hidden": false
    }
   },
   "outputs": [],
   "source": [
    "r_splitter = RecursiveCharacterTextSplitter(\n",
    "    chunk_size=150,\n",
    "    chunk_overlap=0,\n",
    "    separators=[\"\\n\\n\", \"\\n\", \". \", \" \", \"\"]\n",
    ")\n",
    "r_splitter.split_text(some_text)"
   ]
  },
  {
   "cell_type": "code",
   "execution_count": null,
   "id": "f62b81d5b79834f6",
   "metadata": {
    "ExecuteTime": {
     "end_time": "2024-07-18T04:28:36.302166Z",
     "start_time": "2024-07-18T04:28:36.170542Z"
    },
    "collapsed": false,
    "jupyter": {
     "outputs_hidden": false
    }
   },
   "outputs": [],
   "source": [
    "from langchain.document_loaders import PyPDFLoader\n",
    "\n",
    "loader = PyPDFLoader(\"./docs/MachineLearning-Lecture01.pdf\")\n",
    "pages=loader.load()"
   ]
  },
  {
   "cell_type": "code",
   "execution_count": null,
   "id": "8e0b27c1803f4c82",
   "metadata": {
    "ExecuteTime": {
     "end_time": "2024-07-18T04:28:36.305999Z",
     "start_time": "2024-07-18T04:28:36.303706Z"
    },
    "collapsed": false,
    "jupyter": {
     "outputs_hidden": false
    }
   },
   "outputs": [],
   "source": [
    "from langchain.text_splitter import CharacterTextSplitter\n",
    "text_splitter = CharacterTextSplitter(\n",
    "    separator=\"\\n\",\n",
    "    chunk_size=1000,\n",
    "    chunk_overlap=150,\n",
    "    length_function=len\n",
    ")"
   ]
  },
  {
   "cell_type": "code",
   "execution_count": null,
   "id": "cf1f18b8ff3bc823",
   "metadata": {
    "ExecuteTime": {
     "end_time": "2024-07-18T04:28:36.311025Z",
     "start_time": "2024-07-18T04:28:36.307118Z"
    },
    "collapsed": false,
    "jupyter": {
     "outputs_hidden": false
    }
   },
   "outputs": [],
   "source": [
    "docs = text_splitter.split_documents(pages)"
   ]
  },
  {
   "cell_type": "code",
   "execution_count": null,
   "id": "1f109f7bfff3f7b9",
   "metadata": {
    "ExecuteTime": {
     "end_time": "2024-07-18T04:28:36.322203Z",
     "start_time": "2024-07-18T04:28:36.314655Z"
    },
    "collapsed": false,
    "jupyter": {
     "outputs_hidden": false
    }
   },
   "outputs": [],
   "source": [
    "len(docs)"
   ]
  },
  {
   "cell_type": "code",
   "execution_count": null,
   "id": "56af65f97e1b2559",
   "metadata": {
    "ExecuteTime": {
     "end_time": "2024-07-18T04:28:36.330385Z",
     "start_time": "2024-07-18T04:28:36.325184Z"
    },
    "collapsed": false,
    "jupyter": {
     "outputs_hidden": false
    }
   },
   "outputs": [],
   "source": [
    "len(pages)"
   ]
  },
  {
   "cell_type": "code",
   "execution_count": null,
   "id": "ea724439c84aa3d6",
   "metadata": {
    "ExecuteTime": {
     "end_time": "2024-07-18T04:28:36.346745Z",
     "start_time": "2024-07-18T04:28:36.338075Z"
    },
    "collapsed": false,
    "jupyter": {
     "outputs_hidden": false
    }
   },
   "outputs": [],
   "source": [
    "from langchain.document_loaders import NotionDirectoryLoader\n",
    "loader = NotionDirectoryLoader(\"docs/Notion_DB\")\n",
    "notion_db = loader.load()"
   ]
  },
  {
   "cell_type": "code",
   "execution_count": null,
   "id": "6420ec15067f82c0",
   "metadata": {
    "ExecuteTime": {
     "end_time": "2024-07-18T04:28:36.355231Z",
     "start_time": "2024-07-18T04:28:36.351602Z"
    },
    "collapsed": false,
    "jupyter": {
     "outputs_hidden": false
    }
   },
   "outputs": [],
   "source": [
    "docs = text_splitter.split_documents(notion_db)"
   ]
  },
  {
   "cell_type": "code",
   "execution_count": null,
   "id": "844db9e75f0174ca",
   "metadata": {
    "ExecuteTime": {
     "end_time": "2024-07-18T04:28:36.362399Z",
     "start_time": "2024-07-18T04:28:36.357208Z"
    },
    "collapsed": false,
    "jupyter": {
     "outputs_hidden": false
    }
   },
   "outputs": [],
   "source": [
    "len(notion_db)"
   ]
  },
  {
   "cell_type": "code",
   "execution_count": null,
   "id": "d55840d0ab4e55b8",
   "metadata": {
    "ExecuteTime": {
     "end_time": "2024-07-18T04:28:36.405963Z",
     "start_time": "2024-07-18T04:28:36.401989Z"
    },
    "collapsed": false,
    "jupyter": {
     "outputs_hidden": false
    }
   },
   "outputs": [],
   "source": [
    "len(docs)"
   ]
  },
  {
   "cell_type": "markdown",
   "id": "cf40aef0f1e11bb8",
   "metadata": {
    "collapsed": false,
    "jupyter": {
     "outputs_hidden": false
    }
   },
   "source": [
    "## Token splitting"
   ]
  },
  {
   "cell_type": "code",
   "execution_count": null,
   "id": "7100b4f4cea3e142",
   "metadata": {
    "ExecuteTime": {
     "end_time": "2024-07-18T04:28:41.496396Z",
     "start_time": "2024-07-18T04:28:36.409014Z"
    },
    "collapsed": false,
    "jupyter": {
     "outputs_hidden": false
    }
   },
   "outputs": [],
   "source": [
    "from langchain.text_splitter import TokenTextSplitter\n",
    "\n",
    "text_splitter = TokenTextSplitter(chunk_size=1,chunk_overlap=0)"
   ]
  },
  {
   "cell_type": "code",
   "execution_count": null,
   "id": "b407a0f28c6dfab1",
   "metadata": {
    "ExecuteTime": {
     "end_time": "2024-07-18T04:28:41.504531Z",
     "start_time": "2024-07-18T04:28:41.501077Z"
    },
    "collapsed": false,
    "jupyter": {
     "outputs_hidden": false
    }
   },
   "outputs": [],
   "source": [
    "text1 = \"foo bar bazzyfoo\""
   ]
  },
  {
   "cell_type": "code",
   "execution_count": null,
   "id": "387ae169b231f8f8",
   "metadata": {
    "ExecuteTime": {
     "end_time": "2024-07-18T04:28:41.510429Z",
     "start_time": "2024-07-18T04:28:41.505507Z"
    },
    "collapsed": false,
    "jupyter": {
     "outputs_hidden": false
    }
   },
   "outputs": [],
   "source": [
    "text_splitter.split_text(text1)"
   ]
  },
  {
   "cell_type": "code",
   "execution_count": null,
   "id": "af0d80724a41fd38",
   "metadata": {
    "ExecuteTime": {
     "end_time": "2024-07-18T04:28:41.514854Z",
     "start_time": "2024-07-18T04:28:41.512161Z"
    },
    "collapsed": false,
    "jupyter": {
     "outputs_hidden": false
    }
   },
   "outputs": [],
   "source": [
    "text_splitter=TokenTextSplitter(chunk_size=10,chunk_overlap=0)"
   ]
  },
  {
   "cell_type": "code",
   "execution_count": null,
   "id": "c4670dd3a2b3da41",
   "metadata": {
    "ExecuteTime": {
     "end_time": "2024-07-18T04:28:41.549105Z",
     "start_time": "2024-07-18T04:28:41.515734Z"
    },
    "collapsed": false,
    "jupyter": {
     "outputs_hidden": false
    }
   },
   "outputs": [],
   "source": [
    "docs = text_splitter.split_documents(pages)"
   ]
  },
  {
   "cell_type": "code",
   "execution_count": null,
   "id": "7bc44757d2b469aa",
   "metadata": {
    "ExecuteTime": {
     "end_time": "2024-07-18T04:28:41.557787Z",
     "start_time": "2024-07-18T04:28:41.552153Z"
    },
    "collapsed": false,
    "jupyter": {
     "outputs_hidden": false
    }
   },
   "outputs": [],
   "source": [
    "docs[0]"
   ]
  },
  {
   "cell_type": "code",
   "execution_count": null,
   "id": "4caf8d87d8725696",
   "metadata": {
    "ExecuteTime": {
     "end_time": "2024-07-18T04:28:41.561961Z",
     "start_time": "2024-07-18T04:28:41.559024Z"
    },
    "collapsed": false,
    "jupyter": {
     "outputs_hidden": false
    }
   },
   "outputs": [],
   "source": [
    "pages[0].metadata"
   ]
  },
  {
   "cell_type": "markdown",
   "id": "5cd180363a776f25",
   "metadata": {
    "collapsed": false,
    "jupyter": {
     "outputs_hidden": false
    }
   },
   "source": [
    "## Context aware splitting"
   ]
  },
  {
   "cell_type": "code",
   "execution_count": null,
   "id": "1b387ac658f0ab97",
   "metadata": {
    "ExecuteTime": {
     "end_time": "2024-07-18T04:28:41.564886Z",
     "start_time": "2024-07-18T04:28:41.562663Z"
    },
    "collapsed": false,
    "jupyter": {
     "outputs_hidden": false
    }
   },
   "outputs": [],
   "source": [
    "from langchain.document_loaders import NotionDirectoryLoader\n",
    "\n",
    "from langchain.text_splitter import MarkdownHeaderTextSplitter"
   ]
  },
  {
   "cell_type": "code",
   "execution_count": null,
   "id": "b10a20fb1930ac42",
   "metadata": {
    "ExecuteTime": {
     "end_time": "2024-07-18T04:28:41.567788Z",
     "start_time": "2024-07-18T04:28:41.565728Z"
    },
    "collapsed": false,
    "jupyter": {
     "outputs_hidden": false
    }
   },
   "outputs": [],
   "source": [
    "markdown_document = \"\"\"# Title\\n\\n \\\n",
    "## Chapter 1\\n\\n \\\n",
    "Hi this is Jim\\n\\n Hi this is Joe\\n\\n \\\n",
    "### Section \\n\\n \\\n",
    "Hi this is Lance \\n\\n \n",
    "## Chapter 2\\n\\n \\\n",
    "Hi this is Molly\"\"\""
   ]
  },
  {
   "cell_type": "code",
   "execution_count": null,
   "id": "f3eec735312cde50",
   "metadata": {
    "ExecuteTime": {
     "end_time": "2024-07-18T04:28:41.572297Z",
     "start_time": "2024-07-18T04:28:41.570128Z"
    },
    "collapsed": false,
    "jupyter": {
     "outputs_hidden": false
    }
   },
   "outputs": [],
   "source": [
    "headers_to_split_on = [\n",
    "    (\"#\", \"Header 1\"),\n",
    "    (\"##\", \"Header 2\"),\n",
    "    (\"###\", \"Header 3\"),\n",
    "]"
   ]
  },
  {
   "cell_type": "code",
   "execution_count": null,
   "id": "2b894c3ee1dcd177",
   "metadata": {
    "ExecuteTime": {
     "end_time": "2024-07-18T04:28:41.577475Z",
     "start_time": "2024-07-18T04:28:41.573545Z"
    },
    "collapsed": false,
    "jupyter": {
     "outputs_hidden": false
    }
   },
   "outputs": [],
   "source": [
    "markdown_splitter = MarkdownHeaderTextSplitter(\n",
    "    headers_to_split_on=headers_to_split_on\n",
    ")\n",
    "md_header_splits = markdown_splitter.split_text(markdown_document)"
   ]
  },
  {
   "cell_type": "code",
   "execution_count": null,
   "id": "78bca77e70643393",
   "metadata": {
    "ExecuteTime": {
     "end_time": "2024-07-18T04:28:41.592223Z",
     "start_time": "2024-07-18T04:28:41.578353Z"
    },
    "collapsed": false,
    "jupyter": {
     "outputs_hidden": false
    }
   },
   "outputs": [],
   "source": [
    "md_header_splits[0]"
   ]
  },
  {
   "cell_type": "code",
   "execution_count": null,
   "id": "4b6eeba4bbeb69cf",
   "metadata": {
    "ExecuteTime": {
     "end_time": "2024-07-18T04:28:41.602821Z",
     "start_time": "2024-07-18T04:28:41.595713Z"
    },
    "collapsed": false,
    "jupyter": {
     "outputs_hidden": false
    }
   },
   "outputs": [],
   "source": [
    "loader = NotionDirectoryLoader(\"docs/Notion_DB\")\n",
    "docs = loader.load()\n",
    "txt = ' '.join([d.page_content for d in docs])"
   ]
  },
  {
   "cell_type": "code",
   "execution_count": null,
   "id": "bdb3c377bed6f781",
   "metadata": {
    "ExecuteTime": {
     "end_time": "2024-07-18T04:28:41.606839Z",
     "start_time": "2024-07-18T04:28:41.604283Z"
    },
    "collapsed": false,
    "jupyter": {
     "outputs_hidden": false
    }
   },
   "outputs": [],
   "source": [
    "headers_to_split_on = [\n",
    "    (\"#\", \"Header 1\"),\n",
    "    (\"##\", \"Header 2\"),\n",
    "]\n",
    "markdown_splitter = MarkdownHeaderTextSplitter(\n",
    "    headers_to_split_on=headers_to_split_on\n",
    ")"
   ]
  },
  {
   "cell_type": "code",
   "execution_count": null,
   "id": "3f6a4be1429f70f",
   "metadata": {
    "ExecuteTime": {
     "end_time": "2024-07-18T04:28:41.611942Z",
     "start_time": "2024-07-18T04:28:41.608542Z"
    },
    "collapsed": false,
    "jupyter": {
     "outputs_hidden": false
    }
   },
   "outputs": [],
   "source": [
    "md_header_splits = markdown_splitter.split_text(txt)"
   ]
  },
  {
   "cell_type": "code",
   "execution_count": null,
   "id": "4a857f4d49c17c83",
   "metadata": {
    "ExecuteTime": {
     "end_time": "2024-07-18T04:28:41.620565Z",
     "start_time": "2024-07-18T04:28:41.613924Z"
    },
    "collapsed": false,
    "jupyter": {
     "outputs_hidden": false
    }
   },
   "outputs": [],
   "source": [
    "md_header_splits[0]"
   ]
  }
 ],
 "metadata": {
  "kernelspec": {
   "display_name": "Python 3 (ipykernel)",
   "language": "python",
   "name": "python3"
  },
  "language_info": {
   "codemirror_mode": {
    "name": "ipython",
    "version": 3
   },
   "file_extension": ".py",
   "mimetype": "text/x-python",
   "name": "python",
   "nbconvert_exporter": "python",
   "pygments_lexer": "ipython3",
   "version": "3.12.4"
  }
 },
 "nbformat": 4,
 "nbformat_minor": 5
}
