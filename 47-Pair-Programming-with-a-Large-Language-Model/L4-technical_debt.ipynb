{
 "cells": [
  {
   "cell_type": "markdown",
   "source": [
    "# Lesson 4: Technical Debt"
   ],
   "metadata": {
    "collapsed": false
   },
   "id": "396b6a7945fd6c54"
  },
  {
   "cell_type": "code",
   "outputs": [],
   "source": [
    "from utils import get_api_key\n",
    "import google.generativeai as palm\n",
    "\n",
    "palm.configure(api_key=get_api_key())\n",
    "models = [m for m in palm.list_models() if 'generateText' in m.supported_generation_methods]\n",
    "model_bison = models[0]\n",
    "model_bison\n",
    "from google.api_core import retry\n",
    "\n",
    "\n",
    "@retry.Retry()\n",
    "def generate_text(prompt,\n",
    "                  model=model_bison,\n",
    "                  temperature=0.0):\n",
    "    return palm.generate_text(prompt=prompt,\n",
    "                              model=model,\n",
    "                              temperature=temperature)"
   ],
   "metadata": {
    "collapsed": false
   },
   "id": "6c1fedfe0d9233c7",
   "execution_count": null
  },
  {
   "cell_type": "markdown",
   "source": [
    "## Ask an LLM to explain a complex code base"
   ],
   "metadata": {
    "collapsed": false
   },
   "id": "9468d207fdb562ed"
  },
  {
   "cell_type": "code",
   "outputs": [],
   "source": [
    "CODE_BLOCK = \"\"\"logger = logging.getLogger(__name__)\n",
    "engine = sqlite3.connect(\"./nba_roster.db\")\n",
    "setup_logging()\n",
    "\n",
    "class Args:\n",
    "    def __init__(self, \n",
    "                 max_examples=100, \n",
    "                 sql_model_name=\"meta-llama/Meta-Llama-3-8B-Instruct\", \n",
    "                 gold_file_name=\"gold-test-set.jsonl\",\n",
    "                 training_file_name=\"generated_queries.jsonl\",\n",
    "                 num_to_generate=10):\n",
    "        self.sql_model_name = sql_model_name\n",
    "        self.max_examples = max_examples\n",
    "        self.gold_file_name = gold_file_name\n",
    "        self.training_file_name = training_file_name\n",
    "        self.num_to_generate = num_to_generate\n",
    "## Working Backwards from what you have:\n",
    "### <font color=\"blue\">First</font>: From Scheme and example, generate <font color=\"blue\">new SQL queries</font> \n",
    "system = \"You are an NBA analyst with 15 years of experience writing complex SQL queries.\\n\"\n",
    "system += (\n",
    "    \"Consider a table called 'nba_roster' with the following schema (columns)\\n\"\n",
    ")\n",
    "system += get_schema()\n",
    "system += \"Consider the following questions, and queries used to answer them:\\n\"\n",
    "\n",
    "system\n",
    "\n",
    "sql = \"select CAST(SUBSTR(WT, 1, INSTR(WT,' ')) as INTEGER)) as percentile from nba_roster order by percentile limit 1 offset (select count(*) from nba_roster)/2;\"\n",
    "\n",
    "system += \"Question: \" + question + \"\\n\"\n",
    "system += \"Query: \" + sql + \"\\n\"\n",
    "\n",
    "print(system)\n",
    "user = \"Write two queries that are similar but different to those above.\\n\"\n",
    "user += \"Format the queries as a JSON object, i.e.\\n\"\n",
    "user += '{ \"explanation\": str, \"sql_query_1\" : str, \"sql_query_2\": str }.\\n'\n",
    "\n",
    "print(user)\n",
    "user += \"First write an explanation of why you decided to write these new queries in about 3-5 sentences, then write valid sqlite SQL queries for each of the 2 new queries. Make sure each query is complete and ends with a ;\\n\"\n",
    "print(user)\n",
    "prompt = make_llama_3_prompt(user, system)\n",
    "llm = lamini.Lamini(model_name=\"meta-llama/Meta-Llama-3-8B-Instruct\")\n",
    "result = llm.generate(prompt, output_type={ \"explanation\": \"str\", \"sql_query_1\" : \"str\", \"sql_query_2\": \"str\" }, max_new_tokens=200)\n",
    "print(result)\n",
    "def check_sql_query(query):\n",
    "    try:\n",
    "        pd.read_sql(query, con=engine)\n",
    "    except Exception as e:\n",
    "        logger.debug(f\"Error in SQL query: {e}\")\n",
    "        return False\n",
    "\n",
    "    logger.info(f\"SQL query {query} is valid\")\n",
    "\n",
    "    return True\n",
    "check_sql_query(result[\"sql_query_1\"])\n",
    "\"\"\""
   ],
   "metadata": {
    "collapsed": false
   },
   "id": "bd9e0b267f62d6ba",
   "execution_count": null
  },
  {
   "cell_type": "code",
   "outputs": [],
   "source": [
    "prompt_template = \"\"\"\n",
    "Can you please explain how this code works?\n",
    "\n",
    "{question}\n",
    "\n",
    "Use a lot of detail and make it as clear as possible.\n",
    "\"\"\""
   ],
   "metadata": {
    "collapsed": false
   },
   "id": "583f59be64c79108",
   "execution_count": null
  },
  {
   "cell_type": "code",
   "outputs": [],
   "source": [
    "completion = generate_text(\n",
    "    prompt = prompt_template.format(question=CODE_BLOCK)\n",
    ")\n",
    "print(completion.result)"
   ],
   "metadata": {
    "collapsed": false
   },
   "id": "436593f02de8dc91",
   "execution_count": null
  },
  {
   "cell_type": "markdown",
   "source": [
    "## Ask an LLM to document a complex code base"
   ],
   "metadata": {
    "collapsed": false
   },
   "id": "e1e5e5920f52d25b"
  },
  {
   "cell_type": "code",
   "outputs": [],
   "source": [
    "prompt_template = \"\"\"\n",
    "Please write technical documentation for this code and \\n\n",
    "make it easy for a non swift developer to understand:\n",
    "\n",
    "{question}\n",
    "\n",
    "Output the results in markdown\n",
    "\"\"\""
   ],
   "metadata": {
    "collapsed": false
   },
   "id": "649ecbc82ecef28f",
   "execution_count": null
  },
  {
   "cell_type": "code",
   "outputs": [],
   "source": [
    "completion = generate_text(\n",
    "    prompt = prompt_template.format(question=CODE_BLOCK)\n",
    ")\n",
    "print(completion.result)"
   ],
   "metadata": {
    "collapsed": false
   },
   "id": "20ee14213c814cb3",
   "execution_count": null
  }
 ],
 "metadata": {
  "kernelspec": {
   "display_name": "Python 3",
   "language": "python",
   "name": "python3"
  },
  "language_info": {
   "codemirror_mode": {
    "name": "ipython",
    "version": 2
   },
   "file_extension": ".py",
   "mimetype": "text/x-python",
   "name": "python",
   "nbconvert_exporter": "python",
   "pygments_lexer": "ipython2",
   "version": "2.7.6"
  }
 },
 "nbformat": 4,
 "nbformat_minor": 5
}
