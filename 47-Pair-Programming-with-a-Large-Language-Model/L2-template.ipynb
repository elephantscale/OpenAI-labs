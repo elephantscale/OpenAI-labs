{
 "cells": [
  {
   "cell_type": "markdown",
   "source": [
    "# Lesson 2: Using a String Template"
   ],
   "metadata": {
    "collapsed": false
   },
   "id": "1202dd804c77f62f"
  },
  {
   "cell_type": "code",
   "outputs": [],
   "source": [
    "from utils import get_api_key\n",
    "import google.generativeai as palm\n",
    "\n",
    "palm.configure(api_key=get_api_key())"
   ],
   "metadata": {
    "collapsed": false
   },
   "id": "f338d467e7f36222",
   "execution_count": null
  },
  {
   "cell_type": "code",
   "outputs": [],
   "source": [
    "models = [m for m in palm.list_models() if 'generateText' in m.supported_generation_methods]\n",
    "model_bison = models[0]\n",
    "model_bison"
   ],
   "metadata": {
    "collapsed": false
   },
   "id": "865f587a00cba2cd",
   "execution_count": null
  },
  {
   "cell_type": "code",
   "outputs": [],
   "source": [
    "from google.api_core import retry\n",
    "@retry.Retry()\n",
    "def generate_text(prompt, \n",
    "                  model=model_bison, \n",
    "                  temperature=0.0):\n",
    "    return palm.generate_text(prompt=prompt,\n",
    "                              model=model,\n",
    "                              temperature=temperature)"
   ],
   "metadata": {
    "collapsed": false
   },
   "id": "bbbaeb43682f5b85",
   "execution_count": null
  },
  {
   "cell_type": "code",
   "outputs": [],
   "source": [
    "prompt_template = \"\"\"\n",
    "{priming}\n",
    "\n",
    "{question}\n",
    "\n",
    "{decorator}\n",
    "\n",
    "Your solution:\n",
    "\"\"\""
   ],
   "metadata": {
    "collapsed": false
   },
   "id": "cfbefc27d51855d2",
   "execution_count": null
  },
  {
   "cell_type": "code",
   "outputs": [],
   "source": [
    "priming_text = \"You are an expert at writing clear, concise, Python code.\""
   ],
   "metadata": {
    "collapsed": false
   },
   "id": "82208cf1c126202a",
   "execution_count": null
  },
  {
   "cell_type": "code",
   "outputs": [],
   "source": [
    "question = \"create a doubly linked list\""
   ],
   "metadata": {
    "collapsed": false
   },
   "id": "3313e4ce05a54f46",
   "execution_count": null
  },
  {
   "cell_type": "code",
   "outputs": [],
   "source": [
    "decorator = \"Insert comments for each line of code.\""
   ],
   "metadata": {
    "collapsed": false
   },
   "id": "71efdcae91c7374f",
   "execution_count": null
  },
  {
   "cell_type": "code",
   "outputs": [],
   "source": [
    "prompt = prompt_template.format(priming=priming_text,\n",
    "                                question=question,\n",
    "                                decorator=decorator)"
   ],
   "metadata": {
    "collapsed": false
   },
   "id": "f9057e40eece21c6",
   "execution_count": null
  },
  {
   "cell_type": "code",
   "outputs": [],
   "source": [
    "print(prompt)"
   ],
   "metadata": {
    "collapsed": false
   },
   "id": "a21b3f241de4e205",
   "execution_count": null
  },
  {
   "cell_type": "code",
   "outputs": [],
   "source": [
    "completion = generate_text(prompt)\n",
    "print(completion.result)"
   ],
   "metadata": {
    "collapsed": false
   },
   "id": "c1eac8e98268076b",
   "execution_count": null
  },
  {
   "cell_type": "code",
   "outputs": [],
   "source": [
    "question = \"\"\"create a very large list of random numbers in python, \n",
    "and then write code to sort that list\"\"\""
   ],
   "metadata": {
    "collapsed": false
   },
   "id": "978a9de7eaed35cf",
   "execution_count": null
  },
  {
   "cell_type": "code",
   "outputs": [],
   "source": [
    "prompt = prompt_template.format(priming=priming_text,\n",
    "                                question=question,\n",
    "                                decorator=decorator)"
   ],
   "metadata": {
    "collapsed": false
   },
   "id": "f83624bd300cd636",
   "execution_count": null
  },
  {
   "cell_type": "code",
   "outputs": [],
   "source": [
    "completion = generate_text(prompt)\n",
    "print(completion.result)"
   ],
   "metadata": {
    "collapsed": false
   },
   "id": "d256e527301ccb2c",
   "execution_count": null
  },
  {
   "cell_type": "code",
   "outputs": [],
   "source": [
    "import random\n",
    "\n",
    "random_numbers = [random.randint(0, 100) for _ in range(100000)]\n",
    "print(random_numbers)"
   ],
   "metadata": {
    "collapsed": false
   },
   "id": "d04eec14b1d90a",
   "execution_count": null
  },
  {
   "cell_type": "code",
   "outputs": [],
   "source": [
    "sorted_random_numbers = sorted(random_numbers)\n"
   ],
   "metadata": {
    "collapsed": false
   },
   "id": "1cde969eea963fe5",
   "execution_count": null
  },
  {
   "cell_type": "code",
   "outputs": [],
   "source": [
    "print(sorted_random_numbers)"
   ],
   "metadata": {
    "collapsed": false
   },
   "id": "5e701ab156c8fc54",
   "execution_count": null
  }
 ],
 "metadata": {
  "kernelspec": {
   "display_name": "Python 3",
   "language": "python",
   "name": "python3"
  },
  "language_info": {
   "codemirror_mode": {
    "name": "ipython",
    "version": 2
   },
   "file_extension": ".py",
   "mimetype": "text/x-python",
   "name": "python",
   "nbconvert_exporter": "python",
   "pygments_lexer": "ipython2",
   "version": "2.7.6"
  }
 },
 "nbformat": 4,
 "nbformat_minor": 5
}
