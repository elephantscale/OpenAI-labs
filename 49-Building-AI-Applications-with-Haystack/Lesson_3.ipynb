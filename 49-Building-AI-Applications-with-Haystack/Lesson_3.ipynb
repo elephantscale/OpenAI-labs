{
 "cells": [
  {
   "cell_type": "markdown",
   "source": [
    "# L3: Custom Components - News Summarizer"
   ],
   "metadata": {
    "collapsed": false
   },
   "id": "4bae6f0ba8477720"
  },
  {
   "cell_type": "code",
   "outputs": [],
   "source": [
    "import warnings\n",
    "\n",
    "from helper import load_env\n",
    "\n",
    "warnings.filterwarnings('ignore')\n",
    "load_env()"
   ],
   "metadata": {
    "collapsed": false
   },
   "id": "b3ee2e0c15c64577",
   "execution_count": null
  },
  {
   "cell_type": "code",
   "outputs": [],
   "source": [
    "import requests\n",
    "\n",
    "from typing import List\n",
    "\n",
    "from haystack import Document, Pipeline, component\n",
    "from haystack.components.builders import PromptBuilder\n",
    "from haystack.components.generators.openai import OpenAIGenerator\n",
    "from haystack.components.fetchers import LinkContentFetcher\n",
    "from haystack.components.converters import HTMLToDocument"
   ],
   "metadata": {
    "collapsed": false
   },
   "id": "ce82e52eda89fc0e",
   "execution_count": null
  },
  {
   "cell_type": "markdown",
   "source": [
    "# Custom Component Requirements"
   ],
   "metadata": {
    "collapsed": false
   },
   "id": "e23f195d9c4ec98c"
  },
  {
   "cell_type": "code",
   "outputs": [],
   "source": [
    "@component\n",
    "class Greeter:\n",
    "\n",
    "    @component.output_types(greeting=str)\n",
    "    def run(self, user_name: str):\n",
    "        return {\"greeting\": f\"Hello {user_name}\"}"
   ],
   "metadata": {
    "collapsed": false
   },
   "id": "98a31e6023d4cf5c",
   "execution_count": null
  },
  {
   "cell_type": "markdown",
   "source": [
    "### Run the Component"
   ],
   "metadata": {
    "collapsed": false
   },
   "id": "5740250f12542337"
  },
  {
   "cell_type": "code",
   "outputs": [],
   "source": [
    "greeter = Greeter()\n",
    "\n",
    "greeter.run(user_name=\"Tuana\")"
   ],
   "metadata": {
    "collapsed": false
   },
   "id": "c5aa32764dd4bbf",
   "execution_count": null
  },
  {
   "cell_type": "markdown",
   "source": [
    "### Add the Component to a Pipeline"
   ],
   "metadata": {
    "collapsed": false
   },
   "id": "b1546c2fdb9cf517"
  },
  {
   "cell_type": "code",
   "outputs": [],
   "source": [
    "greeter = Greeter()\n",
    "template = \"\"\" You will be given the beginning of a dialogue. \n",
    "Create a short play script using this as the start of the play.\n",
    "Start of dialogue: {{ dialogue }}\n",
    "Full script: \n",
    "\"\"\"\n",
    "prompt = PromptBuilder(template=template)\n",
    "llm = OpenAIGenerator()\n",
    "\n",
    "dialogue_builder = Pipeline()\n",
    "dialogue_builder.add_component(\"greeter\", greeter)\n",
    "dialogue_builder.add_component(\"prompt\", prompt)\n",
    "dialogue_builder.add_component(\"llm\", llm)\n",
    "\n",
    "dialogue_builder.connect(\"greeter.greeting\", \"prompt.dialogue\")\n",
    "dialogue_builder.connect(\"prompt\", \"llm\")"
   ],
   "metadata": {
    "collapsed": false
   },
   "id": "e2d4545556a2c924",
   "execution_count": null
  },
  {
   "cell_type": "code",
   "outputs": [],
   "source": [
    "dialogue_builder.show()"
   ],
   "metadata": {
    "collapsed": false
   },
   "id": "fae7acc64430ba84",
   "execution_count": null
  },
  {
   "cell_type": "code",
   "outputs": [],
   "source": [
    "dialogue = dialogue_builder.run({\"greeter\": {\"user_name\": \"Tuana\"}})\n",
    "\n",
    "print(dialogue[\"llm\"][\"replies\"][0])"
   ],
   "metadata": {
    "collapsed": false
   },
   "id": "3d3592757d93189a",
   "execution_count": null
  },
  {
   "cell_type": "markdown",
   "source": [
    "# Build a Hacker News Summarizer"
   ],
   "metadata": {
    "collapsed": false
   },
   "id": "695b2fbc6968b445"
  },
  {
   "cell_type": "code",
   "outputs": [],
   "source": [
    "trending_list = requests.get(\n",
    "        url=\"https://hacker-news.firebaseio.com/v0/topstories.json?print=pretty\"\n",
    "    )\n",
    "post = requests.get(\n",
    "    url=f\"https://hacker-news.firebaseio.com/v0/item/{trending_list.json()[0]}.json?print=pretty\"\n",
    ")\n",
    "\n",
    "print(post.json())"
   ],
   "metadata": {
    "collapsed": false
   },
   "id": "6e72c001ee33938d",
   "execution_count": null
  },
  {
   "cell_type": "code",
   "outputs": [],
   "source": [
    "@component\n",
    "class HackernewsNewestFetcher:\n",
    "    @component.output_types(articles=List[Document])\n",
    "    def run(self, top_k: int):\n",
    "        articles = []\n",
    "        return {\"articles\": articles}"
   ],
   "metadata": {
    "collapsed": false
   },
   "id": "d825bf385d82bfd4",
   "execution_count": null
  },
  {
   "cell_type": "code",
   "outputs": [],
   "source": [
    "@component\n",
    "class HackernewsNewestFetcher:\n",
    "    def __init__(self):\n",
    "        fetcher = LinkContentFetcher()\n",
    "        converter = HTMLToDocument()\n",
    "\n",
    "        html_conversion_pipeline = Pipeline()\n",
    "        html_conversion_pipeline.add_component(\"fetcher\", fetcher)\n",
    "        html_conversion_pipeline.add_component(\"converter\", converter)\n",
    "\n",
    "        html_conversion_pipeline.connect(\"fetcher\", \"converter\")\n",
    "        self.html_pipeline = html_conversion_pipeline\n",
    "        \n",
    "    @component.output_types(articles=List[Document])\n",
    "    def run(self, top_k: int):\n",
    "        articles = []\n",
    "        trending_list = requests.get(\n",
    "            url=\"https://hacker-news.firebaseio.com/v0/topstories.json?print=pretty\"\n",
    "        )\n",
    "        for id in trending_list.json()[0:top_k]:\n",
    "            post = requests.get(\n",
    "                url=f\"https://hacker-news.firebaseio.com/v0/item/{id}.json?print=pretty\"\n",
    "            )\n",
    "            if \"url\" in post.json():\n",
    "                try:\n",
    "                    article = self.html_pipeline.run(\n",
    "                        {\"fetcher\": {\"urls\": [post.json()[\"url\"]]}}\n",
    "                    )\n",
    "                    articles.append(article[\"converter\"][\"documents\"][0])\n",
    "                except:\n",
    "                    print(f\"Can't download {post}, skipped\")\n",
    "            elif \"text\" in post.json():\n",
    "                try:\n",
    "                    articles.append(Document(content=post.json()[\"text\"], meta= {\"title\": post.json()[\"title\"]}))\n",
    "                except:\n",
    "                    print(f\"Can't download {post}, skipped\")\n",
    "        return {\"articles\": articles}"
   ],
   "metadata": {
    "collapsed": false
   },
   "id": "4c0c2085c2a44c7b",
   "execution_count": null
  },
  {
   "cell_type": "code",
   "outputs": [],
   "source": [
    "fetcher = HackernewsNewestFetcher()\n",
    "results = fetcher.run(top_k=3)\n",
    "\n",
    "print(results['articles'])"
   ],
   "metadata": {
    "collapsed": false
   },
   "id": "4fc67282a4dd491b",
   "execution_count": null
  },
  {
   "cell_type": "code",
   "outputs": [],
   "source": [
    "prompt_template = \"\"\"  \n",
    "You will be provided a few of the top posts in HackerNews.  \n",
    "For each post, provide a brief summary if possible.\n",
    "  \n",
    "Posts:  \n",
    "{% for article in articles %}\n",
    "  Post:\\n\n",
    "  {{ article.content}}\n",
    "{% endfor %}  \n",
    "\"\"\""
   ],
   "metadata": {
    "collapsed": false
   },
   "id": "91c7a1401d0c74c3",
   "execution_count": null
  },
  {
   "cell_type": "code",
   "outputs": [],
   "source": [
    "prompt_builder = PromptBuilder(template=prompt_template)\n",
    "fetcher = HackernewsNewestFetcher()\n",
    "llm = OpenAIGenerator()\n",
    "\n",
    "summarizer_pipeline = Pipeline()\n",
    "summarizer_pipeline.add_component(\"fetcher\", fetcher)\n",
    "summarizer_pipeline.add_component(\"prompt\", prompt_builder)\n",
    "summarizer_pipeline.add_component(\"llm\", llm)\n",
    "\n",
    "summarizer_pipeline.connect(\"fetcher.articles\", \"prompt.articles\")\n",
    "summarizer_pipeline.connect(\"prompt\", \"llm\")"
   ],
   "metadata": {
    "collapsed": false
   },
   "id": "7c13a9edada9f561",
   "execution_count": null
  },
  {
   "cell_type": "code",
   "outputs": [],
   "source": [
    "summarizer_pipeline.show()"
   ],
   "metadata": {
    "collapsed": false
   },
   "id": "cbf3abd40c70a8a4",
   "execution_count": null
  },
  {
   "cell_type": "code",
   "outputs": [],
   "source": [
    "summaries = summarizer_pipeline.run({\"fetcher\": {\"top_k\": 3}})\n",
    "\n",
    "print(summaries[\"llm\"][\"replies\"][0])"
   ],
   "metadata": {
    "collapsed": false
   },
   "id": "1b78e9940a99edec",
   "execution_count": null
  },
  {
   "cell_type": "code",
   "outputs": [],
   "source": [
    "prompt_template = \"\"\"  \n",
    "You will be provided a few of the top posts in HackerNews, followed by their URL.  \n",
    "For each post, provide a brief summary followed by the URL the full post can be found at.  \n",
    "  \n",
    "Posts:  \n",
    "{% for article in articles %}  \n",
    "  {{ article.content }}\n",
    "  URL: {{ article.meta[\"url\"] }}\n",
    "{% endfor %}  \n",
    "\"\"\"\n",
    "\n",
    "prompt_builder = PromptBuilder(template=prompt_template)\n",
    "fetcher = HackernewsNewestFetcher()\n",
    "llm = OpenAIGenerator()\n",
    "\n",
    "summarizer_pipeline = Pipeline()\n",
    "summarizer_pipeline.add_component(\"fetcher\", fetcher)\n",
    "summarizer_pipeline.add_component(\"prompt\", prompt_builder)\n",
    "summarizer_pipeline.add_component(\"llm\", llm)\n",
    "\n",
    "summarizer_pipeline.connect(\"fetcher.articles\", \"prompt.articles\")\n",
    "summarizer_pipeline.connect(\"prompt\", \"llm\")"
   ],
   "metadata": {
    "collapsed": false
   },
   "id": "3c7037732e9e76a4",
   "execution_count": null
  },
  {
   "cell_type": "code",
   "outputs": [],
   "source": [
    "summaries = summarizer_pipeline.run({\"fetcher\": {\"top_k\": 2}})\n",
    "\n",
    "print(summaries[\"llm\"][\"replies\"][0])"
   ],
   "metadata": {
    "collapsed": false
   },
   "id": "44a27b0bb1453108",
   "execution_count": null
  },
  {
   "cell_type": "code",
   "outputs": [],
   "source": [],
   "metadata": {
    "collapsed": false
   },
   "id": "13fee35bd0cbf79a"
  }
 ],
 "metadata": {
  "kernelspec": {
   "display_name": "Python 3",
   "language": "python",
   "name": "python3"
  },
  "language_info": {
   "codemirror_mode": {
    "name": "ipython",
    "version": 2
   },
   "file_extension": ".py",
   "mimetype": "text/x-python",
   "name": "python",
   "nbconvert_exporter": "python",
   "pygments_lexer": "ipython2",
   "version": "2.7.6"
  }
 },
 "nbformat": 4,
 "nbformat_minor": 5
}
