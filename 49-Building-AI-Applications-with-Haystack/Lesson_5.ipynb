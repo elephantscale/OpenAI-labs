{
 "cells": [
  {
   "cell_type": "markdown",
   "source": [
    "# L5: Self-Reflecting Agents with Loops"
   ],
   "metadata": {
    "collapsed": false
   },
   "id": "4d86c555415d2bc7"
  },
  {
   "cell_type": "code",
   "outputs": [],
   "source": [
    "import warnings\n",
    "from helper import load_env\n",
    "\n",
    "warnings.filterwarnings('ignore')\n",
    "load_env()"
   ],
   "metadata": {
    "collapsed": false
   },
   "id": "ece68b9108045aec",
   "execution_count": null
  },
  {
   "cell_type": "code",
   "outputs": [],
   "source": [
    "from typing import List\n",
    "from colorama import Fore\n",
    "from haystack import Pipeline, component\n",
    "from haystack.components.builders.prompt_builder import PromptBuilder\n",
    "from haystack.components.generators.openai import OpenAIGenerator"
   ],
   "metadata": {
    "collapsed": false
   },
   "id": "d0206bcc212c103a",
   "execution_count": null
  },
  {
   "cell_type": "markdown",
   "source": [
    "# Create an EntitiesValidator"
   ],
   "metadata": {
    "collapsed": false
   },
   "id": "df43db080e8497a3"
  },
  {
   "cell_type": "code",
   "outputs": [],
   "source": [
    "@component\n",
    "class EntitiesValidator:\n",
    "\n",
    "    @component.output_types(entities_to_validate=str, entities=str)\n",
    "    def run(self, replies: List[str]):\n",
    "        if 'DONE' in replies[0]:\n",
    "            return {\"entities\":replies[0].replace('DONE', '')}\n",
    "        else:\n",
    "            print(Fore.RED + \"Reflecting on entities\\n\", replies[0])\n",
    "            return {\"entities_to_validate\": replies[0]}"
   ],
   "metadata": {
    "collapsed": false
   },
   "id": "1027525da08ad471",
   "execution_count": null
  },
  {
   "cell_type": "code",
   "outputs": [],
   "source": [
    "entities_validator = EntitiesValidator()\n",
    "entities_validator.run(replies= [\"{'name': 'Tuana'}\"])"
   ],
   "metadata": {
    "collapsed": false
   },
   "id": "66e25e9493bc3369",
   "execution_count": null
  },
  {
   "cell_type": "code",
   "outputs": [],
   "source": [
    "entities_validator.run(replies= [\"DONE {'name': 'Tuana'}\"])"
   ],
   "metadata": {
    "collapsed": false
   },
   "id": "b99d2533b4059393",
   "execution_count": null
  },
  {
   "cell_type": "markdown",
   "source": [
    "# Create a Prompt Template with an 'if' block"
   ],
   "metadata": {
    "collapsed": false
   },
   "id": "c02d15e2600326c2"
  },
  {
   "cell_type": "code",
   "outputs": [],
   "source": [
    "template = \"\"\"\"\n",
    "{% if entities_to_validate %}\n",
    "    Here was the text you were provided:\n",
    "    {{ text }}\n",
    "    Here are the entities you previously extracted: \n",
    "    {{ entities_to_validate[0] }}\n",
    "    Are these the correct entities? \n",
    "    Things to check for:\n",
    "    - Entity categories should exactly be \"Person\", \"Location\" and \"Date\"\n",
    "    - There should be no extra categories\n",
    "    - There should be no duplicate entities\n",
    "    - If there are no appropriate entities for a category, the category should have an empty list\n",
    "    If you are done say 'DONE' and return your new entities in the next line\n",
    "    If not, simply return the best entities you can come up with.\n",
    "    Entities:\n",
    "{% else %}\n",
    "    Extract entities from the following text\n",
    "    Text: {{ text }} \n",
    "    The entities should be presented as key-value pairs in a JSON object.\n",
    "    Example: \n",
    "    {\n",
    "        \"Person\": [\"value1\", \"value2\"], \n",
    "        \"Location\": [\"value3\", \"value4\"],\n",
    "        \"Date\": [\"value5\", \"value6\"]\n",
    "    }\n",
    "    If there are no possibilities for a particular category, return an empty list for this\n",
    "    category\n",
    "    Entities:\n",
    "{% endif %}\n",
    "\"\"\""
   ],
   "metadata": {
    "collapsed": false
   },
   "id": "8cddf84f118c245e",
   "execution_count": null
  },
  {
   "cell_type": "markdown",
   "source": [
    "# Create A Self-Reflecting Agent"
   ],
   "metadata": {
    "collapsed": false
   },
   "id": "f6335c19e3aa07d7"
  },
  {
   "cell_type": "code",
   "outputs": [],
   "source": [
    "prompt_template = PromptBuilder(template=template)\n",
    "llm = OpenAIGenerator()\n",
    "entities_validator = EntitiesValidator()\n",
    "\n",
    "self_reflecting_agent = Pipeline(max_loops_allowed=10)\n",
    "\n",
    "self_reflecting_agent.add_component(\"prompt_builder\", prompt_template)\n",
    "self_reflecting_agent.add_component(\"entities_validator\", entities_validator)\n",
    "self_reflecting_agent.add_component(\"llm\", llm)\n",
    "\n",
    "self_reflecting_agent.connect(\"prompt_builder.prompt\", \"llm.prompt\")\n",
    "self_reflecting_agent.connect(\"llm.replies\", \"entities_validator.replies\")\n",
    "self_reflecting_agent.connect(\"entities_validator.entities_to_validate\", \"prompt_builder.entities_to_validate\")\n"
   ],
   "metadata": {
    "collapsed": false
   },
   "id": "ee68fb1e5eb26720",
   "execution_count": null
  },
  {
   "cell_type": "code",
   "outputs": [],
   "source": [
    "self_reflecting_agent.show()"
   ],
   "metadata": {
    "collapsed": false
   },
   "id": "b03ba380752d4a6",
   "execution_count": null
  },
  {
   "cell_type": "code",
   "outputs": [],
   "source": [
    "text = \"\"\"\n",
    "Istanbul is the largest city in Turkey, straddling the Bosporus Strait, \n",
    "the boundary between Europe and Asia. It is considered the country's economic, \n",
    "cultural and historic capital. The city has a population of over 15 million residents, \n",
    "comprising 19% of the population of Turkey,[4] and is the most populous city in Europe \n",
    "and the world's fifteenth-largest city.\"\"\"\n",
    "\n",
    "result = self_reflecting_agent.run({\"prompt_builder\": {\"text\": text}})\n",
    "print(Fore.GREEN + result['entities_validator']['entities'])"
   ],
   "metadata": {
    "collapsed": false
   },
   "id": "42f6bb8fdc5241af",
   "execution_count": null
  },
  {
   "cell_type": "code",
   "outputs": [],
   "source": [
    "text = \"\"\"\n",
    "Stefano: Hey all, let's start the all hands for June 6th 2024\n",
    "Geoff: Thanks, I'll kick it off with a request. Could we please add persistent memory to the Chroma document store.\n",
    "Stefano: Easy enough, I can add that to the feature requests. What else?\n",
    "Julain: There's a bug, some BM25 algorithms return negative scores and we filter them out from the results by default.\n",
    "Instead, we should probably check which algorithm is being used and keep results with negative scores accordingly.\n",
    "Esmail: Before we end this call, we should add a new Generator component for LlamaCpp in the next release.\n",
    "Tuana: Thanks all, I think we're done here, we can create some issues in GitHub about these.\"\"\"\n",
    "\n",
    "result = self_reflecting_agent.run({\"prompt_builder\": {\"text\": text}})\n",
    "print(Fore.GREEN + result['entities_validator']['entities'])"
   ],
   "metadata": {
    "collapsed": false
   },
   "id": "95c3c861295de181",
   "execution_count": null
  },
  {
   "cell_type": "code",
   "outputs": [],
   "source": [],
   "metadata": {
    "collapsed": false
   },
   "id": "6c6b02906f72ee17"
  }
 ],
 "metadata": {
  "kernelspec": {
   "display_name": "Python 3",
   "language": "python",
   "name": "python3"
  },
  "language_info": {
   "codemirror_mode": {
    "name": "ipython",
    "version": 2
   },
   "file_extension": ".py",
   "mimetype": "text/x-python",
   "name": "python",
   "nbconvert_exporter": "python",
   "pygments_lexer": "ipython2",
   "version": "2.7.6"
  }
 },
 "nbformat": 4,
 "nbformat_minor": 5
}
