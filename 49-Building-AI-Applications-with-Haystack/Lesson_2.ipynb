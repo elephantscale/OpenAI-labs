{
 "cells": [
  {
   "cell_type": "markdown",
   "id": "bff480ded0671a9d",
   "metadata": {
    "collapsed": false,
    "jupyter": {
     "outputs_hidden": false
    }
   },
   "source": [
    "# L2: Build Customized RAG"
   ]
  },
  {
   "cell_type": "code",
   "execution_count": null,
   "id": "d9354c8d7345b1e5",
   "metadata": {
    "collapsed": false,
    "jupyter": {
     "outputs_hidden": false
    }
   },
   "outputs": [],
   "source": [
    "import os\n",
    "import warnings\n",
    "\n",
    "from helper import load_env\n",
    "\n",
    "warnings.filterwarnings('ignore')\n",
    "load_env()"
   ]
  },
  {
   "cell_type": "code",
   "execution_count": null,
   "id": "95758cfe52954ad7",
   "metadata": {
    "collapsed": false,
    "jupyter": {
     "outputs_hidden": false
    }
   },
   "outputs": [],
   "source": [
    "from haystack import Pipeline\n",
    "from haystack.components.builders import PromptBuilder\n",
    "from haystack.components.converters import HTMLToDocument\n",
    "from haystack.components.fetchers import LinkContentFetcher\n",
    "from haystack.components.generators import OpenAIGenerator\n",
    "from haystack.components.retrievers.in_memory import InMemoryEmbeddingRetriever\n",
    "from haystack.components.writers import DocumentWriter\n",
    "from haystack.document_stores.in_memory import InMemoryDocumentStore\n",
    "\n",
    "from haystack_integrations.components.embedders.cohere import CohereDocumentEmbedder, CohereTextEmbedder"
   ]
  },
  {
   "cell_type": "markdown",
   "id": "a0f1e0d9367c4172",
   "metadata": {
    "collapsed": false,
    "jupyter": {
     "outputs_hidden": false
    }
   },
   "source": [
    "# Indexing Documents"
   ]
  },
  {
   "cell_type": "code",
   "execution_count": null,
   "id": "a75aba3a19a22216",
   "metadata": {
    "collapsed": false,
    "jupyter": {
     "outputs_hidden": false
    }
   },
   "outputs": [],
   "source": [
    "document_store = InMemoryDocumentStore()\n",
    "\n",
    "fetcher = LinkContentFetcher()\n",
    "converter = HTMLToDocument()\n",
    "embedder = CohereDocumentEmbedder(model=\"embed-english-v3.0\", api_base_url=os.getenv(\"CO_API_URL\"))\n",
    "writer = DocumentWriter(document_store=document_store)\n",
    "\n",
    "indexing = Pipeline()\n",
    "indexing.add_component(\"fetcher\", fetcher)\n",
    "indexing.add_component(\"converter\", converter)\n",
    "indexing.add_component(\"embedder\", embedder)\n",
    "indexing.add_component(\"writer\", writer)\n",
    "\n",
    "indexing.connect(\"fetcher.streams\", \"converter.sources\")\n",
    "indexing.connect(\"converter\", \"embedder\")\n",
    "indexing.connect(\"embedder\", \"writer\")"
   ]
  },
  {
   "cell_type": "code",
   "execution_count": null,
   "id": "adb09bd012ff59d9",
   "metadata": {
    "collapsed": false,
    "jupyter": {
     "outputs_hidden": false
    }
   },
   "outputs": [],
   "source": [
    "indexing.show()"
   ]
  },
  {
   "cell_type": "code",
   "execution_count": null,
   "id": "ac6b26117f31bdd1",
   "metadata": {
    "collapsed": false,
    "jupyter": {
     "outputs_hidden": false
    }
   },
   "outputs": [],
   "source": [
    "indexing.run(\n",
    "    {\n",
    "        \"fetcher\": {\n",
    "            \"urls\": [\n",
    "                \"https://haystack.deepset.ai/integrations/cohere\",\n",
    "                \"https://haystack.deepset.ai/integrations/anthropic\",\n",
    "                \"https://haystack.deepset.ai/integrations/jina\",\n",
    "                \"https://haystack.deepset.ai/integrations/nvidia\",\n",
    "            ]\n",
    "        }\n",
    "    }\n",
    ")"
   ]
  },
  {
   "cell_type": "code",
   "execution_count": null,
   "id": "c300fdc5f1bbe44e",
   "metadata": {
    "collapsed": false,
    "jupyter": {
     "outputs_hidden": false
    }
   },
   "outputs": [],
   "source": [
    "document_store.filter_documents()[0]"
   ]
  },
  {
   "cell_type": "markdown",
   "id": "b302838a49aa7731",
   "metadata": {
    "collapsed": false,
    "jupyter": {
     "outputs_hidden": false
    }
   },
   "source": [
    "# Retrieval Augmented Generation"
   ]
  },
  {
   "cell_type": "markdown",
   "id": "fd0feadb36b9b779",
   "metadata": {
    "collapsed": false,
    "jupyter": {
     "outputs_hidden": false
    }
   },
   "source": [
    "## 1. Decide on the Prompt"
   ]
  },
  {
   "cell_type": "code",
   "execution_count": null,
   "id": "2816772546041d79",
   "metadata": {
    "collapsed": false,
    "jupyter": {
     "outputs_hidden": false
    }
   },
   "outputs": [],
   "source": [
    "prompt = \"\"\"\n",
    "Answer the question based on the provided context.\n",
    "Context:\n",
    "{% for doc in documents %}\n",
    "   {{ doc.content }} \n",
    "{% endfor %}\n",
    "Question: {{ query }}\n",
    "\"\"\""
   ]
  },
  {
   "cell_type": "markdown",
   "id": "58ee0e1f15801eaa",
   "metadata": {
    "collapsed": false,
    "jupyter": {
     "outputs_hidden": false
    }
   },
   "source": [
    "## 2. Build the Pipeline"
   ]
  },
  {
   "cell_type": "code",
   "execution_count": null,
   "id": "b8b80271cb0c452e",
   "metadata": {
    "collapsed": false,
    "jupyter": {
     "outputs_hidden": false
    }
   },
   "outputs": [],
   "source": [
    "query_embedder = CohereTextEmbedder(model=\"embed-english-v3.0\", api_base_url=os.getenv(\"CO_API_URL\"))\n",
    "retriever = InMemoryEmbeddingRetriever(document_store=document_store)\n",
    "prompt_builder = PromptBuilder(template=prompt)\n",
    "generator = OpenAIGenerator()\n",
    "\n",
    "rag = Pipeline()\n",
    "rag.add_component(\"query_embedder\", query_embedder)\n",
    "rag.add_component(\"retriever\", retriever)\n",
    "rag.add_component(\"prompt\", prompt_builder)\n",
    "rag.add_component(\"generator\", generator)\n",
    "\n",
    "rag.connect(\"query_embedder.embedding\", \"retriever.query_embedding\")\n",
    "rag.connect(\"retriever.documents\", \"prompt.documents\")\n",
    "rag.connect(\"prompt\", \"generator\")"
   ]
  },
  {
   "cell_type": "code",
   "execution_count": null,
   "id": "3cce6a8f84011cdb",
   "metadata": {
    "collapsed": false,
    "jupyter": {
     "outputs_hidden": false
    }
   },
   "outputs": [],
   "source": [
    "rag.show()"
   ]
  },
  {
   "cell_type": "code",
   "execution_count": null,
   "id": "2d8c26e4959a8165",
   "metadata": {
    "collapsed": false,
    "jupyter": {
     "outputs_hidden": false
    }
   },
   "outputs": [],
   "source": [
    "question = \"How can I use Cohere with Haystack?\"\n",
    "\n",
    "result = rag.run(\n",
    "    {\n",
    "        \"query_embedder\": {\"text\": question},\n",
    "        \"retriever\": {\"top_k\": 1},\n",
    "        \"prompt\": {\"query\": question},\n",
    "    }\n",
    ")\n",
    "\n",
    "print(result[\"generator\"][\"replies\"][0])"
   ]
  },
  {
   "cell_type": "markdown",
   "id": "d2955edbb0d7cf11",
   "metadata": {
    "collapsed": false,
    "jupyter": {
     "outputs_hidden": false
    }
   },
   "source": [
    "## 3. Customize The Behaviour"
   ]
  },
  {
   "cell_type": "code",
   "execution_count": null,
   "id": "3c5b48223b7b157d",
   "metadata": {
    "collapsed": false,
    "jupyter": {
     "outputs_hidden": false
    }
   },
   "outputs": [],
   "source": [
    "prompt = \"\"\"\n",
    "You will be provided some context, followed by the URL that this context comes from.\n",
    "Answer the question based on the context, and reference the URL from which your answer is generated.\n",
    "Your answer should be in {{ language }}.\n",
    "Context:\n",
    "{% for doc in documents %}\n",
    "   {{ doc.content }} \n",
    "   URL: {{ doc.meta['url']}}\n",
    "{% endfor %}\n",
    "Question: {{ query }}\n",
    "Answer:\n",
    "\"\"\""
   ]
  },
  {
   "cell_type": "code",
   "execution_count": null,
   "id": "e38575b75b7719de",
   "metadata": {
    "collapsed": false,
    "jupyter": {
     "outputs_hidden": false
    }
   },
   "outputs": [],
   "source": [
    "query_embedder = CohereTextEmbedder(model=\"embed-english-v3.0\", api_base_url=os.getenv(\"CO_API_URL\"))\n",
    "retriever = InMemoryEmbeddingRetriever(document_store=document_store)\n",
    "prompt_builder = PromptBuilder(template=prompt)\n",
    "generator = OpenAIGenerator(model=\"gpt-3.5-turbo\")\n",
    "\n",
    "rag = Pipeline()\n",
    "rag.add_component(\"query_embedder\", query_embedder)\n",
    "rag.add_component(\"retriever\", retriever)\n",
    "rag.add_component(\"prompt\", prompt_builder)\n",
    "rag.add_component(\"generator\", generator)\n",
    "\n",
    "rag.connect(\"query_embedder.embedding\", \"retriever.query_embedding\")\n",
    "rag.connect(\"retriever.documents\", \"prompt.documents\")\n",
    "rag.connect(\"prompt\", \"generator\")"
   ]
  },
  {
   "cell_type": "code",
   "execution_count": null,
   "id": "69bdb0c4382d75dc",
   "metadata": {
    "collapsed": false,
    "jupyter": {
     "outputs_hidden": false
    }
   },
   "outputs": [],
   "source": [
    "question = \"How can I use Cohere with Haystack?\"\n",
    "\n",
    "result = rag.run(\n",
    "    {\n",
    "        \"query_embedder\": {\"text\": question},\n",
    "        \"retriever\": {\"top_k\": 1},\n",
    "        \"prompt\": {\"query\": question, \"language\": \"French\"},\n",
    "    }\n",
    ")\n",
    "\n",
    "print(result[\"generator\"][\"replies\"][0])"
   ]
  }
 ],
 "metadata": {
  "kernelspec": {
   "display_name": "Python (lab 49)",
   "language": "python",
   "name": "49"
  },
  "language_info": {
   "codemirror_mode": {
    "name": "ipython",
    "version": 3
   },
   "file_extension": ".py",
   "mimetype": "text/x-python",
   "name": "python",
   "nbconvert_exporter": "python",
   "pygments_lexer": "ipython3",
   "version": "3.10.13"
  }
 },
 "nbformat": 4,
 "nbformat_minor": 5
}
