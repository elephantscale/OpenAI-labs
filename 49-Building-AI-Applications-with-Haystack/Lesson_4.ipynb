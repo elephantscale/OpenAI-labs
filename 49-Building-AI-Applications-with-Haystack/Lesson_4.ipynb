{
 "cells": [
  {
   "cell_type": "markdown",
   "source": [
    "# L4: Fallbacks with Branching Pipelines"
   ],
   "metadata": {
    "collapsed": false
   },
   "id": "cd3a346cf2fd904"
  },
  {
   "cell_type": "code",
   "outputs": [],
   "source": [
    "import warnings\n",
    "from helper import load_env\n",
    "\n",
    "warnings.filterwarnings('ignore')\n",
    "load_env()"
   ],
   "metadata": {
    "collapsed": false
   },
   "id": "a0c51250c6a1dc13",
   "execution_count": null
  },
  {
   "cell_type": "code",
   "outputs": [],
   "source": [
    "from haystack import Pipeline, Document\n",
    "from haystack.components.routers import ConditionalRouter\n",
    "from haystack.components.builders.prompt_builder import PromptBuilder\n",
    "from haystack.components.generators import OpenAIGenerator\n",
    "from haystack.components.retrievers.in_memory import InMemoryBM25Retriever\n",
    "from haystack.components.websearch.serper_dev import SerperDevWebSearch\n",
    "from haystack.document_stores.in_memory import InMemoryDocumentStore"
   ],
   "metadata": {
    "collapsed": false
   },
   "id": "6829003eef0d5dbd",
   "execution_count": null
  },
  {
   "cell_type": "markdown",
   "source": [
    "# Index Documents into InMemoryDocumentStore"
   ],
   "metadata": {
    "collapsed": false
   },
   "id": "1e2609ae4fef96b9"
  },
  {
   "cell_type": "code",
   "outputs": [],
   "source": [
    "documents = [Document(content=\"Retrievers: Retrieves relevant documents to a user query using keyword search or semantic search.\"),\n",
    "             Document(content=\"Embedders: Creates embeddings for text or documents.\"),\n",
    "             Document(content=\"Generators: Use a number of model providers to generate answers or content based on a prompt\"),\n",
    "             Document(content=\"File Converters: Converts different file types like TXT, Markdown, PDF, etc. into a Haystack Document type\")]\n",
    "\n",
    "document_store = InMemoryDocumentStore()\n",
    "document_store.write_documents(documents=documents)"
   ],
   "metadata": {
    "collapsed": false
   },
   "id": "5075d5c2a966fd54",
   "execution_count": null
  },
  {
   "cell_type": "markdown",
   "source": [
    "# Create RAG Pipeline"
   ],
   "metadata": {
    "collapsed": false
   },
   "id": "3a2f5c6a743580fe"
  },
  {
   "cell_type": "code",
   "outputs": [],
   "source": [
    "rag_prompt_template = \"\"\"\n",
    "Answer the following query given the documents.\n",
    "If the answer is not contained within the documents, reply with 'no_answer'\n",
    "Query: {{query}}\n",
    "Documents:\n",
    "{% for document in documents %}\n",
    "  {{document.content}}\n",
    "{% endfor %}\n",
    "\"\"\""
   ],
   "metadata": {
    "collapsed": false
   },
   "id": "5f90662d910d623f",
   "execution_count": null
  },
  {
   "cell_type": "code",
   "outputs": [],
   "source": [
    "rag = Pipeline()\n",
    "rag.add_component(\"retriever\", InMemoryBM25Retriever(document_store=document_store))\n",
    "rag.add_component(\"prompt_builder\", PromptBuilder(template=rag_prompt_template))\n",
    "rag.add_component(\"llm\", OpenAIGenerator())\n",
    "\n",
    "rag.connect(\"retriever.documents\", \"prompt_builder.documents\")\n",
    "rag.connect(\"prompt_builder\", \"llm\")"
   ],
   "metadata": {
    "collapsed": false
   },
   "id": "e457d43430658c59",
   "execution_count": null
  },
  {
   "cell_type": "code",
   "outputs": [],
   "source": [
    "rag.show()"
   ],
   "metadata": {
    "collapsed": false
   },
   "id": "6f4cdd49140ec9ca",
   "execution_count": null
  },
  {
   "cell_type": "code",
   "outputs": [],
   "source": [
    "query = \"What is a retriever for?\"\n",
    "\n",
    "rag.run({\"prompt_builder\":{\"query\": query},\n",
    "         \"retriever\": {\"query\": query}})"
   ],
   "metadata": {
    "collapsed": false
   },
   "id": "13e96a0bc7b0bd71",
   "execution_count": null
  },
  {
   "cell_type": "code",
   "outputs": [],
   "source": [
    "query = \"What Mistral components are there?\"\n",
    "\n",
    "rag.run({\"prompt_builder\":{\"query\": query},\n",
    "         \"retriever\": {\"query\": query}})"
   ],
   "metadata": {
    "collapsed": false
   },
   "id": "afd0da26b07e1727",
   "execution_count": null
  },
  {
   "cell_type": "markdown",
   "source": [
    "# Create Conditional Routes"
   ],
   "metadata": {
    "collapsed": false
   },
   "id": "6a7ae74e7c33cda6"
  },
  {
   "cell_type": "code",
   "outputs": [],
   "source": [
    "routes = [\n",
    "    {\n",
    "        \"condition\": \"{{'no_answer' in replies[0]|lower}}\",\n",
    "        \"output\": \"{{query}}\",\n",
    "        \"output_name\": \"go_to_websearch\",\n",
    "        \"output_type\": str,\n",
    "    },\n",
    "    {\n",
    "        \"condition\": \"{{'no_answer' not in replies[0]|lower}}\",\n",
    "        \"output\": \"{{replies[0]}}\",\n",
    "        \"output_name\": \"answer\",\n",
    "        \"output_type\": str,\n",
    "    },\n",
    "]"
   ],
   "metadata": {
    "collapsed": false
   },
   "id": "7bfa8301dd475727",
   "execution_count": null
  },
  {
   "cell_type": "code",
   "outputs": [],
   "source": [
    "router = ConditionalRouter(routes=routes)\n",
    "router.run(replies=['Geoff is my friend'], query=\"Who is Geoff?\")"
   ],
   "metadata": {
    "collapsed": false
   },
   "id": "e138c6efc3d6457a",
   "execution_count": null
  },
  {
   "cell_type": "code",
   "outputs": [],
   "source": [
    "router.run(replies=['No_answer'], query=\"Who is Geoff?\")"
   ],
   "metadata": {
    "collapsed": false
   },
   "id": "527876df8cf5aff8",
   "execution_count": null
  },
  {
   "cell_type": "code",
   "outputs": [],
   "source": [
    "rag.add_component(\"router\", ConditionalRouter(routes=routes))\n",
    "rag.connect(\"llm.replies\", \"router.replies\")\n",
    "\n",
    "rag.show()"
   ],
   "metadata": {
    "collapsed": false
   },
   "id": "16c9bf88b5197f27",
   "execution_count": null
  },
  {
   "cell_type": "code",
   "outputs": [],
   "source": [
    "query = \"What Mistral components does Haystack have?\"\n",
    "\n",
    "rag.run({\"prompt_builder\":{\"query\": query},\n",
    "         \"retriever\": {\"query\": query},\n",
    "         \"router\": {\"query\": query}})"
   ],
   "metadata": {
    "collapsed": false
   },
   "id": "82974aab36fbd4d6",
   "execution_count": null
  },
  {
   "cell_type": "markdown",
   "source": [
    "# Create Websearch Branch"
   ],
   "metadata": {
    "collapsed": false
   },
   "id": "92276900c57d3cd8"
  },
  {
   "cell_type": "code",
   "outputs": [],
   "source": [
    "prompt_for_websearch = \"\"\"\n",
    "Answer the following query given the documents retrieved from the web.\n",
    "Your answer should indicate that your answer was generated from websearch.\n",
    "You can also reference the URLs that the answer was generated from\n",
    "\n",
    "Query: {{query}}\n",
    "Documents:\n",
    "{% for document in documents %}\n",
    "  {{document.content}}\n",
    "{% endfor %}\n",
    "\"\"\""
   ],
   "metadata": {
    "collapsed": false
   },
   "id": "4d13ecdac618149",
   "execution_count": null
  },
  {
   "cell_type": "markdown",
   "source": [
    "# Build a Pipeline with Conditional Routes"
   ],
   "metadata": {
    "collapsed": false
   },
   "id": "488157d8c031a509"
  },
  {
   "cell_type": "code",
   "outputs": [],
   "source": [
    "rag_or_websearch = Pipeline()\n",
    "rag_or_websearch.add_component(\"retriever\", InMemoryBM25Retriever(document_store=document_store))\n",
    "rag_or_websearch.add_component(\"prompt_builder\", PromptBuilder(template=rag_prompt_template))\n",
    "rag_or_websearch.add_component(\"llm\", OpenAIGenerator())\n",
    "rag_or_websearch.add_component(\"router\", ConditionalRouter(routes))\n",
    "rag_or_websearch.add_component(\"websearch\", SerperDevWebSearch())\n",
    "rag_or_websearch.add_component(\"prompt_builder_for_websearch\", PromptBuilder(template=prompt_for_websearch))\n",
    "rag_or_websearch.add_component(\"llm_for_websearch\",  OpenAIGenerator())\n",
    "\n",
    "rag_or_websearch.connect(\"retriever\", \"prompt_builder.documents\")\n",
    "rag_or_websearch.connect(\"prompt_builder\", \"llm\")\n",
    "rag_or_websearch.connect(\"llm.replies\", \"router.replies\")\n",
    "rag_or_websearch.connect(\"router.go_to_websearch\", \"websearch.query\")\n",
    "rag_or_websearch.connect(\"router.go_to_websearch\", \"prompt_builder_for_websearch.query\")\n",
    "rag_or_websearch.connect(\"websearch.documents\", \"prompt_builder_for_websearch.documents\")\n",
    "rag_or_websearch.connect(\"prompt_builder_for_websearch\", \"llm_for_websearch\")\n",
    "\n",
    "rag_or_websearch.show()"
   ],
   "metadata": {
    "collapsed": false
   },
   "id": "1857dc97f68761d",
   "execution_count": null
  },
  {
   "cell_type": "code",
   "outputs": [],
   "source": [
    "query= \"What is a retriever for?\"\n",
    "\n",
    "rag_or_websearch.run({\"prompt_builder\":{\"query\": query},\n",
    "                      \"retriever\": {\"query\": query},\n",
    "                      \"router\": {\"query\": query}})"
   ],
   "metadata": {
    "collapsed": false
   },
   "id": "6db96d795d509f01",
   "execution_count": null
  },
  {
   "cell_type": "code",
   "outputs": [],
   "source": [
    "query = \"What Mistral components does Haystack have?\"\n",
    "\n",
    "rag_or_websearch.run({\"prompt_builder\":{\"query\": query},\n",
    "                      \"retriever\": {\"query\": query},\n",
    "                      \"router\": {\"query\": query}})"
   ],
   "metadata": {
    "collapsed": false
   },
   "id": "f29a64e978ebb7c8",
   "execution_count": null
  },
  {
   "cell_type": "code",
   "outputs": [],
   "source": [],
   "metadata": {
    "collapsed": false
   },
   "id": "ec2d3fbea1fa49ae"
  }
 ],
 "metadata": {
  "kernelspec": {
   "display_name": "Python 3",
   "language": "python",
   "name": "python3"
  },
  "language_info": {
   "codemirror_mode": {
    "name": "ipython",
    "version": 2
   },
   "file_extension": ".py",
   "mimetype": "text/x-python",
   "name": "python",
   "nbconvert_exporter": "python",
   "pygments_lexer": "ipython2",
   "version": "2.7.6"
  }
 },
 "nbformat": 4,
 "nbformat_minor": 5
}
