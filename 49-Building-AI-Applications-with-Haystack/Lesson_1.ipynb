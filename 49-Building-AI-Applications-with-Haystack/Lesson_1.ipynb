{
 "cells": [
  {
   "cell_type": "markdown",
   "id": "074cb0ae-eeb1-4082-acee-1b4c93c4fcc4",
   "metadata": {},
   "source": [
    "# L1: Haystack Building Blocks"
   ]
  },
  {
   "cell_type": "code",
   "execution_count": null,
   "id": "b7a24ae1-bbd9-4d99-9cfe-c7d7cb4a3013",
   "metadata": {
    "height": 47
   },
   "outputs": [],
   "source": [
    "import warnings\n",
    "warnings.filterwarnings('ignore')"
   ]
  },
  {
   "cell_type": "code",
   "execution_count": null,
   "id": "c7d8046a-9685-45e7-8c8d-74b0c654a99d",
   "metadata": {
    "height": 47
   },
   "outputs": [],
   "source": [
    "from helper import load_env\n",
    "load_env()"
   ]
  },
  {
   "cell_type": "markdown",
   "id": "7ca01476-ddc8-47ef-b6c9-d03dc3e6cd30",
   "metadata": {},
   "source": [
    "## Components"
   ]
  },
  {
   "cell_type": "code",
   "execution_count": null,
   "id": "a3ab0d4c-3270-4904-af40-d3a2e0fba9f6",
   "metadata": {
    "height": 64
   },
   "outputs": [],
   "source": [
    "from haystack.components.embedders import OpenAIDocumentEmbedder\n",
    "\n",
    "embedder = OpenAIDocumentEmbedder(model=\"text-embedding-3-small\")"
   ]
  },
  {
   "cell_type": "code",
   "execution_count": null,
   "id": "6fbc9a3c-8e03-4891-b2ea-a78b5bd9573f",
   "metadata": {
    "height": 30
   },
   "outputs": [],
   "source": [
    "embedder"
   ]
  },
  {
   "cell_type": "code",
   "execution_count": null,
   "id": "e8bc48cf-c19b-4514-b40e-6519855d6148",
   "metadata": {
    "height": 130
   },
   "outputs": [],
   "source": [
    "from haystack.dataclasses import Document\n",
    "\n",
    "documents = [Document(content=\"Haystack is an open source AI framework to build full AI applications in Python\"),\n",
    "             Document(content=\"You can build AI Pipelines by combining Components\"),]\n",
    "\n",
    "embedder.run(documents=documents)"
   ]
  },
  {
   "cell_type": "code",
   "execution_count": null,
   "id": "833acda7-69ff-4910-b804-5b5e1055ed25",
   "metadata": {
    "height": 79
   },
   "outputs": [],
   "source": [
    "from haystack.document_stores.in_memory import InMemoryDocumentStore\n",
    "\n",
    "document_store = InMemoryDocumentStore()"
   ]
  },
  {
   "cell_type": "markdown",
   "id": "faec1072-2e4e-4af6-aae0-abb843094773",
   "metadata": {},
   "source": [
    "### Writing documents with embeddings into a document store\n"
   ]
  },
  {
   "cell_type": "code",
   "execution_count": null,
   "id": "7e22e448-d929-4bb7-9eb1-a803b90cfa90",
   "metadata": {
    "height": 334
   },
   "outputs": [],
   "source": [
    "from haystack import Pipeline\n",
    "\n",
    "from haystack.components.converters.txt import TextFileToDocument\n",
    "from haystack.components.preprocessors.document_splitter import DocumentSplitter\n",
    "from haystack.components.embedders import OpenAIDocumentEmbedder\n",
    "from haystack.components.writers import DocumentWriter\n",
    "\n",
    "converter = TextFileToDocument()\n",
    "splitter = DocumentSplitter()\n",
    "embedder = OpenAIDocumentEmbedder()\n",
    "writer = DocumentWriter(document_store=document_store)\n",
    "\n",
    "indexing_pipeline = Pipeline()\n",
    "\n",
    "indexing_pipeline.add_component(\"converter\", converter)\n",
    "indexing_pipeline.add_component(\"splitter\", splitter)\n",
    "indexing_pipeline.add_component(\"embedder\", embedder)\n",
    "indexing_pipeline.add_component(\"writer\", writer)"
   ]
  },
  {
   "cell_type": "markdown",
   "id": "0e97387b-71c2-401a-9206-74e29626ce4d",
   "metadata": {},
   "source": [
    "#### Connecting Components"
   ]
  },
  {
   "cell_type": "code",
   "execution_count": null,
   "id": "570405d2-2517-43c7-a29d-cc4c0ffbff24",
   "metadata": {
    "height": 64
   },
   "outputs": [],
   "source": [
    "indexing_pipeline.connect(\"converter\", \"splitter\")\n",
    "indexing_pipeline.connect(\"splitter\", \"embedder\")\n",
    "indexing_pipeline.connect(\"embedder\", \"writer\")"
   ]
  },
  {
   "cell_type": "code",
   "execution_count": null,
   "id": "81bb8d46-91c4-4dfd-a9d5-cca9b463105d",
   "metadata": {
    "height": 30
   },
   "outputs": [],
   "source": [
    "indexing_pipeline.show()"
   ]
  },
  {
   "cell_type": "markdown",
   "id": "369efbd7-f94c-468d-9de5-872dc2567a94",
   "metadata": {},
   "source": [
    "#### Running Pipelines\n"
   ]
  },
  {
   "cell_type": "code",
   "execution_count": null,
   "id": "93396169-0559-4fce-ad5e-bbd28f30c5ca",
   "metadata": {
    "height": 45
   },
   "outputs": [],
   "source": [
    "indexing_pipeline.run({\"converter\": {\"sources\": ['data/davinci.txt']}})"
   ]
  },
  {
   "cell_type": "code",
   "execution_count": null,
   "id": "6c7e214c-b550-4447-8bdb-6fe78f5a532d",
   "metadata": {
    "height": 30
   },
   "outputs": [],
   "source": [
    "document_store.filter_documents()[5].content"
   ]
  },
  {
   "cell_type": "markdown",
   "id": "61750f54-f993-4933-9fc1-5df55d6e6d13",
   "metadata": {},
   "source": [
    "### Creating a document search pipeline"
   ]
  },
  {
   "cell_type": "code",
   "execution_count": null,
   "id": "1fa8b081-8d4e-420d-9c4d-eeb1d6f2ab82",
   "metadata": {
    "height": 232
   },
   "outputs": [],
   "source": [
    "from haystack.components.embedders import OpenAITextEmbedder\n",
    "from haystack.components.retrievers.in_memory import InMemoryEmbeddingRetriever\n",
    "\n",
    "query_embedder = OpenAITextEmbedder()\n",
    "retriever = InMemoryEmbeddingRetriever(document_store=document_store)\n",
    "\n",
    "document_search = Pipeline()\n",
    "\n",
    "document_search.add_component(\"query_embedder\", query_embedder)\n",
    "document_search.add_component(\"retriever\", retriever)\n",
    "\n",
    "document_search.connect(\"query_embedder.embedding\", \"retriever.query_embedding\")"
   ]
  },
  {
   "cell_type": "code",
   "execution_count": null,
   "id": "a5c1f792-fcbd-4752-a4ad-aa5f6364d0d7",
   "metadata": {
    "height": 30
   },
   "outputs": [],
   "source": [
    "document_search.show()"
   ]
  },
  {
   "cell_type": "code",
   "execution_count": null,
   "id": "fd3ffd75-334a-47d4-89a8-9d366bcbbbb6",
   "metadata": {
    "height": 164
   },
   "outputs": [],
   "source": [
    "question = \"How old was Davinci when he died?\"\n",
    "\n",
    "results = document_search.run({\"query_embedder\": {\"text\": question}})\n",
    "\n",
    "for i, document in enumerate(results[\"retriever\"][\"documents\"]):\n",
    "    print(\"\\n--------------\\n\")\n",
    "    print(f\"DOCUMENT {i}\")\n",
    "    print(document.content)"
   ]
  },
  {
   "cell_type": "code",
   "execution_count": null,
   "id": "38d5e8a6-0d58-40dc-b0db-0572a70809aa",
   "metadata": {
    "height": 181
   },
   "outputs": [],
   "source": [
    "question = \"How old was Davinci when he died?\"\n",
    "\n",
    "results = document_search.run({\"query_embedder\": {\"text\": question},\n",
    "                               \"retriever\": {\"top_k\": 3}})\n",
    "\n",
    "for i, document in enumerate(results[\"retriever\"][\"documents\"]):\n",
    "    print(\"\\n--------------\\n\")\n",
    "    print(f\"DOCUMENT {i}\")\n",
    "    print(document.content)"
   ]
  },
  {
   "cell_type": "markdown",
   "id": "c8e427ea",
   "metadata": {},
   "source": [
    "**Next: Try changing the `top_k` for the retriever, or change the question:**\n",
    "- Where was Davinci born?\n",
    "- When did Davinci live in Rome?"
   ]
  }
 ],
 "metadata": {
  "kernelspec": {
   "display_name": "Python 3 (ipykernel)",
   "language": "python",
   "name": "python3"
  },
  "language_info": {
   "codemirror_mode": {
    "name": "ipython",
    "version": 3
   },
   "file_extension": ".py",
   "mimetype": "text/x-python",
   "name": "python",
   "nbconvert_exporter": "python",
   "pygments_lexer": "ipython3",
   "version": "3.10.13"
  }
 },
 "nbformat": 4,
 "nbformat_minor": 5
}
