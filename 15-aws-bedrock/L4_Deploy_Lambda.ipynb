{
 "cells": [
  {
   "cell_type": "markdown",
   "id": "9d5b9a7a-7790-4012-b8e4-eb4aa28064ce",
   "metadata": {},
   "source": [
    "# Lesson 4: Deploy an AWS Lambda function"
   ]
  },
  {
   "cell_type": "markdown",
   "id": "2892c90c-cd67-4331-b82b-650dec4fa63a",
   "metadata": {},
   "source": [
    "### Import all needed packages"
   ]
  },
  {
   "cell_type": "code",
   "execution_count": null,
   "id": "81ebe531-b854-489b-97e7-bf9c65ca0e3f",
   "metadata": {},
   "outputs": [],
   "source": []
  }
 ],
 "metadata": {
  "kernelspec": {
   "display_name": "Python 3 (ipykernel)",
   "language": "python",
   "name": "python3"
  },
  "language_info": {
   "codemirror_mode": {
    "name": "ipython",
    "version": 3
   },
   "file_extension": ".py",
   "mimetype": "text/x-python",
   "name": "python",
   "nbconvert_exporter": "python",
   "pygments_lexer": "ipython3",
   "version": "3.9.10"
  }
 },
 "nbformat": 4,
 "nbformat_minor": 5
}
