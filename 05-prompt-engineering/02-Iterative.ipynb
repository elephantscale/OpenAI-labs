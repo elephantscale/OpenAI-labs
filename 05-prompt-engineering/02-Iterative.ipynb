{
 "cells": [
  {
   "cell_type": "code",
   "execution_count": 1,
   "id": "c25fc756",
   "metadata": {},
   "outputs": [],
   "source": [
    "import openai\n",
    "import os\n",
    "\n",
    "from dotenv import load_dotenv, find_dotenv\n",
    "_ = load_dotenv(find_dotenv()) # read local .env file\n",
    "openai.api_key  = os.getenv('OPENAI_API_KEY')\n",
    "MODEL=os.getenv('LLM_MODEL')"
   ]
  },
  {
   "cell_type": "code",
   "execution_count": 2,
   "id": "0737dfac",
   "metadata": {},
   "outputs": [],
   "source": [
    "# For OpenAI after 1.0.0 (1.13.3 at the time of writing)\n",
    "client = openai.OpenAI()\n",
    "\n",
    "def get_completion(prompt, model=MODEL):\n",
    "    messages = [{\"role\": \"user\", \"content\": prompt}]\n",
    "    response = client.chat.completions.create(\n",
    "        model=model,\n",
    "        messages=messages,\n",
    "        temperature=0\n",
    "    )\n",
    "    return response.choices[0].message.content"
   ]
  },
  {
   "cell_type": "markdown",
   "id": "d13a7bc5",
   "metadata": {},
   "source": [
    "![](../images/06-iterative.png)"
   ]
  },
  {
   "cell_type": "markdown",
   "id": "fc03e533",
   "metadata": {},
   "source": [
    "![](../images/07-process.png)"
   ]
  },
  {
   "cell_type": "markdown",
   "id": "1b9e43db",
   "metadata": {},
   "source": [
    "## Generate a marketing product description from a product fact sheet"
   ]
  },
  {
   "cell_type": "code",
   "execution_count": 3,
   "id": "7bcc7898",
   "metadata": {},
   "outputs": [],
   "source": [
    "fact_sheet_chair = \"\"\"\n",
    "OVERVIEW\n",
    "- Part of a beautiful family of mid-century inspired office furniture, \n",
    "including filing cabinets, desks, bookcases, meeting tables, and more.\n",
    "- Several options of shell color and base finishes.\n",
    "- Available with plastic back and front upholstery (SWC-100) \n",
    "or full upholstery (SWC-110) in 10 fabric and 6 leather options.\n",
    "- Base finish options are: stainless steel, matte black, \n",
    "gloss white, or chrome.\n",
    "- Chair is available with or without armrests.\n",
    "- Suitable for home or business settings.\n",
    "- Qualified for contract use.\n",
    "\n",
    "CONSTRUCTION\n",
    "- 5-wheel plastic coated aluminum base.\n",
    "- Pneumatic chair adjust for easy raise/lower action.\n",
    "\n",
    "DIMENSIONS\n",
    "- WIDTH 53 CM | 20.87”\n",
    "- DEPTH 51 CM | 20.08”\n",
    "- HEIGHT 80 CM | 31.50”\n",
    "- SEAT HEIGHT 44 CM | 17.32”\n",
    "- SEAT DEPTH 41 CM | 16.14”\n",
    "\n",
    "OPTIONS\n",
    "- Soft or hard-floor caster options.\n",
    "- Two choices of seat foam densities: \n",
    " medium (1.8 lb/ft3) or high (2.8 lb/ft3)\n",
    "- Armless or 8 position PU armrests \n",
    "\n",
    "MATERIALS\n",
    "SHELL BASE GLIDER\n",
    "- Cast Aluminum with modified nylon PA6/PA66 coating.\n",
    "- Shell thickness: 10 mm.\n",
    "SEAT\n",
    "- HD36 foam\n",
    "\n",
    "COUNTRY OF ORIGIN\n",
    "- Italy\n",
    "\"\"\""
   ]
  },
  {
   "cell_type": "code",
   "execution_count": 4,
   "id": "c83ae6c7",
   "metadata": {},
   "outputs": [
    {
     "name": "stdout",
     "output_type": "stream",
     "text": [
      "Elevate your workspace with our Mid-Century Modern Office Chair, a perfect blend of style and functionality designed to complement any office setting. This chair is part of an exquisite collection that includes a range of office furniture, from sleek filing cabinets to elegant meeting tables, all inspired by the timeless mid-century aesthetic.\n",
      "\n",
      "Choose from a variety of shell colors and base finishes to match your office decor. Our chair comes in two models: the SWC-100, featuring a plastic back with front upholstery, and the SWC-110, offering full upholstery with a selection of 10 fabric and 6 luxurious leather options. The base finishes include sophisticated stainless steel, contemporary matte black, sleek gloss white, or a classic chrome look.\n",
      "\n",
      "Customize your comfort with options for armrests, ensuring that your chair fits your personal preference and workspace requirements. Whether you're outfitting a home office or a business environment, this chair is built to meet the demands of contract use with its durable construction and versatile design.\n",
      "\n",
      "The chair's foundation is a sturdy 5-wheel plastic coated aluminum base, equipped with a pneumatic adjustment feature for effortless height customization. Glide smoothly over any surface with your choice of soft or hard-floor casters, and select the seat foam density that suits your comfort level, available in medium (1.8 lb/ft3) or high (2.8 lb/ft3) options. For those who desire additional support, the chair can be fitted with 8 position PU armrests or can be chosen in an armless design for a sleeker profile.\n",
      "\n",
      "Dimensions are thoughtfully crafted to accommodate a variety of body types, with a width of 53 cm (20.87 inches), depth of 51 cm (20.08 inches), and an overall height of 80 cm (31.50 inches). The seat height is set at a comfortable 44 cm (17.32 inches), with a seat depth of 41 cm (16.14 inches), ensuring ample space for extended periods of work.\n",
      "\n",
      "The chair's shell is made from cast aluminum with a modified nylon PA6/PA66 coating for durability, featuring a shell thickness of 10 mm. The seat is cushioned with high-quality HD36 foam, providing both comfort and support throughout your workday.\n",
      "\n",
      "Proudly crafted in Italy, this Mid-Century Modern Office Chair is not just a piece of furniture, but a statement of sophistication and comfort for any professional space. Add a touch of elegance and ergonomic design to your office today with this versatile and stylish chair.\n"
     ]
    }
   ],
   "source": [
    "prompt = f\"\"\"\n",
    "Your task is to help a marketing team create a \n",
    "description for a retail website of a product based \n",
    "on a technical fact sheet.\n",
    "\n",
    "Write a product description based on the information \n",
    "provided in the technical specifications delimited by \n",
    "triple backticks.\n",
    "\n",
    "Technical specifications: ```{fact_sheet_chair}```\n",
    "\"\"\"\n",
    "response = get_completion(prompt)\n",
    "print(response)"
   ]
  },
  {
   "cell_type": "markdown",
   "id": "746f5068",
   "metadata": {},
   "source": [
    "## Issue 1: The text is too long \n",
    "- Limit the number of words/sentences/characters."
   ]
  },
  {
   "cell_type": "code",
   "execution_count": 5,
   "id": "a559cd2f",
   "metadata": {},
   "outputs": [
    {
     "data": {
      "text/plain": [
       "2457"
      ]
     },
     "execution_count": 5,
     "metadata": {},
     "output_type": "execute_result"
    }
   ],
   "source": [
    "len(response)"
   ]
  },
  {
   "cell_type": "code",
   "execution_count": 6,
   "id": "bf6ff57e",
   "metadata": {},
   "outputs": [
    {
     "name": "stdout",
     "output_type": "stream",
     "text": [
      "Experience Italian craftsmanship with our mid-century inspired office chair, featuring a durable 10mm thick shell and a 5-wheel coated aluminum base for smooth mobility. Choose from plastic or fully upholstered options in a variety of fabrics and leathers, complemented by stainless steel, matte black, gloss white, or chrome finishes. Tailor comfort with adjustable seat height, optional armrests, and select foam densities. Suitable for both home and contract use.\n"
     ]
    }
   ],
   "source": [
    "prompt = f\"\"\"\n",
    "Your task is to help a marketing team create a \n",
    "description for a retail website of a product based \n",
    "on a technical fact sheet.\n",
    "\n",
    "Write a product description based on the information \n",
    "provided in the technical specifications delimited by \n",
    "triple backticks.\n",
    "\n",
    "The description is intended for furniture retailers, \n",
    "so should be technical in nature and focus on the \n",
    "materials the product is constructed from.\n",
    "\n",
    "Use at most 50 words.\n",
    "\n",
    "Technical specifications: ```{fact_sheet_chair}```\n",
    "\"\"\"\n",
    "response = get_completion(prompt)\n",
    "print(response)"
   ]
  },
  {
   "cell_type": "markdown",
   "id": "6c180abc",
   "metadata": {},
   "source": [
    "Try to say \"Use at most 3 sentences\" or \"Use at most 280 characters\""
   ]
  },
  {
   "cell_type": "markdown",
   "id": "f0946326",
   "metadata": {},
   "source": [
    "## Issue 2. Text focuses on the wrong details\n",
    "- Ask it to focus on the aspects that are relevant to the intended audience."
   ]
  },
  {
   "cell_type": "code",
   "execution_count": 7,
   "id": "ac7172f3",
   "metadata": {},
   "outputs": [
    {
     "name": "stdout",
     "output_type": "stream",
     "text": [
      "Discover our mid-century inspired office chair, crafted with a robust 5-wheel coated aluminum base and a 10 mm thick shell. Choose from plastic or fully upholstered in premium fabrics or leathers, complemented by stainless steel, matte black, gloss white, or chrome finishes. Features pneumatic height adjustment and optional armrests for tailored comfort. Made in Italy.\n"
     ]
    }
   ],
   "source": [
    "prompt = f\"\"\"\n",
    "Your task is to help a marketing team create a \n",
    "description for a retail website of a product based \n",
    "on a technical fact sheet.\n",
    "\n",
    "Write a product description based on the information \n",
    "provided in the technical specifications delimited by \n",
    "triple backticks.\n",
    "\n",
    "The description is intended for furniture retailers, \n",
    "so should be technical in nature and focus on the \n",
    "materials the product is constructed from.\n",
    "\n",
    "Use at most 50 words.\n",
    "\n",
    "Technical specifications: ```{fact_sheet_chair}```\n",
    "\"\"\"\n",
    "response = get_completion(prompt)\n",
    "print(response)"
   ]
  },
  {
   "cell_type": "code",
   "execution_count": 8,
   "id": "898f6de2",
   "metadata": {},
   "outputs": [
    {
     "name": "stdout",
     "output_type": "stream",
     "text": [
      "Discover our mid-century inspired office chair, crafted with a 10 mm thick shell and a durable cast aluminum base coated in modified nylon PA6/PA66. Choose from a stainless steel, matte black, gloss white, or chrome finish, and customize with or without armrests. The seat is padded with HD36 foam, ensuring comfort and support. This versatile chair is available in both plastic back with front upholstery (SWC-100) or fully upholstered (SWC-110) versions, with a range of 10 fabric and 6 leather options. Ideal for both home and office environments, this Italian-made chair meets contract use standards and offers pneumatic height adjustment for optimal ergonomics. Product IDs: SWC-100, SWC-110.\n"
     ]
    }
   ],
   "source": [
    "prompt = f\"\"\"\n",
    "Your task is to help a marketing team create a \n",
    "description for a retail website of a product based \n",
    "on a technical fact sheet.\n",
    "\n",
    "Write a product description based on the information \n",
    "provided in the technical specifications delimited by \n",
    "triple backticks.\n",
    "\n",
    "The description is intended for furniture retailers, \n",
    "so should be technical in nature and focus on the \n",
    "materials the product is constructed from.\n",
    "\n",
    "At the end of the description, include every 7-character \n",
    "Product ID in the technical specification.\n",
    "\n",
    "Use at most 50 words.\n",
    "\n",
    "Technical specifications: ```{fact_sheet_chair}```\n",
    "\"\"\"\n",
    "response = get_completion(prompt)\n",
    "print(response)"
   ]
  },
  {
   "cell_type": "markdown",
   "id": "d94e631a",
   "metadata": {},
   "source": [
    "## Issue 3. Description needs a table of dimensions\n",
    "- Ask it to extract information and organize it in a table."
   ]
  },
  {
   "cell_type": "code",
   "execution_count": 9,
   "id": "befe8f88",
   "metadata": {},
   "outputs": [
    {
     "name": "stdout",
     "output_type": "stream",
     "text": [
      "```html\n",
      "<div>\n",
      "  <p>Introducing our exquisite line of mid-century inspired office furniture, designed to elevate any workspace with its timeless elegance and modern functionality. This versatile chair, available in both the SWC-100 and SWC-110 models, caters to a variety of aesthetic preferences and practical needs. Choose from a palette of 10 fabric and 6 leather upholstery options to seamlessly blend with your office decor. The chair's base is offered in four sophisticated finishes: stainless steel, matte black, gloss white, or chrome, ensuring a perfect match for your style.</p>\n",
      "  \n",
      "  <p>Constructed with a durable 5-wheel plastic coated aluminum base, the chair provides stability and ease of movement. The pneumatic adjustment feature allows for effortless height customization, ensuring optimal comfort during long work sessions. Whether you opt for the armless design or the 8 position PU armrests, this chair is built to accommodate your personal comfort needs.</p>\n",
      "  \n",
      "  <p>Designed for versatility, the chair is equipped with either soft or hard-floor casters, and offers two seat foam densities: medium (1.8 lb/ft3) or high (2.8 lb/ft3), allowing for a tailored seating experience. Crafted with a robust cast aluminum shell base and a glider coated with modified nylon PA6/PA66, the chair promises durability and longevity. The shell's 10 mm thickness and the high-quality HD36 foam seat further attest to the chair's superior construction.</p>\n",
      "  \n",
      "  <p>Whether for a home office or a business setting, this chair is qualified for contract use and is sure to impress with its blend of style, comfort, and functionality. Proudly made in Italy, it reflects the craftsmanship and design excellence synonymous with Italian furniture.</p>\n",
      "  \n",
      "  <p>Product IDs: SWC-100, SWC-110</p>\n",
      "</div>\n",
      "\n",
      "<h2>Product Dimensions</h2>\n",
      "<table>\n",
      "  <tr>\n",
      "    <th>Dimension</th>\n",
      "    <th>Measurements (inches)</th>\n",
      "  </tr>\n",
      "  <tr>\n",
      "    <td>Width</td>\n",
      "    <td>20.87</td>\n",
      "  </tr>\n",
      "  <tr>\n",
      "    <td>Depth</td>\n",
      "    <td>20.08</td>\n",
      "  </tr>\n",
      "  <tr>\n",
      "    <td>Height</td>\n",
      "    <td>31.50</td>\n",
      "  </tr>\n",
      "  <tr>\n",
      "    <td>Seat Height</td>\n",
      "    <td>17.32</td>\n",
      "  </tr>\n",
      "  <tr>\n",
      "    <td>Seat Depth</td>\n",
      "    <td>16.14</td>\n",
      "  </tr>\n",
      "</table>\n",
      "```\n"
     ]
    }
   ],
   "source": [
    "prompt = f\"\"\"\n",
    "Your task is to help a marketing team create a \n",
    "description for a retail website of a product based \n",
    "on a technical fact sheet.\n",
    "\n",
    "Write a product description based on the information \n",
    "provided in the technical specifications delimited by \n",
    "triple backticks.\n",
    "\n",
    "The description is intended for furniture retailers, \n",
    "so should be technical in nature and focus on the \n",
    "materials the product is constructed from.\n",
    "\n",
    "At the end of the description, include every 7-character \n",
    "Product ID in the technical specification.\n",
    "\n",
    "After the description, include a table that gives the \n",
    "product's dimensions. The table should have two columns.\n",
    "In the first column include the name of the dimension. \n",
    "In the second column include the measurements in inches only.\n",
    "\n",
    "Give the table the title 'Product Dimensions'.\n",
    "\n",
    "Format everything as HTML that can be used in a website. \n",
    "Place the description in a <div> element.\n",
    "\n",
    "Technical specifications: ```{fact_sheet_chair}```\n",
    "\"\"\"\n",
    "\n",
    "response = get_completion(prompt)\n",
    "print(response)"
   ]
  },
  {
   "cell_type": "markdown",
   "id": "7101367f",
   "metadata": {},
   "source": [
    "## Load Python libraries to view HTML"
   ]
  },
  {
   "cell_type": "code",
   "execution_count": 10,
   "id": "886ca6cc",
   "metadata": {},
   "outputs": [],
   "source": [
    "from IPython.display import display, HTML"
   ]
  },
  {
   "cell_type": "code",
   "execution_count": 11,
   "id": "c9a34838",
   "metadata": {},
   "outputs": [
    {
     "data": {
      "text/html": [
       "```html\n",
       "<div>\n",
       "  <p>Introducing our exquisite line of mid-century inspired office furniture, designed to elevate any workspace with its timeless elegance and modern functionality. This versatile chair, available in both the SWC-100 and SWC-110 models, caters to a variety of aesthetic preferences and practical needs. Choose from a palette of 10 fabric and 6 leather upholstery options to seamlessly blend with your office decor. The chair's base is offered in four sophisticated finishes: stainless steel, matte black, gloss white, or chrome, ensuring a perfect match for your style.</p>\n",
       "  \n",
       "  <p>Constructed with a durable 5-wheel plastic coated aluminum base, the chair provides stability and ease of movement. The pneumatic adjustment feature allows for effortless height customization, ensuring optimal comfort during long work sessions. Whether you opt for the armless design or the 8 position PU armrests, this chair is built to accommodate your personal comfort needs.</p>\n",
       "  \n",
       "  <p>Designed for versatility, the chair is equipped with either soft or hard-floor casters, and offers two seat foam densities: medium (1.8 lb/ft3) or high (2.8 lb/ft3), allowing for a tailored seating experience. Crafted with a robust cast aluminum shell base and a glider coated with modified nylon PA6/PA66, the chair promises durability and longevity. The shell's 10 mm thickness and the high-quality HD36 foam seat further attest to the chair's superior construction.</p>\n",
       "  \n",
       "  <p>Whether for a home office or a business setting, this chair is qualified for contract use and is sure to impress with its blend of style, comfort, and functionality. Proudly made in Italy, it reflects the craftsmanship and design excellence synonymous with Italian furniture.</p>\n",
       "  \n",
       "  <p>Product IDs: SWC-100, SWC-110</p>\n",
       "</div>\n",
       "\n",
       "<h2>Product Dimensions</h2>\n",
       "<table>\n",
       "  <tr>\n",
       "    <th>Dimension</th>\n",
       "    <th>Measurements (inches)</th>\n",
       "  </tr>\n",
       "  <tr>\n",
       "    <td>Width</td>\n",
       "    <td>20.87</td>\n",
       "  </tr>\n",
       "  <tr>\n",
       "    <td>Depth</td>\n",
       "    <td>20.08</td>\n",
       "  </tr>\n",
       "  <tr>\n",
       "    <td>Height</td>\n",
       "    <td>31.50</td>\n",
       "  </tr>\n",
       "  <tr>\n",
       "    <td>Seat Height</td>\n",
       "    <td>17.32</td>\n",
       "  </tr>\n",
       "  <tr>\n",
       "    <td>Seat Depth</td>\n",
       "    <td>16.14</td>\n",
       "  </tr>\n",
       "</table>\n",
       "```"
      ],
      "text/plain": [
       "<IPython.core.display.HTML object>"
      ]
     },
     "metadata": {},
     "output_type": "display_data"
    }
   ],
   "source": [
    "display(HTML(response))"
   ]
  },
  {
   "cell_type": "markdown",
   "id": "6d0a5259",
   "metadata": {},
   "source": [
    "## Try experimenting on your own!"
   ]
  },
  {
   "cell_type": "code",
   "execution_count": null,
   "id": "23dd9f1c",
   "metadata": {},
   "outputs": [],
   "source": []
  }
 ],
 "metadata": {
  "kernelspec": {
   "display_name": "Python 3 (ipykernel)",
   "language": "python",
   "name": "python3"
  },
  "language_info": {
   "codemirror_mode": {
    "name": "ipython",
    "version": 3
   },
   "file_extension": ".py",
   "mimetype": "text/x-python",
   "name": "python",
   "nbconvert_exporter": "python",
   "pygments_lexer": "ipython3",
   "version": "3.9.10"
  }
 },
 "nbformat": 4,
 "nbformat_minor": 5
}
