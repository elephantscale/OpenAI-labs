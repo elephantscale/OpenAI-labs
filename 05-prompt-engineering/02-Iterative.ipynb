{
 "cells": [
  {
   "cell_type": "code",
   "execution_count": 1,
   "id": "c25fc756",
   "metadata": {},
   "outputs": [],
   "source": [
    "import openai\n",
    "import os\n",
    "\n",
    "from dotenv import load_dotenv, find_dotenv\n",
    "_ = load_dotenv(find_dotenv()) # read local .env file\n",
    "openai.api_key  = os.getenv('OPENAI_API_KEY')\n",
    "MODEL=os.getenv('LLM_MODEL')"
   ]
  },
  {
   "cell_type": "code",
   "execution_count": 2,
   "id": "0737dfac",
   "metadata": {},
   "outputs": [],
   "source": [
    "# For OpenAI after 1.0.0 (1.13.3 at the time of writing)\n",
    "client = openai.OpenAI()\n",
    "\n",
    "def get_completion(prompt, model=MODEL):\n",
    "    messages = [{\"role\": \"user\", \"content\": prompt}]\n",
    "    response = client.chat.completions.create(\n",
    "        model=model,\n",
    "        messages=messages,\n",
    "        temperature=0\n",
    "    )\n",
    "    return response.choices[0].message.content"
   ]
  },
  {
   "cell_type": "markdown",
   "id": "d13a7bc5",
   "metadata": {},
   "source": [
    "![](../images/06-iterative.png)"
   ]
  },
  {
   "cell_type": "markdown",
   "id": "fc03e533",
   "metadata": {},
   "source": [
    "![](../images/07-process.png)"
   ]
  },
  {
   "cell_type": "markdown",
   "id": "1b9e43db",
   "metadata": {},
   "source": [
    "## Generate a marketing product description from a product fact sheet"
   ]
  },
  {
   "cell_type": "code",
   "execution_count": 3,
   "id": "7bcc7898",
   "metadata": {},
   "outputs": [],
   "source": [
    "fact_sheet_chair = \"\"\"\n",
    "OVERVIEW\n",
    "- Part of a beautiful family of mid-century inspired office furniture, \n",
    "including filing cabinets, desks, bookcases, meeting tables, and more.\n",
    "- Several options of shell color and base finishes.\n",
    "- Available with plastic back and front upholstery (SWC-100) \n",
    "or full upholstery (SWC-110) in 10 fabric and 6 leather options.\n",
    "- Base finish options are: stainless steel, matte black, \n",
    "gloss white, or chrome.\n",
    "- Chair is available with or without armrests.\n",
    "- Suitable for home or business settings.\n",
    "- Qualified for contract use.\n",
    "\n",
    "CONSTRUCTION\n",
    "- 5-wheel plastic coated aluminum base.\n",
    "- Pneumatic chair adjust for easy raise/lower action.\n",
    "\n",
    "DIMENSIONS\n",
    "- WIDTH 53 CM | 20.87”\n",
    "- DEPTH 51 CM | 20.08”\n",
    "- HEIGHT 80 CM | 31.50”\n",
    "- SEAT HEIGHT 44 CM | 17.32”\n",
    "- SEAT DEPTH 41 CM | 16.14”\n",
    "\n",
    "OPTIONS\n",
    "- Soft or hard-floor caster options.\n",
    "- Two choices of seat foam densities: \n",
    " medium (1.8 lb/ft3) or high (2.8 lb/ft3)\n",
    "- Armless or 8 position PU armrests \n",
    "\n",
    "MATERIALS\n",
    "SHELL BASE GLIDER\n",
    "- Cast Aluminum with modified nylon PA6/PA66 coating.\n",
    "- Shell thickness: 10 mm.\n",
    "SEAT\n",
    "- HD36 foam\n",
    "\n",
    "COUNTRY OF ORIGIN\n",
    "- Italy\n",
    "\"\"\""
   ]
  },
  {
   "cell_type": "code",
   "execution_count": 4,
   "id": "c83ae6c7",
   "metadata": {},
   "outputs": [
    {
     "name": "stdout",
     "output_type": "stream",
     "text": [
      "Elevate your workspace with our exquisite mid-century inspired office chair, a versatile addition to our elegant collection that includes filing cabinets, desks, bookcases, meeting tables, and more. Designed to blend seamlessly into both home and business environments, this chair is not only a statement of style but also a testament to functionality.\n",
      "\n",
      "Choose from a palette of shell colors and complement them with your preferred base finish—opt for the sleek stainless steel, the modern matte black, the pristine gloss white, or the classic chrome. Tailor the chair to your comfort and aesthetic preferences with options for plastic back and front upholstery (SWC-100) or indulge in the luxurious full upholstery (SWC-110), available in 10 fabric and 6 leather finishes.\n",
      "\n",
      "Whether you're reaching for the highest shelf or sitting down to focus, the pneumatic chair adjustment offers a smooth raise/lower action, ensuring your comfort is never compromised. The chair's dimensions are meticulously crafted to accommodate a variety of spaces and body types, with a width of 53 cm (20.87”), a depth of 51 cm (20.08”), and an overall height of 80 cm (31.50”). The seat height is set at a comfortable 44 cm (17.32”) with a seat depth of 41 cm (16.14”).\n",
      "\n",
      "Customize your chair further with soft or hard-floor caster options to glide effortlessly across any surface. Select from two densities of seat foam—medium (1.8 lb/ft3) for a softer sit or high (2.8 lb/ft3) for firmer support. Additionally, choose between a sleek armless design or opt for the 8 position PU armrests for enhanced comfort.\n",
      "\n",
      "Constructed with a durable 5-wheel plastic coated aluminum base and a robust 10 mm thick shell made of cast aluminum with a modified nylon PA6/PA66 coating, this chair promises longevity and sturdiness. The seat is padded with high-quality HD36 foam, ensuring a comfortable seating experience that lasts throughout the workday.\n",
      "\n",
      "Proudly crafted in Italy, this chair is not only a piece of furniture but a reflection of impeccable taste and a commitment to quality. It's qualified for contract use, making it an ideal choice for businesses looking to invest in durable, stylish, and comfortable seating solutions.\n",
      "\n",
      "Transform your office space with this timeless chair that offers both beauty and practicality, and experience the perfect blend of mid-century charm and contemporary comfort.\n"
     ]
    }
   ],
   "source": [
    "prompt = f\"\"\"\n",
    "Your task is to help a marketing team create a \n",
    "description for a retail website of a product based \n",
    "on a technical fact sheet.\n",
    "\n",
    "Write a product description based on the information \n",
    "provided in the technical specifications delimited by \n",
    "triple backticks.\n",
    "\n",
    "Technical specifications: ```{fact_sheet_chair}```\n",
    "\"\"\"\n",
    "response = get_completion(prompt)\n",
    "print(response)"
   ]
  },
  {
   "cell_type": "markdown",
   "id": "746f5068",
   "metadata": {},
   "source": [
    "## Issue 1: The text is too long \n",
    "- Limit the number of words/sentences/characters."
   ]
  },
  {
   "cell_type": "code",
   "execution_count": 5,
   "id": "a559cd2f",
   "metadata": {},
   "outputs": [
    {
     "data": {
      "text/plain": [
       "2378"
      ]
     },
     "execution_count": 5,
     "metadata": {},
     "output_type": "execute_result"
    }
   ],
   "source": [
    "len(response)"
   ]
  },
  {
   "cell_type": "code",
   "execution_count": 6,
   "id": "bf6ff57e",
   "metadata": {},
   "outputs": [
    {
     "name": "stdout",
     "output_type": "stream",
     "text": [
      "Experience Italian craftsmanship with our mid-century inspired office chair, featuring a 10mm thick, PA6/PA66 nylon-coated cast aluminum shell and HD36 foam seat. Choose from plastic or fully upholstered options in 10 fabrics and 6 leathers, complemented by stainless steel, matte black, gloss white, or chrome bases. Optional armrests and caster types cater to your comfort and floor needs. Suitable for both home and contract use, with pneumatic height adjustment for optimal ergonomics.\n"
     ]
    }
   ],
   "source": [
    "prompt = f\"\"\"\n",
    "Your task is to help a marketing team create a \n",
    "description for a retail website of a product based \n",
    "on a technical fact sheet.\n",
    "\n",
    "Write a product description based on the information \n",
    "provided in the technical specifications delimited by \n",
    "triple backticks.\n",
    "\n",
    "The description is intended for furniture retailers, \n",
    "so should be technical in nature and focus on the \n",
    "materials the product is constructed from.\n",
    "\n",
    "Use at most 50 words.\n",
    "\n",
    "Technical specifications: ```{fact_sheet_chair}```\n",
    "\"\"\"\n",
    "response = get_completion(prompt)\n",
    "print(response)"
   ]
  },
  {
   "cell_type": "markdown",
   "id": "6c180abc",
   "metadata": {},
   "source": [
    "Try to say \"Use at most 3 sentences\" or \"Use at most 280 characters\""
   ]
  },
  {
   "cell_type": "markdown",
   "id": "f0946326",
   "metadata": {},
   "source": [
    "## Issue 2. Text focuses on the wrong details\n",
    "- Ask it to focus on the aspects that are relevant to the intended audience."
   ]
  },
  {
   "cell_type": "code",
   "execution_count": 7,
   "id": "ac7172f3",
   "metadata": {},
   "outputs": [
    {
     "name": "stdout",
     "output_type": "stream",
     "text": [
      "Experience Italian craftsmanship with our mid-century inspired office chair, featuring a 10mm thick, PA6/PA66 nylon-coated cast aluminum shell and a 5-wheel aluminum base. Choose from plastic or fully upholstered in 10 fabrics and 6 leathers, with stainless steel, matte black, white gloss, or chrome finishes. Options include armrests and soft/hard-floor casters, ensuring comfort with HD36 foam and adjustable seat densities. Suitable for both home and contract use.\n"
     ]
    }
   ],
   "source": [
    "prompt = f\"\"\"\n",
    "Your task is to help a marketing team create a \n",
    "description for a retail website of a product based \n",
    "on a technical fact sheet.\n",
    "\n",
    "Write a product description based on the information \n",
    "provided in the technical specifications delimited by \n",
    "triple backticks.\n",
    "\n",
    "The description is intended for furniture retailers, \n",
    "so should be technical in nature and focus on the \n",
    "materials the product is constructed from.\n",
    "\n",
    "Use at most 50 words.\n",
    "\n",
    "Technical specifications: ```{fact_sheet_chair}```\n",
    "\"\"\"\n",
    "response = get_completion(prompt)\n",
    "print(response)"
   ]
  },
  {
   "cell_type": "code",
   "execution_count": 8,
   "id": "898f6de2",
   "metadata": {},
   "outputs": [
    {
     "name": "stdout",
     "output_type": "stream",
     "text": [
      "Elevate your office space with our mid-century inspired chair, featuring a variety of shell colors and base finishes. Constructed with a durable 5-wheel coated aluminum base and pneumatic adjustment, this chair offers both style and functionality. Choose from plastic or fully upholstered options in premium fabrics or leather, complemented by stainless steel, matte black, gloss white, or chrome bases. Designed for versatility, it's available with or without armrests and caters to different preferences with soft or hard-floor casters and two foam densities. Made in Italy, this chair is a testament to quality and design. Product IDs: SWC-100, SWC-110.\n"
     ]
    }
   ],
   "source": [
    "prompt = f\"\"\"\n",
    "Your task is to help a marketing team create a \n",
    "description for a retail website of a product based \n",
    "on a technical fact sheet.\n",
    "\n",
    "Write a product description based on the information \n",
    "provided in the technical specifications delimited by \n",
    "triple backticks.\n",
    "\n",
    "The description is intended for furniture retailers, \n",
    "so should be technical in nature and focus on the \n",
    "materials the product is constructed from.\n",
    "\n",
    "At the end of the description, include every 7-character \n",
    "Product ID in the technical specification.\n",
    "\n",
    "Use at most 50 words.\n",
    "\n",
    "Technical specifications: ```{fact_sheet_chair}```\n",
    "\"\"\"\n",
    "response = get_completion(prompt)\n",
    "print(response)"
   ]
  },
  {
   "cell_type": "markdown",
   "id": "d94e631a",
   "metadata": {},
   "source": [
    "## Issue 3. Description needs a table of dimensions\n",
    "- Ask it to extract information and organize it in a table."
   ]
  },
  {
   "cell_type": "code",
   "execution_count": 9,
   "id": "befe8f88",
   "metadata": {},
   "outputs": [
    {
     "name": "stdout",
     "output_type": "stream",
     "text": [
      "```html\n",
      "<div>\n",
      "    <p>Introducing our exquisite line of mid-century inspired office furniture, designed to elevate any workspace with its timeless elegance and modern functionality. This collection, which includes a range of filing cabinets, desks, bookcases, meeting tables, and more, is crafted to meet the demands of both home and business environments and is fully qualified for contract use.</p>\n",
      "    <p>Our versatile chairs come in two distinct models: the SWC-100, featuring a sleek plastic back with front upholstery, and the SWC-110, offering full upholstery with a choice of 10 fabric and 6 leather options to complement any office decor. The base of the chair is available in four sophisticated finishes: stainless steel, matte black, gloss white, or chrome, allowing for a personalized touch.</p>\n",
      "    <p>Constructed with a durable 5-wheel plastic coated aluminum base, the chair provides stability and ease of movement. The pneumatic adjust feature ensures effortless height customization for optimal comfort. Whether you prefer the minimalist look of an armless chair or the added support of 8 position PU armrests, our design accommodates your preference. Additionally, the chair is equipped with either soft or hard-floor casters to protect your flooring and provide smooth mobility.</p>\n",
      "    <p>The seat is made with high-quality HD36 foam, available in two densities: medium (1.8 lb/ft3) or high (2.8 lb/ft3), to cater to your comfort needs. The shell base glider is constructed from cast aluminum with a modified nylon PA6/PA66 coating, ensuring durability and a shell thickness of 10 mm for robust support.</p>\n",
      "    <p>Embrace the craftsmanship and style of Italy with this chair, designed to bring both aesthetic appeal and functional sophistication to your office space.</p>\n",
      "    <p>Product IDs: SWC-100, SWC-110</p>\n",
      "</div>\n",
      "\n",
      "<h2>Product Dimensions</h2>\n",
      "<table>\n",
      "    <tr>\n",
      "        <th>Dimension</th>\n",
      "        <th>Measurement (inches)</th>\n",
      "    </tr>\n",
      "    <tr>\n",
      "        <td>Width</td>\n",
      "        <td>20.87</td>\n",
      "    </tr>\n",
      "    <tr>\n",
      "        <td>Depth</td>\n",
      "        <td>20.08</td>\n",
      "    </tr>\n",
      "    <tr>\n",
      "        <td>Height</td>\n",
      "        <td>31.50</td>\n",
      "    </tr>\n",
      "    <tr>\n",
      "        <td>Seat Height</td>\n",
      "        <td>17.32</td>\n",
      "    </tr>\n",
      "    <tr>\n",
      "        <td>Seat Depth</td>\n",
      "        <td>16.14</td>\n",
      "    </tr>\n",
      "</table>\n",
      "```\n"
     ]
    }
   ],
   "source": [
    "prompt = f\"\"\"\n",
    "Your task is to help a marketing team create a \n",
    "description for a retail website of a product based \n",
    "on a technical fact sheet.\n",
    "\n",
    "Write a product description based on the information \n",
    "provided in the technical specifications delimited by \n",
    "triple backticks.\n",
    "\n",
    "The description is intended for furniture retailers, \n",
    "so should be technical in nature and focus on the \n",
    "materials the product is constructed from.\n",
    "\n",
    "At the end of the description, include every 7-character \n",
    "Product ID in the technical specification.\n",
    "\n",
    "After the description, include a table that gives the \n",
    "product's dimensions. The table should have two columns.\n",
    "In the first column include the name of the dimension. \n",
    "In the second column include the measurements in inches only.\n",
    "\n",
    "Give the table the title 'Product Dimensions'.\n",
    "\n",
    "Format everything as HTML that can be used in a website. \n",
    "Place the description in a <div> element.\n",
    "\n",
    "Technical specifications: ```{fact_sheet_chair}```\n",
    "\"\"\"\n",
    "\n",
    "response = get_completion(prompt)\n",
    "print(response)"
   ]
  },
  {
   "cell_type": "markdown",
   "id": "7101367f",
   "metadata": {},
   "source": [
    "## Load Python libraries to view HTML"
   ]
  },
  {
   "cell_type": "code",
   "execution_count": 10,
   "id": "886ca6cc",
   "metadata": {},
   "outputs": [],
   "source": [
    "from IPython.display import display, HTML"
   ]
  },
  {
   "cell_type": "code",
   "execution_count": 11,
   "id": "c9a34838",
   "metadata": {},
   "outputs": [
    {
     "data": {
      "text/html": [
       "```html\n",
       "<div>\n",
       "    <p>Introducing our exquisite line of mid-century inspired office furniture, designed to elevate any workspace with its timeless elegance and modern functionality. This collection, which includes a range of filing cabinets, desks, bookcases, meeting tables, and more, is crafted to meet the demands of both home and business environments and is fully qualified for contract use.</p>\n",
       "    <p>Our versatile chairs come in two distinct models: the SWC-100, featuring a sleek plastic back with front upholstery, and the SWC-110, offering full upholstery with a choice of 10 fabric and 6 leather options to complement any office decor. The base of the chair is available in four sophisticated finishes: stainless steel, matte black, gloss white, or chrome, allowing for a personalized touch.</p>\n",
       "    <p>Constructed with a durable 5-wheel plastic coated aluminum base, the chair provides stability and ease of movement. The pneumatic adjust feature ensures effortless height customization for optimal comfort. Whether you prefer the minimalist look of an armless chair or the added support of 8 position PU armrests, our design accommodates your preference. Additionally, the chair is equipped with either soft or hard-floor casters to protect your flooring and provide smooth mobility.</p>\n",
       "    <p>The seat is made with high-quality HD36 foam, available in two densities: medium (1.8 lb/ft3) or high (2.8 lb/ft3), to cater to your comfort needs. The shell base glider is constructed from cast aluminum with a modified nylon PA6/PA66 coating, ensuring durability and a shell thickness of 10 mm for robust support.</p>\n",
       "    <p>Embrace the craftsmanship and style of Italy with this chair, designed to bring both aesthetic appeal and functional sophistication to your office space.</p>\n",
       "    <p>Product IDs: SWC-100, SWC-110</p>\n",
       "</div>\n",
       "\n",
       "<h2>Product Dimensions</h2>\n",
       "<table>\n",
       "    <tr>\n",
       "        <th>Dimension</th>\n",
       "        <th>Measurement (inches)</th>\n",
       "    </tr>\n",
       "    <tr>\n",
       "        <td>Width</td>\n",
       "        <td>20.87</td>\n",
       "    </tr>\n",
       "    <tr>\n",
       "        <td>Depth</td>\n",
       "        <td>20.08</td>\n",
       "    </tr>\n",
       "    <tr>\n",
       "        <td>Height</td>\n",
       "        <td>31.50</td>\n",
       "    </tr>\n",
       "    <tr>\n",
       "        <td>Seat Height</td>\n",
       "        <td>17.32</td>\n",
       "    </tr>\n",
       "    <tr>\n",
       "        <td>Seat Depth</td>\n",
       "        <td>16.14</td>\n",
       "    </tr>\n",
       "</table>\n",
       "```"
      ],
      "text/plain": [
       "<IPython.core.display.HTML object>"
      ]
     },
     "metadata": {},
     "output_type": "display_data"
    }
   ],
   "source": [
    "display(HTML(response))"
   ]
  },
  {
   "cell_type": "markdown",
   "id": "6d0a5259",
   "metadata": {},
   "source": [
    "## Try experimenting on your own!"
   ]
  },
  {
   "cell_type": "code",
   "execution_count": null,
   "id": "23dd9f1c",
   "metadata": {},
   "outputs": [],
   "source": []
  }
 ],
 "metadata": {
  "kernelspec": {
   "display_name": "Python 3 (ipykernel)",
   "language": "python",
   "name": "python3"
  },
  "language_info": {
   "codemirror_mode": {
    "name": "ipython",
    "version": 3
   },
   "file_extension": ".py",
   "mimetype": "text/x-python",
   "name": "python",
   "nbconvert_exporter": "python",
   "pygments_lexer": "ipython3",
   "version": "3.10.9"
  }
 },
 "nbformat": 4,
 "nbformat_minor": 5
}
