{
 "cells": [
  {
   "cell_type": "markdown",
   "id": "91519745",
   "metadata": {},
   "source": [
    "# Transforming\n",
    "\n",
    "In this notebook, we will explore how to use Large Language Models for text transformation tasks such as language translation, spelling and grammar checking, tone adjustment, and format conversion.\n",
    "\n",
    "## Setup"
   ]
  },
  {
   "cell_type": "code",
   "execution_count": 1,
   "id": "a0addf21",
   "metadata": {},
   "outputs": [],
   "source": [
    "import openai\n",
    "import os\n",
    "\n",
    "from dotenv import load_dotenv, find_dotenv\n",
    "_ = load_dotenv(find_dotenv()) # read local .env file\n",
    "\n",
    "openai.api_key  = os.getenv('OPENAI_API_KEY')\n",
    "MODEL=os.getenv('LLM_MODEL')"
   ]
  },
  {
   "cell_type": "code",
   "execution_count": 2,
   "id": "f04fe7a2",
   "metadata": {},
   "outputs": [],
   "source": [
    "# For OpenAI after 1.0.0 (1.13.3 at the time of writing)\n",
    "client = openai.OpenAI()\n",
    "\n",
    "def get_completion(prompt, model=MODEL):\n",
    "    messages = [{\"role\": \"user\", \"content\": prompt}]\n",
    "    response = client.chat.completions.create(\n",
    "        model=model,\n",
    "        messages=messages,\n",
    "        temperature=0\n",
    "    )\n",
    "    return response.choices[0].message.content"
   ]
  },
  {
   "cell_type": "markdown",
   "id": "41abdc6c",
   "metadata": {},
   "source": [
    "## Translation\n",
    "\n",
    "ChatGPT is trained with sources in many languages. This gives the model the ability to do translation. Here are some examples of how to use this capability."
   ]
  },
  {
   "cell_type": "code",
   "execution_count": 3,
   "id": "c8029977",
   "metadata": {},
   "outputs": [
    {
     "name": "stdout",
     "output_type": "stream",
     "text": [
      "Hola, me gustaría pedir una licuadora.\n"
     ]
    }
   ],
   "source": [
    "prompt = f\"\"\"\n",
    "Translate the following English text to Spanish: \\ \n",
    "```Hi, I would like to order a blender```\n",
    "\"\"\"\n",
    "response = get_completion(prompt)\n",
    "print(response)"
   ]
  },
  {
   "cell_type": "code",
   "execution_count": 4,
   "id": "37a9d315",
   "metadata": {},
   "outputs": [
    {
     "name": "stdout",
     "output_type": "stream",
     "text": [
      "The language is French. The sentence \"Combien coûte le lampadaire?\" translates to \"How much does the floor lamp cost?\" in English.\n"
     ]
    }
   ],
   "source": [
    "prompt = f\"\"\"\n",
    "Tell me which language this is: \n",
    "```Combien coûte le lampadaire?```\n",
    "\"\"\"\n",
    "response = get_completion(prompt)\n",
    "print(response)"
   ]
  },
  {
   "cell_type": "code",
   "execution_count": 5,
   "id": "d090d767",
   "metadata": {},
   "outputs": [
    {
     "name": "stdout",
     "output_type": "stream",
     "text": [
      "Formal:\n",
      "¿Le gustaría pedir una almohada?\n",
      "\n",
      "Informal:\n",
      "¿Te gustaría pedir una almohada?\n"
     ]
    }
   ],
   "source": [
    "prompt = f\"\"\"\n",
    "Translate the following text to Spanish in both the \\\n",
    "formal and informal forms: \n",
    "'Would you like to order a pillow?'\n",
    "\"\"\"\n",
    "response = get_completion(prompt)\n",
    "print(response)"
   ]
  },
  {
   "cell_type": "markdown",
   "id": "3553e46e",
   "metadata": {},
   "source": [
    "## Try it yourself!\n",
    "Try some translations on your own!"
   ]
  },
  {
   "cell_type": "code",
   "execution_count": null,
   "id": "3b53ca20",
   "metadata": {},
   "outputs": [],
   "source": []
  },
  {
   "cell_type": "markdown",
   "id": "4fbe91b1",
   "metadata": {},
   "source": [
    "### Universal Translator\n",
    "Imagine you are in charge of IT at a large multinational e-commerce company. Users are messaging you with IT issues in all their native languages. Your staff is from all over the world and speaks only their native languages. You need a universal translator!"
   ]
  },
  {
   "cell_type": "code",
   "execution_count": 6,
   "id": "8c2e0bd6",
   "metadata": {},
   "outputs": [],
   "source": [
    "user_messages = [\n",
    "  \"La performance du système est plus lente que d'habitude.\",  # System performance is slower than normal         \n",
    "  \"Mi monitor tiene píxeles que no se iluminan.\",              # My monitor has pixels that are not lighting\n",
    "  \"Il mio mouse non funziona\",                                 # My mouse is not working\n",
    "  \"Mój klawisz Ctrl jest zepsuty\",                             # My keyboard has a broken control key\n",
    "  \"我的屏幕在闪烁\"                                               # My screen is flashing\n",
    "] "
   ]
  },
  {
   "cell_type": "code",
   "execution_count": 7,
   "id": "cb4319ec",
   "metadata": {},
   "outputs": [
    {
     "name": "stdout",
     "output_type": "stream",
     "text": [
      "Original message (The language of the sentence \"La performance du système est plus lente que d'habitude.\" is French. It translates to \"The system's performance is slower than usual.\" in English.): La performance du système est plus lente que d'habitude.\n",
      "English: The system performance is slower than usual.\n",
      "\n",
      "Korean: 시스템 성능이 평소보다 느립니다. \n",
      "\n",
      "Original message (The language of the sentence \"Mi monitor tiene píxeles que no se iluminan.\" is Spanish. The sentence translates to \"My monitor has pixels that do not light up.\" in English.): Mi monitor tiene píxeles que no se iluminan.\n",
      "English:\n",
      "\"My monitor has pixels that do not light up.\"\n",
      "\n",
      "Korean:\n",
      "\"내 모니터에는 불이 들어오지 않는 픽셀이 있습니다.\" \n",
      "\n",
      "Original message (The language is Italian. The sentence \"Il mio mouse non funziona\" translates to \"My mouse does not work\" in English.): Il mio mouse non funziona\n",
      "English: My mouse is not working.\n",
      "Korean: 마우스가 작동하지 않아요. \n",
      "\n",
      "Original message (The language of the sentence \"Mój klawisz Ctrl jest zepsuty\" is Polish. Translated to English, it means \"My Ctrl key is broken.\"): Mój klawisz Ctrl jest zepsuty\n",
      "English: My Ctrl key is broken.\n",
      "Korean: 내 Ctrl 키가 고장났어요. \n",
      "\n",
      "Original message (The language is Simplified Chinese. The sentence \"我的屏幕在闪烁\" translates to \"My screen is flickering\" in English.): 我的屏幕在闪烁\n",
      "English: My screen is flickering.\n",
      "\n",
      "Korean: 내 화면이 깜박거려요. \n",
      "\n"
     ]
    }
   ],
   "source": [
    "for issue in user_messages:\n",
    "    prompt = f\"Tell me what language this is: ```{issue}```\"\n",
    "    lang = get_completion(prompt)\n",
    "    print(f\"Original message ({lang}): {issue}\")\n",
    "\n",
    "    prompt = f\"\"\"\n",
    "    Translate the following  text to English \\\n",
    "    and Korean: ```{issue}```\n",
    "    \"\"\"\n",
    "    response = get_completion(prompt)\n",
    "    print(response, \"\\n\")"
   ]
  },
  {
   "cell_type": "markdown",
   "id": "4a348a8c",
   "metadata": {},
   "source": [
    "## Tone Transformation\n",
    "Writing can vary based on the intended audience. ChatGPT can produce different tones."
   ]
  },
  {
   "cell_type": "code",
   "execution_count": 8,
   "id": "b4483ca8",
   "metadata": {},
   "outputs": [
    {
     "name": "stdout",
     "output_type": "stream",
     "text": [
      "Dear [Recipient's Name],\n",
      "\n",
      "I hope this message finds you well. My name is Joe, and I am writing to bring your attention to the specifications of a particular standing lamp that may be of interest to you. I believe it could be a valuable addition to your selection.\n",
      "\n",
      "Please find attached the detailed specifications for your review. I am confident that you will find the features of this lamp to be both innovative and beneficial for your needs.\n",
      "\n",
      "Should you have any questions or require further information, please do not hesitate to contact me. I am looking forward to your feedback and am available at your earliest convenience for a discussion.\n",
      "\n",
      "Thank you for considering this product. I am eager to hear your thoughts on it.\n",
      "\n",
      "Warm regards,\n",
      "\n",
      "Joe [Your Last Name]\n",
      "[Your Position]\n",
      "[Your Contact Information]\n"
     ]
    }
   ],
   "source": [
    "prompt = f\"\"\"\n",
    "Translate the following from slang to a business letter: \n",
    "'Dude, This is Joe, check out this spec on this standing lamp.'\n",
    "\"\"\"\n",
    "response = get_completion(prompt)\n",
    "print(response)"
   ]
  },
  {
   "cell_type": "markdown",
   "id": "984d9e74",
   "metadata": {},
   "source": [
    "## Format Conversion\n",
    "ChatGPT can translate between formats. The prompt should describe the input and output formats."
   ]
  },
  {
   "cell_type": "code",
   "execution_count": 9,
   "id": "191adf28",
   "metadata": {},
   "outputs": [
    {
     "name": "stdout",
     "output_type": "stream",
     "text": [
      "To translate the provided Python dictionary into an HTML table with column headers and a title, you can use the following HTML code:\n",
      "\n",
      "```html\n",
      "<!DOCTYPE html>\n",
      "<html lang=\"en\">\n",
      "<head>\n",
      "<meta charset=\"UTF-8\">\n",
      "<meta name=\"viewport\" content=\"width=device-width, initial-scale=1.0\">\n",
      "<title>Restaurant Employees</title>\n",
      "<style>\n",
      "    table {\n",
      "        width: 100%;\n",
      "        border-collapse: collapse;\n",
      "    }\n",
      "    table, th, td {\n",
      "        border: 1px solid black;\n",
      "    }\n",
      "    th, td {\n",
      "        padding: 8px;\n",
      "        text-align: left;\n",
      "    }\n",
      "    th {\n",
      "        background-color: #f2f2f2;\n",
      "    }\n",
      "</style>\n",
      "</head>\n",
      "<body>\n",
      "\n",
      "<h2>Restaurant Employees</h2>\n",
      "\n",
      "<table>\n",
      "    <tr>\n",
      "        <th>Name</th>\n",
      "        <th>Email</th>\n",
      "    </tr>\n",
      "    <tr>\n",
      "        <td>Shyam</td>\n",
      "        <td>shyamjaiswal@gmail.com</td>\n",
      "    </tr>\n",
      "    <tr>\n",
      "        <td>Bob</td>\n",
      "        <td>bob32@gmail.com</td>\n",
      "    </tr>\n",
      "    <tr>\n",
      "        <td>Jai</td>\n",
      "        <td>jai87@gmail.com</td>\n",
      "    </tr>\n",
      "</table>\n",
      "\n",
      "</body>\n",
      "</html>\n",
      "```\n",
      "\n",
      "This HTML code creates a simple table with a title \"Restaurant Employees\" and two columns with headers \"Name\" and \"Email\". Each row of the table corresponds to an employee with their name and email address filled in from the provided dictionary. The table is styled with some basic CSS to improve readability.\n"
     ]
    }
   ],
   "source": [
    "data_json = { \"resturant employees\" :[ \n",
    "    {\"name\":\"Shyam\", \"email\":\"shyamjaiswal@gmail.com\"},\n",
    "    {\"name\":\"Bob\", \"email\":\"bob32@gmail.com\"},\n",
    "    {\"name\":\"Jai\", \"email\":\"jai87@gmail.com\"}\n",
    "]}\n",
    "\n",
    "prompt = f\"\"\"\n",
    "Translate the following python dictionary from JSON to an HTML \\\n",
    "table with column headers and title: {data_json}\n",
    "\"\"\"\n",
    "response = get_completion(prompt)\n",
    "print(response)"
   ]
  },
  {
   "cell_type": "code",
   "execution_count": 10,
   "id": "03358a58",
   "metadata": {},
   "outputs": [
    {
     "data": {
      "text/html": [
       "To translate the provided Python dictionary into an HTML table with column headers and a title, you can use the following HTML code:\n",
       "\n",
       "```html\n",
       "<!DOCTYPE html>\n",
       "<html lang=\"en\">\n",
       "<head>\n",
       "<meta charset=\"UTF-8\">\n",
       "<meta name=\"viewport\" content=\"width=device-width, initial-scale=1.0\">\n",
       "<title>Restaurant Employees</title>\n",
       "<style>\n",
       "    table {\n",
       "        width: 100%;\n",
       "        border-collapse: collapse;\n",
       "    }\n",
       "    table, th, td {\n",
       "        border: 1px solid black;\n",
       "    }\n",
       "    th, td {\n",
       "        padding: 8px;\n",
       "        text-align: left;\n",
       "    }\n",
       "    th {\n",
       "        background-color: #f2f2f2;\n",
       "    }\n",
       "</style>\n",
       "</head>\n",
       "<body>\n",
       "\n",
       "<h2>Restaurant Employees</h2>\n",
       "\n",
       "<table>\n",
       "    <tr>\n",
       "        <th>Name</th>\n",
       "        <th>Email</th>\n",
       "    </tr>\n",
       "    <tr>\n",
       "        <td>Shyam</td>\n",
       "        <td>shyamjaiswal@gmail.com</td>\n",
       "    </tr>\n",
       "    <tr>\n",
       "        <td>Bob</td>\n",
       "        <td>bob32@gmail.com</td>\n",
       "    </tr>\n",
       "    <tr>\n",
       "        <td>Jai</td>\n",
       "        <td>jai87@gmail.com</td>\n",
       "    </tr>\n",
       "</table>\n",
       "\n",
       "</body>\n",
       "</html>\n",
       "```\n",
       "\n",
       "This HTML code creates a simple table with a title \"Restaurant Employees\" and two columns with headers \"Name\" and \"Email\". Each row of the table corresponds to an employee with their name and email address filled in from the provided dictionary. The table is styled with some basic CSS to improve readability."
      ],
      "text/plain": [
       "<IPython.core.display.HTML object>"
      ]
     },
     "metadata": {},
     "output_type": "display_data"
    }
   ],
   "source": [
    "from IPython.display import display, Markdown, Latex, HTML, JSON\n",
    "display(HTML(response))"
   ]
  },
  {
   "cell_type": "markdown",
   "id": "51aa520d",
   "metadata": {},
   "source": [
    "## Spellcheck/Grammar check.\n",
    "\n",
    "Here are some examples of common grammar and spelling problems and the LLM's response. \n",
    "\n",
    "To signal to the LLM that you want it to proofread your text, you instruct the model to 'proofread' or 'proofread and correct'."
   ]
  },
  {
   "cell_type": "code",
   "execution_count": 11,
   "id": "7a708071",
   "metadata": {},
   "outputs": [
    {
     "name": "stdout",
     "output_type": "stream",
     "text": [
      "The girl with the black and white puppies has a ball.\n",
      "No errors found.\n",
      "It's going to be a long day. Does the car need its oil changed?\n",
      "There goes my freedom. They're going to bring their suitcases.\n",
      "You're going to need your notebook.\n",
      "That medicine affects my ability to sleep. Have you heard of the butterfly effect?\n",
      "This phrase is to check ChatGPT for spelling ability.\n"
     ]
    }
   ],
   "source": [
    "text = [ \n",
    "  \"The girl with the black and white puppies have a ball.\",  # The girl has a ball.\n",
    "  \"Yolanda has her notebook.\", # ok\n",
    "  \"Its going to be a long day. Does the car need it’s oil changed?\",  # Homonyms\n",
    "  \"Their goes my freedom. There going to bring they’re suitcases.\",  # Homonyms\n",
    "  \"Your going to need you’re notebook.\",  # Homonyms\n",
    "  \"That medicine effects my ability to sleep. Have you heard of the butterfly affect?\", # Homonyms\n",
    "  \"This phrase is to cherck chatGPT for speling abilitty\"  # spelling\n",
    "]\n",
    "for t in text:\n",
    "    prompt = f\"\"\"Proofread and correct the following text\n",
    "    and rewrite the corrected version. If you don't find\n",
    "    and errors, just say \"No errors found\". Don't use \n",
    "    any punctuation around the text:\n",
    "    ```{t}```\"\"\"\n",
    "    response = get_completion(prompt)\n",
    "    print(response)"
   ]
  },
  {
   "cell_type": "code",
   "execution_count": 12,
   "id": "decc303c",
   "metadata": {},
   "outputs": [
    {
     "name": "stdout",
     "output_type": "stream",
     "text": [
      "I purchased this for my daughter as a birthday gift because she constantly borrows mine from my room. Indeed, adults can be fond of pandas as well. She carries it with her everywhere, and it's incredibly soft and adorable. However, one of the ears is slightly lower than the other, which I suspect was not an intentional design choice for asymmetry. The size is a bit disappointing considering the price; I believe there may be larger alternatives available for the same cost. On a positive note, it arrived a day earlier than anticipated, allowing me some time to enjoy it myself before presenting it to my daughter.\n"
     ]
    }
   ],
   "source": [
    "text = f\"\"\"\n",
    "Got this for my daughter for her birthday cuz she keeps taking \\\n",
    "mine from my room.  Yes, adults also like pandas too.  She takes \\\n",
    "it everywhere with her, and it's super soft and cute.  One of the \\\n",
    "ears is a bit lower than the other, and I don't think that was \\\n",
    "designed to be asymmetrical. It's a bit small for what I paid for it \\\n",
    "though. I think there might be other options that are bigger for \\\n",
    "the same price.  It arrived a day earlier than expected, so I got \\\n",
    "to play with it myself before I gave it to my daughter.\n",
    "\"\"\"\n",
    "prompt = f\"proofread and correct this review: ```{text}```\"\n",
    "response = get_completion(prompt)\n",
    "print(response)"
   ]
  },
  {
   "cell_type": "code",
   "execution_count": 13,
   "id": "bd1002cb",
   "metadata": {},
   "outputs": [
    {
     "data": {
      "text/markdown": [
       "<span style=\"color:red;font-weight:700;text-decoration:line-through;\">Got </span><span style=\"color:red;font-weight:700;\">I purchased </span>this for my daughter <span style=\"color:red;font-weight:700;text-decoration:line-through;\">for her </span><span style=\"color:red;font-weight:700;\">as a </span>birthday <span style=\"color:red;font-weight:700;text-decoration:line-through;\">cuz </span><span style=\"color:red;font-weight:700;\">gift because </span>she <span style=\"color:red;font-weight:700;text-decoration:line-through;\">keeps taking </span><span style=\"color:red;font-weight:700;\">constantly borrows </span>mine from my <span style=\"color:red;font-weight:700;text-decoration:line-through;\">room.  Yes, </span><span style=\"color:red;font-weight:700;\">room. Indeed, </span>adults <span style=\"color:red;font-weight:700;text-decoration:line-through;\">also like </span><span style=\"color:red;font-weight:700;\">can be fond of </span>pandas <span style=\"color:red;font-weight:700;text-decoration:line-through;\">too.  </span><span style=\"color:red;font-weight:700;\">as well. </span>She <span style=\"color:red;font-weight:700;text-decoration:line-through;\">takes </span><span style=\"color:red;font-weight:700;\">carries </span>it <span style=\"color:red;font-weight:700;text-decoration:line-through;\">everywhere </span>with <span style=\"color:red;font-weight:700;text-decoration:line-through;\">her, </span><span style=\"color:red;font-weight:700;\">her everywhere, </span>and it's <span style=\"color:red;font-weight:700;text-decoration:line-through;\">super </span><span style=\"color:red;font-weight:700;\">incredibly </span>soft and <span style=\"color:red;font-weight:700;text-decoration:line-through;\">cute.  One </span><span style=\"color:red;font-weight:700;\">adorable. However, one </span>of the ears is <span style=\"color:red;font-weight:700;text-decoration:line-through;\">a bit </span><span style=\"color:red;font-weight:700;\">slightly </span>lower than the other, <span style=\"color:red;font-weight:700;text-decoration:line-through;\">and </span><span style=\"color:red;font-weight:700;\">which </span>I <span style=\"color:red;font-weight:700;text-decoration:line-through;\">don't think that </span><span style=\"color:red;font-weight:700;\">suspect </span>was <span style=\"color:red;font-weight:700;text-decoration:line-through;\">designed to be asymmetrical. It's </span><span style=\"color:red;font-weight:700;\">not an intentional design choice for asymmetry. The size is </span>a bit <span style=\"color:red;font-weight:700;text-decoration:line-through;\">small for what </span><span style=\"color:red;font-weight:700;\">disappointing considering the price; </span>I <span style=\"color:red;font-weight:700;text-decoration:line-through;\">paid for it though. I think </span><span style=\"color:red;font-weight:700;\">believe </span>there <span style=\"color:red;font-weight:700;text-decoration:line-through;\">might </span><span style=\"color:red;font-weight:700;\">may </span>be <span style=\"color:red;font-weight:700;text-decoration:line-through;\">other options that are bigger </span><span style=\"color:red;font-weight:700;\">larger alternatives available </span>for the same <span style=\"color:red;font-weight:700;text-decoration:line-through;\">price.  It </span><span style=\"color:red;font-weight:700;\">cost. On a positive note, it </span>arrived a day earlier than <span style=\"color:red;font-weight:700;text-decoration:line-through;\">expected, so I got </span><span style=\"color:red;font-weight:700;\">anticipated, allowing me some time </span>to <span style=\"color:red;font-weight:700;text-decoration:line-through;\">play with </span><span style=\"color:red;font-weight:700;\">enjoy </span>it myself before <span style=\"color:red;font-weight:700;text-decoration:line-through;\">I gave </span><span style=\"color:red;font-weight:700;\">presenting </span>it to my daughter."
      ],
      "text/plain": [
       "<IPython.core.display.Markdown object>"
      ]
     },
     "metadata": {},
     "output_type": "display_data"
    }
   ],
   "source": [
    "from redlines import Redlines\n",
    "\n",
    "diff = Redlines(text,response)\n",
    "display(Markdown(diff.output_markdown))"
   ]
  },
  {
   "cell_type": "markdown",
   "id": "1630e912",
   "metadata": {},
   "source": [
    "## Try it yourself!\n",
    "Try changing the instructions to form your own review."
   ]
  },
  {
   "cell_type": "code",
   "execution_count": null,
   "id": "14563706",
   "metadata": {},
   "outputs": [],
   "source": []
  }
 ],
 "metadata": {
  "kernelspec": {
   "display_name": "Python 3 (ipykernel)",
   "language": "python",
   "name": "python3"
  },
  "language_info": {
   "codemirror_mode": {
    "name": "ipython",
    "version": 3
   },
   "file_extension": ".py",
   "mimetype": "text/x-python",
   "name": "python",
   "nbconvert_exporter": "python",
   "pygments_lexer": "ipython3",
   "version": "3.9.10"
  }
 },
 "nbformat": 4,
 "nbformat_minor": 5
}
