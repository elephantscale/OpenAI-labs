{
 "cells": [
  {
   "cell_type": "markdown",
   "source": [
    "# Lesson 3: Data Packaging"
   ],
   "metadata": {
    "collapsed": false
   },
   "id": "b7eae71604efa2ac"
  },
  {
   "cell_type": "markdown",
   "source": [
    "# 1. Tokenizing and creating input_ids"
   ],
   "metadata": {
    "collapsed": false
   },
   "id": "a75e7f996f5ca8ef"
  },
  {
   "cell_type": "code",
   "outputs": [],
   "source": [
    "import datasets\n",
    "\n",
    "dataset = datasets.load_dataset(\n",
    "    \"parquet\", \n",
    "    data_files=\"./data/preprocessed_dataset.parquet\", \n",
    "    split=\"train\"\n",
    ")\n",
    "print(dataset)\n",
    "\n",
    "dataset = dataset.shard(num_shards=10, index=0)\n",
    "print(dataset)"
   ],
   "metadata": {
    "collapsed": false
   },
   "id": "21ce4fa8169c6fee",
   "execution_count": null
  },
  {
   "cell_type": "code",
   "outputs": [],
   "source": [
    "from transformers import AutoTokenizer\n",
    "model_path_or_name = \"./models/upstage/SOLAR-10.7B-v1.0\"\n",
    "tokenizer = AutoTokenizer.from_pretrained(\n",
    "    model_path_or_name, \n",
    "    use_fast=False\n",
    ")\n",
    "tokenizer.tokenize(\"I'm a short sentence\")"
   ],
   "metadata": {
    "collapsed": false
   },
   "id": "3214f11f8a43d91e",
   "execution_count": null
  },
  {
   "cell_type": "code",
   "outputs": [],
   "source": [
    "def tokenization(example):\n",
    "    # Tokenize\n",
    "    tokens = tokenizer.tokenize(example[\"text\"])\n",
    "\n",
    "    # Convert tokens to ids\n",
    "    token_ids = tokenizer.convert_tokens_to_ids(tokens)\n",
    "\n",
    "    # Add <bos>, <eos> tokens to the front and back of tokens_ids \n",
    "    # bos: begin of sequence, eos: end of sequence\n",
    "    token_ids = [\n",
    "        tokenizer.bos_token_id] \\\n",
    "        + token_ids \\\n",
    "        + [tokenizer.eos_token_id\n",
    "    ]\n",
    "    example[\"input_ids\"] = token_ids\n",
    "\n",
    "    # We will be using this column to count the total number of tokens \n",
    "    # in the final dataset\n",
    "    example[\"num_tokens\"] = len(token_ids)\n",
    "    return example"
   ],
   "metadata": {
    "collapsed": false
   },
   "id": "36cc8b657e9858fe"
  },
  {
   "cell_type": "code",
   "outputs": [],
   "source": [
    "dataset = dataset.map(tokenization, load_from_cache_file=False)\n",
    "print(dataset)"
   ],
   "metadata": {
    "collapsed": false
   },
   "id": "8a5e6b6c66b96c9a"
  },
  {
   "cell_type": "code",
   "outputs": [],
   "source": [
    "sample = dataset[3]\n",
    "\n",
    "print(\"text\", sample[\"text\"][:30]) # \n",
    "print(\"\\ninput_ids\", sample[\"input_ids\"][:30])\n",
    "print(\"\\nnum_tokens\", sample[\"num_tokens\"])"
   ],
   "metadata": {
    "collapsed": false
   },
   "id": "2259c32c6469df79"
  },
  {
   "cell_type": "code",
   "outputs": [],
   "source": [
    "import numpy as np\n",
    "np.sum(dataset[\"num_tokens\"])"
   ],
   "metadata": {
    "collapsed": false
   },
   "id": "44a0f688c5edb1dc"
  },
  {
   "cell_type": "markdown",
   "source": [
    "# 2. Packing the data"
   ],
   "metadata": {
    "collapsed": false
   },
   "id": "bda2d777917e10a"
  },
  {
   "cell_type": "code",
   "outputs": [],
   "source": [
    "input_ids = np.concatenate(dataset[\"input_ids\"])\n",
    "print(len(input_ids))\n",
    "max_seq_length = 32\n",
    "total_length = len(input_ids) - len(input_ids) % max_seq_length\n",
    "print(total_length)"
   ],
   "metadata": {
    "collapsed": false
   },
   "id": "b639550dbbd8b2d6",
   "execution_count": null
  },
  {
   "cell_type": "code",
   "outputs": [],
   "source": [
    "input_ids = input_ids[:total_length]\n",
    "print(input_ids.shape)\n",
    "input_ids_reshaped = input_ids.reshape(-1, max_seq_length).astype(np.int32)\n",
    "input_ids_reshaped.shape  \n",
    "type(input_ids_reshaped)"
   ],
   "metadata": {
    "collapsed": false
   },
   "id": "2a69cb9f71cb9cd9",
   "execution_count": null
  },
  {
   "cell_type": "code",
   "outputs": [],
   "source": [
    "input_ids_list = input_ids_reshaped.tolist()\n",
    "packaged_pretrain_dataset = datasets.Dataset.from_dict(\n",
    "    {\"input_ids\": input_ids_list}\n",
    ")\n",
    "print(packaged_pretrain_dataset)"
   ],
   "metadata": {
    "collapsed": false
   },
   "id": "16f30b35836931b5"
  },
  {
   "cell_type": "markdown",
   "source": [
    "# 3. Save the packed dataset to disk"
   ],
   "metadata": {
    "collapsed": false
   },
   "id": "c35e3529b41dc544"
  },
  {
   "cell_type": "code",
   "outputs": [],
   "source": [
    "packaged_pretrain_dataset.to_parquet(\"./data/packaged_pretrain_dataset.parquet\")"
   ],
   "metadata": {
    "collapsed": false
   },
   "id": "b9e42076a3451bf3"
  }
 ],
 "metadata": {
  "kernelspec": {
   "display_name": "Python 3",
   "language": "python",
   "name": "python3"
  },
  "language_info": {
   "codemirror_mode": {
    "name": "ipython",
    "version": 2
   },
   "file_extension": ".py",
   "mimetype": "text/x-python",
   "name": "python",
   "nbconvert_exporter": "python",
   "pygments_lexer": "ipython2",
   "version": "2.7.6"
  }
 },
 "nbformat": 4,
 "nbformat_minor": 5
}
