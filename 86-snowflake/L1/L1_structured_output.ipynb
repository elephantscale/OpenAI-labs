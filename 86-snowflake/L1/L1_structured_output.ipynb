{
 "cells": [
  {
   "cell_type": "markdown",
   "id": "6cad2ce0",
   "metadata": {},
   "source": [
    "# Processing Invoices Using Gemini"
   ]
  },
  {
   "cell_type": "code",
   "execution_count": null,
   "id": "1a8bec3b",
   "metadata": {},
   "outputs": [],
   "source": [
    "import json\n",
    "import os\n",
    "import sqlite3\n",
    "from dotenv import load_dotenv\n",
    "from google import genai\n",
    "from PyPDF2 import PdfReader\n",
    "from pydantic import BaseModel\n",
    "\n",
    "load_dotenv(override=True)"
   ]
  },
  {
   "cell_type": "code",
   "execution_count": null,
   "id": "f28dcfdc",
   "metadata": {},
   "outputs": [],
   "source": [
    "MODEL_NAME = \"gemini-2.5-flash\"\n",
    "LOCAL_INVOICE_FOLDER = \"invoices\"\n",
    "\n",
    "GEMINI_API_KEY = os.getenv(\"GEMINI_API_KEY\")"
   ]
  },
  {
   "cell_type": "markdown",
   "id": "3d39dc77-3484-4b4a-96db-55381971e44e",
   "metadata": {},
   "source": [
    "## Processing invoices\n",
    "\n",
    "With the invoices locally stored, you can loop and process them one by one to extract their information.\n",
    "\n",
    "Let's start by defining a Pydantic model that will help you process JSON results from Gemini."
   ]
  },
  {
   "cell_type": "code",
   "execution_count": null,
   "id": "cdcfdbd4",
   "metadata": {},
   "outputs": [],
   "source": [
    "class Invoice(BaseModel):\n",
    "    client_name: str\n",
    "    invoice_amount: float\n",
    "    product_name: str"
   ]
  },
  {
   "cell_type": "markdown",
   "id": "ba664f71",
   "metadata": {},
   "source": [
    "Now, let's create a function that you'll use to extract the fields from a given invoice."
   ]
  },
  {
   "cell_type": "code",
   "execution_count": null,
   "id": "9c1dbbf6",
   "metadata": {},
   "outputs": [],
   "source": [
    "def extract_invoice_fields(file: str, invoice: str):\n",
    "    \"\"\"\n",
    "    Extract data from the supplied invoice text.\n",
    "    \"\"\"\n",
    "    print(f\"Extracting data from invoice {file}...\")\n",
    "    client = genai.Client(api_key=GEMINI_API_KEY)\n",
    "\n",
    "    prompt = (\n",
    "        \"Extract the following information from this invoice text: \"\n",
    "        \"1. Client name \"\n",
    "        \"2. Invoice amount \"\n",
    "        \"3. Product name \"\n",
    "        \"Return the result as a JSON object.\"\n",
    "        \"Use the the following keys: \"\n",
    "        \"1. client_name (string) \"\n",
    "        \"2. invoice_amount (float) \"\n",
    "        \"3. product_name (string) \"\n",
    "        \"If the information is not found, return 'null' for the corresponding key.\\n\"\n",
    "        f\"Invoice text:\\n{invoice}\"\n",
    "    )\n",
    "\n",
    "    try:\n",
    "        response = client.models.generate_content( model=MODEL_NAME, \n",
    "                                                   contents=prompt,\n",
    "                                                   config={\n",
    "                                                     \"response_mime_type\": \"application/json\",\n",
    "                                                     \"response_schema\": Invoice,\n",
    "                                                   },\n",
    "                                                 )\n",
    "        result = json.loads(response.candidates[0].content.parts[0].text)\n",
    "        result[\"file\"] = file\n",
    "        print(json.dumps(result, indent=4))\n",
    "        return result\n",
    "    except Exception as e:\n",
    "        print(f\"Failed to extract data using Gemini. Exception:{e}\")"
   ]
  },
  {
   "cell_type": "markdown",
   "id": "79839738",
   "metadata": {},
   "source": [
    "Let's set up the database where you'll store the information of every invoice."
   ]
  },
  {
   "cell_type": "code",
   "execution_count": null,
   "id": "0eba2358",
   "metadata": {},
   "outputs": [],
   "source": [
    "connection = sqlite3.connect(\"invoices.db\")\n",
    "cursor = connection.cursor()\n",
    "cursor.execute(\"\"\"\n",
    "    CREATE TABLE IF NOT EXISTS invoices (\n",
    "        file TEXT PRIMARY KEY UNIQUE,\n",
    "        client TEXT,\n",
    "        amount REAL,\n",
    "        product TEXT\n",
    "    )\n",
    "\"\"\")\n",
    "connection.commit()"
   ]
  },
  {
   "cell_type": "markdown",
   "id": "4321a463",
   "metadata": {},
   "source": [
    "Let's now process all invoices in the local folder and extract the appropriate fields. After you process an invoice, you'll update the database with all of its data."
   ]
  },
  {
   "cell_type": "code",
   "execution_count": null,
   "id": "a28c0e80",
   "metadata": {},
   "outputs": [],
   "source": [
    "cursor = connection.cursor()\n",
    "\n",
    "for file in os.listdir(LOCAL_INVOICE_FOLDER):\n",
    "    if file.endswith(\".pdf\"):\n",
    "        print(f\"\\nProcessing {file}...\")\n",
    "        try:\n",
    "            reader = PdfReader(os.path.join(LOCAL_INVOICE_FOLDER, file))\n",
    "            text = \"\"\n",
    "            for page in reader.pages:\n",
    "                text += page.extract_text() or \"\"\n",
    "\n",
    "            data = extract_invoice_fields(file, text)\n",
    "\n",
    "            print(f\"Updating database with invoice {data['file']}...\")\n",
    "            cursor.execute(\n",
    "                \"\"\"\n",
    "                INSERT INTO invoices (file, client, amount, product)\n",
    "                VALUES (?, ?, ?, ?)\n",
    "                ON CONFLICT(file) DO UPDATE SET\n",
    "                    client=excluded.client,\n",
    "                    amount=excluded.amount,\n",
    "                    product=excluded.product\n",
    "                \"\"\",\n",
    "                (\n",
    "                    data[\"file\"],\n",
    "                    data[\"client_name\"],\n",
    "                    data[\"invoice_amount\"],\n",
    "                    data[\"product_name\"],\n",
    "                ),\n",
    "            )\n",
    "        except Exception as e:\n",
    "            print(f\"Failed to extract text from {file}. Exception: {e}\")\n",
    "\n",
    "connection.commit()"
   ]
  },
  {
   "cell_type": "markdown",
   "id": "f58ced49",
   "metadata": {},
   "source": [
    "## Generating final reports\n",
    "\n",
    "Finally, you want to generate a couple of reports with the data that you stored in the database."
   ]
  },
  {
   "cell_type": "code",
   "execution_count": null,
   "id": "4ba6f998",
   "metadata": {},
   "outputs": [],
   "source": [
    "print(\"\\nInvoice Report\")\n",
    "\n",
    "cursor = connection.cursor()\n",
    "cursor.execute(\"SELECT COUNT(*), SUM(amount) FROM invoices\")\n",
    "total_invoices, total_amount = cursor.fetchone()\n",
    "\n",
    "print(f\"* Total invoices: {total_invoices}\")\n",
    "print(f\"* Total amount: {total_amount}\")\n",
    "\n",
    "print(\"\\nBreakdown by client:\")\n",
    "cursor.execute(\"SELECT client, COUNT(*), SUM(amount) FROM invoices GROUP BY client\")\n",
    "for row in cursor.fetchall():\n",
    "    client, count, amount = row\n",
    "    print(f\"* {client}: {count} invoices (${amount})\")\n",
    "\n",
    "connection.close()"
   ]
  },
  {
   "cell_type": "code",
   "execution_count": null,
   "id": "f6974a4d",
   "metadata": {},
   "outputs": [],
   "source": []
  }
 ],
 "metadata": {
  "kernelspec": {
   "display_name": "Python 3 (ipykernel)",
   "language": "python",
   "name": "python3"
  },
  "language_info": {
   "codemirror_mode": {
    "name": "ipython",
    "version": 3
   },
   "file_extension": ".py",
   "mimetype": "text/x-python",
   "name": "python",
   "nbconvert_exporter": "python",
   "pygments_lexer": "ipython3",
   "version": "3.11.6"
  }
 },
 "nbformat": 4,
 "nbformat_minor": 5
}
