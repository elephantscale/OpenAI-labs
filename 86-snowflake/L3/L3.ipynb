{
 "cells": [
  {
   "cell_type": "markdown",
   "id": "d0a4609c",
   "metadata": {},
   "source": [
    "# Processing Invoices Using Box MCP Server"
   ]
  },
  {
   "cell_type": "markdown",
   "id": "7b17cb93-7712-4cc0-8f7b-08f47fa7690f",
   "metadata": {},
   "source": [
    "In this lesson, you'll process the same invoices using Box MCP Server. A Box account was created for this course. It has one folder that includes the same invoices you processed in the first lesson. You are provided with the required credentials to enable the Box MCP server to use Box API to check the content of the Box account."
   ]
  },
  {
   "cell_type": "markdown",
   "id": "b975b5b6-e142-4d43-a634-5740ddf7a032",
   "metadata": {},
   "source": [
    "<div style=\"background-color:#fff6ff; padding:13px; border-width:3px; border-color:#efe6ef; border-style:solid; border-radius:6px\">\n",
    "<p>💻 &nbsp; <b>To access the <code>requirements.txt</code>, <code>env.example</code> and the MCP server files:</b> 1) click the <em>\"File\"</em> option in the top menu of the notebook 2) click <em>\"Open\"</em>.\n",
    "\n",
    "<p>⬇ &nbsp; <b>Download Notebooks:</b> 1) click the <em>\"File\"</em> option in the top menu of the notebook and then 2) click <em>\"Download as\"</em> and select <em>\"Notebook (.ipynb)\"</em>.</p>\n",
    "</div>"
   ]
  },
  {
   "cell_type": "code",
   "execution_count": null,
   "id": "031744cc-276e-4341-baef-bcef53f1e6af",
   "metadata": {
    "height": 47
   },
   "outputs": [],
   "source": [
    "import warnings\n",
    "warnings.filterwarnings('ignore')"
   ]
  },
  {
   "cell_type": "code",
   "execution_count": null,
   "id": "0c565356",
   "metadata": {
    "height": 183
   },
   "outputs": [],
   "source": [
    "import os\n",
    "import json\n",
    "import sqlite3\n",
    "from dotenv import load_dotenv\n",
    "from google import genai\n",
    "from google.genai import types\n",
    "from mcp import ClientSession, StdioServerParameters\n",
    "from mcp.client.stdio import stdio_client\n",
    "\n",
    "_ = load_dotenv(override=True)"
   ]
  },
  {
   "cell_type": "markdown",
   "id": "e968ec88-d941-412f-9022-02d60cc7c660",
   "metadata": {},
   "source": [
    "**Note:** You can check the `env.example` in the lesson's folder to check the environment variables that represent the credentials needed to connect to the provided Box account."
   ]
  },
  {
   "cell_type": "markdown",
   "id": "9064c418",
   "metadata": {},
   "source": [
    "Let's now configure a few settings that you'll use throughout the notebook.\n",
    "\n",
    "Just like before, you'll use Gemini 2.5 Flash. Since you're going to run the MCP server locally, the files of the MCP server are provided to you in this lesson's folder (cloned from this [repo](https://github.com/box-community/mcp-server-box)). You will use two tools from the MCP server:\n",
    "- One to list the contents of a folder\n",
    "- And one to extract data from files using AI\n",
    "  \n",
    "You can find [here](https://github.com/box-community/mcp-server-box) the complete list of the server's tools."
   ]
  },
  {
   "cell_type": "code",
   "execution_count": null,
   "id": "5a199e2a",
   "metadata": {
    "height": 166
   },
   "outputs": [],
   "source": [
    "MODEL_NAME = \"gemini-2.5-flash\"\n",
    "BOX_MCP_SERVER_PATH = \"./mcp-server-box\"\n",
    "BOX_MCP_TOOLS = [\n",
    "    \"box_list_folder_content_by_folder_id\",\n",
    "    \"box_ai_extract_freeform_tool\",\n",
    "]\n",
    "\n",
    "GEMINI_API_KEY = os.getenv(\"GEMINI_API_KEY\")\n",
    "BOX_FOLDER_ID = os.getenv(\"BOX_FOLDER_ID\")"
   ]
  },
  {
   "cell_type": "markdown",
   "id": "4c613b3e-1be3-4783-a9dd-b8d7b3d3cda6",
   "metadata": {},
   "source": [
    "## Configuring Box MCP Server"
   ]
  },
  {
   "cell_type": "markdown",
   "id": "4034ffd8",
   "metadata": {},
   "source": [
    "First, let's configure Gemini and prepare the connection to Box's MCP Server."
   ]
  },
  {
   "cell_type": "code",
   "execution_count": null,
   "id": "4e1c4e9b",
   "metadata": {
    "height": 200
   },
   "outputs": [],
   "source": [
    "llm_client = genai.Client(api_key=GEMINI_API_KEY)\n",
    "\n",
    "server_params = StdioServerParameters(\n",
    "    command=\"uv\",\n",
    "    args=[\n",
    "        \"--directory\",\n",
    "        BOX_MCP_SERVER_PATH,\n",
    "        \"run\",\n",
    "        \"src/mcp_server_box.py\",\n",
    "    ],\n",
    ")"
   ]
  },
  {
   "cell_type": "markdown",
   "id": "939c0588",
   "metadata": {},
   "source": [
    "Now, let's create a function to set up the list of MCP tools that will be used to interact with Box.\n",
    "\n",
    "<img src=\"images/tools.png\" width=450>"
   ]
  },
  {
   "cell_type": "code",
   "execution_count": null,
   "id": "17e3390a",
   "metadata": {
    "height": 336
   },
   "outputs": [],
   "source": [
    "async def get_mcp_tools(session: ClientSession):\n",
    "    \"\"\"\n",
    "    Set up the list of MCP tools that will be used to interact with Box.\n",
    "    \"\"\"\n",
    "    mcp_tools = await session.list_tools()\n",
    "\n",
    "    return [\n",
    "        types.Tool(\n",
    "            function_declarations=[\n",
    "                {\n",
    "                    \"name\": tool.name,\n",
    "                    \"description\": tool.description,\n",
    "                    \"parameters\": {p: v for p, v in tool.inputSchema.items()},\n",
    "                }\n",
    "            ]\n",
    "        )\n",
    "        for tool in mcp_tools.tools\n",
    "        if tool.name in BOX_MCP_TOOLS\n",
    "    ]"
   ]
  },
  {
   "cell_type": "markdown",
   "id": "e47f9d7d-96e2-45b4-9bb6-eebb00de46ad",
   "metadata": {},
   "source": [
    "## Processing invoices"
   ]
  },
  {
   "cell_type": "markdown",
   "id": "e8a801ad",
   "metadata": {},
   "source": [
    "Let's start by defining the same helper function that will help process JSON results from Gemini."
   ]
  },
  {
   "cell_type": "code",
   "execution_count": null,
   "id": "9b283b85",
   "metadata": {
    "height": 353
   },
   "outputs": [],
   "source": [
    "def parse_json(content):\n",
    "    # Try parsing as pure JSON first\n",
    "    try:\n",
    "        return json.loads(content)\n",
    "    except json.JSONDecodeError:\n",
    "        pass\n",
    "\n",
    "    # If that fails, try to extract JSON from the text\n",
    "    # Look for JSON-like content between curly braces\n",
    "    import re\n",
    "\n",
    "    json_match = re.search(r\"\\{.*\\}\", content, re.DOTALL)\n",
    "    if json_match:\n",
    "        try:\n",
    "            return json.loads(json_match.group())\n",
    "        except json.JSONDecodeError:\n",
    "            pass\n",
    "\n",
    "    # If all else fails, return the original text\n",
    "    return content"
   ]
  },
  {
   "cell_type": "markdown",
   "id": "7d7e3808",
   "metadata": {},
   "source": [
    "Since you are going to be using Box's MCP Server, let's create a function that generates a response to a user's query or prompt. This function takes care of passing the prompt (user's query) and tool definitions to Gemini, and handling any tool invocation using the MCP server.\n",
    "\n",
    "<img src=\"images/tool_invocation.png\" width=450>"
   ]
  },
  {
   "cell_type": "code",
   "execution_count": null,
   "id": "8d84d548",
   "metadata": {
    "height": 657
   },
   "outputs": [],
   "source": [
    "async def generate(\n",
    "    prompt: str, llm_client: genai.Client, session: ClientSession = None, tools: list = None\n",
    "):\n",
    "    \"\"\"\n",
    "    Generate content using the Gemini model using MCP tools if provided.\n",
    "    \"\"\"\n",
    "\n",
    "    def parse_content(content):\n",
    "        try:\n",
    "            return parse_json(content.text)\n",
    "        except json.JSONDecodeError:\n",
    "            return content.text\n",
    "\n",
    "    config = (\n",
    "        types.GenerateContentConfig(temperature=0, tools=tools)\n",
    "        if session is not None and tools is not None\n",
    "        else None\n",
    "    )\n",
    "\n",
    "    response = llm_client.models.generate_content(\n",
    "        model=MODEL_NAME,\n",
    "        contents=prompt,\n",
    "        config=config,\n",
    "    )\n",
    "\n",
    "    if response.candidates[0].content.parts[0].function_call:\n",
    "        print(\n",
    "            f'[Calling MCP Tool: \"{response.candidates[0].content.parts[0].function_call.name}\"]'\n",
    "        )\n",
    "        function_call = response.candidates[0].content.parts[0].function_call\n",
    "        response = await session.call_tool(\n",
    "            function_call.name, arguments=dict(function_call.args)\n",
    "        )\n",
    "\n",
    "        return [parse_content(content) for content in response.content]\n",
    "\n",
    "    return response.candidates[0].content.parts[0].text"
   ]
  },
  {
   "cell_type": "markdown",
   "id": "8f3ef265",
   "metadata": {},
   "source": [
    "Let's define a function that extracts the data from a given invoice. This function uses Box's MCP Server to do that."
   ]
  },
  {
   "cell_type": "code",
   "execution_count": null,
   "id": "d53436d1",
   "metadata": {
    "height": 319
   },
   "outputs": [],
   "source": [
    "async def extract_invoice_fields(\n",
    "    invoice: dict, llm_client: genai.Client, session: ClientSession, tools: list\n",
    "):\n",
    "    \"\"\"\n",
    "    Extract data from the given invoice.\n",
    "    \"\"\"\n",
    "    print(f'Extracting data from invoice \"{invoice[\"name\"]}\"...')\n",
    "    prompt = (\n",
    "        \"Extract the following fields from the invoice \"\n",
    "        f\"with file_id {invoice['id']}: \"\n",
    "        \"client_name, invoice_amount, product_name. \"\n",
    "        \"Return the invoice_amount as a float. \"\n",
    "    )\n",
    "    response = await generate(prompt, llm_client, session, tools)\n",
    "    result = json.loads(response[0][\"answer\"])\n",
    "    result[\"file\"] = invoice[\"name\"]\n",
    "    return result\n"
   ]
  },
  {
   "cell_type": "markdown",
   "id": "d69ba2a1",
   "metadata": {},
   "source": [
    "Let's set up the database where you'll store the information of every invoice."
   ]
  },
  {
   "cell_type": "code",
   "execution_count": null,
   "id": "7242f2fc",
   "metadata": {
    "height": 200
   },
   "outputs": [],
   "source": [
    "connection = sqlite3.connect(\"invoices.db\")\n",
    "cursor = connection.cursor()\n",
    "cursor.execute(\"\"\"\n",
    "    CREATE TABLE IF NOT EXISTS invoices (\n",
    "        file TEXT PRIMARY KEY UNIQUE,\n",
    "        client TEXT,\n",
    "        amount REAL,\n",
    "        product TEXT\n",
    "    )\n",
    "\"\"\")\n",
    "connection.commit()"
   ]
  },
  {
   "cell_type": "markdown",
   "id": "ad332c15",
   "metadata": {},
   "source": [
    "Let's create a Gemini session with access to Box's MCP Server, list the invoices stored in Box and extract the data from each of them:\n",
    "\n",
    "- In the first line, the MCP client is created and passed to it the standard Input/Output configuration of the Box MCP server. This will spawn the MCP server in the background. \n",
    "- In the second line, the MCP client session is created with the read and write streams of the MCP server\n",
    "- In the third line, the MCP client is initialized. This will establish the connection between the MCP client and the MCP server.\n",
    "- Next to discover the tools available through the MCP server, the `get_mcp_tools` function is called.\n",
    "- Using the `generate` function, Gemini is asked to list the contents of the folder specified by the Box folder ID variable. Gemini will process the prompt and realize there's a tool that can handle it. The MCP client will then ask the MCP server to invoke it, which will return the response.\n",
    "- Then, for each invoice, the `extract_invoice_fields` function is called; Gemini will decide to use the extract tool to pull out the data."
   ]
  },
  {
   "cell_type": "markdown",
   "id": "9075bb21",
   "metadata": {},
   "source": [
    "**Note:** The following cell might take a few minutes to process each of the 5 invoices."
   ]
  },
  {
   "cell_type": "code",
   "execution_count": null,
   "id": "ab2b6375",
   "metadata": {
    "height": 691
   },
   "outputs": [],
   "source": [
    "async with stdio_client(server_params) as (read, write):\n",
    "    async with ClientSession(read, write) as session:\n",
    "        await session.initialize()\n",
    "        tools = await get_mcp_tools(session)\n",
    "\n",
    "        # Get the list of invoices from the Box folder.\n",
    "        invoices = await generate(\n",
    "            f\"List the content of the folder with id {BOX_FOLDER_ID}\",\n",
    "            llm_client,\n",
    "            session,\n",
    "            tools,\n",
    "        )\n",
    "        print(f\"Found {len(invoices)} invoices\")\n",
    "\n",
    "        cursor = connection.cursor()\n",
    "\n",
    "        # Process each invoice and extract the required fields.\n",
    "        for invoice in invoices:\n",
    "            invoice_data = await extract_invoice_fields(invoice, llm_client, session, tools)\n",
    "            print(f\"Extracted data: {invoice_data}\")\n",
    "\n",
    "            cursor.execute(\n",
    "                \"\"\"\n",
    "                INSERT INTO invoices (file, client, amount, product)\n",
    "                VALUES (?, ?, ?, ?)\n",
    "                ON CONFLICT(file) DO UPDATE SET\n",
    "                    client=excluded.client,\n",
    "                    amount=excluded.amount,\n",
    "                    product=excluded.product\n",
    "                \"\"\",\n",
    "                (\n",
    "                    invoice_data[\"file\"],\n",
    "                    invoice_data[\"client_name\"],\n",
    "                    invoice_data[\"invoice_amount\"],\n",
    "                    invoice_data[\"product_name\"],\n",
    "                ),\n",
    "            )\n",
    "        \n",
    "        connection.commit()"
   ]
  },
  {
   "cell_type": "markdown",
   "id": "5de857df-c7ba-46b1-bde0-4da759f12dd9",
   "metadata": {},
   "source": [
    "## Generating final reports"
   ]
  },
  {
   "cell_type": "markdown",
   "id": "b8c91621",
   "metadata": {},
   "source": [
    "Finally, you'll generate the same two reports using the data you stored in the database."
   ]
  },
  {
   "cell_type": "code",
   "execution_count": null,
   "id": "51d1cce4",
   "metadata": {
    "height": 285
   },
   "outputs": [],
   "source": [
    "print(\"\\nInvoice Report\")\n",
    "\n",
    "cursor = connection.cursor()\n",
    "cursor.execute(\"SELECT COUNT(*), SUM(amount) FROM invoices\")\n",
    "total_invoices, total_amount = cursor.fetchone()\n",
    "\n",
    "print(f\"* Total invoices: {total_invoices}\")\n",
    "print(f\"* Total amount: {total_amount}\")\n",
    "\n",
    "print(\"\\nBreakdown by client:\")\n",
    "cursor.execute(\"SELECT client, COUNT(*), SUM(amount) FROM invoices GROUP BY client\")\n",
    "for row in cursor.fetchall():\n",
    "    client, count, amount = row\n",
    "    print(f\"* {client}: {count} invoices (${amount})\")\n",
    "\n",
    "connection.close()"
   ]
  },
  {
   "cell_type": "markdown",
   "id": "97c4be9c",
   "metadata": {},
   "source": [
    "## Resources\n",
    "\n",
    "- For a more detailed explanation on MCP, you can check [this course](https://www.deeplearning.ai/short-courses/mcp-build-rich-context-ai-apps-with-anthropic/).\n",
    "- [MCP Documentation](https://modelcontextprotocol.io/docs/getting-started/intro)."
   ]
  }
 ],
 "metadata": {
  "kernelspec": {
   "display_name": "Python 3 (ipykernel)",
   "language": "python",
   "name": "python3"
  },
  "language_info": {
   "codemirror_mode": {
    "name": "ipython",
    "version": 3
   },
   "file_extension": ".py",
   "mimetype": "text/x-python",
   "name": "python",
   "nbconvert_exporter": "python",
   "pygments_lexer": "ipython3",
   "version": "3.11.3"
  }
 },
 "nbformat": 4,
 "nbformat_minor": 5
}
