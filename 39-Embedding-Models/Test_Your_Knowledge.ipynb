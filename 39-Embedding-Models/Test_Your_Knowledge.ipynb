{
 "cells": [
  {
   "cell_type": "markdown",
   "id": "9bfcf953",
   "metadata": {},
   "source": [
    "# Test Your Knowledge"
   ]
  },
  {
   "cell_type": "markdown",
   "id": "2b874e72-56f8-4b8d-bfe2-abfb6e86d5bf",
   "metadata": {},
   "source": [
    "<img width=\"450px\" src=\"images/embeddings-test.jpg\" style=\"border-width:3px; border-color:#f5ecda; border-style:solid; border-radius:6px\">\n",
    "\n",
    "Welcome to the Quiz! You've just completed a fascinating journey through the intricacies of word and sentence embeddings, the dual encoder architecture, and the practical applications of these concepts in RAG. Now, it's time to put your knowledge to the test and reinforce what you've learned.\n",
    "\n",
    "This quiz will test you on the following topics covered in the course.\n",
    "\n",
    "- Introduction to Sentence Embeddings\n",
    "- BERT and Contextualized Embeddings\n",
    "- Evaluation of Embedding Techniques\n",
    "- Dual Encoder Architecture\n",
    "- Contrastive Loss and Training Dual Encoders\n",
    "- Application of Dual Encoders in RAG Systems\n",
    "\n",
    "Remember, this quiz is just another learning tool. Don't worry if you don't get everything right on the first try. You may retake the quiz multiple times. Each question is an opportunity to deepen your understanding.\n",
    "\n",
    "<b><a href=\"https://docs.google.com/forms/d/e/1FAIpQLScNpX6XL2IMTVrEpZAUSH95AKMI6cg71EjxI74atdBSBKlVUQ/viewform\">👉👉 🔗 Quiz: Test Your Knowledge – Click Here [+]</a></b>\n",
    "\n",
    "\n",
    "<hr style=\"height: 3px; background-color:#f0f0f0; border: none;\">\n",
    "\n"
   ]
  },
  {
   "cell_type": "code",
   "execution_count": null,
   "id": "fdd3f661-a0b7-4eff-abad-074e628b799e",
   "metadata": {
    "height": 30
   },
   "outputs": [],
   "source": []
  }
 ],
 "metadata": {
  "kernelspec": {
   "display_name": "Python 3 (ipykernel)",
   "language": "python",
   "name": "python3"
  },
  "language_info": {
   "codemirror_mode": {
    "name": "ipython",
    "version": 3
   },
   "file_extension": ".py",
   "mimetype": "text/x-python",
   "name": "python",
   "nbconvert_exporter": "python",
   "pygments_lexer": "ipython3",
   "version": "3.11.9"
  }
 },
 "nbformat": 4,
 "nbformat_minor": 5
}
