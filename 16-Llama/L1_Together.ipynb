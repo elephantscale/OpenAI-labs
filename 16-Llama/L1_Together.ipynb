{
 "cells": [
  {
   "cell_type": "code",
   "execution_count": 1,
   "id": "3c11472a-a8d7-4aae-8ee8-3358bc38e9d1",
   "metadata": {},
   "outputs": [],
   "source": [
    "from openai import OpenAI\n",
    "import os"
   ]
  },
  {
   "cell_type": "code",
   "execution_count": 2,
   "id": "88e4b6a8-438a-4d2b-b509-10d2ca6d1cd6",
   "metadata": {},
   "outputs": [],
   "source": [
    "from dotenv import load_dotenv, find_dotenv\n",
    "_ = load_dotenv(find_dotenv()) # read local .env file"
   ]
  },
  {
   "cell_type": "code",
   "execution_count": 3,
   "id": "3fad75d2-69c5-4ced-9299-af0191a7cbe7",
   "metadata": {},
   "outputs": [],
   "source": [
    "TOGETHER_API_KEY = os.environ.get(\"TOGETHER_API_KEY\")"
   ]
  },
  {
   "cell_type": "code",
   "execution_count": 4,
   "id": "663e87c7-c65b-4ae2-a3ee-222ea5dc7ddd",
   "metadata": {},
   "outputs": [],
   "source": [
    "client = OpenAI(api_key=TOGETHER_API_KEY,\n",
    "  base_url='https://api.together.xyz',\n",
    ")"
   ]
  },
  {
   "cell_type": "code",
   "execution_count": 5,
   "id": "65681ee5-35f4-4ef7-8281-1207af7a060e",
   "metadata": {},
   "outputs": [
    {
     "name": "stdout",
     "output_type": "stream",
     "text": [
      " San Francisco is a vibrant and culturally rich city located in northern California, USA. It is the fourth most populous city in California, with a population of over 800,000 people. San Francisco is known for its cool, foggy weather, steep rolling hills, and stunning views of the San Francisco Bay and the Pacific Ocean.\n",
      "\n",
      "The city is a major cultural and financial center of the United States and is home to numerous prominent companies, including Twitter, Uber, and Airbnb. San Francisco is also known for its diverse and thriving arts scene, with numerous museums, galleries, and theaters.\n",
      "\n",
      "Some of the city's most famous landmarks include the Golden Gate Bridge, Alcatraz Island, Fisherman's Wharf, and Chinatown. The Golden Gate Bridge is an iconic suspension bridge that spans the Golden Gate strait, connecting San Francisco to Marin County. Alcatraz Island is a former federal prison that is now a popular tourist attraction, offering tours of the prison facilities and exhibits on the island's history.\n",
      "\n",
      "Fisherman's Wharf is a popular tourist destination that offers a variety of shops, restaurants, and attractions, including sea lions, street performers, and boat tours of the San Francisco Bay. Chinatown is one of the oldest and largest Chinatowns in the United States, with numerous shops, restaurants, and cultural attractions.\n",
      "\n",
      "San Francisco is also known for its progressive and inclusive culture, with a long history of social activism and a vibrant LGBTQ+ community. The city is home to numerous universities and colleges, including the University of California, San Francisco, and San Francisco State University.\n",
      "\n",
      "Overall, San Francisco is a fascinating and dynamic city that offers a unique blend of natural beauty, cultural richness, and technological innovation.\n"
     ]
    }
   ],
   "source": [
    "chat_completion = client.chat.completions.create(\n",
    "  messages=[\n",
    "    {\n",
    "      \"role\": \"system\",\n",
    "      \"content\": \"You are an AI assistant\",\n",
    "    },\n",
    "    {\n",
    "      \"role\": \"user\",\n",
    "      \"content\": \"Tell me about San Francisco\",\n",
    "    }\n",
    "  ],\n",
    "  model=\"mistralai/Mixtral-8x7B-Instruct-v0.1\",\n",
    "  max_tokens=1024\n",
    ")\n",
    "\n",
    "print(chat_completion.choices[0].message.content)"
   ]
  },
  {
   "cell_type": "code",
   "execution_count": null,
   "id": "a7bfc178-5161-4def-9e26-7a4d1b33f3db",
   "metadata": {},
   "outputs": [],
   "source": []
  }
 ],
 "metadata": {
  "kernelspec": {
   "display_name": "Python 3 (ipykernel)",
   "language": "python",
   "name": "python3"
  },
  "language_info": {
   "codemirror_mode": {
    "name": "ipython",
    "version": 3
   },
   "file_extension": ".py",
   "mimetype": "text/x-python",
   "name": "python",
   "nbconvert_exporter": "python",
   "pygments_lexer": "ipython3",
   "version": "3.9.10"
  }
 },
 "nbformat": 4,
 "nbformat_minor": 5
}
