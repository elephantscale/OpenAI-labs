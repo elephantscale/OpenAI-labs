{
 "cells": [
  {
   "cell_type": "markdown",
   "source": [
    "# Lesson 4: Tagging and Extraction Using OpenAI functions"
   ],
   "metadata": {
    "collapsed": false
   },
   "id": "43c969b914216bba"
  },
  {
   "cell_type": "code",
   "outputs": [],
   "source": [
    "import os\n",
    "import openai\n",
    "from typing import List\n",
    "from pydantic import BaseModel, Field\n",
    "from langchain.utils.openai_functions import convert_pydantic_to_openai_function\n",
    "from dotenv import load_dotenv\n",
    "\n",
    "load_dotenv()\n",
    "openai.api_key = os.getenv('OPENAI_API_KEY')\n",
    "\n",
    "import warnings\n",
    "warnings.filterwarnings(\"ignore\", category=DeprecationWarning) "
   ],
   "metadata": {
    "collapsed": false
   },
   "id": "94c8abdec356025",
   "execution_count": null
  },
  {
   "cell_type": "code",
   "outputs": [],
   "source": [
    "class Tagging(BaseModel):\n",
    "    \"\"\"Tag the piece of text with particular info.\"\"\"\n",
    "    sentiment: str = Field(description=\"The sentiment of the text should be positive/negative/neutral.\")\n",
    "    language: str = Field(description=\"The language of the text (should be ISO 639-1 code)\")"
   ],
   "metadata": {
    "collapsed": false
   },
   "id": "63f5dbb5c3daff8c",
   "execution_count": null
  },
  {
   "cell_type": "code",
   "outputs": [],
   "source": [
    "convert_pydantic_to_openai_function(Tagging)"
   ],
   "metadata": {
    "collapsed": false
   },
   "id": "8b73e66ae44a2de2",
   "execution_count": null
  },
  {
   "cell_type": "code",
   "outputs": [],
   "source": [
    "from langchain.prompts import ChatPromptTemplate\n",
    "from langchain.chat_models import ChatOpenAI\n",
    "\n",
    "model = ChatOpenAI(temperature=0)\n",
    "tagging_functions = [convert_pydantic_to_openai_function(Tagging)]\n",
    "prompt = ChatPromptTemplate.from_messages([\n",
    "    (\"system\", \"Think carefully, and then tag the text as instructed\"),\n",
    "    (\"user\", \"{input}\")\n",
    "])\n",
    "\n",
    "model_with_functions = model.bind(functions=tagging_functions, function_call={\"name\": \"Tagging\"})\n",
    "\n",
    "tagging_chain = prompt | model_with_functions\n",
    "tagging_chain.invoke({\"input\": \"I love langchain\"})"
   ],
   "metadata": {
    "collapsed": false
   },
   "id": "4eb06b38542e225e",
   "execution_count": null
  },
  {
   "cell_type": "code",
   "outputs": [],
   "source": [
    "tagging_chain.invoke({\"input\": \"non mi piace questo cibo\"})"
   ],
   "metadata": {
    "collapsed": false
   },
   "id": "d8461ab73693e1c3",
   "execution_count": null
  },
  {
   "cell_type": "code",
   "outputs": [],
   "source": [
    "from langchain.output_parsers.openai_functions import JsonOutputFunctionsParser\n",
    "\n",
    "tagging_chain = prompt | model_with_functions | JsonOutputFunctionsParser()"
   ],
   "metadata": {
    "collapsed": false
   },
   "id": "88a6dbd33f6a4947",
   "execution_count": null
  },
  {
   "cell_type": "code",
   "outputs": [],
   "source": [
    "tagging_chain.invoke({\"input\": \"non mi piace questo cibo\"})"
   ],
   "metadata": {
    "collapsed": false
   },
   "id": "cf483109486da501",
   "execution_count": null
  },
  {
   "cell_type": "markdown",
   "source": [
    "# Extraction"
   ],
   "metadata": {
    "collapsed": false
   },
   "id": "68cf2f574e2a6bad"
  },
  {
   "cell_type": "code",
   "outputs": [],
   "source": [
    "from typing import Optional\n",
    "\n",
    "\n",
    "class Person(BaseModel):\n",
    "    \"\"\"Information about a person.\"\"\"\n",
    "    name: str = Field(description=\"person's name\")\n",
    "    age: Optional[int] = Field(description=\"person's age\")"
   ],
   "metadata": {
    "collapsed": false
   },
   "id": "3c3ec3e37657638e",
   "execution_count": null
  },
  {
   "cell_type": "code",
   "outputs": [],
   "source": [
    "class Information(BaseModel):\n",
    "    \"\"\"Information to extract.\"\"\"\n",
    "    people: List[Person] = Field(description=\"List of info about people\")"
   ],
   "metadata": {
    "collapsed": false
   },
   "id": "c7e34e0befe1aa5c",
   "execution_count": null
  },
  {
   "cell_type": "code",
   "outputs": [],
   "source": [
    "convert_pydantic_to_openai_function(Information)\n",
    "\n",
    "extraction_function = [convert_pydantic_to_openai_function(Information)]\n",
    "extraction_model = model.bind(functions=extraction_function, function_call={\"name\": \"Information\"})"
   ],
   "metadata": {
    "collapsed": false
   },
   "id": "11778464dd08bc32",
   "execution_count": null
  },
  {
   "cell_type": "code",
   "outputs": [],
   "source": [
    "extraction_model.invoke(\"Joe is 30, his mom is Martha\")"
   ],
   "metadata": {
    "collapsed": false
   },
   "id": "6529c0314b75891b",
   "execution_count": null
  },
  {
   "cell_type": "code",
   "outputs": [],
   "source": [
    "prompt = ChatPromptTemplate.from_messages([\n",
    "    (\"system\", \"Extract the relevant information, if not explicitly provided do not guess. Extract partial info\"),\n",
    "    (\"human\", \"{input}\")\n",
    "])"
   ],
   "metadata": {
    "collapsed": false
   },
   "id": "ab17d8b24df537d9",
   "execution_count": null
  },
  {
   "cell_type": "code",
   "outputs": [],
   "source": [
    "extraction_chain=prompt|extraction_model"
   ],
   "metadata": {
    "collapsed": false
   },
   "id": "9eaea7c9d2e667c5",
   "execution_count": null
  },
  {
   "cell_type": "code",
   "outputs": [],
   "source": [
    "extraction_chain.invoke({\"input\": \"Joe is 30, his mom is Martha\"})"
   ],
   "metadata": {
    "collapsed": false
   },
   "id": "2d934b0bb9d697fa",
   "execution_count": null
  },
  {
   "cell_type": "code",
   "outputs": [],
   "source": [
    "extraction_chain = prompt | extraction_model | JsonOutputFunctionsParser()\n",
    "\n",
    "extraction_chain.invoke({\"input\": \"Joe is 30, his mom is Martha\"})"
   ],
   "metadata": {
    "collapsed": false
   },
   "id": "214c604acb400b0b",
   "execution_count": null
  },
  {
   "cell_type": "code",
   "outputs": [],
   "source": [
    "from langchain.output_parsers.openai_functions import JsonKeyOutputFunctionsParser\n",
    "\n",
    "extraction_chain = prompt | extraction_model | JsonKeyOutputFunctionsParser(key_name=\"people\")\n",
    "extraction_chain.invoke({\"input\": \"Joe is 30, his mom is Martha\"})"
   ],
   "metadata": {
    "collapsed": false
   },
   "id": "fd80c11116ee81c7",
   "execution_count": null
  },
  {
   "cell_type": "markdown",
   "source": [
    "# Real Example"
   ],
   "metadata": {
    "collapsed": false
   },
   "id": "2661b90ec2acdb5f"
  },
  {
   "cell_type": "code",
   "outputs": [],
   "source": [
    "from langchain.document_loaders import WebBaseLoader\n",
    "loader = WebBaseLoader(\"https://lilianweng.github.io/posts/2023-06-23-agent/\")\n",
    "documents = loader.load()\n",
    "\n",
    "doc=documents[0]\n",
    "page_content=doc.page_content[:10000]\n",
    "print(page_content[:1000])"
   ],
   "metadata": {
    "collapsed": false
   },
   "id": "e3ce3171b573497a",
   "execution_count": null
  },
  {
   "cell_type": "code",
   "outputs": [],
   "source": [
    "class Overview(BaseModel):\n",
    "    \"\"\"Overview of a section of text.\"\"\"\n",
    "    summary: str = Field(description=\"Provide a concise summary of the content.\")\n",
    "    language: str = Field(description=\"Provide the language that the content is written in.\")\n",
    "    keywords: str = Field(description=\"Provide keywords related to the content.\")"
   ],
   "metadata": {
    "collapsed": false
   },
   "id": "8016d46ea2f95b01",
   "execution_count": null
  },
  {
   "cell_type": "code",
   "outputs": [],
   "source": [
    "overview_tagging_function = [\n",
    "    convert_pydantic_to_openai_function(Overview)\n",
    "]\n",
    "tagging_model = model.bind(\n",
    "    functions=overview_tagging_function,\n",
    "    function_call={\"name\":\"Overview\"}\n",
    ")\n",
    "tagging_chain = prompt | tagging_model | JsonOutputFunctionsParser()"
   ],
   "metadata": {
    "collapsed": false
   },
   "id": "a54dc698e5b1d3ed",
   "execution_count": null
  },
  {
   "cell_type": "code",
   "outputs": [],
   "source": [
    "tagging_chain.invoke({\"input\": page_content})"
   ],
   "metadata": {
    "collapsed": false
   },
   "id": "57d8eeaaa3e6e85e",
   "execution_count": null
  },
  {
   "cell_type": "code",
   "outputs": [],
   "source": [
    "class Paper(BaseModel):\n",
    "    \"\"\"Information about papers mentioned.\"\"\"\n",
    "    title: str\n",
    "    author: Optional[str]\n",
    "\n",
    "\n",
    "class Info(BaseModel):\n",
    "    \"\"\"Information to extract\"\"\"\n",
    "    papers: List[Paper]"
   ],
   "metadata": {
    "collapsed": false
   },
   "id": "8815b968db8bf919",
   "execution_count": null
  },
  {
   "cell_type": "code",
   "outputs": [],
   "source": [
    "paper_extraction_function = [\n",
    "    convert_pydantic_to_openai_function(Info)\n",
    "]\n",
    "extraction_model = model.bind(\n",
    "    functions=paper_extraction_function, \n",
    "    function_call={\"name\":\"Info\"}\n",
    ")\n",
    "extraction_chain = prompt | extraction_model | JsonKeyOutputFunctionsParser(key_name=\"papers\")"
   ],
   "metadata": {
    "collapsed": false
   },
   "id": "d3a05e0ea55e07e7",
   "execution_count": null
  },
  {
   "cell_type": "code",
   "outputs": [],
   "source": [
    "extraction_chain.invoke({\"input\": page_content})"
   ],
   "metadata": {
    "collapsed": false
   },
   "id": "723defc8bee69067",
   "execution_count": null
  },
  {
   "cell_type": "code",
   "outputs": [],
   "source": [
    "template = \"\"\"A article will be passed to you. Extract from it all papers that are mentioned by this article. \n",
    "\n",
    "Do not extract the name of the article itself. If no papers are mentioned that's fine - you don't need to extract any! Just return an empty list.\n",
    "\n",
    "Do not make up or guess ANY extra information. Only extract what exactly is in the text.\"\"\"\n",
    "\n",
    "prompt = ChatPromptTemplate.from_messages([\n",
    "    (\"system\", template),\n",
    "    (\"human\", \"{input}\")\n",
    "])"
   ],
   "metadata": {
    "collapsed": false
   },
   "id": "4c1e473213ff2092",
   "execution_count": null
  },
  {
   "cell_type": "code",
   "outputs": [],
   "source": [
    "extraction_chain = prompt | extraction_model | JsonKeyOutputFunctionsParser(key_name=\"papers\")"
   ],
   "metadata": {
    "collapsed": false
   },
   "id": "2c6dc8096f61824a",
   "execution_count": null
  },
  {
   "cell_type": "code",
   "outputs": [],
   "source": [
    "extraction_chain.invoke({\"input\": page_content})"
   ],
   "metadata": {
    "collapsed": false
   },
   "id": "f31030517244d22a",
   "execution_count": null
  },
  {
   "cell_type": "code",
   "outputs": [],
   "source": [
    "extraction_chain.invoke({\"input\": \"hi\"})"
   ],
   "metadata": {
    "collapsed": false
   },
   "id": "7293f9fcfea6cebd",
   "execution_count": null
  },
  {
   "cell_type": "code",
   "outputs": [],
   "source": [
    "from langchain.text_splitter import RecursiveCharacterTextSplitter\n",
    "text_splitter = RecursiveCharacterTextSplitter(chunk_overlap=0)"
   ],
   "metadata": {
    "collapsed": false
   },
   "id": "84891a99d3ad0ab0",
   "execution_count": null
  },
  {
   "cell_type": "code",
   "outputs": [],
   "source": [
    "splits = text_splitter.split_text(doc.page_content)"
   ],
   "metadata": {
    "collapsed": false
   },
   "id": "2357d8d9dffe3222",
   "execution_count": null
  },
  {
   "cell_type": "code",
   "outputs": [],
   "source": [
    "len(splits)"
   ],
   "metadata": {
    "collapsed": false
   },
   "id": "1e9b1ffa6105d4ef",
   "execution_count": null
  },
  {
   "cell_type": "code",
   "outputs": [],
   "source": [
    "def flatten(matrix):\n",
    "    flat_list = []\n",
    "    for row in matrix:\n",
    "        flat_list += row\n",
    "    return flat_list"
   ],
   "metadata": {
    "collapsed": false
   },
   "id": "2cee1735e1eb749b",
   "execution_count": null
  },
  {
   "cell_type": "code",
   "outputs": [],
   "source": [
    "flatten([[1, 2], [3, 4]])"
   ],
   "metadata": {
    "collapsed": false
   },
   "id": "57a42d19736fceda",
   "execution_count": null
  },
  {
   "cell_type": "code",
   "outputs": [],
   "source": [
    "print(splits[0])"
   ],
   "metadata": {
    "collapsed": false
   },
   "id": "c29566b379c5ebd",
   "execution_count": null
  },
  {
   "cell_type": "code",
   "outputs": [],
   "source": [
    "from langchain.schema.runnable import RunnableLambda"
   ],
   "metadata": {
    "collapsed": false
   },
   "id": "cc39110c6baea2cd",
   "execution_count": null
  },
  {
   "cell_type": "code",
   "outputs": [],
   "source": [
    "prep = RunnableLambda(\n",
    "    lambda x: [{\"input\": doc} for doc in text_splitter.split_text(x)]\n",
    ")"
   ],
   "metadata": {
    "collapsed": false
   },
   "id": "af10dc3fd58a3f96",
   "execution_count": null
  },
  {
   "cell_type": "code",
   "outputs": [],
   "source": [
    "prep.invoke(\"hi\")"
   ],
   "metadata": {
    "collapsed": false
   },
   "id": "42faff07ac0c1937",
   "execution_count": null
  },
  {
   "cell_type": "code",
   "outputs": [],
   "source": [
    "chain = prep | extraction_chain.map() | flatten"
   ],
   "metadata": {
    "collapsed": false
   },
   "id": "8e03028e2638e4f8",
   "execution_count": null
  },
  {
   "cell_type": "code",
   "outputs": [],
   "source": [
    "chain.invoke(doc.page_content)"
   ],
   "metadata": {
    "collapsed": false
   },
   "id": "25d0da31209c910",
   "execution_count": null
  }
 ],
 "metadata": {
  "kernelspec": {
   "display_name": "Python 3",
   "language": "python",
   "name": "python3"
  },
  "language_info": {
   "codemirror_mode": {
    "name": "ipython",
    "version": 2
   },
   "file_extension": ".py",
   "mimetype": "text/x-python",
   "name": "python",
   "nbconvert_exporter": "python",
   "pygments_lexer": "ipython2",
   "version": "2.7.6"
  }
 },
 "nbformat": 4,
 "nbformat_minor": 5
}
