{
 "cells": [
  {
   "cell_type": "markdown",
   "source": [
    "# Lesson 2: Langchain Expression language"
   ],
   "metadata": {
    "collapsed": false
   },
   "id": "b05b1a55cfe922a6"
  },
  {
   "cell_type": "code",
   "execution_count": null,
   "id": "initial_id",
   "metadata": {
    "collapsed": true
   },
   "outputs": [],
   "source": [
    "import os\n",
    "from langchain.prompts import ChatPromptTemplate\n",
    "from langchain_openai import ChatOpenAI\n",
    "from langchain.schema.output_parser import StrOutputParser\n",
    "from dotenv import load_dotenv\n",
    "\n",
    "load_dotenv()\n",
    "\n",
    "api_key = os.getenv('OPENAI_API_KEY')"
   ]
  },
  {
   "cell_type": "markdown",
   "source": [
    "# Simple Chain"
   ],
   "metadata": {
    "collapsed": false
   },
   "id": "193dfac338702b18"
  },
  {
   "cell_type": "code",
   "outputs": [],
   "source": [
    "prompt = ChatPromptTemplate.from_template(\"tell me a joke about {topic}\")\n",
    "model = ChatOpenAI(api_key=api_key)\n",
    "output_parser = StrOutputParser()\n",
    "\n",
    "chain = prompt | model | output_parser\n",
    "chain.invoke({\"topic\": \"bears\"})"
   ],
   "metadata": {
    "collapsed": false
   },
   "id": "b7d646e50c862c0e",
   "execution_count": null
  },
  {
   "cell_type": "markdown",
   "source": [
    "# More complex chain"
   ],
   "metadata": {
    "collapsed": false
   },
   "id": "add293dcbefda4dc"
  },
  {
   "cell_type": "code",
   "outputs": [],
   "source": [
    "from langchain_openai.embeddings import OpenAIEmbeddings\n",
    "from langchain.vectorstores import DocArrayInMemorySearch\n",
    "\n",
    "vectorstore = DocArrayInMemorySearch.from_texts(\n",
    "    [\"harrison worked at kensho\", \"bears like to eat honey\"],\n",
    "    embedding=OpenAIEmbeddings()\n",
    ")\n",
    "retriever = vectorstore.as_retriever()\n",
    "\n",
    "retriever.get_relevant_documents(\"where did harrison work?\")"
   ],
   "metadata": {
    "collapsed": false
   },
   "id": "893793d85e98c684",
   "execution_count": null
  },
  {
   "cell_type": "code",
   "outputs": [],
   "source": [
    "retriever.get_relevant_documents(\"what do bears like to eat?\")"
   ],
   "metadata": {
    "collapsed": false
   },
   "id": "93a3b963df05dbaf",
   "execution_count": null
  },
  {
   "cell_type": "code",
   "outputs": [],
   "source": [
    "template = \"\"\"Answer the question based only on the following context:\n",
    "{context}\n",
    "\n",
    "Question:{question}\n",
    "\"\"\"\n",
    "\n",
    "prompt = ChatPromptTemplate.from_template(template)"
   ],
   "metadata": {
    "collapsed": false
   },
   "id": "5fcae38726664376",
   "execution_count": null
  },
  {
   "cell_type": "code",
   "outputs": [],
   "source": [
    "from langchain.schema.runnable import RunnableMap\n",
    "\n",
    "chain = RunnableMap({\n",
    "    \"context\": lambda x: retriever.get_relevant_documents(x[\"question\"]),\n",
    "    \"question\": lambda x: x[\"question\"]\n",
    "}) | prompt | model | output_parser\n",
    "\n",
    "chain.invoke({\"question\": \"where did harrison work?\"})"
   ],
   "metadata": {
    "collapsed": false
   },
   "id": "3fa4b12ff5b2ccd2",
   "execution_count": null
  },
  {
   "cell_type": "code",
   "outputs": [],
   "source": [
    "inputs = RunnableMap({\n",
    "    \"context\": lambda x: retriever.get_relevant_documents(x[\"question\"]),\n",
    "    \"question\": lambda x: x[\"question\"]\n",
    "})\n",
    "inputs.invoke({\"question\": \"where did harrison work?\"})"
   ],
   "metadata": {
    "collapsed": false
   },
   "id": "2498c2fe2b081dfb",
   "execution_count": null
  },
  {
   "cell_type": "markdown",
   "source": [
    "# Bind"
   ],
   "metadata": {
    "collapsed": false
   },
   "id": "a807aabf0521b3fc"
  },
  {
   "cell_type": "code",
   "outputs": [],
   "source": [
    "functions = [\n",
    "    {\n",
    "        \"name\": \"weather_search\",\n",
    "        \"description\": \"Search for weather given an airport code\",\n",
    "        \"parameters\": {\n",
    "            \"type\": \"object\",\n",
    "            \"properties\": {\n",
    "                \"airport_code\": {\n",
    "                    \"type\": \"string\",\n",
    "                    \"description\": \"The airport code to get the weather for\"\n",
    "                },\n",
    "            },\n",
    "            \"required\": [\"airport_code\"]\n",
    "        }\n",
    "    }\n",
    "]"
   ],
   "metadata": {
    "collapsed": false
   },
   "id": "fe102efe87e692f2",
   "execution_count": null
  },
  {
   "cell_type": "code",
   "outputs": [],
   "source": [
    "prompt = ChatPromptTemplate.from_messages(\n",
    "    [\n",
    "        (\"human\", \"{input}\")\n",
    "    ]\n",
    ")\n",
    "\n",
    "model = ChatOpenAI(temperature=0).bind(functions=functions)"
   ],
   "metadata": {
    "collapsed": false
   },
   "id": "29b876556d487a5c",
   "execution_count": null
  },
  {
   "cell_type": "code",
   "outputs": [],
   "source": [
    "runnable = prompt | model\n",
    "\n",
    "runnable.invoke({\"input\": \"what is the weather in sf\"})"
   ],
   "metadata": {
    "collapsed": false
   },
   "id": "420d18b2ef2617e8",
   "execution_count": null
  },
  {
   "cell_type": "code",
   "outputs": [],
   "source": [
    "functions = [\n",
    "    {\n",
    "        \"name\": \"weather_search\",\n",
    "        \"description\": \"Search for weather given an airport code\",\n",
    "        \"parameters\": {\n",
    "            \"type\": \"object\",\n",
    "            \"properties\": {\n",
    "                \"airport_code\": {\n",
    "                    \"type\": \"string\",\n",
    "                    \"description\": \"The airport code to get the weather for\"\n",
    "                },\n",
    "            },\n",
    "            \"required\": [\"airport_code\"]\n",
    "        }\n",
    "    },\n",
    "    {\n",
    "        \"name\": \"sports_search\",\n",
    "        \"description\": \"Search for news of recent sport events\",\n",
    "        \"parameters\": {\n",
    "            \"type\": \"object\",\n",
    "            \"properties\": {\n",
    "                \"team_name\": {\n",
    "                    \"type\": \"string\",\n",
    "                    \"description\": \"The sports team to search for\"\n",
    "                },\n",
    "            },\n",
    "            \"required\": [\"team_name\"]\n",
    "        }\n",
    "    }\n",
    "]"
   ],
   "metadata": {
    "collapsed": false
   },
   "id": "c93c1da1697c0773",
   "execution_count": null
  },
  {
   "cell_type": "code",
   "outputs": [],
   "source": [
    "model = model.bind(functions=functions)\n",
    "\n",
    "runnable = prompt | model\n",
    "runnable.invoke({\"input\": \"how did the patriots do yesterday?\"})"
   ],
   "metadata": {
    "collapsed": false
   },
   "id": "551bb4e496c8fbd6",
   "execution_count": null
  },
  {
   "cell_type": "markdown",
   "source": [
    "# Fallbacks"
   ],
   "metadata": {
    "collapsed": false
   },
   "id": "af09f5f2872f022"
  },
  {
   "cell_type": "code",
   "outputs": [],
   "source": [
    "from langchain_openai.llms import OpenAI\n",
    "import json\n",
    "\n",
    "simple_model = OpenAI(\n",
    "    temperature=0,\n",
    "    max_tokens=1000,\n",
    "    model=\"gpt-3.5-turbo-instruct\"\n",
    ")"
   ],
   "metadata": {
    "collapsed": false
   },
   "id": "6cc6e1fd7145960f",
   "execution_count": null
  },
  {
   "cell_type": "code",
   "outputs": [],
   "source": [
    "def ensure_valid_json(response):\n",
    "    try:\n",
    "        parsed_response = json.loads(response)\n",
    "        return parsed_response\n",
    "    except json.JSONDecodeError:\n",
    "        return {\"error\": \"Failed to decode JSON\"}\n",
    "\n",
    "\n",
    "simple_chain = simple_model | ensure_valid_json\n",
    "\n",
    "challenge = \"\"\"write three poems in a JSON blob, where each poem is a JSON blob with keys 'title', 'author', and 'first_line'.\n",
    "Output the entire response in a valid JSON format.\n",
    "\"\"\"\n",
    "\n",
    "simple_chain.invoke(challenge)"
   ],
   "metadata": {
    "collapsed": false
   },
   "id": "aa25ee8e121a5cde",
   "execution_count": null
  },
  {
   "cell_type": "code",
   "outputs": [],
   "source": [
    "model = ChatOpenAI(temperature=0)\n",
    "chain = model | StrOutputParser() | json.loads"
   ],
   "metadata": {
    "collapsed": false
   },
   "id": "fb87eb40b73aea1a",
   "execution_count": null
  },
  {
   "cell_type": "code",
   "outputs": [],
   "source": [
    "chain.invoke(challenge)"
   ],
   "metadata": {
    "collapsed": false
   },
   "id": "56da7dc16ffac4f6",
   "execution_count": null
  },
  {
   "cell_type": "code",
   "outputs": [],
   "source": [
    "final_chain = simple_chain.with_fallbacks([chain])"
   ],
   "metadata": {
    "collapsed": false
   },
   "id": "9f1b25bc5afaa6a1",
   "execution_count": null
  },
  {
   "cell_type": "code",
   "outputs": [],
   "source": [
    "final_chain.invoke(challenge)"
   ],
   "metadata": {
    "collapsed": false
   },
   "id": "a0f542f819e550c5",
   "execution_count": null
  },
  {
   "cell_type": "markdown",
   "source": [
    "# Interface"
   ],
   "metadata": {
    "collapsed": false
   },
   "id": "46759caf16a9b49c"
  },
  {
   "cell_type": "code",
   "outputs": [],
   "source": [
    "prompt = ChatPromptTemplate.from_template(\"tell me a joke about {topic}\")\n",
    "model = ChatOpenAI(api_key=api_key)\n",
    "output_parser = StrOutputParser()\n",
    "\n",
    "chain = prompt | model | output_parser\n",
    "chain.invoke({\"topic\": \"bears\"})"
   ],
   "metadata": {
    "collapsed": false
   },
   "id": "a7a091e7bc68117d",
   "execution_count": null
  },
  {
   "cell_type": "code",
   "outputs": [],
   "source": [
    "chain.batch([{\"topic\": \"bears\"}, {\"topic\": \"frogs\"}])\n",
    "\n",
    "for t in chain.stream({\"topic\": \"bears\"}):\n",
    "    print(t)\n"
   ],
   "metadata": {
    "collapsed": false
   },
   "id": "19cbf09bc23dace0",
   "execution_count": null
  },
  {
   "cell_type": "code",
   "outputs": [],
   "source": [
    "response = await chain.ainvoke({\"topic\": \"bears\"})\n",
    "response"
   ],
   "metadata": {
    "collapsed": false
   },
   "id": "35351f4efa7cfcd2",
   "execution_count": null
  },
  {
   "cell_type": "code",
   "outputs": [],
   "source": [],
   "metadata": {
    "collapsed": false
   },
   "id": "9611c937a1e9bb3e"
  }
 ],
 "metadata": {
  "kernelspec": {
   "display_name": "Python 3",
   "language": "python",
   "name": "python3"
  },
  "language_info": {
   "codemirror_mode": {
    "name": "ipython",
    "version": 2
   },
   "file_extension": ".py",
   "mimetype": "text/x-python",
   "name": "python",
   "nbconvert_exporter": "python",
   "pygments_lexer": "ipython2",
   "version": "2.7.6"
  }
 },
 "nbformat": 4,
 "nbformat_minor": 5
}
