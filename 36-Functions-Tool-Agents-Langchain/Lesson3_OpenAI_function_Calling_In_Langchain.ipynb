{
 "cells": [
  {
   "cell_type": "markdown",
   "source": [
    "# Lesson 3: OpenAI Function Calling In LangChain"
   ],
   "metadata": {
    "collapsed": false
   },
   "id": "a8f273278d08b056"
  },
  {
   "cell_type": "code",
   "execution_count": null,
   "id": "initial_id",
   "metadata": {
    "collapsed": true
   },
   "outputs": [],
   "source": [
    "import os\n",
    "import openai\n",
    "from dotenv import load_dotenv\n",
    "\n",
    "load_dotenv()\n",
    "\n",
    "openai.api_key = os.getenv('OPENAI_API_KEY')"
   ]
  },
  {
   "cell_type": "markdown",
   "source": [
    "# Pydantic Syntax"
   ],
   "metadata": {
    "collapsed": false
   },
   "id": "e8c6ab392ef9a41f"
  },
  {
   "cell_type": "code",
   "outputs": [],
   "source": [
    "class User:\n",
    "    def __init__(self,name:str,age:int,email:str):\n",
    "        self.name=name\n",
    "        self.age=age\n",
    "        self.email=email\n",
    "    "
   ],
   "metadata": {
    "collapsed": false
   },
   "id": "c6404d279e241a65",
   "execution_count": null
  },
  {
   "cell_type": "code",
   "outputs": [],
   "source": [
    "foo=User(name=\"Joe\",age=32,email=\"joe@gmail.com\")"
   ],
   "metadata": {
    "collapsed": false
   },
   "id": "c4784732d153dcad",
   "execution_count": null
  },
  {
   "cell_type": "code",
   "outputs": [],
   "source": [
    "foo.name"
   ],
   "metadata": {
    "collapsed": false
   },
   "id": "3abf0457b625cbf3",
   "execution_count": null
  },
  {
   "cell_type": "code",
   "outputs": [],
   "source": [
    "foo=User(name=\"Joe\",age=\"bar\",email=\"joe@gmail.com\")\n",
    "foo.age"
   ],
   "metadata": {
    "collapsed": false
   },
   "id": "545dfef3f5259e62",
   "execution_count": null
  },
  {
   "cell_type": "code",
   "outputs": [],
   "source": [
    "from typing import List\n",
    "from pydantic import BaseModel, Field\n",
    "\n",
    "class pUser(BaseModel):\n",
    "    name:str\n",
    "    age:int\n",
    "    email:str"
   ],
   "metadata": {
    "collapsed": false
   },
   "id": "bf09b9a4034d2eab",
   "execution_count": null
  },
  {
   "cell_type": "code",
   "outputs": [],
   "source": [
    "foo_p=pUser(name=\"Joe\",age=32,email=\"joe@gmail.com\")\n",
    "foo_p.name"
   ],
   "metadata": {
    "collapsed": false
   },
   "id": "920ec656d2875651",
   "execution_count": null
  },
  {
   "cell_type": "code",
   "outputs": [],
   "source": [
    "foo_p=pUser(name=\"Joe\",age=\"bar\",email=\"joe@gmail.com\")\n",
    "foo_p.age"
   ],
   "metadata": {
    "collapsed": false
   },
   "id": "49f1a5c74a8389dd",
   "execution_count": null
  },
  {
   "cell_type": "code",
   "outputs": [],
   "source": [
    "class Class(BaseModel):\n",
    "    students:List[pUser]"
   ],
   "metadata": {
    "collapsed": false
   },
   "id": "9ee2d419094eee0b",
   "execution_count": null
  },
  {
   "cell_type": "code",
   "outputs": [],
   "source": [
    "obj=Class(students=[pUser(name=\"Joe\",age=32,email=\"joe@gmail\")])\n",
    "\n",
    "obj"
   ],
   "metadata": {
    "collapsed": false
   },
   "id": "53a504f17b8e7b20",
   "execution_count": null
  },
  {
   "cell_type": "markdown",
   "source": [
    "# Pydantic to OpenAI function definition"
   ],
   "metadata": {
    "collapsed": false
   },
   "id": "9f26fb8b7dd9390f"
  },
  {
   "cell_type": "code",
   "outputs": [],
   "source": [
    "class WeatherSearch(BaseModel):\n",
    "    \"\"\"Call this with an airport code to get the weather at that airport\"\"\"\n",
    "    airport_code: str = Field(description=\"airport code to get weather for\")"
   ],
   "metadata": {
    "collapsed": false
   },
   "id": "202cc7353abb3d15",
   "execution_count": null
  },
  {
   "cell_type": "code",
   "outputs": [],
   "source": [
    "from langchain_core.utils.function_calling import convert_pydantic_to_openai_function\n",
    "\n",
    "weather_function=convert_pydantic_to_openai_function(WeatherSearch)\n",
    "\n",
    "weather_function"
   ],
   "metadata": {
    "collapsed": false
   },
   "id": "3aa44628990e4fb3",
   "execution_count": null
  },
  {
   "cell_type": "code",
   "outputs": [],
   "source": [
    "class WeatherSearch1(BaseModel):\n",
    "    airport_code: str = Field(description=\"airport code to get weather for\")"
   ],
   "metadata": {
    "collapsed": false
   },
   "id": "acaf0521218e2b54",
   "execution_count": null
  },
  {
   "cell_type": "code",
   "outputs": [],
   "source": [
    "convert_pydantic_to_openai_function(WeatherSearch1)"
   ],
   "metadata": {
    "collapsed": false
   },
   "id": "1c19e42b1d52128e",
   "execution_count": null
  },
  {
   "cell_type": "code",
   "outputs": [],
   "source": [
    "class WeatherSearch2(BaseModel):\n",
    "    \"\"\"Call this with an airport code to get the weather at that airport\"\"\"\n",
    "    airport_code: str"
   ],
   "metadata": {
    "collapsed": false
   },
   "id": "a22ae5d5a39d07dd",
   "execution_count": null
  },
  {
   "cell_type": "code",
   "outputs": [],
   "source": [
    "convert_pydantic_to_openai_function(WeatherSearch2)"
   ],
   "metadata": {
    "collapsed": false
   },
   "id": "68567f191490cc9a",
   "execution_count": null
  },
  {
   "cell_type": "code",
   "outputs": [],
   "source": [
    "from langchain_openai.chat_models import ChatOpenAI\n",
    "\n",
    "model=ChatOpenAI()\n",
    "model.invoke(\"what is the weather in SF today?\", functions=[weather_function])\n"
   ],
   "metadata": {
    "collapsed": false
   },
   "id": "7201c67c93341070",
   "execution_count": null
  },
  {
   "cell_type": "code",
   "outputs": [],
   "source": [
    "model_with_function=model.bind(functions=[weather_function])"
   ],
   "metadata": {
    "collapsed": false
   },
   "id": "c8b22c39a5fc44d3",
   "execution_count": null
  },
  {
   "cell_type": "code",
   "outputs": [],
   "source": [
    "model_with_function.invoke(\"what is the weather in sf\")"
   ],
   "metadata": {
    "collapsed": false
   },
   "id": "a59c088462896795",
   "execution_count": null
  },
  {
   "cell_type": "markdown",
   "source": [
    "# Forcing it to use a function"
   ],
   "metadata": {
    "collapsed": false
   },
   "id": "a6866c66178d5ed7"
  },
  {
   "cell_type": "code",
   "outputs": [],
   "source": [
    "model_with_forced_function = model.bind(functions=[weather_function], function_call={\"name\":\"WeatherSearch\"})"
   ],
   "metadata": {
    "collapsed": false
   },
   "id": "e4ecf4667baa8cf9",
   "execution_count": null
  },
  {
   "cell_type": "code",
   "outputs": [],
   "source": [
    "model_with_forced_function.invoke(\"what is the weather in sf?\")"
   ],
   "metadata": {
    "collapsed": false
   },
   "id": "11052c2adaed5963",
   "execution_count": null
  },
  {
   "cell_type": "code",
   "outputs": [],
   "source": [
    "model_with_forced_function.invoke(\"hi!\")"
   ],
   "metadata": {
    "collapsed": false
   },
   "id": "3b89c5ea1e1ff0c1",
   "execution_count": null
  },
  {
   "cell_type": "markdown",
   "source": [
    "# Using in a chain"
   ],
   "metadata": {
    "collapsed": false
   },
   "id": "96df6665ab0ea806"
  },
  {
   "cell_type": "code",
   "outputs": [],
   "source": [
    "from langchain.prompts import ChatPromptTemplate\n",
    "\n",
    "prompt=ChatPromptTemplate.from_messages([(\"system\",\"You are a helpful assistant\"),\n",
    "(\"user\",\"{input}\")])\n",
    "\n",
    "chain=prompt|model_with_function\n",
    "chain.invoke({\"input\": \"what is the weather in sf?\"})"
   ],
   "metadata": {
    "collapsed": false
   },
   "id": "de9290f643375a19",
   "execution_count": null
  },
  {
   "cell_type": "markdown",
   "source": [
    "# Using multiple functions"
   ],
   "metadata": {
    "collapsed": false
   },
   "id": "ea4b72556b678841"
  },
  {
   "cell_type": "code",
   "outputs": [],
   "source": [
    "class ArtistSearch(BaseModel):\n",
    "    \"\"\"Call this to get the names of songs by a particular artist\"\"\"\n",
    "    artist_name: str = Field(description=\"name of artist to look up\")\n",
    "    n: int = Field(description=\"number of results\")"
   ],
   "metadata": {
    "collapsed": false
   },
   "id": "f7a46572ab187cfd",
   "execution_count": null
  },
  {
   "cell_type": "code",
   "outputs": [],
   "source": [
    "functions = [\n",
    "    convert_pydantic_to_openai_function(WeatherSearch),\n",
    "    convert_pydantic_to_openai_function(ArtistSearch),\n",
    "]"
   ],
   "metadata": {
    "collapsed": false
   },
   "id": "a003cbc3e46d5aaf",
   "execution_count": null
  },
  {
   "cell_type": "code",
   "outputs": [],
   "source": [
    "model_with_functions=model.bind(functions=functions)\n",
    "model_with_functions.invoke(\"what is the weather in sf?\")"
   ],
   "metadata": {
    "collapsed": false
   },
   "id": "2328e78ce8bea165",
   "execution_count": null
  },
  {
   "cell_type": "code",
   "outputs": [],
   "source": [
    "model_with_functions.invoke(\"what are three songs by taylor swift?\")"
   ],
   "metadata": {
    "collapsed": false
   },
   "id": "b093811e4f056fb0",
   "execution_count": null
  },
  {
   "cell_type": "code",
   "outputs": [],
   "source": [
    "model_with_functions.invoke(\"hi!\")"
   ],
   "metadata": {
    "collapsed": false
   },
   "id": "47817a25ee380031",
   "execution_count": null
  },
  {
   "cell_type": "code",
   "outputs": [],
   "source": [],
   "metadata": {
    "collapsed": false
   },
   "id": "97a313793a0f8fa"
  }
 ],
 "metadata": {
  "kernelspec": {
   "display_name": "Python 3",
   "language": "python",
   "name": "python3"
  },
  "language_info": {
   "codemirror_mode": {
    "name": "ipython",
    "version": 2
   },
   "file_extension": ".py",
   "mimetype": "text/x-python",
   "name": "python",
   "nbconvert_exporter": "python",
   "pygments_lexer": "ipython2",
   "version": "2.7.6"
  }
 },
 "nbformat": 4,
 "nbformat_minor": 5
}
