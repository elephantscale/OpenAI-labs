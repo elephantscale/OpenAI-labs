{
 "cells": [
  {
   "cell_type": "markdown",
   "id": "84229da805a3dee6",
   "metadata": {
    "collapsed": false,
    "jupyter": {
     "outputs_hidden": false
    }
   },
   "source": [
    "# Lesson 5 - Comparing data in Python"
   ]
  },
  {
   "cell_type": "code",
   "execution_count": null,
   "id": "ddee0626845f7fc9",
   "metadata": {
    "collapsed": false,
    "jupyter": {
     "outputs_hidden": false
    }
   },
   "outputs": [],
   "source": [
    "food_preferences_tommy = {\n",
    "    \"favorite_ingredients\": [\"mushrooms\", \"olives\"],\n",
    "    \"experience_level\": \"intermediate\",\n",
    "    \"maximum_spice_level\": 6\n",
    "}\n",
    "\n",
    "food_preferences_tommy[\"is_vegetarian\"] = True\n",
    "print(food_preferences_tommy)"
   ]
  },
  {
   "cell_type": "markdown",
   "id": "41eac7e594b5bf89",
   "metadata": {
    "collapsed": false,
    "jupyter": {
     "outputs_hidden": false
    }
   },
   "source": [
    "# True and False"
   ]
  },
  {
   "cell_type": "code",
   "execution_count": null,
   "id": "42ef16187054c456",
   "metadata": {
    "collapsed": false,
    "jupyter": {
     "outputs_hidden": false
    }
   },
   "outputs": [],
   "source": [
    "print(True)\n",
    "print(False)"
   ]
  },
  {
   "cell_type": "code",
   "execution_count": null,
   "id": "6e2859fcc6f91f",
   "metadata": {
    "collapsed": false,
    "jupyter": {
     "outputs_hidden": false
    }
   },
   "outputs": [],
   "source": [
    "type(True)\n",
    "type(False)"
   ]
  },
  {
   "cell_type": "code",
   "execution_count": null,
   "id": "396189f94f0daeaf",
   "metadata": {
    "collapsed": false,
    "jupyter": {
     "outputs_hidden": false
    }
   },
   "outputs": [],
   "source": [
    "is_tommy_my_friend = True"
   ]
  },
  {
   "cell_type": "code",
   "execution_count": null,
   "id": "cad941d53547eefc",
   "metadata": {
    "collapsed": false,
    "jupyter": {
     "outputs_hidden": false
    }
   },
   "outputs": [],
   "source": [
    "is_isabel_older_than_me = False"
   ]
  },
  {
   "cell_type": "code",
   "execution_count": null,
   "id": "c46e35889cde7d8c",
   "metadata": {
    "collapsed": false,
    "jupyter": {
     "outputs_hidden": false
    }
   },
   "outputs": [],
   "source": [
    "print(is_tommy_my_friend)"
   ]
  },
  {
   "cell_type": "code",
   "execution_count": null,
   "id": "491e729760a26244",
   "metadata": {
    "collapsed": false,
    "jupyter": {
     "outputs_hidden": false
    }
   },
   "outputs": [],
   "source": [
    "type(is_isabel_older_than_me)"
   ]
  },
  {
   "cell_type": "markdown",
   "id": "df43f26495667f76",
   "metadata": {
    "collapsed": false,
    "jupyter": {
     "outputs_hidden": false
    }
   },
   "source": [
    "# Comparison Operators"
   ]
  },
  {
   "cell_type": "code",
   "execution_count": null,
   "id": "7875c68094be1af8",
   "metadata": {
    "collapsed": false,
    "jupyter": {
     "outputs_hidden": false
    }
   },
   "outputs": [],
   "source": [
    "isabel_age = 28\n",
    "daniel_age = 30\n",
    "tommy_age = 30"
   ]
  },
  {
   "cell_type": "code",
   "execution_count": null,
   "id": "2d862e558747a3c5",
   "metadata": {
    "collapsed": false,
    "jupyter": {
     "outputs_hidden": false
    }
   },
   "outputs": [],
   "source": [
    "print(isabel_age > daniel_age) "
   ]
  },
  {
   "cell_type": "code",
   "execution_count": null,
   "id": "ccb2f26b44d62acc",
   "metadata": {
    "collapsed": false,
    "jupyter": {
     "outputs_hidden": false
    }
   },
   "outputs": [],
   "source": [
    "print(isabel_age < daniel_age) "
   ]
  },
  {
   "cell_type": "code",
   "execution_count": null,
   "id": "f8a5f26ba533d98f",
   "metadata": {
    "collapsed": false,
    "jupyter": {
     "outputs_hidden": false
    }
   },
   "outputs": [],
   "source": [
    "is_isabel_older_than_daniel = isabel_age > daniel_age\n",
    "print(is_isabel_older_than_daniel)"
   ]
  },
  {
   "cell_type": "code",
   "execution_count": null,
   "id": "2302a397823c9460",
   "metadata": {
    "collapsed": false,
    "jupyter": {
     "outputs_hidden": false
    }
   },
   "outputs": [],
   "source": [
    "print(isabel_age <= daniel_age)"
   ]
  },
  {
   "cell_type": "code",
   "execution_count": null,
   "id": "ed17ef569d268c66",
   "metadata": {
    "collapsed": false,
    "jupyter": {
     "outputs_hidden": false
    }
   },
   "outputs": [],
   "source": [
    "print(tommy_age < daniel_age)"
   ]
  },
  {
   "cell_type": "code",
   "execution_count": null,
   "id": "5031b3a65ee82596",
   "metadata": {
    "collapsed": false,
    "jupyter": {
     "outputs_hidden": false
    }
   },
   "outputs": [],
   "source": [
    "print(tommy_age <= daniel_age)"
   ]
  },
  {
   "cell_type": "markdown",
   "id": "9f1ba8c1dc902029",
   "metadata": {
    "collapsed": false,
    "jupyter": {
     "outputs_hidden": false
    }
   },
   "source": [
    "# Equality Operator"
   ]
  },
  {
   "cell_type": "code",
   "execution_count": null,
   "id": "c5bde06de40722f3",
   "metadata": {
    "collapsed": false,
    "jupyter": {
     "outputs_hidden": false
    }
   },
   "outputs": [],
   "source": [
    "print(tommy_age == daniel_age)"
   ]
  },
  {
   "cell_type": "code",
   "execution_count": null,
   "id": "dd1debf60da8e39",
   "metadata": {
    "collapsed": false,
    "jupyter": {
     "outputs_hidden": false
    }
   },
   "outputs": [],
   "source": [
    "print(isabel_age == daniel_age) "
   ]
  },
  {
   "cell_type": "code",
   "execution_count": null,
   "id": "e5c7ea2a5439078f",
   "metadata": {
    "collapsed": false,
    "jupyter": {
     "outputs_hidden": false
    }
   },
   "outputs": [],
   "source": [
    "print(\"vegetarian\" == \"vegan\")"
   ]
  },
  {
   "cell_type": "markdown",
   "id": "9e6f91442f8aec0c",
   "metadata": {
    "collapsed": false,
    "jupyter": {
     "outputs_hidden": false
    }
   },
   "source": [
    "# Logical Operators"
   ]
  },
  {
   "cell_type": "code",
   "execution_count": null,
   "id": "6cec984a62a08b79",
   "metadata": {
    "collapsed": false,
    "jupyter": {
     "outputs_hidden": false
    }
   },
   "outputs": [],
   "source": [
    "is_tommy_my_friend = True\n",
    "is_isabel_my_friend = True"
   ]
  },
  {
   "cell_type": "code",
   "execution_count": null,
   "id": "58cd59c573e2cec",
   "metadata": {
    "collapsed": false,
    "jupyter": {
     "outputs_hidden": false
    }
   },
   "outputs": [],
   "source": [
    "print(is_tommy_my_friend and is_isabel_my_friend)"
   ]
  },
  {
   "cell_type": "code",
   "execution_count": null,
   "id": "d953b3c5467fa97a",
   "metadata": {
    "collapsed": false,
    "jupyter": {
     "outputs_hidden": false
    }
   },
   "outputs": [],
   "source": [
    "print(is_tommy_my_friend or is_isabel_my_friend)"
   ]
  },
  {
   "cell_type": "code",
   "execution_count": null,
   "id": "39778528cd4cd81a",
   "metadata": {
    "collapsed": false,
    "jupyter": {
     "outputs_hidden": false
    }
   },
   "outputs": [],
   "source": [
    "isabel_age = 28\n",
    "daniel_age = 30\n",
    "otto_age = 29"
   ]
  },
  {
   "cell_type": "code",
   "execution_count": null,
   "id": "32a5e4b5ac169b09",
   "metadata": {
    "collapsed": false,
    "jupyter": {
     "outputs_hidden": false
    }
   },
   "outputs": [],
   "source": [
    "is_isabel_younger_than_tommy = isabel_age < tommy_age\n",
    "is_isabel_younger_than_daniel = isabel_age < daniel_age"
   ]
  },
  {
   "cell_type": "code",
   "execution_count": null,
   "id": "f36af2b78b8c0933",
   "metadata": {
    "collapsed": false,
    "jupyter": {
     "outputs_hidden": false
    }
   },
   "outputs": [],
   "source": [
    "print(is_isabel_younger_than_tommy and is_isabel_younger_than_daniel)"
   ]
  },
  {
   "cell_type": "markdown",
   "id": "f9622d1f183299b8",
   "metadata": {
    "collapsed": false,
    "jupyter": {
     "outputs_hidden": false
    }
   },
   "source": [
    "#  Practice"
   ]
  },
  {
   "cell_type": "code",
   "execution_count": null,
   "id": "fa1d0e0cd72aa912",
   "metadata": {
    "collapsed": false,
    "jupyter": {
     "outputs_hidden": false
    }
   },
   "outputs": [],
   "source": [
    "# Check whether Isabel is older\n",
    "# than at least one of my friends (Tommy and Daniel)\n",
    "\n",
    "is_isabel_older_than_tommy = isabel_age > tommy_age\n",
    "is_isabel_older_than_daniel = isabel_age > daniel_age\n",
    "\n",
    "print(\"Check if Isabel is older than at least one of my friends\")\n",
    "is_isabel_older_than_at_least_one = is_isabel_older_than_tommy or is_isabel_older_than_daniel\n",
    "\n",
    "print(is_isabel_older_than_at_least_one) "
   ]
  }
 ],
 "metadata": {
  "kernelspec": {
   "display_name": "Python 3 (ipykernel)",
   "language": "python",
   "name": "python3"
  },
  "language_info": {
   "codemirror_mode": {
    "name": "ipython",
    "version": 3
   },
   "file_extension": ".py",
   "mimetype": "text/x-python",
   "name": "python",
   "nbconvert_exporter": "python",
   "pygments_lexer": "ipython3",
   "version": "3.11.7"
  }
 },
 "nbformat": 4,
 "nbformat_minor": 5
}
