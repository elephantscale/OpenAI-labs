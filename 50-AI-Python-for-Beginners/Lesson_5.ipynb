{
 "cells": [
  {
   "cell_type": "markdown",
   "source": [
    "# Lesson 5 - Comparing data in Python"
   ],
   "metadata": {
    "collapsed": false
   },
   "id": "84229da805a3dee6"
  },
  {
   "cell_type": "code",
   "outputs": [],
   "source": [
    "food_preferences_tommy = {\n",
    "    \"favorite_ingredients\": [\"mushrooms\", \"olives\"],\n",
    "    \"experience_level\": \"intermediate\",\n",
    "    \"maximum_spice_level\": 6\n",
    "}\n",
    "\n",
    "food_preferences_tommy[\"is_vegetarian\"] = True\n",
    "print(food_preferences_tommy)"
   ],
   "metadata": {
    "collapsed": false
   },
   "id": "ddee0626845f7fc9",
   "execution_count": null
  },
  {
   "cell_type": "markdown",
   "source": [
    "# True and False"
   ],
   "metadata": {
    "collapsed": false
   },
   "id": "41eac7e594b5bf89"
  },
  {
   "cell_type": "code",
   "outputs": [],
   "source": [
    "print(True)\n",
    "print(False)"
   ],
   "metadata": {
    "collapsed": false
   },
   "id": "42ef16187054c456",
   "execution_count": null
  },
  {
   "cell_type": "code",
   "outputs": [],
   "source": [
    "type(True)\n",
    "type(False)"
   ],
   "metadata": {
    "collapsed": false
   },
   "id": "6e2859fcc6f91f",
   "execution_count": null
  },
  {
   "cell_type": "code",
   "outputs": [],
   "source": [
    "is_tommy_my_friend = True"
   ],
   "metadata": {
    "collapsed": false
   },
   "id": "396189f94f0daeaf",
   "execution_count": null
  },
  {
   "cell_type": "code",
   "outputs": [],
   "source": [
    "is_isabel_older_than_me = False"
   ],
   "metadata": {
    "collapsed": false
   },
   "id": "cad941d53547eefc",
   "execution_count": null
  },
  {
   "cell_type": "code",
   "outputs": [],
   "source": [
    "print(is_tommy_my_friend)"
   ],
   "metadata": {
    "collapsed": false
   },
   "id": "c46e35889cde7d8c",
   "execution_count": null
  },
  {
   "cell_type": "code",
   "outputs": [],
   "source": [
    "type(is_isabel_older_than_me)"
   ],
   "metadata": {
    "collapsed": false
   },
   "id": "491e729760a26244",
   "execution_count": null
  },
  {
   "cell_type": "markdown",
   "source": [
    "# Comparison Operators"
   ],
   "metadata": {
    "collapsed": false
   },
   "id": "df43f26495667f76"
  },
  {
   "cell_type": "code",
   "outputs": [],
   "source": [
    "isabel_age = 28\n",
    "daniel_age = 30\n",
    "tommy_age = 30"
   ],
   "metadata": {
    "collapsed": false
   },
   "id": "7875c68094be1af8",
   "execution_count": null
  },
  {
   "cell_type": "code",
   "outputs": [],
   "source": [
    "print(isabel_age > daniel_age) "
   ],
   "metadata": {
    "collapsed": false
   },
   "id": "2d862e558747a3c5",
   "execution_count": null
  },
  {
   "cell_type": "code",
   "outputs": [],
   "source": [
    "print(isabel_age < daniel_age) "
   ],
   "metadata": {
    "collapsed": false
   },
   "id": "ccb2f26b44d62acc",
   "execution_count": null
  },
  {
   "cell_type": "code",
   "outputs": [],
   "source": [
    "is_isabel_older_than_daniel = isabel_age > daniel_age\n",
    "print(is_isabel_older_than_daniel)"
   ],
   "metadata": {
    "collapsed": false
   },
   "id": "f8a5f26ba533d98f",
   "execution_count": null
  },
  {
   "cell_type": "code",
   "outputs": [],
   "source": [
    "print(isabel_age <= daniel_age)"
   ],
   "metadata": {
    "collapsed": false
   },
   "id": "2302a397823c9460",
   "execution_count": null
  },
  {
   "cell_type": "code",
   "outputs": [],
   "source": [
    "print(tommy_age < daniel_age)"
   ],
   "metadata": {
    "collapsed": false
   },
   "id": "ed17ef569d268c66",
   "execution_count": null
  },
  {
   "cell_type": "code",
   "outputs": [],
   "source": [
    "print(tommy_age <= daniel_age)"
   ],
   "metadata": {
    "collapsed": false
   },
   "id": "5031b3a65ee82596",
   "execution_count": null
  },
  {
   "cell_type": "markdown",
   "source": [
    "# Equality Operator"
   ],
   "metadata": {
    "collapsed": false
   },
   "id": "9f1ba8c1dc902029"
  },
  {
   "cell_type": "code",
   "outputs": [],
   "source": [
    "print(tommy_age == daniel_age)"
   ],
   "metadata": {
    "collapsed": false
   },
   "id": "c5bde06de40722f3",
   "execution_count": null
  },
  {
   "cell_type": "code",
   "outputs": [],
   "source": [
    "print(isabel_age == daniel_age) "
   ],
   "metadata": {
    "collapsed": false
   },
   "id": "dd1debf60da8e39",
   "execution_count": null
  },
  {
   "cell_type": "code",
   "outputs": [],
   "source": [
    "print(\"vegetarian\" == \"vegan\")"
   ],
   "metadata": {
    "collapsed": false
   },
   "id": "e5c7ea2a5439078f",
   "execution_count": null
  },
  {
   "cell_type": "markdown",
   "source": [
    "# Logical Operators"
   ],
   "metadata": {
    "collapsed": false
   },
   "id": "9e6f91442f8aec0c"
  },
  {
   "cell_type": "code",
   "outputs": [],
   "source": [
    "is_tommy_my_friend = True\n",
    "is_isabel_my_friend = True"
   ],
   "metadata": {
    "collapsed": false
   },
   "id": "6cec984a62a08b79",
   "execution_count": null
  },
  {
   "cell_type": "code",
   "outputs": [],
   "source": [
    "print(is_tommy_my_friend and is_isabel_my_friend)"
   ],
   "metadata": {
    "collapsed": false
   },
   "id": "58cd59c573e2cec",
   "execution_count": null
  },
  {
   "cell_type": "code",
   "outputs": [],
   "source": [
    "print(is_tommy_my_friend or is_isabel_my_friend)"
   ],
   "metadata": {
    "collapsed": false
   },
   "id": "d953b3c5467fa97a",
   "execution_count": null
  },
  {
   "cell_type": "code",
   "outputs": [],
   "source": [
    "isabel_age = 28\n",
    "daniel_age = 30\n",
    "otto_age = 29"
   ],
   "metadata": {
    "collapsed": false
   },
   "id": "39778528cd4cd81a",
   "execution_count": null
  },
  {
   "cell_type": "code",
   "outputs": [],
   "source": [
    "is_isabel_younger_than_tommy = isabel_age < tommy_age\n",
    "is_isabel_younger_than_daniel = isabel_age < daniel_age"
   ],
   "metadata": {
    "collapsed": false
   },
   "id": "32a5e4b5ac169b09",
   "execution_count": null
  },
  {
   "cell_type": "code",
   "outputs": [],
   "source": [
    "print(is_isabel_younger_than_tommy and is_isabel_younger_than_daniel)"
   ],
   "metadata": {
    "collapsed": false
   },
   "id": "f36af2b78b8c0933",
   "execution_count": null
  },
  {
   "cell_type": "markdown",
   "source": [
    "#  Practice"
   ],
   "metadata": {
    "collapsed": false
   },
   "id": "f9622d1f183299b8"
  },
  {
   "cell_type": "code",
   "outputs": [],
   "source": [
    "# Check whether Isabel is older\n",
    "# than at least one of my friends (Tommy and Daniel)\n",
    "\n",
    "is_isabel_older_than_tommy = isabel_age > tommy_age\n",
    "is_isabel_older_than_daniel = isabel_age > daniel_age\n",
    "\n",
    "print(\"Check if Isabel is older than at least one of my friends\")\n",
    "is_isabel_older_than_at_least_one = is_isabel_older_than_tommy or is_isabel_older_than_daniel\n",
    "\n",
    "print(is_isabel_older_than_at_least_one) "
   ],
   "metadata": {
    "collapsed": false
   },
   "id": "fa1d0e0cd72aa912",
   "execution_count": null
  }
 ],
 "metadata": {
  "kernelspec": {
   "display_name": "Python 3",
   "language": "python",
   "name": "python3"
  },
  "language_info": {
   "codemirror_mode": {
    "name": "ipython",
    "version": 2
   },
   "file_extension": ".py",
   "mimetype": "text/x-python",
   "name": "python",
   "nbconvert_exporter": "python",
   "pygments_lexer": "ipython2",
   "version": "2.7.6"
  }
 },
 "nbformat": 4,
 "nbformat_minor": 5
}
