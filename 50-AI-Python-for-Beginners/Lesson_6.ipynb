{
 "cells": [
  {
   "cell_type": "markdown",
   "source": [
    "# Lesson 6 - Helping AI make decisions"
   ],
   "metadata": {
    "collapsed": false
   },
   "id": "54b68fad536addcb"
  },
  {
   "cell_type": "code",
   "outputs": [],
   "source": [
    "from helper_functions import print_llm_response"
   ],
   "metadata": {
    "collapsed": false
   },
   "id": "3dc95beed8225e13",
   "execution_count": null
  },
  {
   "cell_type": "markdown",
   "source": [
    "# Performing tasks depending on their time to completion"
   ],
   "metadata": {
    "collapsed": false
   },
   "id": "c2fce547a9228d46"
  },
  {
   "cell_type": "code",
   "outputs": [],
   "source": [
    "task_list = [\n",
    "    {\n",
    "        \"description\": \"Compose a brief email to my boss explaining that I will be late for next week's meeting.\",\n",
    "        \"time_to_complete\": 3\n",
    "    },\n",
    "    {\n",
    "        \"description\": \"Create an outline for a presentation on the benefits of remote work.\",\n",
    "        \"time_to_complete\": 60\n",
    "    },\n",
    "    {\n",
    "        \"description\": \"Write a 300-word review of the movie 'The Arrival'.\",\n",
    "        \"time_to_complete\": 30\n",
    "    },\n",
    "    {\n",
    "        \"description\": \"Create a shopping list for tofu and olive stir fry.\",\n",
    "        \"time_to_complete\": 5\n",
    "    }\n",
    "]"
   ],
   "metadata": {
    "collapsed": false
   },
   "id": "90165e6fc95e96da",
   "execution_count": null
  },
  {
   "cell_type": "code",
   "outputs": [],
   "source": [
    "task = task_list[0]\n",
    "print(task)"
   ],
   "metadata": {
    "collapsed": false
   },
   "id": "69f52160b929dd67",
   "execution_count": null
  },
  {
   "cell_type": "code",
   "outputs": [],
   "source": [
    "task[\"time_to_complete\"] <= 5"
   ],
   "metadata": {
    "collapsed": false
   },
   "id": "8eb1f460ec82ee5e",
   "execution_count": null
  },
  {
   "cell_type": "code",
   "outputs": [],
   "source": [
    "if task[\"time_to_complete\"] <= 5:\n",
    "    task_to_do = task[\"description\"]\n",
    "    print_llm_response(task_to_do)"
   ],
   "metadata": {
    "collapsed": false
   },
   "id": "5c0dea971742d23b",
   "execution_count": null
  },
  {
   "cell_type": "code",
   "outputs": [],
   "source": [
    "task = task_list[1]\n",
    "if task[\"time_to_complete\"] <= 5:\n",
    "    task_to_do = task[\"description\"]\n",
    "    print_llm_response(task_to_do)"
   ],
   "metadata": {
    "collapsed": false
   },
   "id": "6a711f5705e13982",
   "execution_count": null
  },
  {
   "cell_type": "code",
   "outputs": [],
   "source": [
    "task[\"time_to_complete\"] <= 5"
   ],
   "metadata": {
    "collapsed": false
   },
   "id": "1d9af7b7d2054ba3",
   "execution_count": null
  },
  {
   "cell_type": "code",
   "outputs": [],
   "source": [
    "task = task_list[2]\n",
    "if task[\"time_to_complete\"] <= 5:\n",
    "    task_to_do = task[\"description\"]\n",
    "    print_llm_response(task_to_do)"
   ],
   "metadata": {
    "collapsed": false
   },
   "id": "ca4d993ea567185",
   "execution_count": null
  },
  {
   "cell_type": "code",
   "outputs": [],
   "source": [
    "task = task_list[3]\n",
    "if task[\"time_to_complete\"] <= 5:\n",
    "    task_to_do = task[\"description\"]\n",
    "    print_llm_response(task_to_do)"
   ],
   "metadata": {
    "collapsed": false
   },
   "id": "24c2ec12457e7306",
   "execution_count": null
  },
  {
   "cell_type": "markdown",
   "source": [
    "# Looping through the task list"
   ],
   "metadata": {
    "collapsed": false
   },
   "id": "c8477d2b0735708c"
  },
  {
   "cell_type": "code",
   "outputs": [],
   "source": [
    "for task in task_list:\n",
    "    if task[\"time_to_complete\"] <= 5:\n",
    "        task_to_do = task[\"description\"]\n",
    "        print_llm_response(task_to_do)"
   ],
   "metadata": {
    "collapsed": false
   },
   "id": "c28b13a326a8cfae",
   "execution_count": null
  },
  {
   "cell_type": "markdown",
   "source": [
    "# if-else blocks"
   ],
   "metadata": {
    "collapsed": false
   },
   "id": "91593c7a7b105f0b"
  },
  {
   "cell_type": "code",
   "outputs": [],
   "source": [
    "for task in task_list:\n",
    "    if task[\"time_to_complete\"] <= 5:\n",
    "        task_to_do = task[\"description\"]\n",
    "        print_llm_response(task_to_do)\n",
    "    else:\n",
    "        print(f\"To complete later: {task['time_to_complete']} time to complete.\")"
   ],
   "metadata": {
    "collapsed": false
   },
   "id": "c024b76075b5a516",
   "execution_count": null
  },
  {
   "cell_type": "markdown",
   "source": [
    "# Saving tasks for later using lists"
   ],
   "metadata": {
    "collapsed": false
   },
   "id": "d792b89a082d0023"
  },
  {
   "cell_type": "code",
   "outputs": [],
   "source": [
    "tasks_for_later = []\n",
    "\n",
    "for task in task_list:\n",
    "    if task[\"time_to_complete\"] <= 5:\n",
    "        task_to_do = task[\"description\"]\n",
    "        print_llm_response(task_to_do)\n",
    "    else:\n",
    "        tasks_for_later.append(task)"
   ],
   "metadata": {
    "collapsed": false
   },
   "id": "95aea408cc7c89b4",
   "execution_count": null
  },
  {
   "cell_type": "code",
   "outputs": [],
   "source": [
    "print(tasks_for_later)"
   ],
   "metadata": {
    "collapsed": false
   },
   "id": "eb8a6dea4e236567",
   "execution_count": null
  },
  {
   "cell_type": "markdown",
   "source": [
    "# practice"
   ],
   "metadata": {
    "collapsed": false
   },
   "id": "c116a3856f4d93"
  },
  {
   "cell_type": "code",
   "outputs": [],
   "source": [
    "# Modify this code to complete the task \n",
    "# if it takes more than 15 minutes\n",
    "\n",
    "task = task_list[2]\n",
    "\n",
    "if task[\"time_to_complete\"] > 15:\n",
    "    task_to_do = task[\"description\"]\n",
    "    print_llm_response(task_to_do)"
   ],
   "metadata": {
    "collapsed": false
   },
   "id": "e2b7d4b66ac5a5a0",
   "execution_count": null
  },
  {
   "cell_type": "code",
   "outputs": [],
   "source": [
    "# Fix the code here by only using indentation.\n",
    "# It should print a message if the \"Chocolate\" ice cream flavor \n",
    "# is located in the ice_cream_flavors list.\n",
    "\n",
    "ice_cream_flavors = [\n",
    "    \"Vanilla\", \"Strawberry\", \"Mint Chocolate Chip\",\n",
    "    \"Cookies and Cream\", \"Rocky Road\", \"Butter Pecan\",\n",
    "    \"Pistachio\", \"Salted Caramel\", \"Chocolate\",\n",
    "    \"Mango\"\n",
    "]\n",
    "\n",
    "for flavor in ice_cream_flavors:\n",
    "    if flavor == \"Chocolate\":\n",
    "        print(f\"The list of flavors contains {flavor}, Andrew's favorite.\")"
   ],
   "metadata": {
    "collapsed": false
   },
   "id": "a51478f6d7b16bf1",
   "execution_count": null
  },
  {
   "cell_type": "code",
   "outputs": [],
   "source": [
    "# Add variables to the f-string to provide the\n",
    "# task description as well as the time to complete \n",
    "# for the tasks that are left for later.\n",
    "\n",
    "for task in task_list:\n",
    "    if task[\"time_to_complete\"] <= 5:\n",
    "        task_to_do = task[\"description\"]\n",
    "        print_llm_response(task_to_do)\n",
    "    else:\n",
    "        print(f\"To complete later: {task['description']} (Time to complete: {task['time_to_complete']} minutes)\")\n"
   ],
   "metadata": {
    "collapsed": false
   },
   "id": "4d40f294931cbaed",
   "execution_count": null
  }
 ],
 "metadata": {
  "kernelspec": {
   "display_name": "Python 3",
   "language": "python",
   "name": "python3"
  },
  "language_info": {
   "codemirror_mode": {
    "name": "ipython",
    "version": 2
   },
   "file_extension": ".py",
   "mimetype": "text/x-python",
   "name": "python",
   "nbconvert_exporter": "python",
   "pygments_lexer": "ipython2",
   "version": "2.7.6"
  }
 },
 "nbformat": 4,
 "nbformat_minor": 5
}
