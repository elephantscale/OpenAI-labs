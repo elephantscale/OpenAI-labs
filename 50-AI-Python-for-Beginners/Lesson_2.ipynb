{
 "cells": [
  {
   "cell_type": "markdown",
   "id": "eecdf6db7f9ff215",
   "metadata": {
    "collapsed": false,
    "jupyter": {
     "outputs_hidden": false
    }
   },
   "source": [
    "# Lesson 2 - Repeating tasks with for loops"
   ]
  },
  {
   "cell_type": "code",
   "execution_count": null,
   "id": "72a847969cdd10e1",
   "metadata": {
    "collapsed": false,
    "jupyter": {
     "outputs_hidden": false
    }
   },
   "outputs": [],
   "source": [
    "from helper_functions import print_llm_response, get_llm_response\n",
    "\n",
    "list_of_tasks = [\n",
    "    \"Compose a brief email to my boss explaining that I will be late for tomorrow's meeting.\",\n",
    "    \"Write a birthday poem for Otto, celebrating his 28th birthday.\",\n",
    "    \"Write a 300-word review of the movie 'The Arrival'.\"\n",
    "]\n",
    "print(list_of_tasks)"
   ]
  },
  {
   "cell_type": "code",
   "execution_count": null,
   "id": "5d644657c114e259",
   "metadata": {
    "collapsed": false,
    "jupyter": {
     "outputs_hidden": false
    }
   },
   "outputs": [],
   "source": [
    "task = list_of_tasks[0]\n",
    "print_llm_response(task)"
   ]
  },
  {
   "cell_type": "code",
   "execution_count": null,
   "id": "4279c61590aca591",
   "metadata": {
    "collapsed": false,
    "jupyter": {
     "outputs_hidden": false
    }
   },
   "outputs": [],
   "source": [
    "for task in list_of_tasks:\n",
    "    print_llm_response(task)"
   ]
  },
  {
   "cell_type": "markdown",
   "id": "641d59ee74c5d476",
   "metadata": {
    "collapsed": false,
    "jupyter": {
     "outputs_hidden": false
    }
   },
   "source": [
    "# Iteratively updating AI prompts using lists"
   ]
  },
  {
   "cell_type": "code",
   "execution_count": null,
   "id": "6e845e2d59c06f12",
   "metadata": {
    "collapsed": false,
    "jupyter": {
     "outputs_hidden": false
    }
   },
   "outputs": [],
   "source": [
    "ice_cream_flavors = [\n",
    "    \"Vanilla\",\n",
    "    \"Chocolate\",\n",
    "    \"Strawberry\",\n",
    "    \"Mint Chocolate Chip\"\n",
    "]"
   ]
  },
  {
   "cell_type": "code",
   "execution_count": null,
   "id": "9ce2149722051515",
   "metadata": {
    "collapsed": false,
    "jupyter": {
     "outputs_hidden": false
    }
   },
   "outputs": [],
   "source": [
    "for flavor in ice_cream_flavors:\n",
    "    prompt = f\"\"\"For the ice cream flavor listed below, \n",
    "    provide a captivating description that could be used for promotional purposes.\n",
    "\n",
    "    Flavor: {flavor}\n",
    "\n",
    "    \"\"\"\n",
    "    print_llm_response(prompt)"
   ]
  },
  {
   "cell_type": "code",
   "execution_count": null,
   "id": "60cb70597e6aac0b",
   "metadata": {
    "collapsed": false,
    "jupyter": {
     "outputs_hidden": false
    }
   },
   "outputs": [],
   "source": [
    "promotional_descriptions = []\n",
    "for flavor in ice_cream_flavors:\n",
    "    prompt = f\"\"\"For the ice cream flavor listed below, \n",
    "    provide a captivating description that could be used for promotional purposes.\n",
    "\n",
    "    Flavor: {flavor}\n",
    "\n",
    "    \"\"\"\n",
    "    description = get_llm_response(prompt)\n",
    "    promotional_descriptions.append(description)"
   ]
  },
  {
   "cell_type": "code",
   "execution_count": null,
   "id": "b568fe4ac3799e79",
   "metadata": {
    "collapsed": false,
    "jupyter": {
     "outputs_hidden": false
    }
   },
   "outputs": [],
   "source": [
    "ice_cream_flavors = [\"Chocolate\", \"Mint Chocolate Chip\"]\n",
    "for flavor in ice_cream_flavors:\n",
    "    print(flavor)"
   ]
  },
  {
   "cell_type": "code",
   "execution_count": null,
   "id": "5bcdcc4c845f2081",
   "metadata": {
    "collapsed": false,
    "jupyter": {
     "outputs_hidden": false
    }
   },
   "outputs": [],
   "source": [
    "ice_cream_flavors = [\"Vanilla\", \"Strawberry\"]\n",
    "for flavor in ice_cream_flavors:\n",
    "    prompt = f\"\"\"For the ice cream flavor listed below, \n",
    "    convert each flavour string to spanish language\n",
    "    and only print the flavour name nothing else\n",
    "    Flavor: {flavor}\n",
    "    \"\"\"\n",
    "    print_llm_response(prompt)"
   ]
  },
  {
   "cell_type": "code",
   "execution_count": null,
   "id": "65c4925bcffaf818",
   "metadata": {
    "collapsed": false,
    "jupyter": {
     "outputs_hidden": false
    }
   },
   "outputs": [],
   "source": [
    "words_with_typos = [\"Aple\", \"Wether\", \"Newpaper\"]\n",
    "words_without_typos = []\n",
    "\n",
    "for word in words_with_typos:\n",
    "    prompt = f\"\"\"Fix the spelling mistake in the following word: {word}\n",
    "    Provide only the word.\n",
    "    \"\"\"\n",
    "    correct_word = get_llm_response(prompt)\n",
    "    words_without_typos.append(correct_word)\n",
    "\n",
    "print(words_without_typos)"
   ]
  }
 ],
 "metadata": {
  "kernelspec": {
   "display_name": "Python 3 (ipykernel)",
   "language": "python",
   "name": "python3"
  },
  "language_info": {
   "codemirror_mode": {
    "name": "ipython",
    "version": 3
   },
   "file_extension": ".py",
   "mimetype": "text/x-python",
   "name": "python",
   "nbconvert_exporter": "python",
   "pygments_lexer": "ipython3",
   "version": "3.11.7"
  }
 },
 "nbformat": 4,
 "nbformat_minor": 5
}
