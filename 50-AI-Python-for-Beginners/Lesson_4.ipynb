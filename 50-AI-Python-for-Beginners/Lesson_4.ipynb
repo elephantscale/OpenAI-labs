{
 "cells": [
  {
   "cell_type": "markdown",
   "id": "ec5aa3f1fb47139",
   "metadata": {
    "collapsed": false,
    "jupyter": {
     "outputs_hidden": false
    }
   },
   "source": [
    "# Lesson 4 - Customizing recipes with lists, dictionaries and AI"
   ]
  },
  {
   "cell_type": "code",
   "execution_count": null,
   "id": "ad99cbf18f7bcacd",
   "metadata": {
    "collapsed": false,
    "jupyter": {
     "outputs_hidden": false
    }
   },
   "outputs": [],
   "source": [
    "from helper_functions import print_llm_response, get_llm_response"
   ]
  },
  {
   "cell_type": "markdown",
   "id": "8e4dee4e2437609a",
   "metadata": {
    "collapsed": false,
    "jupyter": {
     "outputs_hidden": false
    }
   },
   "source": [
    "## Food preference dictionaries"
   ]
  },
  {
   "cell_type": "code",
   "execution_count": null,
   "id": "e9c140fa5a59609",
   "metadata": {
    "collapsed": false,
    "jupyter": {
     "outputs_hidden": false
    }
   },
   "outputs": [],
   "source": [
    "food_preferences_tommy = {\n",
    "        \"dietary_restrictions\": \"vegetarian\",\n",
    "        \"favorite_ingredients\": [\"tofu\", \"olives\"],\n",
    "        \"experience_level\": \"intermediate\",\n",
    "        \"maximum_spice_level\": 6\n",
    "}"
   ]
  },
  {
   "cell_type": "code",
   "execution_count": null,
   "id": "d1a80d2777c7f097",
   "metadata": {
    "collapsed": false,
    "jupyter": {
     "outputs_hidden": false
    }
   },
   "outputs": [],
   "source": [
    "print(food_preferences_tommy.keys())"
   ]
  },
  {
   "cell_type": "code",
   "execution_count": null,
   "id": "89af270c9a4cf6b3",
   "metadata": {
    "collapsed": false,
    "jupyter": {
     "outputs_hidden": false
    }
   },
   "outputs": [],
   "source": [
    "print(food_preferences_tommy.values())"
   ]
  },
  {
   "cell_type": "markdown",
   "id": "532602d331ec2742",
   "metadata": {
    "collapsed": false,
    "jupyter": {
     "outputs_hidden": false
    }
   },
   "source": [
    "# Using keys and values within AI prompt"
   ]
  },
  {
   "cell_type": "code",
   "execution_count": null,
   "id": "7ada004984ab51f5",
   "metadata": {
    "collapsed": false,
    "jupyter": {
     "outputs_hidden": false
    }
   },
   "outputs": [],
   "source": [
    "prompt = f\"\"\"Please suggest a recipe that tries to include \n",
    "the following ingredients: \n",
    "{food_preferences_tommy[\"favorite_ingredients\"]}.\n",
    "The recipe should adhere to the following dietary restrictions:\n",
    "{food_preferences_tommy[\"dietary_restrictions\"]}.\n",
    "The difficulty of the recipe should be: \n",
    "{food_preferences_tommy[\"experience_level\"]}\n",
    "The maximum spice level on a scale of 10 should be: \n",
    "{food_preferences_tommy[\"maximum_spice_level\"]} \n",
    "Provide a two sentence description.\n",
    "\"\"\"\n",
    "print(prompt)"
   ]
  },
  {
   "cell_type": "code",
   "execution_count": null,
   "id": "e3f2685522e9154f",
   "metadata": {
    "collapsed": false,
    "jupyter": {
     "outputs_hidden": false
    }
   },
   "outputs": [],
   "source": [
    "print_llm_response(prompt)"
   ]
  },
  {
   "cell_type": "markdown",
   "id": "925f1c3498ce11a5",
   "metadata": {
    "collapsed": false,
    "jupyter": {
     "outputs_hidden": false
    }
   },
   "source": [
    "## Refining the prompt with available ingredients"
   ]
  },
  {
   "cell_type": "code",
   "execution_count": null,
   "id": "fb9c29ad826ee20c",
   "metadata": {
    "collapsed": false,
    "jupyter": {
     "outputs_hidden": false
    }
   },
   "outputs": [],
   "source": [
    "available_spices = [\"cumin\", \"turmeric\", \"oregano\", \"paprika\"]"
   ]
  },
  {
   "cell_type": "code",
   "execution_count": null,
   "id": "550586e372234868",
   "metadata": {
    "collapsed": false,
    "jupyter": {
     "outputs_hidden": false
    }
   },
   "outputs": [],
   "source": [
    "prompt = f\"\"\"Please suggest a recipe that tries to include \n",
    "the following ingredients: \n",
    "{food_preferences_tommy[\"favorite_ingredients\"]}.\n",
    "The recipe should adhere to the following dietary restrictions:\n",
    "{food_preferences_tommy[\"dietary_restrictions\"]}.\n",
    "The difficulty of the recipe should be: \n",
    "{food_preferences_tommy[\"experience_level\"]}\n",
    "The maximum spice level on a scale of 10 should be: \n",
    "{food_preferences_tommy[\"maximum_spice_level\"]} \n",
    "Provide a two sentence description.\n",
    "\n",
    "The recipe should not include spices outside of this list:\n",
    "Spices: {available_spices}\n",
    "\"\"\"\n",
    "print(prompt)"
   ]
  },
  {
   "cell_type": "code",
   "execution_count": null,
   "id": "2b90d01c4b29fad3",
   "metadata": {
    "collapsed": false,
    "jupyter": {
     "outputs_hidden": false
    }
   },
   "outputs": [],
   "source": [
    "recipe = get_llm_response(prompt)"
   ]
  },
  {
   "cell_type": "code",
   "execution_count": null,
   "id": "ba3a952c8c74e8a5",
   "metadata": {
    "collapsed": false,
    "jupyter": {
     "outputs_hidden": false
    }
   },
   "outputs": [],
   "source": [
    "print(recipe)"
   ]
  },
  {
   "cell_type": "code",
   "execution_count": null,
   "id": "52f04a55e28753c6",
   "metadata": {
    "collapsed": false,
    "jupyter": {
     "outputs_hidden": false
    }
   },
   "outputs": [],
   "source": [
    "print(food_preferences_tommy[\"dietary_restrictions\"])"
   ]
  },
  {
   "cell_type": "code",
   "execution_count": null,
   "id": "b0c1e6c67f129c4",
   "metadata": {
    "collapsed": false,
    "jupyter": {
     "outputs_hidden": false
    }
   },
   "outputs": [],
   "source": [
    "food_preferences_tommy[\"is_vegetarian\"] = True"
   ]
  },
  {
   "cell_type": "code",
   "execution_count": null,
   "id": "29ed14433484776b",
   "metadata": {
    "collapsed": false,
    "jupyter": {
     "outputs_hidden": false
    }
   },
   "outputs": [],
   "source": [
    "print(food_preferences_tommy)"
   ]
  },
  {
   "cell_type": "markdown",
   "id": "8665d5bd02e0f281",
   "metadata": {
    "collapsed": false,
    "jupyter": {
     "outputs_hidden": false
    }
   },
   "source": [
    "## Practice"
   ]
  },
  {
   "cell_type": "code",
   "execution_count": null,
   "id": "f06ef7bb7af6ff58",
   "metadata": {
    "collapsed": false,
    "jupyter": {
     "outputs_hidden": false
    }
   },
   "outputs": [],
   "source": [
    "# Update the following dictionary \n",
    "# with your own preferences \n",
    "\n",
    "my_food_preferences = {\n",
    "        \"dietary_restrictions\": [\"Non-vegetarian\"], #List with dietary restrictions\n",
    "        \"favorite_ingredients\": [\"chicken\",\"fish\"], #List with top three favorite ingredients\n",
    "        \"experience_level\": [\"professional\"],#Experience level\n",
    "        \"maximum_spice_level\": 3 #Spice level in a scale from 1 to 10\n",
    "}\n",
    "\n",
    "print(my_food_preferences)"
   ]
  },
  {
   "cell_type": "code",
   "execution_count": null,
   "id": "bc0d42db9556f6af",
   "metadata": {
    "collapsed": false,
    "jupyter": {
     "outputs_hidden": false
    }
   },
   "outputs": [],
   "source": [
    "# Modify the following prompt, \n",
    "# without adding more than two sentences,\n",
    "# so that the provided recipe includes detailed instructions.\n",
    "\n",
    "prompt = f\"\"\"Please suggest a recipe that tries to include \n",
    "the following ingredients: \n",
    "{food_preferences_tommy[\"favorite_ingredients\"]}.\n",
    "The recipe should adhere to the following dietary restrictions:\n",
    "{food_preferences_tommy[\"dietary_restrictions\"]}.\n",
    "The difficulty of the recipe should be: \n",
    "{food_preferences_tommy[\"experience_level\"]}\n",
    "The maximum spice level on a scale of 10 should be: \n",
    "{food_preferences_tommy[\"maximum_spice_level\"]} \n",
    "Provide step-by-step instructions.\n",
    "\"\"\"\n",
    "\n",
    "print_llm_response(prompt)"
   ]
  }
 ],
 "metadata": {
  "kernelspec": {
   "display_name": "Python 3 (ipykernel)",
   "language": "python",
   "name": "python3"
  },
  "language_info": {
   "codemirror_mode": {
    "name": "ipython",
    "version": 3
   },
   "file_extension": ".py",
   "mimetype": "text/x-python",
   "name": "python",
   "nbconvert_exporter": "python",
   "pygments_lexer": "ipython3",
   "version": "3.11.7"
  }
 },
 "nbformat": 4,
 "nbformat_minor": 5
}
