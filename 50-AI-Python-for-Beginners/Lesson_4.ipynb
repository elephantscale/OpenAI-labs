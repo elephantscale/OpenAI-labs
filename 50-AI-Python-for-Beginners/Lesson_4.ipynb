{
 "cells": [
  {
   "cell_type": "markdown",
   "source": [
    "# Lesson 4 - Customizing recipes with lists, dictionaries and AI"
   ],
   "metadata": {
    "collapsed": false
   },
   "id": "ec5aa3f1fb47139"
  },
  {
   "cell_type": "code",
   "outputs": [],
   "source": [
    "from helper_functions import print_llm_response, get_llm_response"
   ],
   "metadata": {
    "collapsed": false
   },
   "id": "ad99cbf18f7bcacd",
   "execution_count": null
  },
  {
   "cell_type": "markdown",
   "source": [
    "## Food preference dictionaries"
   ],
   "metadata": {
    "collapsed": false
   },
   "id": "8e4dee4e2437609a"
  },
  {
   "cell_type": "code",
   "outputs": [],
   "source": [
    "food_preferences_tommy = {\n",
    "        \"dietary_restrictions\": \"vegetarian\",\n",
    "        \"favorite_ingredients\": [\"tofu\", \"olives\"],\n",
    "        \"experience_level\": \"intermediate\",\n",
    "        \"maximum_spice_level\": 6\n",
    "}"
   ],
   "metadata": {
    "collapsed": false
   },
   "id": "e9c140fa5a59609",
   "execution_count": null
  },
  {
   "cell_type": "code",
   "outputs": [],
   "source": [
    "print(food_preferences_tommy.keys())"
   ],
   "metadata": {
    "collapsed": false
   },
   "id": "d1a80d2777c7f097",
   "execution_count": null
  },
  {
   "cell_type": "code",
   "outputs": [],
   "source": [
    "print(food_preferences_tommy.values())"
   ],
   "metadata": {
    "collapsed": false
   },
   "id": "89af270c9a4cf6b3",
   "execution_count": null
  },
  {
   "cell_type": "markdown",
   "source": [
    "# Using keys and values within AI prompt"
   ],
   "metadata": {
    "collapsed": false
   },
   "id": "532602d331ec2742"
  },
  {
   "cell_type": "code",
   "outputs": [],
   "source": [
    "prompt = f\"\"\"Please suggest a recipe that tries to include \n",
    "the following ingredients: \n",
    "{food_preferences_tommy[\"favorite_ingredients\"]}.\n",
    "The recipe should adhere to the following dietary restrictions:\n",
    "{food_preferences_tommy[\"dietary_restrictions\"]}.\n",
    "The difficulty of the recipe should be: \n",
    "{food_preferences_tommy[\"experience_level\"]}\n",
    "The maximum spice level on a scale of 10 should be: \n",
    "{food_preferences_tommy[\"maximum_spice_level\"]} \n",
    "Provide a two sentence description.\n",
    "\"\"\"\n",
    "print(prompt)"
   ],
   "metadata": {
    "collapsed": false
   },
   "id": "7ada004984ab51f5",
   "execution_count": null
  },
  {
   "cell_type": "code",
   "outputs": [],
   "source": [
    "print_llm_response(prompt)"
   ],
   "metadata": {
    "collapsed": false
   },
   "id": "e3f2685522e9154f",
   "execution_count": null
  },
  {
   "cell_type": "markdown",
   "source": [
    "## Refining the prompt with available ingredients"
   ],
   "metadata": {
    "collapsed": false
   },
   "id": "925f1c3498ce11a5"
  },
  {
   "cell_type": "code",
   "outputs": [],
   "source": [
    "available_spices = [\"cumin\", \"turmeric\", \"oregano\", \"paprika\"]"
   ],
   "metadata": {
    "collapsed": false
   },
   "id": "fb9c29ad826ee20c",
   "execution_count": null
  },
  {
   "cell_type": "code",
   "outputs": [],
   "source": [
    "prompt = f\"\"\"Please suggest a recipe that tries to include \n",
    "the following ingredients: \n",
    "{food_preferences_tommy[\"favorite_ingredients\"]}.\n",
    "The recipe should adhere to the following dietary restrictions:\n",
    "{food_preferences_tommy[\"dietary_restrictions\"]}.\n",
    "The difficulty of the recipe should be: \n",
    "{food_preferences_tommy[\"experience_level\"]}\n",
    "The maximum spice level on a scale of 10 should be: \n",
    "{food_preferences_tommy[\"maximum_spice_level\"]} \n",
    "Provide a two sentence description.\n",
    "\n",
    "The recipe should not include spices outside of this list:\n",
    "Spices: {available_spices}\n",
    "\"\"\"\n",
    "print(prompt)"
   ],
   "metadata": {
    "collapsed": false
   },
   "id": "550586e372234868",
   "execution_count": null
  },
  {
   "cell_type": "code",
   "outputs": [],
   "source": [
    "recipe = get_llm_response(prompt)"
   ],
   "metadata": {
    "collapsed": false
   },
   "id": "2b90d01c4b29fad3",
   "execution_count": null
  },
  {
   "cell_type": "code",
   "outputs": [],
   "source": [
    "print(recipe)"
   ],
   "metadata": {
    "collapsed": false
   },
   "id": "ba3a952c8c74e8a5",
   "execution_count": null
  },
  {
   "cell_type": "code",
   "outputs": [],
   "source": [
    "print(food_preferences_tommy[\"dietary_restrictions\"])"
   ],
   "metadata": {
    "collapsed": false
   },
   "id": "52f04a55e28753c6",
   "execution_count": null
  },
  {
   "cell_type": "code",
   "outputs": [],
   "source": [
    "food_preferences_tommy[\"is_vegetarian\"] = True"
   ],
   "metadata": {
    "collapsed": false
   },
   "id": "b0c1e6c67f129c4",
   "execution_count": null
  },
  {
   "cell_type": "code",
   "outputs": [],
   "source": [
    "print(food_preferences_tommy)"
   ],
   "metadata": {
    "collapsed": false
   },
   "id": "29ed14433484776b",
   "execution_count": null
  },
  {
   "cell_type": "markdown",
   "source": [
    "## Practice"
   ],
   "metadata": {
    "collapsed": false
   },
   "id": "8665d5bd02e0f281"
  },
  {
   "cell_type": "code",
   "outputs": [],
   "source": [
    "# Update the following dictionary \n",
    "# with your own preferences \n",
    "\n",
    "my_food_preferences = {\n",
    "        \"dietary_restrictions\": [\"Non-vegetarian\"], #List with dietary restrictions\n",
    "        \"favorite_ingredients\": [\"chicken\",\"fish\"], #List with top three favorite ingredients\n",
    "        \"experience_level\": [\"professional\"],#Experience level\n",
    "        \"maximum_spice_level\": 3 #Spice level in a scale from 1 to 10\n",
    "}\n",
    "\n",
    "print(my_food_preferences)"
   ],
   "metadata": {
    "collapsed": false
   },
   "id": "f06ef7bb7af6ff58",
   "execution_count": null
  },
  {
   "cell_type": "code",
   "outputs": [],
   "source": [
    "# Modify the following prompt, \n",
    "# without adding more than two sentences,\n",
    "# so that the provided recipe includes detailed instructions.\n",
    "\n",
    "prompt = f\"\"\"Please suggest a recipe that tries to include \n",
    "the following ingredients: \n",
    "{food_preferences_tommy[\"favorite_ingredients\"]}.\n",
    "The recipe should adhere to the following dietary restrictions:\n",
    "{food_preferences_tommy[\"dietary_restrictions\"]}.\n",
    "The difficulty of the recipe should be: \n",
    "{food_preferences_tommy[\"experience_level\"]}\n",
    "The maximum spice level on a scale of 10 should be: \n",
    "{food_preferences_tommy[\"maximum_spice_level\"]} \n",
    "Provide step-by-step instructions.\n",
    "\"\"\"\n",
    "\n",
    "print_llm_response(prompt)"
   ],
   "metadata": {
    "collapsed": false
   },
   "id": "bc0d42db9556f6af",
   "execution_count": null
  },
  {
   "cell_type": "code",
   "outputs": [],
   "source": [],
   "metadata": {
    "collapsed": false
   },
   "id": "c60c4f504b96a0dc"
  }
 ],
 "metadata": {
  "kernelspec": {
   "display_name": "Python 3",
   "language": "python",
   "name": "python3"
  },
  "language_info": {
   "codemirror_mode": {
    "name": "ipython",
    "version": 2
   },
   "file_extension": ".py",
   "mimetype": "text/x-python",
   "name": "python",
   "nbconvert_exporter": "python",
   "pygments_lexer": "ipython2",
   "version": "2.7.6"
  }
 },
 "nbformat": 4,
 "nbformat_minor": 5
}
