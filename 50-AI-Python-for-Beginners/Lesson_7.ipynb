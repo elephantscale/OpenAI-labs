{
 "cells": [
  {
   "cell_type": "markdown",
   "source": [
    "# Lesson 7 - Working with files"
   ],
   "metadata": {
    "collapsed": false
   },
   "id": "230add17996a783d"
  },
  {
   "cell_type": "code",
   "outputs": [],
   "source": [
    "from helper_functions import *"
   ],
   "metadata": {
    "collapsed": false
   },
   "id": "4bb18ef56d065051",
   "execution_count": null
  },
  {
   "cell_type": "code",
   "outputs": [],
   "source": [
    "journal = read_journal(\"journal_entries/cape_town.txt\") \n",
    "print(journal)"
   ],
   "metadata": {
    "collapsed": false
   },
   "id": "a35bf9a58dd55728",
   "execution_count": null
  },
  {
   "cell_type": "code",
   "outputs": [],
   "source": [
    "prompt = f\"\"\"\n",
    "Given the following journal entry from a food critic, identify the restaurants and their specialties.\n",
    "For each restaurant, highlight its name and specialties in bold and use different colors for each.\n",
    "Provide the output as HTML suitable for display in a Jupyter notebook.\n",
    "\n",
    "Journal entry:\n",
    "{journal}\n",
    "\"\"\"\n",
    "html_response = get_llm_response(prompt)\n",
    "display_html(html_response)"
   ],
   "metadata": {
    "collapsed": false
   },
   "id": "e2ca3744f52e3924",
   "execution_count": null
  },
  {
   "cell_type": "code",
   "outputs": [],
   "source": [],
   "metadata": {
    "collapsed": false
   },
   "id": "741e80b5f4d12c37"
  }
 ],
 "metadata": {
  "kernelspec": {
   "display_name": "Python 3",
   "language": "python",
   "name": "python3"
  },
  "language_info": {
   "codemirror_mode": {
    "name": "ipython",
    "version": 2
   },
   "file_extension": ".py",
   "mimetype": "text/x-python",
   "name": "python",
   "nbconvert_exporter": "python",
   "pygments_lexer": "ipython2",
   "version": "2.7.6"
  }
 },
 "nbformat": 4,
 "nbformat_minor": 5
}
