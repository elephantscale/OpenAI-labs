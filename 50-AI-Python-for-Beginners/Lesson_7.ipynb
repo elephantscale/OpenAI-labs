{
 "cells": [
  {
   "cell_type": "markdown",
   "id": "230add17996a783d",
   "metadata": {
    "collapsed": false,
    "jupyter": {
     "outputs_hidden": false
    }
   },
   "source": [
    "# Lesson 7 - Working with files"
   ]
  },
  {
   "cell_type": "code",
   "execution_count": null,
   "id": "4bb18ef56d065051",
   "metadata": {
    "collapsed": false,
    "jupyter": {
     "outputs_hidden": false
    }
   },
   "outputs": [],
   "source": [
    "from helper_functions import *"
   ]
  },
  {
   "cell_type": "code",
   "execution_count": null,
   "id": "a35bf9a58dd55728",
   "metadata": {
    "collapsed": false,
    "jupyter": {
     "outputs_hidden": false
    }
   },
   "outputs": [],
   "source": [
    "journal = read_journal(\"journal_entries/cape_town.txt\") \n",
    "print(journal)"
   ]
  },
  {
   "cell_type": "code",
   "execution_count": null,
   "id": "e2ca3744f52e3924",
   "metadata": {
    "collapsed": false,
    "jupyter": {
     "outputs_hidden": false
    }
   },
   "outputs": [],
   "source": [
    "prompt = f\"\"\"\n",
    "Given the following journal entry from a food critic, identify the restaurants and their specialties.\n",
    "For each restaurant, highlight its name and specialties in bold and use different colors for each.\n",
    "Provide the output as HTML suitable for display in a Jupyter notebook.\n",
    "\n",
    "Journal entry:\n",
    "{journal}\n",
    "\"\"\"\n",
    "html_response = get_llm_response(prompt)\n",
    "display_html(html_response)"
   ]
  }
 ],
 "metadata": {
  "kernelspec": {
   "display_name": "Python 3 (ipykernel)",
   "language": "python",
   "name": "python3"
  },
  "language_info": {
   "codemirror_mode": {
    "name": "ipython",
    "version": 3
   },
   "file_extension": ".py",
   "mimetype": "text/x-python",
   "name": "python",
   "nbconvert_exporter": "python",
   "pygments_lexer": "ipython3",
   "version": "3.11.7"
  }
 },
 "nbformat": 4,
 "nbformat_minor": 5
}
