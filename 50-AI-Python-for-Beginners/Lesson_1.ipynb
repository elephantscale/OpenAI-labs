{
 "cells": [
  {
   "cell_type": "markdown",
   "id": "15a9045cbb953ed4",
   "metadata": {
    "collapsed": false
   },
   "source": [
    "# Lesson 1 - Completing a task list with AI"
   ]
  },
  {
   "cell_type": "code",
   "execution_count": null,
   "id": "51ac121a41c94841",
   "metadata": {
    "collapsed": false
   },
   "outputs": [],
   "source": [
    "from helper_functions import print_llm_response,get_llm_response"
   ]
  },
  {
   "cell_type": "code",
   "execution_count": null,
   "id": "2ba22eb051e9b13a",
   "metadata": {
    "collapsed": false
   },
   "outputs": [],
   "source": [
    "name=\"Tommy\"\n",
    "\n",
    "prompt=f\"\"\"\n",
    "write a four line birthday poem for my friend {name}.\n",
    "The poem should be inspired by the first letter of my friend's name.\n",
    "\"\"\"\n",
    "print_llm_response(prompt)"
   ]
  },
  {
   "cell_type": "code",
   "execution_count": null,
   "id": "7e6b7650af376edf",
   "metadata": {
    "collapsed": false
   },
   "outputs": [],
   "source": [
    "friends_list=[\"Tommy\",\"John\",\"Daniel\"]\n",
    "\n",
    "prompt = f\"\"\"\n",
    "Write a set of four line birthday poems for my friends {friends_list}. \n",
    "The poems should be insipred by the first letter of each friend's name.\n",
    "\"\"\"\n",
    "print(prompt)"
   ]
  },
  {
   "cell_type": "code",
   "execution_count": null,
   "id": "98d43debbd4a9b0c",
   "metadata": {
    "collapsed": false
   },
   "outputs": [],
   "source": [
    "print_llm_response(prompt)"
   ]
  },
  {
   "cell_type": "code",
   "execution_count": null,
   "id": "70cc827e84ce6bd9",
   "metadata": {
    "collapsed": false
   },
   "outputs": [],
   "source": [
    "len(friends_list)"
   ]
  },
  {
   "cell_type": "code",
   "execution_count": null,
   "id": "ce0b7ac434e10ded",
   "metadata": {
    "collapsed": false
   },
   "outputs": [],
   "source": [
    "type(friends_list)"
   ]
  },
  {
   "cell_type": "code",
   "execution_count": null,
   "id": "3b4c500949bf76ba",
   "metadata": {
    "collapsed": false
   },
   "outputs": [],
   "source": [
    "# adding new element\n",
    "friends_list.append(\"Otto\")\n",
    "print(friends_list)"
   ]
  },
  {
   "cell_type": "code",
   "execution_count": null,
   "id": "fcb395648789bb14",
   "metadata": {
    "collapsed": false
   },
   "outputs": [],
   "source": [
    "# accessing element by index\n",
    "print(friends_list[0])"
   ]
  },
  {
   "cell_type": "code",
   "execution_count": null,
   "id": "24d3e1f3a7c02163",
   "metadata": {
    "collapsed": false
   },
   "outputs": [],
   "source": [
    "# List with other datatype\n",
    "number_list=[1,2,3,4,5,6,7,8]\n",
    "print(number_list)"
   ]
  },
  {
   "cell_type": "code",
   "execution_count": null,
   "id": "b82a4a1dd69ed2ae",
   "metadata": {
    "collapsed": false
   },
   "outputs": [],
   "source": [
    "number_list.remove(1)\n",
    "print(number_list)"
   ]
  },
  {
   "cell_type": "code",
   "execution_count": null,
   "id": "3651befcb20b9da9",
   "metadata": {
    "collapsed": false
   },
   "outputs": [],
   "source": [
    "list_of_tasks = [\n",
    "    \"Compose a brief email to my boss explaining that I will be late for tomorrow's meeting.\",\n",
    "    \"Write a birthday poem for Otto, celebrating his 28th birthday.\",\n",
    "    \"Write a 300-word review of the movie 'The Arrival'.\"\n",
    "]\n",
    "\n",
    "task=list_of_tasks[0]\n",
    "print(task)"
   ]
  },
  {
   "cell_type": "code",
   "execution_count": null,
   "id": "75375911113784a3",
   "metadata": {
    "collapsed": false
   },
   "outputs": [],
   "source": [
    "task=list_of_tasks[1]\n",
    "print(task)"
   ]
  },
  {
   "cell_type": "markdown",
   "source": [
    "# Practice"
   ],
   "metadata": {
    "collapsed": false
   },
   "id": "2984985599ea3865"
  },
  {
   "cell_type": "code",
   "execution_count": null,
   "id": "3a214973-1cc3-46c8-9a6d-a3e5d9a5ac90",
   "metadata": {},
   "outputs": [],
   "source": [
    "# Create a list with the titles \n",
    "# of five of your favorite movies\n",
    "\n",
    "movie_list = [\"The Arrival\", \"Captain America\",\"Spiderman\",\"The notebook\",\"Joker\"]\n",
    "print(movie_list)"
   ]
  },
  {
   "cell_type": "code",
   "outputs": [],
   "source": [
    "# Display the fourth element of \n",
    "# the following list using print()\n",
    "\n",
    "prime_numbers = [2, 3, 5, 7, 11]\n",
    "\n",
    "print(prime_numbers[3])"
   ],
   "metadata": {
    "collapsed": false
   },
   "id": "b15f2ce2f995fb4c",
   "execution_count": null
  },
  {
   "cell_type": "code",
   "outputs": [],
   "source": [
    "# Fix the bug in the following code\n",
    "\n",
    "prime_numbers = [2, 3, 5, 7, 11]\n",
    "\n",
    "print(prime_numbers[3]) #access and print() the fourth element"
   ],
   "metadata": {
    "collapsed": false
   },
   "id": "fc98126f236d1810",
   "execution_count": null
  },
  {
   "cell_type": "code",
   "outputs": [],
   "source": [
    "# Add one name to friends_list using append\n",
    "\n",
    "friends_list = [\"Tommy\", \"Isabel\", \"Daniel\", \"Otto\"]\n",
    "\n",
    "friends_list.append(\"Gita\")\n",
    "print(friends_list)"
   ],
   "metadata": {
    "collapsed": false
   },
   "id": "1736d4294bfe76bd",
   "execution_count": null
  },
  {
   "cell_type": "code",
   "outputs": [],
   "source": [
    "# In the following code, remove the country \n",
    "# that is not in South America\n",
    "\n",
    "countries_in_south_america = [\"Colombia\", \"Peru\", \n",
    "                              \"Brasil\", \"Japan\",\n",
    "                              \"Argentina\"]\n",
    "\n",
    "countries_in_south_america.remove(\"Japan\")\n",
    "\n",
    "print(countries_in_south_america)"
   ],
   "metadata": {
    "collapsed": false
   },
   "id": "22f98ea2eccb032d",
   "execution_count": null
  },
  {
   "cell_type": "code",
   "outputs": [],
   "source": [],
   "metadata": {
    "collapsed": false
   },
   "id": "7232d725faa7d78e"
  }
 ],
 "metadata": {
  "kernelspec": {
   "display_name": "Python (lab 50)",
   "language": "python",
   "name": "50"
  },
  "language_info": {
   "codemirror_mode": {
    "name": "ipython",
    "version": 3
   },
   "file_extension": ".py",
   "mimetype": "text/x-python",
   "name": "python",
   "nbconvert_exporter": "python",
   "pygments_lexer": "ipython3",
   "version": "3.10.13"
  }
 },
 "nbformat": 4,
 "nbformat_minor": 5
}
