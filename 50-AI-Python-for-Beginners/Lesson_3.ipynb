{
 "cells": [
  {
   "cell_type": "markdown",
   "id": "5b45a1ba07c0e17e",
   "metadata": {
    "collapsed": false,
    "jupyter": {
     "outputs_hidden": false
    }
   },
   "source": [
    "# Lesson 3 - Prioritizing tasks with dictionaries and AI"
   ]
  },
  {
   "cell_type": "code",
   "execution_count": null,
   "id": "68978b949bde2d87",
   "metadata": {
    "collapsed": false,
    "jupyter": {
     "outputs_hidden": false
    }
   },
   "outputs": [],
   "source": [
    "from helper_functions import print_llm_response, get_llm_response"
   ]
  },
  {
   "cell_type": "code",
   "execution_count": null,
   "id": "66db4a50dce095e1",
   "metadata": {
    "collapsed": false,
    "jupyter": {
     "outputs_hidden": false
    }
   },
   "outputs": [],
   "source": [
    "ice_cream_flavors = [\n",
    "    \"Vanilla: Classic and creamy with a rich, smooth flavor from real vanilla beans.\",\n",
    "    \"Chocolate: Deep and indulgent, made with rich cocoa for a satisfying chocolate experience.\",\n",
    "    \"Strawberry: Sweet and fruity, bursting with the fresh taste of ripe strawberries.\",\n",
    "    \"Mint Chocolate Chip: Refreshing mint ice cream studded with decadent chocolate chips.\",\n",
    "    \"Cookie Dough: Vanilla ice cream loaded with chunks of chocolate chip cookie dough.\",\n",
    "    \"Salted Caramel: Sweet and salty with a smooth caramel swirl and a hint of sea salt.\",\n",
    "    \"Pistachio: Nutty and creamy, featuring the distinct taste of real pistachios.\",\n",
    "    \"Cookies and Cream: Vanilla ice cream packed with chunks of chocolate sandwich cookies.\",\n",
    "    \"Mango: Tropical and tangy, made with juicy mangoes for a refreshing treat.\",\n",
    "    \"Rocky Road: Chocolate ice cream mixed with marshmallows, nuts, and chocolate chunks.\"\n",
    "]"
   ]
  },
  {
   "cell_type": "markdown",
   "id": "bf79d9050b7a6472",
   "metadata": {
    "collapsed": false,
    "jupyter": {
     "outputs_hidden": false
    }
   },
   "source": [
    "# Building intuition and definitions"
   ]
  },
  {
   "cell_type": "code",
   "execution_count": null,
   "id": "ce05288122c79c3a",
   "metadata": {
    "collapsed": false,
    "jupyter": {
     "outputs_hidden": false
    }
   },
   "outputs": [],
   "source": [
    "ice_cream_flavors = {\n",
    "    \"Mint Chocolate Chip\": \"Refreshing mint ice cream studded with decadent chocolate chips.\",\n",
    "    \"Cookie Dough\": \"Vanilla ice cream loaded with chunks of chocolate chip cookie dough.\",\n",
    "    \"Salted Caramel\": \"Sweet and salty with a smooth caramel swirl and a hint of sea salt.\"\n",
    "}  \n",
    "print(ice_cream_flavors.keys())"
   ]
  },
  {
   "cell_type": "code",
   "execution_count": null,
   "id": "56319eb701a90c",
   "metadata": {
    "collapsed": false,
    "jupyter": {
     "outputs_hidden": false
    }
   },
   "outputs": [],
   "source": [
    "print(ice_cream_flavors.values())"
   ]
  },
  {
   "cell_type": "code",
   "execution_count": null,
   "id": "ea15151186765506",
   "metadata": {
    "collapsed": false,
    "jupyter": {
     "outputs_hidden": false
    }
   },
   "outputs": [],
   "source": [
    "# Accessing elements\n",
    "print(ice_cream_flavors[0])"
   ]
  },
  {
   "cell_type": "code",
   "execution_count": null,
   "id": "7ff1bb8f9d0ddf76",
   "metadata": {
    "collapsed": false,
    "jupyter": {
     "outputs_hidden": false
    }
   },
   "outputs": [],
   "source": [
    "cookie_dough_description = ice_cream_flavors[\"Cookie Dough\"]\n",
    "print(cookie_dough_description)"
   ]
  },
  {
   "cell_type": "markdown",
   "id": "581b4d54b439ab29",
   "metadata": {
    "collapsed": false,
    "jupyter": {
     "outputs_hidden": false
    }
   },
   "source": [
    "# Adding and updating elements in a dictionary"
   ]
  },
  {
   "cell_type": "code",
   "execution_count": null,
   "id": "6ba10c117de8aa9",
   "metadata": {
    "collapsed": false,
    "jupyter": {
     "outputs_hidden": false
    }
   },
   "outputs": [],
   "source": [
    "print(ice_cream_flavors)"
   ]
  },
  {
   "cell_type": "code",
   "execution_count": null,
   "id": "d3a065655fb5747e",
   "metadata": {
    "collapsed": false,
    "jupyter": {
     "outputs_hidden": false
    }
   },
   "outputs": [],
   "source": [
    "ice_cream_flavors[\"Rocky Road\"] = \"Chocolate ice cream mixed with other ingredients.\"\n",
    "print(ice_cream_flavors)"
   ]
  },
  {
   "cell_type": "code",
   "execution_count": null,
   "id": "cfa78e0d96d3b952",
   "metadata": {
    "collapsed": false,
    "jupyter": {
     "outputs_hidden": false
    }
   },
   "outputs": [],
   "source": [
    "ice_cream_flavors[\"Pistachio Chocolate Chip\"] = \"Icecream cream mixed with pistachio cream\"\n",
    "print(ice_cream_flavors)"
   ]
  },
  {
   "cell_type": "markdown",
   "id": "a155f42a37ff1f59",
   "metadata": {
    "collapsed": false,
    "jupyter": {
     "outputs_hidden": false
    }
   },
   "source": [
    "# Different type of elements"
   ]
  },
  {
   "cell_type": "code",
   "execution_count": null,
   "id": "ee7050169c089ec2",
   "metadata": {
    "collapsed": false,
    "jupyter": {
     "outputs_hidden": false
    }
   },
   "outputs": [],
   "source": [
    "isabel_facts={\n",
    "    \"age\":28,\n",
    "    \"favourite color\":\"red\"\n",
    "}\n",
    "print(isabel_facts)"
   ]
  },
  {
   "cell_type": "code",
   "execution_count": null,
   "id": "fd66e27333656c93",
   "metadata": {
    "collapsed": false,
    "jupyter": {
     "outputs_hidden": false
    }
   },
   "outputs": [],
   "source": [
    "isabel_facts[\"Cat names\"]= [\"Charlie\", \"Smokey\", \"Tabitha\"]\n",
    "print(isabel_facts)"
   ]
  },
  {
   "cell_type": "code",
   "execution_count": null,
   "id": "e01e9582224f9be1",
   "metadata": {
    "collapsed": false,
    "jupyter": {
     "outputs_hidden": false
    }
   },
   "outputs": [],
   "source": [
    "isabel_facts[\"Favorite Snacks\"] = [\"pineapple cake\",\"candy\"]\n",
    "print(isabel_facts)"
   ]
  },
  {
   "cell_type": "markdown",
   "id": "d20fb35ebb5a5086",
   "metadata": {
    "collapsed": false,
    "jupyter": {
     "outputs_hidden": false
    }
   },
   "source": [
    "# Using dictionaries to complete high priority tasks using AI"
   ]
  },
  {
   "cell_type": "code",
   "execution_count": null,
   "id": "175aa7597483da29",
   "metadata": {
    "collapsed": false,
    "jupyter": {
     "outputs_hidden": false
    }
   },
   "outputs": [],
   "source": [
    "list_of_tasks = [\n",
    "    \"Compose a brief email to my boss explaining that I will be late for tomorrow's meeting.\",\n",
    "    \"Write a birthday poem for Otto, celebrating his 28th birthday.\",\n",
    "    \"Write a 300-word review of the movie 'The Arrival'.\",\n",
    "    \"Draft a thank-you note for my neighbor Dapinder who helped water my plants while I was on vacation.\",\n",
    "    \"Create an outline for a presentation on the benefits of remote work.\"\n",
    "]"
   ]
  },
  {
   "cell_type": "code",
   "execution_count": null,
   "id": "356e2b5b79d57671",
   "metadata": {
    "collapsed": false,
    "jupyter": {
     "outputs_hidden": false
    }
   },
   "outputs": [],
   "source": [
    "high_priority_tasks = [\n",
    "    \"Compose a brief email to my boss explaining that I will be late for tomorrow's meeting.\",\n",
    "    \"Create an outline for a presentation on the benefits of remote work.\"\n",
    "]\n",
    "\n",
    "medium_priority_tasks = [\n",
    "    \"Write a birthday poem for Otto, celebrating his 28th birthday.\",\n",
    "    \"Draft a thank-you note for my neighbor Dapinder who helped water my plants while I was on vacation.\"\n",
    "]\n",
    "\n",
    "low_priority_tasks = [\n",
    "    \"Write a 300-word review of the movie 'The Arrival'.\"\n",
    "]"
   ]
  },
  {
   "cell_type": "code",
   "execution_count": null,
   "id": "4c40c60e9f509245",
   "metadata": {
    "collapsed": false,
    "jupyter": {
     "outputs_hidden": false
    }
   },
   "outputs": [],
   "source": [
    "prioritized_tasks={\n",
    "    \"high_priority\":high_priority_tasks,\n",
    "    \"medium_priority\":medium_priority_tasks,\n",
    "    \"low_priority\":low_priority_tasks\n",
    "}\n",
    "print(prioritized_tasks)"
   ]
  },
  {
   "cell_type": "code",
   "execution_count": null,
   "id": "7a94dfcab4742a8b",
   "metadata": {
    "collapsed": false,
    "jupyter": {
     "outputs_hidden": false
    }
   },
   "outputs": [],
   "source": [
    "prioritized_tasks[\"high_priority\"]"
   ]
  },
  {
   "cell_type": "code",
   "execution_count": null,
   "id": "3c385ebc5438f11b",
   "metadata": {
    "collapsed": false,
    "jupyter": {
     "outputs_hidden": false
    }
   },
   "outputs": [],
   "source": [
    "for task in high_priority_tasks:\n",
    "    print_llm_response(task)"
   ]
  },
  {
   "cell_type": "code",
   "execution_count": null,
   "id": "a74fdf07650988d",
   "metadata": {
    "collapsed": false,
    "jupyter": {
     "outputs_hidden": false
    }
   },
   "outputs": [],
   "source": [
    "flavor = \"Rocky Road\" \n",
    "prompt = f\"Provide a brief description for the {flavor} ice cream flavor\"\n",
    "description=get_llm_response(prompt)\n",
    "ice_cream_flavors[flavor] = description\n",
    "print(ice_cream_flavors[\"Rocky Road\"])"
   ]
  },
  {
   "cell_type": "code",
   "execution_count": null,
   "id": "a57ec6bbe04ff07f",
   "metadata": {
    "collapsed": false,
    "jupyter": {
     "outputs_hidden": false
    }
   },
   "outputs": [],
   "source": [
    "# Complete the medium priority tasks\n",
    "# by modifying the following code\n",
    "for task in prioritized_tasks[\"high_priority\"]:\n",
    "    print_llm_response(task)\n",
    "    \n",
    "for task in prioritized_tasks[\"medium_priority\"]:\n",
    "    print_llm_response(task)"
   ]
  }
 ],
 "metadata": {
  "kernelspec": {
   "display_name": "Python 3 (ipykernel)",
   "language": "python",
   "name": "python3"
  },
  "language_info": {
   "codemirror_mode": {
    "name": "ipython",
    "version": 3
   },
   "file_extension": ".py",
   "mimetype": "text/x-python",
   "name": "python",
   "nbconvert_exporter": "python",
   "pygments_lexer": "ipython3",
   "version": "3.11.7"
  }
 },
 "nbformat": 4,
 "nbformat_minor": 5
}
