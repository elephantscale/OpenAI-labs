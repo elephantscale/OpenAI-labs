{
 "cells": [
  {
   "cell_type": "markdown",
   "source": [
    "# Lesson 3 - Prioritizing tasks with dictionaries and AI"
   ],
   "metadata": {
    "collapsed": false
   },
   "id": "5b45a1ba07c0e17e"
  },
  {
   "cell_type": "code",
   "outputs": [],
   "source": [
    "from helper_functions import print_llm_response, get_llm_response"
   ],
   "metadata": {
    "collapsed": false
   },
   "id": "68978b949bde2d87",
   "execution_count": null
  },
  {
   "cell_type": "code",
   "outputs": [],
   "source": [
    "ice_cream_flavors = [\n",
    "    \"Vanilla: Classic and creamy with a rich, smooth flavor from real vanilla beans.\",\n",
    "    \"Chocolate: Deep and indulgent, made with rich cocoa for a satisfying chocolate experience.\",\n",
    "    \"Strawberry: Sweet and fruity, bursting with the fresh taste of ripe strawberries.\",\n",
    "    \"Mint Chocolate Chip: Refreshing mint ice cream studded with decadent chocolate chips.\",\n",
    "    \"Cookie Dough: Vanilla ice cream loaded with chunks of chocolate chip cookie dough.\",\n",
    "    \"Salted Caramel: Sweet and salty with a smooth caramel swirl and a hint of sea salt.\",\n",
    "    \"Pistachio: Nutty and creamy, featuring the distinct taste of real pistachios.\",\n",
    "    \"Cookies and Cream: Vanilla ice cream packed with chunks of chocolate sandwich cookies.\",\n",
    "    \"Mango: Tropical and tangy, made with juicy mangoes for a refreshing treat.\",\n",
    "    \"Rocky Road: Chocolate ice cream mixed with marshmallows, nuts, and chocolate chunks.\"\n",
    "]"
   ],
   "metadata": {
    "collapsed": false
   },
   "id": "66db4a50dce095e1",
   "execution_count": null
  },
  {
   "cell_type": "markdown",
   "source": [
    "# Building intuition and definitions"
   ],
   "metadata": {
    "collapsed": false
   },
   "id": "bf79d9050b7a6472"
  },
  {
   "cell_type": "code",
   "outputs": [],
   "source": [
    "ice_cream_flavors = {\n",
    "    \"Mint Chocolate Chip\": \"Refreshing mint ice cream studded with decadent chocolate chips.\",\n",
    "    \"Cookie Dough\": \"Vanilla ice cream loaded with chunks of chocolate chip cookie dough.\",\n",
    "    \"Salted Caramel\": \"Sweet and salty with a smooth caramel swirl and a hint of sea salt.\"\n",
    "}  \n",
    "print(ice_cream_flavors.keys())"
   ],
   "metadata": {
    "collapsed": false
   },
   "id": "ce05288122c79c3a",
   "execution_count": null
  },
  {
   "cell_type": "code",
   "outputs": [],
   "source": [
    "print(ice_cream_flavors.values())"
   ],
   "metadata": {
    "collapsed": false
   },
   "id": "56319eb701a90c",
   "execution_count": null
  },
  {
   "cell_type": "code",
   "outputs": [],
   "source": [
    "# Accessing elements\n",
    "print(ice_cream_flavors[0])"
   ],
   "metadata": {
    "collapsed": false
   },
   "id": "ea15151186765506",
   "execution_count": null
  },
  {
   "cell_type": "code",
   "outputs": [],
   "source": [
    "cookie_dough_description = ice_cream_flavors[\"Cookie Dough\"]\n",
    "print(cookie_dough_description)"
   ],
   "metadata": {
    "collapsed": false
   },
   "id": "7ff1bb8f9d0ddf76",
   "execution_count": null
  },
  {
   "cell_type": "markdown",
   "source": [
    "# Adding and updating elements in a dictionary"
   ],
   "metadata": {
    "collapsed": false
   },
   "id": "581b4d54b439ab29"
  },
  {
   "cell_type": "code",
   "outputs": [],
   "source": [
    "print(ice_cream_flavors)"
   ],
   "metadata": {
    "collapsed": false
   },
   "id": "6ba10c117de8aa9",
   "execution_count": null
  },
  {
   "cell_type": "code",
   "outputs": [],
   "source": [
    "ice_cream_flavors[\"Rocky Road\"] = \"Chocolate ice cream mixed with other ingredients.\"\n",
    "print(ice_cream_flavors)"
   ],
   "metadata": {
    "collapsed": false
   },
   "id": "d3a065655fb5747e",
   "execution_count": null
  },
  {
   "cell_type": "code",
   "outputs": [],
   "source": [
    "ice_cream_flavors[\"Pistachio Chocolate Chip\"] = \"Icecream cream mixed with pistachio cream\"\n",
    "print(ice_cream_flavors)"
   ],
   "metadata": {
    "collapsed": false
   },
   "id": "cfa78e0d96d3b952",
   "execution_count": null
  },
  {
   "cell_type": "markdown",
   "source": [
    "# Different type of elements"
   ],
   "metadata": {
    "collapsed": false
   },
   "id": "a155f42a37ff1f59"
  },
  {
   "cell_type": "code",
   "outputs": [],
   "source": [
    "isabel_facts={\n",
    "    \"age\":28,\n",
    "    \"favourite color\":\"red\"\n",
    "}\n",
    "print(isabel_facts)"
   ],
   "metadata": {
    "collapsed": false
   },
   "id": "ee7050169c089ec2",
   "execution_count": null
  },
  {
   "cell_type": "code",
   "outputs": [],
   "source": [
    "isabel_facts[\"Cat names\"]= [\"Charlie\", \"Smokey\", \"Tabitha\"]\n",
    "print(isabel_facts)"
   ],
   "metadata": {
    "collapsed": false
   },
   "id": "fd66e27333656c93",
   "execution_count": null
  },
  {
   "cell_type": "code",
   "outputs": [],
   "source": [
    "isabel_facts[\"Favorite Snacks\"] = [\"pineapple cake\",\"candy\"]\n",
    "print(isabel_facts)"
   ],
   "metadata": {
    "collapsed": false
   },
   "id": "e01e9582224f9be1",
   "execution_count": null
  },
  {
   "cell_type": "markdown",
   "source": [
    "# Using dictionaries to complete high priority tasks using AI"
   ],
   "metadata": {
    "collapsed": false
   },
   "id": "d20fb35ebb5a5086"
  },
  {
   "cell_type": "code",
   "outputs": [],
   "source": [
    "list_of_tasks = [\n",
    "    \"Compose a brief email to my boss explaining that I will be late for tomorrow's meeting.\",\n",
    "    \"Write a birthday poem for Otto, celebrating his 28th birthday.\",\n",
    "    \"Write a 300-word review of the movie 'The Arrival'.\",\n",
    "    \"Draft a thank-you note for my neighbor Dapinder who helped water my plants while I was on vacation.\",\n",
    "    \"Create an outline for a presentation on the benefits of remote work.\"\n",
    "]"
   ],
   "metadata": {
    "collapsed": false
   },
   "id": "175aa7597483da29",
   "execution_count": null
  },
  {
   "cell_type": "code",
   "outputs": [],
   "source": [
    "high_priority_tasks = [\n",
    "    \"Compose a brief email to my boss explaining that I will be late for tomorrow's meeting.\",\n",
    "    \"Create an outline for a presentation on the benefits of remote work.\"\n",
    "]\n",
    "\n",
    "medium_priority_tasks = [\n",
    "    \"Write a birthday poem for Otto, celebrating his 28th birthday.\",\n",
    "    \"Draft a thank-you note for my neighbor Dapinder who helped water my plants while I was on vacation.\"\n",
    "]\n",
    "\n",
    "low_priority_tasks = [\n",
    "    \"Write a 300-word review of the movie 'The Arrival'.\"\n",
    "]"
   ],
   "metadata": {
    "collapsed": false
   },
   "id": "356e2b5b79d57671",
   "execution_count": null
  },
  {
   "cell_type": "code",
   "outputs": [],
   "source": [
    "prioritized_tasks={\n",
    "    \"high_priority\":high_priority_tasks,\n",
    "    \"medium_priority\":medium_priority_tasks,\n",
    "    \"low_priority\":low_priority_tasks\n",
    "}\n",
    "print(prioritized_tasks)"
   ],
   "metadata": {
    "collapsed": false
   },
   "id": "4c40c60e9f509245",
   "execution_count": null
  },
  {
   "cell_type": "code",
   "outputs": [],
   "source": [
    "prioritized_tasks[\"high_priority\"]"
   ],
   "metadata": {
    "collapsed": false
   },
   "id": "7a94dfcab4742a8b",
   "execution_count": null
  },
  {
   "cell_type": "code",
   "outputs": [],
   "source": [
    "for task in high_priority_tasks:\n",
    "    print_llm_response(task)"
   ],
   "metadata": {
    "collapsed": false
   },
   "id": "3c385ebc5438f11b",
   "execution_count": null
  },
  {
   "cell_type": "code",
   "outputs": [],
   "source": [
    "flavor = \"Rocky Road\" \n",
    "prompt = f\"Provide a brief description for the {flavor} ice cream flavor\"\n",
    "description=get_llm_response(prompt)\n",
    "ice_cream_flavors[flavor] = description\n",
    "print(ice_cream_flavors[\"Rocky Road\"])"
   ],
   "metadata": {
    "collapsed": false
   },
   "id": "a74fdf07650988d",
   "execution_count": null
  },
  {
   "cell_type": "code",
   "outputs": [],
   "source": [
    "# Complete the medium priority tasks\n",
    "# by modifying the following code\n",
    "for task in prioritized_tasks[\"high_priority\"]:\n",
    "    print_llm_response(task)\n",
    "    \n",
    "for task in prioritized_tasks[\"medium_priority\"]:\n",
    "    print_llm_response(task)"
   ],
   "metadata": {
    "collapsed": false
   },
   "id": "a57ec6bbe04ff07f",
   "execution_count": null
  }
 ],
 "metadata": {
  "kernelspec": {
   "display_name": "Python 3",
   "language": "python",
   "name": "python3"
  },
  "language_info": {
   "codemirror_mode": {
    "name": "ipython",
    "version": 2
   },
   "file_extension": ".py",
   "mimetype": "text/x-python",
   "name": "python",
   "nbconvert_exporter": "python",
   "pygments_lexer": "ipython2",
   "version": "2.7.6"
  }
 },
 "nbformat": 4,
 "nbformat_minor": 5
}
