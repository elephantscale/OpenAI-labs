{
 "cells": [
  {
   "cell_type": "markdown",
   "id": "ab54ee93-82f0-4f96-8499-35866006b26d",
   "metadata": {},
   "source": [
    "# Lesson 3: Performing calculations"
   ]
  },
  {
   "cell_type": "code",
   "execution_count": null,
   "id": "f99dcd21",
   "metadata": {},
   "outputs": [],
   "source": [
    "# Before you start, please run the following code to set up your environment.\n",
    "# This code will reset the environment (if needed) and prepare the resources for the lesson.\n",
    "# It does this by quickly running through all the code from the previous lessons.\n",
    "\n",
    "!sh ./ro_shared_data/reset.sh\n",
    "%run ./ro_shared_data/lesson_2_prep.py lesson3\n",
    "%run ./ro_shared_data/lesson_3_prep.py lesson3\n",
    "\n",
    "import os\n",
    "\n",
    "agentId = os.environ['BEDROCK_AGENT_ID']\n",
    "agentAliasId = os.environ['BEDROCK_AGENT_ALIAS_ID']\n",
    "region_name = 'us-west-2'\n",
    "lambda_function_arn = os.environ['LAMBDA_FUNCTION_ARN']\n",
    "action_group_id = os.environ['ACTION_GROUP_ID']"
   ]
  },
  {
   "cell_type": "markdown",
   "id": "2083d54d",
   "metadata": {},
   "source": [
    "## Start of lesson"
   ]
  },
  {
   "cell_type": "code",
   "execution_count": null,
   "id": "a9f11e80",
   "metadata": {},
   "outputs": [],
   "source": [
    "import boto3\n",
    "import uuid\n",
    "from helper import *"
   ]
  },
  {
   "cell_type": "code",
   "execution_count": null,
   "id": "c410d6ab",
   "metadata": {},
   "outputs": [],
   "source": [
    "bedrock_agent = boto3.client(service_name='bedrock-agent', region_name=region_name)"
   ]
  },
  {
   "cell_type": "code",
   "execution_count": null,
   "id": "03cba5eb",
   "metadata": {},
   "outputs": [],
   "source": [
    "update_agent_action_group_response = bedrock_agent.update_agent_action_group(\n",
    "    actionGroupName='customer-support-actions',\n",
    "    actionGroupState='ENABLED',\n",
    "    actionGroupId=action_group_id,\n",
    "    agentId=agentId,\n",
    "    agentVersion='DRAFT',\n",
    "    actionGroupExecutor={\n",
    "        'lambda': lambda_function_arn\n",
    "    },\n",
    "    functionSchema={\n",
    "        'functions': [\n",
    "            {\n",
    "                'name': 'customerId',\n",
    "                'description': 'Get a customer ID given available details. At least one parameter must be sent to the function. This is private information and must not be given to the user.',\n",
    "                'parameters': {\n",
    "                    'email': {\n",
    "                        'description': 'Email address',\n",
    "                        'required': False,\n",
    "                        'type': 'string'\n",
    "                    },\n",
    "                    'name': {\n",
    "                        'description': 'Customer name',\n",
    "                        'required': False,\n",
    "                        'type': 'string'\n",
    "                    },\n",
    "                    'phone': {\n",
    "                        'description': 'Phone number',\n",
    "                        'required': False,\n",
    "                        'type': 'string'\n",
    "                    },\n",
    "                }\n",
    "            },            \n",
    "            {\n",
    "                'name': 'sendToSupport',\n",
    "                'description': 'Send a message to the support team, used for service escalation. ',\n",
    "                'parameters': {\n",
    "                    'custId': {\n",
    "                        'description': 'customer ID',\n",
    "                        'required': True,\n",
    "                        'type': 'string'\n",
    "                    },\n",
    "                    'purchaseId': {\n",
    "                        'description': 'the ID of the purchase, can be found using purchaseSearch',\n",
    "                        'required': True,\n",
    "                        'type': 'string'\n",
    "                    },\n",
    "                    'supportSummary': {\n",
    "                        'description': 'Summary of the support request',\n",
    "                        'required': True,\n",
    "                        'type': 'string'\n",
    "                    },\n",
    "                }\n",
    "            },\n",
    "            {\n",
    "                'name': 'purchaseSearch',\n",
    "                'description': \"\"\"Search for, and get details of a purchases made.  Details can be used for raising support requests. You can confirm you have this data, for example \"I found your purchase\" or \"I can't find your purchase\", but other details are private information and must not be given to the user.\"\"\",\n",
    "                'parameters': {\n",
    "                    'custId': {\n",
    "                        'description': 'customer ID',\n",
    "                        'required': True,\n",
    "                        'type': 'string'\n",
    "                    },\n",
    "                    'productDescription': {\n",
    "                        'description': 'a description of the purchased product to search for',\n",
    "                        'required': True,\n",
    "                        'type': 'string'\n",
    "                    },\n",
    "                    'purchaseDate': {\n",
    "                        'description': 'date of purchase to start search from, in YYYY-MM-DD format',\n",
    "                        'required': True,\n",
    "                        'type': 'string'\n",
    "                    },\n",
    "                }\n",
    "            }\n",
    "        ]\n",
    "    }\n",
    ")"
   ]
  },
  {
   "cell_type": "code",
   "execution_count": null,
   "id": "92dcc0d5",
   "metadata": {},
   "outputs": [],
   "source": [
    "actionGroupId = update_agent_action_group_response['agentActionGroup']['actionGroupId']\n",
    "\n",
    "wait_for_action_group_status(\n",
    "    agentId=agentId,\n",
    "    actionGroupId=actionGroupId\n",
    ")"
   ]
  },
  {
   "cell_type": "code",
   "execution_count": null,
   "id": "f90b4e72",
   "metadata": {},
   "outputs": [],
   "source": [
    "message = \"\"\"mike@mike.com - I bought a mug 10 weeks ago and now it's broken. I want a refund.\"\"\""
   ]
  },
  {
   "cell_type": "markdown",
   "id": "abf409ba-cd18-44d9-8de1-c34b519af74a",
   "metadata": {},
   "source": [
    "#### Add code interpreter to deal with date"
   ]
  },
  {
   "cell_type": "code",
   "execution_count": null,
   "id": "a8df2074",
   "metadata": {},
   "outputs": [],
   "source": [
    "create_agent_action_group_response = bedrock_agent.create_agent_action_group(\n",
    "    actionGroupName='CodeInterpreterAction',\n",
    "    actionGroupState='ENABLED',\n",
    "    agentId=agentId,\n",
    "    agentVersion='DRAFT',\n",
    "    parentActionGroupSignature='AMAZON.CodeInterpreter'\n",
    ")\n",
    "\n",
    "codeInterpreterActionGroupId = create_agent_action_group_response['agentActionGroup']['actionGroupId']\n",
    "\n",
    "wait_for_action_group_status(\n",
    "    agentId=agentId, \n",
    "    actionGroupId=codeInterpreterActionGroupId\n",
    ")"
   ]
  },
  {
   "cell_type": "markdown",
   "id": "aadb665a-0058-4f71-ac89-cc2281577c7a",
   "metadata": {},
   "source": [
    "#### prepare agent and alias to add new action group"
   ]
  },
  {
   "cell_type": "code",
   "execution_count": null,
   "id": "84c2b02f",
   "metadata": {},
   "outputs": [],
   "source": [
    "prepare_agent_response = bedrock_agent.prepare_agent(\n",
    "    agentId=agentId\n",
    ")\n",
    "\n",
    "wait_for_agent_status(\n",
    "    agentId=agentId,\n",
    "    targetStatus='PREPARED'\n",
    ")"
   ]
  },
  {
   "cell_type": "code",
   "execution_count": null,
   "id": "0dd31619",
   "metadata": {},
   "outputs": [],
   "source": [
    "bedrock_agent.update_agent_alias(\n",
    "    agentId=agentId,\n",
    "    agentAliasId=agentAliasId,\n",
    "    agentAliasName='test',\n",
    ")\n",
    "\n",
    "wait_for_agent_alias_status(\n",
    "    agentId=agentId,\n",
    "    agentAliasId=agentAliasId,\n",
    "    targetStatus='PREPARED'\n",
    ")"
   ]
  },
  {
   "cell_type": "markdown",
   "id": "24418bc1-dd1a-4c9c-b0b5-588d4ba21c32",
   "metadata": {},
   "source": [
    "#### Now try it"
   ]
  },
  {
   "cell_type": "code",
   "execution_count": null,
   "id": "75cdc798",
   "metadata": {},
   "outputs": [],
   "source": [
    "sessionId = str(uuid.uuid4())\n",
    "message = \"\"\"mike@mike.com - I bought a mug 10 weeks ago and now it's broken. I want a refund.\"\"\""
   ]
  },
  {
   "cell_type": "code",
   "execution_count": null,
   "id": "d296a422",
   "metadata": {},
   "outputs": [],
   "source": [
    "invoke_agent_and_print(\n",
    "    agentId=agentId,\n",
    "    agentAliasId=agentAliasId,\n",
    "    inputText=message,\n",
    "    sessionId=sessionId,\n",
    "    enableTrace=True\n",
    ")"
   ]
  },
  {
   "cell_type": "markdown",
   "id": "638935ec-7380-4b2c-a8d2-b187529bff00",
   "metadata": {},
   "source": [
    "#### Lets look at the code"
   ]
  },
  {
   "cell_type": "code",
   "execution_count": null,
   "id": "17d1741e",
   "metadata": {},
   "outputs": [],
   "source": [
    "sessionId = str(uuid.uuid4())\n",
    "message = \"\"\"mike@mike.com - I bought a mug 10 weeks ago and now it's broken. I want a refund.\"\"\""
   ]
  },
  {
   "cell_type": "code",
   "execution_count": null,
   "id": "16e8a50e",
   "metadata": {},
   "outputs": [],
   "source": [
    "bedrock_agent_runtime = boto3.client(service_name='bedrock-agent-runtime', region_name='us-west-2')"
   ]
  },
  {
   "cell_type": "code",
   "execution_count": null,
   "id": "b2a58e81",
   "metadata": {},
   "outputs": [],
   "source": [
    "invoke_agent_response = bedrock_agent_runtime.invoke_agent(\n",
    "    agentAliasId=agentAliasId,\n",
    "    agentId=agentId,\n",
    "    sessionId=sessionId,\n",
    "    inputText=message,\n",
    "    endSession=False,\n",
    "    enableTrace=True,\n",
    ")\n",
    "\n",
    "event_stream = invoke_agent_response[\"completion\"]\n",
    "\n",
    "for event in event_stream:\n",
    "    if 'chunk' in event:\n",
    "        # Decode the bytes object to a string\n",
    "        chunk_text = event['chunk'].get('bytes', b'').decode('utf-8')\n",
    "        print(json.dumps({'chunk': chunk_text}, indent=2))\n",
    "    else:\n",
    "        # For other event types, print as is\n",
    "        print(json.dumps(event, indent=2))"
   ]
  },
  {
   "cell_type": "code",
   "execution_count": null,
   "id": "b8d91418-5cb6-4748-9f0f-bd4aa7991cdd",
   "metadata": {},
   "outputs": [],
   "source": []
  },
  {
   "cell_type": "code",
   "execution_count": null,
   "id": "e9b91f92-ab3c-4352-9678-fc20e824bc55",
   "metadata": {},
   "outputs": [],
   "source": []
  }
 ],
 "metadata": {
  "kernelspec": {
   "display_name": "Python 3 (ipykernel)",
   "language": "python",
   "name": "python3"
  },
  "language_info": {
   "codemirror_mode": {
    "name": "ipython",
    "version": 3
   },
   "file_extension": ".py",
   "mimetype": "text/x-python",
   "name": "python",
   "nbconvert_exporter": "python",
   "pygments_lexer": "ipython3",
   "version": "3.11.7"
  }
 },
 "nbformat": 4,
 "nbformat_minor": 5
}
