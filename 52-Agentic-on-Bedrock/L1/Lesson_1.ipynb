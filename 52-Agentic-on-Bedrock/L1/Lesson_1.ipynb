{
 "cells": [
  {
   "cell_type": "markdown",
   "id": "d2a14d50-e547-4a6a-a1a5-e4c3d8a2d365",
   "metadata": {},
   "source": [
    "# Lesson 1: Your first agent with Amazon Bedrock"
   ]
  },
  {
   "cell_type": "markdown",
   "id": "c2af05f4-fd9f-4dab-b93a-701bd4aa915f",
   "metadata": {},
   "source": [
    "## Preparation \n",
    "<p style=\"background-color:#fff6ff; padding:15px; border-width:3px; border-color:#efe6ef; border-style:solid; border-radius:6px\"> 💻 &nbsp; <b>Access <code>requirements.txt</code> and <code>helper.py</code> and other files:</b> 1) click on the <em>\"File\"</em> option on the top menu of the notebook and then 2) click on <em>\"Open\"</em>. For more help, please see the <em>\"Appendix - Tips and Help\"</em> Lesson.</p>"
   ]
  },
  {
   "cell_type": "code",
   "execution_count": 1,
   "id": "c8e64227-949b-4a6c-81e0-e49401789dd2",
   "metadata": {},
   "outputs": [],
   "source": [
    "import os\n",
    "from dotenv import load_dotenv, find_dotenv\n",
    "_ = load_dotenv(find_dotenv())\n",
    "roleArn=os.getenv('BEDROCKAGENTROLE')"
   ]
  },
  {
   "cell_type": "code",
   "execution_count": 2,
   "id": "2d2f9f93",
   "metadata": {
    "height": 166
   },
   "outputs": [
    {
     "name": "stdout",
     "output_type": "stream",
     "text": [
      "Resetting environment (if nessesary)\n",
      "Agent reset process completed.\n",
      "Lambda reset process completed.\n",
      "Guardrail reset process completed.\n",
      "Environment reset complete.\n"
     ]
    }
   ],
   "source": [
    "# Before you start, please run the following code to set up your environment.\n",
    "# This code will reset the environment (if needed) and prepare the resources for the lesson.\n",
    "# It does this by quickly running through all the code from the previous lessons.\n",
    "\n",
    "!sh ./ro_shared_data/reset.sh\n",
    "\n",
    "roleArn=os.getenv('BEDROCKAGENTROLE')"
   ]
  },
  {
   "cell_type": "markdown",
   "id": "2f375ad5",
   "metadata": {},
   "source": [
    "## Start of the lesson"
   ]
  },
  {
   "cell_type": "code",
   "execution_count": 3,
   "id": "b4c0d8f2",
   "metadata": {
    "height": 30
   },
   "outputs": [],
   "source": [
    "import boto3"
   ]
  },
  {
   "cell_type": "code",
   "execution_count": 4,
   "id": "caeca35a",
   "metadata": {
    "height": 30
   },
   "outputs": [],
   "source": [
    "bedrock_agent = boto3.client(service_name='bedrock-agent', region_name='us-east-1')"
   ]
  },
  {
   "cell_type": "code",
   "execution_count": 5,
   "id": "337f1e4e",
   "metadata": {
    "height": 115,
    "scrolled": true
   },
   "outputs": [
    {
     "ename": "AccessDeniedException",
     "evalue": "An error occurred (AccessDeniedException) when calling the CreateAgent operation: User: arn:aws:iam::092413168457:user/openailab is not authorized to perform: bedrock:CreateAgent",
     "output_type": "error",
     "traceback": [
      "\u001b[0;31m---------------------------------------------------------------------------\u001b[0m",
      "\u001b[0;31mAccessDeniedException\u001b[0m                     Traceback (most recent call last)",
      "Cell \u001b[0;32mIn[5], line 1\u001b[0m\n\u001b[0;32m----> 1\u001b[0m create_agent_response \u001b[38;5;241m=\u001b[39m \u001b[43mbedrock_agent\u001b[49m\u001b[38;5;241;43m.\u001b[39;49m\u001b[43mcreate_agent\u001b[49m\u001b[43m(\u001b[49m\n\u001b[1;32m      2\u001b[0m \u001b[43m    \u001b[49m\u001b[43magentName\u001b[49m\u001b[38;5;241;43m=\u001b[39;49m\u001b[38;5;124;43m'\u001b[39;49m\u001b[38;5;124;43mmugs-customer-support-agent\u001b[39;49m\u001b[38;5;124;43m'\u001b[39;49m\u001b[43m,\u001b[49m\n\u001b[1;32m      3\u001b[0m \u001b[43m    \u001b[49m\u001b[43mfoundationModel\u001b[49m\u001b[38;5;241;43m=\u001b[39;49m\u001b[38;5;124;43m'\u001b[39;49m\u001b[38;5;124;43manthropic.claude-3-haiku-20240307-v1:0\u001b[39;49m\u001b[38;5;124;43m'\u001b[39;49m\u001b[43m,\u001b[49m\n\u001b[1;32m      4\u001b[0m \u001b[43m    \u001b[49m\u001b[43minstruction\u001b[49m\u001b[38;5;241;43m=\u001b[39;49m\u001b[38;5;124;43m\"\"\"\u001b[39;49m\u001b[38;5;124;43mYou are an advanced AI agent acting as a front line customer support agent.\u001b[39;49m\u001b[38;5;124;43m\"\"\"\u001b[39;49m\u001b[43m,\u001b[49m\n\u001b[1;32m      5\u001b[0m \u001b[43m    \u001b[49m\u001b[43magentResourceRoleArn\u001b[49m\u001b[38;5;241;43m=\u001b[39;49m\u001b[43mroleArn\u001b[49m\n\u001b[1;32m      6\u001b[0m \u001b[43m)\u001b[49m\n",
      "File \u001b[0;32m/media/mark/data/ES/OpenAI-labs/52-Agentic-on-Bedrock/52/lib/python3.12/site-packages/botocore/client.py:569\u001b[0m, in \u001b[0;36mClientCreator._create_api_method.<locals>._api_call\u001b[0;34m(self, *args, **kwargs)\u001b[0m\n\u001b[1;32m    565\u001b[0m     \u001b[38;5;28;01mraise\u001b[39;00m \u001b[38;5;167;01mTypeError\u001b[39;00m(\n\u001b[1;32m    566\u001b[0m         \u001b[38;5;124mf\u001b[39m\u001b[38;5;124m\"\u001b[39m\u001b[38;5;132;01m{\u001b[39;00mpy_operation_name\u001b[38;5;132;01m}\u001b[39;00m\u001b[38;5;124m() only accepts keyword arguments.\u001b[39m\u001b[38;5;124m\"\u001b[39m\n\u001b[1;32m    567\u001b[0m     )\n\u001b[1;32m    568\u001b[0m \u001b[38;5;66;03m# The \"self\" in this scope is referring to the BaseClient.\u001b[39;00m\n\u001b[0;32m--> 569\u001b[0m \u001b[38;5;28;01mreturn\u001b[39;00m \u001b[38;5;28;43mself\u001b[39;49m\u001b[38;5;241;43m.\u001b[39;49m\u001b[43m_make_api_call\u001b[49m\u001b[43m(\u001b[49m\u001b[43moperation_name\u001b[49m\u001b[43m,\u001b[49m\u001b[43m \u001b[49m\u001b[43mkwargs\u001b[49m\u001b[43m)\u001b[49m\n",
      "File \u001b[0;32m/media/mark/data/ES/OpenAI-labs/52-Agentic-on-Bedrock/52/lib/python3.12/site-packages/botocore/client.py:1023\u001b[0m, in \u001b[0;36mBaseClient._make_api_call\u001b[0;34m(self, operation_name, api_params)\u001b[0m\n\u001b[1;32m   1019\u001b[0m     error_code \u001b[38;5;241m=\u001b[39m error_info\u001b[38;5;241m.\u001b[39mget(\u001b[38;5;124m\"\u001b[39m\u001b[38;5;124mQueryErrorCode\u001b[39m\u001b[38;5;124m\"\u001b[39m) \u001b[38;5;129;01mor\u001b[39;00m error_info\u001b[38;5;241m.\u001b[39mget(\n\u001b[1;32m   1020\u001b[0m         \u001b[38;5;124m\"\u001b[39m\u001b[38;5;124mCode\u001b[39m\u001b[38;5;124m\"\u001b[39m\n\u001b[1;32m   1021\u001b[0m     )\n\u001b[1;32m   1022\u001b[0m     error_class \u001b[38;5;241m=\u001b[39m \u001b[38;5;28mself\u001b[39m\u001b[38;5;241m.\u001b[39mexceptions\u001b[38;5;241m.\u001b[39mfrom_code(error_code)\n\u001b[0;32m-> 1023\u001b[0m     \u001b[38;5;28;01mraise\u001b[39;00m error_class(parsed_response, operation_name)\n\u001b[1;32m   1024\u001b[0m \u001b[38;5;28;01melse\u001b[39;00m:\n\u001b[1;32m   1025\u001b[0m     \u001b[38;5;28;01mreturn\u001b[39;00m parsed_response\n",
      "\u001b[0;31mAccessDeniedException\u001b[0m: An error occurred (AccessDeniedException) when calling the CreateAgent operation: User: arn:aws:iam::092413168457:user/openailab is not authorized to perform: bedrock:CreateAgent"
     ]
    }
   ],
   "source": [
    "create_agent_response = bedrock_agent.create_agent(\n",
    "    agentName='mugs-customer-support-agent',\n",
    "    foundationModel='anthropic.claude-3-haiku-20240307-v1:0',\n",
    "    instruction=\"\"\"You are an advanced AI agent acting as a front line customer support agent.\"\"\",\n",
    "    agentResourceRoleArn=roleArn\n",
    ")"
   ]
  },
  {
   "cell_type": "code",
   "execution_count": null,
   "id": "e55f7771",
   "metadata": {
    "height": 30
   },
   "outputs": [],
   "source": [
    "create_agent_response"
   ]
  },
  {
   "cell_type": "code",
   "execution_count": null,
   "id": "596278c8",
   "metadata": {
    "height": 47
   },
   "outputs": [],
   "source": [
    "!ls ..\n",
    "!tar -cvf all_files.tar *"
   ]
  },
  {
   "cell_type": "code",
   "execution_count": null,
   "id": "b98f87f9",
   "metadata": {
    "height": 30
   },
   "outputs": [],
   "source": [
    "agentId = create_agent_response['agent']['agentId']"
   ]
  },
  {
   "cell_type": "code",
   "execution_count": null,
   "id": "b02f891d",
   "metadata": {
    "height": 30
   },
   "outputs": [],
   "source": [
    "from helper import *"
   ]
  },
  {
   "cell_type": "code",
   "execution_count": null,
   "id": "c9ccf112",
   "metadata": {
    "height": 81
   },
   "outputs": [],
   "source": [
    "wait_for_agent_status(\n",
    "    agentId=agentId, \n",
    "    targetStatus='NOT_PREPARED'\n",
    ")"
   ]
  },
  {
   "cell_type": "code",
   "execution_count": null,
   "id": "b0b58712",
   "metadata": {
    "height": 64
   },
   "outputs": [],
   "source": [
    "bedrock_agent.prepare_agent(\n",
    "    agentId=agentId\n",
    ")"
   ]
  },
  {
   "cell_type": "code",
   "execution_count": null,
   "id": "189180bd",
   "metadata": {
    "height": 81
   },
   "outputs": [],
   "source": [
    "wait_for_agent_status(\n",
    "    agentId=agentId, \n",
    "    targetStatus='PREPARED'\n",
    ")"
   ]
  },
  {
   "cell_type": "code",
   "execution_count": null,
   "id": "177fdca8",
   "metadata": {
    "height": 217
   },
   "outputs": [],
   "source": [
    "create_agent_alias_response = bedrock_agent.create_agent_alias(\n",
    "    agentId=agentId,\n",
    "    agentAliasName='MyAgentAlias',\n",
    ")\n",
    "\n",
    "agentAliasId = create_agent_alias_response['agentAlias']['agentAliasId']\n",
    "\n",
    "wait_for_agent_alias_status(\n",
    "    agentId=agentId,\n",
    "    agentAliasId=agentAliasId,\n",
    "    targetStatus='PREPARED'\n",
    ")"
   ]
  },
  {
   "cell_type": "code",
   "execution_count": null,
   "id": "000e1256",
   "metadata": {
    "height": 30
   },
   "outputs": [],
   "source": [
    "bedrock_agent_runtime = boto3.client(service_name='bedrock-agent-runtime', region_name='us-west-2')"
   ]
  },
  {
   "cell_type": "code",
   "execution_count": null,
   "id": "f41c3669",
   "metadata": {
    "height": 30
   },
   "outputs": [],
   "source": [
    "import uuid"
   ]
  },
  {
   "cell_type": "code",
   "execution_count": null,
   "id": "3b3ca486",
   "metadata": {
    "height": 217
   },
   "outputs": [],
   "source": [
    "message = \"Hello, I bought a mug from your store yesterday, and it broke. I want to return it.\"\n",
    "\n",
    "sessionId = str(uuid.uuid4())\n",
    "\n",
    "invoke_agent_response = bedrock_agent_runtime.invoke_agent(\n",
    "    agentId=agentId,\n",
    "    agentAliasId=agentAliasId,\n",
    "    inputText=message,\n",
    "    sessionId=sessionId,\n",
    "    endSession=False,\n",
    "    enableTrace=True,\n",
    ")"
   ]
  },
  {
   "cell_type": "code",
   "execution_count": null,
   "id": "25953b09",
   "metadata": {
    "height": 30
   },
   "outputs": [],
   "source": [
    "event_stream = invoke_agent_response[\"completion\"]"
   ]
  },
  {
   "cell_type": "code",
   "execution_count": null,
   "id": "36116ce1",
   "metadata": {
    "height": 47
   },
   "outputs": [],
   "source": [
    "for event in event_stream:\n",
    "    print(event)"
   ]
  },
  {
   "cell_type": "code",
   "execution_count": null,
   "id": "4678e87b",
   "metadata": {
    "height": 64
   },
   "outputs": [],
   "source": [
    "message = \"Hello, I bought a mug from your store yesterday, and it broke. I want to return it.\"\n",
    "\n",
    "sessionId = str(uuid.uuid4())"
   ]
  },
  {
   "cell_type": "code",
   "execution_count": null,
   "id": "fd9cbdfe",
   "metadata": {
    "height": 132
   },
   "outputs": [],
   "source": [
    "invoke_agent_and_print(\n",
    "    agentAliasId=agentAliasId,\n",
    "    agentId=agentId,\n",
    "    sessionId=sessionId,\n",
    "    inputText=message,\n",
    "    enableTrace=True,\n",
    ")"
   ]
  },
  {
   "cell_type": "code",
   "execution_count": null,
   "id": "70a5ed6d",
   "metadata": {
    "height": 30
   },
   "outputs": [],
   "source": []
  }
 ],
 "metadata": {
  "kernelspec": {
   "display_name": "Python 3 (ipykernel)",
   "language": "python",
   "name": "python3"
  },
  "language_info": {
   "codemirror_mode": {
    "name": "ipython",
    "version": 3
   },
   "file_extension": ".py",
   "mimetype": "text/x-python",
   "name": "python",
   "nbconvert_exporter": "python",
   "pygments_lexer": "ipython3",
   "version": "3.12.7"
  }
 },
 "nbformat": 4,
 "nbformat_minor": 5
}
