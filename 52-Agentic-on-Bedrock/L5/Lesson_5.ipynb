{
 "cells": [
  {
   "cell_type": "markdown",
   "id": "e78961f4-5cc1-423b-9df0-7d98a35c5b4b",
   "metadata": {},
   "source": [
    "# Lesson 5: Read the FAQ Manual"
   ]
  },
  {
   "cell_type": "code",
   "execution_count": null,
   "id": "003bb475",
   "metadata": {},
   "outputs": [],
   "source": [
    "# Before you start, please run the following code to set up your environment.\n",
    "# This code will reset the environment (if needed) and prepare the resources for the lesson.\n",
    "# It does this by quickly running through all the code from the previous lessons.\n",
    "\n",
    "!sh ./ro_shared_data/reset.sh\n",
    "%run ./ro_shared_data/lesson_2_prep.py lesson5\n",
    "%run ./ro_shared_data/lesson_3_prep.py lesson5\n",
    "%run ./ro_shared_data/lesson_4_prep.py lesson5\n",
    "%run ./ro_shared_data/lesson_5_prep.py lesson5\n",
    "\n",
    "import os   \n",
    "\n",
    "agentId = os.environ['BEDROCK_AGENT_ID']\n",
    "agentAliasId = os.environ['BEDROCK_AGENT_ALIAS_ID']\n",
    "region_name = 'us-west-2'\n",
    "knowledgeBaseId = 'YKHE2ZALMQ'"
   ]
  },
  {
   "cell_type": "markdown",
   "id": "10dce33b",
   "metadata": {},
   "source": [
    "## Lesson starts here"
   ]
  },
  {
   "cell_type": "code",
   "execution_count": null,
   "id": "4fb892aa",
   "metadata": {},
   "outputs": [],
   "source": [
    "import boto3\n",
    "import uuid, json\n",
    "from helper import *"
   ]
  },
  {
   "cell_type": "code",
   "execution_count": null,
   "id": "aeb7f05b",
   "metadata": {},
   "outputs": [],
   "source": [
    "bedrock_agent = boto3.client(service_name='bedrock-agent', region_name='us-west-2')"
   ]
  },
  {
   "cell_type": "code",
   "execution_count": null,
   "id": "4e53c1e7-3a74-4569-869c-f20367c9bc2f",
   "metadata": {},
   "outputs": [],
   "source": [
    "describe_agent_response = bedrock_agent.get_agent(\n",
    "    agentId=agentId\n",
    ")"
   ]
  },
  {
   "cell_type": "code",
   "execution_count": null,
   "id": "274d2664",
   "metadata": {},
   "outputs": [],
   "source": [
    "print(json.dumps(describe_agent_response, indent=4, default=str))"
   ]
  },
  {
   "cell_type": "code",
   "execution_count": null,
   "id": "22b14f44",
   "metadata": {},
   "outputs": [],
   "source": [
    "print(describe_agent_response['agent']['instruction'])"
   ]
  },
  {
   "cell_type": "markdown",
   "id": "9b5549c6-b091-43b1-9723-688ae7598e74",
   "metadata": {},
   "source": [
    "### Look at the knowledge base"
   ]
  },
  {
   "cell_type": "code",
   "execution_count": null,
   "id": "23660626",
   "metadata": {},
   "outputs": [],
   "source": [
    "get_knowledge_base_response = bedrock_agent.get_knowledge_base(\n",
    "    knowledgeBaseId=knowledgeBaseId\n",
    ")"
   ]
  },
  {
   "cell_type": "code",
   "execution_count": null,
   "id": "5c7c7993",
   "metadata": {},
   "outputs": [],
   "source": [
    "print(json.dumps(get_knowledge_base_response, indent=4, default=str))"
   ]
  },
  {
   "cell_type": "markdown",
   "id": "446cf09d-9781-4250-8dd2-db906ab7bd1b",
   "metadata": {},
   "source": [
    "### Connect the knowledge base"
   ]
  },
  {
   "cell_type": "code",
   "execution_count": null,
   "id": "1d6a6860",
   "metadata": {},
   "outputs": [],
   "source": [
    "associate_agent_knowledge_base_response = bedrock_agent.associate_agent_knowledge_base(\n",
    "    agentId=agentId,\n",
    "    knowledgeBaseId=knowledgeBaseId,\n",
    "    agentVersion='DRAFT',\n",
    "    description='my-kb'\n",
    ")"
   ]
  },
  {
   "cell_type": "code",
   "execution_count": null,
   "id": "c48ed423",
   "metadata": {},
   "outputs": [],
   "source": [
    "associate_agent_knowledge_base_response"
   ]
  },
  {
   "cell_type": "markdown",
   "id": "fa4ef084-f8ca-4df0-916e-d19f823c9209",
   "metadata": {},
   "source": [
    "### Prepare agent and alias"
   ]
  },
  {
   "cell_type": "code",
   "execution_count": null,
   "id": "8ba2df58",
   "metadata": {},
   "outputs": [],
   "source": [
    "bedrock_agent.prepare_agent(\n",
    "    agentId=agentId\n",
    ")\n",
    "\n",
    "wait_for_agent_status(\n",
    "    agentId=agentId,\n",
    "    targetStatus='PREPARED'\n",
    ")\n",
    "\n",
    "bedrock_agent.update_agent_alias(\n",
    "    agentId=agentId,\n",
    "    agentAliasId=agentAliasId,\n",
    "    agentAliasName='MyAgentAlias',\n",
    ")\n",
    "\n",
    "wait_for_agent_alias_status(\n",
    "    agentId=agentId,\n",
    "    agentAliasId=agentAliasId,\n",
    "    targetStatus='PREPARED'\n",
    ")"
   ]
  },
  {
   "cell_type": "markdown",
   "id": "3e657e5e-4eb1-4e60-a530-6d14071d936f",
   "metadata": {},
   "source": [
    "### Try it out"
   ]
  },
  {
   "cell_type": "code",
   "execution_count": null,
   "id": "d7aefb96",
   "metadata": {},
   "outputs": [],
   "source": [
    "sessionId = str(uuid.uuid4())\n",
    "message=\"\"\"\"mike@mike.com - I bought a mug 10 weeks ago and now it's broken. I want a refund.\"\"\""
   ]
  },
  {
   "cell_type": "code",
   "execution_count": null,
   "id": "c65c7509",
   "metadata": {},
   "outputs": [],
   "source": [
    "invoke_agent_and_print(\n",
    "    agentId=agentId,\n",
    "    agentAliasId=agentAliasId,\n",
    "    inputText=message,  \n",
    "    sessionId=sessionId,\n",
    "    enableTrace=False\n",
    ")"
   ]
  },
  {
   "cell_type": "code",
   "execution_count": null,
   "id": "3384039c",
   "metadata": {},
   "outputs": [],
   "source": [
    "message=\"\"\"\"It's just a minor crack.  What can I do?\"\"\""
   ]
  },
  {
   "cell_type": "code",
   "execution_count": null,
   "id": "09f3de6c",
   "metadata": {},
   "outputs": [],
   "source": [
    "invoke_agent_and_print(\n",
    "    agentId=agentId,\n",
    "    agentAliasId=agentAliasId,\n",
    "    inputText=message,  \n",
    "    sessionId=sessionId,\n",
    "    enableTrace=True\n",
    ")"
   ]
  },
  {
   "cell_type": "markdown",
   "id": "8d8fe88f-032a-4e77-bafe-fd82fa794e4e",
   "metadata": {},
   "source": [
    "### Another Question, new session"
   ]
  },
  {
   "cell_type": "code",
   "execution_count": null,
   "id": "c44c6e99",
   "metadata": {},
   "outputs": [],
   "source": [
    "sessionId = str(uuid.uuid4())\n",
    "message=\"\"\"\"My mug is chipped, what can I do?\"\"\""
   ]
  },
  {
   "cell_type": "code",
   "execution_count": null,
   "id": "cf799a66",
   "metadata": {},
   "outputs": [],
   "source": [
    "invoke_agent_and_print(\n",
    "    agentId=agentId,\n",
    "    agentAliasId=agentAliasId,\n",
    "    inputText=message,  \n",
    "    sessionId=sessionId,\n",
    "    enableTrace=True\n",
    ")"
   ]
  },
  {
   "cell_type": "code",
   "execution_count": null,
   "id": "72d11c4e",
   "metadata": {},
   "outputs": [],
   "source": [
    "message=\"\"\"\"mike@mike.com - I am not happy.  I bought this mug yesterday. I want a refund.\"\"\""
   ]
  },
  {
   "cell_type": "code",
   "execution_count": null,
   "id": "4726eb37",
   "metadata": {},
   "outputs": [],
   "source": [
    "invoke_agent_and_print(\n",
    "    agentId=agentId,\n",
    "    agentAliasId=agentAliasId,\n",
    "    inputText=message,  \n",
    "    sessionId=sessionId,\n",
    "    enableTrace=True\n",
    ")"
   ]
  },
  {
   "cell_type": "code",
   "execution_count": null,
   "id": "53131a5a",
   "metadata": {},
   "outputs": [],
   "source": []
  },
  {
   "cell_type": "code",
   "execution_count": null,
   "id": "f8b05a9c",
   "metadata": {},
   "outputs": [],
   "source": [
    "sessionId = str(uuid.uuid4())\n",
    "message=\"\"\"\"Try your own message\"\"\""
   ]
  }
 ],
 "metadata": {
  "kernelspec": {
   "display_name": "Python 3 (ipykernel)",
   "language": "python",
   "name": "python3"
  },
  "language_info": {
   "codemirror_mode": {
    "name": "ipython",
    "version": 3
   },
   "file_extension": ".py",
   "mimetype": "text/x-python",
   "name": "python",
   "nbconvert_exporter": "python",
   "pygments_lexer": "ipython3",
   "version": "3.11.7"
  }
 },
 "nbformat": 4,
 "nbformat_minor": 5
}
