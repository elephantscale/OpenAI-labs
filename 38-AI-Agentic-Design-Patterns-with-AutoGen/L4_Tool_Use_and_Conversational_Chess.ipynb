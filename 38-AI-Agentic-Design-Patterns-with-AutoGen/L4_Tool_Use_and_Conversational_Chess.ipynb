{
 "cells": [
  {
   "cell_type": "markdown",
   "source": [
    "# Lesson 4: Tool Use and Conversational Chess"
   ],
   "metadata": {
    "collapsed": false
   },
   "id": "4deb6f766407de4d"
  },
  {
   "cell_type": "code",
   "outputs": [],
   "source": [
    "from utils import get_openai_api_key\n",
    "\n",
    "OPENAI_API_KEY = get_openai_api_key()\n",
    "llm_config = {\"model\": \"gpt-4o\"}"
   ],
   "metadata": {
    "collapsed": false
   },
   "id": "99b2436c54c181fa",
   "execution_count": null
  },
  {
   "cell_type": "markdown",
   "source": [
    "# Define the chess board"
   ],
   "metadata": {
    "collapsed": false
   },
   "id": "6d92445aa8da0fdb"
  },
  {
   "cell_type": "code",
   "outputs": [],
   "source": [
    "import chess\n",
    "import chess.svg\n",
    "from typing_extensions import Annotated\n",
    "\n",
    "board = chess.Board()\n",
    "made_move = False"
   ],
   "metadata": {
    "collapsed": false
   },
   "id": "5d95e98a3ecc0e75",
   "execution_count": null
  },
  {
   "cell_type": "markdown",
   "source": [
    "# Define the needed tool"
   ],
   "metadata": {
    "collapsed": false
   },
   "id": "4eab520a2b2190b6"
  },
  {
   "cell_type": "code",
   "outputs": [],
   "source": [
    "def get_legal_moves()->Annotated[str,\"A list of legal moves in UCI format\"]:\n",
    "    return \"Possible move are: \" + \", \".join([str(move) for move in board.legal_moves])\n",
    "\n",
    "def make_move(\n",
    "    move: Annotated[str, \"A move in UCI format.\"]\n",
    ") -> Annotated[str, \"Result of the move.\"]:\n",
    "    move = chess.Move.from_uci(move)\n",
    "    board.push_uci(str(move))\n",
    "    global made_move\n",
    "    made_move = True\n",
    "    \n",
    "    display(\n",
    "        chess.svg.board(\n",
    "            board,\n",
    "            arrows=[(move.from_square, move.to_square)],\n",
    "            fill={move.from_square: \"gray\"},\n",
    "            size=200\n",
    "        )\n",
    "    )\n",
    "    \n",
    "    piece = board.piece_at(move.to_square)\n",
    "    piece_symbol = piece.unicode_symbol()\n",
    "    piece_name = (\n",
    "        chess.piece_name(piece.piece_type).capitalize()\n",
    "        if piece_symbol.isupper()\n",
    "        else chess.piece_name(piece.piece_type)\n",
    "    )\n",
    "    return f\"Moved {piece_name} ({piece_symbol}) from \"\\\n",
    "    f\"{chess.SQUARE_NAMES[move.from_square]} to \"\\\n",
    "    f\"{chess.SQUARE_NAMES[move.to_square]}.\""
   ],
   "metadata": {
    "collapsed": false
   },
   "id": "3d597d82c7c63c72",
   "execution_count": null
  },
  {
   "cell_type": "markdown",
   "source": [
    "# Create agents"
   ],
   "metadata": {
    "collapsed": false
   },
   "id": "32256ed62d506520"
  },
  {
   "cell_type": "code",
   "outputs": [],
   "source": [
    "from autogen import ConversableAgent\n",
    "\n",
    "player_white = ConversableAgent(\n",
    "    name=\"Player White\",\n",
    "    system_message=\"You are a chess player and you play as white. \"\n",
    "    \"First call get_legal_moves(), to get a list of legal moves. \"\n",
    "    \"Then call make_move(move) to make a move.\",\n",
    "    llm_config=llm_config,\n",
    ")\n",
    "\n",
    "player_black = ConversableAgent(\n",
    "    name=\"Player Black\",\n",
    "    system_message=\"You are a chess player and you play as black. \"\n",
    "    \"First call get_legal_moves(), to get a list of legal moves. \"\n",
    "    \"Then call make_move(move) to make a move.\",\n",
    "    llm_config=llm_config,\n",
    ")\n",
    "\n",
    "def check_made_move(msg):\n",
    "    global made_move\n",
    "    if made_move:\n",
    "        made_move = False\n",
    "        return True\n",
    "    else:\n",
    "        return False\n",
    "\n",
    "\n",
    "board_proxy = ConversableAgent(\n",
    "    name=\"Board Proxy\",\n",
    "    llm_config=False,\n",
    "    is_termination_msg=check_made_move,\n",
    "    default_auto_reply=\"Please make a move.\",\n",
    "    human_input_mode=\"NEVER\",\n",
    ")"
   ],
   "metadata": {
    "collapsed": false
   },
   "id": "cffe3f6ad74f4fb5",
   "execution_count": null
  },
  {
   "cell_type": "markdown",
   "source": [
    "# Register the tools"
   ],
   "metadata": {
    "collapsed": false
   },
   "id": "2f5b9bce160251f"
  },
  {
   "cell_type": "code",
   "outputs": [],
   "source": [
    "from autogen import register_function\n",
    "\n",
    "for caller in [player_white, player_black]:\n",
    "    register_function(\n",
    "        get_legal_moves,\n",
    "        caller=caller,\n",
    "        executor=board_proxy,\n",
    "        name=\"get_legal_moves\",\n",
    "        description=\"Get legal moves.\",\n",
    "    )\n",
    "    \n",
    "    register_function(\n",
    "        make_move,\n",
    "        caller=caller,\n",
    "        executor=board_proxy,\n",
    "        name=\"make_move\",\n",
    "        description=\"Call this tool to make a move.\",\n",
    "    )\n",
    "    \n",
    "    player_black.llm_config[\"tools\"]"
   ],
   "metadata": {
    "collapsed": false
   },
   "id": "cc34063e44abb104",
   "execution_count": null
  },
  {
   "cell_type": "markdown",
   "source": [
    "# Register the nested chats"
   ],
   "metadata": {
    "collapsed": false
   },
   "id": "c6f74b6fd6595bff"
  },
  {
   "cell_type": "code",
   "outputs": [],
   "source": [
    "player_white.register_nested_chats(\n",
    "    trigger=player_black,\n",
    "    chat_queue=[\n",
    "        {\n",
    "            \"sender\": board_proxy,\n",
    "            \"recipient\": player_white,\n",
    "            \"summary_method\": \"last_msg\",\n",
    "        }\n",
    "    ],\n",
    ")\n",
    "\n",
    "player_black.register_nested_chats(\n",
    "    trigger=player_white,\n",
    "    chat_queue=[\n",
    "        {\n",
    "            \"sender\": board_proxy,\n",
    "            \"recipient\": player_black,\n",
    "            \"summary_method\": \"last_msg\",\n",
    "        }\n",
    "    ],\n",
    ")"
   ],
   "metadata": {
    "collapsed": false
   },
   "id": "1bed369a1b1a92ad",
   "execution_count": null
  },
  {
   "cell_type": "markdown",
   "source": [
    "# Start the Game"
   ],
   "metadata": {
    "collapsed": false
   },
   "id": "5322ce763b54533f"
  },
  {
   "cell_type": "code",
   "outputs": [],
   "source": [
    "board = chess.Board()\n",
    "\n",
    "chat_result = player_black.initiate_chat(\n",
    "    player_white,\n",
    "    message=\"Let's play chess! Your move.\",\n",
    "    max_turns=2,\n",
    ")\n",
    "\n",
    "player_white = ConversableAgent(\n",
    "    name=\"Player White\",\n",
    "    system_message=\"You are a chess player and you play as white. \"\n",
    "    \"First call get_legal_moves(), to get a list of legal moves. \"\n",
    "    \"Then call make_move(move) to make a move. \"\n",
    "    \"After a move is made, chitchat to make the game fun.\",\n",
    "    llm_config=llm_config,\n",
    ")\n",
    "\n",
    "player_black = ConversableAgent(\n",
    "    name=\"Player Black\",\n",
    "    system_message=\"You are a chess player and you play as black. \"\n",
    "    \"First call get_legal_moves(), to get a list of legal moves. \"\n",
    "    \"Then call make_move(move) to make a move. \"\n",
    "    \"After a move is made, chitchat to make the game fun.\",\n",
    "    llm_config=llm_config,\n",
    ")"
   ],
   "metadata": {
    "collapsed": false
   },
   "id": "8ebfb8f9ac47d2d8",
   "execution_count": null
  },
  {
   "cell_type": "code",
   "outputs": [],
   "source": [
    "for caller in [player_white, player_black]:\n",
    "    register_function(\n",
    "        get_legal_moves,\n",
    "        caller=caller,\n",
    "        executor=board_proxy,\n",
    "        name=\"get_legal_moves\",\n",
    "        description=\"Get legal moves.\",\n",
    "    )\n",
    "\n",
    "    register_function(\n",
    "        make_move,\n",
    "        caller=caller,\n",
    "        executor=board_proxy,\n",
    "        name=\"make_move\",\n",
    "        description=\"Call this tool to make a move.\",\n",
    "    )\n",
    "\n",
    "player_white.register_nested_chats(\n",
    "    trigger=player_black,\n",
    "    chat_queue=[\n",
    "        {\n",
    "            \"sender\": board_proxy,\n",
    "            \"recipient\": player_white,\n",
    "            \"summary_method\": \"last_msg\",\n",
    "            \"silent\": True,\n",
    "        }\n",
    "    ],\n",
    ")\n",
    "\n",
    "player_black.register_nested_chats(\n",
    "    trigger=player_white,\n",
    "    chat_queue=[\n",
    "        {\n",
    "            \"sender\": board_proxy,\n",
    "            \"recipient\": player_black,\n",
    "            \"summary_method\": \"last_msg\",\n",
    "            \"silent\": True,\n",
    "        }\n",
    "    ],\n",
    ")"
   ],
   "metadata": {
    "collapsed": false
   },
   "id": "1639eef8a47886a9",
   "execution_count": null
  },
  {
   "cell_type": "code",
   "outputs": [],
   "source": [
    "board = chess.Board()\n",
    "\n",
    "chat_result = player_black.initiate_chat(\n",
    "    player_white,\n",
    "    message=\"Let's play chess! Your move.\",\n",
    "    max_turns=2,\n",
    ")"
   ],
   "metadata": {
    "collapsed": false
   },
   "id": "2472eaf9d29af2d2",
   "execution_count": null
  }
 ],
 "metadata": {
  "kernelspec": {
   "display_name": "Python 3",
   "language": "python",
   "name": "python3"
  },
  "language_info": {
   "codemirror_mode": {
    "name": "ipython",
    "version": 2
   },
   "file_extension": ".py",
   "mimetype": "text/x-python",
   "name": "python",
   "nbconvert_exporter": "python",
   "pygments_lexer": "ipython2",
   "version": "2.7.6"
  }
 },
 "nbformat": 4,
 "nbformat_minor": 5
}
