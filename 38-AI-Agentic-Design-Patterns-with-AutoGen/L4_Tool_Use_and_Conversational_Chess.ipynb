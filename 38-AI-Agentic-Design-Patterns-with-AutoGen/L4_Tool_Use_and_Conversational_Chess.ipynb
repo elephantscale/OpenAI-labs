{
 "cells": [
  {
   "cell_type": "markdown",
   "source": [
    "# Lesson 4: Tool Use and Conversational Chess"
   ],
   "metadata": {
    "collapsed": false
   },
   "id": "4deb6f766407de4d"
  },
  {
   "cell_type": "code",
   "outputs": [],
   "source": [
    "from utils import get_openai_api_key\n",
    "\n",
    "OPENAI_API_KEY = get_openai_api_key()\n",
    "llm_config = {\"model\": \"gpt-4o\"}"
   ],
   "metadata": {
    "collapsed": false,
    "ExecuteTime": {
     "end_time": "2024-07-31T11:47:58.337992Z",
     "start_time": "2024-07-31T11:47:58.329872Z"
    }
   },
   "id": "99b2436c54c181fa",
   "execution_count": 1
  },
  {
   "cell_type": "markdown",
   "source": [
    "# Define the chess board"
   ],
   "metadata": {
    "collapsed": false
   },
   "id": "6d92445aa8da0fdb"
  },
  {
   "cell_type": "code",
   "outputs": [],
   "source": [
    "import chess\n",
    "import chess.svg\n",
    "from typing_extensions import Annotated\n",
    "\n",
    "board = chess.Board()\n",
    "made_move = False"
   ],
   "metadata": {
    "collapsed": false,
    "ExecuteTime": {
     "end_time": "2024-07-31T11:50:18.377715Z",
     "start_time": "2024-07-31T11:50:18.309917Z"
    }
   },
   "id": "5d95e98a3ecc0e75",
   "execution_count": 3
  },
  {
   "cell_type": "markdown",
   "source": [
    "# Define the needed tool"
   ],
   "metadata": {
    "collapsed": false
   },
   "id": "4eab520a2b2190b6"
  },
  {
   "cell_type": "code",
   "outputs": [],
   "source": [
    "def get_legal_moves()->Annotated[str,\"A list of legal moves in UCI format\"]:\n",
    "    return \"Possible move are: \" + \", \".join([str(move) for move in board.legal_moves])\n",
    "\n"
   ],
   "metadata": {
    "collapsed": false
   },
   "id": "3d597d82c7c63c72"
  }
 ],
 "metadata": {
  "kernelspec": {
   "display_name": "Python 3",
   "language": "python",
   "name": "python3"
  },
  "language_info": {
   "codemirror_mode": {
    "name": "ipython",
    "version": 2
   },
   "file_extension": ".py",
   "mimetype": "text/x-python",
   "name": "python",
   "nbconvert_exporter": "python",
   "pygments_lexer": "ipython2",
   "version": "2.7.6"
  }
 },
 "nbformat": 4,
 "nbformat_minor": 5
}
