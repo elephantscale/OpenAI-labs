{
 "cells": [
  {
   "cell_type": "markdown",
   "source": [
    "# Lesson 1: Multi-Agent Conversation and Stand-up Comedy"
   ],
   "metadata": {
    "collapsed": false
   },
   "id": "f151aafc65181384"
  },
  {
   "cell_type": "code",
   "outputs": [],
   "source": [
    "from utils import get_openai_api_key\n",
    "\n",
    "OPENAI_API_KEY = get_openai_api_key()\n",
    "llm_config = {\"model\": \"gpt-4o\"}"
   ],
   "metadata": {
    "collapsed": false
   },
   "id": "8cecd86a300fedd0",
   "execution_count": null
  },
  {
   "cell_type": "markdown",
   "source": [
    "# Define an autogen agent"
   ],
   "metadata": {
    "collapsed": false
   },
   "id": "8241b524e4c834ea"
  },
  {
   "cell_type": "code",
   "outputs": [],
   "source": [
    "from autogen import ConversableAgent\n",
    "\n",
    "agent = ConversableAgent(\n",
    "    name=\"chatbot\",\n",
    "    llm_config=llm_config,\n",
    "    human_input_mode=\"NEVER\"\n",
    ")"
   ],
   "metadata": {
    "collapsed": false
   },
   "id": "72fc7b31b082ac4b",
   "execution_count": null
  },
  {
   "cell_type": "code",
   "outputs": [],
   "source": [
    "reply = agent.generate_reply(\n",
    "    messages=[{\"content\": \"Tell me a joke\", \"role\": \"user\"}]\n",
    ")\n",
    "print(reply)"
   ],
   "metadata": {
    "collapsed": false
   },
   "id": "2a9b73ad51ed9d43",
   "execution_count": null
  },
  {
   "cell_type": "code",
   "outputs": [],
   "source": [
    "reply = agent.generate_reply(\n",
    "    messages=[{\"content\": \"Repeat the joke.\", \"role\": \"user\"}]\n",
    ")\n",
    "print(reply)"
   ],
   "metadata": {
    "collapsed": false
   },
   "id": "51bd4c4be4bc0f26",
   "execution_count": null
  },
  {
   "cell_type": "markdown",
   "source": [
    "# Conversation"
   ],
   "metadata": {
    "collapsed": false
   },
   "id": "a22cb3ff92e628a4"
  },
  {
   "cell_type": "code",
   "outputs": [],
   "source": [
    "cathy = ConversableAgent(\n",
    "    name=\"cathy\",\n",
    "    llm_config=llm_config,\n",
    "    human_input_mode=\"NEVER\",\n",
    "    system_message=\n",
    "    \"Your name is Cathy and you are a stand-up comedian.\",\n",
    ")\n",
    "\n",
    "joe = ConversableAgent(\n",
    "    name=\"joe\",\n",
    "    llm_config=llm_config,\n",
    "    human_input_mode=\"NEVER\",\n",
    "    system_message=\n",
    "    \"Your name is Joe and you are a stand-up comedian. \"\n",
    "    \"Start the next joke from the punchline of the previous joke.\",\n",
    ")\n",
    "\n",
    "chat_result = joe.initiate_chat(\n",
    "    recipient=cathy,\n",
    "    message=\"I'm Joe. Cathy, let's keep the jokes rolling.\",\n",
    "    max_turns=2\n",
    ")\n"
   ],
   "metadata": {
    "collapsed": false
   },
   "id": "a64c4377fe39ad98",
   "execution_count": null
  },
  {
   "cell_type": "code",
   "outputs": [],
   "source": [
    "import pprint\n",
    "\n",
    "pprint.pprint(chat_result.chat_history)"
   ],
   "metadata": {
    "collapsed": false
   },
   "id": "cd3b58926c890feb",
   "execution_count": null
  },
  {
   "cell_type": "code",
   "outputs": [],
   "source": [
    "pprint.pprint(chat_result.summary)"
   ],
   "metadata": {
    "collapsed": false
   },
   "id": "2b8ed742fe84cc4",
   "execution_count": null
  },
  {
   "cell_type": "code",
   "outputs": [],
   "source": [
    "pprint.pprint(chat_result.cost)"
   ],
   "metadata": {
    "collapsed": false
   },
   "id": "172e13dc6b3a1964",
   "execution_count": null
  },
  {
   "cell_type": "code",
   "outputs": [],
   "source": [
    "chat_result=joe.initiate_chat(\n",
    "    cathy,\n",
    "    message=\"I'm Joe. Cathy, let's keep the jokes rolling.\", \n",
    "    max_turns=2, \n",
    "    summary_method=\"reflection_with_llm\",\n",
    "    summary_prompt=\"Summarize the conversation\",\n",
    ")"
   ],
   "metadata": {
    "collapsed": false
   },
   "id": "78a9ce9f2e6e6e45",
   "execution_count": null
  },
  {
   "cell_type": "code",
   "outputs": [],
   "source": [
    "pprint.pprint(chat_result.summary)"
   ],
   "metadata": {
    "collapsed": false
   },
   "id": "95be3a984a7938ae",
   "execution_count": null
  },
  {
   "cell_type": "code",
   "outputs": [],
   "source": [
    "cathy = ConversableAgent(\n",
    "    name=\"cathy\",\n",
    "    llm_config=llm_config,\n",
    "    human_input_mode=\"NEVER\",\n",
    "    system_message=\n",
    "    \"Your name is Cathy and you are a stand-up comedian.\"\n",
    "    \"When you're ready to end the conversation, say 'I gotta go'.\",\n",
    "    is_termination_msg=lambda msg:\"I gotta go\" in msg['content']\n",
    ")\n",
    "\n",
    "joe = ConversableAgent(\n",
    "    name=\"joe\",\n",
    "    llm_config=llm_config,\n",
    "    human_input_mode=\"NEVER\",\n",
    "    system_message=\n",
    "    \"Your name is Joe and you are a stand-up comedian. \"\n",
    "    \"When you're ready to end the conversation, say 'I gotta go'.\",\n",
    "    is_termination_msg=lambda msg:\"I gotta go\" in msg['content']\n",
    ")\n",
    "\n",
    "chat_result=joe.initiate_chat(\n",
    "    recipient=cathy,\n",
    "    message=\"I'm Joe. Cathy, let's keep the jokes rolling.\"\n",
    ")"
   ],
   "metadata": {
    "collapsed": false
   },
   "id": "677a1a44911f102b",
   "execution_count": null
  },
  {
   "cell_type": "code",
   "outputs": [],
   "source": [
    "cathy.send(message=\"What's last joke we talked about?\", recipient=joe)"
   ],
   "metadata": {
    "collapsed": false
   },
   "id": "ed10bf776d1b6d50",
   "execution_count": null
  }
 ],
 "metadata": {
  "kernelspec": {
   "display_name": "Python 3",
   "language": "python",
   "name": "python3"
  },
  "language_info": {
   "codemirror_mode": {
    "name": "ipython",
    "version": 2
   },
   "file_extension": ".py",
   "mimetype": "text/x-python",
   "name": "python",
   "nbconvert_exporter": "python",
   "pygments_lexer": "ipython2",
   "version": "2.7.6"
  }
 },
 "nbformat": 4,
 "nbformat_minor": 5
}
