{
 "cells": [
  {
   "cell_type": "markdown",
   "source": [
    "# Lesson 5: Coding and Financial Analysis"
   ],
   "metadata": {
    "collapsed": false
   },
   "id": "836bec54177155b3"
  },
  {
   "cell_type": "code",
   "outputs": [],
   "source": [
    "from utils import get_openai_api_key\n",
    "from autogen.coding import LocalCommandLineCodeExecutor\n",
    "from autogen import ConversableAgent, AssistantAgent\n",
    "\n",
    "OPENAI_API_KEY = get_openai_api_key()\n",
    "llm_config = {\"model\": \"gpt-4o\"}"
   ],
   "metadata": {
    "collapsed": false
   },
   "id": "99404154094ce64",
   "execution_count": null
  },
  {
   "cell_type": "markdown",
   "source": [
    "# Define a code executor"
   ],
   "metadata": {
    "collapsed": false
   },
   "id": "5d9594e7def89320"
  },
  {
   "cell_type": "code",
   "outputs": [],
   "source": [
    "executor = LocalCommandLineCodeExecutor(\n",
    "    timeout=60,\n",
    "    work_dir=\"coding\",\n",
    ")"
   ],
   "metadata": {
    "collapsed": false
   },
   "id": "2c4e50ef06055d4a",
   "execution_count": null
  },
  {
   "cell_type": "markdown",
   "source": [
    "# Create agents"
   ],
   "metadata": {
    "collapsed": false
   },
   "id": "2fa2ad0ebe85e063"
  },
  {
   "cell_type": "markdown",
   "source": [
    "## 1. Agent with code executor configuration"
   ],
   "metadata": {
    "collapsed": false
   },
   "id": "afd005b28c66acfb"
  },
  {
   "cell_type": "code",
   "outputs": [],
   "source": [
    "code_executor_agent = ConversableAgent(\n",
    "    name=\"code_executor_agent\",\n",
    "    llm_config=False,\n",
    "    code_execution_config={\"executor\": executor},\n",
    "    human_input_mode=\"ALWAYS\",\n",
    "    default_auto_reply=\n",
    "    \"Please continue. If everything is done, reply 'TERMINATE'.\",\n",
    ")"
   ],
   "metadata": {
    "collapsed": false
   },
   "id": "cbdaaed327e48491",
   "execution_count": null
  },
  {
   "cell_type": "markdown",
   "source": [
    "## 2. Agent with code writing capability"
   ],
   "metadata": {
    "collapsed": false
   },
   "id": "3e182b3bd81677e7"
  },
  {
   "cell_type": "code",
   "outputs": [],
   "source": [
    "code_writer_agent = AssistantAgent(\n",
    "    name=\"code_writer_agent\",\n",
    "    llm_config=llm_config,\n",
    "    code_execution_config=False,\n",
    "    human_input_mode=\"NEVER\",\n",
    ")\n",
    "\n",
    "code_writer_agent_system_message = code_writer_agent.system_message\n",
    "print(code_writer_agent_system_message)"
   ],
   "metadata": {
    "collapsed": false
   },
   "id": "7a7b99de041fc588",
   "execution_count": null
  },
  {
   "cell_type": "code",
   "outputs": [],
   "source": [
    "import datetime\n",
    "import os\n",
    "from IPython.display import Image\n",
    "\n",
    "today = datetime.datetime.now().date()\n",
    "message = f\"Today is {today}. \"\\\n",
    "\"Create a plot showing stock gain YTD for NVDA and TLSA. \"\\\n",
    "\"Make sure the code is in markdown code block and save the figure\"\\\n",
    "\" to a file ytd_stock_gains.png.\"\"\"\n",
    "\n",
    "chat_result = code_executor_agent.initiate_chat(\n",
    "    code_writer_agent,\n",
    "    message=message,\n",
    ")\n",
    "Image(os.path.join(\"coding\", \"ytd_stock_gains.png\"))"
   ],
   "metadata": {
    "collapsed": false
   },
   "id": "58a735d120d795c5",
   "execution_count": null
  },
  {
   "cell_type": "markdown",
   "source": [
    "# User-Defined Functions"
   ],
   "metadata": {
    "collapsed": false
   },
   "id": "41d0977af3ec949c"
  },
  {
   "cell_type": "code",
   "outputs": [],
   "source": [
    "def get_stock_prices(stock_symbols, start_date, end_date):\n",
    "    \"\"\"Get the stock prices for the given stock symbols between\n",
    "    the start and end dates.\n",
    "\n",
    "    Args:\n",
    "        stock_symbols (str or list): The stock symbols to get the\n",
    "        prices for.\n",
    "        start_date (str): The start date in the format \n",
    "        'YYYY-MM-DD'.\n",
    "        end_date (str): The end date in the format 'YYYY-MM-DD'.\n",
    "    \n",
    "    Returns:\n",
    "        pandas.DataFrame: The stock prices for the given stock\n",
    "        symbols indexed by date, with one column per stock \n",
    "        symbol.\n",
    "    \"\"\"\n",
    "    import yfinance\n",
    "\n",
    "    stock_data = yfinance.download(\n",
    "        stock_symbols, start=start_date, end=end_date\n",
    "    )\n",
    "    return stock_data.get(\"Close\")"
   ],
   "metadata": {
    "collapsed": false
   },
   "id": "c10003bb909a9900",
   "execution_count": null
  },
  {
   "cell_type": "code",
   "outputs": [],
   "source": [
    "def plot_stock_prices(stock_prices, filename):\n",
    "    \"\"\"Plot the stock prices for the given stock symbols.\n",
    "\n",
    "    Args:\n",
    "        stock_prices (pandas.DataFrame): The stock prices for the \n",
    "        given stock symbols.\n",
    "    \"\"\"\n",
    "    import matplotlib.pyplot as plt\n",
    "\n",
    "    plt.figure(figsize=(10, 5))\n",
    "    for column in stock_prices.columns:\n",
    "        plt.plot(\n",
    "            stock_prices.index, stock_prices[column], label=column\n",
    "                )\n",
    "    plt.title(\"Stock Prices\")\n",
    "    plt.xlabel(\"Date\")\n",
    "    plt.ylabel(\"Price\")\n",
    "    plt.grid(True)\n",
    "    plt.savefig(filename)"
   ],
   "metadata": {
    "collapsed": false
   },
   "id": "71b226b137d5834f",
   "execution_count": null
  },
  {
   "cell_type": "markdown",
   "source": [
    "# Create a new executor with the user-defined functions"
   ],
   "metadata": {
    "collapsed": false
   },
   "id": "1a7d359ecd3535f2"
  },
  {
   "cell_type": "code",
   "outputs": [],
   "source": [
    "executor = LocalCommandLineCodeExecutor(\n",
    "    timeout=60,\n",
    "    work_dir=\"coding\",\n",
    "    functions=[get_stock_prices, plot_stock_prices],\n",
    ")\n",
    "code_writer_agent_system_message += executor.format_functions_for_prompt()\n",
    "print(code_writer_agent_system_message)"
   ],
   "metadata": {
    "collapsed": false
   },
   "id": "4a3edac5ea52cfec",
   "execution_count": null
  },
  {
   "cell_type": "code",
   "outputs": [],
   "source": [
    "code_writer_agent = ConversableAgent(\n",
    "    name=\"code_writer_agent\",\n",
    "    system_message=code_writer_agent_system_message,\n",
    "    llm_config=llm_config,\n",
    "    code_execution_config=False,\n",
    "    human_input_mode=\"NEVER\",\n",
    ")\n",
    "code_executor_agent = ConversableAgent(\n",
    "    name=\"code_executor_agent\",\n",
    "    llm_config=False,\n",
    "    code_execution_config={\"executor\": executor},\n",
    "    human_input_mode=\"ALWAYS\",\n",
    "    default_auto_reply=\n",
    "    \"Please continue. If everything is done, reply 'TERMINATE'.\",\n",
    ")\n",
    "\n",
    "chat_result = code_executor_agent.initiate_chat(\n",
    "    code_writer_agent,\n",
    "    message=f\"Today is {today}.\"\n",
    "    \"Download the stock prices YTD for NVDA and TSLA and create\"\n",
    "    \"a plot. Make sure the code is in markdown code block and \"\n",
    "    \"save the figure to a file stock_prices_YTD_plot.png.\",\n",
    ")\n",
    "\n",
    "Image(os.path.join(\"coding\", \"stock_prices_YTD_plot.png\"))"
   ],
   "metadata": {
    "collapsed": false
   },
   "id": "cbaa0bb19af03fce",
   "execution_count": null
  }
 ],
 "metadata": {
  "kernelspec": {
   "display_name": "Python 3",
   "language": "python",
   "name": "python3"
  },
  "language_info": {
   "codemirror_mode": {
    "name": "ipython",
    "version": 2
   },
   "file_extension": ".py",
   "mimetype": "text/x-python",
   "name": "python",
   "nbconvert_exporter": "python",
   "pygments_lexer": "ipython2",
   "version": "2.7.6"
  }
 },
 "nbformat": 4,
 "nbformat_minor": 5
}
