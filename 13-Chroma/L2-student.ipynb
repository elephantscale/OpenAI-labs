{
 "cells": [
  {
   "cell_type": "markdown",
   "id": "67a33665-b829-463b-ac95-e2262cf460fc",
   "metadata": {},
   "source": [
    "## Lab 2 -Pitfalls of retrieval - when simple vector search fails! "
   ]
  },
  {
   "cell_type": "code",
   "execution_count": 1,
   "id": "5a5536f0-651c-40e7-aa15-27ee0cda80b7",
   "metadata": {},
   "outputs": [
    {
     "data": {
      "text/plain": [
       "444"
      ]
     },
     "execution_count": 1,
     "metadata": {},
     "output_type": "execute_result"
    }
   ],
   "source": [
    "from helper_utils import load_chroma, word_wrap\n",
    "from chromadb.utils.embedding_functions import SentenceTransformerEmbeddingFunction\n",
    "\n",
    "embedding_function = SentenceTransformerEmbeddingFunction()\n",
    "\n",
    "chroma_collection = load_chroma(filename='microsoft_annual_report_2022.pdf', collection_name='microsoft_annual_report_2022', embedding_function=embedding_function)\n",
    "chroma_collection.count()"
   ]
  },
  {
   "cell_type": "code",
   "execution_count": 2,
   "id": "3748b16d-d4a7-49c3-a48a-57dcfc42acd6",
   "metadata": {},
   "outputs": [
    {
     "name": "stderr",
     "output_type": "stream",
     "text": [
      "/home/mark/anaconda3/envs/OpenAI/lib/python3.9/site-packages/umap/umap_.py:1943: UserWarning: n_jobs value -1 overridden to 1 by setting random_state. Use no seed for parallelism.\n",
      "  warn(f\"n_jobs value {self.n_jobs} overridden to 1 by setting random_state. Use no seed for parallelism.\")\n"
     ]
    }
   ],
   "source": [
    "import umap\n",
    "import numpy as np\n",
    "from tqdm import tqdm\n",
    "\n",
    "embeddings = chroma_collection.get(include=['embeddings'])['embeddings']\n",
    "umap_transform = umap.UMAP(random_state=0, transform_seed=0).fit(embeddings)"
   ]
  },
  {
   "cell_type": "code",
   "execution_count": 3,
   "id": "a338ec83-6301-41a5-9ab1-e5d583306a3f",
   "metadata": {},
   "outputs": [],
   "source": [
    "def project_embeddings(embeddings, umap_transform):\n",
    "    umap_embeddings = np.empty((len(embeddings),2))\n",
    "    for i, embedding in enumerate(tqdm(embeddings)): \n",
    "        umap_embeddings[i] = umap_transform.transform([embedding])\n",
    "    return umap_embeddings   "
   ]
  },
  {
   "cell_type": "code",
   "execution_count": 4,
   "id": "888a86f8-2fe2-4682-bdaf-c15129ed1a32",
   "metadata": {},
   "outputs": [
    {
     "name": "stderr",
     "output_type": "stream",
     "text": [
      "100%|█████████████████████████████████████████| 444/444 [04:22<00:00,  1.69it/s]\n"
     ]
    }
   ],
   "source": [
    "projected_dataset_embeddings = project_embeddings(embeddings, umap_transform)"
   ]
  },
  {
   "cell_type": "code",
   "execution_count": 5,
   "id": "5665c695-22ea-4264-b1ac-5ba720b6d78b",
   "metadata": {},
   "outputs": [
    {
     "data": {
      "text/plain": [
       "(0.974271410703659, 10.549678093194961, 3.548027181625366, 10.952874040603637)"
      ]
     },
     "execution_count": 5,
     "metadata": {},
     "output_type": "execute_result"
    },
    {
     "data": {
      "image/png": "[encoded data removed]",
      "text/plain": [
       "<Figure size 640x480 with 1 Axes>"
      ]
     },
     "metadata": {},
     "output_type": "display_data"
    }
   ],
   "source": [
    "import matplotlib.pyplot as plt\n",
    "\n",
    "plt.figure()\n",
    "plt.scatter(projected_dataset_embeddings[:, 0], projected_dataset_embeddings[:, 1], s=10)\n",
    "plt.gca().set_aspect('equal', 'datalim')\n",
    "plt.title('Projected Embeddings')\n",
    "plt.axis('off')"
   ]
  },
  {
   "cell_type": "markdown",
   "id": "b6bc10a6-68b0-4086-b2d1-86464b761e32",
   "metadata": {},
   "source": [
    "## Relevancy and Distraction"
   ]
  },
  {
   "cell_type": "code",
   "execution_count": 6,
   "id": "8ba6c8c5-9ce4-44d0-9223-6fdd77871f87",
   "metadata": {},
   "outputs": [
    {
     "name": "stdout",
     "output_type": "stream",
     "text": [
      "include legal, including settlements and ﬁnes, information technology,\n",
      "human resources, ﬁnance, excise taxes, ﬁeld selling, shared facilities\n",
      "services, and customer service and support. each allocation is measured\n",
      "differently based on the specific facts and circumstances of the costs\n",
      "being allocated. segment revenue and operating income were as follows\n",
      "during the periods presented : ( in millions ) year ended june 30, 2022\n",
      "2021 2020 revenue productivity and business processes $ 63, 364 $ 53,\n",
      "915 $ 46, 398 intelligent cloud 75, 251 60, 080 48, 366 more personal\n",
      "computing 59, 655 54, 093 48, 251 total $ 198, 270 $ 168, 088 $ 143,\n",
      "015 operating income\n",
      "\n",
      "services. unearned revenue is generally invoiced annually at the\n",
      "beginning of each contract period for multi - year agreements and\n",
      "recognized ratably over the coverage period. unearned revenue also\n",
      "includes payments for other [UNK] for which we have been paid in\n",
      "advance and earn the revenue when we transfer control of the product or\n",
      "service. refer to note 1 – accounting policies of the notes to\n",
      "financial statements ( part ii, item 8 of this form 10 - k ) for\n",
      "further discussion. the following table outlines the expected future\n",
      "recognition of unearned revenue as of june 30, 2022 : ( in millions )\n",
      "three months ending september 30, 2022 $ 17, 691 december 31, 2022 13,\n",
      "923 march 31, 2023 9, 491 june 30, 2023 4, 433 thereafter 2, 870 total\n",
      "$ 48, 408 if our customers choose to license cloud - based versions of\n",
      "our products and services rather than licensing transaction - based\n",
      "products and services, the\n",
      "\n",
      "part ii item 8 revenue, classified by significant product and service\n",
      "offerings, was as follows : ( in millions ) year ended june 30, 2022\n",
      "2021 2020 server products and cloud services $ 67, 321 $ 52, 589 $ 41,\n",
      "379 office products and cloud services 44, 862 39, 872 35, 316 windows\n",
      "24, 761 22, 488 21, 510 gaming 16, 230 15, 370 11, 575 linkedin 13, 816\n",
      "10, 289 8, 077 search and news advertising 11, 591 9, 267 8, 524\n",
      "enterprise services 7, 407 6, 943 6, 409 devices 6, 991 6, 791 6, 457\n",
      "other 5, 291 4, 479 3, 768 total $ 198, 270 $ 168, 088 $ 143, 015 we\n",
      "have recast certain previously reported amounts in the table above to\n",
      "conform to the way we internally manage and monitor our business.\n",
      "\n",
      "at average rates of exchange prevailing during the year. translation\n",
      "adjustments resulting from this process are recorded to other\n",
      "comprehensive income. revenue product revenue and service and other\n",
      "revenue product revenue includes sales from operating systems, cross -\n",
      "device productivity applications, server applications, business\n",
      "solution applications, desktop and server management tools, software\n",
      "development tools, video games, and hardware such as pcs, tablets,\n",
      "gaming and entertainment consoles, other intelligent devices, and\n",
      "related accessories. service and other revenue includes sales from\n",
      "cloud - based solutions that provide customers with software, services,\n",
      "platforms, and content such as [UNK] 365, azure, dynamics 365, and xbox\n",
      "; solution support ; and consulting services. service and other revenue\n",
      "also includes sales from online advertising and linkedin.\n",
      "\n",
      "part ii item 8 item 8. financial statements and supplementary data\n",
      "income statements ( in millions, except per share amounts ) year ended\n",
      "june 30, 2022 2021 2020 revenue : product $ 72, 732 $ 71, 074 $ 68, 041\n",
      "service and other 125, 538 97, 014 74, 974 total revenue 198, 270 168,\n",
      "088 143, 015 cost of revenue : product 19, 064 18, 219 16, 017 service\n",
      "and other 43, 586 34, 013 30, 061 total cost of revenue 62, 650 52, 232\n",
      "46, 078 gross margin 135, 620 115, 856 96, 937 research and development\n",
      "24, 512 20, 716 19, 269 sales and marketing 21, 825 20, 117 19, 598\n",
      "general and administrative 5, 900\n",
      "\n"
     ]
    }
   ],
   "source": [
    "query = \"What is the total revenue?\"\n",
    "\n",
    "results = chroma_collection.query(query_texts=query, n_results=5, include=['documents', 'embeddings'])\n",
    "\n",
    "retrieved_documents = results['documents'][0]\n",
    "\n",
    "for document in results['documents'][0]:\n",
    "    print(word_wrap(document))\n",
    "    print('')"
   ]
  },
  {
   "cell_type": "code",
   "execution_count": 7,
   "id": "bfdb54db-a442-423c-b006-c33a257cd7d7",
   "metadata": {},
   "outputs": [
    {
     "name": "stderr",
     "output_type": "stream",
     "text": [
      "100%|█████████████████████████████████████████████| 1/1 [00:00<00:00,  1.76it/s]\n",
      "100%|█████████████████████████████████████████████| 5/5 [00:02<00:00,  1.68it/s]\n"
     ]
    }
   ],
   "source": [
    "query_embedding = embedding_function([query])[0]\n",
    "retrieved_embeddings = results['embeddings'][0]\n",
    "\n",
    "projected_query_embedding = project_embeddings([query_embedding], umap_transform)\n",
    "projected_retrieved_embeddings = project_embeddings(retrieved_embeddings, umap_transform)\n"
   ]
  },
  {
   "cell_type": "code",
   "execution_count": 8,
   "id": "377a84aa-1d93-4e97-9b2d-d59c46355338",
   "metadata": {},
   "outputs": [
    {
     "data": {
      "text/plain": [
       "(0.974271410703659, 10.549678093194961, 3.548027181625366, 10.952874040603637)"
      ]
     },
     "execution_count": 8,
     "metadata": {},
     "output_type": "execute_result"
    },
    {
     "data": {
      "image/png": "[encoded data removed]",
      "text/plain": [
       "<Figure size 640x480 with 1 Axes>"
      ]
     },
     "metadata": {},
     "output_type": "display_data"
    }
   ],
   "source": [
    "# Plot the projected query and retrieved documents in the embedding space\n",
    "plt.figure()\n",
    "plt.scatter(projected_dataset_embeddings[:, 0], projected_dataset_embeddings[:, 1], s=10, color='gray')\n",
    "plt.scatter(projected_query_embedding[:, 0], projected_query_embedding[:, 1], s=150, marker='X', color='r')\n",
    "plt.scatter(projected_retrieved_embeddings[:, 0], projected_retrieved_embeddings[:, 1], s=100, facecolors='none', edgecolors='g')\n",
    "\n",
    "plt.gca().set_aspect('equal', 'datalim')\n",
    "plt.title(f'{query}')\n",
    "plt.axis('off')"
   ]
  },
  {
   "cell_type": "code",
   "execution_count": 9,
   "id": "ba0ed8ca-6640-4c09-9cb3-9de5e7cf46dc",
   "metadata": {},
   "outputs": [
    {
     "name": "stdout",
     "output_type": "stream",
     "text": [
      "business. ai algorithms may be ﬂawed. datasets may be [UNK] or contain\n",
      "biased information. [UNK] or inadequate ai development or deployment\n",
      "practices by microsoft or others could result in incidents that impair\n",
      "the acceptance of ai solutions or cause harm to individuals or society.\n",
      "these deﬁciencies and other failures of ai systems could subject us to\n",
      "competitive harm, regulatory action, legal liability, including under\n",
      "new proposed legislation regulating ai in jurisdictions such as the\n",
      "european union ( “ eu ” ), and brand or reputational harm. some ai\n",
      "scenarios present ethical issues. if we enable or [UNK] ai solutions\n",
      "that are controversial because of their impact on human rights,\n",
      "privacy, employment, or other social, economic, or political issues, we\n",
      "may experience brand or reputational harm. operational risks we may\n",
      "have excessive outages, data losses, and disruptions of our online\n",
      "services if we fail to maintain an adequate operations infrastructure.\n",
      "\n",
      "faces today. organizations of all sizes have digitized business -\n",
      "critical functions, redeﬁning what they can expect from their business\n",
      "applications. customers are looking to unlock value while simplifying\n",
      "security and management. from infrastructure and data, to business\n",
      "applications and collaboration, we provide unique, differentiated value\n",
      "to customers. we are building a distributed computing fabric – across\n",
      "cloud and the edge – to help every organization build, run, and manage\n",
      "mission - critical workloads anywhere. in the next phase of innovation,\n",
      "artiﬁcial intelligence ( “ ai ” ) capabilities are rapidly advancing,\n",
      "fueled by data and knowledge of the world. we are enabling metaverse\n",
      "experiences at all layers of our stack, so customers can more [UNK]\n",
      "model, automate, simulate, and predict changes within their industrial\n",
      "environments, feel a greater sense of presence in the new world of\n",
      "hybrid work, and create custom immersive worlds to enable new\n",
      "\n",
      "solutions that include our technologies do not work as intended,\n",
      "violate the law, or harm individuals or businesses, we may be subject\n",
      "to legal claims or enforcement actions. these risks, if realized, may\n",
      "increase our costs, damage our reputation or brands, or negatively\n",
      "impact our revenues or margins. issues in the development and use of ai\n",
      "may result in reputational harm or liability. we are building ai into\n",
      "many of our [UNK], including our productivity services, and we are also\n",
      "making ﬁrst - and third - party ai available for our customers to use\n",
      "in solutions that they build. we expect these elements of our business\n",
      "to grow. we envision a future in which ai operating in our devices,\n",
      "applications, and the cloud helps our customers be more productive in\n",
      "their work and personal lives. as with many innovations, ai presents\n",
      "risks and challenges that could [UNK] its adoption, and therefore our\n",
      "\n",
      "innovation helps every developer be an ai developer, with approachable\n",
      "new tools from azure machine learning studio for creating simple\n",
      "machine learning models, to the powerful azure machine learning\n",
      "workbench for the most advanced ai modeling and data science. from\n",
      "github to visual studio, we provide a developer tool chain for\n",
      "everyone, no matter the technical experience, across all platforms,\n",
      "whether azure, windows, or any other cloud or client platform.\n",
      "additionally, we are extending our infrastructure beyond the planet,\n",
      "bringing cloud computing to space. azure orbital is a fully managed\n",
      "ground station as a service for fast downlinking of data. create more\n",
      "personal computing we strive to make computing more personal by putting\n",
      "people at the core of the experience, enabling them to interact with\n",
      "technology in more intuitive, engaging, and dynamic ways. microsoft 365\n",
      "is empowering people and organizations to be productive and secure as\n",
      "they adapt to more ﬂuid ways of\n",
      "\n",
      "for which there are very few qualified suppliers. for these components,\n",
      "we have limited near - term flexibility to use other manufacturers if a\n",
      "current vendor becomes unavailable or is unable to meet our\n",
      "requirements. extended disruptions at these suppliers and / or\n",
      "manufacturers could lead to a similar disruption in our ability to\n",
      "manufacture devices on time to meet consumer demand. research and\n",
      "development product and service development, and intellectual property\n",
      "we develop most of our products and services internally through the\n",
      "following engineering groups. • cloud and ai, focuses on making it\n",
      "professionals, developers, and their systems more productive and [UNK]\n",
      "through development of cloud infrastructure, server, database, crm,\n",
      "erp, software development tools and services ( including github ), ai\n",
      "cognitive services, and other business process applications and\n",
      "services for enterprises. • experiences and devices\n",
      "\n"
     ]
    }
   ],
   "source": [
    "query = \"What is the strategy around artificial intelligence (AI) ?\"\n",
    "results = chroma_collection.query(query_texts=query, n_results=5, include=['documents', 'embeddings'])\n",
    "\n",
    "retrieved_documents = results['documents'][0]\n",
    "\n",
    "for document in results['documents'][0]:\n",
    "    print(word_wrap(document))\n",
    "    print('')"
   ]
  },
  {
   "cell_type": "code",
   "execution_count": 10,
   "id": "28bac3a2-0d29-48dc-9b48-2d9313239a25",
   "metadata": {},
   "outputs": [
    {
     "name": "stderr",
     "output_type": "stream",
     "text": [
      "100%|█████████████████████████████████████████████| 1/1 [00:00<00:00,  1.77it/s]\n",
      "100%|█████████████████████████████████████████████| 5/5 [00:02<00:00,  1.69it/s]\n"
     ]
    }
   ],
   "source": [
    "query_embedding = embedding_function([query])[0]\n",
    "retrieved_embeddings = results['embeddings'][0]\n",
    "\n",
    "projected_query_embedding = project_embeddings([query_embedding], umap_transform)\n",
    "projected_retrieved_embeddings = project_embeddings(retrieved_embeddings, umap_transform)\n"
   ]
  },
  {
   "cell_type": "code",
   "execution_count": 11,
   "id": "db9f2758-0f5a-49e5-b1fa-517b91324575",
   "metadata": {},
   "outputs": [
    {
     "data": {
      "text/plain": [
       "(0.974271410703659, 10.549678093194961, 3.548027181625366, 10.952874040603637)"
      ]
     },
     "execution_count": 11,
     "metadata": {},
     "output_type": "execute_result"
    },
    {
     "data": {
      "image/png": "[encoded data removed]",
      "text/plain": [
       "<Figure size 640x480 with 1 Axes>"
      ]
     },
     "metadata": {},
     "output_type": "display_data"
    }
   ],
   "source": [
    "# Plot the projected query and retrieved documents in the embedding space\n",
    "plt.figure()\n",
    "plt.scatter(projected_dataset_embeddings[:, 0], projected_dataset_embeddings[:, 1], s=10, color='gray')\n",
    "plt.scatter(projected_query_embedding[:, 0], projected_query_embedding[:, 1], s=150, marker='X', color='r')\n",
    "plt.scatter(projected_retrieved_embeddings[:, 0], projected_retrieved_embeddings[:, 1], s=100, facecolors='none', edgecolors='g')\n",
    "\n",
    "plt.gca().set_aspect('equal', 'datalim')\n",
    "plt.title(f'{query}')\n",
    "plt.axis('off')"
   ]
  },
  {
   "cell_type": "code",
   "execution_count": 12,
   "id": "aee59493-8a99-4da8-b94f-4747efcfc79d",
   "metadata": {},
   "outputs": [
    {
     "name": "stdout",
     "output_type": "stream",
     "text": [
      "part ii item 7 operating expenses research and development ( in\n",
      "millions, except percentages ) 2022 2021 percentage change research and\n",
      "development $ 24, 512 $ 20, 716 18 % as a percent of revenue 12 % 12 %\n",
      "0ppt research and development expenses include payroll, employee\n",
      "beneﬁts, stock - based compensation expense, and other headcount -\n",
      "related expenses associated with product development. research and\n",
      "development expenses also include third - party development and\n",
      "programming costs, localization costs incurred to translate software\n",
      "for international markets, and the amortization of purchased software\n",
      "code and services content. research and development expenses increased\n",
      "$ 3. 8 billion or 18 % driven by investments in cloud engineering,\n",
      "gaming, and linkedin. sales and marketing ( in millions, except\n",
      "percentages ) 2022 2021 percentage change\n",
      "\n",
      "technology trends, to enter new geographic and product markets, and to\n",
      "drive broad adoption of our products and services. we invest in a range\n",
      "of emerging technology trends and breakthroughs that we believe [UNK]\n",
      "signiﬁcant opportunities to deliver value to our customers and growth\n",
      "for the company. based on our assessment of key technology trends, we\n",
      "maintain our long - term commitment to research and development across\n",
      "a wide spectrum of technologies, tools, and platforms spanning digital\n",
      "work and life experiences, cloud computing, ai, devices, and operating\n",
      "systems. while our main product research and development facilities are\n",
      "located in redmond, washington, we also operate research and\n",
      "development facilities in other parts of the u. s. and around the\n",
      "world. this global approach helps us remain competitive in local\n",
      "markets and enables us to continue to attract top talent from across\n",
      "the world.\n",
      "\n",
      "part i item 1a risks relating to the evolution of our business we make\n",
      "signiﬁcant investments in products and services that may not achieve\n",
      "expected returns. we will continue to make signiﬁcant investments in\n",
      "research, development, and marketing for existing products, services,\n",
      "and technologies, including the windows operating system, microsoft\n",
      "365, [UNK], bing, sql server, windows server, azure, [UNK] 365, xbox,\n",
      "linkedin, and other products and services. we also invest in the\n",
      "development and acquisition of a variety of hardware for productivity,\n",
      "communication, and entertainment including pcs, tablets, gaming\n",
      "devices, and hololens. investments in new technology are speculative.\n",
      "commercial success depends on many factors, including innovativeness,\n",
      "developer support, and [UNK] distribution and marketing. if customers\n",
      "do not perceive our latest [UNK] as providing signiﬁcant new\n",
      "functionality or other value, they\n",
      "\n",
      "part ii item 8 research and development research and development\n",
      "expenses include payroll, employee beneﬁts, stock - based compensation\n",
      "expense, and other headcount - related expenses associated with product\n",
      "development. research and development expenses also include third -\n",
      "party development and programming costs, localization costs incurred to\n",
      "translate software for international markets, and the amortization of\n",
      "purchased software code and services content. such costs related to\n",
      "software development are included in research and development expense\n",
      "until the point that technological feasibility is reached, which for\n",
      "our software products, is generally shortly before the products are\n",
      "released to production. once technological feasibility is reached, such\n",
      "costs are capitalized and amortized to cost of revenue over the\n",
      "estimated lives of the products. sales and marketing\n",
      "\n",
      "we plan to continue to make signiﬁcant investments in a broad range of\n",
      "product research and development activities, and as appropriate we will\n",
      "coordinate our research and development across operating segments and\n",
      "leverage the results across the company. in addition to our main\n",
      "research and development operations, we also operate microsoft\n",
      "research. microsoft research is one of the world ’ s largest corporate\n",
      "research organizations and works in close collaboration with top\n",
      "universities around the world to advance the state - of - the - art in\n",
      "computer science and a broad range of other disciplines, providing us a\n",
      "unique perspective on future trends and contributing to our innovation.\n",
      "distribution, sales, and marketing we market and distribute our\n",
      "products and services through the following channels : oems, direct,\n",
      "and distributors and resellers. our sales force performs\n",
      "\n"
     ]
    }
   ],
   "source": [
    "query = \"What has been the investment in research and development?\"\n",
    "results = chroma_collection.query(query_texts=query, n_results=5, include=['documents', 'embeddings'])\n",
    "\n",
    "retrieved_documents = results['documents'][0]\n",
    "\n",
    "for document in results['documents'][0]:\n",
    "    print(word_wrap(document))\n",
    "    print('')"
   ]
  },
  {
   "cell_type": "code",
   "execution_count": 13,
   "id": "f5eda9bc-ae76-4db6-9e0c-ae099d852d78",
   "metadata": {},
   "outputs": [
    {
     "name": "stderr",
     "output_type": "stream",
     "text": [
      "100%|█████████████████████████████████████████████| 1/1 [00:00<00:00,  1.30it/s]\n",
      "100%|█████████████████████████████████████████████| 5/5 [00:02<00:00,  1.84it/s]\n"
     ]
    }
   ],
   "source": [
    "query_embedding = embedding_function([query])[0]\n",
    "retrieved_embeddings = results['embeddings'][0]\n",
    "\n",
    "projected_query_embedding = project_embeddings([query_embedding], umap_transform)\n",
    "projected_retrieved_embeddings = project_embeddings(retrieved_embeddings, umap_transform)\n"
   ]
  },
  {
   "cell_type": "code",
   "execution_count": 14,
   "id": "b1183e75-4c65-422e-bc47-48010d8b29c9",
   "metadata": {},
   "outputs": [
    {
     "data": {
      "text/plain": [
       "(0.974271410703659, 10.549678093194961, 3.548027181625366, 10.952874040603637)"
      ]
     },
     "execution_count": 14,
     "metadata": {},
     "output_type": "execute_result"
    },
    {
     "data": {
      "image/png": "[encoded data removed]",
      "text/plain": [
       "<Figure size 640x480 with 1 Axes>"
      ]
     },
     "metadata": {},
     "output_type": "display_data"
    }
   ],
   "source": [
    "# Plot the projected query and retrieved documents in the embedding space\n",
    "plt.figure()\n",
    "plt.scatter(projected_dataset_embeddings[:, 0], projected_dataset_embeddings[:, 1], s=10, color='gray')\n",
    "plt.scatter(projected_query_embedding[:, 0], projected_query_embedding[:, 1], s=150, marker='X', color='r')\n",
    "plt.scatter(projected_retrieved_embeddings[:, 0], projected_retrieved_embeddings[:, 1], s=100, facecolors='none', edgecolors='g')\n",
    "\n",
    "plt.gca().set_aspect('equal', 'datalim')\n",
    "plt.title(f'{query}')\n",
    "plt.axis('off')"
   ]
  },
  {
   "cell_type": "code",
   "execution_count": 15,
   "id": "5fcd85cc-8898-41ed-a0aa-bd8a33fc565a",
   "metadata": {},
   "outputs": [
    {
     "name": "stdout",
     "output_type": "stream",
     "text": [
      "services. the metrics are disclosed in the md & a or the notes to\n",
      "financial statements ( part ii, item 8 of this form 10 - k ). financial\n",
      "metrics are calculated based on ﬁnancial results prepared in accordance\n",
      "with accounting principles generally accepted in the united states of\n",
      "america ( “ gaap ” ), and growth comparisons relate to the\n",
      "corresponding period of last fiscal year. in the ﬁrst quarter of ﬁscal\n",
      "year 2022, we made updates to the presentation and method of\n",
      "calculation for certain metrics, most notably changes to incorporate\n",
      "all current and anticipated revenue streams within our [UNK] consumer\n",
      "and server products and cloud services metrics and changes to align\n",
      "with how we manage our windows oem and search and news advertising\n",
      "businesses. none of these changes had a material impact on previously\n",
      "reported amounts in our md & a.\n",
      "\n",
      "we report our ﬁnancial performance based on the following segments :\n",
      "productivity and business processes, intelligent cloud, and more\n",
      "personal computing. the segment amounts included in md & a are\n",
      "presented on a basis consistent with our internal management reporting.\n",
      "additional information on our reportable segments is contained in note\n",
      "19 – segment information and geographic data of the notes to financial\n",
      "statements ( part ii, item 8 of this form 10 - k ). metrics we use\n",
      "metrics in assessing the performance of our business and to make\n",
      "informed decisions regarding the allocation of resources. we disclose\n",
      "metrics to enable investors to evaluate progress against our ambitions,\n",
      "provide transparency into performance trends, and reﬂect the continued\n",
      "evolution of our products and services. our commercial and other\n",
      "business metrics are fundamentally connected based on how customers use\n",
      "our products and\n",
      "\n",
      "revenue from xbox content and services, comprising ﬁrst - and third -\n",
      "party content ( including games and in - game content ), xbox game pass\n",
      "and other subscriptions, xbox cloud gaming, third - party disc\n",
      "royalties, advertising, and other cloud services search and news\n",
      "advertising revenue, excluding tac, growth revenue from search and news\n",
      "advertising excluding [UNK] acquisition costs ( “ tac ” ) paid to bing\n",
      "ads network publishers and news partners summary results of operations\n",
      "( in millions, except percentages and per share amounts ) 2022 2021\n",
      "percentage change revenue $ 198, 270 $ 168, 088 18 % gross margin 135,\n",
      "620 115, 856 17 % operating income 83, 383 69, 916 19 % net income 72,\n",
      "738 61, 271 19 % diluted earnings per share 9. 65 8. 05 20 % adjusted\n",
      "net income ( non - gaap ) 69, 447 60, 651 15 %\n",
      "\n",
      "part ii item 8 cash flows statements ( in millions ) year ended june\n",
      "30, 2022 2021 2020 operations net income $ 72, 738 $ 61, 271 $ 44, 281\n",
      "adjustments to reconcile net income to net cash from operations :\n",
      "depreciation, amortization, and other 14, 460 11, 686 12, 796 stock -\n",
      "based compensation expense 7, 502 6, 118 5, 289 net recognized gains on\n",
      "investments and derivatives ( 409 ) ( 1, 249 ) ( 219 ) deferred income\n",
      "taxes ( 5, 702 ) ( 150 ) 11 changes in operating assets and liabilities\n",
      ": accounts receivable ( 6, 834 ) ( 6, 481 ) ( 2, 577 ) inventories ( 1,\n",
      "123 ) ( 737 ) 168 other current assets ( 709 ) ( 932 ) ( 2, 330 ) other\n",
      "long - term assets ( 2, 805 ) ( 3, 459 ) ( 1, 037 ) accounts payable 2,\n",
      "943 2, 798 3, 018 unearned revenue 5, 109\n",
      "\n",
      "gross margin increased $ 3. 1 billion or 10 % driven by growth in\n",
      "windows and search and news advertising. gross margin percentage was\n",
      "relatively unchanged. • operating expenses increased $ 1. 5 billion or\n",
      "14 % driven by investments in gaming, search and news advertising, and\n",
      "windows marketing.\n",
      "\n"
     ]
    }
   ],
   "source": [
    "query = \"What has Michael Jordan done for us lately?\"\n",
    "results = chroma_collection.query(query_texts=query, n_results=5, include=['documents', 'embeddings'])\n",
    "\n",
    "retrieved_documents = results['documents'][0]\n",
    "\n",
    "for document in results['documents'][0]:\n",
    "    print(word_wrap(document))\n",
    "    print('')"
   ]
  },
  {
   "cell_type": "code",
   "execution_count": 16,
   "id": "c65337e9-85ee-47f7-89fd-7fe77cd0e1b2",
   "metadata": {},
   "outputs": [
    {
     "name": "stderr",
     "output_type": "stream",
     "text": [
      "100%|█████████████████████████████████████████████| 1/1 [00:00<00:00,  1.86it/s]\n",
      "100%|█████████████████████████████████████████████| 5/5 [00:02<00:00,  1.69it/s]\n"
     ]
    }
   ],
   "source": [
    "query_embedding = embedding_function([query])[0]\n",
    "retrieved_embeddings = results['embeddings'][0]\n",
    "\n",
    "projected_query_embedding = project_embeddings([query_embedding], umap_transform)\n",
    "projected_retrieved_embeddings = project_embeddings(retrieved_embeddings, umap_transform)\n"
   ]
  },
  {
   "cell_type": "code",
   "execution_count": 17,
   "id": "a7794092-4195-4cf3-9eab-11c9c05a26b9",
   "metadata": {},
   "outputs": [
    {
     "data": {
      "text/plain": [
       "(0.974271410703659, 10.549678093194961, 3.548027181625366, 10.952874040603637)"
      ]
     },
     "execution_count": 17,
     "metadata": {},
     "output_type": "execute_result"
    },
    {
     "data": {
      "image/png": "[encoded data removed]",
      "text/plain": [
       "<Figure size 640x480 with 1 Axes>"
      ]
     },
     "metadata": {},
     "output_type": "display_data"
    }
   ],
   "source": [
    "# Plot the projected query and retrieved documents in the embedding space\n",
    "plt.figure()\n",
    "plt.scatter(projected_dataset_embeddings[:, 0], projected_dataset_embeddings[:, 1], s=10, color='gray')\n",
    "plt.scatter(projected_query_embedding[:, 0], projected_query_embedding[:, 1], s=150, marker='X', color='r')\n",
    "plt.scatter(projected_retrieved_embeddings[:, 0], projected_retrieved_embeddings[:, 1], s=100, facecolors='none', edgecolors='g')\n",
    "\n",
    "plt.gca().set_aspect('equal', 'datalim')\n",
    "plt.title(f'{query}')\n",
    "plt.axis('off')"
   ]
  },
  {
   "cell_type": "code",
   "execution_count": null,
   "id": "6f0f3e33-e517-4f6b-8b38-c47c1e3d40b4",
   "metadata": {},
   "outputs": [],
   "source": []
  },
  {
   "cell_type": "code",
   "execution_count": null,
   "id": "a16fdcb1-57d0-4f04-af8f-7c7fc594d947",
   "metadata": {},
   "outputs": [],
   "source": []
  },
  {
   "cell_type": "code",
   "execution_count": null,
   "id": "babe7893-9cbc-43c5-94ef-cbf8f5d68cf2",
   "metadata": {},
   "outputs": [],
   "source": []
  },
  {
   "cell_type": "code",
   "execution_count": null,
   "id": "60a9524b-1085-4bdf-a161-39f11397dc1f",
   "metadata": {},
   "outputs": [],
   "source": []
  },
  {
   "cell_type": "code",
   "execution_count": null,
   "id": "d189f088-b58e-4583-9590-afdfa624cf87",
   "metadata": {},
   "outputs": [],
   "source": []
  },
  {
   "cell_type": "code",
   "execution_count": null,
   "id": "7b26a01a-4575-446b-b8dc-a8c5ab153172",
   "metadata": {},
   "outputs": [],
   "source": []
  },
  {
   "cell_type": "code",
   "execution_count": null,
   "id": "0950575b-b69d-46a3-8c91-c7af89f5c204",
   "metadata": {},
   "outputs": [],
   "source": []
  },
  {
   "cell_type": "code",
   "execution_count": null,
   "id": "3f123ad8-b2e8-4a25-8b42-a520ecaf566b",
   "metadata": {},
   "outputs": [],
   "source": []
  },
  {
   "cell_type": "code",
   "execution_count": null,
   "id": "83c04587-d1de-419c-a213-2e3eb67dc33d",
   "metadata": {},
   "outputs": [],
   "source": []
  },
  {
   "cell_type": "code",
   "execution_count": null,
   "id": "d3155972-824e-4ebe-a692-2227c113c5a8",
   "metadata": {},
   "outputs": [],
   "source": []
  },
  {
   "cell_type": "code",
   "execution_count": null,
   "id": "d8144a4a-85f6-4800-87f9-36a1b6ceda1f",
   "metadata": {},
   "outputs": [],
   "source": []
  },
  {
   "cell_type": "code",
   "execution_count": null,
   "id": "8ff0b18e-12a0-4ac0-97dd-8618b22e7dbf",
   "metadata": {},
   "outputs": [],
   "source": []
  },
  {
   "cell_type": "code",
   "execution_count": null,
   "id": "03ca7e7c-4b47-4652-9b46-a40b3dffa5e6",
   "metadata": {},
   "outputs": [],
   "source": []
  },
  {
   "cell_type": "code",
   "execution_count": null,
   "id": "f74e7d67-7f51-41c4-8e25-edbaa02d0bd8",
   "metadata": {},
   "outputs": [],
   "source": []
  },
  {
   "cell_type": "code",
   "execution_count": null,
   "id": "9188e886-d406-406f-b234-f5c3353a77a2",
   "metadata": {},
   "outputs": [],
   "source": []
  },
  {
   "cell_type": "code",
   "execution_count": null,
   "id": "3d3bb286-2694-4ed4-8466-46865e997ced",
   "metadata": {},
   "outputs": [],
   "source": []
  },
  {
   "cell_type": "code",
   "execution_count": null,
   "id": "2876084b-4038-4b0c-8ec8-8294a86adfc1",
   "metadata": {},
   "outputs": [],
   "source": []
  },
  {
   "cell_type": "code",
   "execution_count": null,
   "id": "3ac542e1-b094-431f-9611-cf7e36d3f0de",
   "metadata": {},
   "outputs": [],
   "source": []
  },
  {
   "cell_type": "code",
   "execution_count": null,
   "id": "bcd6114b-c09d-4173-a623-9a08aaf63e4b",
   "metadata": {},
   "outputs": [],
   "source": []
  },
  {
   "cell_type": "code",
   "execution_count": null,
   "id": "ad10ab65-b351-4f4b-b7d2-63474acfb9f9",
   "metadata": {},
   "outputs": [],
   "source": []
  },
  {
   "cell_type": "code",
   "execution_count": null,
   "id": "800f3d81-cbdb-4ba4-8d49-85747fdfded8",
   "metadata": {},
   "outputs": [],
   "source": []
  },
  {
   "cell_type": "code",
   "execution_count": null,
   "id": "37847448-c9f6-4f51-bf06-f7809964a8b2",
   "metadata": {},
   "outputs": [],
   "source": []
  },
  {
   "cell_type": "code",
   "execution_count": null,
   "id": "2dcefc87-0964-4b94-946b-2145781ad606",
   "metadata": {},
   "outputs": [],
   "source": []
  },
  {
   "cell_type": "code",
   "execution_count": null,
   "id": "5fc994bc-7b1e-476a-9df9-300a3e374882",
   "metadata": {},
   "outputs": [],
   "source": []
  },
  {
   "cell_type": "code",
   "execution_count": null,
   "id": "9ef5f5d5-acb7-4b0a-93ef-e61306708e69",
   "metadata": {},
   "outputs": [],
   "source": []
  },
  {
   "cell_type": "code",
   "execution_count": null,
   "id": "44e4b33f-d8fb-4f3a-b884-8b43a3766583",
   "metadata": {},
   "outputs": [],
   "source": []
  },
  {
   "cell_type": "code",
   "execution_count": null,
   "id": "c2a480a2-2c29-4a01-80dd-ee41934b7901",
   "metadata": {},
   "outputs": [],
   "source": []
  },
  {
   "cell_type": "code",
   "execution_count": null,
   "id": "8127c2bf-0d15-4b62-b46a-f7a17ad2ec92",
   "metadata": {},
   "outputs": [],
   "source": []
  },
  {
   "cell_type": "code",
   "execution_count": null,
   "id": "18ded129-a637-4269-a116-550fe9a90570",
   "metadata": {},
   "outputs": [],
   "source": []
  },
  {
   "cell_type": "code",
   "execution_count": null,
   "id": "c1d7ee44-7b29-483f-a3f2-cc9d8e18880e",
   "metadata": {},
   "outputs": [],
   "source": []
  },
  {
   "cell_type": "code",
   "execution_count": null,
   "id": "8e450dd8-9719-42c6-8c3c-33cac910e0a5",
   "metadata": {},
   "outputs": [],
   "source": []
  }
 ],
 "metadata": {
  "kernelspec": {
   "display_name": "Python 3 (ipykernel)",
   "language": "python",
   "name": "python3"
  },
  "language_info": {
   "codemirror_mode": {
    "name": "ipython",
    "version": 3
   },
   "file_extension": ".py",
   "mimetype": "text/x-python",
   "name": "python",
   "nbconvert_exporter": "python",
   "pygments_lexer": "ipython3",
   "version": "3.9.10"
  }
 },
 "nbformat": 4,
 "nbformat_minor": 5
}
