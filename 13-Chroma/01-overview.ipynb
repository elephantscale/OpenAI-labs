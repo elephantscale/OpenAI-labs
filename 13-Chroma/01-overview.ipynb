{
 "cells": [
  {
   "cell_type": "markdown",
   "id": "56725748-1c10-4ad9-a5ab-26dc924c0a5d",
   "metadata": {},
   "source": [
    "# Lab 1 - Overview of embeddings-based retrieval"
   ]
  },
  {
   "cell_type": "markdown",
   "id": "45ebc086-8de7-4e40-a617-bfe97579d8f8",
   "metadata": {},
   "source": [
    "Welcome! Here's a few notes about the Chroma course notebooks.\n",
    " - A number of warnings pop up when running the notebooks. These are normal and can be ignored.\n",
    " - Some operations such as calling an LLM or an opeation using generated data return unpredictable results and so your notebook outputs may differ from the video.\n",
    "  \n",
    "Enjoy the course!"
   ]
  },
  {
   "cell_type": "code",
   "execution_count": 1,
   "id": "4fa5090b-bc13-4ad0-a0c5-ad18c74cf9cd",
   "metadata": {},
   "outputs": [
    {
     "ename": "ImportError",
     "evalue": "cannot import name 'word_wrap' from 'helper_utils' (/home/mark/anaconda3/envs/OpenAI/lib/python3.9/site-packages/helper_utils/__init__.py)",
     "output_type": "error",
     "traceback": [
      "\u001b[0;31m---------------------------------------------------------------------------\u001b[0m",
      "\u001b[0;31mImportError\u001b[0m                               Traceback (most recent call last)",
      "Cell \u001b[0;32mIn[1], line 1\u001b[0m\n\u001b[0;32m----> 1\u001b[0m \u001b[38;5;28;01mfrom\u001b[39;00m \u001b[38;5;21;01mhelper_utils\u001b[39;00m \u001b[38;5;28;01mimport\u001b[39;00m word_wrap\n",
      "\u001b[0;31mImportError\u001b[0m: cannot import name 'word_wrap' from 'helper_utils' (/home/mark/anaconda3/envs/OpenAI/lib/python3.9/site-packages/helper_utils/__init__.py)"
     ]
    }
   ],
   "source": [
    "from helper_utils import word_wrap"
   ]
  },
  {
   "cell_type": "code",
   "execution_count": null,
   "id": "7afe2ccc-0acc-4b88-9540-205f0f0f3d5c",
   "metadata": {},
   "outputs": [],
   "source": []
  }
 ],
 "metadata": {
  "kernelspec": {
   "display_name": "Python 3 (ipykernel)",
   "language": "python",
   "name": "python3"
  },
  "language_info": {
   "codemirror_mode": {
    "name": "ipython",
    "version": 3
   },
   "file_extension": ".py",
   "mimetype": "text/x-python",
   "name": "python",
   "nbconvert_exporter": "python",
   "pygments_lexer": "ipython3",
   "version": "3.9.10"
  }
 },
 "nbformat": 4,
 "nbformat_minor": 5
}
