{
 "cells": [
  {
   "cell_type": "markdown",
   "id": "f057401b-a4ee-462a-9ba9-3e342e06eb1a",
   "metadata": {},
   "source": [
    "## Lab 4 - Cross-encoder re-ranking"
   ]
  },
  {
   "cell_type": "code",
   "execution_count": 1,
   "id": "5a5536f0-651c-40e7-aa15-27ee0cda80b7",
   "metadata": {},
   "outputs": [],
   "source": [
    "from helper_utils import load_chroma, word_wrap, project_embeddings\n",
    "from chromadb.utils.embedding_functions import SentenceTransformerEmbeddingFunction\n",
    "import numpy as np"
   ]
  },
  {
   "cell_type": "code",
   "execution_count": 2,
   "id": "3748b16d-d4a7-49c3-a48a-57dcfc42acd6",
   "metadata": {},
   "outputs": [
    {
     "data": {
      "text/plain": [
       "444"
      ]
     },
     "execution_count": 2,
     "metadata": {},
     "output_type": "execute_result"
    }
   ],
   "source": [
    "embedding_function = SentenceTransformerEmbeddingFunction()\n",
    "\n",
    "chroma_collection = load_chroma(filename='microsoft_annual_report_2022.pdf', collection_name='microsoft_annual_report_2022', embedding_function=embedding_function)\n",
    "chroma_collection.count()"
   ]
  },
  {
   "cell_type": "markdown",
   "id": "68486bf8-37dd-4257-a23b-9ef50c47bcc5",
   "metadata": {},
   "source": [
    "# Re-ranking the long tail"
   ]
  },
  {
   "cell_type": "code",
   "execution_count": 3,
   "id": "888a86f8-2fe2-4682-bdaf-c15129ed1a32",
   "metadata": {},
   "outputs": [
    {
     "name": "stdout",
     "output_type": "stream",
     "text": [
      "part ii item 7 operating expenses research and development ( in\n",
      "millions, except percentages ) 2022 2021 percentage change research and\n",
      "development $ 24, 512 $ 20, 716 18 % as a percent of revenue 12 % 12 %\n",
      "0ppt research and development expenses include payroll, employee\n",
      "beneﬁts, stock - based compensation expense, and other headcount -\n",
      "related expenses associated with product development. research and\n",
      "development expenses also include third - party development and\n",
      "programming costs, localization costs incurred to translate software\n",
      "for international markets, and the amortization of purchased software\n",
      "code and services content. research and development expenses increased\n",
      "$ 3. 8 billion or 18 % driven by investments in cloud engineering,\n",
      "gaming, and linkedin. sales and marketing ( in millions, except\n",
      "percentages ) 2022 2021 percentage change\n",
      "\n",
      "technology trends, to enter new geographic and product markets, and to\n",
      "drive broad adoption of our products and services. we invest in a range\n",
      "of emerging technology trends and breakthroughs that we believe [UNK]\n",
      "signiﬁcant opportunities to deliver value to our customers and growth\n",
      "for the company. based on our assessment of key technology trends, we\n",
      "maintain our long - term commitment to research and development across\n",
      "a wide spectrum of technologies, tools, and platforms spanning digital\n",
      "work and life experiences, cloud computing, ai, devices, and operating\n",
      "systems. while our main product research and development facilities are\n",
      "located in redmond, washington, we also operate research and\n",
      "development facilities in other parts of the u. s. and around the\n",
      "world. this global approach helps us remain competitive in local\n",
      "markets and enables us to continue to attract top talent from across\n",
      "the world.\n",
      "\n",
      "part i item 1a risks relating to the evolution of our business we make\n",
      "signiﬁcant investments in products and services that may not achieve\n",
      "expected returns. we will continue to make signiﬁcant investments in\n",
      "research, development, and marketing for existing products, services,\n",
      "and technologies, including the windows operating system, microsoft\n",
      "365, [UNK], bing, sql server, windows server, azure, [UNK] 365, xbox,\n",
      "linkedin, and other products and services. we also invest in the\n",
      "development and acquisition of a variety of hardware for productivity,\n",
      "communication, and entertainment including pcs, tablets, gaming\n",
      "devices, and hololens. investments in new technology are speculative.\n",
      "commercial success depends on many factors, including innovativeness,\n",
      "developer support, and [UNK] distribution and marketing. if customers\n",
      "do not perceive our latest [UNK] as providing signiﬁcant new\n",
      "functionality or other value, they\n",
      "\n",
      "part ii item 8 research and development research and development\n",
      "expenses include payroll, employee beneﬁts, stock - based compensation\n",
      "expense, and other headcount - related expenses associated with product\n",
      "development. research and development expenses also include third -\n",
      "party development and programming costs, localization costs incurred to\n",
      "translate software for international markets, and the amortization of\n",
      "purchased software code and services content. such costs related to\n",
      "software development are included in research and development expense\n",
      "until the point that technological feasibility is reached, which for\n",
      "our software products, is generally shortly before the products are\n",
      "released to production. once technological feasibility is reached, such\n",
      "costs are capitalized and amortized to cost of revenue over the\n",
      "estimated lives of the products. sales and marketing\n",
      "\n",
      "we plan to continue to make signiﬁcant investments in a broad range of\n",
      "product research and development activities, and as appropriate we will\n",
      "coordinate our research and development across operating segments and\n",
      "leverage the results across the company. in addition to our main\n",
      "research and development operations, we also operate microsoft\n",
      "research. microsoft research is one of the world ’ s largest corporate\n",
      "research organizations and works in close collaboration with top\n",
      "universities around the world to advance the state - of - the - art in\n",
      "computer science and a broad range of other disciplines, providing us a\n",
      "unique perspective on future trends and contributing to our innovation.\n",
      "distribution, sales, and marketing we market and distribute our\n",
      "products and services through the following channels : oems, direct,\n",
      "and distributors and resellers. our sales force performs\n",
      "\n",
      "our future growth depends on our ability to transcend current product\n",
      "category deﬁnitions, business models, and sales motions. we have the\n",
      "opportunity to redefine what customers and partners can expect and are\n",
      "working to deliver new solutions that reflect the best of microsoft.\n",
      "corporate social responsibility commitment to sustainability we work to\n",
      "ensure that technology is inclusive, trusted, and increases\n",
      "sustainability. we are accelerating progress toward a more sustainable\n",
      "future by reducing our environmental footprint, advancing research,\n",
      "helping our customers build sustainable solutions, and advocating for\n",
      "policies that beneﬁt the environment. in january 2020, we announced a\n",
      "bold commitment and detailed plan to be carbon negative by 2030, and to\n",
      "remove from the environment by 2050 all the carbon we have emitted\n",
      "since our founding in 1975. this included a commitment to invest $ 1\n",
      "billion over four years in new technologies\n",
      "\n",
      "copyright, trademark, trade secret, and other protections that apply to\n",
      "our software and hardware products, services, business plans, and\n",
      "branding. we are a leader among technology companies in pursuing\n",
      "patents and currently have a portfolio of over 69, 000 u. s. and\n",
      "international patents issued and over 19, 000 pending worldwide. while\n",
      "we employ much of our internally - developed intellectual property\n",
      "exclusively in our products and services, we also engage in outbound\n",
      "licensing of speciﬁc patented technologies that are incorporated into\n",
      "licensees ’ products. from time to time, we enter into broader cross -\n",
      "license agreements with other technology companies covering entire\n",
      "groups of patents. we may also purchase or license technology that we\n",
      "incorporate into our products and services. at times, we make select\n",
      "intellectual property broadly available at no or low cost to achieve a\n",
      "strategic\n",
      "\n",
      "objective, such as promoting industry standards, advancing\n",
      "interoperability, supporting societal and / or environmental [UNK], or\n",
      "attracting and enabling our external development community. our\n",
      "increasing engagement with open source software will also cause us to\n",
      "license our intellectual property rights broadly in certain situations.\n",
      "while it may be necessary in the future to seek or renew licenses\n",
      "relating to various aspects of our products, services, and business\n",
      "methods, we believe, based upon past experience and industry practice,\n",
      "such licenses generally can be obtained on commercially reasonable\n",
      "terms. we believe our continuing research and product development are\n",
      "not materially dependent on any single license or other agreement with\n",
      "a third party relating to the development of our products. investing in\n",
      "the future our success is based on our ability to create new and\n",
      "compelling products, services, and experiences for our users, to\n",
      "initiate and embrace disruptive\n",
      "\n",
      "conceive new products, new technologies, or new ideas that can further\n",
      "transform the industry and our business. at microsoft, we push the\n",
      "boundaries of what is possible through a broad range of research and\n",
      "development activities that seek to identify and address the changing\n",
      "demands of customers and users, industry trends, and competitive\n",
      "forces.\n",
      "\n",
      "the estimates used to calculate the fair value of a reporting unit\n",
      "change from year to year based on operating results, market conditions,\n",
      "and other factors. changes in these estimates and assumptions could\n",
      "materially [UNK] the determination of fair value and goodwill\n",
      "impairment for each reporting unit. research and development costs\n",
      "costs incurred internally in researching and developing a computer\n",
      "software product are charged to expense until technological feasibility\n",
      "has been established for the product. once technological feasibility is\n",
      "established, software costs are capitalized until the product is\n",
      "available for general release to customers. judgment is required in\n",
      "determining when technological feasibility of a product is established.\n",
      "we have determined that technological feasibility for our software\n",
      "products is reached after all high - risk development issues have been\n",
      "resolved through coding and testing. generally, this\n",
      "\n"
     ]
    }
   ],
   "source": [
    "query = \"What has been the investment in research and development?\"\n",
    "results = chroma_collection.query(query_texts=query, n_results=10, include=['documents', 'embeddings'])\n",
    "\n",
    "retrieved_documents = results['documents'][0]\n",
    "\n",
    "for document in results['documents'][0]:\n",
    "    print(word_wrap(document))\n",
    "    print('')"
   ]
  },
  {
   "cell_type": "code",
   "execution_count": 4,
   "id": "5665c695-22ea-4264-b1ac-5ba720b6d78b",
   "metadata": {},
   "outputs": [
    {
     "data": {
      "application/vnd.jupyter.widget-view+json": {
       "model_id": "9920ccbb293149a6a980c1a192980a11",
       "version_major": 2,
       "version_minor": 0
      },
      "text/plain": [
       "Downloading config.json:   0%|          | 0.00/794 [00:00<?, ?B/s]"
      ]
     },
     "metadata": {},
     "output_type": "display_data"
    },
    {
     "data": {
      "application/vnd.jupyter.widget-view+json": {
       "model_id": "6370dc4aef8344f18ac0be99eb7a7327",
       "version_major": 2,
       "version_minor": 0
      },
      "text/plain": [
       "Downloading pytorch_model.bin:   0%|          | 0.00/90.9M [00:00<?, ?B/s]"
      ]
     },
     "metadata": {},
     "output_type": "display_data"
    },
    {
     "data": {
      "application/vnd.jupyter.widget-view+json": {
       "model_id": "71edad3066ed498b8963ec2ea352dc00",
       "version_major": 2,
       "version_minor": 0
      },
      "text/plain": [
       "Downloading tokenizer_config.json:   0%|          | 0.00/316 [00:00<?, ?B/s]"
      ]
     },
     "metadata": {},
     "output_type": "display_data"
    },
    {
     "data": {
      "application/vnd.jupyter.widget-view+json": {
       "model_id": "28db4222b19e4eb1ae26a6ebd265c55e",
       "version_major": 2,
       "version_minor": 0
      },
      "text/plain": [
       "Downloading vocab.txt:   0%|          | 0.00/232k [00:00<?, ?B/s]"
      ]
     },
     "metadata": {},
     "output_type": "display_data"
    },
    {
     "data": {
      "application/vnd.jupyter.widget-view+json": {
       "model_id": "8f459a05eee44fe0a51f87ac4763c9c2",
       "version_major": 2,
       "version_minor": 0
      },
      "text/plain": [
       "Downloading (…)cial_tokens_map.json:   0%|          | 0.00/112 [00:00<?, ?B/s]"
      ]
     },
     "metadata": {},
     "output_type": "display_data"
    }
   ],
   "source": [
    "from sentence_transformers import CrossEncoder\n",
    "cross_encoder = CrossEncoder('cross-encoder/ms-marco-MiniLM-L-6-v2')"
   ]
  },
  {
   "cell_type": "code",
   "execution_count": 5,
   "id": "c2a13d14-4484-46f0-8e67-277337f9d138",
   "metadata": {},
   "outputs": [
    {
     "name": "stdout",
     "output_type": "stream",
     "text": [
      "Scores:\n",
      "-0.14121954\n",
      "-0.45825562\n",
      "2.9490337\n",
      "-2.1940982\n",
      "1.6892612\n",
      "-7.6595407\n",
      "-10.301498\n",
      "-3.6889126\n",
      "-3.3646512\n",
      "-4.5331445\n"
     ]
    }
   ],
   "source": [
    "pairs = [[query, doc] for doc in retrieved_documents]\n",
    "scores = cross_encoder.predict(pairs)\n",
    "print(\"Scores:\")\n",
    "for score in scores:\n",
    "    print(score)"
   ]
  },
  {
   "cell_type": "code",
   "execution_count": 6,
   "id": "8ba6c8c5-9ce4-44d0-9223-6fdd77871f87",
   "metadata": {},
   "outputs": [
    {
     "name": "stdout",
     "output_type": "stream",
     "text": [
      "New Ordering:\n",
      "3\n",
      "5\n",
      "1\n",
      "2\n",
      "4\n",
      "9\n",
      "8\n",
      "10\n",
      "6\n",
      "7\n"
     ]
    }
   ],
   "source": [
    "print(\"New Ordering:\")\n",
    "for o in np.argsort(scores)[::-1]:\n",
    "    print(o+1)"
   ]
  },
  {
   "cell_type": "markdown",
   "id": "9f54cc00-eebc-4294-91bf-1a2cdce51708",
   "metadata": {},
   "source": [
    "# Re-ranking with Query Expansion"
   ]
  },
  {
   "cell_type": "code",
   "execution_count": 7,
   "id": "377a84aa-1d93-4e97-9b2d-d59c46355338",
   "metadata": {},
   "outputs": [],
   "source": [
    "original_query = \"What were the most important factors that contributed to increases in revenue?\"\n",
    "generated_queries = [\n",
    "    \"What were the major drivers of revenue growth?\",\n",
    "    \"Were there any new product launches that contributed to the increase in revenue?\",\n",
    "    \"Did any changes in pricing or promotions impact the revenue growth?\",\n",
    "    \"What were the key market trends that facilitated the increase in revenue?\",\n",
    "    \"Did any acquisitions or partnerships contribute to the revenue growth?\"\n",
    "]"
   ]
  },
  {
   "cell_type": "code",
   "execution_count": 8,
   "id": "ba0ed8ca-6640-4c09-9cb3-9de5e7cf46dc",
   "metadata": {},
   "outputs": [],
   "source": [
    "queries = [original_query] + generated_queries\n",
    "\n",
    "results = chroma_collection.query(query_texts=queries, n_results=10, include=['documents', 'embeddings'])\n",
    "retrieved_documents = results['documents']"
   ]
  },
  {
   "cell_type": "code",
   "execution_count": 9,
   "id": "28bac3a2-0d29-48dc-9b48-2d9313239a25",
   "metadata": {},
   "outputs": [],
   "source": [
    "# Deduplicate the retrieved documents\n",
    "unique_documents = set()\n",
    "for documents in retrieved_documents:\n",
    "    for document in documents:\n",
    "        unique_documents.add(document)\n",
    "\n",
    "unique_documents = list(unique_documents)"
   ]
  },
  {
   "cell_type": "code",
   "execution_count": 10,
   "id": "db9f2758-0f5a-49e5-b1fa-517b91324575",
   "metadata": {},
   "outputs": [],
   "source": [
    "pairs = []\n",
    "for doc in unique_documents:\n",
    "    pairs.append([original_query, doc])"
   ]
  },
  {
   "cell_type": "code",
   "execution_count": 11,
   "id": "aee59493-8a99-4da8-b94f-4747efcfc79d",
   "metadata": {},
   "outputs": [],
   "source": [
    "scores = cross_encoder.predict(pairs)\n"
   ]
  },
  {
   "cell_type": "code",
   "execution_count": 12,
   "id": "f5eda9bc-ae76-4db6-9e0c-ae099d852d78",
   "metadata": {},
   "outputs": [
    {
     "name": "stdout",
     "output_type": "stream",
     "text": [
      "Scores:\n",
      "-3.0078788\n",
      "-8.540621\n",
      "-10.755549\n",
      "-11.054232\n",
      "-4.3527\n",
      "-4.357063\n",
      "-6.3963327\n",
      "-10.35542\n",
      "-7.6544175\n",
      "-9.651844\n",
      "-9.90289\n",
      "-5.4974346\n",
      "-9.910838\n",
      "-7.5058374\n",
      "-4.4120927\n",
      "-10.729103\n",
      "-6.888769\n",
      "-10.686337\n",
      "-9.449725\n",
      "-3.9663773\n",
      "-5.764649\n",
      "-7.148628\n",
      "-10.448389\n",
      "-5.380037\n",
      "-10.175146\n"
     ]
    }
   ],
   "source": [
    "print(\"Scores:\")\n",
    "for score in scores:\n",
    "    print(score)"
   ]
  },
  {
   "cell_type": "code",
   "execution_count": 13,
   "id": "b1183e75-4c65-422e-bc47-48010d8b29c9",
   "metadata": {},
   "outputs": [
    {
     "name": "stdout",
     "output_type": "stream",
     "text": [
      "New Ordering:\n",
      "0\n",
      "19\n",
      "4\n",
      "5\n",
      "14\n",
      "23\n",
      "11\n",
      "20\n",
      "6\n",
      "16\n",
      "21\n",
      "13\n",
      "8\n",
      "1\n",
      "18\n",
      "9\n",
      "10\n",
      "12\n",
      "24\n",
      "7\n",
      "22\n",
      "17\n",
      "15\n",
      "2\n",
      "3\n"
     ]
    }
   ],
   "source": [
    "print(\"New Ordering:\")\n",
    "for o in np.argsort(scores)[::-1]:\n",
    "    print(o)"
   ]
  },
  {
   "cell_type": "code",
   "execution_count": null,
   "id": "5fcd85cc-8898-41ed-a0aa-bd8a33fc565a",
   "metadata": {},
   "outputs": [],
   "source": []
  },
  {
   "cell_type": "code",
   "execution_count": null,
   "id": "c65337e9-85ee-47f7-89fd-7fe77cd0e1b2",
   "metadata": {},
   "outputs": [],
   "source": []
  },
  {
   "cell_type": "code",
   "execution_count": null,
   "id": "a7794092-4195-4cf3-9eab-11c9c05a26b9",
   "metadata": {},
   "outputs": [],
   "source": []
  },
  {
   "cell_type": "code",
   "execution_count": null,
   "id": "f2cab7a1-1be7-45f0-83b7-543e48f83901",
   "metadata": {},
   "outputs": [],
   "source": []
  },
  {
   "cell_type": "code",
   "execution_count": null,
   "id": "fe0343be-73c9-4aed-83b0-aba09569ac87",
   "metadata": {},
   "outputs": [],
   "source": []
  },
  {
   "cell_type": "code",
   "execution_count": null,
   "id": "6f0f3e33-e517-4f6b-8b38-c47c1e3d40b4",
   "metadata": {},
   "outputs": [],
   "source": []
  },
  {
   "cell_type": "code",
   "execution_count": null,
   "id": "a16fdcb1-57d0-4f04-af8f-7c7fc594d947",
   "metadata": {},
   "outputs": [],
   "source": []
  },
  {
   "cell_type": "code",
   "execution_count": null,
   "id": "babe7893-9cbc-43c5-94ef-cbf8f5d68cf2",
   "metadata": {},
   "outputs": [],
   "source": []
  },
  {
   "cell_type": "code",
   "execution_count": null,
   "id": "60a9524b-1085-4bdf-a161-39f11397dc1f",
   "metadata": {},
   "outputs": [],
   "source": []
  },
  {
   "cell_type": "code",
   "execution_count": null,
   "id": "d189f088-b58e-4583-9590-afdfa624cf87",
   "metadata": {},
   "outputs": [],
   "source": []
  },
  {
   "cell_type": "code",
   "execution_count": null,
   "id": "7b26a01a-4575-446b-b8dc-a8c5ab153172",
   "metadata": {},
   "outputs": [],
   "source": []
  },
  {
   "cell_type": "code",
   "execution_count": null,
   "id": "0950575b-b69d-46a3-8c91-c7af89f5c204",
   "metadata": {},
   "outputs": [],
   "source": []
  },
  {
   "cell_type": "code",
   "execution_count": null,
   "id": "3f123ad8-b2e8-4a25-8b42-a520ecaf566b",
   "metadata": {},
   "outputs": [],
   "source": []
  },
  {
   "cell_type": "code",
   "execution_count": null,
   "id": "83c04587-d1de-419c-a213-2e3eb67dc33d",
   "metadata": {},
   "outputs": [],
   "source": []
  },
  {
   "cell_type": "code",
   "execution_count": null,
   "id": "d3155972-824e-4ebe-a692-2227c113c5a8",
   "metadata": {},
   "outputs": [],
   "source": []
  },
  {
   "cell_type": "code",
   "execution_count": null,
   "id": "d8144a4a-85f6-4800-87f9-36a1b6ceda1f",
   "metadata": {},
   "outputs": [],
   "source": []
  },
  {
   "cell_type": "code",
   "execution_count": null,
   "id": "8ff0b18e-12a0-4ac0-97dd-8618b22e7dbf",
   "metadata": {},
   "outputs": [],
   "source": []
  },
  {
   "cell_type": "code",
   "execution_count": null,
   "id": "03ca7e7c-4b47-4652-9b46-a40b3dffa5e6",
   "metadata": {},
   "outputs": [],
   "source": []
  },
  {
   "cell_type": "code",
   "execution_count": null,
   "id": "f74e7d67-7f51-41c4-8e25-edbaa02d0bd8",
   "metadata": {},
   "outputs": [],
   "source": []
  },
  {
   "cell_type": "code",
   "execution_count": null,
   "id": "9188e886-d406-406f-b234-f5c3353a77a2",
   "metadata": {},
   "outputs": [],
   "source": []
  },
  {
   "cell_type": "code",
   "execution_count": null,
   "id": "3d3bb286-2694-4ed4-8466-46865e997ced",
   "metadata": {},
   "outputs": [],
   "source": []
  },
  {
   "cell_type": "code",
   "execution_count": null,
   "id": "2876084b-4038-4b0c-8ec8-8294a86adfc1",
   "metadata": {},
   "outputs": [],
   "source": []
  },
  {
   "cell_type": "code",
   "execution_count": null,
   "id": "3ac542e1-b094-431f-9611-cf7e36d3f0de",
   "metadata": {},
   "outputs": [],
   "source": []
  },
  {
   "cell_type": "code",
   "execution_count": null,
   "id": "bcd6114b-c09d-4173-a623-9a08aaf63e4b",
   "metadata": {},
   "outputs": [],
   "source": []
  },
  {
   "cell_type": "code",
   "execution_count": null,
   "id": "ad10ab65-b351-4f4b-b7d2-63474acfb9f9",
   "metadata": {},
   "outputs": [],
   "source": []
  },
  {
   "cell_type": "code",
   "execution_count": null,
   "id": "800f3d81-cbdb-4ba4-8d49-85747fdfded8",
   "metadata": {},
   "outputs": [],
   "source": []
  },
  {
   "cell_type": "code",
   "execution_count": null,
   "id": "37847448-c9f6-4f51-bf06-f7809964a8b2",
   "metadata": {},
   "outputs": [],
   "source": []
  },
  {
   "cell_type": "code",
   "execution_count": null,
   "id": "2dcefc87-0964-4b94-946b-2145781ad606",
   "metadata": {},
   "outputs": [],
   "source": []
  },
  {
   "cell_type": "code",
   "execution_count": null,
   "id": "5fc994bc-7b1e-476a-9df9-300a3e374882",
   "metadata": {},
   "outputs": [],
   "source": []
  },
  {
   "cell_type": "code",
   "execution_count": null,
   "id": "9ef5f5d5-acb7-4b0a-93ef-e61306708e69",
   "metadata": {},
   "outputs": [],
   "source": []
  },
  {
   "cell_type": "code",
   "execution_count": null,
   "id": "44e4b33f-d8fb-4f3a-b884-8b43a3766583",
   "metadata": {},
   "outputs": [],
   "source": []
  },
  {
   "cell_type": "code",
   "execution_count": null,
   "id": "c2a480a2-2c29-4a01-80dd-ee41934b7901",
   "metadata": {},
   "outputs": [],
   "source": []
  },
  {
   "cell_type": "code",
   "execution_count": null,
   "id": "8127c2bf-0d15-4b62-b46a-f7a17ad2ec92",
   "metadata": {},
   "outputs": [],
   "source": []
  },
  {
   "cell_type": "code",
   "execution_count": null,
   "id": "18ded129-a637-4269-a116-550fe9a90570",
   "metadata": {},
   "outputs": [],
   "source": []
  },
  {
   "cell_type": "code",
   "execution_count": null,
   "id": "c1d7ee44-7b29-483f-a3f2-cc9d8e18880e",
   "metadata": {},
   "outputs": [],
   "source": []
  },
  {
   "cell_type": "code",
   "execution_count": null,
   "id": "8e450dd8-9719-42c6-8c3c-33cac910e0a5",
   "metadata": {},
   "outputs": [],
   "source": []
  }
 ],
 "metadata": {
  "kernelspec": {
   "display_name": "Python 3 (ipykernel)",
   "language": "python",
   "name": "python3"
  },
  "language_info": {
   "codemirror_mode": {
    "name": "ipython",
    "version": 3
   },
   "file_extension": ".py",
   "mimetype": "text/x-python",
   "name": "python",
   "nbconvert_exporter": "python",
   "pygments_lexer": "ipython3",
   "version": "3.9.10"
  }
 },
 "nbformat": 4,
 "nbformat_minor": 5
}
