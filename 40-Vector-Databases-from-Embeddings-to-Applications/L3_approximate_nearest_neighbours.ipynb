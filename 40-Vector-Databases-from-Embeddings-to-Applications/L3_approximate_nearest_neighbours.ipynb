{
 "cells": [
  {
   "cell_type": "markdown",
   "source": [
    "# Approximate Nearest Neighbors"
   ],
   "metadata": {
    "collapsed": false
   },
   "id": "fdda8c4c054ea24c"
  },
  {
   "cell_type": "code",
   "outputs": [],
   "source": [
    "from matplotlib import pyplot as plt\n",
    "from utils import *\n",
    "\n",
    "vec_num = 40 \n",
    "dim = 2 \n",
    "m_nearest_neighbor = 2 \n",
    "\n",
    "vec_pos = np.random.uniform(size=(vec_num, dim))"
   ],
   "metadata": {
    "collapsed": false
   },
   "id": "33211017abc3f6e6",
   "execution_count": null
  },
  {
   "cell_type": "markdown",
   "source": [
    "# Query vector"
   ],
   "metadata": {
    "collapsed": false
   },
   "id": "adb27ab6f740bfab"
  },
  {
   "cell_type": "code",
   "outputs": [],
   "source": [
    "query_vec=[0.5,0.5]\n",
    "nodes=[]\n",
    "nodes.append((\"Q\",{\"pos\":query_vec}))\n",
    "\n",
    "G_query=nx.Graph()\n",
    "G_query.add_nodes_from(nodes)\n",
    "\n",
    "print(\"nodes=\",nodes,flush=True)\n",
    "pos_query=nx.get_node_attributes(G_query,\"pos\")"
   ],
   "metadata": {
    "collapsed": false
   },
   "id": "76bc4b19ea87fa33",
   "execution_count": null
  },
  {
   "cell_type": "markdown",
   "source": [
    "# Brute force"
   ],
   "metadata": {
    "collapsed": false
   },
   "id": "cd0ef0b6d69e60d7"
  },
  {
   "cell_type": "code",
   "outputs": [],
   "source": [
    "(G_lin, G_best) = nearest_neigbor(vec_pos,query_vec)\n",
    "\n",
    "pos_lin=nx.get_node_attributes(G_lin,'pos')\n",
    "pos_best=nx.get_node_attributes(G_best,'pos')\n",
    "\n",
    "fig, axs = plt.subplots()\n",
    "\n",
    "nx.draw(G_lin, pos_lin, with_labels=True, node_size=150, node_color=[[0.8,0.8,1]], width=0.0, font_size=7, ax = axs)\n",
    "nx.draw(G_query, pos_query, with_labels=True, node_size=200, node_color=[[0.5,0,0]], font_color='white', width=0.5, font_size=7, font_weight='bold', ax = axs)\n",
    "nx.draw(G_best, pos_best, with_labels=True, node_size=200, node_color=[[0.85,0.7,0.2]], width=0.5, font_size=7, font_weight='bold', ax = axs)"
   ],
   "metadata": {
    "collapsed": false
   },
   "id": "89803fc1ac3cf22",
   "execution_count": null
  },
  {
   "cell_type": "markdown",
   "source": [
    "# HNSW construction"
   ],
   "metadata": {
    "collapsed": false
   },
   "id": "d1209e2d1605b3af"
  },
  {
   "cell_type": "code",
   "outputs": [],
   "source": [
    "GraphArray=construct_HNSW(vec_pos,m_nearest_neighbor)\n",
    "\n",
    "for layer_i in range(len(GraphArray)-1,-1,-1):\n",
    "    fig, axs = plt.subplots()\n",
    "    print(\"layer_i:\",layer_i)\n",
    "    if layer_i>0:\n",
    "        pos_layer_0 = nx.get_node_attributes(GraphArray[0],'pos')\n",
    "        nx.draw(GraphArray[0], pos_layer_0, with_labels=True, node_size=120, node_color=[[0.9,0.9,1]], width=0.0, font_size=6, font_color=(0.65,0.65,0.65), ax = axs)\n",
    "\n",
    "    pos_layer_i = nx.get_node_attributes(GraphArray[layer_i],'pos')\n",
    "    nx.draw(GraphArray[layer_i], pos_layer_i, with_labels=True, node_size=150, node_color=[[0.7,0.7,1]], width=0.5, font_size=7, ax = axs)\n",
    "    nx.draw(G_query, pos_query, with_labels=True, node_size=200, node_color=[[0.8,0,0]], width=0.5, font_size=7, font_weight='bold', ax = axs)\n",
    "    nx.draw(G_best, pos_best, with_labels=True, node_size=200, node_color=[[0.85,0.7,0.2]], width=0.5, font_size=7, font_weight='bold', ax = axs)\n",
    "    plt.show()"
   ],
   "metadata": {
    "collapsed": false
   },
   "id": "bab637323173ff22",
   "execution_count": null
  },
  {
   "cell_type": "markdown",
   "source": [
    "# HNSW Search"
   ],
   "metadata": {
    "collapsed": false
   },
   "id": "d0607b740a40828b"
  },
  {
   "cell_type": "code",
   "outputs": [],
   "source": [
    "(SearchPathGraphArray, EntryGraphArray) = search_HNSW(GraphArray,G_query)\n",
    "\n",
    "for layer_i in range(len(GraphArray)-1,-1,-1):\n",
    "    fig, axs = plt.subplots()\n",
    "\n",
    "    print(\"layer_i = \", layer_i)\n",
    "    G_path_layer = SearchPathGraphArray[layer_i]\n",
    "    pos_path = nx.get_node_attributes(G_path_layer,'pos')\n",
    "    G_entry = EntryGraphArray[layer_i]\n",
    "    pos_entry = nx.get_node_attributes(G_entry,'pos')\n",
    "\n",
    "    if layer_i>0:\n",
    "            pos_layer_0 = nx.get_node_attributes(GraphArray[0],'pos')\n",
    "            nx.draw(GraphArray[0], pos_layer_0, with_labels=True, node_size=120, node_color=[[0.9,0.9,1]], width=0.0, font_size=6, font_color=(0.65,0.65,0.65), ax = axs)\n",
    "\n",
    "    pos_layer_i = nx.get_node_attributes(GraphArray[layer_i],'pos')\n",
    "    nx.draw(GraphArray[layer_i], pos_layer_i, with_labels=True, node_size=100, node_color=[[0.7,0.7,1]], width=0.5, font_size=6, ax = axs)\n",
    "    nx.draw(G_path_layer, pos_path, with_labels=True, node_size=110, node_color=[[0.8,1,0.8]], width=0.5, font_size=6, ax = axs)\n",
    "    nx.draw(G_query, pos_query, with_labels=True, node_size=80, node_color=[[0.8,0,0]], width=0.5, font_size=7, ax = axs)\n",
    "    nx.draw(G_best, pos_best, with_labels=True, node_size=70, node_color=[[0.85,0.7,0.2]], width=0.5, font_size=7, ax = axs)\n",
    "    nx.draw(G_entry, pos_entry, with_labels=True, node_size=80, node_color=[[0.1,0.9,0.1]], width=0.5, font_size=7, ax = axs)\n",
    "    plt.show()"
   ],
   "metadata": {
    "collapsed": false
   },
   "id": "15a53ab6d6844d13",
   "execution_count": null
  },
  {
   "cell_type": "markdown",
   "source": [
    "# Pure Vector Search - with a vector database"
   ],
   "metadata": {
    "collapsed": false
   },
   "id": "8b1979b8b86c1f0"
  },
  {
   "cell_type": "code",
   "outputs": [],
   "source": [
    "import weaviate, json\n",
    "from weaviate import EmbeddedOptions\n",
    "\n",
    "client = weaviate.Client(\n",
    "    embedded_options=EmbeddedOptions(),\n",
    ")\n",
    "\n",
    "client.is_ready()"
   ],
   "metadata": {
    "collapsed": false
   },
   "id": "ab65aca946482d61",
   "execution_count": null
  },
  {
   "cell_type": "code",
   "outputs": [],
   "source": [
    "schema = {\n",
    "    \"class\": \"MyCollection\",\n",
    "    \"vectorizer\": \"none\",\n",
    "    \"vectorIndexConfig\": {\n",
    "        \"distance\": \"cosine\" \n",
    "    },\n",
    "}\n",
    "\n",
    "client.schema.create_class(schema)\n",
    "\n",
    "print(\"Successfully created the schema.\")"
   ],
   "metadata": {
    "collapsed": false
   },
   "id": "77579f5b49627d08",
   "execution_count": null
  },
  {
   "cell_type": "code",
   "outputs": [],
   "source": [
    "data = [\n",
    "   {\n",
    "      \"title\": \"First Object\",\n",
    "      \"foo\": 99, \n",
    "      \"vector\": [0.1, 0.1, 0.1, 0.1, 0.1, 0.1]\n",
    "   },\n",
    "   {\n",
    "      \"title\": \"Second Object\",\n",
    "      \"foo\": 77, \n",
    "      \"vector\": [0.2, 0.3, 0.4, 0.5, 0.6, 0.7]\n",
    "   },\n",
    "   {\n",
    "      \"title\": \"Third Object\",\n",
    "      \"foo\": 55, \n",
    "      \"vector\": [0.3, 0.1, -0.1, -0.3, -0.5, -0.7]\n",
    "   },\n",
    "   {\n",
    "      \"title\": \"Fourth Object\",\n",
    "      \"foo\": 33, \n",
    "      \"vector\": [0.4, 0.41, 0.42, 0.43, 0.44, 0.45]\n",
    "   },\n",
    "   {\n",
    "      \"title\": \"Fifth Object\",\n",
    "      \"foo\": 11,\n",
    "      \"vector\": [0.5, 0.5, 0, 0, 0, 0]\n",
    "   },\n",
    "]"
   ],
   "metadata": {
    "collapsed": false
   },
   "id": "d1a7d10988061f0f",
   "execution_count": null
  },
  {
   "cell_type": "code",
   "outputs": [],
   "source": [
    "client.batch.configure(batch_size=10)  \n",
    "\n",
    "with client.batch as batch:\n",
    "  for item in data:\n",
    "\n",
    "      properties = {\n",
    "         \"title\": item[\"title\"],\n",
    "         \"foo\": item[\"foo\"],\n",
    "      }\n",
    "\n",
    "      client.batch.add_data_object(\n",
    "         class_name=\"MyCollection\",\n",
    "         data_object=properties,\n",
    "         vector=item[\"vector\"] \n",
    "      )\n"
   ],
   "metadata": {
    "collapsed": false
   },
   "id": "c3bff0ad2aefdee",
   "execution_count": null
  },
  {
   "cell_type": "code",
   "outputs": [],
   "source": [
    "response = (\n",
    "    client.query\n",
    "    .aggregate(\"MyCollection\")\n",
    "    .with_meta_count()\n",
    "    .do()\n",
    ")\n",
    "\n",
    "print(response)"
   ],
   "metadata": {
    "collapsed": false
   },
   "id": "8a459cfe92edcaf4",
   "execution_count": null
  },
  {
   "cell_type": "markdown",
   "source": [
    "# Query Weaviate: Vector Search (vector embeddings)"
   ],
   "metadata": {
    "collapsed": false
   },
   "id": "bb7ab613b2a427e"
  },
  {
   "cell_type": "code",
   "outputs": [],
   "source": [
    "response = (\n",
    "    client.query\n",
    "    .get(\"MyCollection\", [\"title\"])\n",
    "    .with_near_vector({\n",
    "        \"vector\": [-0.012, 0.021, -0.23, -0.42, 0.5, 0.5]\n",
    "    })\n",
    "    .with_limit(2) # limit the output to only 2\n",
    "    .do()\n",
    ")\n",
    "\n",
    "result = response[\"data\"][\"Get\"][\"MyCollection\"]\n",
    "print(json.dumps(result, indent=2))"
   ],
   "metadata": {
    "collapsed": false
   },
   "id": "3f1bb57352c09313",
   "execution_count": null
  },
  {
   "cell_type": "code",
   "outputs": [],
   "source": [
    "response = (\n",
    "    client.query\n",
    "    .get(\"MyCollection\", [\"title\"])\n",
    "    .with_near_vector({\n",
    "        \"vector\": [-0.012, 0.021, -0.23, -0.42, 0.5, 0.5]\n",
    "    })\n",
    "    .with_limit(2) # limit the output to only 2\n",
    "    .with_additional([\"distance\", \"vector, id\"])\n",
    "    .do()\n",
    ")\n",
    "\n",
    "result = response[\"data\"][\"Get\"][\"MyCollection\"]\n",
    "print(json.dumps(result, indent=2))"
   ],
   "metadata": {
    "collapsed": false
   },
   "id": "77a3af00d38af1ce",
   "execution_count": null
  },
  {
   "cell_type": "markdown",
   "source": [
    "# Vector Search with filters"
   ],
   "metadata": {
    "collapsed": false
   },
   "id": "7891a347e4d58c0d"
  },
  {
   "cell_type": "code",
   "outputs": [],
   "source": [
    "response = (\n",
    "    client.query\n",
    "    .get(\"MyCollection\", [\"title\", \"foo\"])\n",
    "    .with_near_vector({\n",
    "        \"vector\": [-0.012, 0.021, -0.23, -0.42, 0.5, 0.5]\n",
    "    })\n",
    "    .with_additional([\"distance, id\"]) \n",
    "    .with_where({\n",
    "        \"path\": [\"foo\"],\n",
    "        \"operator\": \"GreaterThan\",\n",
    "        \"valueNumber\": 44\n",
    "    })\n",
    "    .with_limit(2) \n",
    "    .do()\n",
    ")\n",
    "\n",
    "result = response[\"data\"][\"Get\"][\"MyCollection\"]\n",
    "print(json.dumps(result, indent=2))"
   ],
   "metadata": {
    "collapsed": false
   },
   "id": "244a53e18f53688f",
   "execution_count": null
  },
  {
   "cell_type": "code",
   "outputs": [],
   "source": [
    "response = (\n",
    "    client.query\n",
    "    .get(\"MyCollection\", [\"title\"])\n",
    "    .with_near_object({ \n",
    "        \"id\": result[0]['_additional']['id']\n",
    "    })\n",
    "    .with_limit(3)\n",
    "    .with_additional([\"distance\"])\n",
    "    .do()\n",
    ")\n",
    "\n",
    "result = response[\"data\"][\"Get\"][\"MyCollection\"]\n",
    "print(json.dumps(result, indent=2))"
   ],
   "metadata": {
    "collapsed": false
   },
   "id": "828baf49bb30efdf",
   "execution_count": null
  },
  {
   "cell_type": "code",
   "outputs": [],
   "source": [],
   "metadata": {
    "collapsed": false
   },
   "id": "a500efa623e7b5c4"
  }
 ],
 "metadata": {
  "kernelspec": {
   "display_name": "Python 3",
   "language": "python",
   "name": "python3"
  },
  "language_info": {
   "codemirror_mode": {
    "name": "ipython",
    "version": 2
   },
   "file_extension": ".py",
   "mimetype": "text/x-python",
   "name": "python",
   "nbconvert_exporter": "python",
   "pygments_lexer": "ipython2",
   "version": "2.7.6"
  }
 },
 "nbformat": 4,
 "nbformat_minor": 5
}
