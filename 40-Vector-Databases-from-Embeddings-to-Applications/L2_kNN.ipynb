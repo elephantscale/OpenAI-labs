{
 "cells": [
  {
   "cell_type": "markdown",
   "id": "68d92181dee4b412",
   "metadata": {
    "collapsed": false,
    "jupyter": {
     "outputs_hidden": false
    }
   },
   "source": [
    "# K Nearest Neighbors"
   ]
  },
  {
   "cell_type": "code",
   "execution_count": null,
   "id": "54a0670e8c742b5e",
   "metadata": {
    "collapsed": false,
    "jupyter": {
     "outputs_hidden": false
    }
   },
   "outputs": [],
   "source": [
    "import numpy as np\n",
    "import matplotlib.pyplot as plt\n",
    "from sklearn.neighbors import NearestNeighbors\n",
    "import time\n",
    "np.random.seed(42)"
   ]
  },
  {
   "cell_type": "code",
   "execution_count": null,
   "id": "6a584fd4552808de",
   "metadata": {
    "collapsed": false,
    "jupyter": {
     "outputs_hidden": false
    }
   },
   "outputs": [],
   "source": [
    "X = np.random.rand(20,2)"
   ]
  },
  {
   "cell_type": "code",
   "execution_count": null,
   "id": "f2e6c9848c36786f",
   "metadata": {
    "collapsed": false,
    "jupyter": {
     "outputs_hidden": false
    }
   },
   "outputs": [],
   "source": [
    "n = range(len(X))\n",
    "\n",
    "fig, ax = plt.subplots()\n",
    "ax.scatter(X[:,0], X[:,1], label='Embeddings')\n",
    "ax.legend()\n",
    "\n",
    "for i, txt in enumerate(n):\n",
    "    ax.annotate(txt, (X[i,0], X[i,1]))"
   ]
  },
  {
   "cell_type": "code",
   "execution_count": null,
   "id": "732077717203d7b9",
   "metadata": {
    "collapsed": false,
    "jupyter": {
     "outputs_hidden": false
    }
   },
   "outputs": [],
   "source": [
    "k = 4\n",
    "\n",
    "neigh = NearestNeighbors(n_neighbors=k, algorithm='brute', metric='euclidean')\n",
    "neigh.fit(X)"
   ]
  },
  {
   "cell_type": "code",
   "execution_count": null,
   "id": "77c3d468ba11bc76",
   "metadata": {
    "collapsed": false,
    "jupyter": {
     "outputs_hidden": false
    }
   },
   "outputs": [],
   "source": [
    "n = range(len(X))\n",
    "\n",
    "fig, ax = plt.subplots()\n",
    "ax.scatter(X[:,0], X[:,1])\n",
    "ax.scatter(0.45,0.2, c='red',label='Query')\n",
    "ax.legend()\n",
    "\n",
    "for i, txt in enumerate(n):\n",
    "    ax.annotate(txt, (X[i,0], X[i,1]))"
   ]
  },
  {
   "cell_type": "code",
   "execution_count": null,
   "id": "fdbee5deb5901d19",
   "metadata": {
    "collapsed": false,
    "jupyter": {
     "outputs_hidden": false
    }
   },
   "outputs": [],
   "source": [
    "neighbours = neigh.kneighbors([[0.45,0.2]], k, return_distance=True)\n",
    "print(neighbours)"
   ]
  },
  {
   "cell_type": "code",
   "execution_count": null,
   "id": "d86ff83a5d703a79",
   "metadata": {
    "collapsed": false,
    "jupyter": {
     "outputs_hidden": false
    }
   },
   "outputs": [],
   "source": [
    "t0 = time.time()\n",
    "neighbours = neigh.kneighbors([[0.45,0.2]], k, return_distance=True)\n",
    "t1 = time.time()\n",
    "\n",
    "query_time = t1-t0\n",
    "print(f\"Runtime: {query_time: .4f} seconds\")"
   ]
  },
  {
   "cell_type": "code",
   "execution_count": null,
   "id": "1f36507aab82e041",
   "metadata": {
    "collapsed": false,
    "jupyter": {
     "outputs_hidden": false
    }
   },
   "outputs": [],
   "source": [
    "def speed_test(count):\n",
    "    data = np.random.rand(count,2)\n",
    "    \n",
    "    k=4\n",
    "    neigh = NearestNeighbors(n_neighbors=k, algorithm='brute', metric='euclidean')\n",
    "    neigh.fit(data)\n",
    "\n",
    "    t0 = time.time()\n",
    "    t1 = time.time()\n",
    "\n",
    "    total_time = t1-t0\n",
    "    print (f\"Runtime: {total_time: .4f}\")\n",
    "\n",
    "    return total_time"
   ]
  },
  {
   "cell_type": "code",
   "execution_count": null,
   "id": "3bce5154e382bedc",
   "metadata": {
    "collapsed": false,
    "jupyter": {
     "outputs_hidden": false
    }
   },
   "outputs": [],
   "source": [
    "time20k = speed_test(20_000)"
   ]
  },
  {
   "cell_type": "code",
   "execution_count": null,
   "id": "d27de9e998a9bbf9",
   "metadata": {
    "collapsed": false,
    "jupyter": {
     "outputs_hidden": false
    }
   },
   "outputs": [],
   "source": [
    "time200k = speed_test(200_000)\n",
    "time2m = speed_test(2_000_000)\n",
    "time20m = speed_test(20_000_000)\n",
    "time200m = speed_test(200_000_000)"
   ]
  },
  {
   "cell_type": "markdown",
   "id": "951674abb38e7b76",
   "metadata": {
    "collapsed": false,
    "jupyter": {
     "outputs_hidden": false
    }
   },
   "source": [
    "# Brute force kNN implemented by hand on 768 dimensional embeddings"
   ]
  },
  {
   "cell_type": "code",
   "execution_count": null,
   "id": "c8456aac18bda29b",
   "metadata": {
    "collapsed": false,
    "jupyter": {
     "outputs_hidden": false
    }
   },
   "outputs": [],
   "source": [
    "documents = 1000\n",
    "dimensions = 768\n",
    "\n",
    "embeddings = np.random.randn(documents, dimensions) \n",
    "embeddings = embeddings / np.sqrt((embeddings**2).sum(1, keepdims=True)) \n",
    "\n",
    "query = np.random.randn(768) \n",
    "query = query / np.sqrt((query**2).sum()) "
   ]
  },
  {
   "cell_type": "code",
   "execution_count": null,
   "id": "dd4e67d5480d657",
   "metadata": {
    "collapsed": false,
    "jupyter": {
     "outputs_hidden": false
    }
   },
   "outputs": [],
   "source": [
    "t0 = time.time()\n",
    "similarities = embeddings.dot(query)\n",
    "sorted_ix = np.argsort(-similarities)\n",
    "t1 = time.time()\n",
    "\n",
    "total = t1-t0\n",
    "print(f\"Runtime for dim={dimensions}, documents_n={documents}: {np.round(total,3)} seconds\")\n",
    "\n",
    "print(\"Top 5 results:\")\n",
    "for k in sorted_ix[:5]:\n",
    "    print(f\"Point: {k}, Similarity: {similarities[k]}\")"
   ]
  },
  {
   "cell_type": "code",
   "execution_count": null,
   "id": "41c5ca08a55e9abb",
   "metadata": {
    "collapsed": false,
    "jupyter": {
     "outputs_hidden": false
    }
   },
   "outputs": [],
   "source": [
    "n_runs = [1_000, 10_000, 100_000, 500_000]\n",
    "\n",
    "for n in n_runs:\n",
    "    embeddings = np.random.randn(n, dimensions) \n",
    "    query = np.random.randn(768) \n",
    "    \n",
    "    t0 = time.time()\n",
    "    similarities = embeddings.dot(query)\n",
    "    sorted_ix = np.argsort(-similarities)\n",
    "    t1 = time.time()\n",
    "\n",
    "    total = t1-t0\n",
    "    print(f\"Runtime for 1 query with dim={dimensions}, documents_n={n}: {np.round(total,3)} seconds\")"
   ]
  }
 ],
 "metadata": {
  "kernelspec": {
   "display_name": "Python (lab 40)",
   "language": "python",
   "name": "40"
  },
  "language_info": {
   "codemirror_mode": {
    "name": "ipython",
    "version": 3
   },
   "file_extension": ".py",
   "mimetype": "text/x-python",
   "name": "python",
   "nbconvert_exporter": "python",
   "pygments_lexer": "ipython3",
   "version": "3.9.19"
  }
 },
 "nbformat": 4,
 "nbformat_minor": 5
}
