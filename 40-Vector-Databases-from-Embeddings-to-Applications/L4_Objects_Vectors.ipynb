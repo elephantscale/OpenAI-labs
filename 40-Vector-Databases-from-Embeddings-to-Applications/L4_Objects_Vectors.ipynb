{
 "cells": [
  {
   "cell_type": "code",
   "execution_count": null,
   "id": "initial_id",
   "metadata": {},
   "outputs": [],
   "source": [
    "import requests\n",
    "import json\n",
    "\n",
    "response = requests.get('https://raw.githubusercontent.com/weaviate-tutorials/quickstart/main/data/jeopardy_tiny.json')\n",
    "data = json.loads(response.text)\n",
    "\n",
    "len(data), print(type(data))"
   ]
  },
  {
   "cell_type": "code",
   "execution_count": null,
   "id": "4911dd873e4bfb56",
   "metadata": {
    "collapsed": false,
    "jupyter": {
     "outputs_hidden": false
    }
   },
   "outputs": [],
   "source": [
    "def json_print(data):\n",
    "    print(json.dumps(data, indent=2))\n",
    "\n",
    "\n",
    "json_print(data[0])"
   ]
  },
  {
   "cell_type": "code",
   "execution_count": null,
   "id": "3b09ed87cde3b211",
   "metadata": {
    "collapsed": false,
    "jupyter": {
     "outputs_hidden": false
    }
   },
   "outputs": [],
   "source": [
    "import weaviate, os\n",
    "from weaviate.embedded import EmbeddedOptions\n",
    "from dotenv import load_dotenv\n",
    "import openai\n",
    "\n",
    "load_dotenv()\n",
    "\n",
    "openai.api_key = os.getenv('OPENAI_API_KEY')\n"
   ]
  },
  {
   "cell_type": "code",
   "execution_count": null,
   "id": "805912ae91e317cf",
   "metadata": {
    "collapsed": false,
    "jupyter": {
     "outputs_hidden": false
    }
   },
   "outputs": [],
   "source": [
    "client = weaviate.Client(\n",
    "    embedded_options=EmbeddedOptions(),  \n",
    "    additional_headers={\n",
    "        \"X-OpenAI-Api-Key\": openai.api_key \n",
    "    }\n",
    ")\n",
    "\n",
    "print(f\"Client created? {client.is_ready()}\")"
   ]
  },
  {
   "cell_type": "code",
   "execution_count": null,
   "id": "3b1fb46352e342b5",
   "metadata": {
    "collapsed": false,
    "jupyter": {
     "outputs_hidden": false
    }
   },
   "outputs": [],
   "source": [
    "json_print(client.get_meta())"
   ]
  },
  {
   "cell_type": "code",
   "execution_count": null,
   "id": "1fb074c9c44fadde",
   "metadata": {
    "collapsed": false,
    "jupyter": {
     "outputs_hidden": false
    }
   },
   "outputs": [],
   "source": [
    "if client.schema.exists(\"Question\"):\n",
    "    client.schema.delete_class(\"Question\")\n",
    "class_obj = {\n",
    "    \"class\": \"Question\",\n",
    "    \"vectorizer\": \"text2vec-openai\",  \n",
    "}\n",
    "\n",
    "client.schema.create_class(class_obj)"
   ]
  },
  {
   "cell_type": "code",
   "execution_count": null,
   "id": "4084241680deab16",
   "metadata": {
    "collapsed": false,
    "jupyter": {
     "outputs_hidden": false
    }
   },
   "outputs": [],
   "source": [
    "json_print(data[0])"
   ]
  },
  {
   "cell_type": "code",
   "execution_count": null,
   "id": "34328df590de5ea8",
   "metadata": {
    "collapsed": false,
    "jupyter": {
     "outputs_hidden": false
    }
   },
   "outputs": [],
   "source": [
    "with client.batch.configure(batch_size=5) as batch:\n",
    "    for i, d in enumerate(data):  # Batch import data\n",
    "        \n",
    "        print(f\"importing question: {i+1}\")\n",
    "        \n",
    "        properties = {\n",
    "            \"answer\": d[\"Answer\"],\n",
    "            \"question\": d[\"Question\"],\n",
    "            \"category\": d[\"Category\"],\n",
    "        }\n",
    "        \n",
    "        batch.add_data_object(\n",
    "            data_object=properties,\n",
    "            class_name=\"Question\"\n",
    "        )"
   ]
  },
  {
   "cell_type": "code",
   "execution_count": null,
   "id": "c39ebdd1624fbcef",
   "metadata": {
    "collapsed": false,
    "jupyter": {
     "outputs_hidden": false
    }
   },
   "outputs": [],
   "source": [
    "count = client.query.aggregate(\"Question\").with_meta_count().do()\n",
    "json_print(count)"
   ]
  },
  {
   "cell_type": "code",
   "execution_count": null,
   "id": "2a0d0e2e7974ce50",
   "metadata": {
    "collapsed": false,
    "jupyter": {
     "outputs_hidden": false
    }
   },
   "outputs": [],
   "source": [
    "result=(client.query\n",
    "          .get(\"Question\", [\"category\", \"question\", \"answer\"])\n",
    "          .with_additional(\"vector\")\n",
    "          .with_limit(1)\n",
    "          .do())\n",
    "\n",
    "json_print(result)"
   ]
  },
  {
   "cell_type": "code",
   "execution_count": null,
   "id": "e215151846f03c92",
   "metadata": {
    "collapsed": false,
    "jupyter": {
     "outputs_hidden": false
    }
   },
   "outputs": [],
   "source": [
    "result=(client.query\n",
    "          .get(\"Question\", [\"category\", \"question\", \"answer\"])\n",
    "          .with_near_text({\"concepts\": \"biology\"})\n",
    "          .with_additional('distance')\n",
    "          .with_limit(2)\n",
    "          .do())\n",
    "\n",
    "json_print(result)"
   ]
  },
  {
   "cell_type": "code",
   "execution_count": null,
   "id": "7a5a8aebdf4ed97b",
   "metadata": {
    "collapsed": false,
    "jupyter": {
     "outputs_hidden": false
    }
   },
   "outputs": [],
   "source": [
    "response = (\n",
    "    client.query\n",
    "    .get(\"Question\", [\"question\", \"answer\"])\n",
    "    .with_near_text({\"concepts\": [\"animals\"],\"distance\":0.24})\n",
    "    .with_limit(10)\n",
    "    .with_additional([\"distance\"])\n",
    "    .do()\n",
    ")\n",
    "\n",
    "json_print(response)"
   ]
  },
  {
   "cell_type": "markdown",
   "id": "16ef343b178b39c",
   "metadata": {
    "collapsed": false,
    "jupyter": {
     "outputs_hidden": false
    }
   },
   "source": [
    "# Vector Databases support for CRUD operations"
   ]
  },
  {
   "cell_type": "markdown",
   "id": "8b81d601188acfa7",
   "metadata": {
    "collapsed": false,
    "jupyter": {
     "outputs_hidden": false
    }
   },
   "source": [
    "## Create"
   ]
  },
  {
   "cell_type": "code",
   "execution_count": null,
   "id": "960fdff8c552b86c",
   "metadata": {
    "collapsed": false,
    "jupyter": {
     "outputs_hidden": false
    }
   },
   "outputs": [],
   "source": [
    "object_uuid=client.data_object.create(\n",
    "    data_object={\n",
    "        'question':\"Leonardo da Vinci was born in this country.\",\n",
    "        'answer': \"Italy\",\n",
    "        'category': \"Culture\"\n",
    "    },\n",
    "    class_name=\"Question\"\n",
    ")\n",
    "\n",
    "print(object_uuid)"
   ]
  },
  {
   "cell_type": "markdown",
   "id": "32c641abf9f8324",
   "metadata": {
    "collapsed": false,
    "jupyter": {
     "outputs_hidden": false
    }
   },
   "source": [
    "## Read"
   ]
  },
  {
   "cell_type": "code",
   "execution_count": null,
   "id": "79aa3977e09cef2f",
   "metadata": {
    "collapsed": false,
    "jupyter": {
     "outputs_hidden": false
    }
   },
   "outputs": [],
   "source": [
    "data_object=client.data_object.get_by_id(object_uuid)\n",
    "print(data_object)"
   ]
  },
  {
   "cell_type": "markdown",
   "id": "9f5c39740a151fb7",
   "metadata": {
    "collapsed": false,
    "jupyter": {
     "outputs_hidden": false
    }
   },
   "source": [
    "## Update"
   ]
  },
  {
   "cell_type": "code",
   "execution_count": null,
   "id": "8e89af22be2fd6e6",
   "metadata": {
    "collapsed": false,
    "jupyter": {
     "outputs_hidden": false
    }
   },
   "outputs": [],
   "source": [
    "client.data_object.update(uuid=object_uuid,class_name=\"Question\",data_object={\n",
    "        'answer':\"Florence, Italy\"\n",
    "    })"
   ]
  },
  {
   "cell_type": "code",
   "execution_count": null,
   "id": "73fb4b9e508bfae7",
   "metadata": {
    "collapsed": false,
    "jupyter": {
     "outputs_hidden": false
    }
   },
   "outputs": [],
   "source": [
    "data_object = client.data_object.get_by_id(\n",
    "    object_uuid,\n",
    "    class_name='Question',\n",
    ")\n",
    "\n",
    "json_print(data_object)"
   ]
  },
  {
   "cell_type": "markdown",
   "id": "68866b76c3ad03d1",
   "metadata": {
    "collapsed": false,
    "jupyter": {
     "outputs_hidden": false
    }
   },
   "source": [
    "## Delete"
   ]
  },
  {
   "cell_type": "code",
   "execution_count": null,
   "id": "2cc8603c5edf74d1",
   "metadata": {
    "collapsed": false,
    "jupyter": {
     "outputs_hidden": false
    }
   },
   "outputs": [],
   "source": [
    "json_print(client.query.aggregate(\"Question\").with_meta_count().do())"
   ]
  }
 ],
 "metadata": {
  "kernelspec": {
   "display_name": "Python (lab 40)",
   "language": "python",
   "name": "40"
  },
  "language_info": {
   "codemirror_mode": {
    "name": "ipython",
    "version": 3
   },
   "file_extension": ".py",
   "mimetype": "text/x-python",
   "name": "python",
   "nbconvert_exporter": "python",
   "pygments_lexer": "ipython3",
   "version": "3.9.19"
  }
 },
 "nbformat": 4,
 "nbformat_minor": 5
}
