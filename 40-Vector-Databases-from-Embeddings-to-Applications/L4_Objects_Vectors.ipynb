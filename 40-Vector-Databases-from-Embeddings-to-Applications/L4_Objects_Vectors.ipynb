{
 "cells": [
  {
   "cell_type": "code",
   "execution_count": null,
   "id": "initial_id",
   "metadata": {
    "collapsed": true
   },
   "outputs": [],
   "source": [
    "import requests\n",
    "import json\n",
    "\n",
    "response = requests.get('https://raw.githubusercontent.com/weaviate-tutorials/quickstart/main/data/jeopardy_tiny.json')\n",
    "data = json.loads(response.text)\n",
    "\n",
    "len(data), print(type(data))"
   ]
  },
  {
   "cell_type": "code",
   "outputs": [],
   "source": [
    "def json_print(data):\n",
    "    print(json.dumps(data, indent=2))\n",
    "\n",
    "\n",
    "json_print(data[0])"
   ],
   "metadata": {
    "collapsed": false
   },
   "id": "4911dd873e4bfb56",
   "execution_count": null
  },
  {
   "cell_type": "code",
   "outputs": [],
   "source": [
    "import weaviate, os\n",
    "from weaviate.embedded import EmbeddedOptions\n",
    "from dotenv import load_dotenv\n",
    "import openai\n",
    "\n",
    "load_dotenv()\n",
    "\n",
    "openai.api_key = os.getenv('OPENAI_API_KEY')\n"
   ],
   "metadata": {
    "collapsed": false
   },
   "id": "3b09ed87cde3b211",
   "execution_count": null
  },
  {
   "cell_type": "code",
   "outputs": [],
   "source": [
    "client = weaviate.Client(\n",
    "    embedded_options=EmbeddedOptions(),  \n",
    "    additional_headers={\n",
    "        \"X-OpenAI-Api-Key\": openai.api_key \n",
    "    }\n",
    ")\n",
    "\n",
    "print(f\"Client created? {client.is_ready()}\")"
   ],
   "metadata": {
    "collapsed": false
   },
   "id": "805912ae91e317cf",
   "execution_count": null
  },
  {
   "cell_type": "code",
   "outputs": [],
   "source": [
    "json_print(client.get_meta())"
   ],
   "metadata": {
    "collapsed": false
   },
   "id": "3b1fb46352e342b5",
   "execution_count": null
  },
  {
   "cell_type": "code",
   "outputs": [],
   "source": [
    "if client.schema.exists(\"Question\"):\n",
    "    client.schema.delete_class(\"Question\")\n",
    "class_obj = {\n",
    "    \"class\": \"Question\",\n",
    "    \"vectorizer\": \"text2vec-openai\",  \n",
    "}\n",
    "\n",
    "client.schema.create_class(class_obj)"
   ],
   "metadata": {
    "collapsed": false
   },
   "id": "1fb074c9c44fadde",
   "execution_count": null
  },
  {
   "cell_type": "code",
   "outputs": [],
   "source": [
    "json_print(data[0])"
   ],
   "metadata": {
    "collapsed": false
   },
   "id": "4084241680deab16",
   "execution_count": null
  },
  {
   "cell_type": "code",
   "outputs": [],
   "source": [
    "with client.batch.configure(batch_size=5) as batch:\n",
    "    for i, d in enumerate(data):  # Batch import data\n",
    "        \n",
    "        print(f\"importing question: {i+1}\")\n",
    "        \n",
    "        properties = {\n",
    "            \"answer\": d[\"Answer\"],\n",
    "            \"question\": d[\"Question\"],\n",
    "            \"category\": d[\"Category\"],\n",
    "        }\n",
    "        \n",
    "        batch.add_data_object(\n",
    "            data_object=properties,\n",
    "            class_name=\"Question\"\n",
    "        )"
   ],
   "metadata": {
    "collapsed": false
   },
   "id": "34328df590de5ea8",
   "execution_count": null
  },
  {
   "cell_type": "code",
   "outputs": [],
   "source": [
    "count = client.query.aggregate(\"Question\").with_meta_count().do()\n",
    "json_print(count)"
   ],
   "metadata": {
    "collapsed": false
   },
   "id": "c39ebdd1624fbcef",
   "execution_count": null
  },
  {
   "cell_type": "code",
   "outputs": [],
   "source": [
    "result=(client.query\n",
    "          .get(\"Question\", [\"category\", \"question\", \"answer\"])\n",
    "          .with_additional(\"vector\")\n",
    "          .with_limit(1)\n",
    "          .do())\n",
    "\n",
    "json_print(result)"
   ],
   "metadata": {
    "collapsed": false
   },
   "id": "2a0d0e2e7974ce50",
   "execution_count": null
  },
  {
   "cell_type": "code",
   "outputs": [],
   "source": [
    "result=(client.query\n",
    "          .get(\"Question\", [\"category\", \"question\", \"answer\"])\n",
    "          .with_near_text({\"concepts\": \"biology\"})\n",
    "          .with_additional('distance')\n",
    "          .with_limit(2)\n",
    "          .do())\n",
    "\n",
    "json_print(result)"
   ],
   "metadata": {
    "collapsed": false
   },
   "id": "e215151846f03c92",
   "execution_count": null
  },
  {
   "cell_type": "code",
   "outputs": [],
   "source": [
    "response = (\n",
    "    client.query\n",
    "    .get(\"Question\", [\"question\", \"answer\"])\n",
    "    .with_near_text({\"concepts\": [\"animals\"],\"distance\":0.24})\n",
    "    .with_limit(10)\n",
    "    .with_additional([\"distance\"])\n",
    "    .do()\n",
    ")\n",
    "\n",
    "json_print(response)"
   ],
   "metadata": {
    "collapsed": false
   },
   "id": "7a5a8aebdf4ed97b",
   "execution_count": null
  },
  {
   "cell_type": "markdown",
   "source": [
    "# Vector Databases support for CRUD operations"
   ],
   "metadata": {
    "collapsed": false
   },
   "id": "16ef343b178b39c"
  },
  {
   "cell_type": "markdown",
   "source": [
    "## Create"
   ],
   "metadata": {
    "collapsed": false
   },
   "id": "8b81d601188acfa7"
  },
  {
   "cell_type": "code",
   "outputs": [],
   "source": [
    "object_uuid=client.data_object.create(\n",
    "    data_object={\n",
    "        'question':\"Leonardo da Vinci was born in this country.\",\n",
    "        'answer': \"Italy\",\n",
    "        'category': \"Culture\"\n",
    "    },\n",
    "    class_name=\"Question\"\n",
    ")\n",
    "\n",
    "print(object_uuid)"
   ],
   "metadata": {
    "collapsed": false
   },
   "id": "960fdff8c552b86c",
   "execution_count": null
  },
  {
   "cell_type": "markdown",
   "source": [
    "## Read"
   ],
   "metadata": {
    "collapsed": false
   },
   "id": "32c641abf9f8324"
  },
  {
   "cell_type": "code",
   "outputs": [],
   "source": [
    "data_object=client.data_object.get_by_id(object_uuid)\n",
    "print(data_object)"
   ],
   "metadata": {
    "collapsed": false
   },
   "id": "79aa3977e09cef2f",
   "execution_count": null
  },
  {
   "cell_type": "markdown",
   "source": [
    "## Update"
   ],
   "metadata": {
    "collapsed": false
   },
   "id": "9f5c39740a151fb7"
  },
  {
   "cell_type": "code",
   "outputs": [],
   "source": [
    "client.data_object.update(uuid=object_uuid,class_name=\"Question\",data_object={\n",
    "        'answer':\"Florence, Italy\"\n",
    "    })"
   ],
   "metadata": {
    "collapsed": false
   },
   "id": "8e89af22be2fd6e6",
   "execution_count": null
  },
  {
   "cell_type": "code",
   "outputs": [],
   "source": [
    "data_object = client.data_object.get_by_id(\n",
    "    object_uuid,\n",
    "    class_name='Question',\n",
    ")\n",
    "\n",
    "json_print(data_object)"
   ],
   "metadata": {
    "collapsed": false
   },
   "id": "73fb4b9e508bfae7",
   "execution_count": null
  },
  {
   "cell_type": "markdown",
   "source": [
    "## Delete"
   ],
   "metadata": {
    "collapsed": false
   },
   "id": "68866b76c3ad03d1"
  },
  {
   "cell_type": "code",
   "outputs": [],
   "source": [
    "json_print(client.query.aggregate(\"Question\").with_meta_count().do())"
   ],
   "metadata": {
    "collapsed": false
   },
   "id": "2cc8603c5edf74d1",
   "execution_count": null
  }
 ],
 "metadata": {
  "kernelspec": {
   "display_name": "Python 3",
   "language": "python",
   "name": "python3"
  },
  "language_info": {
   "codemirror_mode": {
    "name": "ipython",
    "version": 2
   },
   "file_extension": ".py",
   "mimetype": "text/x-python",
   "name": "python",
   "nbconvert_exporter": "python",
   "pygments_lexer": "ipython2",
   "version": "2.7.6"
  }
 },
 "nbformat": 4,
 "nbformat_minor": 5
}
