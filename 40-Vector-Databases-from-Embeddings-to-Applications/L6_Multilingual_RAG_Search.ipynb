{
 "cells": [
  {
   "cell_type": "code",
   "execution_count": null,
   "id": "initial_id",
   "metadata": {
    "collapsed": true
   },
   "outputs": [],
   "source": [
    "import weaviate, os\n",
    "from dotenv import load_dotenv\n",
    "\n",
    "load_dotenv()\n",
    "\n",
    "auth_config = weaviate.auth.AuthApiKey(\n",
    "    api_key=os.getenv(\"WEAVIATE_API_KEY\")\n",
    ")\n",
    "\n",
    "client = weaviate.Client(\n",
    "    url=os.getenv(\"WEAVIATE_API_URL\"),\n",
    "    auth_client_secret=auth_config,\n",
    "    additional_headers={\n",
    "        \"X-Cohere-Api-Key\": os.getenv(\"COHERE_API_KEY\"),\n",
    "    }\n",
    ")\n",
    "client.is_ready()\n"
   ]
  },
  {
   "cell_type": "code",
   "outputs": [],
   "source": [
    "import json\n",
    "\n",
    "result = client.query.aggregate(\"Wikipedia\").with_meta_count().do()\n",
    "print(json.dumps(result, indent=2))"
   ],
   "metadata": {
    "collapsed": false
   },
   "id": "850dbfef1e2ac13f",
   "execution_count": null
  },
  {
   "cell_type": "code",
   "outputs": [],
   "source": [
    "def json_print(data):\n",
    "    print(json.dumps(data, indent=2))"
   ],
   "metadata": {
    "collapsed": false
   },
   "id": "d8b9f1df215c8c2",
   "execution_count": null
  },
  {
   "cell_type": "code",
   "outputs": [],
   "source": [
    "response = (client.query.get(\"Wikipedia\", [\"text\", \"title\", \"url\", \"views\", \"lang\"]).with_near_text(\n",
    "    {\"concepts\": \"vacation spots in california\"}).with_limit(5).do())\n",
    "\n",
    "json_print(response)"
   ],
   "metadata": {
    "collapsed": false
   },
   "id": "e730239ca7f219b1",
   "execution_count": null
  },
  {
   "cell_type": "code",
   "outputs": [],
   "source": [
    "response = (client.query.get(\"Wikipedia\", [\"text\", \"title\", \"url\", \"views\", \"lang\"]).with_near_text(\n",
    "    {\"concepts\": \"vacation spots in california\"}).with_where(\n",
    "    {\"path\": [\"lang\"], \"operator\": \"Equal\", \"valueString\": 'en'}).with_limit(3).do())\n",
    "\n",
    "json_print(response)"
   ],
   "metadata": {
    "collapsed": false
   },
   "id": "52beba1259d36f76",
   "execution_count": null
  },
  {
   "cell_type": "code",
   "outputs": [],
   "source": [
    "response = (client.query\n",
    "            .get(\"Wikipedia\",['text','title','url','views','lang'])\n",
    "            .with_near_text({\"concepts\": \"Miejsca na wakacje w Kalifornii\"})\n",
    "            .with_where({\n",
    "                \"path\" : ['lang'],\n",
    "                \"operator\" : \"Equal\",\n",
    "                \"valueString\":'en'\n",
    "            })\n",
    "            .with_limit(3)\n",
    "            .do()\n",
    "           )\n",
    "\n",
    "json_print(response)"
   ],
   "metadata": {
    "collapsed": false
   },
   "id": "4b1290cc4b009af1",
   "execution_count": null
  },
  {
   "cell_type": "code",
   "outputs": [],
   "source": [
    "response = (client.query\n",
    "            .get(\"Wikipedia\",['text','title','url','views','lang'])\n",
    "            .with_near_text({\"concepts\": \"أماكن العطلات في كاليفورنيا\"})\n",
    "            .with_where({\n",
    "                \"path\" : ['lang'],\n",
    "                \"operator\" : \"Equal\",\n",
    "                \"valueString\":'en'\n",
    "            })\n",
    "            .with_limit(3)\n",
    "            .do()\n",
    "           )\n",
    "\n",
    "json_print(response)"
   ],
   "metadata": {
    "collapsed": false
   },
   "id": "84be6ca4d2835c2f",
   "execution_count": null
  },
  {
   "cell_type": "markdown",
   "source": [
    "# Retrieval Augmented Generation"
   ],
   "metadata": {
    "collapsed": false
   },
   "id": "5a319a2238fc5e69"
  },
  {
   "cell_type": "markdown",
   "source": [
    "## Single prompt"
   ],
   "metadata": {
    "collapsed": false
   },
   "id": "7c38049ed44d6568"
  },
  {
   "cell_type": "code",
   "outputs": [],
   "source": [
    "prompt = \"Write me a facebook ad about {title} using information inside {text}\"\n",
    "result = (\n",
    "  client.query\n",
    "  .get(\"Wikipedia\", [\"title\",\"text\"])\n",
    "  .with_generate(single_prompt=prompt)\n",
    "  .with_near_text({\n",
    "    \"concepts\": [\"Vacation spots in california\"]\n",
    "  })\n",
    "  .with_limit(3)\n",
    ").do()\n",
    "\n",
    "json_print(result)"
   ],
   "metadata": {
    "collapsed": false
   },
   "id": "821d883668b5e405",
   "execution_count": null
  },
  {
   "cell_type": "markdown",
   "source": [
    "## Group task"
   ],
   "metadata": {
    "collapsed": false
   },
   "id": "e622cd466e4461c3"
  },
  {
   "cell_type": "code",
   "outputs": [],
   "source": [
    "generate_prompt = \"Summarize what these posts are about in two paragraphs.\"\n",
    "\n",
    "result = (\n",
    "  client.query\n",
    "  .get(\"Wikipedia\", [\"title\",\"text\"])\n",
    "  .with_generate(grouped_task=generate_prompt) \n",
    "  .with_near_text({\n",
    "    \"concepts\": [\"Vacation spots in california\"]\n",
    "  })\n",
    "  .with_limit(3)\n",
    ").do()\n",
    "\n",
    "json_print(result)\n"
   ],
   "metadata": {
    "collapsed": false
   },
   "id": "7c4bc3ee90dd3ed1",
   "execution_count": null
  }
 ],
 "metadata": {
  "kernelspec": {
   "display_name": "Python 3",
   "language": "python",
   "name": "python3"
  },
  "language_info": {
   "codemirror_mode": {
    "name": "ipython",
    "version": 2
   },
   "file_extension": ".py",
   "mimetype": "text/x-python",
   "name": "python",
   "nbconvert_exporter": "python",
   "pygments_lexer": "ipython2",
   "version": "2.7.6"
  }
 },
 "nbformat": 4,
 "nbformat_minor": 5
}
