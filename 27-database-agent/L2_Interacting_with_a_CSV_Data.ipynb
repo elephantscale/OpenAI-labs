{
 "cells": [
  {
   "cell_type": "markdown",
   "id": "d792f35b",
   "metadata": {},
   "source": [
    "# Lesson 2: Interacting with a CSV Data"
   ]
  },
  {
   "cell_type": "markdown",
   "id": "6be6d049",
   "metadata": {},
   "source": [
    "## Setup and connect to the Azure OpenAI endpoint"
   ]
  },
  {
   "cell_type": "markdown",
   "id": "399c89a2",
   "metadata": {},
   "source": [
    "**Note**: The pre-configured cloud resource grants you access to the Azure OpenAI GPT model. The key and endpoint provided below are intended for teaching purposes only. Your notebook environment is already set up with the necessary keys, which may differ from those used by the instructor during the filming."
   ]
  },
  {
   "cell_type": "markdown",
   "id": "44bb39cc-18ac-4421-8b1b-a227065340ee",
   "metadata": {},
   "source": [
    "![](../images/20-db-agent.png)"
   ]
  },
  {
   "cell_type": "code",
   "outputs": [],
   "source": [
    "import os \n",
    "from dotenv import load_dotenv\n",
    "import pandas as pd\n",
    "from langchain_openai import AzureChatOpenAI\n",
    "from langchain_experimental.agents.agent_toolkits import create_pandas_dataframe_agent"
   ],
   "metadata": {
    "collapsed": false,
    "ExecuteTime": {
     "end_time": "2024-06-28T07:11:29.427868Z",
     "start_time": "2024-06-28T07:11:29.424934Z"
    }
   },
   "id": "99f35756908dc40",
   "execution_count": 25
  },
  {
   "cell_type": "code",
   "outputs": [
    {
     "data": {
      "text/plain": "True"
     },
     "execution_count": 26,
     "metadata": {},
     "output_type": "execute_result"
    }
   ],
   "source": [
    "load_dotenv()"
   ],
   "metadata": {
    "collapsed": false,
    "ExecuteTime": {
     "end_time": "2024-06-28T07:11:29.433818Z",
     "start_time": "2024-06-28T07:11:29.428465Z"
    }
   },
   "id": "ffa41ddff6500a1a",
   "execution_count": 26
  },
  {
   "cell_type": "code",
   "execution_count": 27,
   "id": "83ac3e59-d0d1-4110-a059-3a55d0d5e15e",
   "metadata": {
    "height": 217,
    "ExecuteTime": {
     "end_time": "2024-06-28T07:11:37.679691Z",
     "start_time": "2024-06-28T07:11:37.621905Z"
    }
   },
   "outputs": [],
   "source": [
    "model = AzureChatOpenAI(\n",
    "    openai_api_version=os.getenv('OPENAI_API_VERSION'),\n",
    "    azure_deployment=os.getenv('AZURE_DEPLOYMENT'),\n",
    "    openai_api_key=os.getenv('OPENAI_API_KEY'),\n",
    "    azure_endpoint=os.getenv('AZURE_ENDPOINT')\n",
    ")"
   ]
  },
  {
   "cell_type": "markdown",
   "id": "ba9075a3",
   "metadata": {},
   "source": [
    "## Load the dataset"
   ]
  },
  {
   "cell_type": "markdown",
   "id": "fb0dc855",
   "metadata": {
    "ExecuteTime": {
     "end_time": "2024-06-28T07:11:52.286079Z",
     "start_time": "2024-06-28T07:11:52.183286Z"
    }
   },
   "source": [
    "**Note**: To access the data locally, use the following code:\n",
    "\n",
    "```\n",
    "os.makedirs(\"data\",exist_ok=True)\n",
    "!wget https://covidtracking.com/data/download/all-states-history.csv -P ./data/\n",
    "file_url = \"./data/all-states-history.csv\"\n",
    "df = pd.read_csv(file_url).fillna(value = 0)\n",
    "```"
   ]
  },
  {
   "cell_type": "code",
   "execution_count": 30,
   "id": "b6c75799-55e2-4d39-a1ab-7b968b4f35a4",
   "metadata": {
    "height": 30,
    "ExecuteTime": {
     "end_time": "2024-06-28T07:11:52.944778Z",
     "start_time": "2024-06-28T07:11:52.930399Z"
    }
   },
   "outputs": [
    {
     "name": "stdout",
     "output_type": "stream",
     "text": [
      "             date state    death  deathConfirmed  deathIncrease  \\\n",
      "0      2021-03-07    AK    305.0             0.0              0   \n",
      "1      2021-03-07    AL  10148.0          7963.0             -1   \n",
      "2      2021-03-07    AR   5319.0          4308.0             22   \n",
      "3      2021-03-07    AS      0.0             0.0              0   \n",
      "4      2021-03-07    AZ  16328.0         14403.0              5   \n",
      "...           ...   ...      ...             ...            ...   \n",
      "20775  2020-01-17    WA      0.0             0.0              0   \n",
      "20776  2020-01-16    WA      0.0             0.0              0   \n",
      "20777  2020-01-15    WA      0.0             0.0              0   \n",
      "20778  2020-01-14    WA      0.0             0.0              0   \n",
      "20779  2020-01-13    WA      0.0             0.0              0   \n",
      "\n",
      "       deathProbable  hospitalized  hospitalizedCumulative  \\\n",
      "0                0.0        1293.0                  1293.0   \n",
      "1             2185.0       45976.0                 45976.0   \n",
      "2             1011.0       14926.0                 14926.0   \n",
      "3                0.0           0.0                     0.0   \n",
      "4             1925.0       57907.0                 57907.0   \n",
      "...              ...           ...                     ...   \n",
      "20775            0.0           0.0                     0.0   \n",
      "20776            0.0           0.0                     0.0   \n",
      "20777            0.0           0.0                     0.0   \n",
      "20778            0.0           0.0                     0.0   \n",
      "20779            0.0           0.0                     0.0   \n",
      "\n",
      "       hospitalizedCurrently  hospitalizedIncrease  inIcuCumulative  \\\n",
      "0                       33.0                     0              0.0   \n",
      "1                      494.0                     0           2676.0   \n",
      "2                      335.0                    11              0.0   \n",
      "3                        0.0                     0              0.0   \n",
      "4                      963.0                    44              0.0   \n",
      "...                      ...                   ...              ...   \n",
      "20775                    0.0                     0              0.0   \n",
      "20776                    0.0                     0              0.0   \n",
      "20777                    0.0                     0              0.0   \n",
      "20778                    0.0                     0              0.0   \n",
      "20779                    0.0                     0              0.0   \n",
      "\n",
      "       inIcuCurrently   negative  negativeIncrease  negativeTestsAntibody  \\\n",
      "0                 0.0        0.0                 0                    0.0   \n",
      "1                 0.0  1931711.0              2087                    0.0   \n",
      "2               141.0  2480716.0              3267                    0.0   \n",
      "3                 0.0     2140.0                 0                    0.0   \n",
      "4               273.0  3073010.0             13678                    0.0   \n",
      "...               ...        ...               ...                    ...   \n",
      "20775             0.0        0.0                 0                    0.0   \n",
      "20776             0.0        0.0                 0                    0.0   \n",
      "20777             0.0        0.0                 0                    0.0   \n",
      "20778             0.0        0.0                 0                    0.0   \n",
      "20779             0.0        0.0                 0                    0.0   \n",
      "\n",
      "       negativeTestsPeopleAntibody  negativeTestsViral  \\\n",
      "0                              0.0           1660758.0   \n",
      "1                              0.0                 0.0   \n",
      "2                              0.0           2480716.0   \n",
      "3                              0.0                 0.0   \n",
      "4                              0.0                 0.0   \n",
      "...                            ...                 ...   \n",
      "20775                          0.0                 0.0   \n",
      "20776                          0.0                 0.0   \n",
      "20777                          0.0                 0.0   \n",
      "20778                          0.0                 0.0   \n",
      "20779                          0.0                 0.0   \n",
      "\n",
      "       onVentilatorCumulative  onVentilatorCurrently  positive  \\\n",
      "0                         0.0                    2.0   56886.0   \n",
      "1                      1515.0                    0.0  499819.0   \n",
      "2                      1533.0                   65.0  324818.0   \n",
      "3                         0.0                    0.0       0.0   \n",
      "4                         0.0                  143.0  826454.0   \n",
      "...                       ...                    ...       ...   \n",
      "20775                     0.0                    0.0       0.0   \n",
      "20776                     0.0                    0.0       0.0   \n",
      "20777                     0.0                    0.0       0.0   \n",
      "20778                     0.0                    0.0       0.0   \n",
      "20779                     0.0                    0.0       0.0   \n",
      "\n",
      "       positiveCasesViral  positiveIncrease  positiveScore  \\\n",
      "0                     0.0                 0              0   \n",
      "1                392077.0               408              0   \n",
      "2                255726.0               165              0   \n",
      "3                     0.0                 0              0   \n",
      "4                769935.0              1335              0   \n",
      "...                   ...               ...            ...   \n",
      "20775                 0.0                 0              0   \n",
      "20776                 0.0                 0              0   \n",
      "20777                 0.0                 0              0   \n",
      "20778                 0.0                 0              0   \n",
      "20779                 0.0                 0              0   \n",
      "\n",
      "       positiveTestsAntibody  positiveTestsAntigen  \\\n",
      "0                        0.0                   0.0   \n",
      "1                        0.0                   0.0   \n",
      "2                        0.0                   0.0   \n",
      "3                        0.0                   0.0   \n",
      "4                        0.0                   0.0   \n",
      "...                      ...                   ...   \n",
      "20775                    0.0                   0.0   \n",
      "20776                    0.0                   0.0   \n",
      "20777                    0.0                   0.0   \n",
      "20778                    0.0                   0.0   \n",
      "20779                    0.0                   0.0   \n",
      "\n",
      "       positiveTestsPeopleAntibody  positiveTestsPeopleAntigen  \\\n",
      "0                              0.0                         0.0   \n",
      "1                              0.0                         0.0   \n",
      "2                              0.0                     81803.0   \n",
      "3                              0.0                         0.0   \n",
      "4                              0.0                         0.0   \n",
      "...                            ...                         ...   \n",
      "20775                          0.0                         0.0   \n",
      "20776                          0.0                         0.0   \n",
      "20777                          0.0                         0.0   \n",
      "20778                          0.0                         0.0   \n",
      "20779                          0.0                         0.0   \n",
      "\n",
      "       positiveTestsViral  recovered  totalTestEncountersViral  \\\n",
      "0                 68693.0        0.0                       0.0   \n",
      "1                     0.0   295690.0                       0.0   \n",
      "2                     0.0   315517.0                       0.0   \n",
      "3                     0.0        0.0                       0.0   \n",
      "4                     0.0        0.0                       0.0   \n",
      "...                   ...        ...                       ...   \n",
      "20775                 0.0        0.0                       0.0   \n",
      "20776                 0.0        0.0                       0.0   \n",
      "20777                 0.0        0.0                       0.0   \n",
      "20778                 0.0        0.0                       0.0   \n",
      "20779                 0.0        0.0                       0.0   \n",
      "\n",
      "       totalTestEncountersViralIncrease  totalTestResults  \\\n",
      "0                                     0         1731628.0   \n",
      "1                                     0         2323788.0   \n",
      "2                                     0         2736442.0   \n",
      "3                                     0            2140.0   \n",
      "4                                     0         7908105.0   \n",
      "...                                 ...               ...   \n",
      "20775                                 0               0.0   \n",
      "20776                                 0               0.0   \n",
      "20777                                 0               0.0   \n",
      "20778                                 0               0.0   \n",
      "20779                                 0               0.0   \n",
      "\n",
      "       totalTestResultsIncrease  totalTestsAntibody  totalTestsAntigen  \\\n",
      "0                             0                 0.0                0.0   \n",
      "1                          2347                 0.0                0.0   \n",
      "2                          3380                 0.0                0.0   \n",
      "3                             0                 0.0                0.0   \n",
      "4                         45110            580569.0                0.0   \n",
      "...                         ...                 ...                ...   \n",
      "20775                         0                 0.0                0.0   \n",
      "20776                         0                 0.0                0.0   \n",
      "20777                         0                 0.0                0.0   \n",
      "20778                         0                 0.0                0.0   \n",
      "20779                         0                 0.0                0.0   \n",
      "\n",
      "       totalTestsPeopleAntibody  totalTestsPeopleAntigen  \\\n",
      "0                           0.0                      0.0   \n",
      "1                      119757.0                      0.0   \n",
      "2                           0.0                 481311.0   \n",
      "3                           0.0                      0.0   \n",
      "4                      444089.0                      0.0   \n",
      "...                         ...                      ...   \n",
      "20775                       0.0                      0.0   \n",
      "20776                       0.0                      0.0   \n",
      "20777                       0.0                      0.0   \n",
      "20778                       0.0                      0.0   \n",
      "20779                       0.0                      0.0   \n",
      "\n",
      "       totalTestsPeopleViral  totalTestsPeopleViralIncrease  totalTestsViral  \\\n",
      "0                        0.0                              0        1731628.0   \n",
      "1                  2323788.0                           2347              0.0   \n",
      "2                        0.0                              0        2736442.0   \n",
      "3                        0.0                              0           2140.0   \n",
      "4                  3842945.0                          14856        7908105.0   \n",
      "...                      ...                            ...              ...   \n",
      "20775                    0.0                              0              0.0   \n",
      "20776                    0.0                              0              0.0   \n",
      "20777                    0.0                              0              0.0   \n",
      "20778                    0.0                              0              0.0   \n",
      "20779                    0.0                              0              0.0   \n",
      "\n",
      "       totalTestsViralIncrease  \n",
      "0                            0  \n",
      "1                            0  \n",
      "2                         3380  \n",
      "3                            0  \n",
      "4                        45110  \n",
      "...                        ...  \n",
      "20775                        0  \n",
      "20776                        0  \n",
      "20777                        0  \n",
      "20778                        0  \n",
      "20779                        0  \n",
      "\n",
      "[20780 rows x 41 columns]\n"
     ]
    }
   ],
   "source": [
    "df = pd.read_csv(\"./data/all-states-history.csv\").fillna(value = 0)"
   ]
  },
  {
   "cell_type": "markdown",
   "id": "a6a261ac",
   "metadata": {
    "ExecuteTime": {
     "end_time": "2024-06-28T07:12:08.503212Z",
     "start_time": "2024-06-28T07:12:02.312879Z"
    }
   },
   "source": [
    "## Prepare the Langchain dataframe agent"
   ]
  },
  {
   "cell_type": "code",
   "execution_count": 16,
   "id": "60d0793b-90e7-4e8b-b2f1-66a8d1cf652d",
   "metadata": {
    "height": 115,
    "ExecuteTime": {
     "end_time": "2024-06-28T05:57:52.207691Z",
     "start_time": "2024-06-28T05:57:45.368052Z"
    }
   },
   "outputs": [
    {
     "name": "stdout",
     "output_type": "stream",
     "text": [
      "\n",
      "\n",
      "\u001B[1m> Entering new AgentExecutor chain...\u001B[0m\n",
      "\u001B[32;1m\u001B[1;3mThought: To find the number of rows in the DataFrame `df`, I can use the `shape` attribute which returns a tuple representing the dimensions of the DataFrame. The first element of this tuple is the number of rows.\n",
      "\n",
      "Action: python_repl_ast\n",
      "Action Input: df.shape[0]\u001B[0m\u001B[36;1m\u001B[1;3m20780\u001B[0m\u001B[32;1m\u001B[1;3mI now know the final answer\n",
      "Final Answer: There are 20,780 rows in the dataframe `df`.\u001B[0m\n",
      "\n",
      "\u001B[1m> Finished chain.\u001B[0m\n"
     ]
    },
    {
     "data": {
      "text/plain": "{'input': 'how many rows are there?',\n 'output': 'There are 20,780 rows in the dataframe `df`.'}"
     },
     "execution_count": 16,
     "metadata": {},
     "output_type": "execute_result"
    }
   ],
   "source": [
    "agent = create_pandas_dataframe_agent(llm=model,df=df,verbose=True,allow_dangerous_code=True)\n",
    "\n",
    "agent.invoke(\"how many rows are there?\")"
   ]
  },
  {
   "cell_type": "markdown",
   "id": "ae9fcc31-36e8-4816-bef9-7e38d6592c11",
   "metadata": {},
   "source": [
    "![](../images/21-db-agent.png)"
   ]
  },
  {
   "cell_type": "markdown",
   "id": "7c6dedce",
   "metadata": {
    "ExecuteTime": {
     "end_time": "2024-06-28T07:11:29.422656Z",
     "start_time": "2024-06-28T07:10:17.704804Z"
    }
   },
   "source": [
    "## Design your prompt and ask your question"
   ]
  },
  {
   "cell_type": "code",
   "execution_count": null,
   "id": "c734edee-8745-403a-85dc-614edf0fdee4",
   "metadata": {},
   "outputs": [],
   "source": [
    "CSV_PROMPT_PREFIX = \"\"\"\n",
    "First set the pandas display options to show all the columns,\n",
    "get the column names, then answer the question.\n",
    "\"\"\"\n",
    "\n",
    "CSV_PROMPT_SUFFIX = \"\"\"\n",
    "- **ALWAYS** before giving the Final Answer, try another method.\n",
    "Then reflect on the answers of the two methods you did and ask yourself\n",
    "if it answers correctly the original question.\n",
    "If you are not sure, try another method.\n",
    "- If the methods tried do not give the same result,reflect and\n",
    "try again until you have two methods that have the same result.\n",
    "- If you still cannot arrive to a consistent result, say that\n",
    "you are not sure of the answer.\n",
    "- If you are sure of the correct answer, create a beautiful\n",
    "and thorough response using Markdown.\n",
    "- **DO NOT MAKE UP AN ANSWER OR USE PRIOR KNOWLEDGE,\n",
    "ONLY USE THE RESULTS OF THE CALCULATIONS YOU HAVE DONE**.\n",
    "- **ALWAYS**, as part of your \"Final Answer\", explain how you got\n",
    "to the answer on a section that starts with: \"\\n\\nExplanation:\\n\".\n",
    "In the explanation, mention the column names that you used to get\n",
    "to the final answer.\n",
    "\"\"\"\n",
    "\n",
    "QUESTION = \"How may patients were hospitalized during July 2021\" \n",
    "\"in Texas, and nationwide as the total of all states?\"\n",
    "\"Use the hospitalizedIncrease column\" \n",
    "\n",
    "\n",
    "agent.invoke(CSV_PROMPT_PREFIX + QUESTION + CSV_PROMPT_SUFFIX)"
   ]
  },
  {
   "cell_type": "markdown",
   "id": "eee3cef5-17b9-4105-997a-41a6683f59fb",
   "metadata": {},
   "source": [
    "![](../images/22-db-agent.png)"
   ]
  }
 ],
 "metadata": {
  "kernelspec": {
   "display_name": "Python 3 (ipykernel)",
   "language": "python",
   "name": "python3"
  },
  "language_info": {
   "codemirror_mode": {
    "name": "ipython",
    "version": 3
   },
   "file_extension": ".py",
   "mimetype": "text/x-python",
   "name": "python",
   "nbconvert_exporter": "python",
   "pygments_lexer": "ipython3",
   "version": "3.10.9"
  }
 },
 "nbformat": 4,
 "nbformat_minor": 5
}
