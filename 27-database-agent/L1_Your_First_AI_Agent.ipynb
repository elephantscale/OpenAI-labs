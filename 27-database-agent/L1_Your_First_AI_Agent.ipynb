{
 "cells": [
  {
   "cell_type": "markdown",
   "id": "bfdcabc1",
   "metadata": {},
   "source": [
    "# Lesson 1: Your First AI Agent"
   ]
  },
  {
   "cell_type": "markdown",
   "id": "f3314e13ebd6a3e1",
   "metadata": {
    "collapsed": false,
    "jupyter": {
     "outputs_hidden": false
    }
   },
   "source": [
    "## Setup"
   ]
  },
  {
   "cell_type": "code",
   "execution_count": null,
   "id": "6d389d135b990cd",
   "metadata": {
    "collapsed": false,
    "is_executing": true,
    "jupyter": {
     "outputs_hidden": false
    }
   },
   "outputs": [],
   "source": [
    "import os\n",
    "from dotenv import load_dotenv\n",
    "from langchain.schema import HumanMessage\n",
    "from langchain_openai import AzureChatOpenAI"
   ]
  },
  {
   "cell_type": "markdown",
   "id": "56216e12",
   "metadata": {},
   "source": [
    "## Connect to the Azure OpenAI endpoint"
   ]
  },
  {
   "cell_type": "markdown",
   "id": "178321d6",
   "metadata": {},
   "source": [
    "## 1. Leveraging Langchain"
   ]
  },
  {
   "cell_type": "code",
   "execution_count": null,
   "id": "23c23ff0ce6295bc",
   "metadata": {
    "ExecuteTime": {
     "end_time": "2024-06-28T07:37:19.245769Z",
     "start_time": "2024-06-28T07:37:19.230132Z"
    },
    "collapsed": false,
    "jupyter": {
     "outputs_hidden": false
    }
   },
   "outputs": [],
   "source": [
    "load_dotenv()"
   ]
  },
  {
   "cell_type": "code",
   "execution_count": null,
   "id": "c5e4be2b",
   "metadata": {
    "ExecuteTime": {
     "end_time": "2024-06-28T07:37:21.025372Z",
     "start_time": "2024-06-28T07:37:20.965499Z"
    },
    "height": 149
   },
   "outputs": [],
   "source": [
    "model = AzureChatOpenAI(\n",
    "    openai_api_version=os.getenv('OPENAI_API_VERSION'),\n",
    "    azure_deployment=os.getenv('AZURE_DEPLOYMENT'),\n",
    "    openai_api_key=os.getenv('OPENAI_API_KEY'),\n",
    "    azure_endpoint=os.getenv('AZURE_ENDPOINT')\n",
    ")"
   ]
  },
  {
   "cell_type": "markdown",
   "id": "9fde1292",
   "metadata": {},
   "source": [
    "## 2. Preparing your prompt"
   ]
  },
  {
   "cell_type": "code",
   "execution_count": null,
   "id": "0d145d0d-30f2-412b-822c-e23ff9bf2bc4",
   "metadata": {
    "ExecuteTime": {
     "end_time": "2024-06-28T07:37:23.901424Z",
     "start_time": "2024-06-28T07:37:23.883630Z"
    },
    "height": 98
   },
   "outputs": [],
   "source": [
    "message = HumanMessage(\n",
    "    content=\"Translate this sentence from English \"\n",
    "    \"to French and Spanish. I like red cars and \"\n",
    "    \"blue houses, but my dog is yellow.\"\n",
    ")"
   ]
  },
  {
   "cell_type": "markdown",
   "id": "94f5e7b6",
   "metadata": {},
   "source": [
    "## 3. Engaging the model to receive a response"
   ]
  },
  {
   "cell_type": "code",
   "execution_count": null,
   "id": "e49e3b6d-71e8-4906-bf9c-fca78c1fbd4c",
   "metadata": {
    "height": 30
   },
   "outputs": [],
   "source": [
    "model.invoke([message])"
   ]
  },
  {
   "cell_type": "code",
   "execution_count": null,
   "id": "fa51115d-973b-4b73-a24b-b595e8a16014",
   "metadata": {},
   "outputs": [],
   "source": []
  }
 ],
 "metadata": {
  "kernelspec": {
   "display_name": "Python 3 (ipykernel)",
   "language": "python",
   "name": "python3"
  },
  "language_info": {
   "codemirror_mode": {
    "name": "ipython",
    "version": 3
   },
   "file_extension": ".py",
   "mimetype": "text/x-python",
   "name": "python",
   "nbconvert_exporter": "python",
   "pygments_lexer": "ipython3",
   "version": "3.11.7"
  }
 },
 "nbformat": 4,
 "nbformat_minor": 5
}
