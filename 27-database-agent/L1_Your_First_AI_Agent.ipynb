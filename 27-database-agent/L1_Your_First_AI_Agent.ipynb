{
 "cells": [
  {
   "cell_type": "markdown",
   "id": "bfdcabc1",
   "metadata": {},
   "source": [
    "# Lesson 1: Your First AI Agent"
   ]
  },
  {
   "cell_type": "markdown",
   "source": [
    "## Setup"
   ],
   "metadata": {
    "collapsed": false
   },
   "id": "f3314e13ebd6a3e1"
  },
  {
   "cell_type": "code",
   "outputs": [],
   "source": [
    "import os\n",
    "from dotenv import load_dotenv\n",
    "from langchain.schema import HumanMessage\n",
    "from langchain_openai import AzureChatOpenAI"
   ],
   "metadata": {
    "collapsed": false,
    "ExecuteTime": {
     "end_time": "2024-06-28T07:37:13.371612Z",
     "start_time": "2024-06-28T07:37:12.620002Z"
    }
   },
   "id": "6d389d135b990cd",
   "execution_count": 2
  },
  {
   "cell_type": "markdown",
   "id": "56216e12",
   "metadata": {},
   "source": [
    "## Connect to the Azure OpenAI endpoint"
   ]
  },
  {
   "cell_type": "markdown",
   "id": "178321d6",
   "metadata": {},
   "source": [
    "## 1. Leveraging Langchain"
   ]
  },
  {
   "cell_type": "code",
   "outputs": [
    {
     "data": {
      "text/plain": "True"
     },
     "execution_count": 3,
     "metadata": {},
     "output_type": "execute_result"
    }
   ],
   "source": [
    "load_dotenv()"
   ],
   "metadata": {
    "collapsed": false,
    "ExecuteTime": {
     "end_time": "2024-06-28T07:37:19.245769Z",
     "start_time": "2024-06-28T07:37:19.230132Z"
    }
   },
   "id": "23c23ff0ce6295bc",
   "execution_count": 3
  },
  {
   "cell_type": "code",
   "execution_count": 4,
   "id": "c5e4be2b",
   "metadata": {
    "height": 149,
    "ExecuteTime": {
     "end_time": "2024-06-28T07:37:21.025372Z",
     "start_time": "2024-06-28T07:37:20.965499Z"
    }
   },
   "outputs": [],
   "source": [
    "model = AzureChatOpenAI(\n",
    "    openai_api_version=os.getenv('OPENAI_API_VERSION'),\n",
    "    azure_deployment=os.getenv('AZURE_DEPLOYMENT'),\n",
    "    openai_api_key=os.getenv('OPENAI_API_KEY'),\n",
    "    azure_endpoint=os.getenv('AZURE_ENDPOINT')\n",
    ")"
   ]
  },
  {
   "cell_type": "markdown",
   "id": "9fde1292",
   "metadata": {},
   "source": [
    "## 2. Preparing your prompt"
   ]
  },
  {
   "cell_type": "code",
   "execution_count": 5,
   "id": "0d145d0d-30f2-412b-822c-e23ff9bf2bc4",
   "metadata": {
    "height": 98,
    "ExecuteTime": {
     "end_time": "2024-06-28T07:37:23.901424Z",
     "start_time": "2024-06-28T07:37:23.883630Z"
    }
   },
   "outputs": [],
   "source": [
    "message = HumanMessage(\n",
    "    content=\"Translate this sentence from English \"\n",
    "    \"to French and Spanish. I like red cars and \"\n",
    "    \"blue houses, but my dog is yellow.\"\n",
    ")"
   ]
  },
  {
   "cell_type": "markdown",
   "id": "94f5e7b6",
   "metadata": {},
   "source": [
    "## 3. Engaging the model to receive a response"
   ]
  },
  {
   "cell_type": "code",
   "execution_count": null,
   "id": "e49e3b6d-71e8-4906-bf9c-fca78c1fbd4c",
   "metadata": {
    "height": 30
   },
   "outputs": [],
   "source": [
    "model.invoke([message])"
   ]
  },
  {
   "cell_type": "markdown",
   "id": "7ad2b403bfa88dab",
   "metadata": {},
   "source": [
    "![](../images/19-db-agent.png)"
   ]
  }
 ],
 "metadata": {
  "kernelspec": {
   "display_name": "Python 3 (ipykernel)",
   "language": "python",
   "name": "python3"
  },
  "language_info": {
   "codemirror_mode": {
    "name": "ipython",
    "version": 3
   },
   "file_extension": ".py",
   "mimetype": "text/x-python",
   "name": "python",
   "nbconvert_exporter": "python",
   "pygments_lexer": "ipython3",
   "version": "3.10.9"
  }
 },
 "nbformat": 4,
 "nbformat_minor": 5
}
