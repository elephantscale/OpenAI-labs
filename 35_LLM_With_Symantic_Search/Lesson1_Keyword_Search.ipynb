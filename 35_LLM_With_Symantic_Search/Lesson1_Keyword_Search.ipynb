{
 "cells": [
  {
   "cell_type": "markdown",
   "source": [
    "# Lesson 1: keyword Search"
   ],
   "metadata": {
    "collapsed": false
   },
   "id": "92f21ec13e252c8d"
  },
  {
   "cell_type": "code",
   "execution_count": null,
   "id": "initial_id",
   "metadata": {
    "collapsed": true
   },
   "outputs": [],
   "source": [
    "import os\n",
    "import weaviate\n",
    "from dotenv import load_dotenv\n",
    "\n",
    "load_dotenv()\n",
    "\n",
    "auth_config = weaviate.auth.AuthApiKey(\n",
    "    api_key=os.getenv(\"WEAVIATE_API_KEY\")\n",
    ")"
   ]
  },
  {
   "cell_type": "code",
   "outputs": [],
   "source": [
    "# login https://dashboard.cohere.com/api-keys to create COHERE_API_KEY\n",
    "\n",
    "client = weaviate.Client(\n",
    "    url=os.getenv(\"WEAVIATE_API_URL\"),\n",
    "    auth_client_secret=auth_config,\n",
    "    additional_headers={\n",
    "        \"X-Cohere-Api-Key\": os.getenv(\"COHERE_API_KEY\"),\n",
    "    }\n",
    ")\n",
    "print(client)"
   ],
   "metadata": {
    "collapsed": false
   },
   "id": "e4bb9f3c5702d713",
   "execution_count": null
  },
  {
   "cell_type": "code",
   "outputs": [],
   "source": [
    "client.is_ready() "
   ],
   "metadata": {
    "collapsed": false
   },
   "id": "9687b36ab339e478",
   "execution_count": null
  },
  {
   "cell_type": "markdown",
   "source": [
    "# Keyword Search"
   ],
   "metadata": {
    "collapsed": false
   },
   "id": "7c913d96146b7c5d"
  },
  {
   "cell_type": "code",
   "outputs": [],
   "source": [
    "def keyword_search(query,\n",
    "                   results_lang='en',\n",
    "                   properties = [\"title\",\"url\",\"text\"],\n",
    "                   num_results=3):\n",
    "\n",
    "    where_filter = {\n",
    "    \"path\": [\"lang\"],\n",
    "    \"operator\": \"Equal\",\n",
    "    \"valueString\": results_lang\n",
    "    }\n",
    "    \n",
    "    response = (\n",
    "        client.query.get(\"Articles\", properties)\n",
    "        .with_bm25(\n",
    "            query=query\n",
    "        )\n",
    "        .with_where(where_filter)\n",
    "        .with_limit(num_results)\n",
    "        .do()\n",
    "        )\n",
    "\n",
    "    result = response['data']['Get']['Articles']\n",
    "    return result"
   ],
   "metadata": {
    "collapsed": false
   },
   "id": "d94d3f96a5928ecf",
   "execution_count": null
  },
  {
   "cell_type": "code",
   "outputs": [],
   "source": [
    "results = client.query.get(\"Articles\", [\"title\", \"url\", \"text\", \"lang\"]).do()\n",
    "print(results)"
   ],
   "metadata": {
    "collapsed": false
   },
   "id": "c9c327283e992968",
   "execution_count": null
  },
  {
   "cell_type": "code",
   "outputs": [],
   "source": [
    "query = \"What is the most viewed televised event?\"\n",
    "keyword_search_results = keyword_search(query)\n",
    "print(keyword_search_results)"
   ],
   "metadata": {
    "collapsed": false
   },
   "id": "4350444d0559d1cf",
   "execution_count": null
  },
  {
   "cell_type": "code",
   "outputs": [],
   "source": [
    "properties = [\"text\", \"title\", \"url\", \n",
    "             \"views\", \"lang\"]"
   ],
   "metadata": {
    "collapsed": false
   },
   "id": "9664b5eb1c822aae",
   "execution_count": null
  },
  {
   "cell_type": "code",
   "outputs": [],
   "source": [
    "def print_result(result):\n",
    "    for i,item in enumerate(result):\n",
    "        print(f'item {i}')\n",
    "        for key in item.keys():\n",
    "            print(f\"{key}:{item.get(key)}\")\n",
    "            print()\n",
    "        print()"
   ],
   "metadata": {
    "collapsed": false
   },
   "id": "d37ec60b1f0ac9ee",
   "execution_count": null
  },
  {
   "cell_type": "code",
   "outputs": [],
   "source": [
    "print_result(keyword_search_results)"
   ],
   "metadata": {
    "collapsed": false
   },
   "id": "342ab75080992da3",
   "execution_count": null
  },
  {
   "cell_type": "code",
   "outputs": [],
   "source": [
    "query = \"What is the most viewed televised event?\"\n",
    "keyword_search_results = keyword_search(query, results_lang='en')\n",
    "print_result(keyword_search_results)"
   ],
   "metadata": {
    "collapsed": false
   },
   "id": "f098201699103d2d",
   "execution_count": null
  },
  {
   "cell_type": "code",
   "outputs": [],
   "source": [],
   "metadata": {
    "collapsed": false
   },
   "id": "2999da31ece679fc"
  }
 ],
 "metadata": {
  "kernelspec": {
   "display_name": "Python 3",
   "language": "python",
   "name": "python3"
  },
  "language_info": {
   "codemirror_mode": {
    "name": "ipython",
    "version": 2
   },
   "file_extension": ".py",
   "mimetype": "text/x-python",
   "name": "python",
   "nbconvert_exporter": "python",
   "pygments_lexer": "ipython2",
   "version": "2.7.6"
  }
 },
 "nbformat": 4,
 "nbformat_minor": 5
}
