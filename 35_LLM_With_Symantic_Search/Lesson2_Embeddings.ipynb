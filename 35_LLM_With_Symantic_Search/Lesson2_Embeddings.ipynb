{
 "cells": [
  {
   "cell_type": "markdown",
   "source": [
    "# Lesson 2: Embeddings"
   ],
   "metadata": {
    "collapsed": false
   },
   "id": "6c94e71262fa5f4f"
  },
  {
   "cell_type": "code",
   "outputs": [],
   "source": [
    "import os\n",
    "\n",
    "import cohere\n",
    "import numpy as np\n",
    "import pandas as pd\n",
    "from dotenv import load_dotenv\n",
    "\n",
    "from utils import umap_plot\n",
    "from utils import umap_plot_big\n",
    "\n",
    "load_dotenv()\n",
    "\n",
    "co = cohere.Client(os.environ['COHERE_API_KEY'])"
   ],
   "metadata": {
    "collapsed": false
   },
   "id": "a2c163e3e6ee3e56",
   "execution_count": null
  },
  {
   "cell_type": "markdown",
   "source": [
    "# Word Embeddings"
   ],
   "metadata": {
    "collapsed": false
   },
   "id": "be831d066bde7f7c"
  },
  {
   "cell_type": "code",
   "outputs": [],
   "source": [
    "three_words = pd.DataFrame({'text':\n",
    "  [\n",
    "      'joy',\n",
    "      'happiness',\n",
    "      'potato'\n",
    "  ]})\n",
    "\n",
    "three_words"
   ],
   "metadata": {
    "collapsed": false
   },
   "id": "6d6b253cf338f6b2",
   "execution_count": null
  },
  {
   "cell_type": "code",
   "outputs": [],
   "source": [
    "three_words_emb = co.embed(texts=list(three_words['text']),\n",
    "                           model='embed-english-v2.0').embeddings"
   ],
   "metadata": {
    "collapsed": false
   },
   "id": "d7e7a67f9fcebb00",
   "execution_count": null
  },
  {
   "cell_type": "code",
   "outputs": [],
   "source": [
    "word_1 = three_words_emb[0]\n",
    "word_2 = three_words_emb[1]\n",
    "word_3 = three_words_emb[2]"
   ],
   "metadata": {
    "collapsed": false
   },
   "id": "4edbe31b07eb17d1",
   "execution_count": null
  },
  {
   "cell_type": "code",
   "outputs": [],
   "source": [
    "word_1[:10]"
   ],
   "metadata": {
    "collapsed": false
   },
   "id": "f6f0ce28b65eee84",
   "execution_count": null
  },
  {
   "cell_type": "markdown",
   "source": [
    "# Sentence Embeddings"
   ],
   "metadata": {
    "collapsed": false
   },
   "id": "3cd7dc19e826fe98"
  },
  {
   "cell_type": "code",
   "outputs": [],
   "source": [
    "sentences = pd.DataFrame({'text':\n",
    "  [\n",
    "   'Where is the world cup?',\n",
    "   'The world cup is in Qatar',\n",
    "   'What color is the sky?',\n",
    "   'The sky is blue',\n",
    "   'Where does the bear live?',\n",
    "   'The bear lives in the the woods',\n",
    "   'What is an apple?',\n",
    "   'An apple is a fruit',\n",
    "  ]})\n",
    "\n",
    "sentences"
   ],
   "metadata": {
    "collapsed": false
   },
   "id": "203f857b0584c099",
   "execution_count": null
  },
  {
   "cell_type": "code",
   "outputs": [],
   "source": [
    "emb = co.embed(texts=list(sentences['text']),\n",
    "               model='embed-english-v2.0').embeddings\n",
    "\n",
    "for e in emb:\n",
    "    print(e[:3])"
   ],
   "metadata": {
    "collapsed": false
   },
   "id": "8794921282a8b151",
   "execution_count": null
  },
  {
   "cell_type": "code",
   "outputs": [],
   "source": [
    "chart = umap_plot(sentences, emb)"
   ],
   "metadata": {
    "collapsed": false
   },
   "id": "b31f3bc66f3fafee",
   "execution_count": null
  },
  {
   "cell_type": "code",
   "outputs": [],
   "source": [
    "chart.interactive()"
   ],
   "metadata": {
    "collapsed": false
   },
   "id": "75583e52044d2ff0",
   "execution_count": null
  },
  {
   "cell_type": "markdown",
   "source": [
    "# Articles Embeddings"
   ],
   "metadata": {
    "collapsed": false
   },
   "id": "4225e0fcff85e312"
  },
  {
   "cell_type": "code",
   "outputs": [],
   "source": [
    "wiki_articles = pd.read_pickle('wikipedia.pkl')\n",
    "wiki_articles"
   ],
   "metadata": {
    "collapsed": false
   },
   "id": "8c9af182a562e28a",
   "execution_count": null
  },
  {
   "cell_type": "code",
   "outputs": [],
   "source": [
    "articles = wiki_articles[['title', 'text']]\n",
    "embeds = np.array([d for d in wiki_articles['emb']])\n",
    "\n",
    "chart = umap_plot_big(articles, embeds)\n",
    "chart.interactive()"
   ],
   "metadata": {
    "collapsed": false
   },
   "id": "a2fccc06581efcce",
   "execution_count": null
  }
 ],
 "metadata": {
  "kernelspec": {
   "display_name": "Python 3",
   "language": "python",
   "name": "python3"
  },
  "language_info": {
   "codemirror_mode": {
    "name": "ipython",
    "version": 2
   },
   "file_extension": ".py",
   "mimetype": "text/x-python",
   "name": "python",
   "nbconvert_exporter": "python",
   "pygments_lexer": "ipython2",
   "version": "2.7.6"
  }
 },
 "nbformat": 4,
 "nbformat_minor": 5
}
