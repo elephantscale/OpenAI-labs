{
 "cells": [
  {
   "cell_type": "code",
   "execution_count": null,
   "id": "initial_id",
   "metadata": {
    "collapsed": true
   },
   "outputs": [],
   "source": [
    "import os\n",
    "import weaviate\n",
    "from dotenv import load_dotenv\n",
    "\n",
    "load_dotenv()\n",
    "\n",
    "auth_config = weaviate.auth.AuthApiKey(\n",
    "    api_key=\"G3YW1TL4j6geVGc0H091LO77ysqTob2z5EbU\"\n",
    ")"
   ]
  },
  {
   "cell_type": "code",
   "outputs": [],
   "source": [
    "import cohere\n",
    "\n",
    "# login https://dashboard.cohere.com/api-keys to create COHERE_API_KEY\n",
    "\n",
    "client = weaviate.Client(\n",
    "    url=\"https://3fmi0udzstkt7afklk464g.c0.us-east1.gcp.weaviate.cloud\",\n",
    "    auth_client_secret=auth_config,\n",
    "    additional_headers={\n",
    "        \"X-Cohere-Api-Key\": os.getenv(\"COHERE_API_KEY\"),\n",
    "    }\n",
    ")\n",
    "\n",
    "co = cohere.Client(os.getenv(\"COHERE_API_KEY\"))"
   ],
   "metadata": {
    "collapsed": false
   },
   "id": "d85b18aa1a4dc132",
   "execution_count": null
  },
  {
   "cell_type": "code",
   "outputs": [],
   "source": [
    "import logging\n",
    "\n",
    "# Define schema\n",
    "schema = {\n",
    "    \"classes\": [\n",
    "        {\n",
    "            \"class\": \"Test\",\n",
    "            \"properties\": [\n",
    "                {\"name\": \"title\", \"dataType\": [\"text\"]},\n",
    "                {\"name\": \"content\", \"dataType\": [\"text\"]},\n",
    "                {\"name\": \"vector\", \"dataType\": [\"number[]\"]}\n",
    "            ]\n",
    "        }\n",
    "    ]\n",
    "}\n",
    "\n",
    "# Check if class 'Test' already exists\n",
    "existing_classes = client.schema.get()[\"classes\"]\n",
    "if not any(cls[\"class\"] == \"Test\" for cls in existing_classes):\n",
    "    # Create schema in Weaviate\n",
    "    client.schema.create(schema)\n",
    "else:\n",
    "    print(\"Class 'Test' already exists in Weaviate schema.\")\n",
    "\n",
    "documents = [\n",
    "    {\"title\": \"Nature 1\", \"content\": \"The forest is full of trees.\"},\n",
    "    {\"title\": \"Nature 2\", \"content\": \"The ocean is vast and blue.\"},\n",
    "    {\"title\": \"Nature 3\", \"content\": \"Mountains are high and majestic.\"},\n",
    "    {\"title\": \"Nature 4\", \"content\": \"Rivers flow through the valleys and forest\"},\n",
    "    {\"title\": \"Nature 5\", \"content\": \"Deserts are dry and hot.\"},\n",
    "    {\"title\": \"Nature 6\", \"content\": \"Rainforests are dense and humid.\"},\n",
    "    {\"title\": \"Nature 7\", \"content\": \"The tundra is cold and barren.\"},\n",
    "    {\"title\": \"Nature 8\", \"content\": \"Savannas are grassy and open.\"},\n",
    "    {\"title\": \"Nature 9\", \"content\": \"Lakes are calm and serene.\"},\n",
    "    {\"title\": \"Nature 10\", \"content\": \"Wetlands are rich in biodiversity.\"},\n",
    "    {\"title\": \"Nature 11\", \"content\": \"Lot of forest\"}\n",
    "]\n",
    "\n",
    "# Extract contents for batch embedding\n",
    "contents = [doc[\"content\"] for doc in documents]\n",
    "\n",
    "# Embed all documents' contents at once\n",
    "embeddings = co.embed(texts=contents).embeddings\n",
    "print(embeddings)\n",
    "\n",
    "# Add embeddings to documents\n",
    "for i, doc in enumerate(documents):\n",
    "    doc[\"vector\"] = embeddings[i]\n",
    "\n",
    "# Configure batch processing\n",
    "client.batch.configure(batch_size=10, dynamic=True)\n",
    "\n",
    "# Add documents to batch\n",
    "try:\n",
    "    with client.batch as batch:\n",
    "        for doc in documents:\n",
    "            batch.add_data_object(\n",
    "                data_object=doc,\n",
    "                class_name=\"Test\"\n",
    "            )\n",
    "    logging.info(\"Documents inserted successfully\")\n",
    "except Exception as e:\n",
    "    logging.error(f\"Error occurred during batch insertion: {e}\")\n",
    "\n",
    "print(\"Documents inserted successfully\")\n"
   ],
   "metadata": {
    "collapsed": false
   },
   "id": "2f912b1c32518931",
   "execution_count": null
  },
  {
   "cell_type": "code",
   "outputs": [],
   "source": [
    "query = \"\"\"\n",
    "{\n",
    "  Get {\n",
    "    Test {\n",
    "      title\n",
    "      vector\n",
    "      _additional {\n",
    "        id\n",
    "      }\n",
    "    }\n",
    "  }\n",
    "}\n",
    "\"\"\"\n",
    "\n",
    "# Execute the query\n",
    "result = client.query.raw(query)\n",
    "\n",
    "# Filter documents with non-null vectors and get their titles\n",
    "titles_with_vectors = [\n",
    "    doc['title'] for doc in result['data']['Get']['Test'] if doc['vector'] is not None\n",
    "]\n",
    "\n",
    "print(f\"Titles of documents with vectors: {titles_with_vectors}\")"
   ],
   "metadata": {
    "collapsed": false
   },
   "id": "2c04bbd465bb1cc4",
   "execution_count": null
  },
  {
   "cell_type": "code",
   "outputs": [],
   "source": [
    "# Sample query\n",
    "query = \"forest\""
   ],
   "metadata": {
    "collapsed": false
   },
   "id": "6c55809d3c8ff47a",
   "execution_count": null
  },
  {
   "cell_type": "code",
   "outputs": [],
   "source": [
    "# Function to perform keyword search\n",
    "def keyword_search(query):\n",
    "    response = client.query.get(\"Test\", [\"title\", \"content\"]).with_where({\n",
    "        \"operator\": \"Like\",\n",
    "        \"path\": [\"content\"],\n",
    "        \"valueText\": f\"*{query}*\"\n",
    "    }).do()\n",
    "    return [result[\"title\"] for result in response[\"data\"][\"Get\"][\"Test\"]]\n",
    "\n",
    "\n",
    "\n",
    "# Function to perform vector search\n",
    "def dense_retrieval(query,\n",
    "                    client,\n",
    "                    properties=[\"title\",\"content\"],\n",
    "                    num_results=5):\n",
    "    nearVector = {\"concepts\": [query]}\n",
    "\n",
    "    # To filter by language\n",
    "    \n",
    "    response = (\n",
    "        client.query\n",
    "        .get(\"Test\", properties)\n",
    "        .with_near_vector(nearVector)\n",
    "        .with_limit(num_results)\n",
    "        .do()\n",
    "    )\n",
    "\n",
    "    return response['data']['Get']['Test']\n",
    "\n",
    "\n"
   ],
   "metadata": {
    "collapsed": false
   },
   "id": "726a3d10ac0ff2c8",
   "execution_count": null
  },
  {
   "cell_type": "code",
   "outputs": [],
   "source": [
    "# Perform keyword search\n",
    "keyword_results = keyword_search(query)\n",
    "print(f\"Keyword search results: {keyword_results}\")\n",
    "\n",
    "# Perform vector search\n",
    "vector_results = dense_retrieval(query,client)\n",
    "print(f\"Vector search results: {vector_results}\")\n",
    "\n",
    "\n"
   ],
   "metadata": {
    "collapsed": false
   },
   "id": "7d156f3d1c3aede5",
   "execution_count": null
  }
 ],
 "metadata": {
  "kernelspec": {
   "display_name": "Python 3",
   "language": "python",
   "name": "python3"
  },
  "language_info": {
   "codemirror_mode": {
    "name": "ipython",
    "version": 2
   },
   "file_extension": ".py",
   "mimetype": "text/x-python",
   "name": "python",
   "nbconvert_exporter": "python",
   "pygments_lexer": "ipython2",
   "version": "2.7.6"
  }
 },
 "nbformat": 4,
 "nbformat_minor": 5
}
