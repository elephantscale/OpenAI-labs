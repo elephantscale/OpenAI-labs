{
 "cells": [
  {
   "cell_type": "markdown",
   "source": [
    "# Lesson 4: ReRank"
   ],
   "metadata": {
    "collapsed": false
   },
   "id": "e861b5e46d636804"
  },
  {
   "cell_type": "code",
   "outputs": [],
   "source": [
    "import os\n",
    "import weaviate\n",
    "from dotenv import load_dotenv\n",
    "from utils import dense_retrieval\n",
    "from utils import print_result\n",
    "from utils import keyword_search\n",
    "\n",
    "load_dotenv()\n",
    "\n",
    "auth_config = weaviate.auth.AuthApiKey(\n",
    "    api_key=os.getenv(\"WEAVIATE_API_KEY\")\n",
    ")\n",
    "\n",
    "client = weaviate.Client(\n",
    "    url=os.getenv(\"WEAVIATE_API_URL\"),\n",
    "    auth_client_secret=auth_config,\n",
    "    additional_headers={\n",
    "        \"X-Cohere-Api-Key\": os.getenv(\"COHERE_API_KEY\"),\n",
    "    }\n",
    ")"
   ],
   "metadata": {
    "collapsed": false
   },
   "id": "d6fb8619747b6d97",
   "execution_count": null
  },
  {
   "cell_type": "markdown",
   "source": [
    "# Dense Retrieval"
   ],
   "metadata": {
    "collapsed": false
   },
   "id": "5d51486576530d6"
  },
  {
   "cell_type": "code",
   "outputs": [],
   "source": [
    "query = \"What is the capital of Canada?\""
   ],
   "metadata": {
    "collapsed": false
   },
   "id": "65f1f9939c85fa6",
   "execution_count": null
  },
  {
   "cell_type": "code",
   "outputs": [],
   "source": [
    "dense_retrieval_results = dense_retrieval(query, client)"
   ],
   "metadata": {
    "collapsed": false
   },
   "id": "d93cfff901043923",
   "execution_count": null
  },
  {
   "cell_type": "code",
   "outputs": [],
   "source": [
    "print_result(dense_retrieval_results)"
   ],
   "metadata": {
    "collapsed": false
   },
   "id": "3ad56a19f4ffe2a7",
   "execution_count": null
  },
  {
   "cell_type": "markdown",
   "source": [
    "# Improving Keyword Search with ReRank"
   ],
   "metadata": {
    "collapsed": false
   },
   "id": "a2633d44b566d284"
  },
  {
   "cell_type": "code",
   "outputs": [],
   "source": [
    "query_1 = \"What is the capital of Canada?\""
   ],
   "metadata": {
    "collapsed": false
   },
   "id": "d22470c7fe2ee483",
   "execution_count": null
  },
  {
   "cell_type": "code",
   "outputs": [],
   "source": [
    "query_1 = \"What is the capital of Canada?\"\n",
    "results = keyword_search(query_1,\n",
    "                         client,\n",
    "                         properties=[\"text\", \"title\", \"url\", \"views\", \"lang\", \"_additional {distance}\"],\n",
    "                         num_results=3\n",
    "                        )\n",
    "\n",
    "for i, result in enumerate(results):\n",
    "    print(f\"i:{i}\")\n",
    "    print(result.get('title'))\n",
    "    print(result.get('text'))"
   ],
   "metadata": {
    "collapsed": false
   },
   "id": "6829a67b3174689b",
   "execution_count": null
  },
  {
   "cell_type": "code",
   "outputs": [],
   "source": [
    "query_1 = \"What is the capital of Canada?\"\n",
    "results = keyword_search(query_1,\n",
    "                         client,\n",
    "                         properties=[\"text\", \"title\", \"url\", \"views\", \"lang\", \"_additional {distance}\"],\n",
    "                         num_results=500\n",
    "                        )\n",
    "\n",
    "for i, result in enumerate(results):\n",
    "    print(f\"i:{i}\")\n",
    "    print(result.get('title'))\n"
   ],
   "metadata": {
    "collapsed": false
   },
   "id": "4280416f47ca2726",
   "execution_count": null
  },
  {
   "cell_type": "code",
   "outputs": [],
   "source": [
    "import cohere\n",
    "\n",
    "\n",
    "def rerank_responses(query, responses, num_responses=10):\n",
    "    co = cohere.Client(os.environ['COHERE_API_KEY'])\n",
    "    reranked_responses = co.rerank(\n",
    "        query=query,\n",
    "        documents=responses,\n",
    "        top_n=num_responses,  # controls how many reranked docs to return\n",
    "        model=\"rerank-english-v2.0\"\n",
    "    )\n",
    "    return reranked_responses"
   ],
   "metadata": {
    "collapsed": false
   },
   "id": "6c711b9e3c891695",
   "execution_count": null
  },
  {
   "cell_type": "code",
   "outputs": [],
   "source": [
    "texts = [result.get('text') for result in results]\n",
    "reranked_text = rerank_responses(query_1, texts)\n",
    "print(reranked_text)"
   ],
   "metadata": {
    "collapsed": false
   },
   "id": "a5b6f01620c42b46",
   "execution_count": null
  },
  {
   "cell_type": "code",
   "outputs": [],
   "source": [
    "for i, rerank_result in enumerate(reranked_text):\n",
    "    print(f\"i:{i}\")\n",
    "    print(f\"{rerank_result}\")\n",
    "    print()"
   ],
   "metadata": {
    "collapsed": false
   },
   "id": "b67ff8ec3c0adb9f",
   "execution_count": null
  },
  {
   "cell_type": "markdown",
   "source": [
    "# Improving Dense Retrieval with ReRank"
   ],
   "metadata": {
    "collapsed": false
   },
   "id": "1a85135b4a7985cb"
  },
  {
   "cell_type": "code",
   "outputs": [],
   "source": [
    "query_2 = \"Who is the tallest person in history?\"\n",
    "results = dense_retrieval(query_2,client)"
   ],
   "metadata": {
    "collapsed": false
   },
   "id": "cc60cd5df8537f2",
   "execution_count": null
  },
  {
   "cell_type": "code",
   "outputs": [],
   "source": [
    "for i, result in enumerate(results):\n",
    "    print(f\"i:{i}\")\n",
    "    print(result.get('title'))\n",
    "    print(result.get('text'))\n",
    "    print()"
   ],
   "metadata": {
    "collapsed": false
   },
   "id": "2348803dea0b2a8",
   "execution_count": null
  },
  {
   "cell_type": "code",
   "outputs": [],
   "source": [
    "texts = [result.get('text') for result in results]\n",
    "reranked_text = rerank_responses(query_2, texts)"
   ],
   "metadata": {
    "collapsed": false
   },
   "id": "59dada4a222f03fa",
   "execution_count": null
  },
  {
   "cell_type": "code",
   "outputs": [],
   "source": [
    "for i, rerank_result in enumerate(reranked_text):\n",
    "    print(f\"i:{i}\")\n",
    "    print(f\"{rerank_result}\")\n",
    "    print()"
   ],
   "metadata": {
    "collapsed": false
   },
   "id": "7b788dbaa5fae5d8",
   "execution_count": null
  }
 ],
 "metadata": {
  "kernelspec": {
   "display_name": "Python 3",
   "language": "python",
   "name": "python3"
  },
  "language_info": {
   "codemirror_mode": {
    "name": "ipython",
    "version": 2
   },
   "file_extension": ".py",
   "mimetype": "text/x-python",
   "name": "python",
   "nbconvert_exporter": "python",
   "pygments_lexer": "ipython2",
   "version": "2.7.6"
  }
 },
 "nbformat": 4,
 "nbformat_minor": 5
}
