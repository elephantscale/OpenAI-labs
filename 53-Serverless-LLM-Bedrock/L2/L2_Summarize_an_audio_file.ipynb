{
 "cells": [
  {
   "cell_type": "markdown",
   "id": "85d45472-d00a-4ee5-aade-1a2ded6d899f",
   "metadata": {},
   "source": [
    "# Lesson 2: Summarize an audio file"
   ]
  },
  {
   "cell_type": "markdown",
   "id": "4c989221-ee73-4747-a01b-1659b74ce83f",
   "metadata": {},
   "source": [
    "### Import all needed packages"
   ]
  },
  {
   "cell_type": "code",
   "id": "ef48f6e8",
   "metadata": {
    "height": 132
   },
   "source": [
    "import os\n",
    "from IPython.display import Audio\n",
    "import boto3\n",
    "import uuid\n",
    "import time\n",
    "import json\n",
    "from jinja2 import Template"
   ],
   "outputs": [],
   "execution_count": null
  },
  {
   "cell_type": "code",
   "id": "861c287c-7ec3-431e-9615-e3c5cd90b07a",
   "metadata": {},
   "source": [
    "from dotenv import load_dotenv, find_dotenv\n",
    "\n",
    "_ = load_dotenv(find_dotenv())"
   ],
   "outputs": [],
   "execution_count": null
  },
  {
   "cell_type": "markdown",
   "id": "a37a4aff-a4c1-414a-8245-acd2683a32fc",
   "metadata": {},
   "source": [
    "### Let's start with transcribing an audio file"
   ]
  },
  {
   "cell_type": "code",
   "id": "50c639ed",
   "metadata": {
    "height": 47
   },
   "source": [
    "audio = Audio(filename=\"dialog.mp3\")\n",
    "display(audio)"
   ],
   "outputs": [],
   "execution_count": null
  },
  {
   "cell_type": "code",
   "id": "fb4c3dc1",
   "metadata": {
    "height": 30
   },
   "source": "s3_client = boto3.client('s3', region_name='us-west-1')",
   "outputs": [],
   "execution_count": null
  },
  {
   "cell_type": "code",
   "id": "cf239332-7549-402d-ba72-e9661822ee55",
   "metadata": {
    "height": 30
   },
   "source": [
    "bucket_name = os.getenv('BucketName')\n",
    "print(bucket_name)"
   ],
   "outputs": [],
   "execution_count": null
  },
  {
   "cell_type": "code",
   "id": "2ae5fae0",
   "metadata": {
    "height": 30
   },
   "source": [
    "file_name = 'dialog.mp3'"
   ],
   "outputs": [],
   "execution_count": null
  },
  {
   "cell_type": "code",
   "id": "7349f98c",
   "metadata": {
    "height": 30
   },
   "source": [
    "s3_client.upload_file(file_name, bucket_name, file_name)"
   ],
   "outputs": [],
   "execution_count": null
  },
  {
   "cell_type": "code",
   "id": "56281396",
   "metadata": {
    "height": 45
   },
   "source": "transcribe_client = boto3.client('transcribe', region_name='us-west-1')",
   "outputs": [],
   "execution_count": null
  },
  {
   "cell_type": "code",
   "id": "eee70c2d",
   "metadata": {
    "height": 30
   },
   "source": [
    "job_name = 'transcription-job-' + str(uuid.uuid4())"
   ],
   "outputs": [],
   "execution_count": null
  },
  {
   "cell_type": "code",
   "id": "1abfd8f8",
   "metadata": {
    "height": 30
   },
   "source": [
    "job_name"
   ],
   "outputs": [],
   "execution_count": null
  },
  {
   "cell_type": "code",
   "id": "65a03320",
   "metadata": {
    "height": 215
   },
   "source": [
    "response = transcribe_client.start_transcription_job(\n",
    "    TranscriptionJobName=job_name,\n",
    "    Media={'MediaFileUri': f's3://{bucket_name}/{file_name}'},\n",
    "    MediaFormat='mp3',\n",
    "    LanguageCode='en-US',\n",
    "    OutputBucketName=bucket_name,\n",
    "    Settings={\n",
    "        'ShowSpeakerLabels': True,\n",
    "        'MaxSpeakerLabels': 2\n",
    "    }\n",
    ")"
   ],
   "outputs": [],
   "execution_count": null
  },
  {
   "cell_type": "code",
   "id": "100eeb56",
   "metadata": {
    "height": 130
   },
   "source": [
    "while True:\n",
    "    status = transcribe_client.get_transcription_job(TranscriptionJobName=job_name)\n",
    "    if status['TranscriptionJob']['TranscriptionJobStatus'] in ['COMPLETED', 'FAILED']:\n",
    "        break\n",
    "    time.sleep(2)\n",
    "print(status['TranscriptionJob']['TranscriptionJobStatus'])"
   ],
   "outputs": [],
   "execution_count": null
  },
  {
   "cell_type": "code",
   "id": "135723db",
   "metadata": {
    "height": 572
   },
   "source": [
    "if status['TranscriptionJob']['TranscriptionJobStatus'] == 'COMPLETED':\n",
    "\n",
    "    # Load the transcript from S3.\n",
    "    transcript_key = f\"{job_name}.json\"\n",
    "    transcript_obj = s3_client.get_object(Bucket=bucket_name, Key=transcript_key)\n",
    "    transcript_text = transcript_obj['Body'].read().decode('utf-8')\n",
    "    transcript_json = json.loads(transcript_text)\n",
    "\n",
    "    output_text = \"\"\n",
    "    current_speaker = None\n",
    "\n",
    "    items = transcript_json['results']['items']\n",
    "\n",
    "    for item in items:\n",
    "\n",
    "        speaker_label = item.get('speaker_label', None)\n",
    "        content = item['alternatives'][0]['content']\n",
    "\n",
    "        # Start the line with the speaker label:\n",
    "        if speaker_label is not None and speaker_label != current_speaker:\n",
    "            current_speaker = speaker_label\n",
    "            output_text += f\"\\n{current_speaker}: \"\n",
    "\n",
    "        # Add the speech content:\n",
    "        if item['type'] == 'punctuation':\n",
    "            output_text = output_text.rstrip()\n",
    "\n",
    "        output_text += f\"{content} \"\n",
    "\n",
    "    # Save the transcript to a text file\n",
    "    with open(f'{job_name}.txt', 'w') as f:\n",
    "        f.write(output_text)"
   ],
   "outputs": [],
   "execution_count": null
  },
  {
   "cell_type": "code",
   "id": "3f34369c",
   "metadata": {
    "height": 45
   },
   "source": [
    "bedrock_runtime = boto3.client('bedrock-runtime', region_name='us-west-2')"
   ],
   "outputs": [],
   "execution_count": null
  },
  {
   "cell_type": "code",
   "id": "d506e51e",
   "metadata": {
    "height": 47
   },
   "source": [
    "with open(f'{job_name}.txt', \"r\") as file:\n",
    "    transcript = file.read()"
   ],
   "outputs": [],
   "execution_count": null
  },
  {
   "cell_type": "code",
   "id": "6f1e2a60",
   "metadata": {
    "height": 504
   },
   "source": [
    "%%writefile prompt_template.txt\n",
    "You are an advanced AI assistant tasked with analyzing a conversation transcript. Your response must be in JSON format and include:\n",
    "1. The overall sentiment of the conversation (Positive, Negative, or Neutral), based on the tone, resolution, and emotions expressed.\n",
    "2. A detailed list of all issues, problems, or points of friction raised during the conversation. For each issue, provide:\n",
    "   - A topic that summarizes the issue.\n",
    "   - A brief summary explaining the concern or friction, including the specific context from the conversation.\n",
    "\n",
    "The conversation transcript is enclosed within <data> tags.\n",
    "\n",
    "<data>\n",
    "{{ transcript }}\n",
    "</data>\n",
    "\n",
    "Follow these additional guidelines:\n",
    "- Carefully analyze the entire conversation for any potential concerns or disagreements, even if they seem minor.\n",
    "- Ensure each issue is meaningful and adds value to the summary.\n",
    "- Respond strictly in this JSON format:\n",
    "{\n",
    "    \"sentiment\": \"<sentiment>\",\n",
    "    \"issues\": [\n",
    "        {\n",
    "            \"topic\": \"<topic>\",\n",
    "            \"summary\": \"<issue_summary>\"\n",
    "        },\n",
    "        ...\n",
    "    ]\n",
    "}\n",
    "Do not leave any fields empty. Replace <sentiment>, <topic>, and <issue_summary> with meaningful and specific values. Include all possible issues raised in the conversation.\n"
   ],
   "outputs": [],
   "execution_count": null
  },
  {
   "cell_type": "code",
   "id": "0dadb797",
   "metadata": {
    "height": 47
   },
   "source": [
    "with open('prompt_template.txt', \"r\") as file:\n",
    "    template_string = file.read()"
   ],
   "outputs": [],
   "execution_count": null
  },
  {
   "cell_type": "code",
   "id": "676313e8",
   "metadata": {
    "height": 64
   },
   "source": [
    "data = {\n",
    "    'transcript': transcript\n",
    "}"
   ],
   "outputs": [],
   "execution_count": null
  },
  {
   "metadata": {},
   "cell_type": "code",
   "source": "data",
   "id": "e81795e57bb29100",
   "outputs": [],
   "execution_count": null
  },
  {
   "cell_type": "code",
   "id": "5f411f8a",
   "metadata": {
    "height": 30
   },
   "source": [
    "template = Template(template_string)"
   ],
   "outputs": [],
   "execution_count": null
  },
  {
   "cell_type": "code",
   "id": "b16e21d3",
   "metadata": {
    "height": 30
   },
   "source": [
    "prompt = template.render(data)"
   ],
   "outputs": [],
   "execution_count": null
  },
  {
   "cell_type": "code",
   "id": "68584b09",
   "metadata": {
    "height": 30
   },
   "source": [
    "print(prompt)"
   ],
   "outputs": [],
   "execution_count": null
  },
  {
   "metadata": {},
   "cell_type": "code",
   "source": [
    "#another way of prompting\n",
    "\n",
    "prompt1 = Template(\"\"\"\n",
    "You are an advanced AI assistant tasked with analyzing a conversation transcript. Your response must be in JSON format and include:\n",
    "1. The overall sentiment of the conversation (Positive, Negative, or Neutral), based on the tone, resolution, and emotions expressed.\n",
    "2. A detailed list of all issues, problems, or points of friction raised during the conversation. For each issue, provide:\n",
    "   - A topic that summarizes the issue.\n",
    "   - A brief summary explaining the concern or friction, including the specific context from the conversation.\n",
    "\n",
    "The conversation transcript is enclosed within <data> tags.\n",
    "\n",
    "<data>\n",
    "{{ transcript }}\n",
    "</data>\n",
    "\n",
    "Follow these additional guidelines:\n",
    "- Carefully analyze the entire conversation for any potential concerns or disagreements, even if they seem minor.\n",
    "- Ensure each issue is meaningful and adds value to the summary.\n",
    "- Respond strictly in this JSON format:\n",
    "{\n",
    "    \"sentiment\": \"<sentiment>\",\n",
    "    \"issues\": [\n",
    "        {\n",
    "            \"topic\": \"<topic>\",\n",
    "            \"summary\": \"<issue_summary>\"\n",
    "        },\n",
    "        ...\n",
    "    ]\n",
    "}\n",
    "Do not leave any fields empty. Replace <sentiment>, <topic>, and <issue_summary> with meaningful and specific values. Include all possible issues raised in the conversation.\n",
    "\"\"\").render(transcript=data['transcript'])\n"
   ],
   "id": "8e4cf793807015de",
   "outputs": [],
   "execution_count": null
  },
  {
   "cell_type": "code",
   "id": "e22cd7aa",
   "metadata": {
    "height": 268
   },
   "source": [
    "kwargs = {\n",
    "    \"modelId\": \"amazon.titan-text-express-v1\",\n",
    "    \"contentType\": \"application/json\",\n",
    "    \"accept\": \"*/*\",\n",
    "    \"body\": json.dumps(\n",
    "        {\n",
    "            \"inputText\": prompt,\n",
    "            \"textGenerationConfig\": {\n",
    "                \"maxTokenCount\": 2048,  # Increase token limit for larger outputs\n",
    "                \"temperature\": 0.8,    # Slightly increase randomness\n",
    "                \"topP\": 0.95\n",
    "            }\n",
    "        }\n",
    "    )\n",
    "}"
   ],
   "outputs": [],
   "execution_count": null
  },
  {
   "cell_type": "code",
   "id": "98fdf1c5",
   "metadata": {
    "height": 30
   },
   "source": [
    "response = bedrock_runtime.invoke_model(**kwargs)"
   ],
   "outputs": [],
   "execution_count": null
  },
  {
   "cell_type": "code",
   "id": "7154963f",
   "metadata": {
    "height": 47
   },
   "source": [
    "response_body = json.loads(response.get('body').read())\n",
    "generation = response_body['results'][0]['outputText']"
   ],
   "outputs": [],
   "execution_count": null
  },
  {
   "cell_type": "code",
   "id": "5dd9dd53",
   "metadata": {
    "height": 30
   },
   "source": [
    "print(generation)"
   ],
   "outputs": [],
   "execution_count": null
  }
 ],
 "metadata": {
  "kernelspec": {
   "display_name": "Lab 53",
   "language": "python",
   "name": "53"
  },
  "language_info": {
   "codemirror_mode": {
    "name": "ipython",
    "version": 3
   },
   "file_extension": ".py",
   "mimetype": "text/x-python",
   "name": "python",
   "nbconvert_exporter": "python",
   "pygments_lexer": "ipython3",
   "version": "3.12.7"
  }
 },
 "nbformat": 4,
 "nbformat_minor": 5
}
