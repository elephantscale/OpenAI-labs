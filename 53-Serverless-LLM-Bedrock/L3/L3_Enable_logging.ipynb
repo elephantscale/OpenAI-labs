{
 "cells": [
  {
   "cell_type": "markdown",
   "id": "cc6b7b9f-a75d-4b78-930f-26d2343ac2c2",
   "metadata": {},
   "source": [
    "# Lesson 3: Enable Logging"
   ]
  },
  {
   "cell_type": "markdown",
   "id": "06fc5839-0b4b-42a3-9aaf-99a97e347955",
   "metadata": {},
   "source": [
    "### Import all needed packages"
   ]
  },
  {
   "cell_type": "code",
   "execution_count": 45,
   "id": "63cf31e4",
   "metadata": {
    "height": 98
   },
   "outputs": [],
   "source": [
    "import boto3\n",
    "import json\n",
    "import os\n",
    "\n",
    "bedrock = boto3.client('bedrock', region_name=\"us-west-2\")"
   ]
  },
  {
   "cell_type": "code",
   "execution_count": 63,
   "id": "d4b18f5e-71bd-4b00-a903-e21149032ea7",
   "metadata": {},
   "outputs": [],
   "source": [
    "from dotenv import load_dotenv, find_dotenv\n",
    "_ = load_dotenv(find_dotenv())"
   ]
  },
  {
   "cell_type": "code",
   "execution_count": 64,
   "id": "e5d9e31b",
   "metadata": {
    "height": 47
   },
   "outputs": [],
   "source": [
    "from helpers.CloudWatchHelper import CloudWatch_Helper\n",
    "cloudwatch = CloudWatch_Helper()"
   ]
  },
  {
   "cell_type": "code",
   "execution_count": 65,
   "id": "87a30e7e",
   "metadata": {
    "height": 30
   },
   "outputs": [],
   "source": [
    "log_group_name = '/my/amazon/bedrock/logs'"
   ]
  },
  {
   "cell_type": "code",
   "execution_count": 66,
   "id": "2461a51c",
   "metadata": {
    "height": 30
   },
   "outputs": [
    {
     "name": "stdout",
     "output_type": "stream",
     "text": [
      "Log group '/my/amazon/bedrock/logs' already exists.\n"
     ]
    }
   ],
   "source": [
    "cloudwatch.create_log_group(log_group_name)"
   ]
  },
  {
   "cell_type": "code",
   "execution_count": 67,
   "id": "0afe5997",
   "metadata": {
    "height": 283
   },
   "outputs": [],
   "source": [
    "loggingConfig = {\n",
    "    'cloudWatchConfig': {\n",
    "        'logGroupName': log_group_name,\n",
    "        'roleArn': os.environ['LOGGINGROLEARN'],\n",
    "        'largeDataDeliveryS3Config': {\n",
    "            'bucketName': os.getenv('BucketName'),\n",
    "            'keyPrefix': 'amazon_bedrock_large_data_delivery',\n",
    "        }\n",
    "    },\n",
    "    's3Config': {\n",
    "        'bucketName': os.getenv('BucketName'),\n",
    "        'keyPrefix': 'amazon_bedrock_logs',\n",
    "    },\n",
    "    'textDataDeliveryEnabled': True,\n",
    "}"
   ]
  },
  {
   "cell_type": "code",
   "execution_count": 68,
   "id": "2ca33ffe",
   "metadata": {
    "height": 45
   },
   "outputs": [
    {
     "data": {
      "text/plain": [
       "{'ResponseMetadata': {'RequestId': 'e8b8993b-5ca8-444f-89bd-ecb16a1ece11',\n",
       "  'HTTPStatusCode': 200,\n",
       "  'HTTPHeaders': {'date': 'Sun, 24 Nov 2024 14:33:23 GMT',\n",
       "   'content-type': 'application/json',\n",
       "   'content-length': '2',\n",
       "   'connection': 'keep-alive',\n",
       "   'x-amzn-requestid': 'e8b8993b-5ca8-444f-89bd-ecb16a1ece11'},\n",
       "  'RetryAttempts': 0}}"
      ]
     },
     "execution_count": 68,
     "metadata": {},
     "output_type": "execute_result"
    }
   ],
   "source": [
    "bedrock.put_model_invocation_logging_configuration(loggingConfig=loggingConfig)"
   ]
  },
  {
   "cell_type": "code",
   "execution_count": 69,
   "id": "41fdb20d",
   "metadata": {
    "height": 30
   },
   "outputs": [
    {
     "data": {
      "text/plain": [
       "{'ResponseMetadata': {'RequestId': '3da2b3c2-8eb3-4862-b0b6-5ccfef202793',\n",
       "  'HTTPStatusCode': 200,\n",
       "  'HTTPHeaders': {'date': 'Sun, 24 Nov 2024 14:33:24 GMT',\n",
       "   'content-type': 'application/json',\n",
       "   'content-length': '483',\n",
       "   'connection': 'keep-alive',\n",
       "   'x-amzn-requestid': '3da2b3c2-8eb3-4862-b0b6-5ccfef202793'},\n",
       "  'RetryAttempts': 0},\n",
       " 'loggingConfig': {'cloudWatchConfig': {'logGroupName': '/my/amazon/bedrock/logs',\n",
       "   'roleArn': 'arn:aws:iam::092413168457:role/CloudWatchES-Course',\n",
       "   'largeDataDeliveryS3Config': {'bucketName': 'elephantscale-public-temp',\n",
       "    'keyPrefix': 'amazon_bedrock_large_data_delivery'}},\n",
       "  's3Config': {'bucketName': 'elephantscale-public-temp',\n",
       "   'keyPrefix': 'amazon_bedrock_logs'},\n",
       "  'textDataDeliveryEnabled': True,\n",
       "  'imageDataDeliveryEnabled': True,\n",
       "  'embeddingDataDeliveryEnabled': True}}"
      ]
     },
     "execution_count": 69,
     "metadata": {},
     "output_type": "execute_result"
    }
   ],
   "source": [
    "bedrock.get_model_invocation_logging_configuration()"
   ]
  },
  {
   "cell_type": "code",
   "execution_count": 70,
   "id": "95ebecb7",
   "metadata": {
    "height": 45
   },
   "outputs": [],
   "source": [
    "bedrock_runtime = boto3.client('bedrock-runtime', region_name=\"us-west-2\")"
   ]
  },
  {
   "cell_type": "code",
   "execution_count": 71,
   "id": "402c6311",
   "metadata": {
    "height": 436
   },
   "outputs": [
    {
     "name": "stdout",
     "output_type": "stream",
     "text": [
      "\n",
      "Foobar is a fictional planet that is featured in a series of science fiction novels and films. The planet is set in the distant future and is inhabited by a diverse range of alien species.\n",
      "\n",
      "One of the most interesting aspects of Foobar is its geography. The planet is a vast, desert wasteland with towering sand dunes and vast stretches of barren land. The climate is harsh and inhospitable, with temperatures reaching over 100 degrees Fahrenheit during the day and dropping to below freezing at night. The only source of water on the planet is a small oasis in the center of the desert, which is protected by a powerful energy field that prevents anyone from entering or leaving.\n",
      "\n",
      "The inhabitants of Foobar are a diverse group of alien species, each with its own unique culture and beliefs. The most prominent of these species is the Barbaricons, a race of giant, muscle-bound warriors who rule the planet with an iron fist. The Barbaricons are fiercely protective of their territory and are constantly engaged in battles with other species for control of the oasis.\n",
      "\n",
      "Another important species on Foobar is the Flesh-Eaters, a race of cannibalistic creatures who live in the ruins of ancient civilizations. The Flesh-Eaters are incredibly dangerous and are known to attack any species that enters their territory.\n",
      "\n",
      "Despite the harsh conditions of Foobar, there is a small group of humans who have managed to survive on the planet. These humans are known as the Outsiders and are led by a man named John. John has spent years studying the planet and its inhabitants and has developed a plan to escape from the planet.\n",
      "\n",
      "To escape Foobar, John and his team must travel through a series of dangerous tunnels that lead to the oasis. Along the way, they must face numerous challenges, including treacherous terrain, hostile creatures, and powerful energy fields.\n",
      "\n",
      "One of the most difficult challenges that John and his team face is the Flesh-Eaters. The Flesh-Eaters are incredibly fast and agile and are able to move through the tunnels with ease. They also have a powerful sense of smell and can detect humans from a long distance.\n",
      "\n",
      "To avoid being detected by the Flesh-Eaters, John and his team must travel through the tunnels in complete silence. They must also be careful not to make any noise or to leave any traces of their presence behind.\n",
      "\n",
      "Despite the challenges that they face, John and his team eventually\n"
     ]
    }
   ],
   "source": [
    "prompt = \"Write an article about the fictional planet Foobar.\"\n",
    "\n",
    "kwargs = {\n",
    "    \"modelId\": \"amazon.titan-text-express-v1\",\n",
    "    \"contentType\": \"application/json\",\n",
    "    \"accept\": \"*/*\",\n",
    "    \"body\": json.dumps(\n",
    "        {\n",
    "            \"inputText\": prompt,\n",
    "            \"textGenerationConfig\": {\n",
    "                \"maxTokenCount\": 512,\n",
    "                \"temperature\": 0.7,\n",
    "                \"topP\": 0.9\n",
    "            }\n",
    "        }\n",
    "    )\n",
    "}\n",
    "\n",
    "response = bedrock_runtime.invoke_model(**kwargs)\n",
    "response_body = json.loads(response.get('body').read())\n",
    "\n",
    "generation = response_body['results'][0]['outputText']\n",
    "\n",
    "print(generation)"
   ]
  },
  {
   "cell_type": "code",
   "execution_count": 72,
   "id": "68a7bab7",
   "metadata": {
    "height": 30
   },
   "outputs": [
    {
     "name": "stdout",
     "output_type": "stream",
     "text": [
      "Permissions are correctly set for Amazon Bedrock logs.\n",
      "-------------------------\n",
      "\n"
     ]
    }
   ],
   "source": [
    "cloudwatch.print_recent_logs(log_group_name)"
   ]
  },
  {
   "cell_type": "markdown",
   "id": "cb5603a9-10ee-460e-8e0d-6fd6af03a508",
   "metadata": {},
   "source": []
  },
  {
   "cell_type": "markdown",
   "id": "1118acfb",
   "metadata": {},
   "source": [
    "To review the logs within the AWS console, please use the following link to reference the steps outlined in the video:"
   ]
  },
  {
   "cell_type": "code",
   "execution_count": 77,
   "id": "2cf443d2",
   "metadata": {
    "height": 47
   },
   "outputs": [],
   "source": [
    "from IPython.display import HTML\n",
    "aws_url = os.environ['AWS_CONSOLE_URL']"
   ]
  },
  {
   "cell_type": "code",
   "execution_count": 78,
   "id": "0b7c904c",
   "metadata": {
    "height": 62
   },
   "outputs": [
    {
     "data": {
      "text/html": [
       "<a href=\"https://us-west-2.console.aws.amazon.com/console\" target=\"_blank\">GO TO AWS CONSOLE</a>"
      ],
      "text/plain": [
       "<IPython.core.display.HTML object>"
      ]
     },
     "execution_count": 78,
     "metadata": {},
     "output_type": "execute_result"
    }
   ],
   "source": [
    "HTML(f'<a href=\"{aws_url}\" target=\"_blank\">GO TO AWS CONSOLE</a>')\n"
   ]
  },
  {
   "cell_type": "code",
   "execution_count": null,
   "id": "43e8049b-5370-4509-a46d-3443324f6150",
   "metadata": {},
   "outputs": [],
   "source": []
  }
 ],
 "metadata": {
  "kernelspec": {
   "display_name": "Python 3 (ipykernel)",
   "language": "python",
   "name": "python3"
  },
  "language_info": {
   "codemirror_mode": {
    "name": "ipython",
    "version": 3
   },
   "file_extension": ".py",
   "mimetype": "text/x-python",
   "name": "python",
   "nbconvert_exporter": "python",
   "pygments_lexer": "ipython3",
   "version": "3.11.7"
  }
 },
 "nbformat": 4,
 "nbformat_minor": 5
}
