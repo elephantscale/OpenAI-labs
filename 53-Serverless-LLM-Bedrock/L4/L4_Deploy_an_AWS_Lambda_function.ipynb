{
 "cells": [
  {
   "cell_type": "markdown",
   "id": "fce539cc-440f-418c-8991-fbaf9196be93",
   "metadata": {},
   "source": [
    "# Lesson 4: Deploy an AWS Lambda function"
   ]
  },
  {
   "cell_type": "markdown",
   "id": "81d4b464-256d-446d-9910-5523a810659b",
   "metadata": {
    "tags": []
   },
   "source": [
    "### Import all needed packages"
   ]
  },
  {
   "cell_type": "code",
   "execution_count": 1,
   "id": "a43fa83e",
   "metadata": {
    "height": 30
   },
   "outputs": [],
   "source": [
    "import boto3, os"
   ]
  },
  {
   "cell_type": "code",
   "execution_count": 2,
   "id": "90d0cccb-ee62-4a8f-8672-0d6213cca069",
   "metadata": {
    "height": 79
   },
   "outputs": [],
   "source": [
    "from helpers.Lambda_Helper import Lambda_Helper\n",
    "from helpers.S3_Helper import S3_Helper\n",
    "from helpers.Display_Helper import Display_Helper"
   ]
  },
  {
   "cell_type": "code",
   "execution_count": 3,
   "id": "dd760402-f4dd-435f-9b90-aac520ae960e",
   "metadata": {},
   "outputs": [],
   "source": [
    "from dotenv import load_dotenv, find_dotenv\n",
    "_ = load_dotenv(find_dotenv())\n",
    "os.environ['LAMBDALAYERVERSIONARN'] = 'arn:aws:lambda:us-west-2:092413168457:layer:dlai-bedrock-jinja-layer:1'"
   ]
  },
  {
   "cell_type": "code",
   "execution_count": 4,
   "id": "0115c012",
   "metadata": {
    "height": 64
   },
   "outputs": [],
   "source": [
    "lambda_helper = Lambda_Helper()\n",
    "# deploy_function\n",
    "# add_lambda_trigger"
   ]
  },
  {
   "cell_type": "code",
   "execution_count": 5,
   "id": "d9785005",
   "metadata": {
    "height": 81
   },
   "outputs": [],
   "source": [
    "s3_helper = S3_Helper()\n",
    "# upload_file\n",
    "# download_object \n",
    "# list_objects"
   ]
  },
  {
   "cell_type": "code",
   "execution_count": 6,
   "id": "8f93593c",
   "metadata": {
    "height": 64
   },
   "outputs": [],
   "source": [
    "display_helper = Display_Helper()\n",
    "# text_file\n",
    "# json_file"
   ]
  },
  {
   "cell_type": "code",
   "execution_count": 7,
   "id": "f33a0909-99c0-4fd8-9d0c-753d12dd4045",
   "metadata": {
    "height": 45
   },
   "outputs": [],
   "source": [
    "bucket_name_text = os.getenv('BucketName')"
   ]
  },
  {
   "cell_type": "code",
   "execution_count": 8,
   "id": "ce1dc532",
   "metadata": {
    "height": 538
   },
   "outputs": [
    {
     "name": "stdout",
     "output_type": "stream",
     "text": [
      "Overwriting prompt_template.txt\n"
     ]
    }
   ],
   "source": [
    "%%writefile prompt_template.txt\n",
    "I need to summarize a conversation. The transcript of the conversation is between the <data> XML like tags.\n",
    "\n",
    "<data>\n",
    "{{transcript}}\n",
    "</data>\n",
    "\n",
    "The summary must contain a one word sentiment analysis, and a list of issues, problems or causes of friction\n",
    "during the conversation. The output must be provided in JSON format shown in the following example. \n",
    "\n",
    "Example output:\n",
    "{\n",
    "    \"version\": 0.1,\n",
    "    \"sentiment\": <sentiment>,\n",
    "    \"issues\": [\n",
    "        {\n",
    "            \"topic\": <topic>,\n",
    "            \"summary\": <issue_summary>,\n",
    "        }\n",
    "    ]\n",
    "}\n",
    "\n",
    "An `issue_summary` must only be one of:\n",
    "{%- for topic in topics %}\n",
    " - `{{topic}}`\n",
    "{% endfor %}\n",
    "\n",
    "Write the JSON output and nothing more.\n",
    "\n",
    "Here is the JSON output:"
   ]
  },
  {
   "cell_type": "code",
   "execution_count": 9,
   "id": "680d354d",
   "metadata": {
    "height": 45
   },
   "outputs": [
    {
     "name": "stdout",
     "output_type": "stream",
     "text": [
      "prompt_template.txt:\n"
     ]
    },
    {
     "data": {
      "text/html": [
       "<div style='width: 600px; word-wrap: break-word;'><pre>I need to summarize a conversation. The transcript of the conversation is between the &lt;data&gt; XML like tags.<br><br>&lt;data&gt;<br>{{transcript}}<br>&lt;/data&gt;<br><br>The summary must contain a one word sentiment analysis, and a list of issues, problems or causes of friction<br>during the conversation. The output must be provided in JSON format shown in the following example. <br><br>Example output:<br>{<br>    &quot;version&quot;: 0.1,<br>    &quot;sentiment&quot;: &lt;sentiment&gt;,<br>    &quot;issues&quot;: [<br>        {<br>            &quot;topic&quot;: &lt;topic&gt;,<br>            &quot;summary&quot;: &lt;issue_summary&gt;,<br>        }<br>    ]<br>}<br><br>An `issue_summary` must only be one of:<br>{%- for topic in topics %}<br> - `{{topic}}`<br>{% endfor %}<br><br>Write the JSON output and nothing more.<br><br>Here is the JSON output:<br></pre></div>"
      ],
      "text/plain": [
       "<IPython.core.display.HTML object>"
      ]
     },
     "metadata": {},
     "output_type": "display_data"
    }
   ],
   "source": [
    "display_helper.text_file('prompt_template.txt')"
   ]
  },
  {
   "cell_type": "markdown",
   "id": "a4acb14e-ca71-49fa-923b-ca180c8e2eaa",
   "metadata": {},
   "source": [
    "### Create the Lambda function"
   ]
  },
  {
   "cell_type": "code",
   "execution_count": 10,
   "id": "df062c80",
   "metadata": {
    "height": 2221
   },
   "outputs": [
    {
     "name": "stdout",
     "output_type": "stream",
     "text": [
      "Overwriting lambda_function.py\n"
     ]
    }
   ],
   "source": [
    "%%writefile lambda_function.py\n",
    "\n",
    "\n",
    "#############################################################\n",
    "#\n",
    "# This Lambda function is written to a file by the notebook \n",
    "# It does not run in the notebook!\n",
    "#\n",
    "#############################################################\n",
    "\n",
    "import boto3\n",
    "import json \n",
    "from jinja2 import Template\n",
    "\n",
    "s3_client = boto3.client('s3')\n",
    "bedrock_runtime = boto3.client('bedrock-runtime', 'us-west-2')\n",
    "\n",
    "def lambda_handler(event, context):\n",
    "    \n",
    "    bucket = event['Records'][0]['s3']['bucket']['name']\n",
    "    key = event['Records'][0]['s3']['object']['key']\n",
    "    \n",
    "    # One of a few different checks to ensure we don't end up in a recursive loop.\n",
    "    if \"-transcript.json\" not in key: \n",
    "        print(\"This demo only works with *-transcript.json.\")\n",
    "        return\n",
    "    \n",
    "    try: \n",
    "        file_content = \"\"\n",
    "        \n",
    "        response = s3_client.get_object(Bucket=bucket, Key=key)\n",
    "        \n",
    "        file_content = response['Body'].read().decode('utf-8')\n",
    "        \n",
    "        transcript = extract_transcript_from_textract(file_content)\n",
    "\n",
    "        print(f\"Successfully read file {key} from bucket {bucket}.\")\n",
    "\n",
    "        print(f\"Transcript: {transcript}\")\n",
    "        \n",
    "        summary = bedrock_summarisation(transcript)\n",
    "        \n",
    "        s3_client.put_object(\n",
    "            Bucket=bucket,\n",
    "            Key='results.txt',\n",
    "            Body=summary,\n",
    "            ContentType='text/plain'\n",
    "        )\n",
    "        \n",
    "    except Exception as e:\n",
    "        print(f\"Error occurred: {e}\")\n",
    "        return {\n",
    "            'statusCode': 500,\n",
    "            'body': json.dumps(f\"Error occurred: {e}\")\n",
    "        }\n",
    "\n",
    "    return {\n",
    "        'statusCode': 200,\n",
    "        'body': json.dumps(f\"Successfully summarized {key} from bucket {bucket}. Summary: {summary}\")\n",
    "    }\n",
    "        \n",
    "        \n",
    "        \n",
    "def extract_transcript_from_textract(file_content):\n",
    "\n",
    "    transcript_json = json.loads(file_content)\n",
    "\n",
    "    output_text = \"\"\n",
    "    current_speaker = None\n",
    "\n",
    "    items = transcript_json['results']['items']\n",
    "\n",
    "    # Iterate through the content word by word:\n",
    "    for item in items:\n",
    "        speaker_label = item.get('speaker_label', None)\n",
    "        content = item['alternatives'][0]['content']\n",
    "        \n",
    "        # Start the line with the speaker label:\n",
    "        if speaker_label is not None and speaker_label != current_speaker:\n",
    "            current_speaker = speaker_label\n",
    "            output_text += f\"\\n{current_speaker}: \"\n",
    "        \n",
    "        # Add the speech content:\n",
    "        if item['type'] == 'punctuation':\n",
    "            output_text = output_text.rstrip()  # Remove the last space\n",
    "        \n",
    "        output_text += f\"{content} \"\n",
    "        \n",
    "    return output_text\n",
    "        \n",
    "\n",
    "def bedrock_summarisation(transcript):\n",
    "    \n",
    "    with open('prompt_template.txt', \"r\") as file:\n",
    "        template_string = file.read()\n",
    "\n",
    "    data = {\n",
    "        'transcript': transcript,\n",
    "        'topics': ['charges', 'location', 'availability']\n",
    "    }\n",
    "    \n",
    "    template = Template(template_string)\n",
    "    prompt = template.render(data)\n",
    "    \n",
    "    print(prompt)\n",
    "    \n",
    "    kwargs = {\n",
    "        \"modelId\": \"amazon.titan-text-express-v1\",\n",
    "        \"contentType\": \"application/json\",\n",
    "        \"accept\": \"*/*\",\n",
    "        \"body\": json.dumps(\n",
    "            {\n",
    "                \"inputText\": prompt,\n",
    "                \"textGenerationConfig\": {\n",
    "                    \"maxTokenCount\": 2048,\n",
    "                    \"stopSequences\": [],\n",
    "                    \"temperature\": 0,\n",
    "                    \"topP\": 0.9\n",
    "                }\n",
    "            }\n",
    "        )\n",
    "    }\n",
    "    \n",
    "    response = bedrock_runtime.invoke_model(**kwargs)\n",
    "\n",
    "    summary = json.loads(response.get('body').read()).get('results')[0].get('outputText')    \n",
    "    return summary\n",
    "    \n",
    "    "
   ]
  },
  {
   "cell_type": "code",
   "execution_count": 11,
   "id": "75deb539",
   "metadata": {
    "height": 96
   },
   "outputs": [
    {
     "name": "stdout",
     "output_type": "stream",
     "text": [
      "Zipping function...\n",
      "Looking for existing function...\n",
      "Function LambdaFunctionSummarize exists. Updating code...\n",
      "Function LambdaFunctionSummarize code updated: 2024-11-24T18:49:37.000+0000\n",
      "Done.\n"
     ]
    }
   ],
   "source": [
    "lambda_helper.deploy_function(\n",
    "    [\"lambda_function.py\", \"prompt_template.txt\"],\n",
    "    function_name=\"LambdaFunctionSummarize\"\n",
    ")"
   ]
  },
  {
   "cell_type": "code",
   "execution_count": 12,
   "id": "3676e124",
   "metadata": {
    "height": 62
   },
   "outputs": [
    {
     "name": "stdout",
     "output_type": "stream",
     "text": [
      "Using function name of deployed function: LambdaFunctionSummarize\n",
      "Removed existing permission: s3-trigger-permission\n",
      "Permission added with Statement: {\n",
      "    \"Sid\": \"s3-trigger-permission\",\n",
      "    \"Effect\": \"Allow\",\n",
      "    \"Principal\": {\n",
      "        \"Service\": \"s3.amazonaws.com\"\n",
      "    },\n",
      "    \"Action\": \"lambda:InvokeFunction\",\n",
      "    \"Resource\": \"arn:aws:lambda:us-west-2:092413168457:function:LambdaFunctionSummarize\",\n",
      "    \"Condition\": {\n",
      "        \"ArnLike\": {\n",
      "            \"AWS:SourceArn\": \"arn:aws:s3:::elephantscale-public-temp\"\n",
      "        }\n",
      "    }\n",
      "}\n",
      "Trigger added for elephantscale-public-temp -> LambdaFunctionSummarize\n"
     ]
    }
   ],
   "source": [
    "lambda_helper.filter_rules_suffix = \"json\"\n",
    "lambda_helper.add_lambda_trigger(bucket_name_text)"
   ]
  },
  {
   "cell_type": "code",
   "execution_count": 13,
   "id": "872cf2b4",
   "metadata": {
    "height": 45
   },
   "outputs": [],
   "source": [
    "# display_helper.json_file('demo-transcript.json')"
   ]
  },
  {
   "cell_type": "code",
   "execution_count": 19,
   "id": "d8d9cd84",
   "metadata": {
    "height": 45
   },
   "outputs": [
    {
     "name": "stdout",
     "output_type": "stream",
     "text": [
      "Object 'demo-transcript.json' uploaded to bucket 'elephantscale-public-temp'\n"
     ]
    }
   ],
   "source": [
    "s3_helper.upload_file(bucket_name_text, 'demo-transcript.json')"
   ]
  },
  {
   "cell_type": "markdown",
   "id": "2ea8c684-9250-4682-b819-f01d2325bd46",
   "metadata": {},
   "source": [
    "#### Restart kernel if needed.\n",
    "- If you run the code fairly quickly from start to finish, it's possible that the following code cell `s3_helper.list_objects(bucket_name_text)` will give a \"Not Found\" error.  \n",
    "- If waiting a few seconds (10 seconds) and re-running this cell does not resolve the error, then you can restart the kernel of the jupyter notebook.\n",
    "- Go to menu->Kernel->Restart Kernel.\n",
    "- Then run the code cells from the start of the notebook, waiting 2 seconds or so for each code cell to finish executing."
   ]
  },
  {
   "cell_type": "code",
   "execution_count": 15,
   "id": "4585029c",
   "metadata": {
    "height": 30
   },
   "outputs": [
    {
     "name": "stdout",
     "output_type": "stream",
     "text": [
      "Object: .write_access_check_file.temp, Created on: 2024-11-24 00:59:46+00:00\n",
      "Object: amazon_bedrock_large_data_delivery/AWSLogs/092413168457/BedrockModelInvocationLogs/us-west-2/2024/11/24/14/data/amazon-bedrock-logs-permission-check, Created on: 2024-11-24 14:33:24+00:00\n",
      "Object: amazon_bedrock_large_data_delivery/AWSLogs/092413168457/BedrockModelInvocationLogs/us-west-2/2024/11/24/16/data/amazon-bedrock-logs-permission-check, Created on: 2024-11-24 16:32:47+00:00\n",
      "Object: amazon_bedrock_logs/AWSLogs/092413168457/BedrockModelInvocationLogs/us-west-2/2024/11/24/14/20241124T142909886Z_1650c2117c99c233.json.gz, Created on: 2024-11-24 14:29:10+00:00\n",
      "Object: amazon_bedrock_logs/AWSLogs/092413168457/BedrockModelInvocationLogs/us-west-2/2024/11/24/14/20241124T143449110Z_5851190e1644939d.json.gz, Created on: 2024-11-24 14:34:50+00:00\n",
      "Object: amazon_bedrock_logs/AWSLogs/092413168457/BedrockModelInvocationLogs/us-west-2/2024/11/24/14/amazon-bedrock-logs-permission-check, Created on: 2024-11-24 14:33:24+00:00\n",
      "Object: amazon_bedrock_logs/AWSLogs/092413168457/BedrockModelInvocationLogs/us-west-2/2024/11/24/14/data/amazon-bedrock-logs-permission-check, Created on: 2024-11-24 14:33:24+00:00\n",
      "Object: amazon_bedrock_logs/AWSLogs/092413168457/BedrockModelInvocationLogs/us-west-2/2024/11/24/16/20241124T163453581Z_5daaeeefe304a28b.json.gz, Created on: 2024-11-24 16:34:54+00:00\n",
      "Object: amazon_bedrock_logs/AWSLogs/092413168457/BedrockModelInvocationLogs/us-west-2/2024/11/24/16/amazon-bedrock-logs-permission-check, Created on: 2024-11-24 16:32:47+00:00\n",
      "Object: amazon_bedrock_logs/AWSLogs/092413168457/BedrockModelInvocationLogs/us-west-2/2024/11/24/16/data/amazon-bedrock-logs-permission-check, Created on: 2024-11-24 16:32:47+00:00\n",
      "Object: demo-transcript.json, Created on: 2024-11-24 18:49:40+00:00\n",
      "Object: dialog.mp3, Created on: 2024-11-24 00:59:22+00:00\n",
      "Object: transcription-job-0a273266-b1cf-47e4-b274-40500a221fe5.json, Created on: 2024-11-24 01:00:20+00:00\n",
      "Object: transcription-job-1c0a4efd-1518-416d-8f68-424f9460bdd7.json, Created on: 2024-11-14 04:29:27+00:00\n",
      "Object: transcription-job-29e23884-ad34-4975-a1b2-058e641132d9.json, Created on: 2024-11-08 04:56:52+00:00\n"
     ]
    }
   ],
   "source": [
    "s3_helper.list_objects(bucket_name_text)"
   ]
  },
  {
   "cell_type": "markdown",
   "id": "01ee10b9-9c52-4a2a-8207-fc3c6ad21a8d",
   "metadata": {},
   "source": [
    "#### Re-run \"download\" code cell as needed\n",
    "- It may take a few seconds for the results to be generated.\n",
    "- If you see a `Not Found` error, please wait a few seconds and then try running the `s3_helper.download_object` again."
   ]
  },
  {
   "cell_type": "code",
   "execution_count": 16,
   "id": "55d70063",
   "metadata": {
    "height": 45
   },
   "outputs": [
    {
     "name": "stdout",
     "output_type": "stream",
     "text": [
      "Error: An error occurred (404) when calling the HeadObject operation: Not Found\n"
     ]
    }
   ],
   "source": [
    "s3_helper.download_object(bucket_name_text, \"results.txt\")"
   ]
  },
  {
   "cell_type": "code",
   "execution_count": 17,
   "id": "c3b4e625",
   "metadata": {
    "height": 30
   },
   "outputs": [
    {
     "name": "stdout",
     "output_type": "stream",
     "text": [
      "The file results.txt was not found.\n"
     ]
    }
   ],
   "source": [
    "display_helper.text_file('results.txt')"
   ]
  },
  {
   "cell_type": "code",
   "execution_count": null,
   "id": "4235eb33-00ff-4e8b-9679-05dec2370f41",
   "metadata": {},
   "outputs": [],
   "source": []
  }
 ],
 "metadata": {
  "kernelspec": {
   "display_name": "Python 3 (ipykernel)",
   "language": "python",
   "name": "python3"
  },
  "language_info": {
   "codemirror_mode": {
    "name": "ipython",
    "version": 3
   },
   "file_extension": ".py",
   "mimetype": "text/x-python",
   "name": "python",
   "nbconvert_exporter": "python",
   "pygments_lexer": "ipython3",
   "version": "3.11.7"
  }
 },
 "nbformat": 4,
 "nbformat_minor": 5
}
