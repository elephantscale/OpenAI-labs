{
 "cells": [
  {
   "cell_type": "markdown",
   "id": "77448887-ed71-48e1-bf0d-2ff499d0c7ca",
   "metadata": {},
   "source": [
    "# Lesson 1 - Semantic Search"
   ]
  },
  {
   "cell_type": "markdown",
   "id": "750cd7dd",
   "metadata": {},
   "source": [
    "### Import the Needed Packages"
   ]
  },
  {
   "cell_type": "code",
   "execution_count": 1,
   "id": "809aa032-d737-450d-aafa-e32bfba9d8f8",
   "metadata": {
    "height": 47
   },
   "outputs": [],
   "source": [
    "import warnings\n",
    "warnings.filterwarnings('ignore')"
   ]
  },
  {
   "cell_type": "code",
   "execution_count": 2,
   "id": "30698fb9-4709-4088-9905-9ccb4efd5e09",
   "metadata": {
    "height": 166
   },
   "outputs": [],
   "source": [
    "from datasets import load_dataset\n",
    "from sentence_transformers import SentenceTransformer\n",
    "\n",
    "from DLAIUtils import Utils\n",
    "import DLAIUtils\n",
    "\n",
    "import os\n",
    "import time\n",
    "import torch"
   ]
  },
  {
   "cell_type": "code",
   "execution_count": 3,
   "id": "b5f42878-9177-438f-8c8a-2e1762c13b51",
   "metadata": {},
   "outputs": [],
   "source": [
    "from pinecone import Pinecone, ServerlessSpec"
   ]
  },
  {
   "cell_type": "code",
   "execution_count": 4,
   "id": "8ab484bb-3bfb-4c52-a5bd-bcbe4a7a63d2",
   "metadata": {
    "height": 30
   },
   "outputs": [],
   "source": [
    "from tqdm.auto import tqdm"
   ]
  },
  {
   "cell_type": "markdown",
   "id": "ba92fc2d",
   "metadata": {},
   "source": [
    "### Load the Dataset"
   ]
  },
  {
   "cell_type": "code",
   "execution_count": 5,
   "id": "ce859e4b-9b50-4f53-b357-28d3e3872c87",
   "metadata": {
    "height": 30
   },
   "outputs": [
    {
     "name": "stderr",
     "output_type": "stream",
     "text": [
      "Found cached dataset quora (/home/mark/.cache/huggingface/datasets/quora/default/0.0.0/36ba4cd42107f051a158016f1bea6ae3f4685c5df843529108a54e42d86c1e04)\n"
     ]
    }
   ],
   "source": [
    "dataset = load_dataset('quora', split='train[240000:290000]')"
   ]
  },
  {
   "cell_type": "code",
   "execution_count": 6,
   "id": "356d4112-fa51-4092-9841-8b266e3b6a2c",
   "metadata": {
    "height": 30
   },
   "outputs": [
    {
     "data": {
      "text/plain": [
       "{'questions': [{'id': [207550, 351729],\n",
       "   'text': ['What is the truth of life?', \"What's the evil truth of life?\"]},\n",
       "  {'id': [33183, 351730],\n",
       "   'text': ['Which is the best smartphone under 20K in India?',\n",
       "    'Which is the best smartphone with in 20k in India?']},\n",
       "  {'id': [351731, 351732],\n",
       "   'text': ['Steps taken by Canadian government to improve literacy rate?',\n",
       "    'Can I send homemade herbal hair oil from India to US via postal or private courier services?']},\n",
       "  {'id': [37799, 94186],\n",
       "   'text': ['What is a good way to lose 30 pounds in 2 months?',\n",
       "    'What can I do to lose 30 pounds in 2 months?']},\n",
       "  {'id': [351733, 351734],\n",
       "   'text': ['Which of the following most accurately describes the translation of the graph y = (x+3)^2 -2 to the graph of y = (x -2)^2 +2?',\n",
       "    'How do you graph x + 2y = -2?']}],\n",
       " 'is_duplicate': [False, True, False, True, False]}"
      ]
     },
     "execution_count": 6,
     "metadata": {},
     "output_type": "execute_result"
    }
   ],
   "source": [
    "dataset[:5]"
   ]
  },
  {
   "cell_type": "code",
   "execution_count": 7,
   "id": "332d1241-61ae-4d09-bf46-52081c133c0c",
   "metadata": {
    "height": 132
   },
   "outputs": [
    {
     "name": "stdout",
     "output_type": "stream",
     "text": [
      "What is the truth of life?\n",
      "What's the evil truth of life?\n",
      "Which is the best smartphone under 20K in India?\n",
      "Which is the best smartphone with in 20k in India?\n",
      "Steps taken by Canadian government to improve literacy rate?\n",
      "Can I send homemade herbal hair oil from India to US via postal or private courier services?\n",
      "What is a good way to lose 30 pounds in 2 months?\n",
      "What can I do to lose 30 pounds in 2 months?\n",
      "Which of the following most accurately describes the translation of the graph y = (x+3)^2 -2 to the graph of y = (x -2)^2 +2?\n",
      "How do you graph x + 2y = -2?\n",
      "--------------------------------------------------\n",
      "Number of questions: 100000\n"
     ]
    }
   ],
   "source": [
    "questions = []\n",
    "for record in dataset['questions']:\n",
    "    questions.extend(record['text'])\n",
    "question = list(set(questions))\n",
    "print('\\n'.join(questions[:10]))\n",
    "print('-' * 50)\n",
    "print(f'Number of questions: {len(questions)}')"
   ]
  },
  {
   "cell_type": "markdown",
   "id": "ab3c0402",
   "metadata": {},
   "source": [
    "### Check cuda and Setup the model\n",
    "\n",
    "**Note**: \"Checking cuda\" refers to checking if you have access to GPUs (faster compute). In this course, we are using CPUs. So, you might notice some code cells taking a little longer to run.\n",
    "\n",
    "We are using *all-MiniLM-L6-v2* sentence-transformers model that maps sentences to a 384 dimensional dense vector space."
   ]
  },
  {
   "cell_type": "code",
   "execution_count": null,
   "id": "5fb67759-ab38-4472-bfb0-4a56d1c05955",
   "metadata": {
    "height": 81
   },
   "outputs": [],
   "source": [
    "device = 'cuda' if torch.cuda.is_available() else 'cpu'\n",
    "if device != 'cuda':\n",
    "    print('Sorry no cuda.')\n",
    "model = SentenceTransformer('all-MiniLM-L6-v2', device=device)"
   ]
  },
  {
   "cell_type": "code",
   "execution_count": null,
   "id": "d90ec5ec-5397-4ed5-8163-7a901b6ecb0c",
   "metadata": {
    "height": 64
   },
   "outputs": [],
   "source": [
    "query = 'which city is the most populated in the world?'\n",
    "xq = model.encode(query)\n",
    "xq.shape"
   ]
  },
  {
   "cell_type": "markdown",
   "id": "1780a189",
   "metadata": {},
   "source": [
    "### Setup Pinecone"
   ]
  },
  {
   "cell_type": "code",
   "execution_count": null,
   "id": "b3e3a94e-127f-4667-a9ae-7a17d7304ee6",
   "metadata": {
    "height": 43
   },
   "outputs": [],
   "source": [
    "utils = Utils()\n",
    "PINECONE_API_KEY = utils.get_pinecone_api_key()"
   ]
  },
  {
   "cell_type": "code",
   "execution_count": null,
   "id": "17a75eca-60f0-478b-bdcf-b68732c1545d",
   "metadata": {
    "height": 200
   },
   "outputs": [],
   "source": [
    "pinecone = Pinecone(api_key=PINECONE_API_KEY)\n",
    "INDEX_NAME = utils.create_dlai_index_name('dl-ai')\n",
    "\n",
    "if INDEX_NAME in [index.name for index in pinecone.list_indexes()]:\n",
    "    pinecone.delete_index(INDEX_NAME)\n",
    "print(INDEX_NAME)\n",
    "pinecone.create_index(name=INDEX_NAME, \n",
    "    dimension=model.get_sentence_embedding_dimension(), \n",
    "    metric='cosine',\n",
    "    spec=ServerlessSpec(cloud='aws', region='us-west-2'))\n",
    "\n",
    "index = pinecone.Index(INDEX_NAME)\n",
    "print(index)"
   ]
  },
  {
   "cell_type": "markdown",
   "id": "d88d9424",
   "metadata": {},
   "source": [
    "### Create Embeddings and Upsert to Pinecone"
   ]
  },
  {
   "cell_type": "code",
   "execution_count": 14,
   "id": "8c42d631-fcff-4209-ba29-ae36759c2797",
   "metadata": {},
   "outputs": [
    {
     "name": "stdout",
     "output_type": "stream",
     "text": [
      "['0', '1', '2', '3', '4', '5', '6', '7', '8', '9', '10', '11', '12', '13', '14', '15', '16', '17', '18', '19', '20', '21', '22', '23', '24', '25', '26', '27', '28', '29', '30', '31', '32', '33', '34', '35', '36', '37', '38', '39', '40', '41', '42', '43', '44', '45', '46', '47', '48', '49', '50', '51', '52', '53', '54', '55', '56', '57', '58', '59', '60', '61', '62', '63', '64', '65', '66', '67', '68', '69', '70', '71', '72', '73', '74', '75', '76', '77', '78', '79', '80', '81', '82', '83', '84', '85', '86', '87', '88', '89', '90', '91', '92', '93', '94', '95', '96', '97', '98', '99', '100', '101', '102', '103', '104', '105', '106', '107', '108', '109', '110', '111', '112', '113', '114', '115', '116', '117', '118', '119', '120', '121', '122', '123', '124', '125', '126', '127', '128', '129', '130', '131', '132', '133', '134', '135', '136', '137', '138', '139', '140', '141', '142', '143', '144', '145', '146', '147', '148', '149', '150', '151', '152', '153', '154', '155', '156', '157', '158', '159', '160', '161', '162', '163', '164', '165', '166', '167', '168', '169', '170', '171', '172', '173', '174', '175', '176', '177', '178', '179', '180', '181', '182', '183', '184', '185', '186', '187', '188', '189', '190', '191', '192', '193', '194', '195', '196', '197', '198', '199']\n",
      "[{'text': 'How can  I get into top us universities with a low gpa?'}, {'text': 'What can I do with domain name ?'}, {'text': 'What does it feel like to have sex as a woman over 50 years old?'}, {'text': 'What are the advantages of file sharing? What are the disadvantages?'}, {'text': 'If you owe child support in one state and have a bench warrant will they pick you up in another state?'}, {'text': 'Do clandestine CIA agents get email addresses?'}, {'text': \"I 've studied Germanistic in Greece. What kind of jobs can I find in Munich?\"}, {'text': 'What salary a student from IIT gets as a start at Quora?'}, {'text': 'How do I know whether a guy is gay or not?'}, {'text': 'How would you quickly learn a language?'}, {'text': 'Registration for ICSE board exam 2018?'}, {'text': 'What are some good songs to have for the first dance at your wedding?'}, {'text': 'What mistakes you should avoid while optimizing website?'}, {'text': 'What are the best programming languages?'}, {'text': 'How do I start learning web development?'}, {'text': 'How do I start up a business with 5 lakhs?'}, {'text': 'How can computers perform subtraction, multiplication, and division if they can only perform addition?'}, {'text': 'Is Italy a subcontinent?'}, {'text': 'How is the mass of the neutron determined?'}, {'text': 'What types of deficits would a person live with after suffering a 2x3 CM right inferior posterior medial temporal hemorrhage?'}, {'text': 'What is it like to work for Vice President Joe Biden?'}, {'text': 'If you were hiring, which candidate would you choose: (1) NITian with a 6 point GPA (2) a WBUTian (consider any good college under WBUT like Heritage, IEM, Inhouse, Leather/Ceramic technology with a 9 pointer?'}, {'text': 'What are the best affiliate networks in Asia?'}, {'text': 'How does shipping airbags differ from shipping other goods?'}, {'text': 'What are the marks of toppers in ESE 2015 electronics?'}, {'text': 'What type of music do INTPs like?'}, {'text': 'Can Laravel 5.1 be used with PHP 5.4?'}, {'text': 'What happens if a guest steals a towel or pillow from a hotel room?'}, {'text': 'What does a pug/Jack Russell mix look like?'}, {'text': 'How can you volunteer at a vet clinic?'}, {'text': 'Why am I having a hard time finding connection with society?'}, {'text': 'What are all the parts I need to build a complete computer?'}, {'text': 'What does the average Australian think of the average Indonesian?'}, {'text': 'Do honey badgers make good pets?'}, {'text': 'Mumbai, Maharashtra, India: Where can I donate my old clothes and books in Mumbai?'}, {'text': 'How long will it take for you to write a novel and publish it, especially for your first novel?'}, {'text': 'What is predestination?'}, {'text': 'How do I open PDF copy from original disk that came with Oracle database 12c installation and administration (1z0-062) exam guide?'}, {'text': \"If in a campus recruitment, my pi has gone very good but still I'm not selected, why? HR gives reason: we recruit average guys only. Is it fair?\"}, {'text': 'Is there a cure for sleep paralysis?'}, {'text': 'How do you make a website like accountablehq.com in wordpress?'}, {'text': 'Does the IQ test of people with ADHD shows lower count than actual?'}, {'text': 'Why do basketball players wear those clear masks?'}, {'text': 'How do cell phone signal receptions and plan rates in Hawaii differ form the ones in Oregon?'}, {'text': 'What is a cheat code for Clash of Clans?'}, {'text': 'What is security?'}, {'text': 'Which team will lift the IPL 2015 trophy?'}, {'text': 'Where do I start and what is step by step process to become a Data Scientist?'}, {'text': 'How can I excel as a physician?'}, {'text': 'Why was Johnny Cash in prison?'}, {'text': 'Why is it that most of the people in South India can speak Hindi reasonably well, but same is not the case with North Indians attempting to learn South Indian languages?'}, {'text': 'What are some things new employees should know going into their first day at CMS Energy?'}, {'text': 'What are the best instrumental soundtracks of 2015?'}, {'text': 'How much do top management consulting firms charge clients per consultant in 2015?'}, {'text': 'Describe how latent heat is absorbed or released during phase change?'}, {'text': 'What internet speed is required for 4K cloud gaming at 60 fps?'}, {'text': 'What is the best cure for vasocongestion?'}, {'text': 'How can I become good at math?'}, {'text': \"Why can't life be fair?\"}, {'text': 'What is the reason behind US student visa success rate (F1) current year?'}, {'text': 'What step should I follow to become a web designer?'}, {'text': \"What are Indian companies (Other than automobile OEM's) are working in NVH testing?(Noise, Vibration and Harshness)?\"}, {'text': 'What are the benefits of human rights?'}, {'text': 'I lost my voter ID and unfortunately the FIR copy too, is there any way I can apply for a duplicate voter ID (in India)?'}, {'text': 'What is my husband doing now?'}, {'text': 'Can I avoid 802.1x using VLAN?'}, {'text': 'Do you believe Donald Trump is sane?'}, {'text': 'Why do we have Miranda rights?'}, {'text': 'I am currently a computer science undergrad going to my fourth year, what do I need to do to become a data scientist?'}, {'text': 'What do Slavic peoples think of Armenians?'}, {'text': 'What is a beneficial interest statement and how does the way I answer it affect my taxes?'}, {'text': 'How can the molar mass of air be calculated?'}, {'text': 'How do I improve hotel booking?'}, {'text': 'Will Apple replace my defective iPhone even if I am not on warranty?'}, {'text': 'Is it cheaper to withdraw money from a bank in a foreign atm machine or to just transfer money from overseas to my account?'}, {'text': 'How do you add ringtones to a iPhone 3G?'}, {'text': 'What are the competitive exams after a b.pharm?'}, {'text': 'How can you make yourself throw up to lose weight?'}, {'text': 'Do guys care about the kind of underwear girls wear?'}, {'text': 'Is there a way to get taller, and increase your height?'}, {'text': 'What do you consider when buying a new car?'}, {'text': 'Why are there so many Jewish guys dating Asian girls, but almost no jewish girls dating asian guys?'}, {'text': 'What is A Clockwork Orange up to？?'}, {'text': 'What if the universe was a computer program and our perception of free will was simply an illusion, and our lives were just 0s and 1s?'}, {'text': 'What are some research topic in civil engineering and in structural engineering?'}, {'text': 'How do I solve anagrams manually?'}, {'text': 'Is the proper spelling of this word capiche, capisce, capishe, or capise?'}, {'text': 'Indian army special forces salary?'}, {'text': 'What world nations think about the surgical strike on POK launch pads and what is the reaction of Pakistan?'}, {'text': 'What would be the salary of a cricket commentator?'}, {'text': 'I am lost, what should i do in my life?'}, {'text': 'Does mathematics cutoff really matter for NDA?'}, {'text': 'Is Lumosity.com a scam?'}, {'text': \"Why haven't we seen any more prophets in the last 1400 years?\"}, {'text': 'What are the best universities for masters in actuarial science?'}, {'text': 'How do you take apart a Bowflex?'}, {'text': 'Do most women prefer oral sex?'}, {'text': 'In International ODI/T20 cricket matches, if a batsman hits a ball which is above the head height (and which is not a full-toss), is it a no-ball? ?'}, {'text': 'What is \"in limbo\"?'}, {'text': 'How could I become an actor?'}, {'text': 'What is physical meaning of moment of area?'}, {'text': 'No more blogging about Crabs do you understand.?'}, {'text': 'Does deleting a Quora account delete all answers, comments, and other past public actions by the user?'}, {'text': 'Is food expensive in Pakistan?'}, {'text': 'How do I prevent addiction of masturbation?'}, {'text': 'What is the best team to play this week in Fantasy Football?'}, {'text': 'My rank in the JEE B.Arch is 12500. Which colleges can I get into? Is there any NIT?'}, {'text': 'Can we convert Rear Manual Window of car to Power Window and how much it cost?'}, {'text': 'What is the difference between cotton and polyester?'}, {'text': 'How do you live your life as a perfectionist? Does perfectionism affect you positively or negatively?'}, {'text': 'What dating advice do gay men give to gay men?'}, {'text': 'Is this true?'}, {'text': 'What are some lightweight clean JavaScript UI libraries?'}, {'text': 'How can the word \"oversimplification\" be used in a sentence?'}, {'text': 'I am 64 should I transfer 100K to IRA or leave in 403b?'}, {'text': 'What are the important Indian Penal Code sections that everyone should know?'}, {'text': 'Why is engineering so overrated in India?'}, {'text': 'How do I solve [math]\\\\sqrt[3]{20+14\\\\sqrt{2}} + \\\\sqrt[3] {20-14\\\\sqrt{2}}[/math]?'}, {'text': 'How do I do the diminishing deck trick (a deck of cards visually diminishes or compresses into only one card) with gimmicks and where do I buy them?'}, {'text': 'What is the Dark side of Creativity?'}, {'text': 'How widely accepted are credit cards at small businesses and restaurants in Australia?'}, {'text': 'I have been accumulating some money in my bank account but and I am hesitating whether to invest it buying an apartment (Rent revenue) or opt for a double diploma in a business school and pay for school fees?'}, {'text': 'Does America fear North Korea?'}, {'text': 'What does a business consultant do?'}, {'text': 'What is the one thing that you want to do before you die?'}, {'text': 'My girlfriend broke up with me after 5 months due to her suffering from depression due to bullying when she was young? How should I deal with it?'}, {'text': 'How do some answers on Quora get thousands of views while others with same level of content do not?'}, {'text': \"What is the meaning of Hindi word 'Grahan'?\"}, {'text': 'What do real estate agents desire the most?'}, {'text': 'Why are metals good conductors of electricity and heat?'}, {'text': 'Why am I weak?'}, {'text': \"I need a name for something in a book idea I have but I can't think of anything good.  any suggestions?\"}, {'text': 'Why Achanakmar Wildlife Sanctuary is so famous among tourists in Chhattisgarh?'}, {'text': 'What does ISIS want?'}, {'text': 'What are some venture capital firms that focus on early stage investments in Denmark?'}, {'text': 'What is difference between cse and it engineering? If one is only interested in coding and programming stuff should be pursue IT engineering? Also while answering please keep in mind about the colleges affiliated to WBUT (west bengal university of technology).'}, {'text': 'Do Palantir new hires get signing bonuses similar to those at Facebook and/or Google?'}, {'text': 'How are iron sights on a rifle calibrated and used in shooting?'}, {'text': 'Is belief in God superstition?'}, {'text': 'Is there any university or college for a distance diploma in the counselling psychology?'}, {'text': 'I want to share my review. Where can I post it?'}, {'text': 'Why do most women find white men to be the most attractive?'}, {'text': 'How did you find the work of your life?'}, {'text': 'What are some ways to get good handwriting?'}, {'text': 'How do you solve (1-(2/3) ^5) / (1-(2/3))?'}, {'text': 'Where was The River filmed?'}, {'text': 'Is it legal to live in a storage unit?'}, {'text': 'I got an Air 358 in the GATE EE paper. I am in the general category. Is there any chance that I can get a call from PSUs?'}, {'text': 'Is long distance relationship works?'}, {'text': 'Does Ashwagandha powder increase weight?'}, {'text': 'What are the facts or mindblowing facts of Nalanda University?'}, {'text': 'How do you find people on Instagram online?'}, {'text': 'I am able to select only 15 subjects in Quara. How can I select more?'}, {'text': 'How can I stop commercials on television and Internet?'}, {'text': 'What is “Nabek” in Arabic?'}, {'text': 'What are the best free premium link generators for uploaded, Rapidgator, NitroFlare, etc.?'}, {'text': 'What is the best gift you ever received?'}, {'text': 'How do I know if I am selected for the audition?'}, {'text': 'Can you tell me about myself just by reading this sentence?'}, {'text': 'How can I discern a cis woman from a trans woman?'}, {'text': 'What states have no property tax?'}, {'text': 'How effective is palm reading for predicting the future?'}, {'text': \"What will be the impact after Modi's decision of banning ₹500 and ₹1000?\"}, {'text': \"I am a 19 year old boy. There is a 36 year old widow in my neighborhood and we have been pretty close. One day we got a bit intimate but didn't have sex. Since that day she has been approaching me for sex. What should I do? I am enjoying her company. Should I take that step?\"}, {'text': 'In which is best resume title?'}, {'text': 'How can we get to know my current Facebook password which I forget?'}, {'text': 'How are purified water and distilled water different?'}, {'text': 'How do centralized database system work?'}, {'text': 'What hotel in Gorakhpur would be safe for unmarried couples, without the harassment of police, hotel staff, and moral police?'}, {'text': 'What is the best way to make more money?'}, {'text': 'Is there a \"right\" way to live life?'}, {'text': 'How is life of an high paid escort?'}, {'text': 'What is Domain Authority and Page Authority?'}, {'text': 'Why should I become a fashion designer?'}, {'text': 'If I smoked meth Monday afternoon will I be clean for a urine test Thursday morning?'}, {'text': \"I'm a 22 year old computer engineering graduate (fresher). I have applied to so many companies and gotten rejected every time. Now I have an option to join HDFC bank as a professional banker. What shall I do?\"}, {'text': 'Why did IIT Roorkee and IIT Guwahati conduct GATE 2009 and 2010 instead of IIT Madras?'}, {'text': 'I want a dealer/distributor or wholesaler for Google Chromecast. How can I get either of the above?'}, {'text': 'In whate state does diamond exist at room temperature?'}, {'text': \"What is Hillary Clinton's plan for ISIS?\"}, {'text': 'Is there a difference between male and female orgasms?'}, {'text': 'If I delete a WhatsApp chat, will I still be receiving messages from that person?'}, {'text': 'Do employees at Ultra Petroleum have a good work-life balance? Does this differ across positions and departments?'}, {'text': \"Can you suggest me a list of anti ragging NGO's I can contact freely?\"}, {'text': 'Is it vaguely unprofessional to be on Grindr?'}, {'text': 'What are the coldest countries in the world?'}, {'text': 'What are some good examples of industrial engineering thesis topics?'}, {'text': \"How does Google maps know so accurately 'how much' traffic there is on the road?\"}, {'text': 'Why are non-cash expenditure items adjusted in cash flow statement?'}, {'text': 'If the citizens of North Korea stood up against the regime and China agreed not to intervene, would the USA and Uk agree to back them up?'}, {'text': 'How do I recover deleted photos from a Samsung Galaxy S6/S5/S4/Note?'}, {'text': 'What is the biggest issue you have when trying to sell a classic or unique car?'}, {'text': \"Is SFSU's visual communication design good?\"}, {'text': 'Why the graph of demand and supply curve is not actually curved?'}, {'text': 'How do you know if you are in love?'}, {'text': 'Why does Google work so hard to increase productivity through perks instead of hiring more productive employees?'}, {'text': 'If I remove a friend on Snapchat, how can I see the last saved messages?'}, {'text': \"Is it better to ask things to people you don't know online or ask things to people who know you and can't be completely objective about what's asked?\"}, {'text': 'Why did the Germans attack Leningrad?'}, {'text': 'What can I do with a major in Biology and a minor in computer science?'}]\n"
     ]
    }
   ],
   "source": [
    "batch_size=200\n",
    "vector_limit=10000\n",
    "\n",
    "questions = question[:vector_limit]\n",
    "\n",
    "import json\n",
    "\n",
    "range(0, len(questions), batch_size)\n",
    "\n",
    "i = 0\n",
    "i_end = 200\n",
    "ids = [str(x) for x in range(i, i_end)]\n",
    "print(ids)\n",
    "metadatas = [{'text': text} for text in questions[i:i_end]]\n",
    "print(metadatas)"
   ]
  },
  {
   "cell_type": "code",
   "execution_count": null,
   "id": "ea551303-aa81-41cd-adc5-dc9ea8072397",
   "metadata": {
    "height": 352
   },
   "outputs": [],
   "source": [
    "batch_size=200\n",
    "vector_limit=10000\n",
    "\n",
    "questions = question[:vector_limit]\n",
    "\n",
    "import json\n",
    "\n",
    "for i in tqdm(range(0, len(questions), batch_size)):\n",
    "    # find end of batch\n",
    "    i_end = min(i+batch_size, len(questions))\n",
    "    # create IDs batch\n",
    "    ids = [str(x) for x in range(i, i_end)]\n",
    "    # create metadata batch\n",
    "    metadatas = [{'text': text} for text in questions[i:i_end]]\n",
    "    # create embeddings\n",
    "    xc = model.encode(questions[i:i_end])\n",
    "    # create records list for upsert\n",
    "    records = zip(ids, xc, metadatas)\n",
    "    # upsert to Pinecone\n",
    "    index.upsert(vectors=records)"
   ]
  },
  {
   "cell_type": "code",
   "execution_count": null,
   "id": "6153920a-f4c4-420e-9790-262dd2299fc6",
   "metadata": {
    "height": 30
   },
   "outputs": [],
   "source": [
    "index.describe_index_stats()"
   ]
  },
  {
   "cell_type": "markdown",
   "id": "71135418",
   "metadata": {},
   "source": [
    "### Run Your Query"
   ]
  },
  {
   "cell_type": "code",
   "execution_count": null,
   "id": "28b20b81-4782-4ce2-aec3-9576c7779f2e",
   "metadata": {
    "height": 115
   },
   "outputs": [],
   "source": [
    "# small helper function so we can repeat queries later\n",
    "def run_query(query):\n",
    "  embedding = model.encode(query).tolist()\n",
    "  results = index.query(top_k=10, vector=embedding, include_metadata=True, include_values=False)\n",
    "  for result in results['matches']:\n",
    "    print(f\"{round(result['score'], 2)}: {result['metadata']['text']}\")"
   ]
  },
  {
   "cell_type": "code",
   "execution_count": null,
   "id": "4c4244d6-7be0-4ee1-a36a-0d586f0555f7",
   "metadata": {
    "height": 30
   },
   "outputs": [],
   "source": [
    "run_query('which city has the highest population in the world?')"
   ]
  },
  {
   "cell_type": "code",
   "execution_count": null,
   "id": "f85b20fe-2328-47eb-84cd-bf3b27c6d4aa",
   "metadata": {
    "height": 47
   },
   "outputs": [],
   "source": [
    "query = 'how do i make chocolate cake?'\n",
    "run_query(query)"
   ]
  },
  {
   "cell_type": "code",
   "execution_count": null,
   "id": "98af4baf-c5f5-45d2-8a37-d08a6cd33656",
   "metadata": {},
   "outputs": [],
   "source": []
  },
  {
   "cell_type": "code",
   "execution_count": null,
   "id": "2f4d13f1-71fc-4472-a9f1-91d5c213c552",
   "metadata": {},
   "outputs": [],
   "source": []
  }
 ],
 "metadata": {
  "kernelspec": {
   "display_name": "Python 3 (ipykernel)",
   "language": "python",
   "name": "python3"
  },
  "language_info": {
   "codemirror_mode": {
    "name": "ipython",
    "version": 3
   },
   "file_extension": ".py",
   "mimetype": "text/x-python",
   "name": "python",
   "nbconvert_exporter": "python",
   "pygments_lexer": "ipython3",
   "version": "3.9.10"
  }
 },
 "nbformat": 4,
 "nbformat_minor": 5
}
