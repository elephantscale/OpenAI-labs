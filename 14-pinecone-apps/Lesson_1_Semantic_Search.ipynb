{
 "cells": [
  {
   "cell_type": "markdown",
   "id": "77448887-ed71-48e1-bf0d-2ff499d0c7ca",
   "metadata": {},
   "source": [
    "# Lesson 1 - Semantic Search"
   ]
  },
  {
   "cell_type": "markdown",
   "id": "750cd7dd",
   "metadata": {},
   "source": [
    "### Import the Needed Packages"
   ]
  },
  {
   "cell_type": "code",
   "execution_count": 1,
   "id": "809aa032-d737-450d-aafa-e32bfba9d8f8",
   "metadata": {
    "height": 47
   },
   "outputs": [],
   "source": [
    "import warnings\n",
    "warnings.filterwarnings('ignore')"
   ]
  },
  {
   "cell_type": "code",
   "execution_count": 2,
   "id": "30698fb9-4709-4088-9905-9ccb4efd5e09",
   "metadata": {
    "height": 166
   },
   "outputs": [],
   "source": [
    "from datasets import load_dataset\n",
    "from sentence_transformers import SentenceTransformer\n",
    "\n",
    "from DLAIUtils import Utils\n",
    "import DLAIUtils\n",
    "\n",
    "import os\n",
    "import time\n",
    "import torch"
   ]
  },
  {
   "cell_type": "code",
   "execution_count": 3,
   "id": "b5f42878-9177-438f-8c8a-2e1762c13b51",
   "metadata": {},
   "outputs": [],
   "source": [
    "from pinecone import Pinecone, ServerlessSpec"
   ]
  },
  {
   "cell_type": "code",
   "execution_count": 4,
   "id": "8ab484bb-3bfb-4c52-a5bd-bcbe4a7a63d2",
   "metadata": {
    "height": 30
   },
   "outputs": [],
   "source": [
    "from tqdm.auto import tqdm"
   ]
  },
  {
   "cell_type": "markdown",
   "id": "ba92fc2d",
   "metadata": {},
   "source": [
    "### Load the Dataset"
   ]
  },
  {
   "cell_type": "code",
   "execution_count": 5,
   "id": "ce859e4b-9b50-4f53-b357-28d3e3872c87",
   "metadata": {
    "height": 30
   },
   "outputs": [
    {
     "name": "stderr",
     "output_type": "stream",
     "text": [
      "Found cached dataset quora (/home/mark/.cache/huggingface/datasets/quora/default/0.0.0/36ba4cd42107f051a158016f1bea6ae3f4685c5df843529108a54e42d86c1e04)\n"
     ]
    }
   ],
   "source": [
    "dataset = load_dataset('quora', split='train[240000:290000]')"
   ]
  },
  {
   "cell_type": "code",
   "execution_count": 6,
   "id": "356d4112-fa51-4092-9841-8b266e3b6a2c",
   "metadata": {
    "height": 30
   },
   "outputs": [
    {
     "data": {
      "text/plain": [
       "{'questions': [{'id': [207550, 351729],\n",
       "   'text': ['What is the truth of life?', \"What's the evil truth of life?\"]},\n",
       "  {'id': [33183, 351730],\n",
       "   'text': ['Which is the best smartphone under 20K in India?',\n",
       "    'Which is the best smartphone with in 20k in India?']},\n",
       "  {'id': [351731, 351732],\n",
       "   'text': ['Steps taken by Canadian government to improve literacy rate?',\n",
       "    'Can I send homemade herbal hair oil from India to US via postal or private courier services?']},\n",
       "  {'id': [37799, 94186],\n",
       "   'text': ['What is a good way to lose 30 pounds in 2 months?',\n",
       "    'What can I do to lose 30 pounds in 2 months?']},\n",
       "  {'id': [351733, 351734],\n",
       "   'text': ['Which of the following most accurately describes the translation of the graph y = (x+3)^2 -2 to the graph of y = (x -2)^2 +2?',\n",
       "    'How do you graph x + 2y = -2?']}],\n",
       " 'is_duplicate': [False, True, False, True, False]}"
      ]
     },
     "execution_count": 6,
     "metadata": {},
     "output_type": "execute_result"
    }
   ],
   "source": [
    "dataset[:5]"
   ]
  },
  {
   "cell_type": "code",
   "execution_count": 7,
   "id": "332d1241-61ae-4d09-bf46-52081c133c0c",
   "metadata": {
    "height": 132
   },
   "outputs": [
    {
     "name": "stdout",
     "output_type": "stream",
     "text": [
      "What is the truth of life?\n",
      "What's the evil truth of life?\n",
      "Which is the best smartphone under 20K in India?\n",
      "Which is the best smartphone with in 20k in India?\n",
      "Steps taken by Canadian government to improve literacy rate?\n",
      "Can I send homemade herbal hair oil from India to US via postal or private courier services?\n",
      "What is a good way to lose 30 pounds in 2 months?\n",
      "What can I do to lose 30 pounds in 2 months?\n",
      "Which of the following most accurately describes the translation of the graph y = (x+3)^2 -2 to the graph of y = (x -2)^2 +2?\n",
      "How do you graph x + 2y = -2?\n",
      "--------------------------------------------------\n",
      "Number of questions: 100000\n"
     ]
    }
   ],
   "source": [
    "questions = []\n",
    "for record in dataset['questions']:\n",
    "    questions.extend(record['text'])\n",
    "question = list(set(questions))\n",
    "print('\\n'.join(questions[:10]))\n",
    "print('-' * 50)\n",
    "print(f'Number of questions: {len(questions)}')"
   ]
  },
  {
   "cell_type": "markdown",
   "id": "ab3c0402",
   "metadata": {},
   "source": [
    "### Check cuda and Setup the model\n",
    "\n",
    "**Note**: \"Checking cuda\" refers to checking if you have access to GPUs (faster compute). In this course, we are using CPUs. So, you might notice some code cells taking a little longer to run.\n",
    "\n",
    "We are using *all-MiniLM-L6-v2* sentence-transformers model that maps sentences to a 384 dimensional dense vector space."
   ]
  },
  {
   "cell_type": "code",
   "execution_count": 8,
   "id": "5fb67759-ab38-4472-bfb0-4a56d1c05955",
   "metadata": {
    "height": 81
   },
   "outputs": [
    {
     "name": "stdout",
     "output_type": "stream",
     "text": [
      "Sorry no cuda.\n"
     ]
    }
   ],
   "source": [
    "device = 'cuda' if torch.cuda.is_available() else 'cpu'\n",
    "if device != 'cuda':\n",
    "    print('Sorry no cuda.')\n",
    "model = SentenceTransformer('all-MiniLM-L6-v2', device=device)"
   ]
  },
  {
   "cell_type": "code",
   "execution_count": 9,
   "id": "d90ec5ec-5397-4ed5-8163-7a901b6ecb0c",
   "metadata": {
    "height": 64
   },
   "outputs": [
    {
     "data": {
      "text/plain": [
       "(384,)"
      ]
     },
     "execution_count": 9,
     "metadata": {},
     "output_type": "execute_result"
    }
   ],
   "source": [
    "query = 'which city is the most populated in the world?'\n",
    "xq = model.encode(query)\n",
    "xq.shape"
   ]
  },
  {
   "cell_type": "markdown",
   "id": "1780a189",
   "metadata": {},
   "source": [
    "### Setup Pinecone"
   ]
  },
  {
   "cell_type": "code",
   "execution_count": 10,
   "id": "b3e3a94e-127f-4667-a9ae-7a17d7304ee6",
   "metadata": {
    "height": 43
   },
   "outputs": [],
   "source": [
    "utils = Utils()\n",
    "PINECONE_API_KEY = utils.get_pinecone_api_key()"
   ]
  },
  {
   "cell_type": "code",
   "execution_count": 11,
   "id": "17a75eca-60f0-478b-bdcf-b68732c1545d",
   "metadata": {
    "height": 200
   },
   "outputs": [
    {
     "name": "stdout",
     "output_type": "stream",
     "text": [
      "dl-ai-jhrozxrjt3blbkfjdwi3lpfzexs1ln3fpdtw\n",
      "<pinecone.data.index.Index object at 0x7fd650f7e850>\n"
     ]
    }
   ],
   "source": [
    "pinecone = Pinecone(api_key=PINECONE_API_KEY)\n",
    "INDEX_NAME = utils.create_dlai_index_name('dl-ai')\n",
    "\n",
    "if INDEX_NAME in [index.name for index in pinecone.list_indexes()]:\n",
    "    pinecone.delete_index(INDEX_NAME)\n",
    "print(INDEX_NAME)\n",
    "pinecone.create_index(name=INDEX_NAME, \n",
    "    dimension=model.get_sentence_embedding_dimension(), \n",
    "    metric='cosine',\n",
    "    spec=ServerlessSpec(cloud='aws', region='us-west-2'))\n",
    "\n",
    "index = pinecone.Index(INDEX_NAME)\n",
    "print(index)"
   ]
  },
  {
   "cell_type": "markdown",
   "id": "d88d9424",
   "metadata": {},
   "source": [
    "### Create Embeddings and Upsert to Pinecone"
   ]
  },
  {
   "cell_type": "code",
   "execution_count": 12,
   "id": "8c42d631-fcff-4209-ba29-ae36759c2797",
   "metadata": {},
   "outputs": [
    {
     "name": "stdout",
     "output_type": "stream",
     "text": [
      "['0', '1', '2', '3', '4', '5', '6', '7', '8', '9', '10', '11', '12', '13', '14', '15', '16', '17', '18', '19', '20', '21', '22', '23', '24', '25', '26', '27', '28', '29', '30', '31', '32', '33', '34', '35', '36', '37', '38', '39', '40', '41', '42', '43', '44', '45', '46', '47', '48', '49', '50', '51', '52', '53', '54', '55', '56', '57', '58', '59', '60', '61', '62', '63', '64', '65', '66', '67', '68', '69', '70', '71', '72', '73', '74', '75', '76', '77', '78', '79', '80', '81', '82', '83', '84', '85', '86', '87', '88', '89', '90', '91', '92', '93', '94', '95', '96', '97', '98', '99', '100', '101', '102', '103', '104', '105', '106', '107', '108', '109', '110', '111', '112', '113', '114', '115', '116', '117', '118', '119', '120', '121', '122', '123', '124', '125', '126', '127', '128', '129', '130', '131', '132', '133', '134', '135', '136', '137', '138', '139', '140', '141', '142', '143', '144', '145', '146', '147', '148', '149', '150', '151', '152', '153', '154', '155', '156', '157', '158', '159', '160', '161', '162', '163', '164', '165', '166', '167', '168', '169', '170', '171', '172', '173', '174', '175', '176', '177', '178', '179', '180', '181', '182', '183', '184', '185', '186', '187', '188', '189', '190', '191', '192', '193', '194', '195', '196', '197', '198', '199']\n",
      "[{'text': 'What is the claim made that Turkey is planning an intervention of Syria?'}, {'text': 'Does the protective coating that the car dealerships try to force you to buy (at the last minute) really make a difference?'}, {'text': 'What is the placement scenario for ISI QROR?'}, {'text': 'What traffic laws in Qatar are particularly hard for foreign drivers to get used to?'}, {'text': 'How would you argue that happiness is not the ultimate aim of moral philosophy? According to kant what is the goal of morality and why?'}, {'text': 'In the film Dirty Harry, how is Harry portrayed as a fascist? Is this a misinterpretation of the character?'}, {'text': 'What would be the safest place to live if ww3 breaks out?'}, {'text': 'How are compressional and transverse waves formed?'}, {'text': 'Can Delhi now be officially called a rape capital of the world?'}, {'text': 'What degree should I do after MCA for further studies?'}, {'text': 'Was India affected by the Black Death during the Medieval period?'}, {'text': 'Why do people clap when the airplane lands?'}, {'text': 'What was your worst breakup?'}, {'text': 'Is it true that Buddhists were the ancestors of present day Hindus in India?'}, {'text': 'What are some good mff threesome sex positions?'}, {'text': 'What should I do if my ex-girlfriend interferes in my life?'}, {'text': 'What are the duties of the U.S. Coast Guard?'}, {'text': 'Who is more powerful Russia or America?'}, {'text': 'Bernie Sanders beats Donald Trump in every poll. Will you support him as the democratic nominee?'}, {'text': \"What are the some things Indians can't do but others can?\"}, {'text': 'Why does everyone have some kind of mental illness these days?'}, {'text': 'What is Photoshop CS6?'}, {'text': 'How can I increase my vocabulary online?'}, {'text': 'Which teams should join the Big 12 Conference?'}, {'text': 'How does wrist watch work on pulse?'}, {'text': 'How do I stop thinking about my crush?'}, {'text': 'What are some of the perks and benefits of being a diplomat? House? Driver? Immunity?'}, {'text': 'What are your 10 favorite horror movies?'}, {'text': 'How much does a decent gaming PC cost in 2016?'}, {'text': 'Are weighted push-up as effective as bench-press for beginners to build muscle?'}, {'text': 'Does alcohol evaporate without any extreme heat'}, {'text': 'Who is the girl in the new NECC ad who says, \"sunny milega?\" to which Dharmendra responds, \"you mean sunny side up\"?'}, {'text': 'Is there a simple example of how to use TensorFlow with Batch Normalization?'}, {'text': 'Is it wrong for a 90 year old to date a 32 year old?'}, {'text': 'How do I help someone who had an accident?'}, {'text': 'What is the best way to get gold fish in Neko Atsume?'}, {'text': 'I am fed up because dont have job n lots of responsibilities?'}, {'text': 'How can I get a job in core electronics?'}, {'text': 'What are the things I should do in the morning after I wake up?'}, {'text': 'What is the function of a computer hard drive?'}, {'text': 'What caused your weight gain?'}, {'text': 'How does the HP OfficeJet 4620 Airprint compare to the HP LaserJet Pro M402dw?'}, {'text': 'What is the best site to learn geometry for free?'}, {'text': 'What is the success rate of start ups in India?'}, {'text': 'Is it possible for a saint or incarnation of God to establish a philosophy higher than what Jagadguru Sri Kripaluji Maharaj has established?'}, {'text': 'What are the different types of printers?'}, {'text': 'Why is it possible to upload only a squared image as my whatsapp profile picture? Why does it even matter?'}, {'text': \"How realistic is Elon Musk's plan to colonise Mars?\"}, {'text': 'I cleared SSC steno written exam Grade D.Can you please tell when will be the skill test and how long will it take to learn shorthand?'}, {'text': 'Who is the most beautiful porn actoress in the photos?'}, {'text': 'How do I understand human nature?'}, {'text': 'How do I get started with Kali Linux?'}, {'text': 'What is your review of Roompartner.co.in?'}, {'text': 'Psychology of Everyday Life: What are the unluckiest times of your life?'}, {'text': 'What are the best ways to teach kids how to read?'}, {'text': 'What is the difference between a process oriented person and a goal oriented person?'}, {'text': 'What are some good lat dumbbell exercises?'}, {'text': \"What's the difference between static and dynamic PDFs?\"}, {'text': 'How can I ask the right questions?'}, {'text': 'What does Tyler Durden mean when he says \"you are all singing, all dancing crap of the world\" in Fight Club?'}, {'text': 'Is this phrase, \"I am doing that only\" grammatically correct?'}, {'text': 'How do I convince my ex to date me again?'}, {'text': \"Who might be in Trump's cabinet?\"}, {'text': 'How can I make my own operating system?'}, {'text': 'What question on Quora has the most views?'}, {'text': 'What are some substitutes that can be used for vanilla extract in a recipe?'}, {'text': \"What's an intuitive explanation of the Borel-Kolmogorov paradox?\"}, {'text': 'What is the difference between Odia and Bengali considering every aspect?'}, {'text': 'What is it like to be rich and famous, then lose it all?'}, {'text': 'What is the Sahara, and how do the average temperatures there compare to the ones in the Gibson Desert?'}, {'text': 'What are some characteristics of compressional and transverse waves?'}, {'text': 'Which countries does the Sahara desert cover?'}, {'text': 'How do I become a data analyst?'}, {'text': 'What is the most important lesson you have learned from being with a cat?'}, {'text': 'Why are Windows Phones underrated?'}, {'text': 'What is the temperament of a Lab/Pitbull mix?'}, {'text': 'What is the best book about digital marketing?'}, {'text': 'How do I get all these Trump questions out of my Quora feed? Please make it stop. . .'}, {'text': 'Android (operating system): How can I solve \"Unfortunately System UI has stopped\" and \"Unfortunately Gallery has stopped\" messages on a Samsung S4 after I upgraded from Android 4.4.2 to 5.0.1?'}, {'text': 'How do I get a job at Disney playing a princess?'}, {'text': 'How a CA final student or a Qualified CA can get job in companies like McKinsey, Bain, BCG and Strategy& (formerly Booz & Co.)?'}, {'text': 'Why did Ratan Tata remove Cyrus Mistry?'}, {'text': 'Why does hair turn grey as people age?'}, {'text': 'Do honey badgers make good pets?'}, {'text': 'I have an HP Pavilion G6 laptop. Am I able to run GTA V on my laptop smoothly?'}, {'text': 'What are examples of law of demand?'}, {'text': 'How do you make music video visualizations?'}, {'text': 'Popular TV shows?'}, {'text': 'What impact could a Trump presidency have on Silicon Valley?'}, {'text': 'Can I transfer my friends car title to my name as a gift to avoid tax after getting the bank loan/check?'}, {'text': 'What are the most important events of the last 60 years?'}, {'text': 'What are the positive aspects of triple talaq?'}, {'text': 'Why should black people collectively vote as Democrats? Lyndon B Johnson and Woodrow Wilson were racist.'}, {'text': 'What are some songs like Trying not to love you?'}, {'text': \"Why don't some women wear underwear?\"}, {'text': 'How do I have best sex?'}, {'text': 'What does a pigeon eat?'}, {'text': 'How does one have \"fun\"?'}, {'text': 'How was \"The Fault in Our Stars\" filmed?'}, {'text': 'Do pets ever commit suicide?'}, {'text': 'Is there any universal language?'}, {'text': 'What is the permeability of limestone?'}, {'text': \"Do girl's like cute guys, the guys with boyish looks rather then very manly looks?\"}, {'text': 'What does \"まな\" mean in Japanese?'}, {'text': \"I smoked a week and a half ago. also a regular smoker. I will have not been smoking for 18 days by the time of the test. I weigh 215 5'8. Will I pass?\"}, {'text': 'What is the best website to learn java from beginning to advanced?'}, {'text': 'How does a women sense that the guy is desperate? What are the signs of a desperate person?'}, {'text': 'What are the health benefits of wasabi?'}, {'text': 'What are the different types of database administration? Which is the easiest to learn?'}, {'text': 'How can one enjoy the life at chicago?'}, {'text': 'Is there a male Brazilian waxing salon in Mumbai?'}, {'text': 'Can Delhi ever get rid if stray dogs?'}, {'text': 'What are some good books for analog and digital integrated circuits?'}, {'text': 'What is the most disgusting thing anyone has ever done to you?'}, {'text': 'How do I start in finance and business as a math and cs undergrad?'}, {'text': 'Is it possible to submit an HTML form without a submit button?'}, {'text': 'How good is IIT KGP’s Law School (RGSOIPL)? What’s the scope for IP and placements? Why should I choose IIT KGP Law over say, DU LLB?'}, {'text': 'When can humans colonize mars?'}, {'text': 'What is the transfer of energy by electromagnetic waves?'}, {'text': 'What are some interesting areas of biology that I could do undergraduate honors thesis in?'}, {'text': 'When I insert my micro memory SD card it displays the error as volume is not accessible. I have the images in it. How do I recover them?'}, {'text': 'Who are some of the great electrical engineers on Quora?'}, {'text': 'What are some cool WhatsApp group names?'}, {'text': 'Which makes better earphones, Sennheiser,  Skullcandy or JBL?'}, {'text': 'What are the dating sites in India?'}, {'text': 'What books should entrepreneurs read before starting a business?'}, {'text': 'What is the next number in the series: 10, 11, 12, 13, 15, 19, 27, 30, 39, 66?'}, {'text': 'Should you wipe your Mac and reinstall OSX every year to keep it from viruses, malware or spyware?'}, {'text': 'Why is my answer being collapsed after being sent to Quora digest?'}, {'text': 'What is calcium?'}, {'text': 'How do I score 250+ in jee mains 2018?'}, {'text': 'How can we improve our emotional intelligence? What are the benefits?'}, {'text': \"What is modern art's role in society today?\"}, {'text': 'Can you have sex while pregnant?'}, {'text': 'What does the Puerto Rican family structure represent?'}, {'text': 'What are the best restaurants in Portland, OR?'}, {'text': 'What are some good ways to transition from chemical engineering to data science?'}, {'text': 'Why do we \"think\" the way we think?'}, {'text': 'What do I do to crack the IIT exam?'}, {'text': 'How do I make homemade jam?'}, {'text': 'What went wrong with the polling in the 2016 US presidential election?'}, {'text': 'What are the job opportunities in foreign countries after doing LLM in India?'}, {'text': 'When will Indians learn to respect women and stop domestic violence against women?'}, {'text': 'Why do Indian Muslims have Arabic names?'}, {'text': 'What is meaning of แรงรักไฟมาร?'}, {'text': 'Is Italy a Third-World country?'}, {'text': 'What are the most annoying questions you see on Quora?'}, {'text': 'What are the most common WiFi passwords?'}, {'text': 'Why did Arnab Goswami resign from Times Now?'}, {'text': 'Who can someone repair the Tweetbot push notification in iOS?'}, {'text': 'How do you lose fat around your stomach?'}, {'text': 'What did Werner Heisenberg mean when he said, “The first gulp from the glass of natural sciences will turn you into an atheist, but at the bottom of the glass God is waiting for you”?'}, {'text': 'How do I help someone with depression?'}, {'text': 'What made Hillary Clinton join Quora?'}, {'text': 'I am 23 old 5feet 7inch and 56 weight? How can i gain weight with indian diet plan?'}, {'text': 'What comes to your mind when you think of South Korea?'}, {'text': 'Who are the most professional and skilled foreign soldiers you have served with?'}, {'text': 'Are there people who gained weight after joining a Gym?'}, {'text': 'How do you say \"boss\" in Japanese?'}, {'text': 'Which is the best way to learn Programing language?'}, {'text': 'Does anybody know a good astrologer?'}, {'text': 'What are some ways to ripen a pineapple?'}, {'text': 'What chemical equation shows that silver reacts with nitric acid, HNO3, to form nitrogen monoxide, NO, silver nitrate, AgNO3, and water?'}, {'text': 'What are the best hindi poem on religion?'}, {'text': 'How can I be so stupid?'}, {'text': 'How does one learn how to build an iPhone app? '}, {'text': 'Is it possible for one wave to cancel another wave, so that no amplitude remains?'}, {'text': 'Foodies: What is the most expensive dinner one could buy in the United States?'}, {'text': 'Why do we use the Reynolds number?'}, {'text': 'Is Narendra Modi a better Prime Minister than Manmohan SIngh?'}, {'text': \"What is the Russell's Paradox in mathematics?\"}, {'text': 'What are the top 50 companies in the infrastructure in India?'}, {'text': 'How much caffeine is in a frappuccino? How do you make a frappuccino?'}, {'text': 'What is the average vocal range for an adult male and for an adult female?'}, {'text': 'How big is the A380?'}, {'text': \"why is it that when I use Instagram my followers can see the pictures that I've liked?\"}, {'text': \"How 'real' are Indian television reality shows?\"}, {'text': 'How do you start learning guitar?'}, {'text': 'Why does a girl avoid eye contact with a boy who loves her?'}, {'text': 'What does a human penis look like?'}, {'text': \"What does it mean when a guy says you're looking sexy?\"}, {'text': \"Is it possible that you dream about a person repeatedly and that person dreams about you, even if you don't know each other and have only seen each other in real life?\"}, {'text': 'What is the meaning of reminiscing?'}, {'text': 'What should you do to prepare for your death?'}, {'text': 'How do I find family history?'}, {'text': 'What are the best programming blogs?'}, {'text': 'How can I choose between two guys?'}, {'text': 'How can I do the greatest magic trick?'}, {'text': 'What are the top things to do in Barcelona?'}, {'text': \"If Hannibal was a great general, how come he didn't attack Rome when he had the chance?\"}, {'text': 'What is the best way to juice a pomegranate?'}, {'text': 'What are some of the best career objectives written in a resume?'}, {'text': 'Is it bad if you get rain or snow on your suede jacket?'}, {'text': 'How do I score well in exams?'}, {'text': \"How do I freely access Ravindrababu Ravula's GATE videos?\"}, {'text': 'I lost my sbi registered number. How can I update my new number with sbi without visiting branch?'}, {'text': 'What is Swachh Bharat?'}, {'text': 'How much impact has Quora had on book sales for \"Now: The Physics of Time?\"'}, {'text': 'Does internship training needs any academic mark qualifications?'}, {'text': 'Where do I catch a Porygon in Pokémon GO?'}]\n",
      "[[-0.01480338  0.06956208  0.04247105 ... -0.01294982  0.05170386\n",
      "   0.00689638]\n",
      " [-0.04694606  0.04880732  0.08637723 ... -0.08332992  0.04116306\n",
      "   0.07431984]\n",
      " [-0.0523368   0.04384762 -0.00652897 ...  0.01843059  0.02641553\n",
      "  -0.05068482]\n",
      " ...\n",
      " [-0.08508643  0.00380366 -0.00466615 ... -0.1497396  -0.04006182\n",
      "   0.04884684]\n",
      " [ 0.00719535 -0.00375825  0.02281016 ... -0.03641082  0.01461943\n",
      "  -0.05919256]\n",
      " [ 0.00110661  0.02600966 -0.03396545 ...  0.03662143  0.02973583\n",
      "   0.00086827]]\n"
     ]
    }
   ],
   "source": [
    "batch_size=200\n",
    "vector_limit=10000\n",
    "\n",
    "questions = question[:vector_limit]\n",
    "\n",
    "import json\n",
    "\n",
    "range(0, len(questions), batch_size)\n",
    "\n",
    "i = 0\n",
    "i_end = 200\n",
    "ids = [str(x) for x in range(i, i_end)]\n",
    "print(ids)\n",
    "metadatas = [{'text': text} for text in questions[i:i_end]]\n",
    "print(metadatas)\n",
    "xc = model.encode(questions[i:i_end])\n",
    "print(xc)"
   ]
  },
  {
   "cell_type": "code",
   "execution_count": null,
   "id": "ea551303-aa81-41cd-adc5-dc9ea8072397",
   "metadata": {
    "height": 352
   },
   "outputs": [],
   "source": [
    "batch_size=200\n",
    "vector_limit=10000\n",
    "\n",
    "questions = question[:vector_limit]\n",
    "\n",
    "import json\n",
    "\n",
    "for i in tqdm(range(0, len(questions), batch_size)):\n",
    "    # find end of batch\n",
    "    i_end = min(i+batch_size, len(questions))\n",
    "    # create IDs batch\n",
    "    ids = [str(x) for x in range(i, i_end)]\n",
    "    # create metadata batch\n",
    "    metadatas = [{'text': text} for text in questions[i:i_end]]\n",
    "    # create embeddings\n",
    "    xc = model.encode(questions[i:i_end])\n",
    "    # create records list for upsert\n",
    "    records = zip(ids, xc, metadatas)\n",
    "    # upsert to Pinecone\n",
    "    index.upsert(vectors=records)"
   ]
  },
  {
   "cell_type": "code",
   "execution_count": null,
   "id": "6153920a-f4c4-420e-9790-262dd2299fc6",
   "metadata": {
    "height": 30
   },
   "outputs": [],
   "source": [
    "index.describe_index_stats()"
   ]
  },
  {
   "cell_type": "markdown",
   "id": "71135418",
   "metadata": {},
   "source": [
    "### Run Your Query"
   ]
  },
  {
   "cell_type": "code",
   "execution_count": null,
   "id": "28b20b81-4782-4ce2-aec3-9576c7779f2e",
   "metadata": {
    "height": 115
   },
   "outputs": [],
   "source": [
    "# small helper function so we can repeat queries later\n",
    "def run_query(query):\n",
    "  embedding = model.encode(query).tolist()\n",
    "  results = index.query(top_k=10, vector=embedding, include_metadata=True, include_values=False)\n",
    "  for result in results['matches']:\n",
    "    print(f\"{round(result['score'], 2)}: {result['metadata']['text']}\")"
   ]
  },
  {
   "cell_type": "code",
   "execution_count": null,
   "id": "4c4244d6-7be0-4ee1-a36a-0d586f0555f7",
   "metadata": {
    "height": 30
   },
   "outputs": [],
   "source": [
    "run_query('which city has the highest population in the world?')"
   ]
  },
  {
   "cell_type": "code",
   "execution_count": null,
   "id": "f85b20fe-2328-47eb-84cd-bf3b27c6d4aa",
   "metadata": {
    "height": 47
   },
   "outputs": [],
   "source": [
    "query = 'how do i make chocolate cake?'\n",
    "run_query(query)"
   ]
  },
  {
   "cell_type": "code",
   "execution_count": null,
   "id": "98af4baf-c5f5-45d2-8a37-d08a6cd33656",
   "metadata": {},
   "outputs": [],
   "source": []
  },
  {
   "cell_type": "code",
   "execution_count": null,
   "id": "2f4d13f1-71fc-4472-a9f1-91d5c213c552",
   "metadata": {},
   "outputs": [],
   "source": []
  }
 ],
 "metadata": {
  "kernelspec": {
   "display_name": "Python 3 (ipykernel)",
   "language": "python",
   "name": "python3"
  },
  "language_info": {
   "codemirror_mode": {
    "name": "ipython",
    "version": 3
   },
   "file_extension": ".py",
   "mimetype": "text/x-python",
   "name": "python",
   "nbconvert_exporter": "python",
   "pygments_lexer": "ipython3",
   "version": "3.9.10"
  }
 },
 "nbformat": 4,
 "nbformat_minor": 5
}
