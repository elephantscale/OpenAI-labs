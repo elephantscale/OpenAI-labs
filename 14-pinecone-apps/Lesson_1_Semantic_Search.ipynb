{
 "cells": [
  {
   "cell_type": "markdown",
   "id": "77448887-ed71-48e1-bf0d-2ff499d0c7ca",
   "metadata": {},
   "source": [
    "# Lesson 1 - Semantic Search"
   ]
  },
  {
   "cell_type": "markdown",
   "id": "750cd7dd",
   "metadata": {},
   "source": [
    "### Import the Needed Packages"
   ]
  },
  {
   "cell_type": "code",
   "execution_count": 1,
   "id": "809aa032-d737-450d-aafa-e32bfba9d8f8",
   "metadata": {
    "height": 47
   },
   "outputs": [],
   "source": [
    "import warnings\n",
    "warnings.filterwarnings('ignore')"
   ]
  },
  {
   "cell_type": "code",
   "execution_count": 2,
   "id": "30698fb9-4709-4088-9905-9ccb4efd5e09",
   "metadata": {
    "height": 166
   },
   "outputs": [],
   "source": [
    "from datasets import load_dataset\n",
    "from sentence_transformers import SentenceTransformer\n",
    "\n",
    "from DLAIUtils import Utils\n",
    "import DLAIUtils\n",
    "\n",
    "import os\n",
    "import time\n",
    "import torch"
   ]
  },
  {
   "cell_type": "code",
   "execution_count": 3,
   "id": "b5f42878-9177-438f-8c8a-2e1762c13b51",
   "metadata": {},
   "outputs": [],
   "source": [
    "from pinecone import Pinecone, ServerlessSpec"
   ]
  },
  {
   "cell_type": "code",
   "execution_count": 4,
   "id": "8ab484bb-3bfb-4c52-a5bd-bcbe4a7a63d2",
   "metadata": {
    "height": 30
   },
   "outputs": [],
   "source": [
    "from tqdm.auto import tqdm"
   ]
  },
  {
   "cell_type": "code",
   "execution_count": 5,
   "id": "93226fd3-6b0a-42bc-aafb-e78517eb9602",
   "metadata": {},
   "outputs": [],
   "source": [
    "from dotenv import load_dotenv, find_dotenv\n",
    "_ = load_dotenv(find_dotenv())"
   ]
  },
  {
   "cell_type": "markdown",
   "id": "ba92fc2d",
   "metadata": {},
   "source": [
    "### Load the Dataset"
   ]
  },
  {
   "cell_type": "code",
   "execution_count": 6,
   "id": "ce859e4b-9b50-4f53-b357-28d3e3872c87",
   "metadata": {
    "height": 30
   },
   "outputs": [
    {
     "name": "stderr",
     "output_type": "stream",
     "text": [
      "Found cached dataset quora (/home/mark/.cache/huggingface/datasets/quora/default/0.0.0/36ba4cd42107f051a158016f1bea6ae3f4685c5df843529108a54e42d86c1e04)\n"
     ]
    }
   ],
   "source": [
    "dataset = load_dataset('quora', split='train[240000:290000]')"
   ]
  },
  {
   "cell_type": "code",
   "execution_count": 7,
   "id": "356d4112-fa51-4092-9841-8b266e3b6a2c",
   "metadata": {
    "height": 30
   },
   "outputs": [
    {
     "data": {
      "text/plain": [
       "{'questions': [{'id': [207550, 351729],\n",
       "   'text': ['What is the truth of life?', \"What's the evil truth of life?\"]},\n",
       "  {'id': [33183, 351730],\n",
       "   'text': ['Which is the best smartphone under 20K in India?',\n",
       "    'Which is the best smartphone with in 20k in India?']},\n",
       "  {'id': [351731, 351732],\n",
       "   'text': ['Steps taken by Canadian government to improve literacy rate?',\n",
       "    'Can I send homemade herbal hair oil from India to US via postal or private courier services?']},\n",
       "  {'id': [37799, 94186],\n",
       "   'text': ['What is a good way to lose 30 pounds in 2 months?',\n",
       "    'What can I do to lose 30 pounds in 2 months?']},\n",
       "  {'id': [351733, 351734],\n",
       "   'text': ['Which of the following most accurately describes the translation of the graph y = (x+3)^2 -2 to the graph of y = (x -2)^2 +2?',\n",
       "    'How do you graph x + 2y = -2?']}],\n",
       " 'is_duplicate': [False, True, False, True, False]}"
      ]
     },
     "execution_count": 7,
     "metadata": {},
     "output_type": "execute_result"
    }
   ],
   "source": [
    "dataset[:5]"
   ]
  },
  {
   "cell_type": "code",
   "execution_count": 8,
   "id": "332d1241-61ae-4d09-bf46-52081c133c0c",
   "metadata": {
    "height": 132
   },
   "outputs": [
    {
     "name": "stdout",
     "output_type": "stream",
     "text": [
      "What is the truth of life?\n",
      "What's the evil truth of life?\n",
      "Which is the best smartphone under 20K in India?\n",
      "Which is the best smartphone with in 20k in India?\n",
      "Steps taken by Canadian government to improve literacy rate?\n",
      "Can I send homemade herbal hair oil from India to US via postal or private courier services?\n",
      "What is a good way to lose 30 pounds in 2 months?\n",
      "What can I do to lose 30 pounds in 2 months?\n",
      "Which of the following most accurately describes the translation of the graph y = (x+3)^2 -2 to the graph of y = (x -2)^2 +2?\n",
      "How do you graph x + 2y = -2?\n",
      "--------------------------------------------------\n",
      "Number of questions: 100000\n",
      "Number of unique questions: 88919\n"
     ]
    }
   ],
   "source": [
    "# Extract questions and drop ids\n",
    "questions = []\n",
    "for record in dataset['questions']:\n",
    "    questions.extend(record['text'])\n",
    "# Remove duplicate questions\n",
    "question = list(set(questions))\n",
    "print('\\n'.join(questions[:10]))\n",
    "print('-' * 50)\n",
    "print(f'Number of questions: {len(questions)}')\n",
    "print(f'Number of unique questions: {len(question)}')"
   ]
  },
  {
   "cell_type": "markdown",
   "id": "ab3c0402",
   "metadata": {},
   "source": [
    "### Check cuda and Setup the model\n",
    "\n",
    "**Note**: \"Checking cuda\" refers to checking if you have access to GPUs (faster compute). In this course, we are using CPUs. So, you might notice some code cells taking a little longer to run.\n",
    "\n",
    "We are using *all-MiniLM-L6-v2* sentence-transformers model that maps sentences to a 384 dimensional dense vector space."
   ]
  },
  {
   "cell_type": "code",
   "execution_count": 9,
   "id": "5fb67759-ab38-4472-bfb0-4a56d1c05955",
   "metadata": {
    "height": 81
   },
   "outputs": [
    {
     "name": "stdout",
     "output_type": "stream",
     "text": [
      "Sorry no cuda.\n"
     ]
    }
   ],
   "source": [
    "device = 'cuda' if torch.cuda.is_available() else 'cpu'\n",
    "if device != 'cuda':\n",
    "    print('Sorry no cuda.')\n",
    "model = SentenceTransformer('all-MiniLM-L6-v2', device=device)"
   ]
  },
  {
   "cell_type": "code",
   "execution_count": 10,
   "id": "d90ec5ec-5397-4ed5-8163-7a901b6ecb0c",
   "metadata": {
    "height": 64
   },
   "outputs": [
    {
     "data": {
      "text/plain": [
       "(384,)"
      ]
     },
     "execution_count": 10,
     "metadata": {},
     "output_type": "execute_result"
    }
   ],
   "source": [
    "query = 'which city is the most populated in the world?'\n",
    "xq = model.encode(query)\n",
    "xq.shape"
   ]
  },
  {
   "cell_type": "markdown",
   "id": "1780a189",
   "metadata": {},
   "source": [
    "### Setup Pinecone"
   ]
  },
  {
   "cell_type": "code",
   "execution_count": 16,
   "id": "b3e3a94e-127f-4667-a9ae-7a17d7304ee6",
   "metadata": {
    "height": 43
   },
   "outputs": [
    {
     "name": "stdout",
     "output_type": "stream",
     "text": [
      "{'indexes': [{'dimension': 384,\n",
      "              'host': 'openai-labs-384-djnczx7.svc.apw5-4e34-81fa.pinecone.io',\n",
      "              'metric': 'cosine',\n",
      "              'name': 'openai-labs-384',\n",
      "              'spec': {'serverless': {'cloud': 'aws', 'region': 'us-west-2'}},\n",
      "              'status': {'ready': True, 'state': 'Ready'}},\n",
      "             {'dimension': 8,\n",
      "              'host': 'quickstart-djnczx7.svc.apw5-4e34-81fa.pinecone.io',\n",
      "              'metric': 'cosine',\n",
      "              'name': 'quickstart',\n",
      "              'spec': {'serverless': {'cloud': 'aws', 'region': 'us-west-2'}},\n",
      "              'status': {'ready': True, 'state': 'Ready'}},\n",
      "             {'dimension': 512,\n",
      "              'host': 'openai-labs-512-djnczx7.svc.apw5-4e34-81fa.pinecone.io',\n",
      "              'metric': 'dotproduct',\n",
      "              'name': 'openai-labs-512',\n",
      "              'spec': {'serverless': {'cloud': 'aws', 'region': 'us-west-2'}},\n",
      "              'status': {'ready': True, 'state': 'Ready'}},\n",
      "             {'dimension': 1536,\n",
      "              'host': 'openai-labs-djnczx7.svc.apw5-4e34-81fa.pinecone.io',\n",
      "              'metric': 'cosine',\n",
      "              'name': 'openai-labs',\n",
      "              'spec': {'serverless': {'cloud': 'aws', 'region': 'us-west-2'}},\n",
      "              'status': {'ready': True, 'state': 'Ready'}}]}\n"
     ]
    }
   ],
   "source": [
    "PINECONE_API_KEY = os.getenv(\"PINECONE_API_KEY\")\n",
    "pinecone = Pinecone(api_key=PINECONE_API_KEY)\n",
    "print(pinecone.list_indexes())"
   ]
  },
  {
   "cell_type": "code",
   "execution_count": 12,
   "id": "17a75eca-60f0-478b-bdcf-b68732c1545d",
   "metadata": {
    "height": 200
   },
   "outputs": [
    {
     "name": "stdout",
     "output_type": "stream",
     "text": [
      "openai-labs-384\n",
      "<pinecone.data.index.Index object at 0x7f795c3cfb50>\n"
     ]
    }
   ],
   "source": [
    "INDEX_NAME=\"openai-labs-384\"\n",
    "\n",
    "if INDEX_NAME in [index.name for index in pinecone.list_indexes()]:\n",
    "    pinecone.delete_index(INDEX_NAME)\n",
    "print(INDEX_NAME)\n",
    "pinecone.create_index(name=INDEX_NAME, \n",
    "    dimension=model.get_sentence_embedding_dimension(), \n",
    "    metric='cosine',\n",
    "    spec=ServerlessSpec(cloud='aws', region='us-west-2'))\n",
    "\n",
    "index = pinecone.Index(INDEX_NAME)\n",
    "print(index)"
   ]
  },
  {
   "cell_type": "markdown",
   "id": "d88d9424",
   "metadata": {},
   "source": [
    "### Create Embeddings and Upsert to Pinecone"
   ]
  },
  {
   "cell_type": "code",
   "execution_count": 13,
   "id": "8c42d631-fcff-4209-ba29-ae36759c2797",
   "metadata": {},
   "outputs": [
    {
     "name": "stdout",
     "output_type": "stream",
     "text": [
      "['0', '1', '2', '3', '4', '5', '6', '7', '8', '9', '10', '11', '12', '13', '14', '15', '16', '17', '18', '19', '20', '21', '22', '23', '24', '25', '26', '27', '28', '29', '30', '31', '32', '33', '34', '35', '36', '37', '38', '39', '40', '41', '42', '43', '44', '45', '46', '47', '48', '49', '50', '51', '52', '53', '54', '55', '56', '57', '58', '59', '60', '61', '62', '63', '64', '65', '66', '67', '68', '69', '70', '71', '72', '73', '74', '75', '76', '77', '78', '79', '80', '81', '82', '83', '84', '85', '86', '87', '88', '89', '90', '91', '92', '93', '94', '95', '96', '97', '98', '99', '100', '101', '102', '103', '104', '105', '106', '107', '108', '109', '110', '111', '112', '113', '114', '115', '116', '117', '118', '119', '120', '121', '122', '123', '124', '125', '126', '127', '128', '129', '130', '131', '132', '133', '134', '135', '136', '137', '138', '139', '140', '141', '142', '143', '144', '145', '146', '147', '148', '149', '150', '151', '152', '153', '154', '155', '156', '157', '158', '159', '160', '161', '162', '163', '164', '165', '166', '167', '168', '169', '170', '171', '172', '173', '174', '175', '176', '177', '178', '179', '180', '181', '182', '183', '184', '185', '186', '187', '188', '189', '190', '191', '192', '193', '194', '195', '196', '197', '198', '199']\n",
      "[{'text': 'Why did Xdrive and Driveway (now iDrive) failed during early 2000 for the same set of solutions offered by Dropbox, box and other storage services?'}, {'text': 'What is National Aquatic Animal of India?'}, {'text': 'How common are bullies in the middle school in the United States?'}, {'text': 'Which is the best laptop in India under 50,000?'}, {'text': 'What is the best Bitcoin Wallet API?'}, {'text': \"Suicide Squad: What's your thought on Jared Leto's performance as the Joker?\"}, {'text': 'Is winemaking considered an art or a science? Why?'}, {'text': 'When and why did people start using surnames?'}, {'text': 'I want to go out of this world full of people and my circles in which I can spend time with myself.but for sake of my studies I have to give time to people.how to be alone?'}, {'text': 'What is the best way to impress a girl in a meeting?'}, {'text': 'What is the biggest country?'}, {'text': 'Which is the best Kannada movie ever made?'}, {'text': 'Is drop shipping illegal on Amazon?'}, {'text': 'Why do I find English so easy to learn?'}, {'text': 'What are some good mix recipes using white rum?'}, {'text': 'How do I draw realistic hair with pencil?'}, {'text': 'What are the hourly parking charges at Bangalore Metro stations?'}, {'text': 'Where should I start to become a Data Analyst?'}, {'text': 'When and why did Indians move to Africa?'}, {'text': 'How do you zip a file on Mac?'}, {'text': 'What are general relativity and quantum mechanics?'}, {'text': 'How could I stop thinking about something/worrying?'}, {'text': 'What are the downsides of not using a mobile phone?'}, {'text': 'Does the \"Hillary wants to take away our guns\" meme have any substance to it?'}, {'text': 'How do I start designing on glass?'}, {'text': 'Did you ever receive a divine experience/sign, did your god communicate with you?'}, {'text': 'When can you buzz in to answer the question on Jeopardy?'}, {'text': \"I felt I was a pretty good software engineer with a successful career, but I did quite poorly in my Google interview, does this mean I'm not as good an engineer as I thought?\"}, {'text': 'What can I use for my face to become clear?'}, {'text': 'What is the main aim of Maoists in India? What do they want?'}, {'text': 'What are the best answers for \"Why should I hire you\"?'}, {'text': 'Why do most café startups fail?'}, {'text': 'What was the craziest thing you have done lately?'}, {'text': 'How would Incremental CRR withdrawal will be a relief to banks?'}, {'text': 'What have you achieved so far in your life that makes you proud?'}, {'text': 'If I were to eat the same thing for breakfast every day, what should that food item be?'}, {'text': 'What is your personal method for waking up early?'}, {'text': 'What is Itachi Uchiha\\'s mysterious \"illness\"?'}, {'text': 'Which one would you recommend for creating a web crawler?'}, {'text': 'How is the gestation period for kangaroos?'}, {'text': 'What happens when we sleep?'}, {'text': 'How I start prepare for UGC net English literature latest syllabus?'}, {'text': \"What's the evil truth of life?\"}, {'text': 'What are the best books to learn about human behavior?'}, {'text': 'Who can help with my English learning?'}, {'text': 'How can I trade forex in India legally?'}, {'text': 'What are the most poor states in India and why?'}, {'text': \"What's the meaning of life?\"}, {'text': 'How many calories are burnt during sexual intercourse?'}, {'text': 'What are the best ways to learn a new language from home?'}, {'text': 'Can I get good friends on Quora?'}, {'text': 'What are resources I can use to know if I am emotionally abusive in a relationship?'}, {'text': 'How can I apply for a Six Sigma certification? Can I take a Six Sigma project after Green Belt?'}, {'text': 'How much time to be a stock market expert like the ones who give guidance on TV?'}, {'text': 'What is the difference between truthfulness and honesty?'}, {'text': 'How can I download paid apps on the Google Play Store?'}, {'text': 'What really sets the Wharton School of Business apart from other business schools?'}, {'text': 'How can I read my husbands secret WhatsApp messages without using his phone?'}, {'text': 'Is streaming on kodi illegal?'}, {'text': 'Is there any IIScian who has gone for the CSE?'}, {'text': 'What is the best way to get a software engineering job?'}, {'text': \"Why does I feel like I'm being watched whenever I go out?\"}, {'text': 'If humans were compared to pathogens, what would we be?'}, {'text': 'Where can I buy freshly roasted coffee beans in Bangalore?'}, {'text': 'Do employees at Approach Resources have a good work-life balance? Does this differ across positions and departments?'}, {'text': 'Which is the best phone under 20000?'}, {'text': 'What are the death rituals of the Inuit? How are they performed?'}, {'text': 'What is your favourite quote and why?'}, {'text': 'Which are the best digital marketing training institute in Kochi?'}, {'text': 'Should watching porn be considered as infidelity?'}, {'text': 'What is the average salary of a nurse at Singapore?'}, {'text': 'Do celebrities use Quora extensively?'}, {'text': 'Who were the worst Russian generals of World War Two?'}, {'text': 'How do scotch whisky manufacturers satisfy immediate surge in demand esp since it usually involves maturation of whisky starting 12 years and upwards..so even if they manufacture extra whisky now it can only be sold after 12 or 25 yrs ... or am i missing something?'}, {'text': \"What is the fastest way to move out when you're 18?\"}, {'text': 'What is the best optional subject for UPSC CS exam among political science, public administration and sociology?'}, {'text': 'Why do I always feel that people are angry with me?'}, {'text': 'What are the dangers of eating raw chicken?'}, {'text': \"Is there a reason that Hillary Clinton doesn't want to get her teeth whitened?\"}, {'text': \"What do I do if I don't want to go back to college from home after staying here for Diwali weekend? PS I feel very sad.?\"}, {'text': 'How do I get rid of my severe problem of procrastination?'}, {'text': 'Why sex toy illegal in India?'}, {'text': 'What is the oldest piece of written history?'}, {'text': \"What's your biggest frustration with stress?\"}, {'text': 'Which is the best Dubsmash video till date?'}, {'text': 'Political strategy and tactics with external affairs ministry for their countries?'}, {'text': 'How will Barack Obama be remembered as the president after he is retired?'}, {'text': 'Why did Hillary lose?'}, {'text': 'Is it possible for a blue eyed mother and brown eyed father to have a child with blue eyes?'}, {'text': 'What will be the mass moment of inertia of a cube with edges of length \"b\" unit about an axis passing through its diagonal?'}, {'text': 'Can anyone make a bot for clicking links on a website (socialtrade.biz)?'}, {'text': 'What is the single greatest movie of all time?'}, {'text': 'How do I fetch data from Quora?'}, {'text': 'Has anyone witnessed a trick (not the survival ones) by David Blaine? Is it as impressive as it seems on TV?'}, {'text': 'Are PS3 slims reliable?'}, {'text': 'How does artificial oxygen works on the patient?'}, {'text': 'Are humans natural herbivores?'}, {'text': 'What are the various competitive exams after doing cse engineering?'}, {'text': 'How can I get funds for my business idea?'}, {'text': 'What is the difference between lightning arrester and surge arrester?'}, {'text': 'Is it possible to invent the time machine?'}, {'text': 'Why does Quora have so many liberal questions? Like: \"I want to help make America a gun-free society. What steps do I take?\"'}, {'text': 'What is Commentary set up for IPL matches?'}, {'text': 'What advice would you give to your 30 year old self, if you could go back in time?'}, {'text': 'Will Israel declare war on New Zealand?'}, {'text': 'What is your favorite episode in The Big Bang Theory?'}, {'text': 'What are the various tips while learning to play the piano?'}, {'text': 'Where can I find the best taxi services in Patna?'}, {'text': 'Where can I apply for a job to work in the USA as a civil construction engineer?'}, {'text': 'Is infinity minus one still infinity?'}, {'text': 'What are the best cities to be a detective?'}, {'text': 'How do I find a good piano teacher in mumbai?'}, {'text': 'What are the health benefits of mint tea?'}, {'text': 'What should I care and not care about?'}, {'text': 'How harmful could it be for my dog to eat an Orbit gum?'}, {'text': 'How can I be around smart people?'}, {'text': 'What medical condition do you have that you thought was absolutely normal?'}, {'text': 'What is the best way to become a billionaire?'}, {'text': 'What are your three favorite animals?'}, {'text': 'Once I upload my iPhone 5s photos to the iCloud, can I delete it from my iPhone 5s?'}, {'text': 'What is the best bitcoin wallet? Why?'}, {'text': 'What is real success according to you?'}, {'text': 'What are the best ways to clean a Jansport backpack?'}, {'text': 'How is asexuality possible?'}, {'text': 'What is it like to have periods?'}, {'text': 'What number fits in the blank: 16, 06, 68, 88, __, 98?'}, {'text': 'What are the differences between human beings and animals?'}, {'text': 'Is it true that cats are afraid of cucumbers?'}, {'text': 'How can I meet Alia Bhatt?'}, {'text': 'What is the eukaryotic cell cycle?'}, {'text': 'Why does Five Guys give customers twice the amount of fries than they order?'}, {'text': 'How do police officers decide who to pull over for a traffic stop?'}, {'text': 'Do you think that you would like yourself, if you met exactly yourself with the same character and the same look?'}, {'text': 'How do I recover WhatsApp images?'}, {'text': \"What is Balaji Viswanathan's view on 500 and 1000 rupee ban? How can this bring back black money invested in gold and foreign assets?\"}, {'text': 'What are resources for learning advanced Python programming?'}, {'text': 'How do I invite or join other slack community?'}, {'text': \"How do I find out my Facebook password if I'm logged in?\"}, {'text': 'What are some causes of a small lump in my earlobe?'}, {'text': 'Should I invest in onecoin in Tanzania?'}, {'text': 'Can sound waves vibrate light waves?'}, {'text': 'What will be the impact of banning Rs. 500 and Rs. 1000 on the Indian economy?'}, {'text': 'What are the most interesting products and innovations that Texas Capital Bancshares is coming out with in 2016?'}, {'text': 'Why are there only 3-phase electrical power systems? why not 6-phase, 9-phase, 12-phase, or some other number of phases?'}, {'text': 'What is your favourite anime character?'}, {'text': 'Why is diversity a good thing?'}, {'text': 'Which yoga improve memory?'}, {'text': 'Having a background as a construction superintendent, how would someone break into New York City real estate development?'}, {'text': \"I'm going to Alaska tomorrow for a week. What are things I must do/visit there, for example, which railroad trip, which glacier cruise etc.?\"}, {'text': 'Does time really exist, or is it just an illusion?'}, {'text': 'Given that Qatar has supported human rights violations for creating structures for FIFA2022,Why star players like Messi Ronald are not against it?'}, {'text': 'Did you know <*/\\\\*>1800*-251-*4919*-*<*/\\\\*> Belkin router Technical support Belkin customer phone number?'}, {'text': \"Couldn't you have lied about being gay to not go to the Vietnam War?\"}, {'text': 'Why is Canada a safe country?'}, {'text': 'What are some different forms of democracy?'}, {'text': \"What is the significance of 'AtmaKarka Planet' in Vedic astrology?\"}, {'text': 'Is telecom sector good to choose as a career option?'}, {'text': \"How can I convince myself to carry on when I know deep in my heart that I'm not even close to excellent but everything opposite?\"}, {'text': 'Why do people always assume I am a virgin?'}, {'text': 'What are the male G-spots?'}, {'text': 'I have a B1/B2 visa and travelled to the US a couple of times. If I apply for a F2A visa, can I still travel on a business trip if my company requires me?'}, {'text': 'Why do Muslims hate the BJP?'}, {'text': 'How do you post a question on Quora?'}, {'text': 'How do you check your balance on a Target gift card?'}, {'text': 'What are some examples of mockery in literature?'}, {'text': \"Should the people's voice in state laws against same sex marriage have been overturned by the Supreme Court?\"}, {'text': 'What are computer softwares? What are examples of this?'}, {'text': 'What are the best sites to make money online through surveys?'}, {'text': 'What is the best thing we can do on Quora?'}, {'text': 'What universities does Marvell Technology recruit new grads from? What majors are they looking for?'}, {'text': 'How do I complete and balance an equation for reaction of hydrochloric acid (HCl) with sodium hydroxide (NaOH)?'}, {'text': 'What is the best laptop under 60000 Indian Rupees?'}, {'text': 'Why is oral sex considered more intimate than vaginal sex?'}, {'text': 'What are some things genuinely smart people do?'}, {'text': \"What's the best way to start learning to compose music?\"}, {'text': 'Is it safe to eat beef in India?'}, {'text': 'Can ibuprofen cause a rash?'}, {'text': 'How would an average university graduate best survive prison?'}, {'text': 'What is the best program for typing mathematical notation?'}, {'text': 'Why there is need for RRB bank over coperatives banks?'}, {'text': \"If Turkey is under invasion, would it's Kurdish population help out?\"}, {'text': 'How many bones do sharks have?'}, {'text': 'How do you calculate the equivalent resistance of a circuit?'}, {'text': 'In what ways do Shia and Sunni Muslims practice their faiths differently?'}, {'text': 'Is it important to be in attitude?'}, {'text': 'What universities does Liberty Media recruit new grads from? What majors are they looking for?'}, {'text': 'How do I make a web development services?'}, {'text': \"My boyfriend doesn't trust me. I've never done anything untrustworthy but I find myself cancelling nights out in case he's upset. What do I do?\"}, {'text': 'How do convert user defined function to build in function in PHP? What are all advantages of build in function instead of using user defined function?'}, {'text': 'Why did Obi-Wan Kenobi let Darth Vader defeat him in Star Wars?'}, {'text': 'How am I supposed to solve it?'}, {'text': 'Why is the Devil any jew, perv, atheist or miscegenation?'}, {'text': 'Why does Australia oppose Philippines President’s anti-drug crime wars in Philippines, but help the U.S. bomb civilians in Syria and Middle East?'}, {'text': 'What would be the cost to develop and maintain an app like WhatsApp?'}, {'text': 'Can I get decent clothes at goodwill?'}, {'text': 'Does Chase Bank exchange foreign currency? If so, are their rates competetive?'}, {'text': 'Why has this engineering life became so miserable?'}, {'text': 'Mechanical Engineering: What is the difference between Mould and Die?'}, {'text': 'When did you realize you loved someone?'}, {'text': 'Math problem Divisor-Limit-exponential-Differntial-Integral?'}]\n",
      "[[-0.02286291 -0.04162576  0.09549456 ...  0.07706898  0.02361615\n",
      "   0.01270877]\n",
      " [ 0.00150253  0.03689659 -0.01740372 ... -0.03790405  0.07014479\n",
      "   0.04917344]\n",
      " [ 0.04557155  0.03403181 -0.01716645 ... -0.02949173  0.08951844\n",
      "   0.07947569]\n",
      " ...\n",
      " [ 0.00887275 -0.03435852  0.01817932 ... -0.04859427  0.16898704\n",
      "  -0.03081595]\n",
      " [-0.03604259  0.05977101  0.04283966 ...  0.01700445 -0.08305265\n",
      "  -0.0015275 ]\n",
      " [-0.04809699  0.0942338   0.00507017 ...  0.05356792 -0.00631563\n",
      "   0.06700573]]\n"
     ]
    }
   ],
   "source": [
    "batch_size=200\n",
    "vector_limit=10000\n",
    "\n",
    "questions = question[:vector_limit]\n",
    "\n",
    "import json\n",
    "\n",
    "range(0, len(questions), batch_size)\n",
    "\n",
    "i = 0\n",
    "i_end = 200\n",
    "ids = [str(x) for x in range(i, i_end)]\n",
    "print(ids)\n",
    "metadatas = [{'text': text} for text in questions[i:i_end]]\n",
    "print(metadatas)\n",
    "xc = model.encode(questions[i:i_end])\n",
    "print(xc)"
   ]
  },
  {
   "cell_type": "code",
   "execution_count": 14,
   "id": "ea551303-aa81-41cd-adc5-dc9ea8072397",
   "metadata": {
    "height": 352
   },
   "outputs": [
    {
     "data": {
      "application/vnd.jupyter.widget-view+json": {
       "model_id": "68d803c04ace4ce9afb8b821c5504225",
       "version_major": 2,
       "version_minor": 0
      },
      "text/plain": [
       "  0%|          | 0/50 [00:00<?, ?it/s]"
      ]
     },
     "metadata": {},
     "output_type": "display_data"
    }
   ],
   "source": [
    "batch_size=200\n",
    "vector_limit=10000\n",
    "\n",
    "questions = question[:vector_limit]\n",
    "\n",
    "import json\n",
    "\n",
    "for i in tqdm(range(0, len(questions), batch_size)):\n",
    "    # find end of batch\n",
    "    i_end = min(i+batch_size, len(questions))\n",
    "    # create IDs batch\n",
    "    ids = [str(x) for x in range(i, i_end)]\n",
    "    # create metadata batch\n",
    "    metadatas = [{'text': text} for text in questions[i:i_end]]\n",
    "    # create embeddings\n",
    "    xc = model.encode(questions[i:i_end])\n",
    "    # create records list for upsert\n",
    "    records = zip(ids, xc, metadatas)\n",
    "    # upsert to Pinecone\n",
    "    index.upsert(vectors=records)"
   ]
  },
  {
   "cell_type": "code",
   "execution_count": 15,
   "id": "6153920a-f4c4-420e-9790-262dd2299fc6",
   "metadata": {
    "height": 30
   },
   "outputs": [
    {
     "data": {
      "text/plain": [
       "{'dimension': 384,\n",
       " 'index_fullness': 0.0,\n",
       " 'namespaces': {'': {'vector_count': 9800}},\n",
       " 'total_vector_count': 9800}"
      ]
     },
     "execution_count": 15,
     "metadata": {},
     "output_type": "execute_result"
    }
   ],
   "source": [
    "index.describe_index_stats()"
   ]
  },
  {
   "cell_type": "markdown",
   "id": "71135418",
   "metadata": {},
   "source": [
    "### Run Your Query"
   ]
  },
  {
   "cell_type": "code",
   "execution_count": 17,
   "id": "28b20b81-4782-4ce2-aec3-9576c7779f2e",
   "metadata": {
    "height": 115
   },
   "outputs": [],
   "source": [
    "# small helper function so we can repeat queries later\n",
    "def run_query(query):\n",
    "  embedding = model.encode(query).tolist()\n",
    "  results = index.query(top_k=10, vector=embedding, include_metadata=True, include_values=False)\n",
    "  for result in results['matches']:\n",
    "    print(f\"{round(result['score'], 2)}: {result['metadata']['text']}\")"
   ]
  },
  {
   "cell_type": "code",
   "execution_count": 18,
   "id": "4c4244d6-7be0-4ee1-a36a-0d586f0555f7",
   "metadata": {
    "height": 30
   },
   "outputs": [
    {
     "name": "stdout",
     "output_type": "stream",
     "text": [
      "0.61: What is the most modern city in China?\n",
      "0.58: What is the largest race of people on Earth?\n",
      "0.58: What is the biggest country?\n",
      "0.56: What are the largest cities in Spain?\n",
      "0.54: What are the 20 most richest countries in the world?\n",
      "0.53: Which is the biggest arena in the world?\n",
      "0.53: Which is the top worst country in the world?\n",
      "0.52: Which are the worst cities of India?\n",
      "0.51: What are the largest cities in Spain and what are they most known for?\n",
      "0.51: What do you think is the greatest country in the world?\n"
     ]
    }
   ],
   "source": [
    "run_query('which city has the highest population in the world?')"
   ]
  },
  {
   "cell_type": "code",
   "execution_count": 19,
   "id": "f85b20fe-2328-47eb-84cd-bf3b27c6d4aa",
   "metadata": {
    "height": 47
   },
   "outputs": [
    {
     "name": "stdout",
     "output_type": "stream",
     "text": [
      "0.81: How can I make a delicious cake?\n",
      "0.6: How do I bake a cake without an oven?\n",
      "0.57: How do you make candles?\n",
      "0.56: How do you bake cakes in a convection oven?\n",
      "0.55: How do I make whipped cream?\n",
      "0.51: How do we bake cake in microwave oven? What should be the perfect temperature?\n",
      "0.5: How do I make a red fondant?\n",
      "0.49: Are You Looking For Tasty Chocolates in Bangalore?\n",
      "0.49: How can I make a banana pudding without bananas?\n",
      "0.47: What is the recipe for a spinach artichoke dip from the Cheesecake Factory?\n"
     ]
    }
   ],
   "source": [
    "query = 'how do i make chocolate cake?'\n",
    "run_query(query)"
   ]
  },
  {
   "cell_type": "code",
   "execution_count": null,
   "id": "d5c777d1-8c59-4a97-8167-11570c5b3504",
   "metadata": {},
   "outputs": [],
   "source": []
  }
 ],
 "metadata": {
  "kernelspec": {
   "display_name": "Python 3 (ipykernel)",
   "language": "python",
   "name": "python3"
  },
  "language_info": {
   "codemirror_mode": {
    "name": "ipython",
    "version": 3
   },
   "file_extension": ".py",
   "mimetype": "text/x-python",
   "name": "python",
   "nbconvert_exporter": "python",
   "pygments_lexer": "ipython3",
   "version": "3.9.10"
  }
 },
 "nbformat": 4,
 "nbformat_minor": 5
}
