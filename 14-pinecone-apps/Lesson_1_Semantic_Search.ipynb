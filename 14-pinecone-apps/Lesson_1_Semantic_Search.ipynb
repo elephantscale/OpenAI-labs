{
 "cells": [
  {
   "cell_type": "markdown",
   "id": "77448887-ed71-48e1-bf0d-2ff499d0c7ca",
   "metadata": {},
   "source": [
    "# Lesson 1 - Semantic Search"
   ]
  },
  {
   "cell_type": "markdown",
   "id": "750cd7dd",
   "metadata": {},
   "source": [
    "### Import the Needed Packages"
   ]
  },
  {
   "cell_type": "code",
   "execution_count": 1,
   "id": "809aa032-d737-450d-aafa-e32bfba9d8f8",
   "metadata": {
    "height": 47
   },
   "outputs": [],
   "source": [
    "import warnings\n",
    "warnings.filterwarnings('ignore')"
   ]
  },
  {
   "cell_type": "code",
   "execution_count": 2,
   "id": "30698fb9-4709-4088-9905-9ccb4efd5e09",
   "metadata": {
    "height": 166
   },
   "outputs": [],
   "source": [
    "from datasets import load_dataset\n",
    "from sentence_transformers import SentenceTransformer\n",
    "\n",
    "from DLAIUtils import Utils\n",
    "import DLAIUtils\n",
    "\n",
    "import os\n",
    "import time\n",
    "import torch"
   ]
  },
  {
   "cell_type": "code",
   "execution_count": 3,
   "id": "b5f42878-9177-438f-8c8a-2e1762c13b51",
   "metadata": {},
   "outputs": [],
   "source": [
    "from pinecone import Pinecone, ServerlessSpec"
   ]
  },
  {
   "cell_type": "code",
   "execution_count": 4,
   "id": "8ab484bb-3bfb-4c52-a5bd-bcbe4a7a63d2",
   "metadata": {
    "height": 30
   },
   "outputs": [],
   "source": [
    "from tqdm.auto import tqdm"
   ]
  },
  {
   "cell_type": "markdown",
   "id": "ba92fc2d",
   "metadata": {},
   "source": [
    "### Load the Dataset"
   ]
  },
  {
   "cell_type": "code",
   "execution_count": 7,
   "id": "ce859e4b-9b50-4f53-b357-28d3e3872c87",
   "metadata": {
    "height": 30
   },
   "outputs": [
    {
     "name": "stderr",
     "output_type": "stream",
     "text": [
      "Found cached dataset quora (/home/mark/.cache/huggingface/datasets/quora/default/0.0.0/36ba4cd42107f051a158016f1bea6ae3f4685c5df843529108a54e42d86c1e04)\n"
     ]
    }
   ],
   "source": [
    "dataset = load_dataset('quora', split='train[240000:290000]')"
   ]
  },
  {
   "cell_type": "code",
   "execution_count": 8,
   "id": "356d4112-fa51-4092-9841-8b266e3b6a2c",
   "metadata": {
    "height": 30
   },
   "outputs": [
    {
     "data": {
      "text/plain": [
       "{'questions': [{'id': [207550, 351729],\n",
       "   'text': ['What is the truth of life?', \"What's the evil truth of life?\"]},\n",
       "  {'id': [33183, 351730],\n",
       "   'text': ['Which is the best smartphone under 20K in India?',\n",
       "    'Which is the best smartphone with in 20k in India?']},\n",
       "  {'id': [351731, 351732],\n",
       "   'text': ['Steps taken by Canadian government to improve literacy rate?',\n",
       "    'Can I send homemade herbal hair oil from India to US via postal or private courier services?']},\n",
       "  {'id': [37799, 94186],\n",
       "   'text': ['What is a good way to lose 30 pounds in 2 months?',\n",
       "    'What can I do to lose 30 pounds in 2 months?']},\n",
       "  {'id': [351733, 351734],\n",
       "   'text': ['Which of the following most accurately describes the translation of the graph y = (x+3)^2 -2 to the graph of y = (x -2)^2 +2?',\n",
       "    'How do you graph x + 2y = -2?']}],\n",
       " 'is_duplicate': [False, True, False, True, False]}"
      ]
     },
     "execution_count": 8,
     "metadata": {},
     "output_type": "execute_result"
    }
   ],
   "source": [
    "dataset[:5]"
   ]
  },
  {
   "cell_type": "code",
   "execution_count": 9,
   "id": "332d1241-61ae-4d09-bf46-52081c133c0c",
   "metadata": {
    "height": 132
   },
   "outputs": [
    {
     "name": "stdout",
     "output_type": "stream",
     "text": [
      "What is the truth of life?\n",
      "What's the evil truth of life?\n",
      "Which is the best smartphone under 20K in India?\n",
      "Which is the best smartphone with in 20k in India?\n",
      "Steps taken by Canadian government to improve literacy rate?\n",
      "Can I send homemade herbal hair oil from India to US via postal or private courier services?\n",
      "What is a good way to lose 30 pounds in 2 months?\n",
      "What can I do to lose 30 pounds in 2 months?\n",
      "Which of the following most accurately describes the translation of the graph y = (x+3)^2 -2 to the graph of y = (x -2)^2 +2?\n",
      "How do you graph x + 2y = -2?\n",
      "--------------------------------------------------\n",
      "Number of questions: 100000\n"
     ]
    }
   ],
   "source": [
    "questions = []\n",
    "for record in dataset['questions']:\n",
    "    questions.extend(record['text'])\n",
    "question = list(set(questions))\n",
    "print('\\n'.join(questions[:10]))\n",
    "print('-' * 50)\n",
    "print(f'Number of questions: {len(questions)}')"
   ]
  },
  {
   "cell_type": "markdown",
   "id": "ab3c0402",
   "metadata": {},
   "source": [
    "### Check cuda and Setup the model\n",
    "\n",
    "**Note**: \"Checking cuda\" refers to checking if you have access to GPUs (faster compute). In this course, we are using CPUs. So, you might notice some code cells taking a little longer to run.\n",
    "\n",
    "We are using *all-MiniLM-L6-v2* sentence-transformers model that maps sentences to a 384 dimensional dense vector space."
   ]
  },
  {
   "cell_type": "code",
   "execution_count": 11,
   "id": "5fb67759-ab38-4472-bfb0-4a56d1c05955",
   "metadata": {
    "height": 81
   },
   "outputs": [
    {
     "name": "stdout",
     "output_type": "stream",
     "text": [
      "Sorry no cuda.\n"
     ]
    }
   ],
   "source": [
    "device = 'cuda' if torch.cuda.is_available() else 'cpu'\n",
    "if device != 'cuda':\n",
    "    print('Sorry no cuda.')\n",
    "model = SentenceTransformer('all-MiniLM-L6-v2', device=device)"
   ]
  },
  {
   "cell_type": "code",
   "execution_count": 12,
   "id": "d90ec5ec-5397-4ed5-8163-7a901b6ecb0c",
   "metadata": {
    "height": 64
   },
   "outputs": [
    {
     "data": {
      "text/plain": [
       "(384,)"
      ]
     },
     "execution_count": 12,
     "metadata": {},
     "output_type": "execute_result"
    }
   ],
   "source": [
    "query = 'which city is the most populated in the world?'\n",
    "xq = model.encode(query)\n",
    "xq.shape"
   ]
  },
  {
   "cell_type": "markdown",
   "id": "1780a189",
   "metadata": {},
   "source": [
    "### Setup Pinecone"
   ]
  },
  {
   "cell_type": "code",
   "execution_count": 15,
   "id": "b3e3a94e-127f-4667-a9ae-7a17d7304ee6",
   "metadata": {
    "height": 43
   },
   "outputs": [],
   "source": [
    "utils = Utils()\n",
    "PINECONE_API_KEY = utils.get_pinecone_api_key()"
   ]
  },
  {
   "cell_type": "code",
   "execution_count": 16,
   "id": "17a75eca-60f0-478b-bdcf-b68732c1545d",
   "metadata": {
    "height": 200
   },
   "outputs": [
    {
     "name": "stdout",
     "output_type": "stream",
     "text": [
      "dl-ai-jhrozxrjt3blbkfjdwi3lpfzexs1ln3fpdtw\n",
      "<pinecone.data.index.Index object at 0x7fb7e683c1c0>\n"
     ]
    }
   ],
   "source": [
    "pinecone = Pinecone(api_key=PINECONE_API_KEY)\n",
    "INDEX_NAME = utils.create_dlai_index_name('dl-ai')\n",
    "\n",
    "if INDEX_NAME in [index.name for index in pinecone.list_indexes()]:\n",
    "    pinecone.delete_index(INDEX_NAME)\n",
    "print(INDEX_NAME)\n",
    "pinecone.create_index(name=INDEX_NAME, \n",
    "    dimension=model.get_sentence_embedding_dimension(), \n",
    "    metric='cosine',\n",
    "    spec=ServerlessSpec(cloud='aws', region='us-west-2'))\n",
    "\n",
    "index = pinecone.Index(INDEX_NAME)\n",
    "print(index)"
   ]
  },
  {
   "cell_type": "markdown",
   "id": "d88d9424",
   "metadata": {},
   "source": [
    "### Create Embeddings and Upsert to Pinecone"
   ]
  },
  {
   "cell_type": "code",
   "execution_count": 17,
   "id": "8c42d631-fcff-4209-ba29-ae36759c2797",
   "metadata": {},
   "outputs": [
    {
     "name": "stdout",
     "output_type": "stream",
     "text": [
      "['0', '1', '2', '3', '4', '5', '6', '7', '8', '9', '10', '11', '12', '13', '14', '15', '16', '17', '18', '19', '20', '21', '22', '23', '24', '25', '26', '27', '28', '29', '30', '31', '32', '33', '34', '35', '36', '37', '38', '39', '40', '41', '42', '43', '44', '45', '46', '47', '48', '49', '50', '51', '52', '53', '54', '55', '56', '57', '58', '59', '60', '61', '62', '63', '64', '65', '66', '67', '68', '69', '70', '71', '72', '73', '74', '75', '76', '77', '78', '79', '80', '81', '82', '83', '84', '85', '86', '87', '88', '89', '90', '91', '92', '93', '94', '95', '96', '97', '98', '99', '100', '101', '102', '103', '104', '105', '106', '107', '108', '109', '110', '111', '112', '113', '114', '115', '116', '117', '118', '119', '120', '121', '122', '123', '124', '125', '126', '127', '128', '129', '130', '131', '132', '133', '134', '135', '136', '137', '138', '139', '140', '141', '142', '143', '144', '145', '146', '147', '148', '149', '150', '151', '152', '153', '154', '155', '156', '157', '158', '159', '160', '161', '162', '163', '164', '165', '166', '167', '168', '169', '170', '171', '172', '173', '174', '175', '176', '177', '178', '179', '180', '181', '182', '183', '184', '185', '186', '187', '188', '189', '190', '191', '192', '193', '194', '195', '196', '197', '198', '199']\n",
      "[{'text': \"Why is lap 1 of the 800 metres run in lane. Why don't they do it like the longer distance races and have a mass start?\"}, {'text': 'Can height of a boy who is 16 be increased?'}, {'text': 'How big is the average human head?'}, {'text': 'What happens to the blocked contacts on my WhatsApp account if I delete my account?'}, {'text': 'How do you get a girl to like you?'}, {'text': 'How much is a Lamborghini Aventador?'}, {'text': 'Why do parents allow their children to eat any junk food at all?'}, {'text': 'How can I buy penny stocks on Robinhood?'}, {'text': 'What are the strongest majors in terms of job prospects and what are the weakest majors at CMU?'}, {'text': 'What makes it easy for polyglots to learn multiple languages?'}, {'text': \"Are there a decent number of Indians on Vanderbilt's campus?\"}, {'text': 'How can I best prolong my LG Nexus 5X battery life?'}, {'text': 'Samsung Galaxy grand prime have a volte?'}, {'text': 'I have a big fat belly. Will following exercise and dieting plan for 9-12 months will help me to make my belly flat and gain some abs?'}, {'text': 'What are the capital requirements for KK and GK companies in Japan? (These have changed recently)?'}, {'text': 'How do I get over my ex-girlfriend?'}, {'text': 'What is cleanliness for you?'}, {'text': 'How do I study to become a subsea cable engineer?'}, {'text': 'Why is nasa telling lies?'}, {'text': 'Why do some Quorans not use the search function on Quora to check if their question has been asked before?'}, {'text': 'Why do I get spam emails from Groupon?'}, {'text': 'Which enzyme helps convert milk into curd?'}, {'text': 'What do Singaporean government think about Indonesian tax amnesty programs?'}, {'text': 'Do I have to cook tasajo right away or can I store it in the fridge or freezer?'}, {'text': 'What are some best psychological thriller movies?'}, {'text': \"So Sarada Uchiha isn't actually daughter of Sakura and Sasuke but of Sasuke and Karin?\"}, {'text': 'How could China be a threat to India?'}, {'text': 'What is the best way for a single woman to find a single, wealthy man that will marry her and take care of her financially (this also includes other parts of a relationship like love, trust and companionship)?'}, {'text': \"Why isn't Nikola Tesla's wireless power used today?\"}, {'text': 'How do I ask question? I cant add details more than 300 characters. And if I asked in less than 300 characters, they mark it as \"needed improvement\"?'}, {'text': 'Can a penis smell similar to a vagina?'}, {'text': 'Should I buy used clothes on eBay?'}, {'text': 'How would I measure for Griddle Plate/Teppanyaki Grill Top?'}, {'text': 'Is C++ slower than C?'}, {'text': 'Why does people who live in space age more slowly?'}, {'text': 'What is Twitter Jail?'}, {'text': 'What are pathogens? What are some examples?'}, {'text': 'What is the best way to learn computer programming in any language?'}, {'text': 'I am 46 years old with a height of 184 cm. I weigh 110 kgs. What is the genuine method for weight reduction? What medicine can I take?'}, {'text': 'Which are the best Hindi (Bollywood) romantic songs for a couple dance?'}, {'text': 'What is the best thing about having siblings?'}, {'text': 'I am in eighth grade and I got a 1700+ on my lexile test. Is this good or bad and what does it mean?'}, {'text': 'What are the best places in South America?'}, {'text': 'What is basic difference between biotechnology and biochemistry?'}, {'text': 'What are some things you can experience only in Pakistan and nowhere else?'}, {'text': 'Are we self-conscious?'}, {'text': 'What all places can one visit on a two day trip in Kerala, India?'}, {'text': 'What are the important and required classes & interface of Java.util.concurrent pkg for Java programmer?'}, {'text': \"I am friends with a girl, she is out of my league but I have now developed feelings for her, what should I do, I don't want to ruin our friendship?\"}, {'text': 'Is integral calculus used in psychology?'}, {'text': 'What are examples of non metallic minerals and what are their uses?'}, {'text': 'On login in SBI online it says \"session expired\", and I have to login a second time, which works. Do you have an idea why this happens several times?'}, {'text': 'Could the US military successfully occupy the United States homeland given a hostile population?'}, {'text': 'What is the best way to deactivate a Glock?'}, {'text': 'Can digital logical superposition be achieved independently of quantum superposition? If not, why not?'}, {'text': 'What is the tax system like in India?'}, {'text': 'What does cold-hearted mean?'}, {'text': \"What was Eli Whitney's perspective of government?\"}, {'text': 'My husband always says that no one can love a person more than his mother, and it really makes me feel bad, what should I do? Is he right?'}, {'text': 'How do I tell if a girl I sit next to likes me?'}, {'text': 'Which is the best IAS coaching institute in Nagpur?'}, {'text': 'How can I upload music on YouTube without getting copyright infringement?'}, {'text': 'How can I get rid of tiny black bugs in my bed?'}, {'text': 'What is a good summary of \"The Storyteller\" novel?'}, {'text': 'What is the embarrassing of your life?'}, {'text': 'Where is Arnab Goswami these days?'}, {'text': 'Why does America have the most unsafe cities in the world?'}, {'text': 'Where can I find fuck buddies in Delhi?'}, {'text': 'What can a Chinese speaker do to become fluent in English?'}, {'text': \"For whom I'm a affiliate in Amazon? For a specific seller, for a category of product like fashion and clothing or for a kind of product like t-shirt?\"}, {'text': 'Is dancing a sport?'}, {'text': 'How do you add topics on Quora?'}, {'text': 'Why does light have a dual nature?'}, {'text': 'Chinese Food: Why do Asians eat shark fin soup?'}, {'text': 'What is the best way to live your life?'}, {'text': 'What is the best way for short term investment?'}, {'text': 'What is a capital call?'}, {'text': \"I'm nearsighted. Is there any effective exercise or some natural way to improve the sight?\"}, {'text': 'Would you kickstart this?'}, {'text': 'What percentage of profits do publishing companies take to publish a book?'}, {'text': 'Social security numbers. Does this happen in the USA? SS number from a dead person paired with a new name, sometimes of a living person?'}, {'text': 'What is the treatment of stretch marks?'}, {'text': 'Was lord Krishna Rajput or Yadav?'}, {'text': 'How did you move to Japan?'}, {'text': 'What does life after death look like?'}, {'text': 'How do I make a career in animation?'}, {'text': 'How do I send a music file or clip to Facebook or by iPhone?'}, {'text': 'How will the devaluation of the yuan affect India?'}, {'text': 'What is the best programming language nowadays?'}, {'text': 'What is the worst moment in MS Dhoni: The Untold Story?'}, {'text': 'Which is the best book with which I can prepare for GRE exams..?'}, {'text': 'What kind of flooring is this?'}, {'text': 'Can I make 800,000 a year betting on horses if I follow a system and study hard?'}, {'text': 'I booked a railway ticket with Booking status as \"PQWL/3\" and the Current Status showing is \"CNF\".. What does this mean?'}, {'text': 'What does canon mean?'}, {'text': 'How is pure oxygen obtained from the air?'}, {'text': 'Does Brazil have any desert?'}, {'text': 'Is there any alternative to TOI ePaper?'}, {'text': \"Why won't instagram render my video?\"}, {'text': 'What happens if an engineering college refuses to follow government order in India?'}, {'text': 'Which is the best hair salon in vadodara for men?'}, {'text': 'Has anyone ever successfully snuck into area 51?'}, {'text': 'What is all the hype about around Sairat?'}, {'text': 'What is this lump over my dogs eye?'}, {'text': 'Can a girl become pregnant even without insertion of Penis into the vagina?'}, {'text': 'What medical condition do you have that you thought was absolutely normal?'}, {'text': 'Is it possible to score 600+ in Neet 2017 for a dropper in 8 months?'}, {'text': 'Do employees at Nordic American Offshore have a good work-life balance? Does this differ across positions and departments?'}, {'text': 'What led to the US invading Iraq in 2003?'}, {'text': 'What is the exact difference between programming languages and scripting languages and their types and their real time applications?'}, {'text': 'How difficult is it to set up your own coaching institutes? What are the challenges? What can lead it to be a failure or a success?'}, {'text': \"What should I do if I have an app idea but don't know how to code it?\"}, {'text': 'Do Americans worry about getting shot, given that the US has a high rate of gun crime compared to other developed countries?'}, {'text': 'What are the best GMAT coaching institutes in guwahati?'}, {'text': 'What is the best way to learn programming and algorithms?'}, {'text': 'Am I too thin?'}, {'text': 'What are companies in San Francisco that hire international employees?'}, {'text': 'What does NC-17 mean?'}, {'text': 'How do I become car designer after mechanical engineering?'}, {'text': 'What is the best PC setup for YouTube gaming videos?'}, {'text': 'How do I know that a person is lying to me?'}, {'text': 'What is asexuality?'}, {'text': 'What can I do to earn some money by online work while continuing my college?'}, {'text': 'What are some great substitutes for corn oil?'}, {'text': 'On Snapchat, how do I know if someone deleted me / removed me?'}, {'text': 'Do women prefer circumference or length in penis?'}, {'text': 'How do I deal with an annoying roommate?'}, {'text': 'Where can I do paragliding in Chennai?'}, {'text': 'Do you believe in ghosts?'}, {'text': 'How do I start a podcast network in India?'}, {'text': 'Why do some people consider Jimmy Carter one of our worst presidents?'}, {'text': 'Who is the next president of America?'}, {'text': 'What is the best way to teach beginners how to play a flute?'}, {'text': 'What does Queen Elizabeth do?'}, {'text': 'Will changing currency notes really work? Because most people in India would have changed their money into gold or other material items.'}, {'text': 'What is the biggest issue you have when trying to sell a classic or unique car?'}, {'text': 'What is the death penalty?'}, {'text': 'Why is the Dakota Access Pipeline going forward?'}, {'text': 'Which is the best trading strategy on Forex?'}, {'text': 'Why are non polar compounds insoluble in water?'}, {'text': 'Why did Amartya Sen get a Nobel Prize?'}, {'text': 'Why do so many people prefer to ask questions on here and wait for an answer rather than type one or two words in a search engine?'}, {'text': 'How do I find where am i lagging in SSB ? How do I self introspect ? Please read the details and help me.'}, {'text': 'What does it take for a successful long distance relationship?'}, {'text': 'Why is o-methyl benzoic acid more acidic than p-methyl benzoic acid?'}, {'text': 'How do I change my life by the \"20 minutes rule\"?'}, {'text': 'Ultimate teen patti hacker?'}, {'text': 'Tressury office Bhubaneswar No II OLA Campus which one?'}, {'text': 'Why do people associate emotions with the heart?'}, {'text': 'Who should regularly visit a gynecologist?'}, {'text': 'Campaign email marketing solution?'}, {'text': 'What are some major social faux pas to avoid when visiting Somalia?'}, {'text': 'What trivia (and/or little-known facts) do you find interesting about Romania?'}, {'text': 'Do women prefer shorter men than them?'}, {'text': 'How can I get my 13-year-old daughter to step out of the house?'}, {'text': 'How do I get more plays on SoundCloud?'}, {'text': \"Can I ask my company to apply for a green card even if I don't have an H1B?\"}, {'text': 'Is the Carbonaro Effect racist, especially towards Black people?'}, {'text': 'Why does it seem like Trump is doing everything possible to lose the election?'}, {'text': 'Which is a suitable inpatient drug and alcohol rehab center in Stephens County GA?'}, {'text': 'In Java, what is Coordinated Omission?'}, {'text': 'How can I read all the messages in my device inbox using Cordova?'}, {'text': 'Which country is known for beautiful people?'}, {'text': 'What was the fall of the Islamic empire?'}, {'text': \"Why can't I browse using Jio?\"}, {'text': 'What are the best books for IIT-JAM mathematics?'}, {'text': 'What is the best way to keep a relationship fresh?'}, {'text': 'What does the average Australian think of the average Indonesian?'}, {'text': 'What is thinking out of the box for you?'}, {'text': 'How can I fix a damaged friendship?'}, {'text': 'What are some life changing events?'}, {'text': 'What do astronauts do if they have to make a poo while walking on the moon?'}, {'text': 'What do you think of Magnus Carlsen?'}, {'text': \"Why we can't divide a number by zero?\"}, {'text': 'How will banning ₹1000 and ₹500 notes affect those who have money in Swiss bank accounts?'}, {'text': 'What is the effective way to get taller at age of 20?'}, {'text': 'What is Kim Kardashian known for?'}, {'text': 'Which was the best porn video you have ever seen? Why was that the best one?'}, {'text': 'Is this phrase a metaphor?'}, {'text': 'Is there any way of knowing the value of Sarawak dollars today?'}, {'text': 'Does a soul really exist? What is the psychology behind it?'}, {'text': 'Can a person change from being introvert to extrovert?'}, {'text': 'How can I get prepared for the IBM P2065-036 exam?'}, {'text': 'Which bank takes less commission on Demand Draft?'}, {'text': 'Is Humble Bundle legit or a scam?'}, {'text': 'What is the prevalent language in India today?'}, {'text': 'Why are American Football and Hockey a little bit of a violent sport?'}, {'text': 'What is it like working at Saudi Airlines?'}, {'text': 'How do I understand the time value of money?'}, {'text': 'What are the best travel hacks to travel cheap around the world?'}, {'text': 'How can I gain weight naturally?'}, {'text': 'How do I increase blood circulation in my head?'}, {'text': 'How should I prepare right from first year to crack Google Summer Of Code?'}, {'text': 'Which are the best young adult novels/films?'}, {'text': 'Is time per se changeable?'}, {'text': \"Why can't programming languages be written in plain English?\"}, {'text': 'How should I kiss my girlfriend for the first time?'}, {'text': 'How do I stop feeling insecure?'}, {'text': 'What is your opinion of Aishwarya Rai as an actress?'}, {'text': 'Why is it that most of the people in South India can speak Hindi reasonably well, but same is not the case with North Indians attempting to learn South Indian languages?'}]\n",
      "[[ 0.063047    0.02929054  0.02760387 ... -0.0168002   0.05031554\n",
      "   0.00812063]\n",
      " [ 0.03208162  0.11836429 -0.07364286 ... -0.03166131  0.07657916\n",
      "  -0.03164839]\n",
      " [ 0.09555955  0.05429206  0.0099686  ...  0.01126493  0.0007135\n",
      "  -0.00408397]\n",
      " ...\n",
      " [ 0.05786664 -0.01691502 -0.01516327 ...  0.00086557 -0.07957786\n",
      "  -0.02118368]\n",
      " [ 0.03345308 -0.06164644 -0.01506111 ... -0.05541055  0.00573143\n",
      "   0.00623547]\n",
      " [ 0.07620186 -0.03859199 -0.02619105 ...  0.09297283 -0.0443238\n",
      "   0.05353086]]\n"
     ]
    }
   ],
   "source": [
    "batch_size=200\n",
    "vector_limit=10000\n",
    "\n",
    "questions = question[:vector_limit]\n",
    "\n",
    "import json\n",
    "\n",
    "range(0, len(questions), batch_size)\n",
    "\n",
    "i = 0\n",
    "i_end = 200\n",
    "ids = [str(x) for x in range(i, i_end)]\n",
    "print(ids)\n",
    "metadatas = [{'text': text} for text in questions[i:i_end]]\n",
    "print(metadatas)\n",
    "xc = model.encode(questions[i:i_end])\n",
    "print(xc)"
   ]
  },
  {
   "cell_type": "code",
   "execution_count": 18,
   "id": "ea551303-aa81-41cd-adc5-dc9ea8072397",
   "metadata": {
    "height": 352
   },
   "outputs": [
    {
     "data": {
      "application/vnd.jupyter.widget-view+json": {
       "model_id": "8fae8471ca2140cdafbe58823c342188",
       "version_major": 2,
       "version_minor": 0
      },
      "text/plain": [
       "  0%|          | 0/50 [00:00<?, ?it/s]"
      ]
     },
     "metadata": {},
     "output_type": "display_data"
    }
   ],
   "source": [
    "batch_size=200\n",
    "vector_limit=10000\n",
    "\n",
    "questions = question[:vector_limit]\n",
    "\n",
    "import json\n",
    "\n",
    "for i in tqdm(range(0, len(questions), batch_size)):\n",
    "    # find end of batch\n",
    "    i_end = min(i+batch_size, len(questions))\n",
    "    # create IDs batch\n",
    "    ids = [str(x) for x in range(i, i_end)]\n",
    "    # create metadata batch\n",
    "    metadatas = [{'text': text} for text in questions[i:i_end]]\n",
    "    # create embeddings\n",
    "    xc = model.encode(questions[i:i_end])\n",
    "    # create records list for upsert\n",
    "    records = zip(ids, xc, metadatas)\n",
    "    # upsert to Pinecone\n",
    "    index.upsert(vectors=records)"
   ]
  },
  {
   "cell_type": "code",
   "execution_count": null,
   "id": "6153920a-f4c4-420e-9790-262dd2299fc6",
   "metadata": {
    "height": 30
   },
   "outputs": [],
   "source": [
    "index.describe_index_stats()"
   ]
  },
  {
   "cell_type": "markdown",
   "id": "71135418",
   "metadata": {},
   "source": [
    "### Run Your Query"
   ]
  },
  {
   "cell_type": "code",
   "execution_count": null,
   "id": "28b20b81-4782-4ce2-aec3-9576c7779f2e",
   "metadata": {
    "height": 115
   },
   "outputs": [],
   "source": [
    "# small helper function so we can repeat queries later\n",
    "def run_query(query):\n",
    "  embedding = model.encode(query).tolist()\n",
    "  results = index.query(top_k=10, vector=embedding, include_metadata=True, include_values=False)\n",
    "  for result in results['matches']:\n",
    "    print(f\"{round(result['score'], 2)}: {result['metadata']['text']}\")"
   ]
  },
  {
   "cell_type": "code",
   "execution_count": null,
   "id": "4c4244d6-7be0-4ee1-a36a-0d586f0555f7",
   "metadata": {
    "height": 30
   },
   "outputs": [],
   "source": [
    "run_query('which city has the highest population in the world?')"
   ]
  },
  {
   "cell_type": "code",
   "execution_count": null,
   "id": "f85b20fe-2328-47eb-84cd-bf3b27c6d4aa",
   "metadata": {
    "height": 47
   },
   "outputs": [],
   "source": [
    "query = 'how do i make chocolate cake?'\n",
    "run_query(query)"
   ]
  },
  {
   "cell_type": "code",
   "execution_count": null,
   "id": "98af4baf-c5f5-45d2-8a37-d08a6cd33656",
   "metadata": {},
   "outputs": [],
   "source": []
  },
  {
   "cell_type": "code",
   "execution_count": null,
   "id": "2f4d13f1-71fc-4472-a9f1-91d5c213c552",
   "metadata": {},
   "outputs": [],
   "source": []
  }
 ],
 "metadata": {
  "kernelspec": {
   "display_name": "Python 3 (ipykernel)",
   "language": "python",
   "name": "python3"
  },
  "language_info": {
   "codemirror_mode": {
    "name": "ipython",
    "version": 3
   },
   "file_extension": ".py",
   "mimetype": "text/x-python",
   "name": "python",
   "nbconvert_exporter": "python",
   "pygments_lexer": "ipython3",
   "version": "3.9.10"
  }
 },
 "nbformat": 4,
 "nbformat_minor": 5
}
