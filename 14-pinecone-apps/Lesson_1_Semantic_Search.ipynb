{
 "cells": [
  {
   "cell_type": "markdown",
   "id": "77448887-ed71-48e1-bf0d-2ff499d0c7ca",
   "metadata": {},
   "source": [
    "# Lesson 1 - Semantic Search"
   ]
  },
  {
   "cell_type": "markdown",
   "id": "750cd7dd",
   "metadata": {},
   "source": [
    "### Import the Needed Packages"
   ]
  },
  {
   "cell_type": "code",
   "execution_count": 1,
   "id": "809aa032-d737-450d-aafa-e32bfba9d8f8",
   "metadata": {
    "height": 47
   },
   "outputs": [],
   "source": [
    "import warnings\n",
    "warnings.filterwarnings('ignore')"
   ]
  },
  {
   "cell_type": "code",
   "execution_count": 2,
   "id": "30698fb9-4709-4088-9905-9ccb4efd5e09",
   "metadata": {
    "height": 166
   },
   "outputs": [],
   "source": [
    "from datasets import load_dataset\n",
    "from sentence_transformers import SentenceTransformer\n",
    "\n",
    "from DLAIUtils import Utils\n",
    "import DLAIUtils\n",
    "\n",
    "import os\n",
    "import time\n",
    "import torch"
   ]
  },
  {
   "cell_type": "code",
   "execution_count": 3,
   "id": "b5f42878-9177-438f-8c8a-2e1762c13b51",
   "metadata": {},
   "outputs": [],
   "source": [
    "from pinecone import Pinecone, ServerlessSpec"
   ]
  },
  {
   "cell_type": "code",
   "execution_count": 4,
   "id": "8ab484bb-3bfb-4c52-a5bd-bcbe4a7a63d2",
   "metadata": {
    "height": 30
   },
   "outputs": [],
   "source": [
    "from tqdm.auto import tqdm"
   ]
  },
  {
   "cell_type": "markdown",
   "id": "ba92fc2d",
   "metadata": {},
   "source": [
    "### Load the Dataset"
   ]
  },
  {
   "cell_type": "code",
   "execution_count": 5,
   "id": "ce859e4b-9b50-4f53-b357-28d3e3872c87",
   "metadata": {
    "height": 30
   },
   "outputs": [
    {
     "name": "stderr",
     "output_type": "stream",
     "text": [
      "Found cached dataset quora (/home/mark/.cache/huggingface/datasets/quora/default/0.0.0/36ba4cd42107f051a158016f1bea6ae3f4685c5df843529108a54e42d86c1e04)\n"
     ]
    }
   ],
   "source": [
    "dataset = load_dataset('quora', split='train[240000:290000]')"
   ]
  },
  {
   "cell_type": "code",
   "execution_count": 6,
   "id": "356d4112-fa51-4092-9841-8b266e3b6a2c",
   "metadata": {
    "height": 30
   },
   "outputs": [
    {
     "data": {
      "text/plain": [
       "{'questions': [{'id': [207550, 351729],\n",
       "   'text': ['What is the truth of life?', \"What's the evil truth of life?\"]},\n",
       "  {'id': [33183, 351730],\n",
       "   'text': ['Which is the best smartphone under 20K in India?',\n",
       "    'Which is the best smartphone with in 20k in India?']},\n",
       "  {'id': [351731, 351732],\n",
       "   'text': ['Steps taken by Canadian government to improve literacy rate?',\n",
       "    'Can I send homemade herbal hair oil from India to US via postal or private courier services?']},\n",
       "  {'id': [37799, 94186],\n",
       "   'text': ['What is a good way to lose 30 pounds in 2 months?',\n",
       "    'What can I do to lose 30 pounds in 2 months?']},\n",
       "  {'id': [351733, 351734],\n",
       "   'text': ['Which of the following most accurately describes the translation of the graph y = (x+3)^2 -2 to the graph of y = (x -2)^2 +2?',\n",
       "    'How do you graph x + 2y = -2?']}],\n",
       " 'is_duplicate': [False, True, False, True, False]}"
      ]
     },
     "execution_count": 6,
     "metadata": {},
     "output_type": "execute_result"
    }
   ],
   "source": [
    "dataset[:5]"
   ]
  },
  {
   "cell_type": "code",
   "execution_count": 7,
   "id": "332d1241-61ae-4d09-bf46-52081c133c0c",
   "metadata": {
    "height": 132
   },
   "outputs": [
    {
     "name": "stdout",
     "output_type": "stream",
     "text": [
      "What is the truth of life?\n",
      "What's the evil truth of life?\n",
      "Which is the best smartphone under 20K in India?\n",
      "Which is the best smartphone with in 20k in India?\n",
      "Steps taken by Canadian government to improve literacy rate?\n",
      "Can I send homemade herbal hair oil from India to US via postal or private courier services?\n",
      "What is a good way to lose 30 pounds in 2 months?\n",
      "What can I do to lose 30 pounds in 2 months?\n",
      "Which of the following most accurately describes the translation of the graph y = (x+3)^2 -2 to the graph of y = (x -2)^2 +2?\n",
      "How do you graph x + 2y = -2?\n",
      "--------------------------------------------------\n",
      "Number of questions: 100000\n",
      "Number of unique questions: 88919\n"
     ]
    }
   ],
   "source": [
    "# Extract questions and drop ids\n",
    "questions = []\n",
    "for record in dataset['questions']:\n",
    "    questions.extend(record['text'])\n",
    "# Remove duplicate questions\n",
    "question = list(set(questions))\n",
    "print('\\n'.join(questions[:10]))\n",
    "print('-' * 50)\n",
    "print(f'Number of questions: {len(questions)}')\n",
    "print(f'Number of unique questions: {len(question)}')"
   ]
  },
  {
   "cell_type": "markdown",
   "id": "ab3c0402",
   "metadata": {},
   "source": [
    "### Check cuda and Setup the model\n",
    "\n",
    "**Note**: \"Checking cuda\" refers to checking if you have access to GPUs (faster compute). In this course, we are using CPUs. So, you might notice some code cells taking a little longer to run.\n",
    "\n",
    "We are using *all-MiniLM-L6-v2* sentence-transformers model that maps sentences to a 384 dimensional dense vector space."
   ]
  },
  {
   "cell_type": "code",
   "execution_count": 8,
   "id": "5fb67759-ab38-4472-bfb0-4a56d1c05955",
   "metadata": {
    "height": 81
   },
   "outputs": [
    {
     "name": "stdout",
     "output_type": "stream",
     "text": [
      "Sorry no cuda.\n"
     ]
    }
   ],
   "source": [
    "device = 'cuda' if torch.cuda.is_available() else 'cpu'\n",
    "if device != 'cuda':\n",
    "    print('Sorry no cuda.')\n",
    "model = SentenceTransformer('all-MiniLM-L6-v2', device=device)"
   ]
  },
  {
   "cell_type": "code",
   "execution_count": 9,
   "id": "d90ec5ec-5397-4ed5-8163-7a901b6ecb0c",
   "metadata": {
    "height": 64
   },
   "outputs": [
    {
     "data": {
      "text/plain": [
       "(384,)"
      ]
     },
     "execution_count": 9,
     "metadata": {},
     "output_type": "execute_result"
    }
   ],
   "source": [
    "query = 'which city is the most populated in the world?'\n",
    "xq = model.encode(query)\n",
    "xq.shape"
   ]
  },
  {
   "cell_type": "markdown",
   "id": "1780a189",
   "metadata": {},
   "source": [
    "### Setup Pinecone"
   ]
  },
  {
   "cell_type": "code",
   "execution_count": 13,
   "id": "b3e3a94e-127f-4667-a9ae-7a17d7304ee6",
   "metadata": {
    "height": 43
   },
   "outputs": [
    {
     "name": "stdout",
     "output_type": "stream",
     "text": [
      "{'indexes': [{'dimension': 8,\n",
      "              'host': 'quickstart-djnczx7.svc.apw5-4e34-81fa.pinecone.io',\n",
      "              'metric': 'cosine',\n",
      "              'name': 'quickstart',\n",
      "              'spec': {'serverless': {'cloud': 'aws', 'region': 'us-west-2'}},\n",
      "              'status': {'ready': True, 'state': 'Ready'}},\n",
      "             {'dimension': 1536,\n",
      "              'host': 'openai-labs-djnczx7.svc.apw5-4e34-81fa.pinecone.io',\n",
      "              'metric': 'cosine',\n",
      "              'name': 'openai-labs',\n",
      "              'spec': {'serverless': {'cloud': 'aws', 'region': 'us-west-2'}},\n",
      "              'status': {'ready': True, 'state': 'Ready'}},\n",
      "             {'dimension': 384,\n",
      "              'host': 'openai-labs-384-djnczx7.svc.apw5-4e34-81fa.pinecone.io',\n",
      "              'metric': 'cosine',\n",
      "              'name': 'openai-labs-384',\n",
      "              'spec': {'serverless': {'cloud': 'aws', 'region': 'us-west-2'}},\n",
      "              'status': {'ready': True, 'state': 'Ready'}}]}\n"
     ]
    }
   ],
   "source": [
    "utils = Utils()\n",
    "PINECONE_API_KEY = utils.get_pinecone_api_key()\n",
    "PINECONE_API_KEY = os.getenv(\"PINECONE_API_KEY\")\n",
    "pinecone = Pinecone(api_key=PINECONE_API_KEY)\n",
    "print(pinecone.list_indexes())"
   ]
  },
  {
   "cell_type": "code",
   "execution_count": 14,
   "id": "17a75eca-60f0-478b-bdcf-b68732c1545d",
   "metadata": {
    "height": 200
   },
   "outputs": [
    {
     "name": "stdout",
     "output_type": "stream",
     "text": [
      "openai-labs-384\n",
      "<pinecone.data.index.Index object at 0x7fc3198355e0>\n"
     ]
    }
   ],
   "source": [
    "INDEX_NAME=\"openai-labs-384\"\n",
    "\n",
    "if INDEX_NAME in [index.name for index in pinecone.list_indexes()]:\n",
    "    pinecone.delete_index(INDEX_NAME)\n",
    "print(INDEX_NAME)\n",
    "pinecone.create_index(name=INDEX_NAME, \n",
    "    dimension=model.get_sentence_embedding_dimension(), \n",
    "    metric='cosine',\n",
    "    spec=ServerlessSpec(cloud='aws', region='us-west-2'))\n",
    "\n",
    "index = pinecone.Index(INDEX_NAME)\n",
    "print(index)"
   ]
  },
  {
   "cell_type": "markdown",
   "id": "d88d9424",
   "metadata": {},
   "source": [
    "### Create Embeddings and Upsert to Pinecone"
   ]
  },
  {
   "cell_type": "code",
   "execution_count": 15,
   "id": "8c42d631-fcff-4209-ba29-ae36759c2797",
   "metadata": {},
   "outputs": [
    {
     "name": "stdout",
     "output_type": "stream",
     "text": [
      "['0', '1', '2', '3', '4', '5', '6', '7', '8', '9', '10', '11', '12', '13', '14', '15', '16', '17', '18', '19', '20', '21', '22', '23', '24', '25', '26', '27', '28', '29', '30', '31', '32', '33', '34', '35', '36', '37', '38', '39', '40', '41', '42', '43', '44', '45', '46', '47', '48', '49', '50', '51', '52', '53', '54', '55', '56', '57', '58', '59', '60', '61', '62', '63', '64', '65', '66', '67', '68', '69', '70', '71', '72', '73', '74', '75', '76', '77', '78', '79', '80', '81', '82', '83', '84', '85', '86', '87', '88', '89', '90', '91', '92', '93', '94', '95', '96', '97', '98', '99', '100', '101', '102', '103', '104', '105', '106', '107', '108', '109', '110', '111', '112', '113', '114', '115', '116', '117', '118', '119', '120', '121', '122', '123', '124', '125', '126', '127', '128', '129', '130', '131', '132', '133', '134', '135', '136', '137', '138', '139', '140', '141', '142', '143', '144', '145', '146', '147', '148', '149', '150', '151', '152', '153', '154', '155', '156', '157', '158', '159', '160', '161', '162', '163', '164', '165', '166', '167', '168', '169', '170', '171', '172', '173', '174', '175', '176', '177', '178', '179', '180', '181', '182', '183', '184', '185', '186', '187', '188', '189', '190', '191', '192', '193', '194', '195', '196', '197', '198', '199']\n",
      "[{'text': 'What are some of the most grueling cricket fights?'}, {'text': 'Can the Dish TV set top box be used in Kenya?'}, {'text': 'How do I get more views on my YouTube Videos?'}, {'text': 'Who is the best skin specialist doctor in Kolkata?'}, {'text': 'How hard is it to get a job at Tesla Motors?'}, {'text': 'Which country is best for me to get admission in good university for M.Tech and get settled?'}, {'text': 'Which are the best fiction books to be read?'}, {'text': 'What are the companies whose stocks are worth buying right now?'}, {'text': 'Why does a computer break down or not work so well when it ages?'}, {'text': 'Does WhatsApp keep all messages on their server we send and receive?'}, {'text': 'What is a circular linked list in Java?'}, {'text': 'How do you calculate calorific value of coal?'}, {'text': 'How do I get the assistance of an hacker?'}, {'text': 'How is the assistant manager jobs in private bank?'}, {'text': 'How can I downgrade lollipop to kitkat on sony zr?'}, {'text': 'What is the claim made that Turkey is planning an intervention of Syria?'}, {'text': 'Would you rather live in a city you love and live paycheck to paycheck or a city you consider boring but can afford to live like a king?'}, {'text': 'How do the Chinese people view Americans?'}, {'text': 'What have you worked the hardest for and did you succeed?'}, {'text': 'How do you write an absence letter?'}, {'text': 'How did Chumlee and Corey Harrison of Pawn Stars lose so much weight?'}, {'text': 'Are forex cards better than carrying foreign currency while travelling abroad?'}, {'text': 'Will hydrochlorothiazide worsen tinnitus?'}, {'text': 'What is the best thing that ever happened to you a s result of being immoral?'}, {'text': 'If [math]a, b,[/math] and [math]c[/math] are positive real numbers, and [math]a \\\\lt b + c[/math], how can you prove that [math]\\\\dfrac{a}{1+a} < \\\\dfrac{b}{1+b} + \\\\dfrac{c}{1+c}[/math]?'}, {'text': 'I am in Nova Scotia since 4 months under PNP program. I could not find the job in IT field. I want to change state to Ontario. Can I do that?'}, {'text': 'How can one integrate [math]\\\\frac{(x-2) ^2}{(x-1) ^2}[/math]?'}, {'text': 'Does Islam prohibit art?'}, {'text': 'What are some workout plans to lose belly fat?'}, {'text': 'Where can I find an advanced UX course in Sydney?'}, {'text': 'Who inspired you the most?'}, {'text': 'If I liked Skyrim, what other games would I like?'}, {'text': 'Why does The Yogscast disable comments?'}, {'text': 'What is the best app to learn English?'}, {'text': 'Why did animals evolve to need sleep?'}, {'text': 'Can any one tell me belkin router technical support Phone number?'}, {'text': 'Can you describe an incident that changed your life?'}, {'text': 'Are location factors favourable in Singur for Tata Nano?'}, {'text': 'If I pay minimum due amount instead of total due. What would be the interest for remaining amount of SBI Credit card?'}, {'text': 'Why does the United States give so much foreign aid to Israel?'}, {'text': 'What are the best ways to prepare to be a contestant on Jeopardy?'}, {'text': 'Have you ever see any alien in your lifetime?'}, {'text': 'Can someone suggest an Online Ordering program for a new restaurant to use?'}, {'text': 'What are the differences between Computer Science Engineering and Information Technology Engineering?'}, {'text': 'How does fryer/intense heat makes food stiff?'}, {'text': 'Do I need to have a published research paper to secure admissions on a PhD course?'}, {'text': 'Do women find beards attractive?'}, {'text': 'Can we request access to the new Facebook News Feed?'}, {'text': 'Why is the value of Indian rupee falling?'}, {'text': 'What are the benefits of bird migration?'}, {'text': 'Was Jon Snow in love with Ygritte? What were his feelings towards her?'}, {'text': 'Why do girls use Johnson&Johnson Baby soap and powder, even in 20s?'}, {'text': 'If the Moon exists in the vacuum of space with no atmosphere and absorbs tremendous amount of energy from the Sun which is converted into heat (molecular motion), how is this heat dissipated?'}, {'text': 'Is theology the basis of all religious study?'}, {'text': 'How do I get a good score in the X-GMAT exam?'}, {'text': 'Which is the best school in Bangalore?'}, {'text': 'Is it a problem among Shanghai retirees to be asset-rich, cash-poor thanks to their love of real-estate investment today (2015)?'}, {'text': 'Can I update iOS 7 to iOS 8 in iPad mini 2?'}, {'text': 'What is the song “Hallelujah” about?'}, {'text': 'How rampant is the drug addiction in rural Punjab (India)?'}, {'text': 'Why is Lincoln the only person on a U.S. coin that faces the other way which is facing right instead of left?'}, {'text': 'What is a disability?'}, {'text': 'Which is the best wifi network in delhi?'}, {'text': 'What happens when best friends fall in love?'}, {'text': 'What are some successful ways to quit smoking?'}, {'text': 'If Batman was real, who do you think his secret identity would be in the real world?'}, {'text': \"I'm tired of waiting for iOS 10.1.1 jailbreak for iPhone 5s. Can I downgrade it to iOS 9 and jailbreak it? How?\"}, {'text': 'How can I study c language?'}, {'text': 'Can I tell what time text messages are received and read by the person I sent them to?'}, {'text': \"What's your favorite song right now?\"}, {'text': 'How can I make site like shop2cash.in?'}, {'text': 'What is your worst sex experience?'}, {'text': 'How can I improve my English online?'}, {'text': 'Why is it that Indian girls mostly talk to each other in English?'}, {'text': 'How was the experience when you had sex for the first time?'}, {'text': 'Do you have a preference for your bedroom door at night (i.e. open, closed)? If so, what is it and why?'}, {'text': 'How do I last longer in sex?'}, {'text': 'How will the people from 4000 C.E look at 2000 C.E?'}, {'text': 'How many people died after seeing conjuring 2?'}, {'text': 'Who is Teresa Fidlago, and what is she known for?'}, {'text': 'Why did America drop atomic bombs on Japan?'}, {'text': 'Why do I feel like people are judging me in social situations?'}, {'text': 'What is the equation of second law of thermodynamics?'}, {'text': 'How do I make money through YouTube?'}, {'text': 'Which is the best place to visit in Goa?'}, {'text': 'What is one of the most interesting things that has happened in your life?'}, {'text': 'What can I do to overcome my mental disorder?'}, {'text': 'Why was Jennifer Aniston cast in the movie Cake?'}, {'text': 'Should I buy an 8GB or 16GB RAM for gaming?'}, {'text': 'What are classes and objects in programming?'}, {'text': 'Startup (scalable) med device class 1, 2. Glove, syr etc. Bulk repackage priv. label.Looking for full info on multipurpose lo tech machine(s) <100K?'}, {'text': 'How can I make my life more interesting?'}, {'text': 'What is the best laptop less than $1000 for 3D modeling and rendering?'}, {'text': 'What is NY prison like?'}, {'text': 'How do you write a six line poem?'}, {'text': 'Graduate Aptitude Test in Engineering (GATE): Is it necessary to do projects in 2nd or 3rd year if someone wants to pursue masters at IITs/IISC?'}, {'text': 'Work Visas: As a US citizen, can I job hunt in the UK?'}, {'text': 'How do I take pictures of Milky Way?'}, {'text': \"Did PM Modi actually promise deposition of 15 lakh rupees into poor people's accounts?\"}, {'text': 'How do you get rid off emontions?'}, {'text': 'Who will win the 10th match between Mumbai City FC and Atletico de Kolkata in Hero Indian Super League 2016?'}, {'text': 'Is it possible to do a double major in political science and advertising?'}, {'text': 'What is the relationship between the Wizengamot and the Ministry of Magic?'}, {'text': 'What are collective nouns? What are some examples?'}, {'text': 'How can I live in Singapore?'}, {'text': \"I can't stop stalking my boyfriend's ex. I don't hate her, I'm just very curious about who she is and I can't stop looking her up. Is this normal?\"}, {'text': \"Why aren't we talking about animal farming's impact on global warming?\"}, {'text': 'Why does salt hurt when it gets into a wound?'}, {'text': 'Which are the best romantic movies to watch?'}, {'text': 'What are the eight phases of meiosis? How do they occur?'}, {'text': \"What is the most disgusting thing you've ever done?\"}, {'text': 'What is a transform?'}, {'text': 'How much does being shot hurt?'}, {'text': 'How competitive is the hiring process at Auracle Resources?'}, {'text': 'Why my Bluetooth receiver can only connect to TV for few seconds?'}, {'text': 'Has a Donald trump fan ever changed his stance and seen him for what he really is?'}, {'text': 'Is it wrong to fall in love with a student?'}, {'text': \"What is Shah Rukh Khan's best movie till date and why?\"}, {'text': 'Can there possibly be a connection between black holes and time travel?'}, {'text': 'How does it feel like being a child soldier?'}, {'text': 'How can sedimentary rocks contain fossils?'}, {'text': 'Does height really matter for women?'}, {'text': 'Harvard College Courses: What is general shopping advice for Latin classes?'}, {'text': 'How often are drones used in Construction?'}, {'text': 'What are some good names to name a pet snake?'}, {'text': 'Anyone please provide me details and list of Hindi songs, which is easy to play in guiter 1 cord for beginner?'}, {'text': 'Where can I learn about food science related basic to advanced things?'}, {'text': 'Is devil worshipping prevalent in Cochin, Kerala?'}, {'text': 'What are the best Gujarati books?'}, {'text': 'What are some things new employees should know going into their first day at US Concrete?'}, {'text': 'Do people get to choose their job in China?'}, {'text': 'What is the meaning of life in only one word?'}, {'text': 'What is the formula to calculate vertical acceleration? How is this determined?'}, {'text': 'What is the best air conditioner service center in Hyderabad?'}, {'text': 'How can I move to Jamaica?'}, {'text': 'Is cake considered bread?'}, {'text': 'Do you like to wear watch?'}, {'text': 'What is difference between Ubuntu and Linux?'}, {'text': 'How do you delete messages on Snapchat?'}, {'text': \"What do you think should be India' s stand after today' s URI terror attack?\"}, {'text': 'Why does atropine cause loss of light reflex in rabbit eye?'}, {'text': 'What is enthalpy of atomisation and how is it different from lattice enthalpy?'}, {'text': 'How can I delete cache for Instagram?'}, {'text': 'Who should Republicans that hate Trump and live in a Red State vote for?'}, {'text': \"What's your Klout score?\"}, {'text': 'Can anyone name some good CFA coachings in Bangalore?'}, {'text': 'Why do I want to bite my boyfriend?'}, {'text': 'How do I handle social media slander?'}, {'text': 'Why do people believe that extreme wealth will make them happy?'}, {'text': 'Can I learn algorithms with JavaScript?'}, {'text': 'Why is mobile Internet slow with high data rates in India?'}, {'text': 'What is the best treatment for hair loss?'}, {'text': 'What is the best way to add your websites backlinks in 2014?'}, {'text': 'If there is one God then why there are so many religions?'}, {'text': 'What is an INTP?'}, {'text': 'How can I move and work in my hometown when there is no job available there matching my skill sets?'}, {'text': 'What are competitors to betaworks?'}, {'text': 'Can you earn money from an affiliate adult content website?'}, {'text': 'How do I deal with a rude teacher?'}, {'text': 'Should i join classes again for CSE 2017?'}, {'text': 'What does \"counter\" mean this phrase?'}, {'text': 'Do guys not approach me because of my vibes?'}, {'text': 'Can people die from bulimia?'}, {'text': 'Could India and Pakistan go to war?'}, {'text': 'How can I make a video?'}, {'text': 'If I could travel at the speed of light, what would I see?'}, {'text': 'What is the best online PMP training?'}, {'text': 'Is time per se changeable?'}, {'text': 'Why is the U.S working so hard to divert all East Asia and ASEAN from economical development to internal conflicst?'}, {'text': 'How can I view deleted Instagram dms?'}, {'text': 'What is the most popular hashtags for Instagram in 2016?'}, {'text': 'When is the best time to buy a stock?'}, {'text': \"I don't have no question?\"}, {'text': 'Does racism still exist in this generation?'}, {'text': 'Can asexuals have sex with someone they love?'}, {'text': 'How do you sync music in your iTunes to your iPhone?'}, {'text': 'What if the U.S. had no electoral college, but used popularity votes?'}, {'text': 'How can I battle my severe Internalized Homophobia?'}, {'text': 'What is easier to hear; a low pitch sound or a high pitch sound? Why?'}, {'text': 'What color attracts the human eye most?'}, {'text': 'Despite my best efforts, how do mosquitoes still end up inside my room? How do I get rid of them without getting up at 4:30?'}, {'text': 'Which is the best Facebook auto poster software?'}, {'text': 'Which car should I buy within 10 lakhs?'}, {'text': 'Who are angel investors, and where can I find them?'}, {'text': \"What's the point of trying so hard in life when your going to die and not rememeber anything?\"}, {'text': 'Is the anonymous feature in Quora permanent?'}, {'text': 'What is it like to be royalty?'}, {'text': 'What happens when insulin is not administered post angioplasty in type 2 diabetic for 5 days?'}, {'text': 'If humans need touching, then why do people complain when you touch someone? Why is it considered harassment?'}, {'text': 'Gandhi gave importance to fundamental duties?'}, {'text': 'Would you eat a plate of poo for a million dollar?'}, {'text': 'Why do I feel full but hungry?'}, {'text': 'Is it okay to dye my hair twice in the same day?'}, {'text': 'What is the infant mortality rate for Mexico?'}, {'text': 'Does Trump and his supporters believe that cooperations are for dummies?'}, {'text': 'How should I break relationship with my maternal aunty who deliberately destroyed my life and career?'}, {'text': 'Does 2016 hold the record for the most celebrity deaths?'}, {'text': 'What are some things new employees should know going into their first day at Brunswick?'}, {'text': 'Are there free online courses with free certification?'}, {'text': 'Can someone help me make a timetable for class 10th studies for 10 CGPA?'}]\n",
      "[[ 0.02769655  0.08449175 -0.09612946 ... -0.04694599  0.04341404\n",
      "  -0.00220289]\n",
      " [ 0.01703611  0.04450285 -0.02427593 ...  0.0034297  -0.03284818\n",
      "   0.0592229 ]\n",
      " [ 0.01146834 -0.20558073 -0.06698909 ...  0.05038309 -0.03375985\n",
      "  -0.01731537]\n",
      " ...\n",
      " [ 0.01874234  0.03657696  0.08504537 ...  0.01376574 -0.05861961\n",
      "   0.04593091]\n",
      " [-0.01137044 -0.062739   -0.00691715 ... -0.11699113  0.05894395\n",
      "  -0.02546144]\n",
      " [-0.06417043 -0.02075393 -0.00048476 ...  0.03033663 -0.07543092\n",
      "  -0.06346436]]\n"
     ]
    }
   ],
   "source": [
    "batch_size=200\n",
    "vector_limit=10000\n",
    "\n",
    "questions = question[:vector_limit]\n",
    "\n",
    "import json\n",
    "\n",
    "range(0, len(questions), batch_size)\n",
    "\n",
    "i = 0\n",
    "i_end = 200\n",
    "ids = [str(x) for x in range(i, i_end)]\n",
    "print(ids)\n",
    "metadatas = [{'text': text} for text in questions[i:i_end]]\n",
    "print(metadatas)\n",
    "xc = model.encode(questions[i:i_end])\n",
    "print(xc)"
   ]
  },
  {
   "cell_type": "code",
   "execution_count": 16,
   "id": "ea551303-aa81-41cd-adc5-dc9ea8072397",
   "metadata": {
    "height": 352
   },
   "outputs": [
    {
     "data": {
      "application/vnd.jupyter.widget-view+json": {
       "model_id": "3f797ac56eeb470191d7ee22b32e4fbb",
       "version_major": 2,
       "version_minor": 0
      },
      "text/plain": [
       "  0%|          | 0/50 [00:00<?, ?it/s]"
      ]
     },
     "metadata": {},
     "output_type": "display_data"
    }
   ],
   "source": [
    "batch_size=200\n",
    "vector_limit=10000\n",
    "\n",
    "questions = question[:vector_limit]\n",
    "\n",
    "import json\n",
    "\n",
    "for i in tqdm(range(0, len(questions), batch_size)):\n",
    "    # find end of batch\n",
    "    i_end = min(i+batch_size, len(questions))\n",
    "    # create IDs batch\n",
    "    ids = [str(x) for x in range(i, i_end)]\n",
    "    # create metadata batch\n",
    "    metadatas = [{'text': text} for text in questions[i:i_end]]\n",
    "    # create embeddings\n",
    "    xc = model.encode(questions[i:i_end])\n",
    "    # create records list for upsert\n",
    "    records = zip(ids, xc, metadatas)\n",
    "    # upsert to Pinecone\n",
    "    index.upsert(vectors=records)"
   ]
  },
  {
   "cell_type": "code",
   "execution_count": 17,
   "id": "6153920a-f4c4-420e-9790-262dd2299fc6",
   "metadata": {
    "height": 30
   },
   "outputs": [
    {
     "data": {
      "text/plain": [
       "{'dimension': 384,\n",
       " 'index_fullness': 0.0,\n",
       " 'namespaces': {'': {'vector_count': 10000}},\n",
       " 'total_vector_count': 10000}"
      ]
     },
     "execution_count": 17,
     "metadata": {},
     "output_type": "execute_result"
    }
   ],
   "source": [
    "index.describe_index_stats()"
   ]
  },
  {
   "cell_type": "markdown",
   "id": "71135418",
   "metadata": {},
   "source": [
    "### Run Your Query"
   ]
  },
  {
   "cell_type": "code",
   "execution_count": 18,
   "id": "28b20b81-4782-4ce2-aec3-9576c7779f2e",
   "metadata": {
    "height": 115
   },
   "outputs": [],
   "source": [
    "# small helper function so we can repeat queries later\n",
    "def run_query(query):\n",
    "  embedding = model.encode(query).tolist()\n",
    "  results = index.query(top_k=10, vector=embedding, include_metadata=True, include_values=False)\n",
    "  for result in results['matches']:\n",
    "    print(f\"{round(result['score'], 2)}: {result['metadata']['text']}\")"
   ]
  },
  {
   "cell_type": "code",
   "execution_count": 19,
   "id": "4c4244d6-7be0-4ee1-a36a-0d586f0555f7",
   "metadata": {
    "height": 30
   },
   "outputs": [
    {
     "name": "stdout",
     "output_type": "stream",
     "text": [
      "0.66: What is the greatest, most beautiful city in the world?\n",
      "0.62: How is the world's population estimated?\n",
      "0.59: Which is the highest peak of the world?\n",
      "0.58: What is the largest race of people on Earth?\n",
      "0.56: What is the best tourist place in world?\n",
      "0.55: Which is the highest mountain in the world?\n",
      "0.55: How many cities in china?\n",
      "0.5: Which city would you like to live in China?\n",
      "0.48: What is the capital city of Singapore?\n",
      "0.46: Which Australian city has the best climate?\n"
     ]
    }
   ],
   "source": [
    "run_query('which city has the highest population in the world?')"
   ]
  },
  {
   "cell_type": "code",
   "execution_count": 20,
   "id": "f85b20fe-2328-47eb-84cd-bf3b27c6d4aa",
   "metadata": {
    "height": 47
   },
   "outputs": [
    {
     "name": "stdout",
     "output_type": "stream",
     "text": [
      "0.51: Is cake considered bread?\n",
      "0.49: How is pumpkin pie made?\n",
      "0.46: Where can I get custom decorated cakes for any occasion at Gold Coast?\n",
      "0.44: Is red velvet cake just cake batter dyed red?\n",
      "0.44: Where can I buy best quality customized cupcakes in Gold Coast?\n",
      "0.43: How do I make green tea?\n",
      "0.43: How do you make gravy without any dairy?\n",
      "0.42: Where can I get friendly cupcakes delivery at Gold Coast?\n",
      "0.42: How can you make sweetened condensed milk from evaporated milk?\n",
      "0.41: How can you make different types of cheese?\n"
     ]
    }
   ],
   "source": [
    "query = 'how do i make chocolate cake?'\n",
    "run_query(query)"
   ]
  }
 ],
 "metadata": {
  "kernelspec": {
   "display_name": "Python 3 (ipykernel)",
   "language": "python",
   "name": "python3"
  },
  "language_info": {
   "codemirror_mode": {
    "name": "ipython",
    "version": 3
   },
   "file_extension": ".py",
   "mimetype": "text/x-python",
   "name": "python",
   "nbconvert_exporter": "python",
   "pygments_lexer": "ipython3",
   "version": "3.9.10"
  }
 },
 "nbformat": 4,
 "nbformat_minor": 5
}
