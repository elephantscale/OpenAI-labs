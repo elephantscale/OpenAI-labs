{
 "cells": [
  {
   "cell_type": "markdown",
   "id": "77448887-ed71-48e1-bf0d-2ff499d0c7ca",
   "metadata": {},
   "source": [
    "# Lesson 1 - Semantic Search"
   ]
  },
  {
   "cell_type": "markdown",
   "id": "750cd7dd",
   "metadata": {},
   "source": [
    "### Import the Needed Packages"
   ]
  },
  {
   "cell_type": "code",
   "execution_count": 1,
   "id": "809aa032-d737-450d-aafa-e32bfba9d8f8",
   "metadata": {
    "height": 47
   },
   "outputs": [],
   "source": [
    "import warnings\n",
    "warnings.filterwarnings('ignore')"
   ]
  },
  {
   "cell_type": "code",
   "execution_count": 2,
   "id": "30698fb9-4709-4088-9905-9ccb4efd5e09",
   "metadata": {
    "height": 166
   },
   "outputs": [],
   "source": [
    "from datasets import load_dataset\n",
    "from sentence_transformers import SentenceTransformer\n",
    "\n",
    "from DLAIUtils import Utils\n",
    "import DLAIUtils\n",
    "\n",
    "import os\n",
    "import time\n",
    "import torch"
   ]
  },
  {
   "cell_type": "code",
   "execution_count": 3,
   "id": "b5f42878-9177-438f-8c8a-2e1762c13b51",
   "metadata": {},
   "outputs": [],
   "source": [
    "from pinecone import Pinecone, ServerlessSpec"
   ]
  },
  {
   "cell_type": "code",
   "execution_count": 4,
   "id": "8ab484bb-3bfb-4c52-a5bd-bcbe4a7a63d2",
   "metadata": {
    "height": 30
   },
   "outputs": [],
   "source": [
    "from tqdm.auto import tqdm"
   ]
  },
  {
   "cell_type": "markdown",
   "id": "ba92fc2d",
   "metadata": {},
   "source": [
    "### Load the Dataset"
   ]
  },
  {
   "cell_type": "code",
   "execution_count": 5,
   "id": "ce859e4b-9b50-4f53-b357-28d3e3872c87",
   "metadata": {
    "height": 30
   },
   "outputs": [
    {
     "name": "stderr",
     "output_type": "stream",
     "text": [
      "Found cached dataset quora (/home/mark/.cache/huggingface/datasets/quora/default/0.0.0/36ba4cd42107f051a158016f1bea6ae3f4685c5df843529108a54e42d86c1e04)\n"
     ]
    }
   ],
   "source": [
    "dataset = load_dataset('quora', split='train[240000:290000]')"
   ]
  },
  {
   "cell_type": "code",
   "execution_count": 6,
   "id": "356d4112-fa51-4092-9841-8b266e3b6a2c",
   "metadata": {
    "height": 30
   },
   "outputs": [
    {
     "data": {
      "text/plain": [
       "{'questions': [{'id': [207550, 351729],\n",
       "   'text': ['What is the truth of life?', \"What's the evil truth of life?\"]},\n",
       "  {'id': [33183, 351730],\n",
       "   'text': ['Which is the best smartphone under 20K in India?',\n",
       "    'Which is the best smartphone with in 20k in India?']},\n",
       "  {'id': [351731, 351732],\n",
       "   'text': ['Steps taken by Canadian government to improve literacy rate?',\n",
       "    'Can I send homemade herbal hair oil from India to US via postal or private courier services?']},\n",
       "  {'id': [37799, 94186],\n",
       "   'text': ['What is a good way to lose 30 pounds in 2 months?',\n",
       "    'What can I do to lose 30 pounds in 2 months?']},\n",
       "  {'id': [351733, 351734],\n",
       "   'text': ['Which of the following most accurately describes the translation of the graph y = (x+3)^2 -2 to the graph of y = (x -2)^2 +2?',\n",
       "    'How do you graph x + 2y = -2?']}],\n",
       " 'is_duplicate': [False, True, False, True, False]}"
      ]
     },
     "execution_count": 6,
     "metadata": {},
     "output_type": "execute_result"
    }
   ],
   "source": [
    "dataset[:5]"
   ]
  },
  {
   "cell_type": "code",
   "execution_count": 7,
   "id": "332d1241-61ae-4d09-bf46-52081c133c0c",
   "metadata": {
    "height": 132
   },
   "outputs": [
    {
     "name": "stdout",
     "output_type": "stream",
     "text": [
      "What is the truth of life?\n",
      "What's the evil truth of life?\n",
      "Which is the best smartphone under 20K in India?\n",
      "Which is the best smartphone with in 20k in India?\n",
      "Steps taken by Canadian government to improve literacy rate?\n",
      "Can I send homemade herbal hair oil from India to US via postal or private courier services?\n",
      "What is a good way to lose 30 pounds in 2 months?\n",
      "What can I do to lose 30 pounds in 2 months?\n",
      "Which of the following most accurately describes the translation of the graph y = (x+3)^2 -2 to the graph of y = (x -2)^2 +2?\n",
      "How do you graph x + 2y = -2?\n",
      "--------------------------------------------------\n",
      "Number of questions: 100000\n"
     ]
    }
   ],
   "source": [
    "questions = []\n",
    "for record in dataset['questions']:\n",
    "    questions.extend(record['text'])\n",
    "question = list(set(questions))\n",
    "print('\\n'.join(questions[:10]))\n",
    "print('-' * 50)\n",
    "print(f'Number of questions: {len(questions)}')"
   ]
  },
  {
   "cell_type": "markdown",
   "id": "ab3c0402",
   "metadata": {},
   "source": [
    "### Check cuda and Setup the model\n",
    "\n",
    "**Note**: \"Checking cuda\" refers to checking if you have access to GPUs (faster compute). In this course, we are using CPUs. So, you might notice some code cells taking a little longer to run.\n",
    "\n",
    "We are using *all-MiniLM-L6-v2* sentence-transformers model that maps sentences to a 384 dimensional dense vector space."
   ]
  },
  {
   "cell_type": "code",
   "execution_count": 8,
   "id": "5fb67759-ab38-4472-bfb0-4a56d1c05955",
   "metadata": {
    "height": 81
   },
   "outputs": [
    {
     "name": "stdout",
     "output_type": "stream",
     "text": [
      "Sorry no cuda.\n"
     ]
    }
   ],
   "source": [
    "device = 'cuda' if torch.cuda.is_available() else 'cpu'\n",
    "if device != 'cuda':\n",
    "    print('Sorry no cuda.')\n",
    "model = SentenceTransformer('all-MiniLM-L6-v2', device=device)"
   ]
  },
  {
   "cell_type": "code",
   "execution_count": 9,
   "id": "d90ec5ec-5397-4ed5-8163-7a901b6ecb0c",
   "metadata": {
    "height": 64
   },
   "outputs": [
    {
     "data": {
      "text/plain": [
       "(384,)"
      ]
     },
     "execution_count": 9,
     "metadata": {},
     "output_type": "execute_result"
    }
   ],
   "source": [
    "query = 'which city is the most populated in the world?'\n",
    "xq = model.encode(query)\n",
    "xq.shape"
   ]
  },
  {
   "cell_type": "markdown",
   "id": "1780a189",
   "metadata": {},
   "source": [
    "### Setup Pinecone"
   ]
  },
  {
   "cell_type": "code",
   "execution_count": 10,
   "id": "b3e3a94e-127f-4667-a9ae-7a17d7304ee6",
   "metadata": {
    "height": 43
   },
   "outputs": [],
   "source": [
    "utils = Utils()\n",
    "PINECONE_API_KEY = utils.get_pinecone_api_key()"
   ]
  },
  {
   "cell_type": "code",
   "execution_count": 11,
   "id": "17a75eca-60f0-478b-bdcf-b68732c1545d",
   "metadata": {
    "height": 200
   },
   "outputs": [
    {
     "name": "stdout",
     "output_type": "stream",
     "text": [
      "dl-ai-jhrozxrjt3blbkfjdwi3lpfzexs1ln3fpdtw\n",
      "<pinecone.data.index.Index object at 0x7fef0028ef10>\n"
     ]
    }
   ],
   "source": [
    "pinecone = Pinecone(api_key=PINECONE_API_KEY)\n",
    "INDEX_NAME = utils.create_dlai_index_name('dl-ai')\n",
    "\n",
    "if INDEX_NAME in [index.name for index in pinecone.list_indexes()]:\n",
    "    pinecone.delete_index(INDEX_NAME)\n",
    "print(INDEX_NAME)\n",
    "pinecone.create_index(name=INDEX_NAME, \n",
    "    dimension=model.get_sentence_embedding_dimension(), \n",
    "    metric='cosine',\n",
    "    spec=ServerlessSpec(cloud='aws', region='us-west-2'))\n",
    "\n",
    "index = pinecone.Index(INDEX_NAME)\n",
    "print(index)"
   ]
  },
  {
   "cell_type": "markdown",
   "id": "d88d9424",
   "metadata": {},
   "source": [
    "### Create Embeddings and Upsert to Pinecone"
   ]
  },
  {
   "cell_type": "code",
   "execution_count": 12,
   "id": "8c42d631-fcff-4209-ba29-ae36759c2797",
   "metadata": {},
   "outputs": [
    {
     "name": "stdout",
     "output_type": "stream",
     "text": [
      "['0', '1', '2', '3', '4', '5', '6', '7', '8', '9', '10', '11', '12', '13', '14', '15', '16', '17', '18', '19', '20', '21', '22', '23', '24', '25', '26', '27', '28', '29', '30', '31', '32', '33', '34', '35', '36', '37', '38', '39', '40', '41', '42', '43', '44', '45', '46', '47', '48', '49', '50', '51', '52', '53', '54', '55', '56', '57', '58', '59', '60', '61', '62', '63', '64', '65', '66', '67', '68', '69', '70', '71', '72', '73', '74', '75', '76', '77', '78', '79', '80', '81', '82', '83', '84', '85', '86', '87', '88', '89', '90', '91', '92', '93', '94', '95', '96', '97', '98', '99', '100', '101', '102', '103', '104', '105', '106', '107', '108', '109', '110', '111', '112', '113', '114', '115', '116', '117', '118', '119', '120', '121', '122', '123', '124', '125', '126', '127', '128', '129', '130', '131', '132', '133', '134', '135', '136', '137', '138', '139', '140', '141', '142', '143', '144', '145', '146', '147', '148', '149', '150', '151', '152', '153', '154', '155', '156', '157', '158', '159', '160', '161', '162', '163', '164', '165', '166', '167', '168', '169', '170', '171', '172', '173', '174', '175', '176', '177', '178', '179', '180', '181', '182', '183', '184', '185', '186', '187', '188', '189', '190', '191', '192', '193', '194', '195', '196', '197', '198', '199']\n",
      "[{'text': 'How do you get into cross dressing?'}, {'text': 'Who designed the new Indian rupee symbol?'}, {'text': 'Why are people comparing Donald Trump to Adolf Hitler?'}, {'text': 'How can I stop my laptop from hibernating in windows 10?'}, {'text': 'What does it mean when a guy says he thinks he likes you?'}, {'text': 'My cat died, how do I get over this?'}, {'text': 'Should influence-peddling laws stop presidential spouses from making a fortune off of global contacts made while in office and then running for POTUS?'}, {'text': 'How can I make a website without any knowledge?'}, {'text': 'What are some symbols of wisdom in different cultures around the world?'}, {'text': 'What kind of tasks can be assigned managers for a fun activity?'}, {'text': 'What is the difference between cheese, butter and ghee, paneer?'}, {'text': 'Why do people self harm?'}, {'text': 'Which is your favourite Metallica song and why?'}, {'text': 'Was there magic in the Middle Ages?'}, {'text': \"Who are all of the guests who have been on the What's Up With That? skit on SNL?\"}, {'text': 'What productive things can I do on a boring day?'}, {'text': 'What is it like to get swallowed alive by a big fish, whale, shark or orca?'}, {'text': \"Where does the word 'jitterbug' come from?\"}, {'text': 'How electromagnetic induction work?'}, {'text': \"Do women find men who wear glasses similar to Clark Kent's attractive?\"}, {'text': 'How do I overcome fear of someone or something?'}, {'text': 'Is the news about a chip in Rs. 2000 bank note a rumor?'}, {'text': 'How many sentient beings did Luke Skywalker kill when he destroyed the Death Star?'}, {'text': 'How can I start getting involved in politics?'}, {'text': 'Has anyone used GoDaddy managed WordPress hosting?'}, {'text': 'What is the best course to do for Vfx?'}, {'text': 'How do I configure deeplearning4j’s LSTM for time-series prediction?'}, {'text': 'I placed a bid on a car sold at an online auto auction. Will I win it in case I am the only bidder?'}, {'text': 'Many fast food restaurants claim they use 100% beef with no fillers or extenders. Why does the beef taste so different from one chain to another?'}, {'text': 'Which is the best safety or fire course after B.E. Mechanical?'}, {'text': 'What is quantum?'}, {'text': 'In financial year 2015, I am not organised board meeting due to some unavoidable reason .so, now what should I do in annual filling?'}, {'text': \"Will Facebook ever offer a feature like LinkedIn's, where you can see who has viewed your profile?\"}, {'text': 'How does a car engine work when in Neutral?'}, {'text': 'Why is India considered the subcontinent of Asia?'}, {'text': \"What is the meaning of the Hindi word 'badhazmi'?\"}, {'text': 'What is a concentration gradient and what is it used for?'}, {'text': 'What annoy you the most? And why is that?'}, {'text': 'How do you earn money as a sorcerer?'}, {'text': 'What are the best romantic movies?'}, {'text': 'Who are the best/ most skilled people in private equity?'}, {'text': 'What can you do in a lucid dream?'}, {'text': 'If a genie offered you three wishes, what are safe wishes to make?'}, {'text': 'How much are bands paid to play at music festivals (e.g. Coachella, Outside Lands)?'}, {'text': 'What are the symptoms of dropsy?'}, {'text': \"Dreaming about someone you've never met?\"}, {'text': 'What are your favorite Chinese foods?'}, {'text': 'What are the three things that you know for sure about life?'}, {'text': 'I had signed an employment bond for certain years, but now I wish to leave the company. What is the best way of dealing with this situation?'}, {'text': 'How can I add a caption to a GIF?'}, {'text': 'Why some north Indians pronounce v as b?'}, {'text': 'How did you decide where to go to college?'}, {'text': 'How does International shipping works? Between gov postal services.'}, {'text': 'How do semiconductors work and what are they used for?'}, {'text': 'I am Indian Hindu and I want to marry a malay Muslim girl, how can I make it possible, any one hepl me?'}, {'text': 'I am a student and I live in New Delhi, India. I have about 40,000 rupees in my bank account. How should I invest it?'}, {'text': \"Why I feel like beating my friend's toddler for no reason even though I have good relationship with my friend and the little toddler is cute?\"}, {'text': 'What are some examples of scanners being input devices?'}, {'text': 'How advanced are Arab militaries?'}, {'text': 'What is the fees of luxury and brand management course from SP Jain school of global management?'}, {'text': 'What was your most interesting experience with a stranger?'}, {'text': 'What is the meaning of this life?'}, {'text': 'What are the best books by Indian authors?'}, {'text': \"I'm 22. What book should I read as a beginner to improve vocabulary?\"}, {'text': 'What \"K\" means?'}, {'text': 'How do I fix Nikon coolpix lens error ?'}, {'text': \"I am 17 years old and 280 lb. I love life and I'm actually quite popular! But I'm ready to overcome obesity. But I keep falling off the wagon. Help?\"}, {'text': 'How do I send mail?'}, {'text': 'What are some good TED Talks?'}, {'text': 'Where should a Jewish American move if they no longer feel welcome or safe in the United States?'}, {'text': 'What were the major effects of the cambodia earthquake, and how do these effects compare to the Sohei earthquake in 1361?'}, {'text': \"How do I hack anyone's WhatsApp account by my mobile?\"}, {'text': 'What really LCM is?'}, {'text': 'Why do I sweat (mostly on face) when I eat usually spicy food?'}, {'text': 'What are some good ways to make a green supply chain?'}, {'text': 'What are the steps to start the Cheese Manufacturing Business? Any tips would be welcome.'}, {'text': 'Why doesent Tom Nook work at Nooks homes at least 1-4 hours?'}, {'text': \"Why can't I get shocked while welding when a huge ampere current flows through our body and I touch the electro rod with my naked hand?\"}, {'text': 'I want to find my first boyfriend at 26 years old. Is that okay?'}, {'text': 'Do other democracies have the electoral college or an equivalent? If not, how is their democracy fair?'}, {'text': 'Is there any episode of Friends in which at least one of the main characters is missing?'}, {'text': 'Do civil engineers make a good living in The Netherlands?'}, {'text': 'What are the best places in Hyderabad to cover in a day with family?'}, {'text': \"How is it that first attempters are clearing the UPSC Civil Services exam and veterans aren't even after 3-4 attempts? What wisdom did they gain to clear it early?\"}, {'text': 'Are the site admins/staff going to bother justifying the real name policy?'}, {'text': 'How does an oceanic trench form?'}, {'text': 'A mute went to a completely new place. He wanted to drink some water in a house owned by a blind person. How will the mute ask the blind person for water?'}, {'text': 'How do you know if you have a soul?'}, {'text': 'How can I receive a free Visa prepaid card?'}, {'text': \"What are good gifts for a foreign visitor to bring when they're invited to someone's home in Ecuador for the first time?\"}, {'text': 'Do power companies have backup transformers in case of a Solar Storm or EMP?'}, {'text': 'Why does Udacity focus on Python for data analysis and machine learning instead of R?'}, {'text': 'How do you explain the Zamindari system in simple words?'}, {'text': 'How much energy can be saved by switching off the computer monitor in the night?'}, {'text': 'Does a soul really exist? What is the psychology behind it?'}, {'text': \"Can a president become a member of another president's cabinet after his term is over?\"}, {'text': 'How do I crack fifa 11?'}, {'text': 'What do you think of the new MacBook Pro that was released late 2016? Is it worth buying?'}, {'text': 'Is it grammatically correct to say \"I and my family\"?'}, {'text': 'What should should I do about this?'}, {'text': 'How can I get very rich?'}, {'text': 'How can I reduce my weight during breastfeeding?'}, {'text': 'How will I crack IIT when only 3 months are left and u hav to study for 12th boards aswell..i was little distracted but now I am helpless?'}, {'text': 'What prepaid cell phone company is similar to Straight Talk but cheaper?'}, {'text': 'What are some amazing pictures one has to see twice to understand?'}, {'text': 'The velocity distribution in certain river cross section?'}, {'text': 'Are most white people comfortable using the \"N word\" at a rap concert in the presence of black people?'}, {'text': 'Is Illuminati a real theory?'}, {'text': 'What hotel in Deolo Hills Hill-station would be safe for unmarried couples, without the harassment of police, hotel staff, and moral police?'}, {'text': 'What physically does it mean (current lag voltage in an inductor) and why?'}, {'text': 'What was your \"eureka\" moment?'}, {'text': 'What should be the first question to ask on Quora?'}, {'text': 'What would the complete cost of allergy immunotherapy be, over 3 to 5 years in Bangalore?'}, {'text': 'Is torrenting illegal?'}, {'text': \"I'm interested to work in Singapore.Can I get any job there?\"}, {'text': 'Are there any counter arguments for bullying?'}, {'text': 'How do I Simplify the following matrices: \\n1. -5 [-7 0 0 5]; 2. 3 [6 4 5 -5 3 1]?'}, {'text': 'What does Gandalf say when he falls? Why does he say that?'}, {'text': 'Why is your business ideas struggling to take off in South Africa?'}, {'text': 'Why are so many skilled immigrants in Canada doing unskilled jobs? Can I get a skilled job if I do MBA/MA (Econ) from a good b-school in Canada?'}, {'text': 'What is paints?'}, {'text': 'Where can I find a PDF or online text of the Mahabharata in the Marathi language?'}, {'text': 'How do I add dimension to my drawings?'}, {'text': 'I am getting 3 female mice and I was wondering what a good brand of hamster ball is so that they can run around outside their cage?'}, {'text': 'Shouldn’t the movement be called \"All Lives Matter\" instead of \"Black Lives Matter\"?'}, {'text': 'How many hours do psychopaths sleep each day?'}, {'text': 'What is the chemical composition of semen?'}, {'text': 'How can I delete photos from my iPhone but keep them in iCloud?'}, {'text': 'Which is the most important thing in life?'}, {'text': 'I have no programming background but would like to learn SAS. Any ideas that you can help me with?'}, {'text': 'What does \"it factor\" mean?'}, {'text': 'Do high school girls prefer to be taught by male or female teachers?'}, {'text': 'What are the best female cartoon characters?'}, {'text': 'Who are the top FEM or FEA service providers that provide precise vibration analysis services worldwide?'}, {'text': 'What is the basal metabolic rate?'}, {'text': 'How Do I become slim?'}, {'text': 'How do i stop thinking about someone?'}, {'text': 'How do I download YouTube videos for free without any hassle?'}, {'text': 'Configuration Management: Is Chef/Puppet too complicated?'}, {'text': \"Boeing 787: What are the reasons for the dreamliners problems with it's  batteries?\"}, {'text': 'How do you enjoy winter?'}, {'text': \"What's so special about Tamil writer Jayakanthan's novels?\"}, {'text': 'What introductory book on Indexes and SQL tuning would you recommend?'}, {'text': 'Do guys fall for ugly girls?'}, {'text': 'How do I measure the thickness of a paper?'}, {'text': 'Is Rock Music dying?'}, {'text': 'How should I study to pass the first Semester of the 1st year of MBBS?'}, {'text': 'Why were River Valley Civilizations important? Where were they located?'}, {'text': \"Why aren't supporters of Bernie Sanders voting for Jill Stein?\"}, {'text': 'Why is the French translation of \"Hogwarts\" \"Poudlard\"?'}, {'text': \"How can a student belonging to a middle class afford an MS in the USA if they're an average engineering student?\"}, {'text': \"What are the sizes of Papa John's pizzas?\"}, {'text': \"What's one thing which you would like to undo in your life and why?\"}, {'text': 'What impact do you want to leave on the world before you die?'}, {'text': 'How has the 500 & 1,000 ban hit Pakistan?'}, {'text': 'How does blood look on sand?'}, {'text': 'Why are Spotify and Pandora not available in India?'}, {'text': 'How do men penis provide gum to women during sex?'}, {'text': 'How do I recover photos / videos / files accidentally deleted from an SD / microSD / CF / memory Stick Duo / USB memory card / Pen Drive?'}, {'text': 'How do you know if you have found the right guy/girl?'}, {'text': 'Am I addicted to my job? If so, how can I break it and approach work more rationally?'}, {'text': 'What will Trump do to make America great again?'}, {'text': \"Where's the best place to buy lighter fluid for zippos?\"}, {'text': 'What are some good gift ideas for my parents from my first salary?'}, {'text': 'Who will be USA next president, Trump or Clinton?'}, {'text': 'How write best essay in UPSC?'}, {'text': 'Can you track \"incognito browsing\" in Chrome?'}, {'text': 'Where is largest zoo in india?'}, {'text': 'What are the main service sectors in the Czech Republic?'}, {'text': 'Why do so many people retire to Florida?'}, {'text': 'How much time it takes to get a passport in normal application type?'}, {'text': 'How long does it take to stop being so upset after some body in your family died?'}, {'text': 'Is everyone a genius on Quora?'}, {'text': 'How can I treat my depression?'}, {'text': 'What are deployment options for web based application in own web server?'}, {'text': 'Which method is most effective for drive traffic to webpage? And why? (in 150-160 Words'}, {'text': 'What is the aim of mechanical engineering?'}, {'text': 'Can a family live comfortably making $250,000 a year in New York City?'}, {'text': 'Why do people ask questions on Quora that are easily to find answers too on Google?'}, {'text': 'What are the three states of matter and its properties?'}, {'text': 'What is wrong with the American education system?'}, {'text': 'I am an Indian living in China. How can I apply for a Dubai tourist visa?'}, {'text': 'Why do you think that you failed to clear the JEE Advanced?'}, {'text': 'What is muscle?'}, {'text': 'Which icon is this 2 phone image?'}, {'text': 'How much time do people spend in social media versus TV?'}, {'text': 'What are some of the best road tour / mobile marketing campaigns?'}, {'text': 'What happens when the Earth gets colder?'}, {'text': 'When and how are covalent bonds formed?'}, {'text': 'What are the similarities between Mahabharata and Game of Thrones?'}, {'text': 'How do you cut a granite countertop?'}, {'text': 'Does a gap of a year after graduation seriously affects my career prospects?'}, {'text': 'What are the strongest majors in terms of job prospects and what are the weakest majors at Frostburg State?'}, {'text': 'How do you find the value of [math]\\\\sqrt{3 + \\\\sqrt{3 - \\\\sqrt{3 + …}}}[/math]?'}, {'text': \"What are you missing out on if you don't use social media?\"}, {'text': 'I got C grade in hindi FA-1 exam of class 10.Can i score 10 CGPA in final exam?'}, {'text': \"What's the difference between working all night until 4am and waking up at 12pm and going to sleep at 10pm and waking up to work at 5am?\"}, {'text': 'Codecademy: What is the solution to JavaScript Quick Start Guide, Lesson 4 Question 7?'}, {'text': 'Can you put afrin in your anus to shrink hemmriods?'}, {'text': 'What universities does Aspen insurance recruit new grads from? What majors are they looking for?'}]\n",
      "[[-0.0216415  -0.06514019  0.00364017 ... -0.08498804  0.03726393\n",
      "   0.0161914 ]\n",
      " [-0.01126643  0.03603982 -0.06367259 ... -0.00386737  0.01594518\n",
      "   0.02169055]\n",
      " [ 0.03675038  0.03395354 -0.0286138  ... -0.06547903  0.0880661\n",
      "   0.0083652 ]\n",
      " ...\n",
      " [-0.04576529 -0.01655908  0.01040117 ...  0.14648959 -0.03474679\n",
      "   0.02625156]\n",
      " [-0.06783283  0.01387617 -0.03765667 ... -0.0060108   0.04320636\n",
      "   0.03663735]\n",
      " [ 0.0816386  -0.03365948  0.0517998  ... -0.18619977  0.06602955\n",
      "   0.0467287 ]]\n"
     ]
    }
   ],
   "source": [
    "batch_size=200\n",
    "vector_limit=10000\n",
    "\n",
    "questions = question[:vector_limit]\n",
    "\n",
    "import json\n",
    "\n",
    "range(0, len(questions), batch_size)\n",
    "\n",
    "i = 0\n",
    "i_end = 200\n",
    "ids = [str(x) for x in range(i, i_end)]\n",
    "print(ids)\n",
    "metadatas = [{'text': text} for text in questions[i:i_end]]\n",
    "print(metadatas)\n",
    "xc = model.encode(questions[i:i_end])\n",
    "print(xc)"
   ]
  },
  {
   "cell_type": "code",
   "execution_count": 13,
   "id": "ea551303-aa81-41cd-adc5-dc9ea8072397",
   "metadata": {
    "height": 352
   },
   "outputs": [
    {
     "data": {
      "application/vnd.jupyter.widget-view+json": {
       "model_id": "8022bb310f0e4b56b7bc9b02fe535ea9",
       "version_major": 2,
       "version_minor": 0
      },
      "text/plain": [
       "  0%|          | 0/50 [00:00<?, ?it/s]"
      ]
     },
     "metadata": {},
     "output_type": "display_data"
    }
   ],
   "source": [
    "batch_size=200\n",
    "vector_limit=10000\n",
    "\n",
    "questions = question[:vector_limit]\n",
    "\n",
    "import json\n",
    "\n",
    "for i in tqdm(range(0, len(questions), batch_size)):\n",
    "    # find end of batch\n",
    "    i_end = min(i+batch_size, len(questions))\n",
    "    # create IDs batch\n",
    "    ids = [str(x) for x in range(i, i_end)]\n",
    "    # create metadata batch\n",
    "    metadatas = [{'text': text} for text in questions[i:i_end]]\n",
    "    # create embeddings\n",
    "    xc = model.encode(questions[i:i_end])\n",
    "    # create records list for upsert\n",
    "    records = zip(ids, xc, metadatas)\n",
    "    # upsert to Pinecone\n",
    "    index.upsert(vectors=records)"
   ]
  },
  {
   "cell_type": "code",
   "execution_count": 14,
   "id": "6153920a-f4c4-420e-9790-262dd2299fc6",
   "metadata": {
    "height": 30
   },
   "outputs": [
    {
     "data": {
      "text/plain": [
       "{'dimension': 384,\n",
       " 'index_fullness': 0.0,\n",
       " 'namespaces': {'': {'vector_count': 10000}},\n",
       " 'total_vector_count': 10000}"
      ]
     },
     "execution_count": 14,
     "metadata": {},
     "output_type": "execute_result"
    }
   ],
   "source": [
    "index.describe_index_stats()"
   ]
  },
  {
   "cell_type": "markdown",
   "id": "71135418",
   "metadata": {},
   "source": [
    "### Run Your Query"
   ]
  },
  {
   "cell_type": "code",
   "execution_count": 15,
   "id": "28b20b81-4782-4ce2-aec3-9576c7779f2e",
   "metadata": {
    "height": 115
   },
   "outputs": [],
   "source": [
    "# small helper function so we can repeat queries later\n",
    "def run_query(query):\n",
    "  embedding = model.encode(query).tolist()\n",
    "  results = index.query(top_k=10, vector=embedding, include_metadata=True, include_values=False)\n",
    "  for result in results['matches']:\n",
    "    print(f\"{round(result['score'], 2)}: {result['metadata']['text']}\")"
   ]
  },
  {
   "cell_type": "code",
   "execution_count": 16,
   "id": "4c4244d6-7be0-4ee1-a36a-0d586f0555f7",
   "metadata": {
    "height": 30
   },
   "outputs": [
    {
     "name": "stdout",
     "output_type": "stream",
     "text": [
      "0.62: How many cities are on Earth?\n",
      "0.58: What country has the most beautiful people?\n",
      "0.55: Which is best city in India?\n",
      "0.55: Where are the largest slums in the world?\n",
      "0.55: Which is the best city to reside in India?\n",
      "0.53: Which is the biggest arena in the world?\n",
      "0.53: Which is the top worst country in the world?\n",
      "0.52: What are the most unsafe cities in America?\n",
      "0.51: What are the largest cities in Spain and what are they most known for?\n",
      "0.5: Which city would you like to live in China?\n"
     ]
    }
   ],
   "source": [
    "run_query('which city has the highest population in the world?')"
   ]
  },
  {
   "cell_type": "code",
   "execution_count": 17,
   "id": "f85b20fe-2328-47eb-84cd-bf3b27c6d4aa",
   "metadata": {
    "height": 47
   },
   "outputs": [
    {
     "name": "stdout",
     "output_type": "stream",
     "text": [
      "0.77: What are some ways to add chocolate chips to a cake mix?\n",
      "0.64: How do you bake a 10\" cake?\n",
      "0.55: What is the difference between chocolate and truffles and how are they made?\n",
      "0.53: What is the red velvet cake frosting made of?\n",
      "0.52: How do you bake air-dry clay?\n",
      "0.5: What are the best ways to make candles at home?\n",
      "0.5: How do I make a red fondant?\n",
      "0.44: Are chocolates good for health or not?\n",
      "0.42: How do you make Tim Horton's iced cappuccino recipe?\n",
      "0.41: What would you do if ordered a cake for a child's birthday, and a mix-up led to you receiving an erotic cake instead?\n"
     ]
    }
   ],
   "source": [
    "query = 'how do i make chocolate cake?'\n",
    "run_query(query)"
   ]
  },
  {
   "cell_type": "code",
   "execution_count": null,
   "id": "98af4baf-c5f5-45d2-8a37-d08a6cd33656",
   "metadata": {},
   "outputs": [],
   "source": []
  },
  {
   "cell_type": "code",
   "execution_count": null,
   "id": "2f4d13f1-71fc-4472-a9f1-91d5c213c552",
   "metadata": {},
   "outputs": [],
   "source": []
  }
 ],
 "metadata": {
  "kernelspec": {
   "display_name": "Python 3 (ipykernel)",
   "language": "python",
   "name": "python3"
  },
  "language_info": {
   "codemirror_mode": {
    "name": "ipython",
    "version": 3
   },
   "file_extension": ".py",
   "mimetype": "text/x-python",
   "name": "python",
   "nbconvert_exporter": "python",
   "pygments_lexer": "ipython3",
   "version": "3.9.10"
  }
 },
 "nbformat": 4,
 "nbformat_minor": 5
}
