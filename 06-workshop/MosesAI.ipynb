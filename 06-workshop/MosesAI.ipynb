{
 "cells": [
  {
   "cell_type": "markdown",
   "id": "acbc5637",
   "metadata": {},
   "source": [
    "MosesAI workshop\n"
   ]
  },
  {
   "cell_type": "code",
   "execution_count": 3,
   "id": "ac997fb0",
   "metadata": {},
   "outputs": [],
   "source": [
    "import openai\n",
    "import os\n",
    "\n",
    "from dotenv import load_dotenv, find_dotenv\n",
    "_ = load_dotenv(find_dotenv()) # read local .env file\n",
    "openai.api_key  = os.getenv('OPENAI_API_KEY')\n",
    "MODEL=\"gpt-4\""
   ]
  },
  {
   "cell_type": "code",
   "execution_count": 33,
   "id": "6cfa19c1",
   "metadata": {},
   "outputs": [],
   "source": [
    "def get_completion(prompt, model=MODEL):\n",
    "    messages = [{\"role\": \"user\", \"content\": prompt}]\n",
    "    response = openai.ChatCompletion.create(\n",
    "        model=model,\n",
    "        messages=messages,\n",
    "        temperature=0, # this is the degree of randomness of the model's output\n",
    "    )\n",
    "    return response.choices[0].message[\"content\"]"
   ]
  },
  {
   "cell_type": "code",
   "execution_count": 34,
   "id": "a7cbff96",
   "metadata": {},
   "outputs": [],
   "source": [
    "fact_sheet_talmud = \"\"\"\n",
    "Libation wine is prohibited for benefit. \\\n",
    "Some say that the same prohibition applies to today's regular wines, \\\n",
    "but others maintain that nowadays, since idolatrous libations have fallen into disuse, \\\n",
    "the ordinary wine of non-Jews is prohibited only for drinking but not for benefit.\n",
    "\n",
    "If an idolater fell into a wine cistern and ascended from it, or he measured it with the reed, or he flicked a hornet out of it with a reed – all of these cases actually happened, and the Sages allowed the wine to be sold to idolaters. Rabbi Shimon permits this wine even for drinking, because it will not lead to socializing.\n",
    "\n",
    "The previous ruling stated that when one sells a wine cellar, the buyer has to accept 10% of barrels that began to sour. But compare it to the following.\n",
    "\n",
    "If a seller says, “I am selling you A cellar of wine,” - he must give the buyer wine which is all good. If he says, “I am selling you THIS cellar of wine,” meaning AS IS, he may give the buyer wine of quality as sold in stores for immediate consumption, that is, souring wine.\n",
    "\n",
    "So when does the buyer accept 10% inferior wine? When the seller said “as is,” but the buyer mentioned that he needs wine for cooking – which means that it will be used slowly over time. “As is” allows all souring wine, but “for cooking” requires no more than 10%.\n",
    "\"\"\""
   ]
  },
  {
   "cell_type": "code",
   "execution_count": 35,
   "id": "592f8d49",
   "metadata": {},
   "outputs": [
    {
     "name": "stdout",
     "output_type": "stream",
     "text": [
      "The rules for selling wine are based on the distinction between libation wine and regular wine, as well as the quality of the wine being sold. Libation wine, which is used for idolatrous purposes, is prohibited for benefit. There is a debate on whether this prohibition applies to regular wines today, with some arguing that non-Jewish wine is only prohibited for drinking but not for benefit due to the decline in idolatrous libations.\n",
      "\n",
      "In cases where an idolater has interacted with the wine in some way, such as falling into a wine cistern or measuring it, the Sages permit the wine to be sold to idolaters. Rabbi Shimon even allows this wine for drinking, as it will not lead to socializing.\n",
      "\n",
      "When selling a wine cellar, the quality of the wine being sold depends on the seller's wording. If the seller says, \"I am selling you A cellar of wine,\" the buyer should receive all good wine. If the seller says, \"I am selling you THIS cellar of wine,\" meaning \"as is,\" the buyer may receive wine of quality as sold in stores for immediate consumption, which may include souring wine.\n",
      "\n",
      "The buyer accepts 10% inferior wine in cases where the seller said \"as is,\" but the buyer mentioned that they need wine for cooking. This implies that the wine will be used slowly over time, and therefore, no more than 10% of the wine should be of inferior quality.\n"
     ]
    }
   ],
   "source": [
    "prompt = f\"\"\"\n",
    "Your task is to answer the question ```What are the rules selling wine? Explain.```\n",
    "\n",
    "Using this background information: ```{fact_sheet_talmud}```\n",
    "\"\"\"\n",
    "response = get_completion(prompt)\n",
    "print(response)"
   ]
  },
  {
   "cell_type": "code",
   "execution_count": null,
   "id": "475ac524",
   "metadata": {},
   "outputs": [],
   "source": []
  },
  {
   "cell_type": "code",
   "execution_count": null,
   "id": "2a0c40f4",
   "metadata": {},
   "outputs": [],
   "source": []
  }
 ],
 "metadata": {
  "kernelspec": {
   "display_name": "Python 3 (ipykernel)",
   "language": "python",
   "name": "python3"
  },
  "language_info": {
   "codemirror_mode": {
    "name": "ipython",
    "version": 3
   },
   "file_extension": ".py",
   "mimetype": "text/x-python",
   "name": "python",
   "nbconvert_exporter": "python",
   "pygments_lexer": "ipython3",
   "version": "3.8.13"
  }
 },
 "nbformat": 4,
 "nbformat_minor": 5
}
