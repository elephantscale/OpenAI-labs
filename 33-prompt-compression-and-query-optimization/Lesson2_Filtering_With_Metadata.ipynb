{
 "cells": [
  {
   "cell_type": "markdown",
   "id": "c7e7180dd4aad64d",
   "metadata": {
    "collapsed": false,
    "jupyter": {
     "outputs_hidden": false
    }
   },
   "source": [
    "# Lesson2: Filtering With Metadata"
   ]
  },
  {
   "cell_type": "code",
   "execution_count": null,
   "id": "950c4adcd8a8922b",
   "metadata": {
    "ExecuteTime": {
     "end_time": "2024-07-13T07:01:31.336628Z",
     "start_time": "2024-07-13T07:01:30.065545Z"
    },
    "collapsed": false,
    "jupyter": {
     "outputs_hidden": false
    }
   },
   "outputs": [],
   "source": [
    "import custom_utils"
   ]
  },
  {
   "cell_type": "markdown",
   "id": "dfb2467747306ad2",
   "metadata": {
    "collapsed": false,
    "jupyter": {
     "outputs_hidden": false
    }
   },
   "source": [
    "## Data Loading"
   ]
  },
  {
   "cell_type": "code",
   "execution_count": null,
   "id": "900eeac0cb81ec8b",
   "metadata": {
    "ExecuteTime": {
     "end_time": "2024-07-13T07:01:39.621009Z",
     "start_time": "2024-07-13T07:01:32.546817Z"
    },
    "collapsed": false,
    "jupyter": {
     "outputs_hidden": false
    }
   },
   "outputs": [],
   "source": [
    "from datasets import load_dataset\n",
    "import pandas as pd\n",
    "\n",
    "datasets = load_dataset(\"MongoDB/airbnb_embeddings\", streaming=True, split=\"train\")\n",
    "dataset = datasets.take(100)\n",
    "dataset_df = pd.DataFrame(dataset)\n",
    "dataset_df.head(5)"
   ]
  },
  {
   "cell_type": "code",
   "execution_count": null,
   "id": "ed5523043c2ef4ea",
   "metadata": {
    "ExecuteTime": {
     "end_time": "2024-07-13T07:01:43.307361Z",
     "start_time": "2024-07-13T07:01:43.294547Z"
    },
    "collapsed": false,
    "jupyter": {
     "outputs_hidden": false
    }
   },
   "outputs": [],
   "source": [
    "print(\"Columns:\", dataset_df.columns)"
   ]
  },
  {
   "cell_type": "markdown",
   "id": "65a8fb0b9de8fe56",
   "metadata": {
    "collapsed": false,
    "jupyter": {
     "outputs_hidden": false
    }
   },
   "source": [
    "# Document Modelling"
   ]
  },
  {
   "cell_type": "code",
   "execution_count": null,
   "id": "477cfb5ffa0b1f40",
   "metadata": {
    "ExecuteTime": {
     "end_time": "2024-07-13T07:01:47.710193Z",
     "start_time": "2024-07-13T07:01:47.624398Z"
    },
    "collapsed": false,
    "jupyter": {
     "outputs_hidden": false
    }
   },
   "outputs": [],
   "source": [
    "listings = custom_utils.process_records(dataset_df)"
   ]
  },
  {
   "cell_type": "markdown",
   "id": "469b45001fbc7ff5",
   "metadata": {
    "collapsed": false,
    "jupyter": {
     "outputs_hidden": false
    }
   },
   "source": [
    "# Database Creation and Connection"
   ]
  },
  {
   "cell_type": "code",
   "execution_count": null,
   "id": "993c7be06b1c65e1",
   "metadata": {
    "ExecuteTime": {
     "end_time": "2024-07-13T07:01:50.425776Z",
     "start_time": "2024-07-13T07:01:50.206065Z"
    },
    "collapsed": false,
    "jupyter": {
     "outputs_hidden": false
    }
   },
   "outputs": [],
   "source": [
    "db, collection = custom_utils.connect_to_database()"
   ]
  },
  {
   "cell_type": "code",
   "execution_count": null,
   "id": "cb904ec5992096ba",
   "metadata": {
    "ExecuteTime": {
     "end_time": "2024-07-13T07:02:57.456523Z",
     "start_time": "2024-07-13T07:02:57.025925Z"
    },
    "collapsed": false,
    "jupyter": {
     "outputs_hidden": false
    }
   },
   "outputs": [],
   "source": [
    "collection.delete_many({})"
   ]
  },
  {
   "cell_type": "markdown",
   "id": "de9bbfa2564924be",
   "metadata": {
    "collapsed": false,
    "jupyter": {
     "outputs_hidden": false
    }
   },
   "source": [
    "# Data Ingestion"
   ]
  },
  {
   "cell_type": "code",
   "execution_count": null,
   "id": "b077dc4b6df9784e",
   "metadata": {
    "ExecuteTime": {
     "end_time": "2024-07-13T07:03:03.184754Z",
     "start_time": "2024-07-13T07:03:02.559570Z"
    },
    "collapsed": false,
    "jupyter": {
     "outputs_hidden": false
    }
   },
   "outputs": [],
   "source": [
    "collection.insert_many(listings)\n",
    "print(\"Data ingestion into MongoDB completed\")"
   ]
  },
  {
   "cell_type": "markdown",
   "id": "fc0e49e161151b8f",
   "metadata": {
    "collapsed": false,
    "jupyter": {
     "outputs_hidden": false
    }
   },
   "source": [
    "# Vector Search Index defintion"
   ]
  },
  {
   "cell_type": "code",
   "execution_count": null,
   "id": "d1cfc25d97901f99",
   "metadata": {
    "ExecuteTime": {
     "end_time": "2024-07-13T07:03:07.574625Z",
     "start_time": "2024-07-13T07:03:06.496622Z"
    },
    "collapsed": false,
    "jupyter": {
     "outputs_hidden": false
    }
   },
   "outputs": [],
   "source": [
    "custom_utils.setup_vector_search_index(collection=collection)"
   ]
  },
  {
   "cell_type": "markdown",
   "id": "46a7cf3a0ba93d8d",
   "metadata": {
    "collapsed": false,
    "jupyter": {
     "outputs_hidden": false
    }
   },
   "source": [
    "\n",
    "# Compose Vector Search Query"
   ]
  },
  {
   "cell_type": "code",
   "execution_count": null,
   "id": "571219c90db0d6c5",
   "metadata": {
    "ExecuteTime": {
     "end_time": "2024-07-13T07:06:16.149956Z",
     "start_time": "2024-07-13T07:06:16.130769Z"
    },
    "collapsed": false,
    "jupyter": {
     "outputs_hidden": false
    }
   },
   "outputs": [],
   "source": [
    "def vector_search(user_query, db, collection, additional_stages=[], vector_index=\"vector_index_text\"):\n",
    "    \"\"\"\n",
    "    Perform a vector search in the MongoDB collection based on the user query.\n",
    "\n",
    "    Args:\n",
    "    user_query (str): The user's query string.\n",
    "    db (MongoClient.database): The database object.\n",
    "    collection (MongoCollection): The MongoDB collection to search.\n",
    "    additional_stages (list): Additional aggregation stages to include in the pipeline.\n",
    "\n",
    "    Returns:\n",
    "    list: A list of matching documents.\n",
    "    \"\"\"\n",
    "\n",
    "    query_embeddings = custom_utils.get_embedding(user_query)\n",
    "\n",
    "    if query_embeddings is None:\n",
    "        return \"Invalid query or embedding generation failed.\"\n",
    "    vector_search_stage = {\n",
    "        \"$vectorSearch\": {\n",
    "            \"index\": vector_index,\n",
    "            \"queryVector\": query_embeddings,\n",
    "            \"path\": \"text_embeddings\",\n",
    "            \"numCandidates\": 150,\n",
    "            \"limit\": 20,\n",
    "        }\n",
    "    }\n",
    "    pipeline = [vector_search_stage] + additional_stages\n",
    "\n",
    "    results = collection.aggregate(pipeline)\n",
    "\n",
    "    explain_query_execution = db.command(  \n",
    "        'explain', {  \n",
    "            'aggregate': collection.name,  \n",
    "            'pipeline': pipeline,  \n",
    "            'cursor': {} \n",
    "        },\n",
    "        verbosity='executionStats')  \n",
    "\n",
    "    vector_search_explain = explain_query_execution['stages'][0]['$vectorSearch']\n",
    "    millis_elapsed = vector_search_explain['explain']['collectStats']['millisElapsed']\n",
    "\n",
    "    print(f\"Total time for the execution to complete on the database server: {millis_elapsed} milliseconds\")\n",
    "\n",
    "    return list(results)"
   ]
  },
  {
   "cell_type": "markdown",
   "id": "d9a7545c08d65e8",
   "metadata": {
    "collapsed": false,
    "jupyter": {
     "outputs_hidden": false
    }
   },
   "source": [
    "# Handling User Query"
   ]
  },
  {
   "cell_type": "code",
   "execution_count": null,
   "id": "ed6891db1dfb073a",
   "metadata": {
    "ExecuteTime": {
     "end_time": "2024-07-13T07:06:17.892636Z",
     "start_time": "2024-07-13T07:06:17.872094Z"
    },
    "collapsed": false,
    "jupyter": {
     "outputs_hidden": false
    }
   },
   "outputs": [],
   "source": [
    "from pydantic import BaseModel\n",
    "from typing import Optional\n",
    "\n",
    "\n",
    "class SearchResultItem(BaseModel):\n",
    "    name: str\n",
    "    accommodates: Optional[int] = None\n",
    "    bedrooms: Optional[int] = None\n",
    "    address: custom_utils.Address\n",
    "    space: str = None"
   ]
  },
  {
   "cell_type": "code",
   "execution_count": null,
   "id": "18e5b8aa445e49f1",
   "metadata": {
    "ExecuteTime": {
     "end_time": "2024-07-13T07:06:18.491797Z",
     "start_time": "2024-07-13T07:06:18.487329Z"
    },
    "collapsed": false,
    "jupyter": {
     "outputs_hidden": false
    }
   },
   "outputs": [],
   "source": [
    "from IPython.display import display, HTML\n",
    "\n",
    "\n",
    "def handle_user_query(query, db, collection, stages=[], vector_index=\"vector_index_text\"):\n",
    "    get_knowledge = vector_search(query, db, collection, stages, vector_index)\n",
    "\n",
    "    if not get_knowledge:\n",
    "        return \"No results found.\", \"No source information available.\"\n",
    "\n",
    "    search_results_models = [\n",
    "        SearchResultItem(**result)\n",
    "        for result in get_knowledge\n",
    "    ]\n",
    "\n",
    "    search_results_df = pd.DataFrame([item.dict() for item in search_results_models])\n",
    "\n",
    "    completion = custom_utils.openai.chat.completions.create(\n",
    "        model=\"gpt-3.5-turbo\",\n",
    "        messages=[\n",
    "            {\n",
    "                \"role\": \"system\",\n",
    "                \"content\": \"You are a airbnb listing recommendation system.\"},\n",
    "            {\n",
    "                \"role\": \"user\",\n",
    "                \"content\": f\"Answer this user query: {query} with the following context:\\n{search_results_df}\"\n",
    "            }\n",
    "        ]\n",
    "    )\n",
    "\n",
    "    system_response = completion.choices[0].message.content\n",
    "\n",
    "    print(f\"- User Question:\\n{query}\\n\")\n",
    "    print(f\"- System Response:\\n{system_response}\\n\")\n",
    "\n",
    "    display(HTML(search_results_df.to_html()))\n",
    "\n",
    "    return system_response"
   ]
  },
  {
   "cell_type": "markdown",
   "id": "19bb8b63ca9b80c7",
   "metadata": {
    "collapsed": false,
    "jupyter": {
     "outputs_hidden": false
    }
   },
   "source": [
    "# Adding A Post Filter to Vector Search (Match Operator)"
   ]
  },
  {
   "cell_type": "code",
   "execution_count": null,
   "id": "9a884999931d9970",
   "metadata": {
    "ExecuteTime": {
     "end_time": "2024-07-13T07:06:20.003013Z",
     "start_time": "2024-07-13T07:06:19.998989Z"
    },
    "collapsed": false,
    "jupyter": {
     "outputs_hidden": false
    }
   },
   "outputs": [],
   "source": [
    "import re\n",
    "\n",
    "search_path = \"address.country\"\n",
    "\n",
    "match_stage = {\n",
    "    \"$match\": {\n",
    "        search_path: re.compile(r\"United States\"),\n",
    "        \"accommodates\":{\"$gt\":1,\"$lt\":5}\n",
    "    }\n",
    "}\n",
    "additional_stages=[match_stage]"
   ]
  },
  {
   "cell_type": "code",
   "execution_count": null,
   "id": "a08a0d73b5b29ff9",
   "metadata": {
    "ExecuteTime": {
     "end_time": "2024-07-13T07:06:23.987496Z",
     "start_time": "2024-07-13T07:06:21.112315Z"
    },
    "collapsed": false,
    "jupyter": {
     "outputs_hidden": false
    }
   },
   "outputs": [],
   "source": [
    "query = \"\"\"\n",
    "I want to stay in a place that's warm and friendly, \n",
    "and not too far from restaurants, can you recommend a place? \n",
    "Include a reason as to why you've chosen your selection\"\n",
    "\"\"\"\n",
    "handle_user_query(query, db, collection, additional_stages)"
   ]
  },
  {
   "cell_type": "markdown",
   "id": "a5cb132475237b29",
   "metadata": {
    "collapsed": false,
    "jupyter": {
     "outputs_hidden": false
    }
   },
   "source": [
    "# Adding A PreFilter to Vector Search"
   ]
  },
  {
   "cell_type": "code",
   "execution_count": null,
   "id": "92ab87131ffdc2db",
   "metadata": {
    "ExecuteTime": {
     "end_time": "2024-07-13T07:06:47.873734Z",
     "start_time": "2024-07-13T07:06:26.839998Z"
    },
    "collapsed": false,
    "jupyter": {
     "outputs_hidden": false
    }
   },
   "outputs": [],
   "source": [
    "from pymongo.operations import SearchIndexModel\n",
    "import time \n",
    "\n",
    "vector_index_with_filter = \"vector_index_with_filter\"\n",
    "\n",
    "new_vector_search_index_model = SearchIndexModel(\n",
    "    definition={\n",
    "        \"mappings\": {\n",
    "            \"dynamic\": True,\n",
    "            \"fields\": {\n",
    "                \"text_embeddings\": {\n",
    "                    \"dimensions\": 1536,\n",
    "                    \"similarity\": \"cosine\",\n",
    "                    \"type\": \"knnVector\",\n",
    "                },\n",
    "                 \"accommodates\": {\n",
    "                    \"type\": \"number\"\n",
    "                },\n",
    "                \"bedrooms\": {\n",
    "                    \"type\": \"number\"\n",
    "                },\n",
    "            },\n",
    "        }\n",
    "    },\n",
    "    name=vector_index_with_filter,\n",
    ")\n",
    "\n",
    "# Create the new index\n",
    "try:\n",
    "    result = collection.create_search_index(model=new_vector_search_index_model)\n",
    "    print(\"Creating index...\")\n",
    "    time.sleep(20)  \n",
    "    print(\"New index created successfully:\", result)\n",
    "except Exception as e:\n",
    "    print(f\"Error creating new vector search index: {str(e)}\")"
   ]
  },
  {
   "cell_type": "code",
   "execution_count": null,
   "id": "f0307320b6ac68a3",
   "metadata": {
    "ExecuteTime": {
     "end_time": "2024-07-13T07:07:07.984490Z",
     "start_time": "2024-07-13T07:07:07.976421Z"
    },
    "collapsed": false,
    "jupyter": {
     "outputs_hidden": false
    }
   },
   "outputs": [],
   "source": [
    "def vector_search(user_query, db, collection, additional_stages=[], vector_index=\"vector_index_text\"):\n",
    "    query_embedding = custom_utils.get_embedding(user_query)\n",
    "    if query_embedding is None:\n",
    "        return \"Invalid query or embedding generation failed.\"\n",
    "\n",
    "    vector_search_stage = {\n",
    "        \"$vectorSearch\": {\n",
    "            \"index\": vector_index,  \n",
    "            \"queryVector\": query_embedding,  \n",
    "            \"path\": \"text_embeddings\",  \n",
    "            \"numCandidates\": 150,  \n",
    "            \"limit\": 20,  \n",
    "            \"filter\": {\n",
    "                \"$and\": [\n",
    "                    {\"accommodates\": {\"$gte\": 2}}, \n",
    "                    {\"bedrooms\": {\"$lte\": 7}}\n",
    "                ]\n",
    "            },\n",
    "        }\n",
    "    }\n",
    "    pipeline = [vector_search_stage] + additional_stages\n",
    "    results = collection.aggregate(pipeline)\n",
    "    explain_query_execution = db.command( \n",
    "        'explain', { \n",
    "            'aggregate': collection.name, \n",
    "            'pipeline': pipeline, \n",
    "            'cursor': {} \n",
    "        }, \n",
    "        verbosity='executionStats') \n",
    "\n",
    "    vector_search_explain = explain_query_execution['stages'][0]['$vectorSearch']\n",
    "    millis_elapsed = vector_search_explain['explain']['collectStats']['millisElapsed']\n",
    "\n",
    "    print(f\"Total time for the execution to complete on the database server: {millis_elapsed} milliseconds\")\n",
    "    return list(results)"
   ]
  },
  {
   "cell_type": "code",
   "execution_count": null,
   "id": "7976ccc55fd236a8",
   "metadata": {
    "ExecuteTime": {
     "end_time": "2024-07-13T07:07:12.630860Z",
     "start_time": "2024-07-13T07:07:09.524287Z"
    },
    "collapsed": false,
    "jupyter": {
     "outputs_hidden": false
    }
   },
   "outputs": [],
   "source": [
    "query = \"\"\"\n",
    "I want to stay in a place that's warm and friendly, \n",
    "and not too far from resturants, can you recommend a place? \n",
    "Include a reason as to why you've chosen your selection\"\n",
    "\"\"\"\n",
    "handle_user_query(\n",
    "    query, \n",
    "    db, \n",
    "    collection, \n",
    "    vector_index=vector_index_with_filter\n",
    ")"
   ]
  }
 ],
 "metadata": {
  "kernelspec": {
   "display_name": "Python 3 (ipykernel)",
   "language": "python",
   "name": "python3"
  },
  "language_info": {
   "codemirror_mode": {
    "name": "ipython",
    "version": 3
   },
   "file_extension": ".py",
   "mimetype": "text/x-python",
   "name": "python",
   "nbconvert_exporter": "python",
   "pygments_lexer": "ipython3",
   "version": "3.12.4"
  }
 },
 "nbformat": 4,
 "nbformat_minor": 5
}
