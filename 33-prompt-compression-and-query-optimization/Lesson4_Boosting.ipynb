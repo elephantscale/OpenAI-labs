{
 "cells": [
  {
   "cell_type": "markdown",
   "id": "f0977c44787efb12",
   "metadata": {
    "collapsed": false,
    "jupyter": {
     "outputs_hidden": false
    }
   },
   "source": [
    "# Lesson4: Boosting"
   ]
  },
  {
   "cell_type": "code",
   "execution_count": null,
   "id": "2a5460605bd34fd8",
   "metadata": {
    "ExecuteTime": {
     "end_time": "2024-07-13T07:47:15.796461Z",
     "start_time": "2024-07-13T07:47:14.932654Z"
    },
    "collapsed": false,
    "jupyter": {
     "outputs_hidden": false
    }
   },
   "outputs": [],
   "source": [
    "import custom_utils"
   ]
  },
  {
   "cell_type": "code",
   "execution_count": null,
   "id": "13cedf544791a8df",
   "metadata": {
    "ExecuteTime": {
     "end_time": "2024-07-13T07:49:53.269173Z",
     "start_time": "2024-07-13T07:49:48.418551Z"
    },
    "collapsed": false,
    "jupyter": {
     "outputs_hidden": false
    }
   },
   "outputs": [],
   "source": [
    "from datasets import load_dataset\n",
    "import pandas as pd\n",
    "\n",
    "datasets = load_dataset(\"MongoDB/airbnb_embeddings\", streaming=True, split=\"train\")\n",
    "dataset = datasets.take(100)\n",
    "dataset_df = pd.DataFrame(dataset)\n",
    "dataset_df.head(5)"
   ]
  },
  {
   "cell_type": "code",
   "execution_count": null,
   "id": "9f821eba4e4150aa",
   "metadata": {
    "ExecuteTime": {
     "end_time": "2024-07-13T07:50:00.316799Z",
     "start_time": "2024-07-13T07:50:00.309246Z"
    },
    "collapsed": false,
    "jupyter": {
     "outputs_hidden": false
    }
   },
   "outputs": [],
   "source": [
    "print(\"Columns:\", dataset_df.columns)"
   ]
  },
  {
   "cell_type": "markdown",
   "id": "c6211f504d1a96ce",
   "metadata": {
    "collapsed": false,
    "jupyter": {
     "outputs_hidden": false
    }
   },
   "source": [
    "# Document Modelling"
   ]
  },
  {
   "cell_type": "code",
   "execution_count": null,
   "id": "f6e447956a61b3dc",
   "metadata": {
    "ExecuteTime": {
     "end_time": "2024-07-13T07:50:45.619206Z",
     "start_time": "2024-07-13T07:50:45.527592Z"
    },
    "collapsed": false,
    "jupyter": {
     "outputs_hidden": false
    }
   },
   "outputs": [],
   "source": [
    "listings = custom_utils.process_records(dataset_df)"
   ]
  },
  {
   "cell_type": "markdown",
   "id": "184d7e3128d92fcd",
   "metadata": {
    "collapsed": false,
    "jupyter": {
     "outputs_hidden": false
    }
   },
   "source": [
    "# Database creation and connection"
   ]
  },
  {
   "cell_type": "code",
   "execution_count": null,
   "id": "760efb4bdf2356a1",
   "metadata": {
    "ExecuteTime": {
     "end_time": "2024-07-13T07:51:27.252563Z",
     "start_time": "2024-07-13T07:51:27.099844Z"
    },
    "collapsed": false,
    "jupyter": {
     "outputs_hidden": false
    }
   },
   "outputs": [],
   "source": [
    "db, collections = custom_utils.connect_to_database()"
   ]
  },
  {
   "cell_type": "markdown",
   "id": "c8444aae910857ec",
   "metadata": {
    "collapsed": false,
    "jupyter": {
     "outputs_hidden": false
    }
   },
   "source": [
    "# Data ingestion"
   ]
  },
  {
   "cell_type": "code",
   "execution_count": null,
   "id": "841fdb214e114c4b",
   "metadata": {
    "ExecuteTime": {
     "end_time": "2024-07-13T07:51:53.739559Z",
     "start_time": "2024-07-13T07:51:52.799142Z"
    },
    "collapsed": false,
    "jupyter": {
     "outputs_hidden": false
    }
   },
   "outputs": [],
   "source": [
    "collections.insert_many(listings)\n",
    "print(\"Data ingestion into MongoDB completed\")"
   ]
  },
  {
   "cell_type": "code",
   "execution_count": null,
   "id": "4d9f980f2c8e4bd7",
   "metadata": {
    "ExecuteTime": {
     "end_time": "2024-07-13T07:57:42.742834Z",
     "start_time": "2024-07-13T07:57:42.734752Z"
    },
    "collapsed": false,
    "jupyter": {
     "outputs_hidden": false
    }
   },
   "outputs": [],
   "source": [
    "# Vector search index defintion"
   ]
  },
  {
   "cell_type": "code",
   "execution_count": null,
   "id": "88cbfe5ccf92914c",
   "metadata": {
    "ExecuteTime": {
     "end_time": "2024-07-13T07:57:44.290994Z",
     "start_time": "2024-07-13T07:57:43.376623Z"
    },
    "collapsed": false,
    "jupyter": {
     "outputs_hidden": false
    }
   },
   "outputs": [],
   "source": [
    "custom_utils.setup_vector_search_index_with_filter(collection=collections)"
   ]
  },
  {
   "cell_type": "markdown",
   "id": "23b0b7d2449f84f7",
   "metadata": {
    "collapsed": false,
    "jupyter": {
     "outputs_hidden": false
    }
   },
   "source": [
    "# Handle user query"
   ]
  },
  {
   "cell_type": "code",
   "execution_count": null,
   "id": "d433eb7911a5c892",
   "metadata": {
    "ExecuteTime": {
     "end_time": "2024-07-13T07:57:45.719390Z",
     "start_time": "2024-07-13T07:57:45.713376Z"
    },
    "collapsed": false,
    "jupyter": {
     "outputs_hidden": false
    }
   },
   "outputs": [],
   "source": [
    "from pydantic import BaseModel\n",
    "from typing import Optional\n",
    "\n",
    "\n",
    "class SearchResultItem(BaseModel):\n",
    "    name: str\n",
    "    accommodates: Optional[int] = None\n",
    "    address: custom_utils.Address\n",
    "    averageReviewScore: Optional[float] = None\n",
    "    number_of_reviews: Optional[float] = None\n",
    "    combinedScore: Optional[float] = None\n"
   ]
  },
  {
   "cell_type": "code",
   "execution_count": null,
   "id": "4dba448855010102",
   "metadata": {
    "ExecuteTime": {
     "end_time": "2024-07-13T07:57:47.424921Z",
     "start_time": "2024-07-13T07:57:47.418146Z"
    },
    "collapsed": false,
    "jupyter": {
     "outputs_hidden": false
    }
   },
   "outputs": [],
   "source": [
    "from IPython.display import display, HTML\n",
    "\n",
    "\n",
    "def handle_user_query(query, db, collection, stages=[], vector_index=\"vector_index_text\"):\n",
    "    get_knowledge = custom_utils.vector_search_with_filter(query, db, collection, stages, vector_index)\n",
    "\n",
    "    if not get_knowledge:\n",
    "        return \"No results found.\", \"No source information available.\"\n",
    "\n",
    "    print(\"List of all fields of the first document, before model conformance\")\n",
    "    print(get_knowledge[0].keys())\n",
    "\n",
    "    search_results_models = [\n",
    "        SearchResultItem(**result)\n",
    "        for result in get_knowledge\n",
    "    ]\n",
    "\n",
    "    search_results_df = pd.DataFrame([item.dict() for item in search_results_models])\n",
    "\n",
    "    completion = custom_utils.openai.chat.completions.create(\n",
    "        model=\"gpt-3.5-turbo\",\n",
    "        messages=[\n",
    "            {\n",
    "                \"role\": \"system\",\n",
    "                \"content\": \"You are a airbnb listing recommendation system.\"},\n",
    "            {\n",
    "                \"role\": \"user\",\n",
    "                \"content\": f\"Answer this user query: {query} with the following context:\\n{search_results_df}\"\n",
    "            }\n",
    "        ]\n",
    "    )\n",
    "    system_response = completion.choices[0].message.content\n",
    "    print(f\"- User Question:\\n{query}\\n\")\n",
    "    print(f\"- System Response:\\n{system_response}\\n\")\n",
    "    display(HTML(search_results_df.to_html()))\n",
    "    return system_response"
   ]
  },
  {
   "cell_type": "markdown",
   "id": "5e1b62a5249659f4",
   "metadata": {
    "collapsed": false,
    "jupyter": {
     "outputs_hidden": false
    }
   },
   "source": [
    "# Boosting search result after vector search"
   ]
  },
  {
   "cell_type": "code",
   "execution_count": null,
   "id": "48dc29a8f1b76731",
   "metadata": {
    "ExecuteTime": {
     "end_time": "2024-07-13T07:58:40.273731Z",
     "start_time": "2024-07-13T07:58:40.265133Z"
    },
    "collapsed": false,
    "jupyter": {
     "outputs_hidden": false
    }
   },
   "outputs": [],
   "source": [
    "review_average_stage = {\n",
    "    \"$addFields\": {\n",
    "        \"averageReviewScore\": {\n",
    "            \"$divide\": [\n",
    "                {\n",
    "                    \"$add\": [\n",
    "                        \"$review_scores.review_scores_accuracy\",\n",
    "                        \"$review_scores.review_scores_cleanliness\",\n",
    "                        \"$review_scores.review_scores_checkin\",\n",
    "                        \"$review_scores.review_scores_communication\",\n",
    "                        \"$review_scores.review_scores_location\",\n",
    "                        \"$review_scores.review_scores_value\",\n",
    "                    ]\n",
    "                },\n",
    "                6  # Divide by the number of review score types to get the average\n",
    "            ]\n",
    "        },\n",
    "        \"reviewCountBoost\": \"$number_of_reviews\"\n",
    "    }\n",
    "}"
   ]
  },
  {
   "cell_type": "code",
   "execution_count": null,
   "id": "87c6a46aef295abb",
   "metadata": {
    "ExecuteTime": {
     "end_time": "2024-07-13T07:58:41.152837Z",
     "start_time": "2024-07-13T07:58:41.149620Z"
    },
    "collapsed": false,
    "jupyter": {
     "outputs_hidden": false
    }
   },
   "outputs": [],
   "source": [
    "weighting_stage = {\n",
    "    \"$addFields\": {\n",
    "        \"combinedScore\": {\n",
    "            \"$add\": [\n",
    "                {\"$multiply\": [\"$averageReviewScore\", 0.9]},  \n",
    "                {\"$multiply\": [\"$reviewCountBoost\", 0.1]}  \n",
    "            ]\n",
    "        }\n",
    "    }\n",
    "}"
   ]
  },
  {
   "cell_type": "code",
   "execution_count": null,
   "id": "d25402b9c5beefba",
   "metadata": {
    "ExecuteTime": {
     "end_time": "2024-07-13T07:58:41.976046Z",
     "start_time": "2024-07-13T07:58:41.973503Z"
    },
    "collapsed": false,
    "jupyter": {
     "outputs_hidden": false
    }
   },
   "outputs": [],
   "source": [
    "# Apply the combinedScore for sorting\n",
    "sorting_stage_sort = {\n",
    "    \"$sort\": {\"combinedScore\": -1}  \n",
    "}"
   ]
  },
  {
   "cell_type": "code",
   "execution_count": null,
   "id": "b452809a81e4127c",
   "metadata": {
    "ExecuteTime": {
     "end_time": "2024-07-13T07:58:42.792539Z",
     "start_time": "2024-07-13T07:58:42.787036Z"
    },
    "collapsed": false,
    "jupyter": {
     "outputs_hidden": false
    }
   },
   "outputs": [],
   "source": [
    "additional_stages = [review_average_stage, weighting_stage, sorting_stage_sort]"
   ]
  },
  {
   "cell_type": "code",
   "execution_count": null,
   "id": "d7f00646f0061179",
   "metadata": {
    "ExecuteTime": {
     "end_time": "2024-07-13T07:58:47.893979Z",
     "start_time": "2024-07-13T07:58:43.467862Z"
    },
    "collapsed": false,
    "jupyter": {
     "outputs_hidden": false
    }
   },
   "outputs": [],
   "source": [
    "query = \"\"\"\n",
    "I want to stay in a place that's warm and friendly, \n",
    "and not too far from resturants, can you recommend a place? \n",
    "Include a reason as to why you've chosen your selection\"\n",
    "\"\"\"\n",
    "handle_user_query(\n",
    "    query,\n",
    "    db,\n",
    "    collections,\n",
    "    additional_stages,\n",
    "    vector_index=\"vector_index_with_filter\"\n",
    ")"
   ]
  }
 ],
 "metadata": {
  "kernelspec": {
   "display_name": "Python 3 (ipykernel)",
   "language": "python",
   "name": "python3"
  },
  "language_info": {
   "codemirror_mode": {
    "name": "ipython",
    "version": 3
   },
   "file_extension": ".py",
   "mimetype": "text/x-python",
   "name": "python",
   "nbconvert_exporter": "python",
   "pygments_lexer": "ipython3",
   "version": "3.12.4"
  }
 },
 "nbformat": 4,
 "nbformat_minor": 5
}
