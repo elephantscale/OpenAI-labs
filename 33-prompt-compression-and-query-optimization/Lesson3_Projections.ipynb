{
 "cells": [
  {
   "cell_type": "markdown",
   "id": "7327161ffa93ac3c",
   "metadata": {
    "collapsed": false,
    "jupyter": {
     "outputs_hidden": false
    }
   },
   "source": [
    "# Lesson3: Projections"
   ]
  },
  {
   "cell_type": "code",
   "execution_count": null,
   "id": "d420f68a6a54de4f",
   "metadata": {
    "ExecuteTime": {
     "end_time": "2024-07-13T07:39:44.807059Z",
     "start_time": "2024-07-13T07:39:43.921024Z"
    },
    "collapsed": false,
    "jupyter": {
     "outputs_hidden": false
    }
   },
   "outputs": [],
   "source": [
    "import custom_utils"
   ]
  },
  {
   "cell_type": "code",
   "execution_count": null,
   "id": "c1bc825e9e0277c7",
   "metadata": {
    "ExecuteTime": {
     "end_time": "2024-07-13T07:39:54.927681Z",
     "start_time": "2024-07-13T07:39:45.287337Z"
    },
    "collapsed": false,
    "jupyter": {
     "outputs_hidden": false
    }
   },
   "outputs": [],
   "source": [
    "from datasets import load_dataset\n",
    "import pandas as pd\n",
    "\n",
    "datasets = load_dataset(\"MongoDB/airbnb_embeddings\", streaming=True, split=\"train\")\n",
    "dataset = datasets.take(100)\n",
    "dataset_df = pd.DataFrame(dataset)\n",
    "dataset_df.head(5)"
   ]
  },
  {
   "cell_type": "code",
   "execution_count": null,
   "id": "fb9597055dd471cf",
   "metadata": {
    "ExecuteTime": {
     "end_time": "2024-07-13T07:40:30.485607Z",
     "start_time": "2024-07-13T07:40:30.457654Z"
    },
    "collapsed": false,
    "jupyter": {
     "outputs_hidden": false
    }
   },
   "outputs": [],
   "source": [
    "print(\"Columns:\", dataset_df.columns)"
   ]
  },
  {
   "cell_type": "markdown",
   "id": "66427ca4f675bef0",
   "metadata": {
    "collapsed": false,
    "jupyter": {
     "outputs_hidden": false
    }
   },
   "source": [
    "# Document modeling"
   ]
  },
  {
   "cell_type": "code",
   "execution_count": null,
   "id": "4b22ec23f74eb9af",
   "metadata": {
    "ExecuteTime": {
     "end_time": "2024-07-13T07:40:31.964309Z",
     "start_time": "2024-07-13T07:40:31.877205Z"
    },
    "collapsed": false,
    "jupyter": {
     "outputs_hidden": false
    }
   },
   "outputs": [],
   "source": [
    "listings = custom_utils.process_records(dataset_df)"
   ]
  },
  {
   "cell_type": "markdown",
   "id": "1cf6d20aebc62e79",
   "metadata": {
    "collapsed": false,
    "jupyter": {
     "outputs_hidden": false
    }
   },
   "source": [
    "# Database creation and connection"
   ]
  },
  {
   "cell_type": "code",
   "execution_count": null,
   "id": "896dc4f105a794d2",
   "metadata": {
    "ExecuteTime": {
     "end_time": "2024-07-13T07:40:33.097496Z",
     "start_time": "2024-07-13T07:40:32.915827Z"
    },
    "collapsed": false,
    "jupyter": {
     "outputs_hidden": false
    }
   },
   "outputs": [],
   "source": [
    "db, collection = custom_utils.connect_to_database()"
   ]
  },
  {
   "cell_type": "markdown",
   "id": "b455654dd3c9a253",
   "metadata": {
    "collapsed": false,
    "jupyter": {
     "outputs_hidden": false
    }
   },
   "source": [
    "# Data ingestion"
   ]
  },
  {
   "cell_type": "code",
   "execution_count": null,
   "id": "973e04341b1a499d",
   "metadata": {
    "ExecuteTime": {
     "end_time": "2024-07-13T07:40:35.501667Z",
     "start_time": "2024-07-13T07:40:34.497471Z"
    },
    "collapsed": false,
    "jupyter": {
     "outputs_hidden": false
    }
   },
   "outputs": [],
   "source": [
    "collection.insert_many(listings)"
   ]
  },
  {
   "cell_type": "markdown",
   "id": "7dd79c071c096ae1",
   "metadata": {
    "collapsed": false,
    "jupyter": {
     "outputs_hidden": false
    }
   },
   "source": [
    "# Vector search index defination"
   ]
  },
  {
   "cell_type": "code",
   "execution_count": null,
   "id": "d60cb498fd3aecd",
   "metadata": {
    "ExecuteTime": {
     "end_time": "2024-07-13T07:40:38.599320Z",
     "start_time": "2024-07-13T07:40:37.530898Z"
    },
    "collapsed": false,
    "jupyter": {
     "outputs_hidden": false
    }
   },
   "outputs": [],
   "source": [
    "custom_utils.setup_vector_search_index_with_filter(collection=collection)"
   ]
  },
  {
   "cell_type": "markdown",
   "id": "908f392b52b0f222",
   "metadata": {
    "collapsed": false,
    "jupyter": {
     "outputs_hidden": false
    }
   },
   "source": [
    "# Handling user query"
   ]
  },
  {
   "cell_type": "code",
   "execution_count": null,
   "id": "2f730798d2fe7ef2",
   "metadata": {
    "ExecuteTime": {
     "end_time": "2024-07-13T07:40:41.863027Z",
     "start_time": "2024-07-13T07:40:41.850667Z"
    },
    "collapsed": false,
    "jupyter": {
     "outputs_hidden": false
    }
   },
   "outputs": [],
   "source": [
    "from pydantic import BaseModel\n",
    "from typing import Optional\n",
    "\n",
    "class SearchResultItem(BaseModel):\n",
    "    name: str\n",
    "    accommodates: Optional[int] = None\n",
    "    address: custom_utils.Address\n",
    "    summary: Optional[str] = None\n",
    "    space: Optional[str] = None\n",
    "    neighborhood_overview: Optional[str] = None\n",
    "    notes: Optional[str] = None\n",
    "    score: Optional[float]=None"
   ]
  },
  {
   "cell_type": "code",
   "execution_count": null,
   "id": "27c97baba38a32c",
   "metadata": {
    "ExecuteTime": {
     "end_time": "2024-07-13T07:40:42.639998Z",
     "start_time": "2024-07-13T07:40:42.634896Z"
    },
    "collapsed": false,
    "jupyter": {
     "outputs_hidden": false
    }
   },
   "outputs": [],
   "source": [
    "from IPython.display import display, HTML\n",
    "\n",
    "def handle_user_query(query, db, collection, stages=[], vector_index=\"vector_index_text\"):\n",
    "    get_knowledge=custom_utils.vector_search_with_filter(query,db,collection,stages,vector_index)\n",
    "    if not get_knowledge:\n",
    "        return \"No results found.\", \"No source information available.\"\n",
    "    \n",
    "    print(\"List of all fields of the first document, before model conformance\")\n",
    "    print(get_knowledge[0].keys())\n",
    "\n",
    "    search_results_models = [\n",
    "        SearchResultItem(**result)\n",
    "        for result in get_knowledge\n",
    "    ]\n",
    "\n",
    "    search_results_df = pd.DataFrame([item.dict() for item in search_results_models])\n",
    "\n",
    "    completion = custom_utils.openai.chat.completions.create(\n",
    "        model=\"gpt-3.5-turbo\",\n",
    "        messages=[\n",
    "            {\n",
    "                \"role\": \"system\", \n",
    "                \"content\": \"You are a airbnb listing recommendation system.\"},\n",
    "            {\n",
    "                \"role\": \"user\", \n",
    "                \"content\": f\"Answer this user query: {query} with the following context:\\n{search_results_df}\"\n",
    "            }\n",
    "        ]\n",
    "    )\n",
    "    \n",
    "    system_response=completion.choices[0].message.content\n",
    "    print(f\"- User Question:\\n{query}\\n\")\n",
    "    print(f\"- System Response:\\n{system_response}\\n\")\n",
    "    display(HTML(search_results_df.to_html()))\n",
    "    return system_response"
   ]
  },
  {
   "cell_type": "markdown",
   "id": "e74314b1358c3cd3",
   "metadata": {
    "collapsed": false,
    "jupyter": {
     "outputs_hidden": false
    }
   },
   "source": [
    "# Adding a projection stage"
   ]
  },
  {
   "cell_type": "code",
   "execution_count": null,
   "id": "75e8c700fe04606b",
   "metadata": {
    "ExecuteTime": {
     "end_time": "2024-07-13T07:40:44.335110Z",
     "start_time": "2024-07-13T07:40:44.322703Z"
    },
    "collapsed": false,
    "jupyter": {
     "outputs_hidden": false
    }
   },
   "outputs": [],
   "source": [
    "\n",
    "projection_stage = {\n",
    "    \"$project\": {\n",
    "        \"_id\": 0,  \n",
    "        \"name\": 1,\n",
    "        \"accommodates\": 1,\n",
    "        \"address.street\": 1,\n",
    "        \"address.government_area\": 1, \n",
    "        \"address.market\": 1,\n",
    "        \"address.country\": 1, \n",
    "        \"address.country_code\": 1, \n",
    "        \"address.location.type\": 1, \n",
    "        \"address.location.coordinates\": 1,  \n",
    "        \"address.location.is_location_exact\": 1,\n",
    "        \"summary\": 1,\n",
    "        \"space\": 1,  \n",
    "        \"neighborhood_overview\": 1, \n",
    "        \"notes\": 1, \n",
    "        \"score\": {\"$meta\": \"vectorSearchScore\"} \n",
    "    }\n",
    "}\n",
    "\n",
    "additional_stages = [projection_stage]"
   ]
  },
  {
   "cell_type": "code",
   "execution_count": null,
   "id": "c2b29d5672c96342",
   "metadata": {
    "ExecuteTime": {
     "end_time": "2024-07-13T07:40:48.148330Z",
     "start_time": "2024-07-13T07:40:45.413469Z"
    },
    "collapsed": false,
    "jupyter": {
     "outputs_hidden": false
    }
   },
   "outputs": [],
   "source": [
    "query = \"\"\"\n",
    "I want to stay in a place that's warm and friendly, \n",
    "and not too far from resturants, can you recommend a place? \n",
    "Include a reason as to why you've chosen your selection\"\n",
    "\"\"\"\n",
    "handle_user_query(\n",
    "    query, \n",
    "    db, \n",
    "    collection, \n",
    "    additional_stages, \n",
    "    vector_index=\"vector_index_with_filter\"\n",
    ")"
   ]
  }
 ],
 "metadata": {
  "kernelspec": {
   "display_name": "Python 3 (ipykernel)",
   "language": "python",
   "name": "python3"
  },
  "language_info": {
   "codemirror_mode": {
    "name": "ipython",
    "version": 3
   },
   "file_extension": ".py",
   "mimetype": "text/x-python",
   "name": "python",
   "nbconvert_exporter": "python",
   "pygments_lexer": "ipython3",
   "version": "3.12.4"
  }
 },
 "nbformat": 4,
 "nbformat_minor": 5
}
