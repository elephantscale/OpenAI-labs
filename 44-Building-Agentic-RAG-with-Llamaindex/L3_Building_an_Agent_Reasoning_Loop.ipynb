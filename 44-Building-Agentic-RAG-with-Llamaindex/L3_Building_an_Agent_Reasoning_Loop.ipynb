{
 "cells": [
  {
   "cell_type": "markdown",
   "source": [
    "# Lesson 3: Building an Agent Reasoning Loop"
   ],
   "metadata": {
    "collapsed": false
   },
   "id": "504734c840d12e18"
  },
  {
   "cell_type": "code",
   "outputs": [],
   "source": [
    "from helper import get_openai_api_key\n",
    "import openai\n",
    "import nest_asyncio\n",
    "from utils import get_doc_tools\n",
    "from llama_index.llms.openai import OpenAI\n",
    "from llama_index.core.agent import FunctionCallingAgentWorker\n",
    "from llama_index.core.agent import AgentRunner\n",
    "\n",
    "openai.api_key = get_openai_api_key()\n",
    "nest_asyncio.apply()"
   ],
   "metadata": {
    "collapsed": false
   },
   "id": "88f2a6d571384181",
   "execution_count": null
  },
  {
   "cell_type": "code",
   "outputs": [],
   "source": [
    "vector_tool, summary_tool = get_doc_tools(\"metagpt.pdf\", \"metagpt\")\n",
    "llm = OpenAI(model=\"gpt-3.5-turbo\", temperature=0)\n",
    "agent_worker = FunctionCallingAgentWorker.from_tools(\n",
    "    [vector_tool, summary_tool], \n",
    "    llm=llm, \n",
    "    verbose=True\n",
    ")\n",
    "\n",
    "agent = AgentRunner(agent_worker)\n",
    "\n",
    "response = agent.query(\n",
    "    \"Tell me about the agent roles in MetaGPT, \"\n",
    "    \"and then how they communicate with each other.\"\n",
    ")\n",
    "print(response.response)"
   ],
   "metadata": {
    "collapsed": false
   },
   "id": "b6ea5f53e993cccd",
   "execution_count": null
  },
  {
   "cell_type": "code",
   "outputs": [],
   "source": [
    "response = agent.chat(\n",
    "    \"Tell me about the evaluation datasets used.\"\n",
    ")\n",
    "response = agent.chat(\"Tell me the results over one of the above datasets.\")"
   ],
   "metadata": {
    "collapsed": false
   },
   "id": "b66dbe8a27ec3920"
  },
  {
   "cell_type": "markdown",
   "source": [
    "# Lower-Level: Debuggability and Control"
   ],
   "metadata": {
    "collapsed": false
   },
   "id": "12c54e7e4c92b08"
  },
  {
   "cell_type": "code",
   "outputs": [],
   "source": [
    "agent_worker = FunctionCallingAgentWorker.from_tools(\n",
    "    [vector_tool, summary_tool], \n",
    "    llm=llm, \n",
    "    verbose=True\n",
    ")\n",
    "agent = AgentRunner(agent_worker)\n",
    "\n",
    "task = agent.create_task(\n",
    "    \"Tell me about the agent roles in MetaGPT, \"\n",
    "    \"and then how they communicate with each other.\"\n",
    ")\n",
    "\n",
    "step_output = agent.run_step(task.task_id)\n",
    "completed_steps = agent.get_completed_steps(task.task_id)\n",
    "print(f\"Num completed for task {task.task_id}: {len(completed_steps)}\")\n",
    "print(completed_steps[0].output.sources[0].raw_output)"
   ],
   "metadata": {
    "collapsed": false
   },
   "id": "a8e551114b2dedc3",
   "execution_count": null
  },
  {
   "cell_type": "code",
   "outputs": [],
   "source": [
    "upcoming_steps = agent.get_upcoming_steps(task.task_id)\n",
    "print(f\"Num upcoming steps for task {task.task_id}: {len(upcoming_steps)}\")\n",
    "upcoming_steps[0]\n",
    "step_output = agent.run_step(\n",
    "    task.task_id, input=\"What about how agents share information?\"\n",
    ")\n",
    "step_output = agent.run_step(task.task_id)\n",
    "print(step_output.is_last)\n"
   ],
   "metadata": {
    "collapsed": false
   },
   "id": "aed81a6341213ade",
   "execution_count": null
  },
  {
   "cell_type": "code",
   "outputs": [],
   "source": [
    "response = agent.finalize_response(task.task_id)\n",
    "print(str(response))"
   ],
   "metadata": {
    "collapsed": false
   },
   "id": "5920a9c4439b1673",
   "execution_count": null
  },
  {
   "cell_type": "code",
   "outputs": [],
   "source": [],
   "metadata": {
    "collapsed": false
   },
   "id": "dd6e6304aa37e12a"
  }
 ],
 "metadata": {
  "kernelspec": {
   "display_name": "Python 3",
   "language": "python",
   "name": "python3"
  },
  "language_info": {
   "codemirror_mode": {
    "name": "ipython",
    "version": 2
   },
   "file_extension": ".py",
   "mimetype": "text/x-python",
   "name": "python",
   "nbconvert_exporter": "python",
   "pygments_lexer": "ipython2",
   "version": "2.7.6"
  }
 },
 "nbformat": 4,
 "nbformat_minor": 5
}
