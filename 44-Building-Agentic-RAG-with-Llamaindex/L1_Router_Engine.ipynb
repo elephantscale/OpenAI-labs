{
 "cells": [
  {
   "cell_type": "markdown",
   "source": [
    "# Lesson 1: Router Engine"
   ],
   "metadata": {
    "collapsed": false
   },
   "id": "c6ee78064246b51e"
  },
  {
   "cell_type": "code",
   "outputs": [],
   "source": [
    "from helper import get_openai_api_key\n",
    "import openai\n",
    "import nest_asyncio\n",
    "from llama_index.core import SimpleDirectoryReader\n",
    "\n",
    "openai.api_key = get_openai_api_key()\n",
    "nest_asyncio.apply()\n",
    "documents = SimpleDirectoryReader(input_files=[\"metagpt.pdf\"]).load_data()"
   ],
   "metadata": {
    "collapsed": false
   },
   "id": "3726b08d4b7d88f",
   "execution_count": null
  },
  {
   "cell_type": "markdown",
   "source": [
    "# Define LLM and Embedding model"
   ],
   "metadata": {
    "collapsed": false
   },
   "id": "6f7a35d0033e922b"
  },
  {
   "cell_type": "code",
   "outputs": [],
   "source": [
    "from llama_index.core.node_parser import SentenceSplitter\n",
    "\n",
    "splitter = SentenceSplitter(chunk_size=1024)\n",
    "nodes = splitter.get_nodes_from_documents(documents)"
   ],
   "metadata": {
    "collapsed": false
   },
   "id": "b2522482b5007d59",
   "execution_count": null
  },
  {
   "cell_type": "code",
   "outputs": [],
   "source": [
    "from llama_index.llms.openai import OpenAI as AbstractOpenAI\n",
    "class OpenAI(AbstractOpenAI):\n",
    "    def _prepare_chat_with_tools(self):\n",
    "        pass"
   ],
   "metadata": {
    "collapsed": false
   },
   "id": "3659768d2626b47e",
   "execution_count": null
  },
  {
   "cell_type": "code",
   "outputs": [],
   "source": [
    "from llama_index.core import Settings\n",
    "\n",
    "from llama_index.embeddings.openai import OpenAIEmbedding\n",
    "\n",
    "Settings.llm=OpenAI(model=\"gpt-3.5-turbo\")\n",
    "Settings.embed_model = OpenAIEmbedding(model=\"text-embedding-ada-002\")"
   ],
   "metadata": {
    "collapsed": false
   },
   "id": "a8e6706056f7ab4e",
   "execution_count": null
  },
  {
   "cell_type": "code",
   "outputs": [],
   "source": [
    "from llama_index.core import SummaryIndex, VectorStoreIndex\n",
    "\n",
    "summary_index = SummaryIndex(nodes)\n",
    "vector_index = VectorStoreIndex(nodes)"
   ],
   "metadata": {
    "collapsed": false
   },
   "id": "ab3bc4ff4921b11f",
   "execution_count": null
  },
  {
   "cell_type": "code",
   "outputs": [],
   "source": [
    "summary_query_engine=summary_index.as_query_engine(\n",
    "    response_mode=\"tree_summarize\",\n",
    "    use_async=True,\n",
    ")\n",
    "vector_query_engine=vector_index.as_query_engine()"
   ],
   "metadata": {
    "collapsed": false
   },
   "id": "8e0cf40cd25861b6",
   "execution_count": null
  },
  {
   "cell_type": "code",
   "outputs": [],
   "source": [
    "from llama_index.core.tools import QueryEngineTool\n",
    "\n",
    "summary_tool=QueryEngineTool.from_defaults(\n",
    "    query_engine=summary_query_engine,\n",
    "    description=(\"Useful for summarization questions related to MetaGPT\"),\n",
    ")\n",
    "vector_tool=QueryEngineTool.from_defaults(\n",
    "    query_engine=vector_query_engine,\n",
    "    description=(\"Useful for retrieving specific context from the MetaGPT paper.\"),\n",
    ")"
   ],
   "metadata": {
    "collapsed": false
   },
   "id": "19df614692fef5b3",
   "execution_count": null
  },
  {
   "cell_type": "code",
   "outputs": [],
   "source": [
    "from llama_index.core.query_engine.router_query_engine import RouterQueryEngine\n",
    "from llama_index.core.selectors import LLMSingleSelector\n",
    "\n",
    "query_engine=RouterQueryEngine(\n",
    "    selector=LLMSingleSelector.from_defaults(),\n",
    "    query_engine_tools=[summary_tool, vector_tool],\n",
    "    verbose=True\n",
    ")"
   ],
   "metadata": {
    "collapsed": false
   },
   "id": "7a5a53750b108cf5",
   "execution_count": null
  },
  {
   "cell_type": "code",
   "outputs": [],
   "source": [
    "response=query_engine.query(\"what is the summery of the document\")\n",
    "print(str(response))"
   ],
   "metadata": {
    "collapsed": false
   },
   "id": "672bdd5203a8868c",
   "execution_count": null
  },
  {
   "cell_type": "code",
   "outputs": [],
   "source": [
    "print(len(response.source_nodes))"
   ],
   "metadata": {
    "collapsed": false
   },
   "id": "928859d8228a57a8",
   "execution_count": null
  },
  {
   "cell_type": "code",
   "outputs": [],
   "source": [
    "response=query_engine.query(\"how do agents share information from other agents?\")\n",
    "print(str(response))"
   ],
   "metadata": {
    "collapsed": false
   },
   "id": "8fa3c170fdb3ee70",
   "execution_count": null
  },
  {
   "cell_type": "code",
   "outputs": [],
   "source": [
    "from utils import get_router_query_engine\n",
    "\n",
    "query_engine=get_router_query_engine(\"metagpt.pdf\")\n",
    "response=query_engine.query(\"Tell me about the ablation study results?\")\n",
    "print(str(response))"
   ],
   "metadata": {
    "collapsed": false
   },
   "id": "f3d5b1db22d2e020",
   "execution_count": null
  },
  {
   "cell_type": "code",
   "outputs": [],
   "source": [],
   "metadata": {
    "collapsed": false
   },
   "id": "8db3870f90e4284c"
  }
 ],
 "metadata": {
  "kernelspec": {
   "display_name": "Python 3",
   "language": "python",
   "name": "python3"
  },
  "language_info": {
   "codemirror_mode": {
    "name": "ipython",
    "version": 2
   },
   "file_extension": ".py",
   "mimetype": "text/x-python",
   "name": "python",
   "nbconvert_exporter": "python",
   "pygments_lexer": "ipython2",
   "version": "2.7.6"
  }
 },
 "nbformat": 4,
 "nbformat_minor": 5
}
