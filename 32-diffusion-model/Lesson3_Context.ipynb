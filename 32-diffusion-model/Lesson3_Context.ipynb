{
 "cells": [
  {
   "cell_type": "markdown",
   "id": "c350cb0c1269f384",
   "metadata": {
    "collapsed": false
   },
   "source": [
    "# Lesson 3: Context"
   ]
  },
  {
   "cell_type": "code",
   "execution_count": null,
   "id": "b3240473466b2762",
   "metadata": {
    "collapsed": false
   },
   "outputs": [],
   "source": [
    "import torch.nn.functional as F\n",
    "from IPython.display import HTML\n",
    "\n",
    "from diffusion_utilities import *"
   ]
  },
  {
   "cell_type": "markdown",
   "id": "395442b74487a6d6",
   "metadata": {
    "collapsed": false
   },
   "source": [
    "# Setting Things Up"
   ]
  },
  {
   "cell_type": "code",
   "execution_count": null,
   "id": "b7d28cff964f4aec",
   "metadata": {
    "collapsed": false
   },
   "outputs": [],
   "source": [
    "class ContextUnet(nn.Module):\n",
    "    def __init__(self, in_channels, n_feat=256, n_cfeat=10, height=28):  # cfeat - context features\n",
    "        super(ContextUnet, self).__init__()\n",
    "\n",
    "        self.in_channels = in_channels\n",
    "        self.n_feat = n_feat\n",
    "        self.n_cfeat = n_cfeat\n",
    "        self.h = height  \n",
    "\n",
    "        self.init_conv = ResidualConvBlock(in_channels, n_feat, is_res=True)\n",
    "\n",
    "        self.down1 = UnetDown(n_feat, n_feat)       \n",
    "        self.down2 = UnetDown(n_feat, 2 * n_feat)    \n",
    "        \n",
    "        self.to_vec = nn.Sequential(nn.AvgPool2d((4)), nn.GELU())\n",
    "\n",
    "        self.timeembed1 = EmbedFC(1, 2*n_feat)\n",
    "        self.timeembed2 = EmbedFC(1, 1*n_feat)\n",
    "        self.contextembed1 = EmbedFC(n_cfeat, 2*n_feat)\n",
    "        self.contextembed2 = EmbedFC(n_cfeat, 1*n_feat)\n",
    "\n",
    "        self.up0 = nn.Sequential(\n",
    "            nn.ConvTranspose2d(2 * n_feat, 2 * n_feat, self.h//4, self.h//4), \n",
    "            nn.GroupNorm(8, 2 * n_feat),                      \n",
    "            nn.ReLU(),\n",
    "        )\n",
    "        self.up1 = UnetUp(4 * n_feat, n_feat)\n",
    "        self.up2 = UnetUp(2 * n_feat, n_feat)\n",
    "\n",
    "        self.out = nn.Sequential(\n",
    "            nn.Conv2d(2 * n_feat, n_feat, 3, 1, 1), \n",
    "            nn.GroupNorm(8, n_feat), # normalize\n",
    "            nn.ReLU(),\n",
    "            nn.Conv2d(n_feat, self.in_channels, 3, 1, 1), \n",
    "        )\n",
    "\n",
    "    def forward(self, x, t, c=None):\n",
    "        \"\"\"\n",
    "        x : (batch, n_feat, h, w) : input image\n",
    "        t : (batch, n_cfeat)      : time step\n",
    "        c : (batch, n_classes)    : context label\n",
    "        \"\"\"\n",
    "\n",
    "        x = self.init_conv(x)\n",
    "        down1 = self.down1(x)      \n",
    "        down2 = self.down2(down1)   \n",
    "        \n",
    "        hiddenvec = self.to_vec(down2)\n",
    "        \n",
    "        if c is None:\n",
    "            c = torch.zeros(x.shape[0], self.n_cfeat).to(x)\n",
    "            \n",
    "        cemb1 = self.contextembed1(c).view(-1, self.n_feat * 2, 1, 1)     \n",
    "        temb1 = self.timeembed1(t).view(-1, self.n_feat * 2, 1, 1)\n",
    "        cemb2 = self.contextembed2(c).view(-1, self.n_feat, 1, 1)\n",
    "        temb2 = self.timeembed2(t).view(-1, self.n_feat, 1, 1)\n",
    "\n",
    "        up1 = self.up0(hiddenvec)\n",
    "        up2 = self.up1(cemb1*up1 + temb1, down2)  \n",
    "        up3 = self.up2(cemb2*up2 + temb2, down1)\n",
    "        out = self.out(torch.cat((up3, x), 1))\n",
    "        return out\n"
   ]
  },
  {
   "cell_type": "code",
   "execution_count": null,
   "id": "1d2b5aca1211fcb4",
   "metadata": {
    "collapsed": false
   },
   "outputs": [],
   "source": [
    "timesteps = 500\n",
    "beta1 = 1e-4\n",
    "beta2 = 0.02\n",
    "\n",
    "device = torch.device(\"cuda:0\" if torch.cuda.is_available() else torch.device('cpu'))\n",
    "n_feat = 64 \n",
    "n_cfeat = 5 \n",
    "height = 16 \n",
    "save_dir = './weights/'\n",
    "\n",
    "batch_size = 100\n",
    "n_epoch = 32\n",
    "lrate=1e-3"
   ]
  },
  {
   "cell_type": "code",
   "execution_count": null,
   "id": "bd98233c1750661c",
   "metadata": {
    "collapsed": false
   },
   "outputs": [],
   "source": [
    "b_t = (beta2 - beta1) * torch.linspace(0, 1, timesteps + 1, device=device) + beta1\n",
    "a_t = 1 - b_t\n",
    "ab_t = torch.cumsum(a_t.log(), dim=0).exp()    \n",
    "ab_t[0] = 1"
   ]
  },
  {
   "cell_type": "code",
   "execution_count": null,
   "id": "7ac874d80440a372",
   "metadata": {
    "collapsed": false
   },
   "outputs": [],
   "source": [
    "nn_model = ContextUnet(in_channels=3, n_feat=n_feat, n_cfeat=n_cfeat, height=height).to(device)"
   ]
  },
  {
   "cell_type": "markdown",
   "source": [
    "# Context"
   ],
   "metadata": {
    "collapsed": false
   },
   "id": "d51306ca849a0235"
  },
  {
   "cell_type": "code",
   "outputs": [],
   "source": [
    "nn_model = ContextUnet(in_channels=3, n_feat=n_feat, n_cfeat=n_cfeat, height=height).to(device)\n",
    "\n",
    "optim = torch.optim.Adam(nn_model.parameters(), lr=lrate)"
   ],
   "metadata": {
    "collapsed": false
   },
   "id": "7caa99e4ac15fe90",
   "execution_count": null
  },
  {
   "cell_type": "code",
   "outputs": [],
   "source": [
    "nn_model.load_state_dict(torch.load(f\"{save_dir}/context_model_trained.pth\", map_location=device))\n",
    "nn_model.eval() \n",
    "print(\"Loaded in Context Model\")"
   ],
   "metadata": {
    "collapsed": false
   },
   "id": "8c29b19844d2e3aa",
   "execution_count": null
  },
  {
   "cell_type": "markdown",
   "id": "1bd7ab3a2ecf408e",
   "metadata": {
    "collapsed": false
   },
   "source": [
    "# Sampling with context"
   ]
  },
  {
   "cell_type": "code",
   "execution_count": null,
   "id": "847b571fe35dc099",
   "metadata": {
    "collapsed": false
   },
   "outputs": [],
   "source": [
    "def denoise_add_noise(x, t, pred_noise, z=None):\n",
    "    if z is None:\n",
    "        z = torch.randn_like(x)\n",
    "    noise = b_t.sqrt()[t] * z\n",
    "    mean = (x - pred_noise * ((1 - a_t[t]) / (1 - ab_t[t]).sqrt())) / a_t[t].sqrt()\n",
    "    return mean + noise"
   ]
  },
  {
   "cell_type": "code",
   "execution_count": null,
   "id": "132de15f8acbc23f",
   "metadata": {
    "collapsed": false
   },
   "outputs": [],
   "source": [
    "@torch.no_grad()\n",
    "def sample_ddpm_context(n_sample, context, save_rate=20):\n",
    "    samples = torch.randn(n_sample, 3, height, height).to(device)  \n",
    "\n",
    "    intermediate = [] \n",
    "    for i in range(timesteps, 0, -1):\n",
    "        print(f'sampling timestep {i:3d}', end='\\r')\n",
    "\n",
    "        t = torch.tensor([i / timesteps])[:, None, None, None].to(device)\n",
    "\n",
    "        z = torch.randn_like(samples) if i > 1 else 0\n",
    "\n",
    "        eps = nn_model(samples, t, c=context)    # predict noise e_(x_t,t, ctx)\n",
    "        samples = denoise_add_noise(samples, i, eps, z)\n",
    "        if i % save_rate==0 or i==timesteps or i<8:\n",
    "            intermediate.append(samples.detach().cpu().numpy())\n",
    "\n",
    "    intermediate = np.stack(intermediate)\n",
    "    return samples, intermediate"
   ]
  },
  {
   "cell_type": "code",
   "execution_count": null,
   "id": "cfd34e2d0295e041",
   "metadata": {
    "collapsed": false
   },
   "outputs": [],
   "source": [
    "plt.clf()\n",
    "ctx = F.one_hot(torch.randint(0, 5, (32,)), 5).to(device=device).float()\n",
    "samples, intermediate = sample_ddpm_context(32, ctx)\n",
    "animation_ddpm_context = plot_sample(intermediate,32,4,save_dir, \"ani_run\", None, save=False)\n",
    "HTML(animation_ddpm_context.to_jshtml())"
   ]
  },
  {
   "cell_type": "code",
   "execution_count": null,
   "id": "55133dfbc4a8490a",
   "metadata": {
    "collapsed": false
   },
   "outputs": [],
   "source": [
    "def show_images(imgs, nrow=2):\n",
    "    _, axs = plt.subplots(nrow, imgs.shape[0] // nrow, figsize=(4,2 ))\n",
    "    axs = axs.flatten()\n",
    "    for img, ax in zip(imgs, axs):\n",
    "        img = (img.permute(1, 2, 0).clip(-1, 1).detach().cpu().numpy() + 1) / 2\n",
    "        ax.set_xticks([])\n",
    "        ax.set_yticks([])\n",
    "        ax.imshow(img)\n",
    "    plt.show()"
   ]
  },
  {
   "cell_type": "code",
   "execution_count": null,
   "id": "c8a56011c19caff1",
   "metadata": {
    "collapsed": false
   },
   "outputs": [],
   "source": [
    "ctx = torch.tensor([\n",
    "    [1,0,0,0,0],  \n",
    "    [1,0,0,0,0],    \n",
    "    [0,0,0,0,1],\n",
    "    [0,0,0,0,1],    \n",
    "    [0,1,0,0,0],\n",
    "    [0,1,0,0,0],\n",
    "    [0,0,1,0,0],\n",
    "    [0,0,1,0,0],\n",
    "]).float().to(device)\n",
    "samples, _ = sample_ddpm_context(ctx.shape[0], ctx)\n",
    "show_images(samples)"
   ]
  },
  {
   "cell_type": "code",
   "execution_count": null,
   "id": "72ad5997972e70ce",
   "metadata": {
    "collapsed": false
   },
   "outputs": [],
   "source": [
    "ctx = torch.tensor([\n",
    "    [1,0,0,0,0],      \n",
    "    [1,0,0.6,0,0],    \n",
    "    [0,0,0.6,0.4,0],  \n",
    "    [1,0,0,0,1],  \n",
    "    [1,1,0,0,0],\n",
    "    [1,0,0,1,0]\n",
    "]).float().to(device)\n",
    "samples, _ = sample_ddpm_context(ctx.shape[0], ctx)\n",
    "show_images(samples)"
   ]
  }
 ],
 "metadata": {
  "kernelspec": {
   "display_name": "Python (lab 32)",
   "language": "python",
   "name": "32"
  },
  "language_info": {
   "codemirror_mode": {
    "name": "ipython",
    "version": 3
   },
   "file_extension": ".py",
   "mimetype": "text/x-python",
   "name": "python",
   "nbconvert_exporter": "python",
   "pygments_lexer": "ipython3",
   "version": "3.12.4"
  }
 },
 "nbformat": 4,
 "nbformat_minor": 5
}
