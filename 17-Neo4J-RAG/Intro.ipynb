{
 "cells": [
  {
   "cell_type": "markdown",
   "id": "69373654-0cf5-41bb-8976-47a6d99a1f8d",
   "metadata": {},
   "source": [
    "# Intro to Knowledge Graph with RAG\n",
    "* Follow https://neo4j.com/developer-blog/knowledge-graph-rag-application/"
   ]
  },
  {
   "cell_type": "code",
   "execution_count": 1,
   "id": "4b25f111-5c2f-4155-a4de-c9d5a35d351a",
   "metadata": {},
   "outputs": [],
   "source": [
    "import os\n",
    "from dotenv import load_dotenv, find_dotenv\n",
    "_ = load_dotenv(find_dotenv())"
   ]
  },
  {
   "cell_type": "code",
   "execution_count": 2,
   "id": "b1fbcb85-544d-4626-a951-4d16d1c24a91",
   "metadata": {},
   "outputs": [],
   "source": [
    "from langchain.graphs import Neo4jGraph\n",
    "\n",
    "url = \"neo4j+s://f03f3425.databases.neo4j.io\"\n",
    "username =\"neo4j\"\n",
    "password = os.getenv(\"NEO4J_PASSWORD\")\n",
    "\n",
    "graph = Neo4jGraph(\n",
    "    url=url, \n",
    "    username=username, \n",
    "    password=password\n",
    ")"
   ]
  },
  {
   "cell_type": "code",
   "execution_count": 3,
   "id": "852b1977-1d16-4398-bd66-ddb8345f481c",
   "metadata": {},
   "outputs": [
    {
     "data": {
      "text/plain": [
       "[]"
      ]
     },
     "execution_count": 3,
     "metadata": {},
     "output_type": "execute_result"
    }
   ],
   "source": [
    "import requests\n",
    "\n",
    "url = \"https://gist.githubusercontent.com/tomasonjo/08dc8ba0e19d592c4c3cde40dd6abcc3/raw/da8882249af3e819a80debf3160ebbb3513ee962/microservices.json\"\n",
    "import_query = requests.get(url).json()['query']\n",
    "graph.query(\n",
    "    import_query\n",
    ")"
   ]
  },
  {
   "cell_type": "code",
   "execution_count": 5,
   "id": "fdbf2ca3-0e00-4b71-9493-a1bf3bc4553f",
   "metadata": {},
   "outputs": [],
   "source": [
    "import os\n",
    "#from langchain.vectorstores.neo4j_vector import Neo4jVector\n",
    "from langchain_community.vectorstores.neo4j_vector import Neo4jVector\n",
    "from langchain.embeddings.openai import OpenAIEmbeddings\n",
    "\n",
    "OPENAI_API_KEY = os.environ['OPENAI_API_KEY']\n",
    "\n",
    "#vector_index = Neo4jVector.from_existing_graph(\n",
    "#    OpenAIEmbeddings(),\n",
    "#    url=url,\n",
    "#    username=username,\n",
    "#    password=password,\n",
    "#    index_name='tasks',\n",
    "#    node_label=\"Task\",\n",
    "#    text_node_properties=['name', 'description', 'status'],\n",
    "#    embedding_node_property='embedding',\n",
    "#)"
   ]
  },
  {
   "cell_type": "code",
   "execution_count": null,
   "id": "39a34dd4-4c5f-4934-8435-6828d5bbb6d4",
   "metadata": {},
   "outputs": [],
   "source": []
  }
 ],
 "metadata": {
  "kernelspec": {
   "display_name": "Python 3 (ipykernel)",
   "language": "python",
   "name": "python3"
  },
  "language_info": {
   "codemirror_mode": {
    "name": "ipython",
    "version": 3
   },
   "file_extension": ".py",
   "mimetype": "text/x-python",
   "name": "python",
   "nbconvert_exporter": "python",
   "pygments_lexer": "ipython3",
   "version": "3.9.10"
  }
 },
 "nbformat": 4,
 "nbformat_minor": 5
}
