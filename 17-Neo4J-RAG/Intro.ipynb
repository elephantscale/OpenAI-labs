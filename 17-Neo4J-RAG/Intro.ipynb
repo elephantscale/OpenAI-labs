{
 "cells": [
  {
   "cell_type": "markdown",
   "id": "69373654-0cf5-41bb-8976-47a6d99a1f8d",
   "metadata": {},
   "source": [
    "# Intro to Knowledge Graph with RAG\n",
    "* Follow https://neo4j.com/developer-blog/knowledge-graph-rag-application/"
   ]
  },
  {
   "cell_type": "code",
   "execution_count": null,
   "id": "b1fbcb85-544d-4626-a951-4d16d1c24a91",
   "metadata": {},
   "outputs": [],
   "source": [
    "from langchain.graphs import Neo4jGraph\n",
    "\n",
    "url = \"neo4j+s://databases.neo4j.io\"\n",
    "username =\"neo4j\"\n",
    "password = \"\"\n",
    "\n",
    "graph = Neo4jGraph(\n",
    "    url=url, \n",
    "    username=username, \n",
    "    password=password\n",
    ")"
   ]
  },
  {
   "cell_type": "code",
   "execution_count": null,
   "id": "852b1977-1d16-4398-bd66-ddb8345f481c",
   "metadata": {},
   "outputs": [],
   "source": []
  }
 ],
 "metadata": {
  "kernelspec": {
   "display_name": "Python 3 (ipykernel)",
   "language": "python",
   "name": "python3"
  },
  "language_info": {
   "codemirror_mode": {
    "name": "ipython",
    "version": 3
   },
   "file_extension": ".py",
   "mimetype": "text/x-python",
   "name": "python",
   "nbconvert_exporter": "python",
   "pygments_lexer": "ipython3",
   "version": "3.9.10"
  }
 },
 "nbformat": 4,
 "nbformat_minor": 5
}
