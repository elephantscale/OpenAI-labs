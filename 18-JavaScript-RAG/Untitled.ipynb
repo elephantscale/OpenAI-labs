{
 "cells": [
  {
   "cell_type": "markdown",
   "id": "65d46cc5-03f8-49bc-82a7-7f76815e0bc6",
   "metadata": {},
   "source": [
    "# Lesson 1: Getting started with RAG\n",
    "\n",
    "\n",
    "Welcome to Lesson 1.\n",
    "\n",
    "To access the `data` file, go to `File` and click on `Open`.\n",
    "\n",
    "I hope you enjoy this course!"
   ]
  },
  {
   "cell_type": "code",
   "execution_count": 1,
   "id": "46f72adb-358b-40b9-baf0-df3e1e086718",
   "metadata": {},
   "outputs": [
    {
     "ename": "SyntaxError",
     "evalue": "Cannot use import statement outside a module",
     "execution_count": 1,
     "output_type": "error",
     "traceback": [
      "evalmachine.<anonymous>:1",
      "import * as mod from \"https://deno.land/std@0.213.0/dotenv/mod.ts\";",
      "^^^^^^",
      "",
      "SyntaxError: Cannot use import statement outside a module",
      "    at new Script (vm.js:102:7)",
      "    at createScript (vm.js:262:10)",
      "    at Object.runInThisContext (vm.js:310:10)",
      "    at run ([eval]:1020:15)",
      "    at onRunRequest ([eval]:864:18)",
      "    at onMessage ([eval]:828:13)",
      "    at process.emit (events.js:400:28)",
      "    at emit (internal/child_process.js:935:14)",
      "    at processTicksAndRejections (internal/process/task_queues.js:83:21)"
     ]
    }
   ],
   "source": [
    "import * as mod from \"https://deno.land/std@0.213.0/dotenv/mod.ts\";\n",
    "const keys = await mod.load({export:true}) // read API key from .env"
   ]
  },
  {
   "cell_type": "code",
   "execution_count": null,
   "id": "72a23a77-c473-41e1-a1de-c0c2d0ee252a",
   "metadata": {},
   "outputs": [],
   "source": []
  }
 ],
 "metadata": {
  "kernelspec": {
   "display_name": "JavaScript (Node.js)",
   "language": "javascript",
   "name": "javascript"
  },
  "language_info": {
   "file_extension": ".js",
   "mimetype": "application/javascript",
   "name": "javascript",
   "version": "14.21.3"
  }
 },
 "nbformat": 4,
 "nbformat_minor": 5
}
