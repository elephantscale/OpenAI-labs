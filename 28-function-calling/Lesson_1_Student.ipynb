{
 "cells": [
  {
   "cell_type": "markdown",
   "id": "9acce20d2967edfd",
   "metadata": {
    "collapsed": false,
    "jupyter": {
     "outputs_hidden": false
    }
   },
   "source": [
    "# Introduction To Function Calling!"
   ]
  },
  {
   "cell_type": "markdown",
   "id": "128a1911de419bb3",
   "metadata": {
    "collapsed": false,
    "jupyter": {
     "outputs_hidden": false
    }
   },
   "source": [
    "# Writing A Local Python Tool"
   ]
  },
  {
   "cell_type": "code",
   "execution_count": null,
   "id": "e4cc02c9f9d48824",
   "metadata": {
    "ExecuteTime": {
     "end_time": "2024-06-30T04:57:15.428670Z",
     "start_time": "2024-06-30T04:57:15.324953Z"
    },
    "collapsed": false,
    "jupyter": {
     "outputs_hidden": false
    }
   },
   "outputs": [],
   "source": [
    "from utils import query_raven\n",
    "import matplotlib.pyplot as plt\n",
    "import matplotlib.patches as patches\n",
    "from openai import OpenAI\n",
    "from dotenv import load_dotenv\n",
    "import os\n",
    "\n",
    "load_dotenv()"
   ]
  },
  {
   "cell_type": "code",
   "execution_count": null,
   "id": "initial_id",
   "metadata": {
    "ExecuteTime": {
     "end_time": "2024-06-29T09:47:10.383119Z",
     "start_time": "2024-06-29T09:47:10.377603Z"
    }
   },
   "outputs": [],
   "source": [
    "def plot_some_points(x : list, y : list):\n",
    "  \"\"\"\n",
    "  Plots some points!\n",
    "  \"\"\"\n",
    "  plt.plot(x, y)\n",
    "  plt.show()"
   ]
  },
  {
   "cell_type": "code",
   "execution_count": null,
   "id": "e7f2bbc7b70d1115",
   "metadata": {
    "ExecuteTime": {
     "end_time": "2024-06-29T09:47:11.834941Z",
     "start_time": "2024-06-29T09:47:11.830461Z"
    },
    "collapsed": false,
    "jupyter": {
     "outputs_hidden": false
    }
   },
   "outputs": [],
   "source": [
    "USER_QUERY = \"Hey can you plot y=10x where x=1, 2, 3 for me?\""
   ]
  },
  {
   "cell_type": "code",
   "execution_count": null,
   "id": "4f7bb962c088c3aa",
   "metadata": {
    "ExecuteTime": {
     "end_time": "2024-06-29T09:47:12.757339Z",
     "start_time": "2024-06-29T09:47:12.605887Z"
    },
    "collapsed": false,
    "jupyter": {
     "outputs_hidden": false
    }
   },
   "outputs": [],
   "source": [
    "plot_some_points(x=[1, 2, 3], y=[10, 20, 30])"
   ]
  },
  {
   "cell_type": "code",
   "execution_count": null,
   "id": "a9f614dff5757bdd",
   "metadata": {
    "ExecuteTime": {
     "end_time": "2024-06-29T09:50:00.731592Z",
     "start_time": "2024-06-29T09:50:00.716201Z"
    },
    "collapsed": false,
    "jupyter": {
     "outputs_hidden": false
    }
   },
   "outputs": [],
   "source": [
    "prompt = \\\n",
    "f'''\n",
    "Function:\n",
    "def plot_some_points(x : list, y : list):\n",
    "  \"\"\"\n",
    "  Plots some points!\n",
    "  \"\"\"\n",
    "  plt.plot(x, y)\n",
    "  plt.show()\n",
    "\n",
    "User Query: {USER_QUERY}<human_end>\n",
    "'''"
   ]
  },
  {
   "cell_type": "code",
   "execution_count": null,
   "id": "d26c6bfd94b74f2e",
   "metadata": {
    "ExecuteTime": {
     "end_time": "2024-06-29T09:55:01.995976Z",
     "start_time": "2024-06-29T09:55:00.425703Z"
    },
    "collapsed": false,
    "jupyter": {
     "outputs_hidden": false
    }
   },
   "outputs": [],
   "source": [
    "function_call = query_raven(prompt)"
   ]
  },
  {
   "cell_type": "code",
   "execution_count": null,
   "id": "64e79dc821f6cc6b",
   "metadata": {
    "ExecuteTime": {
     "end_time": "2024-06-29T09:55:19.182446Z",
     "start_time": "2024-06-29T09:55:19.175923Z"
    },
    "collapsed": false,
    "jupyter": {
     "outputs_hidden": false
    }
   },
   "outputs": [],
   "source": [
    "print (function_call)"
   ]
  },
  {
   "cell_type": "code",
   "execution_count": null,
   "id": "50f2d0ae235f9c90",
   "metadata": {
    "ExecuteTime": {
     "end_time": "2024-06-29T09:55:20.772236Z",
     "start_time": "2024-06-29T09:55:20.556291Z"
    },
    "collapsed": false,
    "jupyter": {
     "outputs_hidden": false
    }
   },
   "outputs": [],
   "source": [
    "exec(function_call)"
   ]
  },
  {
   "cell_type": "code",
   "execution_count": null,
   "id": "739cb9ce2c13d77e",
   "metadata": {
    "ExecuteTime": {
     "end_time": "2024-06-29T09:56:09.168478Z",
     "start_time": "2024-06-29T09:56:09.131133Z"
    },
    "collapsed": false,
    "jupyter": {
     "outputs_hidden": false
    }
   },
   "outputs": [],
   "source": [
    "def draw_clown_face(face_color='yellow', eye_color='black', \n",
    "                    nose_color='red'):\n",
    "    \"\"\"\n",
    "    Draws a customizable, simplified clown face using matplotlib.\n",
    "\n",
    "    Parameters:\n",
    "    - face_color (str): Color of the clown's face. Default is 'yellow'.\n",
    "    - eye_color (str): Color of the clown's eyes. Default is 'black'.\n",
    "    - nose_color (str): Color of the clown's nose. Default is 'red'.\n",
    "\n",
    "    This function creates a plot displaying a simplified clown face, where essential facial features' size, position, and color can be customized. \n",
    "    \"\"\"\n",
    "    # Constants\n",
    "    face_radius = 0.4\n",
    "    nose_radius = 0.1\n",
    "    nose_x, nose_y = 0.5, 0.5\n",
    "    mouth_x, mouth_y = 0.5, 0.3\n",
    "    mouth_color = 'black'\n",
    "    eye_size = 0.05\n",
    "    mouth_size = (0.3, 0.1)\n",
    "    eye_offset=(0.15, 0.15)\n",
    "    mouth_theta = (200, 340)\n",
    "\n",
    "    fig, ax = plt.subplots()\n",
    "    # Face\n",
    "    face = patches.Circle((0.5, 0.5), face_radius, color=face_color, fill=True)\n",
    "    ax.add_patch(face)\n",
    "    # Eyes\n",
    "    eye_left = patches.Circle((0.5-eye_offset[0], 0.5+eye_offset[1]), eye_size, color=eye_color, fill=True)\n",
    "    eye_right = patches.Circle((0.5+eye_offset[0], 0.5+eye_offset[1]), eye_size, color=eye_color, fill=True)\n",
    "    ax.add_patch(eye_left)\n",
    "    ax.add_patch(eye_right)\n",
    "    # Nose\n",
    "    nose = patches.Circle((nose_x, nose_y), nose_radius, color=nose_color, fill=True)\n",
    "    ax.add_patch(nose)\n",
    "    # Mouth\n",
    "    mouth = patches.Arc((mouth_x, mouth_y), mouth_size[0], mouth_size[1], angle=0, \n",
    "                        theta1=mouth_theta[0], theta2=mouth_theta[1], color=mouth_color, linewidth=2)\n",
    "    ax.add_patch(mouth)\n",
    "    # Setting aspect ratio to 'equal' to ensure the face is circular\n",
    "    ax.set_aspect('equal')\n",
    "    # Remove axes\n",
    "    ax.axis('off')\n",
    "    plt.show()"
   ]
  },
  {
   "cell_type": "code",
   "execution_count": null,
   "id": "6fdfe3ff2b26d9e5",
   "metadata": {
    "ExecuteTime": {
     "end_time": "2024-06-29T09:56:31.271562Z",
     "start_time": "2024-06-29T09:56:31.265279Z"
    },
    "collapsed": false,
    "jupyter": {
     "outputs_hidden": false
    }
   },
   "outputs": [],
   "source": [
    "USER_QUERY = \\\n",
    "\"Hey can you draw a pink clown face with a red nose\" \n",
    "\n",
    "raven_prompt = \\\n",
    "'''\n",
    "Function:\n",
    "def draw_clown_face(face_color='yellow', \n",
    "                    eye_color='black',\n",
    "                    nose_color='red'):\n",
    "    \"\"\"\n",
    "    Draws a customizable, simplified clown face using matplotlib.\n",
    "\n",
    "    Parameters:\n",
    "    - face_color (str): Color of the clown's face.\n",
    "    - eye_color (str): Color of the clown's eyes.\n",
    "    - nose_color (str): Color of the clown's nose.\n",
    "    \"\"\"\n",
    "\n",
    "User Query: {query}<human_end>\n",
    "'''\n",
    "raven_prompt_with_query = raven_prompt.format(query=USER_QUERY)\n"
   ]
  },
  {
   "cell_type": "code",
   "execution_count": null,
   "id": "301ed7106fa22b03",
   "metadata": {
    "ExecuteTime": {
     "end_time": "2024-06-29T09:56:32.843620Z",
     "start_time": "2024-06-29T09:56:32.818156Z"
    },
    "collapsed": false,
    "jupyter": {
     "outputs_hidden": false
    }
   },
   "outputs": [],
   "source": [
    "print (raven_prompt_with_query)"
   ]
  },
  {
   "cell_type": "code",
   "execution_count": null,
   "id": "f9354d78ce971c96",
   "metadata": {
    "ExecuteTime": {
     "end_time": "2024-06-29T09:56:35.999258Z",
     "start_time": "2024-06-29T09:56:34.683370Z"
    },
    "collapsed": false,
    "jupyter": {
     "outputs_hidden": false
    }
   },
   "outputs": [],
   "source": [
    "raven_call = query_raven(raven_prompt_with_query)\n",
    "print (raven_call)"
   ]
  },
  {
   "cell_type": "code",
   "execution_count": null,
   "id": "ca7d3d85a25786f2",
   "metadata": {
    "ExecuteTime": {
     "end_time": "2024-06-29T09:56:41.132898Z",
     "start_time": "2024-06-29T09:56:41.038756Z"
    },
    "collapsed": false,
    "jupyter": {
     "outputs_hidden": false
    }
   },
   "outputs": [],
   "source": [
    "exec(raven_call)"
   ]
  },
  {
   "cell_type": "code",
   "execution_count": null,
   "id": "328b14d23e49b486",
   "metadata": {
    "ExecuteTime": {
     "end_time": "2024-06-29T09:56:48.898889Z",
     "start_time": "2024-06-29T09:56:48.890780Z"
    },
    "collapsed": false,
    "jupyter": {
     "outputs_hidden": false
    }
   },
   "outputs": [],
   "source": [
    "def query_openai(msg, functions=None):\n",
    "  \n",
    "  GPT_MODEL = \"gpt-3.5-turbo\"\n",
    "\n",
    "  openai_client = OpenAI(api_key=os.getenv('OPENAI_KEY'))\n",
    "  openai_response = openai_client.chat.completions.create(\n",
    "    model = GPT_MODEL,\n",
    "    messages = [{'role': 'user', 'content': msg}],\n",
    "    tools = functions)\n",
    "  return openai_response\n"
   ]
  },
  {
   "cell_type": "code",
   "execution_count": null,
   "id": "9e0f0a2fd2f02ec5",
   "metadata": {
    "ExecuteTime": {
     "end_time": "2024-06-29T09:56:49.616362Z",
     "start_time": "2024-06-29T09:56:49.607338Z"
    },
    "collapsed": false,
    "jupyter": {
     "outputs_hidden": false
    }
   },
   "outputs": [],
   "source": [
    "openai_function = {\n",
    "  \"type\": \"function\",\n",
    "  \"function\": {\n",
    "    \"name\": \"draw_clown_face\",\n",
    "    \"description\": \"Draws a customizable, simplified clown face using matplotlib.\",\n",
    "    \"parameters\": {\n",
    "      \"type\": \"object\",\n",
    "      \"properties\": {\n",
    "        \"face_color\": {\n",
    "          \"type\": \"string\",\n",
    "          \"description\": \"Color of the clown's face.\"\n",
    "        },\n",
    "        \"eye_color\": {\n",
    "          \"type\": \"string\",\n",
    "          \"description\": \"Color of the clown's eyes.\"\n",
    "        },\n",
    "        \"nose_color\": {\n",
    "          \"type\": \"string\",\n",
    "          \"description\": \"Color of the clown's nose.\"\n",
    "        }\n",
    "        }\n",
    "      }\n",
    "    }\n",
    "  }\n",
    "\n",
    "openai_msg = \\\n",
    "\"Hey can you draw a pink clown face with a red nose\""
   ]
  },
  {
   "cell_type": "code",
   "execution_count": null,
   "id": "c8b2ab896c78f6fc",
   "metadata": {
    "ExecuteTime": {
     "end_time": "2024-06-29T09:56:52.510223Z",
     "start_time": "2024-06-29T09:56:50.976371Z"
    },
    "collapsed": false,
    "jupyter": {
     "outputs_hidden": false
    }
   },
   "outputs": [],
   "source": [
    "result = query_openai(openai_msg, functions=[openai_function])\n"
   ]
  },
  {
   "cell_type": "code",
   "execution_count": null,
   "id": "4147070c3a8058ac",
   "metadata": {
    "ExecuteTime": {
     "end_time": "2024-06-29T09:56:54.682883Z",
     "start_time": "2024-06-29T09:56:54.679490Z"
    },
    "collapsed": false,
    "jupyter": {
     "outputs_hidden": false
    }
   },
   "outputs": [],
   "source": [
    "print (result.choices[0].message.tool_calls[0].function)"
   ]
  },
  {
   "cell_type": "code",
   "execution_count": null,
   "id": "d33e7d7d845665d7",
   "metadata": {
    "ExecuteTime": {
     "end_time": "2024-06-29T09:56:58.718956Z",
     "start_time": "2024-06-29T09:56:58.713285Z"
    },
    "collapsed": false,
    "jupyter": {
     "outputs_hidden": false
    }
   },
   "outputs": [],
   "source": [
    "tool_name = result.choices[0].message.tool_calls[0].function.name\n",
    "tool_args = result.choices[0].message.tool_calls[0].function.arguments\n"
   ]
  },
  {
   "cell_type": "code",
   "execution_count": null,
   "id": "42141d9307353fca",
   "metadata": {
    "ExecuteTime": {
     "end_time": "2024-06-29T09:56:59.840419Z",
     "start_time": "2024-06-29T09:56:59.820525Z"
    },
    "collapsed": false,
    "jupyter": {
     "outputs_hidden": false
    }
   },
   "outputs": [],
   "source": [
    "function_call = f\"{tool_name}(**{tool_args})\"\n"
   ]
  },
  {
   "cell_type": "code",
   "execution_count": null,
   "id": "d0c3ff7efd78625",
   "metadata": {
    "ExecuteTime": {
     "end_time": "2024-06-29T09:57:02.188852Z",
     "start_time": "2024-06-29T09:57:02.182865Z"
    },
    "collapsed": false,
    "jupyter": {
     "outputs_hidden": false
    }
   },
   "outputs": [],
   "source": [
    "print (function_call)"
   ]
  },
  {
   "cell_type": "code",
   "execution_count": null,
   "id": "6dcfc24e4ecb3bfb",
   "metadata": {
    "ExecuteTime": {
     "end_time": "2024-06-29T09:57:03.258003Z",
     "start_time": "2024-06-29T09:57:03.153825Z"
    },
    "collapsed": false,
    "jupyter": {
     "outputs_hidden": false
    }
   },
   "outputs": [],
   "source": [
    "exec(function_call)"
   ]
  },
  {
   "cell_type": "code",
   "execution_count": null,
   "id": "13387fc3793479bd",
   "metadata": {
    "collapsed": false,
    "jupyter": {
     "outputs_hidden": false
    }
   },
   "outputs": [],
   "source": []
  }
 ],
 "metadata": {
  "kernelspec": {
   "display_name": "Python 3 (ipykernel)",
   "language": "python",
   "name": "python3"
  },
  "language_info": {
   "codemirror_mode": {
    "name": "ipython",
    "version": 3
   },
   "file_extension": ".py",
   "mimetype": "text/x-python",
   "name": "python",
   "nbconvert_exporter": "python",
   "pygments_lexer": "ipython3",
   "version": "3.12.3"
  }
 },
 "nbformat": 4,
 "nbformat_minor": 5
}
