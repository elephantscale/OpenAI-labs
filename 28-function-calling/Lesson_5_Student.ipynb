{
 "cells": [
  {
   "cell_type": "markdown",
   "id": "207a548eb0bb609",
   "metadata": {
    "collapsed": false,
    "jupyter": {
     "outputs_hidden": false
    }
   },
   "source": [
    "# Adding Web Search To Your LLM"
   ]
  },
  {
   "cell_type": "code",
   "execution_count": null,
   "id": "9d89b8c9ce3926b6",
   "metadata": {
    "collapsed": false,
    "jupyter": {
     "outputs_hidden": false
    }
   },
   "outputs": [],
   "source": [
    "from dotenv import load_dotenv\n",
    "_ = load_dotenv()"
   ]
  },
  {
   "cell_type": "code",
   "execution_count": null,
   "id": "15dce894bd75ac5b",
   "metadata": {
    "collapsed": false,
    "jupyter": {
     "outputs_hidden": false
    }
   },
   "outputs": [],
   "source": [
    "from utils import query_raven\n",
    "question = \"Hey, can you tell me more about this R1 thing that was announced by Rabbit? \"\n",
    "\n",
    "no_function_calling_prompt = \\\n",
    "f\"\"\"\n",
    "<s> [INST] {question} [/INST]\n",
    "\"\"\"\n",
    "query_raven(no_function_calling_prompt)"
   ]
  },
  {
   "cell_type": "code",
   "execution_count": null,
   "id": "f8194a86bba0f883",
   "metadata": {
    "collapsed": false,
    "jupyter": {
     "outputs_hidden": false
    }
   },
   "outputs": [],
   "source": [
    "import os\n",
    "\n",
    "def do_web_search(full_user_prompt : str, num_results : int = 5):\n",
    "    API_URL = f'{os.getenv(\"DLAI_TAVILY_BASE_URL\", \"https://api.tavily.com\")}/search'\n",
    "    payload = \\\n",
    "    {\n",
    "      \"api_key\": os.getenv('TAVILY_API_KEY'),\n",
    "      \"query\": full_user_prompt,\n",
    "      \"search_depth\": \"basic\",\n",
    "      \"include_answer\": False,\n",
    "      \"include_images\": False,\n",
    "      \"include_raw_content\": False,\n",
    "      \"max_results\": num_results,\n",
    "      \"include_domains\": [],\n",
    "      \"exclude_domains\": []\n",
    "    }\n",
    "    import requests\n",
    "    response = requests.post(API_URL, json=payload)\n",
    "    response = response.json()\n",
    "    all_results = \"\\n\\n\".join(item[\"content\"] for item in response[\"results\"])\n",
    "    return all_results"
   ]
  },
  {
   "cell_type": "code",
   "execution_count": null,
   "id": "97b0a0ec3d76d40b",
   "metadata": {
    "collapsed": false,
    "jupyter": {
     "outputs_hidden": false
    }
   },
   "outputs": [],
   "source": [
    "function_calling_prompt = \\\n",
    "\"\"\"\n",
    "Function:\n",
    "def do_web_search(full_user_prompt : str, num_results : int = 5):\n",
    "    '''\n",
    "    Searches the web for the user question.\n",
    "    '''\n",
    "\n",
    "Example:\n",
    "User Query: What is the oldest capital in the world?\n",
    "Call: do_web_search(full_user_prompt=\"oldest capital\")\n",
    "\n",
    "User Query: {query}<human_end>\n",
    "\"\"\"\n",
    "fc_result = query_raven(function_calling_prompt.format(query=question))\n",
    "print (fc_result)"
   ]
  },
  {
   "cell_type": "code",
   "execution_count": null,
   "id": "c451e2e348a8211b",
   "metadata": {
    "collapsed": false,
    "jupyter": {
     "outputs_hidden": false
    }
   },
   "outputs": [],
   "source": [
    "result = eval(fc_result)\n"
   ]
  },
  {
   "cell_type": "code",
   "execution_count": null,
   "id": "8e1f68ed8eb164f",
   "metadata": {
    "collapsed": false,
    "jupyter": {
     "outputs_hidden": false
    }
   },
   "outputs": [],
   "source": [
    "full_prompt = \\\n",
    "f\"\"\"\n",
    "<s> [INST]\n",
    "{result}\n",
    "\n",
    "Use the information above to answer the following question concisely.\n",
    "\n",
    "Question:\n",
    "{question} [/INST]\n",
    "\"\"\"\n"
   ]
  },
  {
   "cell_type": "code",
   "execution_count": null,
   "id": "7632fb74faf39495",
   "metadata": {
    "collapsed": false,
    "jupyter": {
     "outputs_hidden": false
    }
   },
   "outputs": [],
   "source": [
    "grounded_response = query_raven(full_prompt.format(question = question))"
   ]
  },
  {
   "cell_type": "code",
   "execution_count": null,
   "id": "521ddf66460dc45e",
   "metadata": {
    "collapsed": false,
    "jupyter": {
     "outputs_hidden": false
    }
   },
   "outputs": [],
   "source": [
    "print (grounded_response)"
   ]
  },
  {
   "cell_type": "markdown",
   "id": "f8d005cac6608fc9",
   "metadata": {
    "collapsed": false,
    "jupyter": {
     "outputs_hidden": false
    }
   },
   "source": [
    "# Chatting With Your SQL Database"
   ]
  },
  {
   "cell_type": "code",
   "execution_count": null,
   "id": "259b594ce6b9f89",
   "metadata": {
    "collapsed": false,
    "jupyter": {
     "outputs_hidden": false
    }
   },
   "outputs": [],
   "source": [
    "from utils import create_random_database\n",
    "create_random_database()"
   ]
  },
  {
   "cell_type": "code",
   "execution_count": null,
   "id": "a672a44e97dc54da",
   "metadata": {
    "collapsed": false,
    "jupyter": {
     "outputs_hidden": false
    }
   },
   "outputs": [],
   "source": [
    "question = \"What is the most expensive item we currently sell?\""
   ]
  },
  {
   "cell_type": "code",
   "execution_count": null,
   "id": "8d33dc85c81c6c31",
   "metadata": {
    "collapsed": false,
    "jupyter": {
     "outputs_hidden": false
    }
   },
   "outputs": [],
   "source": [
    "from utils import execute_sql, query_raven\n",
    "\n",
    "schema = \\\n",
    "\"\"\"\n",
    "CREATE TABLE IF NOT EXISTS toys (\n",
    "    id INTEGER PRIMARY KEY,\n",
    "    name TEXT,\n",
    "    price REAL\n",
    ");\n",
    "\"\"\"\n",
    "\n",
    "raven_prompt = \\\n",
    "f'''\n",
    "Function:\n",
    "def execute_sql(sql_code : str):\n",
    "  \"\"\"\n",
    "  Runs sql code for a company internal database\n",
    "  \"\"\"\n",
    "\n",
    "Schema: {schema}\n",
    "User Query: {question}\n",
    "'''\n",
    "\n",
    "output = query_raven(raven_prompt)\n",
    "print (f\"LLM's function call: {output}\")\n",
    "database_result = eval(output)"
   ]
  },
  {
   "cell_type": "code",
   "execution_count": null,
   "id": "dc592a3bae1ca5e6",
   "metadata": {
    "collapsed": false,
    "jupyter": {
     "outputs_hidden": false
    }
   },
   "outputs": [],
   "source": [
    "full_prompt = \\\n",
    "f\"\"\"\n",
    "<s> [INST]\n",
    "{database_result}\n",
    "\n",
    "Use the information above to answer the following question concisely.\n",
    "\n",
    "Question:\n",
    "{question} [/INST]\n",
    "\"\"\"\n",
    "grounded_response = query_raven(full_prompt)\n",
    "print (grounded_response)"
   ]
  },
  {
   "cell_type": "markdown",
   "id": "b332a8de4137b179",
   "metadata": {
    "collapsed": false,
    "jupyter": {
     "outputs_hidden": false
    }
   },
   "source": [
    "# Safer Interactions With Databases"
   ]
  },
  {
   "cell_type": "code",
   "execution_count": null,
   "id": "97e69d53e0ad7d8",
   "metadata": {
    "collapsed": false,
    "jupyter": {
     "outputs_hidden": false
    }
   },
   "outputs": [],
   "source": [
    "import sqlite3\n",
    "import random\n",
    "\n",
    "# Internal database name setting\n",
    "DB_NAME = 'toy_database.db'\n",
    "\n",
    "# Connect to the database\n",
    "def connect_db():\n",
    "    return sqlite3.connect(DB_NAME)"
   ]
  },
  {
   "cell_type": "code",
   "execution_count": null,
   "id": "8f2d74c0c255e9ee",
   "metadata": {
    "collapsed": false,
    "jupyter": {
     "outputs_hidden": false
    }
   },
   "outputs": [],
   "source": [
    "# List all toys\n",
    "def list_all_toys():\n",
    "    with connect_db() as conn:\n",
    "        cursor = conn.execute('SELECT * FROM toys')\n",
    "        return cursor.fetchall()\n"
   ]
  },
  {
   "cell_type": "code",
   "execution_count": null,
   "id": "35140545a943451",
   "metadata": {
    "collapsed": false,
    "jupyter": {
     "outputs_hidden": false
    }
   },
   "outputs": [],
   "source": [
    "# Find toy by name prefix\n",
    "def find_toy_by_prefix(prefix):\n",
    "    with connect_db() as conn:\n",
    "        query = 'SELECT * FROM toys WHERE name LIKE ?'\n",
    "        cursor = conn.execute(query, (prefix + '%',))\n",
    "        return cursor.fetchall()\n"
   ]
  },
  {
   "cell_type": "code",
   "execution_count": null,
   "id": "de3ada522cbdd89d",
   "metadata": {
    "collapsed": false,
    "jupyter": {
     "outputs_hidden": false
    }
   },
   "outputs": [],
   "source": [
    "# Find toys in a price range\n",
    "def find_toys_in_price_range(low_price, high_price):\n",
    "    with connect_db() as conn:\n",
    "        query = 'SELECT * FROM toys WHERE price BETWEEN ? AND ?'\n",
    "        cursor = conn.execute(query, (low_price, high_price))\n",
    "        return cursor.fetchall()"
   ]
  },
  {
   "cell_type": "code",
   "execution_count": null,
   "id": "412b9512cf93990f",
   "metadata": {
    "collapsed": false,
    "jupyter": {
     "outputs_hidden": false
    }
   },
   "outputs": [],
   "source": [
    "# Get a random selection of toys\n",
    "def get_random_toys(count=5):\n",
    "    with connect_db() as conn:\n",
    "        cursor = conn.execute('SELECT * FROM toys')\n",
    "        all_toys = cursor.fetchall()\n",
    "        return random.sample(all_toys, min(count, len(all_toys)))"
   ]
  },
  {
   "cell_type": "code",
   "execution_count": null,
   "id": "7b5db73e7f0968d5",
   "metadata": {
    "collapsed": false,
    "jupyter": {
     "outputs_hidden": false
    }
   },
   "outputs": [],
   "source": [
    "# Function to get the most expensive toy\n",
    "def get_most_expensive_toy(count=1):\n",
    "    with connect_db() as conn:\n",
    "        cursor = conn.execute(f'SELECT * FROM toys ORDER BY price DESC LIMIT {count}')\n",
    "        return cursor.fetchone()\n"
   ]
  },
  {
   "cell_type": "code",
   "execution_count": null,
   "id": "89842bc0d00f7230",
   "metadata": {
    "collapsed": false,
    "jupyter": {
     "outputs_hidden": false
    }
   },
   "outputs": [],
   "source": [
    "# Function to get the cheapest toy\n",
    "def get_cheapest_toy(count=1):\n",
    "    with connect_db() as conn:\n",
    "        cursor = conn.execute('SELECT * FROM toys ORDER BY price ASC LIMIT {count}')\n",
    "        return cursor.fetchone()"
   ]
  },
  {
   "cell_type": "code",
   "execution_count": null,
   "id": "f3989dfca2df2301",
   "metadata": {
    "collapsed": false,
    "jupyter": {
     "outputs_hidden": false
    }
   },
   "outputs": [],
   "source": [
    "raven_prompt = \\\n",
    "f'''\n",
    "Function:\n",
    "def list_all_toys():\n",
    "    \"\"\"\n",
    "    Retrieves a list of all toys from the database. This function does not take any parameters.\n",
    "    Returns: A list of tuples, where each tuple represents a toy with all its attributes (id, name, price).\n",
    "    \"\"\"\n",
    "\n",
    "Function:\n",
    "def find_toy_by_prefix(prefix):\n",
    "    \"\"\"\n",
    "    Searches for and retrieves toys whose names start with a specified prefix.\n",
    "    Parameters:\n",
    "    - prefix (str): The prefix to search for in toy names.\n",
    "    Returns: A list of tuples, where each tuple represents a toy that matches the prefix criteria.\n",
    "    \"\"\"\n",
    "\n",
    "Function:\n",
    "def find_toys_in_price_range(low_price, high_price):\n",
    "    \"\"\"\n",
    "    Finds and returns toys within a specified price range.\n",
    "    Parameters:\n",
    "    - low_price (float): The lower bound of the price range.\n",
    "    - high_price (float): The upper bound of the price range.\n",
    "    Returns: A list of tuples, each representing a toy whose price falls within the specified range.\n",
    "    \"\"\"\n",
    "\n",
    "Function:\n",
    "def get_random_toys():\n",
    "    \"\"\"\n",
    "    Selects and returns a random set of toys from the database, simulating a \"featured toys\" list.\n",
    "\n",
    "    Returns: A list of tuples, each representing a randomly selected toy. The number of toys returned is up to the specified count.\n",
    "    \"\"\"\n",
    "\n",
    "Function:\n",
    "def get_most_expensive_toy(count : int):\n",
    "    \"\"\"\n",
    "    Retrieves the most expensive toy from the database.\n",
    "    This function does not take any parameters.\n",
    "\n",
    "    Returns: A tuple representing the most expensive toy, including its id, name, and price.\n",
    "    \"\"\"\n",
    "\n",
    "Function:\n",
    "def get_cheapest_toy(count : int):\n",
    "    \"\"\"\n",
    "    Finds and retrieves the cheapest toy in the database.\n",
    "    This function does not take any parameters.\n",
    "\n",
    "    Returns: A tuple representing the cheapest toy, including its id, name, and price.\n",
    "    \"\"\"\n",
    "\n",
    "User Query: {question}<human_end>\n",
    "\n",
    "'''\n",
    "\n",
    "output = query_raven(raven_prompt)\n",
    "print (output)\n",
    "results = eval(output)"
   ]
  },
  {
   "cell_type": "code",
   "execution_count": null,
   "id": "1108ccf44e8aa5e3",
   "metadata": {
    "collapsed": false,
    "jupyter": {
     "outputs_hidden": false
    }
   },
   "outputs": [],
   "source": [
    "full_prompt = \\\n",
    "f\"\"\"\n",
    "<s> [INST]\n",
    "{database_result}\n",
    "\n",
    "Use the information above to answer the following question in a single sentence.\n",
    "\n",
    "Question:\n",
    "{question} [/INST]\n",
    "\"\"\"\n",
    "grounded_response = query_raven(full_prompt)\n",
    "print (grounded_response)"
   ]
  },
  {
   "cell_type": "code",
   "execution_count": null,
   "id": "b819b126fa7033f3",
   "metadata": {
    "collapsed": false,
    "jupyter": {
     "outputs_hidden": false
    }
   },
   "outputs": [],
   "source": []
  }
 ],
 "metadata": {
  "kernelspec": {
   "display_name": "Python 3 (ipykernel)",
   "language": "python",
   "name": "python3"
  },
  "language_info": {
   "codemirror_mode": {
    "name": "ipython",
    "version": 3
   },
   "file_extension": ".py",
   "mimetype": "text/x-python",
   "name": "python",
   "nbconvert_exporter": "python",
   "pygments_lexer": "ipython3",
   "version": "3.12.3"
  }
 },
 "nbformat": 4,
 "nbformat_minor": 5
}
