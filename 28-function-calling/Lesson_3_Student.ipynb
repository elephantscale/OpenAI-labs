{
 "cells": [
  {
   "cell_type": "markdown",
   "id": "7f310c4ac1f46cb4",
   "metadata": {
    "collapsed": false,
    "jupyter": {
     "outputs_hidden": false
    }
   },
   "source": [
    "# How Do We Interface With External Resources?"
   ]
  },
  {
   "cell_type": "code",
   "execution_count": null,
   "id": "35e75b870a30f9e",
   "metadata": {
    "ExecuteTime": {
     "end_time": "2024-06-29T09:45:37.587204Z",
     "start_time": "2024-06-29T09:45:36.804860Z"
    },
    "collapsed": false,
    "jupyter": {
     "outputs_hidden": false
    }
   },
   "outputs": [],
   "source": [
    "import requests\n",
    "\n",
    "url = \"https://v2.jokeapi.dev/joke/Any?safe-mode&type=twopart\"\n",
    "\n",
    "response = requests.get(url)\n",
    "\n",
    "print(response.json()[\"setup\"])\n",
    "print(response.json()[\"delivery\"])"
   ]
  },
  {
   "cell_type": "code",
   "execution_count": null,
   "id": "3d3e1919fc401ab0",
   "metadata": {
    "ExecuteTime": {
     "end_time": "2024-06-29T09:45:40.210334Z",
     "start_time": "2024-06-29T09:45:40.203445Z"
    },
    "collapsed": false,
    "jupyter": {
     "outputs_hidden": false
    }
   },
   "outputs": [],
   "source": [
    "response.json()"
   ]
  },
  {
   "cell_type": "code",
   "execution_count": null,
   "id": "142cf74604f507f",
   "metadata": {
    "ExecuteTime": {
     "end_time": "2024-06-29T09:45:41.601232Z",
     "start_time": "2024-06-29T09:45:41.571410Z"
    },
    "collapsed": false,
    "jupyter": {
     "outputs_hidden": false
    }
   },
   "outputs": [],
   "source": [
    "import requests\n",
    "def give_joke(category : str):\n",
    "    \"\"\"\n",
    "    Joke categories. Supports: Any, Misc, Programming, Pun, Spooky, Christmas.\n",
    "    \"\"\"\n",
    "\n",
    "    url = f\"https://v2.jokeapi.dev/joke/{category}?safe-mode&type=twopart\"\n",
    "    response = requests.get(url)\n",
    "    print(response.json()[\"setup\"])\n",
    "    print(response.json()[\"delivery\"])"
   ]
  },
  {
   "cell_type": "code",
   "execution_count": null,
   "id": "91c48659a226c4ab",
   "metadata": {
    "ExecuteTime": {
     "end_time": "2024-06-29T09:45:42.637138Z",
     "start_time": "2024-06-29T09:45:42.609071Z"
    },
    "collapsed": false,
    "jupyter": {
     "outputs_hidden": false
    }
   },
   "outputs": [],
   "source": [
    "USER_QUERY = \"Hey! Can you get me a joke for this december?\""
   ]
  },
  {
   "cell_type": "code",
   "execution_count": null,
   "id": "57e8fec17bd57236",
   "metadata": {
    "ExecuteTime": {
     "end_time": "2024-06-29T09:45:44.711897Z",
     "start_time": "2024-06-29T09:45:43.643338Z"
    },
    "collapsed": false,
    "jupyter": {
     "outputs_hidden": false
    }
   },
   "outputs": [],
   "source": [
    "from utils import query_raven\n",
    "\n",
    "raven_functions = \\\n",
    "f'''\n",
    "def give_joke(category : str):\n",
    "    \"\"\"\n",
    "    Joke categories. Supports: Any, Misc, Programming, Dark, Pun, Spooky, Christmas.\n",
    "    \"\"\"\n",
    "\n",
    "User Query: {USER_QUERY}<human_end>\n",
    "'''\n",
    "call = query_raven(raven_functions)"
   ]
  },
  {
   "cell_type": "code",
   "execution_count": null,
   "id": "2528c8fafa50f8d5",
   "metadata": {
    "ExecuteTime": {
     "end_time": "2024-06-29T09:45:46.220326Z",
     "start_time": "2024-06-29T09:45:45.733449Z"
    },
    "collapsed": false,
    "jupyter": {
     "outputs_hidden": false
    }
   },
   "outputs": [],
   "source": [
    "exec(call)"
   ]
  },
  {
   "cell_type": "markdown",
   "id": "ce63e1d148a4846",
   "metadata": {
    "collapsed": false,
    "jupyter": {
     "outputs_hidden": false
    }
   },
   "source": [
    "## Writing A Tool That Uses OpenAPI APIs"
   ]
  },
  {
   "cell_type": "code",
   "execution_count": null,
   "id": "b972e7ee7b551964",
   "metadata": {
    "ExecuteTime": {
     "end_time": "2024-06-29T09:45:53.979065Z",
     "start_time": "2024-06-29T09:45:53.964825Z"
    },
    "collapsed": false,
    "jupyter": {
     "outputs_hidden": false
    }
   },
   "outputs": [],
   "source": [
    "!wget https://raw.githubusercontent.com/open-meteo/open-meteo/main/openapi.yml"
   ]
  },
  {
   "cell_type": "code",
   "execution_count": null,
   "id": "e88cd79fdf57d405",
   "metadata": {
    "ExecuteTime": {
     "end_time": "2024-06-29T09:45:55.250437Z",
     "start_time": "2024-06-29T09:45:55.199363Z"
    },
    "collapsed": false,
    "jupyter": {
     "outputs_hidden": false
    }
   },
   "outputs": [],
   "source": [
    "import yaml\n",
    "import json\n",
    "\n",
    "# Read the content of the file\n",
    "with open('openapi.yml', 'r') as file:\n",
    "    file_content = file.read()\n",
    "file_content = file_content.replace(\"int\\n\", \"number\\n\")\n",
    "file_content = file_content.replace(\"float\\n\", \"number\\n\")\n",
    "data = yaml.safe_load(file_content)\n",
    "\n",
    "data[\"servers\"] = [{\"url\":\"https://api.open-meteo.com\"}]\n",
    "\n",
    "with open('openapi.json', 'w') as file:\n",
    "    json_content = json.dump(data, file)"
   ]
  },
  {
   "cell_type": "code",
   "execution_count": null,
   "id": "82bf67b8675999cb",
   "metadata": {
    "ExecuteTime": {
     "end_time": "2024-06-29T09:45:56.725024Z",
     "start_time": "2024-06-29T09:45:56.488782Z"
    },
    "collapsed": false,
    "jupyter": {
     "outputs_hidden": false
    }
   },
   "outputs": [],
   "source": [
    "#run below command to generate Python client code \n",
    "!python -m openapi_python_generator openapi.json ./api_specification_main/"
   ]
  },
  {
   "cell_type": "code",
   "execution_count": null,
   "id": "6c5d2f0ceed829",
   "metadata": {
    "ExecuteTime": {
     "end_time": "2024-06-29T09:46:09.449232Z",
     "start_time": "2024-06-29T09:46:09.442318Z"
    },
    "collapsed": false,
    "jupyter": {
     "outputs_hidden": false
    }
   },
   "outputs": [],
   "source": [
    "from api_specification_main.services.WeatherForecastAPIs_service\\\n",
    "    import get_v1forecast"
   ]
  },
  {
   "cell_type": "code",
   "execution_count": null,
   "id": "70eb585e7440f1b9",
   "metadata": {
    "ExecuteTime": {
     "end_time": "2024-06-29T09:46:10.309805Z",
     "start_time": "2024-06-29T09:46:10.291767Z"
    },
    "collapsed": false,
    "jupyter": {
     "outputs_hidden": false
    }
   },
   "outputs": [],
   "source": [
    "user_query = \"Hey how is the current weather and windspeed in New York?\""
   ]
  },
  {
   "cell_type": "code",
   "execution_count": null,
   "id": "c2299225d0be6930",
   "metadata": {
    "ExecuteTime": {
     "end_time": "2024-06-29T09:46:11.120653Z",
     "start_time": "2024-06-29T09:46:11.104010Z"
    },
    "collapsed": false,
    "jupyter": {
     "outputs_hidden": false
    }
   },
   "outputs": [],
   "source": [
    "import inspect\n",
    "signature = inspect.signature(get_v1forecast)\n",
    "docstring = \\\n",
    "'''\n",
    "Requires the latitude and longitude.\n",
    "Set current_weather to True to get the weather.\n",
    "Set hourly or daily based on preference.\n",
    "'''\n",
    "\n",
    "raven_prompt = \\\n",
    "f'''\n",
    "Function:\n",
    "{get_v1forecast.__name__}{signature}\n",
    "\"\"\"{docstring}\"\"\"\n",
    "\n",
    "User Query: {user_query}<human_end>'''\n",
    "\n",
    "print (raven_prompt)"
   ]
  },
  {
   "cell_type": "code",
   "execution_count": null,
   "id": "eb08d8709f8b78e9",
   "metadata": {
    "collapsed": false,
    "jupyter": {
     "outputs_hidden": false
    }
   },
   "outputs": [],
   "source": [
    "from utils import query_raven\n",
    "call = query_raven(raven_prompt)\n",
    "print (call)"
   ]
  },
  {
   "cell_type": "code",
   "execution_count": null,
   "id": "3ba67c7631817fc4",
   "metadata": {
    "collapsed": false,
    "jupyter": {
     "outputs_hidden": false
    }
   },
   "outputs": [],
   "source": [
    "eval(call)"
   ]
  }
 ],
 "metadata": {
  "kernelspec": {
   "display_name": "Python (lab 28)",
   "language": "python",
   "name": "28"
  },
  "language_info": {
   "codemirror_mode": {
    "name": "ipython",
    "version": 3
   },
   "file_extension": ".py",
   "mimetype": "text/x-python",
   "name": "python",
   "nbconvert_exporter": "python",
   "pygments_lexer": "ipython3",
   "version": "3.12.3"
  }
 },
 "nbformat": 4,
 "nbformat_minor": 5
}
