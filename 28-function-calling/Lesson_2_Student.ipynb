{
 "cells": [
  {
   "cell_type": "markdown",
   "source": [
    "# Housekeeping"
   ],
   "metadata": {
    "collapsed": false
   },
   "id": "9f539190b2a64859"
  },
  {
   "cell_type": "code",
   "outputs": [],
   "source": [
    "def afunction(arg1:int = 0, arg2:str = \"hello\", **kwargs)->int:\n",
    "    ''' this is a function definition\n",
    "        arg1 (int): an exemplary yet modest argument\n",
    "        arg2 (str): another nice argument\n",
    "        **kwargs : the rest of the rabble \n",
    "\n",
    "        returns arg1 incremented by one\n",
    "    '''\n",
    "    return(arg + 1)"
   ],
   "metadata": {
    "collapsed": false,
    "ExecuteTime": {
     "end_time": "2024-06-29T07:23:22.643279Z",
     "start_time": "2024-06-29T07:23:22.590943Z"
    }
   },
   "id": "8636842d9bcc6e9c",
   "execution_count": 28
  },
  {
   "cell_type": "code",
   "outputs": [
    {
     "name": "stdout",
     "output_type": "stream",
     "text": [
      "afunction\n",
      " this is a function definition\n",
      "        arg1 (int): an exemplary yet modest argument\n",
      "        arg2 (str): another nice argument\n",
      "        **kwargs : the rest of the rabble \n",
      "\n",
      "        returns arg1 incremented by one\n",
      "    \n"
     ]
    }
   ],
   "source": [
    "print(afunction.__name__)\n",
    "print(afunction.__doc__)"
   ],
   "metadata": {
    "collapsed": false,
    "ExecuteTime": {
     "end_time": "2024-06-29T07:23:23.480662Z",
     "start_time": "2024-06-29T07:23:23.471779Z"
    }
   },
   "id": "ee386c16184d754a",
   "execution_count": 29
  },
  {
   "cell_type": "code",
   "outputs": [
    {
     "name": "stdout",
     "output_type": "stream",
     "text": [
      "(arg1: int = 0, arg2: str = 'hello', **kwargs) -> int\n"
     ]
    }
   ],
   "source": [
    "import inspect\n",
    "print(inspect.signature(afunction))"
   ],
   "metadata": {
    "collapsed": false,
    "ExecuteTime": {
     "end_time": "2024-06-29T07:23:24.592794Z",
     "start_time": "2024-06-29T07:23:24.571757Z"
    }
   },
   "id": "89b48250636f67cc",
   "execution_count": 30
  },
  {
   "cell_type": "markdown",
   "source": [
    "# Building User Query\n"
   ],
   "metadata": {
    "collapsed": false
   },
   "id": "cc525fb3e12f8e7a"
  },
  {
   "cell_type": "code",
   "outputs": [],
   "source": [
    "import inspect\n",
    "def build_raven_prompt(function_list, user_query):\n",
    "    raven_prompt = \"\"\n",
    "    for function in function_list:\n",
    "        signature = inspect.signature(function)\n",
    "        docstring = function.__doc__\n",
    "        prompt = \\\n",
    "f'''\n",
    "Function:\n",
    "def {function.__name__}{signature}\n",
    "    \"\"\"\n",
    "    {docstring.strip()}\n",
    "    \"\"\"\n",
    "    \n",
    "'''\n",
    "        raven_prompt += prompt\n",
    "        \n",
    "    raven_prompt += f\"User Query: {user_query}<human_end>\"\n",
    "    return raven_prompt\n"
   ],
   "metadata": {
    "collapsed": false,
    "ExecuteTime": {
     "end_time": "2024-06-29T07:23:26.580782Z",
     "start_time": "2024-06-29T07:23:26.551943Z"
    }
   },
   "id": "a9ed3dae25ea6a5e",
   "execution_count": 31
  },
  {
   "cell_type": "code",
   "outputs": [
    {
     "name": "stdout",
     "output_type": "stream",
     "text": [
      "\n",
      "Function:\n",
      "def afunction(arg1: int = 0, arg2: str = 'hello', **kwargs) -> int\n",
      "    \"\"\"\n",
      "    this is a function definition\n",
      "        arg1 (int): an exemplary yet modest argument\n",
      "        arg2 (str): another nice argument\n",
      "        **kwargs : the rest of the rabble \n",
      "\n",
      "        returns arg1 incremented by one\n",
      "    \"\"\"\n",
      "    \n",
      "User Query: a query<human_end>\n"
     ]
    }
   ],
   "source": [
    "print( build_raven_prompt([afunction], \"a query\"))"
   ],
   "metadata": {
    "collapsed": false,
    "ExecuteTime": {
     "end_time": "2024-06-29T07:23:27.514998Z",
     "start_time": "2024-06-29T07:23:27.486306Z"
    }
   },
   "id": "d05d816503712b72",
   "execution_count": 32
  },
  {
   "cell_type": "markdown",
   "source": [
    "# Concrete Example For Parallel Calls"
   ],
   "metadata": {
    "collapsed": false
   },
   "id": "c6f9e759982d96bf"
  },
  {
   "cell_type": "code",
   "outputs": [],
   "source": [
    "from utils import draw_clown_face\n",
    "\n",
    "raven_msg = \"Hey, can you build me two clowns.\" \\\n",
    "\"The first clown should be red faced, with a blue nose\" \\\n",
    "\"and a mouth from 0 to 180 degrees. The mouth should be black.\" \\\n",
    "\"The second clown should have a blue face and a green nose\" \\\n",
    "\"and a red mouth that's 180 to 360 degrees.\""
   ],
   "metadata": {
    "collapsed": false,
    "ExecuteTime": {
     "end_time": "2024-06-29T07:23:29.283628Z",
     "start_time": "2024-06-29T07:23:29.265099Z"
    }
   },
   "id": "645f7352bebb1026",
   "execution_count": 33
  },
  {
   "cell_type": "code",
   "outputs": [
    {
     "name": "stdout",
     "output_type": "stream",
     "text": [
      "\n",
      "Function:\n",
      "def draw_clown_face(face_color='yellow', eye_color='black', nose_color='red', eye_size=0.05, mouth_size=(0.3, 0.1), mouth_color='black', eye_offset=(0.15, 0.15), mouth_theta=(200, 340))\n",
      "    \"\"\"\n",
      "    Draws a customizable, simplified clown face using matplotlib.\n",
      "\n",
      "    Parameters:\n",
      "    - face_color (str): Color of the clown's face. Default is 'yellow'.\n",
      "    - eye_color (str): Color of the clown's eyes. Default is 'black'.\n",
      "    - nose_color (str): Color of the clown's nose. Default is 'red'.\n",
      "    - eye_size (float): Radius of the clown's eyes. Default is 0.05.\n",
      "    - mouth_size (tuple): Width and height of the clown's mouth arc. Default is (0.3, 0.1).\n",
      "    - eye_offset (tuple): Horizontal and vertical offset for the eyes from the center. Default is (0.15, 0.15).\n",
      "    - mouth_theta (tuple): Starting and ending angles (in degrees) of the mouth arc. Default is (200, 340).\n",
      "\n",
      "    This function creates a plot displaying a simplified clown face, where essential facial features' size, position, and color can be customized.\n",
      "\n",
      "    Example usage:\n",
      "    draw_clown_face(face_color='lightblue', eye_color='green', nose_color='orange',\n",
      "                    eye_size=0.07, mouth_size=(0.4, 0.25),\n",
      "                    eye_offset=(0.2, 0.2), mouth_theta=(0, 180))\n",
      "\n",
      "    # This will draw a simplified clown face with a light blue face, green eyes, an orange nose, and a smiling mouth.\n",
      "    \"\"\"\n",
      "    \n",
      "User Query: Hey, can you build me two clowns.The first clown should be red faced, with a blue noseand a mouth from 0 to 180 degrees. The mouth should be black.The second clown should have a blue face and a green noseand a red mouth that's 180 to 360 degrees.<human_end>\n"
     ]
    }
   ],
   "source": [
    "raven_prompt = build_raven_prompt([draw_clown_face], raven_msg)\n",
    "\n",
    "print (raven_prompt)"
   ],
   "metadata": {
    "collapsed": false,
    "ExecuteTime": {
     "end_time": "2024-06-29T07:23:29.971240Z",
     "start_time": "2024-06-29T07:23:29.965577Z"
    }
   },
   "id": "a02ec5aff1bcb601",
   "execution_count": 34
  },
  {
   "cell_type": "code",
   "outputs": [
    {
     "name": "stdout",
     "output_type": "stream",
     "text": [
      "draw_clown_face(face_color='red', nose_color='blue', mouth_color='black', mouth_theta=(0, 180)); draw_clown_face(face_color='blue', nose_color='green', mouth_color='red', mouth_theta=(180, 360));\n"
     ]
    },
    {
     "data": {
      "text/plain": "<Figure size 200x200 with 1 Axes>",
      "image/png": "[encoded data removed]"
     },
     "metadata": {},
     "output_type": "display_data"
    },
    {
     "data": {
      "text/plain": "<Figure size 200x200 with 1 Axes>",
      "image/png": "[encoded data removed]"
     },
     "metadata": {},
     "output_type": "display_data"
    }
   ],
   "source": [
    "from utils import query_raven\n",
    "raven_call = query_raven(raven_prompt)\n",
    "print (raven_call)\n",
    "exec(raven_call)"
   ],
   "metadata": {
    "collapsed": false,
    "ExecuteTime": {
     "end_time": "2024-06-29T07:23:34.006976Z",
     "start_time": "2024-06-29T07:23:30.894962Z"
    }
   },
   "id": "2c926b1e9bc1ac28",
   "execution_count": 35
  },
  {
   "cell_type": "markdown",
   "source": [
    "# Using Multiple Functions!"
   ],
   "metadata": {
    "collapsed": false
   },
   "id": "10722e7c3d45c947"
  },
  {
   "cell_type": "code",
   "outputs": [],
   "source": [
    "from utils import draw_clown_face, draw_tie\n",
    "raven_msg = \"Hey draw a tie?\"\n",
    "raven_prompt = build_raven_prompt\\\n",
    "    ([draw_clown_face, draw_tie], raven_msg)"
   ],
   "metadata": {
    "collapsed": false,
    "ExecuteTime": {
     "end_time": "2024-06-29T07:23:35.445333Z",
     "start_time": "2024-06-29T07:23:35.441833Z"
    }
   },
   "id": "94d893c6eb65bc89",
   "execution_count": 36
  },
  {
   "cell_type": "code",
   "outputs": [
    {
     "name": "stdout",
     "output_type": "stream",
     "text": [
      "\n",
      "Function:\n",
      "def draw_clown_face(face_color='yellow', eye_color='black', nose_color='red', eye_size=0.05, mouth_size=(0.3, 0.1), mouth_color='black', eye_offset=(0.15, 0.15), mouth_theta=(200, 340))\n",
      "    \"\"\"\n",
      "    Draws a customizable, simplified clown face using matplotlib.\n",
      "\n",
      "    Parameters:\n",
      "    - face_color (str): Color of the clown's face. Default is 'yellow'.\n",
      "    - eye_color (str): Color of the clown's eyes. Default is 'black'.\n",
      "    - nose_color (str): Color of the clown's nose. Default is 'red'.\n",
      "    - eye_size (float): Radius of the clown's eyes. Default is 0.05.\n",
      "    - mouth_size (tuple): Width and height of the clown's mouth arc. Default is (0.3, 0.1).\n",
      "    - eye_offset (tuple): Horizontal and vertical offset for the eyes from the center. Default is (0.15, 0.15).\n",
      "    - mouth_theta (tuple): Starting and ending angles (in degrees) of the mouth arc. Default is (200, 340).\n",
      "\n",
      "    This function creates a plot displaying a simplified clown face, where essential facial features' size, position, and color can be customized.\n",
      "\n",
      "    Example usage:\n",
      "    draw_clown_face(face_color='lightblue', eye_color='green', nose_color='orange',\n",
      "                    eye_size=0.07, mouth_size=(0.4, 0.25),\n",
      "                    eye_offset=(0.2, 0.2), mouth_theta=(0, 180))\n",
      "\n",
      "    # This will draw a simplified clown face with a light blue face, green eyes, an orange nose, and a smiling mouth.\n",
      "    \"\"\"\n",
      "    \n",
      "\n",
      "Function:\n",
      "def draw_tie()\n",
      "    \"\"\"\n",
      "    Draws a tie\n",
      "    \"\"\"\n",
      "    \n",
      "User Query: Hey draw a tie?<human_end>\n"
     ]
    }
   ],
   "source": [
    "print(raven_prompt)"
   ],
   "metadata": {
    "collapsed": false,
    "ExecuteTime": {
     "end_time": "2024-06-29T07:23:36.479355Z",
     "start_time": "2024-06-29T07:23:36.466799Z"
    }
   },
   "id": "22a4577c189dc179",
   "execution_count": 37
  },
  {
   "cell_type": "code",
   "outputs": [
    {
     "name": "stdout",
     "output_type": "stream",
     "text": [
      "draw_tie()\n"
     ]
    }
   ],
   "source": [
    "raven_call = query_raven(raven_prompt)\n",
    "print (raven_call)"
   ],
   "metadata": {
    "collapsed": false,
    "ExecuteTime": {
     "end_time": "2024-06-29T07:23:38.496213Z",
     "start_time": "2024-06-29T07:23:37.517968Z"
    }
   },
   "id": "93c597aec3e27eb1",
   "execution_count": 38
  },
  {
   "cell_type": "code",
   "outputs": [
    {
     "data": {
      "text/plain": "<Figure size 100x200 with 1 Axes>",
      "image/png": "[encoded data removed]"
     },
     "metadata": {},
     "output_type": "display_data"
    }
   ],
   "source": [
    "exec(raven_call)"
   ],
   "metadata": {
    "collapsed": false,
    "ExecuteTime": {
     "end_time": "2024-06-29T07:23:39.233463Z",
     "start_time": "2024-06-29T07:23:39.199373Z"
    }
   },
   "id": "f69e413ba2e5be68",
   "execution_count": 39
  },
  {
   "cell_type": "markdown",
   "source": [
    "# Multiple Parallel Function Calling"
   ],
   "metadata": {
    "collapsed": false
   },
   "id": "12e8632d75a2bfc"
  },
  {
   "cell_type": "code",
   "outputs": [],
   "source": [
    "raven_msg = \"Draw a clown and a tie?\""
   ],
   "metadata": {
    "collapsed": false,
    "ExecuteTime": {
     "end_time": "2024-06-29T07:23:51.295801Z",
     "start_time": "2024-06-29T07:23:51.283719Z"
    }
   },
   "id": "76b4d95b86998397",
   "execution_count": 40
  },
  {
   "cell_type": "code",
   "outputs": [],
   "source": [
    "raven_prompt = build_raven_prompt([draw_tie, draw_clown_face], raven_msg)\n",
    "raven_call = query_raven(raven_prompt)"
   ],
   "metadata": {
    "collapsed": false,
    "ExecuteTime": {
     "end_time": "2024-06-29T07:23:54.985638Z",
     "start_time": "2024-06-29T07:23:52.114611Z"
    }
   },
   "id": "7e25c1a19564d790",
   "execution_count": 41
  },
  {
   "cell_type": "code",
   "outputs": [
    {
     "name": "stdout",
     "output_type": "stream",
     "text": [
      "draw_clown_face(face_color='yellow', eye_color='black', nose_color='red', eye_size=0.05, mouth_size=(0.3, 0.1), mouth_color='black', eye_offset=(0.15, 0.15), mouth_theta=(200, 340)); draw_tie()\n"
     ]
    }
   ],
   "source": [
    "print (raven_call)"
   ],
   "metadata": {
    "collapsed": false,
    "ExecuteTime": {
     "end_time": "2024-06-29T07:23:55.933673Z",
     "start_time": "2024-06-29T07:23:55.929528Z"
    }
   },
   "id": "adf86ad7fcdc39fa",
   "execution_count": 42
  },
  {
   "cell_type": "code",
   "outputs": [
    {
     "data": {
      "text/plain": "<Figure size 200x200 with 1 Axes>",
      "image/png": "[encoded data removed]"
     },
     "metadata": {},
     "output_type": "display_data"
    },
    {
     "data": {
      "text/plain": "<Figure size 100x200 with 1 Axes>",
      "image/png": "[encoded data removed]"
     },
     "metadata": {},
     "output_type": "display_data"
    }
   ],
   "source": [
    "exec(raven_call)"
   ],
   "metadata": {
    "collapsed": false,
    "ExecuteTime": {
     "end_time": "2024-06-29T07:23:57.032660Z",
     "start_time": "2024-06-29T07:23:56.892524Z"
    }
   },
   "id": "19c336d49de119ae",
   "execution_count": 43
  },
  {
   "cell_type": "markdown",
   "source": [
    "# What is the significance of the docstrings?"
   ],
   "metadata": {
    "collapsed": false
   },
   "id": "134fe081080c4211"
  },
  {
   "cell_type": "code",
   "outputs": [
    {
     "name": "stdout",
     "output_type": "stream",
     "text": [
      "draw_clown_face(face_color='green')\n"
     ]
    },
    {
     "data": {
      "text/plain": "<Figure size 200x200 with 1 Axes>",
      "image/png": "[encoded data removed]"
     },
     "metadata": {},
     "output_type": "display_data"
    }
   ],
   "source": [
    "raven_msg = \"Draw me a sad one with green head\"\n",
    "raven_prompt = build_raven_prompt([draw_clown_face], raven_msg)\n",
    "raven_call = query_raven(raven_prompt)\n",
    "print (raven_call)\n",
    "exec(raven_call)"
   ],
   "metadata": {
    "collapsed": false,
    "ExecuteTime": {
     "end_time": "2024-06-29T07:23:59.915009Z",
     "start_time": "2024-06-29T07:23:58.767693Z"
    }
   },
   "id": "9d73960aeff2fdde",
   "execution_count": 44
  },
  {
   "cell_type": "code",
   "outputs": [
    {
     "name": "stdout",
     "output_type": "stream",
     "text": [
      "\n",
      "Function:\n",
      "def draw_clown_face(face_color='yellow', eye_color='black', nose_color='red', eye_size=0.05, mouth_size=(0.3, 0.1), mouth_color='black', eye_offset=(0.15, 0.15), mouth_theta=(200, 340))\n",
      "    \"\"\"\n",
      "    Draws a customizable, simplified clown face using matplotlib.\n",
      "\n",
      "    Parameters:\n",
      "    - face_color (str): Color of the clown's face. Default is 'yellow'.\n",
      "    - eye_color (str): Color of the clown's eyes. Default is 'black'.\n",
      "    - nose_color (str): Color of the clown's nose. Default is 'red'.\n",
      "    - eye_size (float): Radius of the clown's eyes. Default is 0.05.\n",
      "    - mouth_size (tuple): Width and height of the clown's mouth arc. Default is (0.3, 0.1).\n",
      "    - eye_offset (tuple): Horizontal and vertical offset for the eyes from the center. Default is (0.15, 0.15).\n",
      "    - mouth_theta (tuple): Starting and ending angles (in degrees) of the mouth arc. Default is (200, 340).\n",
      "\n",
      "    This function creates a plot displaying a simplified clown face, where essential facial features' size, position, and color can be customized.\n",
      "\n",
      "    Example usage:\n",
      "    draw_clown_face(face_color='lightblue', eye_color='green', nose_color='orange',\n",
      "                    eye_size=0.07, mouth_size=(0.4, 0.25),\n",
      "                    eye_offset=(0.2, 0.2), mouth_theta=(0, 180))\n",
      "\n",
      "    # This will draw a simplified clown face with a light blue face, green eyes, an orange nose, and a smiling mouth.\n",
      "    \"\"\"\n",
      "    \n",
      "User Query: Draw me a sad one with green head<human_end>\n"
     ]
    }
   ],
   "source": [
    "print (raven_prompt)"
   ],
   "metadata": {
    "collapsed": false,
    "ExecuteTime": {
     "end_time": "2024-06-29T07:24:00.569084Z",
     "start_time": "2024-06-29T07:24:00.566347Z"
    }
   },
   "id": "e553af0c40906582",
   "execution_count": 45
  },
  {
   "cell_type": "code",
   "outputs": [],
   "source": [
    "raven_prompt_targeted = \\\n",
    "'''\n",
    "Function:\n",
    "def draw_clown_face(face_color='yellow', eye_color='black', nose_color='red', eye_size=0.05, mouth_size=(0.3, 0.1), mouth_color='black', eye_offset=(0.15, 0.15), mouth_theta=(200, 340))\n",
    "    \"\"\"\n",
    "    Draws a customizable, simplified clown face using matplotlib.\n",
    "\n",
    "    Parameters:\n",
    "    - face_color (str): Color of the clown's face. Default is 'yellow'.\n",
    "    - eye_color (str): Color of the clown's eyes. Default is 'black'.\n",
    "    - nose_color (str): Color of the clown's nose. Default is 'red'.\n",
    "    - eye_size (float): Radius of the clown's eyes. Default is 0.05.\n",
    "    - mouth_size (tuple): Width and height of the clown's mouth arc. Default is (0.3, 0.1).\n",
    "    - eye_offset (tuple): Horizontal and vertical offset for the eyes from the center. Default is (0.15, 0.15).\n",
    "    - mouth_theta (tuple): Controls the emotions of the clown. Starting and ending angles (in degrees) of the mouth arc. Default is (200, 340).\n",
    "\n",
    "    This function creates a plot displaying a simplified clown face, where essential facial features' size, position, and color can be customized. \n",
    "\n",
    "    Example usage:\n",
    "    draw_clown_face(face_color='lightblue', eye_color='green', nose_color='orange', \n",
    "                    eye_size=0.07, mouth_size=(0.4, 0.25), \n",
    "                    eye_offset=(0.2, 0.2), mouth_theta=(0, 180))\n",
    "\n",
    "    # This will draw a simplified clown face with a light blue face, green eyes, an orange nose, and a smiling mouth.\n",
    "    \"\"\"\n",
    "    \n",
    "User Query: Draw me a sad one with green head<human_end>\n",
    "'''"
   ],
   "metadata": {
    "collapsed": false,
    "ExecuteTime": {
     "end_time": "2024-06-29T07:24:01.452171Z",
     "start_time": "2024-06-29T07:24:01.446143Z"
    }
   },
   "id": "fe4ea2fd02451bf",
   "execution_count": 46
  },
  {
   "cell_type": "code",
   "outputs": [
    {
     "name": "stdout",
     "output_type": "stream",
     "text": [
      "draw_clown_face(face_color='green', mouth_theta=[0, 180])\n"
     ]
    },
    {
     "data": {
      "text/plain": "<Figure size 200x200 with 1 Axes>",
      "image/png": "[encoded data removed]"
     },
     "metadata": {},
     "output_type": "display_data"
    }
   ],
   "source": [
    "raven_call = query_raven(raven_prompt_targeted)\n",
    "print (raven_call)\n",
    "exec(raven_call)"
   ],
   "metadata": {
    "collapsed": false,
    "ExecuteTime": {
     "end_time": "2024-06-29T07:24:03.916014Z",
     "start_time": "2024-06-29T07:24:02.371540Z"
    }
   },
   "id": "a049ee17e9242ef7",
   "execution_count": 47
  },
  {
   "cell_type": "markdown",
   "source": [
    "# Concrete Example For Nested APIs"
   ],
   "metadata": {
    "collapsed": false
   },
   "id": "dd3f442a236777ad"
  },
  {
   "cell_type": "code",
   "outputs": [],
   "source": [
    "raven_msg_nested = \"Hey draw me a clown with \"\\\n",
    "                    \"a red face, blue eyes, green nose, \"\\\n",
    "                    \"and a black mouth open from 0 to 360 \"\\\n",
    "                    \"degrees?\""
   ],
   "metadata": {
    "collapsed": false,
    "ExecuteTime": {
     "end_time": "2024-06-29T07:24:05.623285Z",
     "start_time": "2024-06-29T07:24:05.620733Z"
    }
   },
   "id": "7f3e80056aea0221",
   "execution_count": 48
  },
  {
   "cell_type": "code",
   "outputs": [],
   "source": [
    "from utils import draw_head, draw_eyes, \\\n",
    "    draw_nose, draw_mouth, \\\n",
    "    draw_clown_face_parts\n",
    "raven_function_nested = build_raven_prompt([draw_head, \\\n",
    "                                            draw_eyes, \\\n",
    "                                            draw_nose, \\\n",
    "                                            draw_mouth, \\\n",
    "                                            draw_clown_face_parts],\\\n",
    "                                            raven_msg_nested)\n",
    "raven_call = query_raven(raven_function_nested)"
   ],
   "metadata": {
    "collapsed": false,
    "ExecuteTime": {
     "end_time": "2024-06-29T07:24:09.115728Z",
     "start_time": "2024-06-29T07:24:06.174214Z"
    }
   },
   "id": "641cf7c02e6ded4c",
   "execution_count": 49
  },
  {
   "cell_type": "code",
   "outputs": [
    {
     "name": "stdout",
     "output_type": "stream",
     "text": [
      "draw_clown_face_parts(head=draw_head(face_color='red'), eyes=draw_eyes(eye_color='blue'), nose=draw_nose(nose_color='green'), mouth=draw_mouth(mouth_color='black', mouth_theta1=0, mouth_theta2=360))\n"
     ]
    }
   ],
   "source": [
    "print (raven_call)"
   ],
   "metadata": {
    "collapsed": false,
    "ExecuteTime": {
     "end_time": "2024-06-29T07:24:09.120818Z",
     "start_time": "2024-06-29T07:24:09.117696Z"
    }
   },
   "id": "149033a05057b60e",
   "execution_count": 50
  },
  {
   "cell_type": "code",
   "outputs": [
    {
     "data": {
      "text/plain": "<Figure size 200x200 with 1 Axes>",
      "image/png": "[encoded data removed]"
     },
     "metadata": {},
     "output_type": "display_data"
    }
   ],
   "source": [
    "exec(raven_call)"
   ],
   "metadata": {
    "collapsed": false,
    "ExecuteTime": {
     "end_time": "2024-06-29T07:24:09.977994Z",
     "start_time": "2024-06-29T07:24:09.942301Z"
    }
   },
   "id": "e3234688c31d9b6d",
   "execution_count": 51
  },
  {
   "cell_type": "code",
   "outputs": [],
   "source": [],
   "metadata": {
    "collapsed": false
   },
   "id": "dc2a250ec3fc0e6e"
  }
 ],
 "metadata": {
  "kernelspec": {
   "display_name": "Python 3",
   "language": "python",
   "name": "python3"
  },
  "language_info": {
   "codemirror_mode": {
    "name": "ipython",
    "version": 2
   },
   "file_extension": ".py",
   "mimetype": "text/x-python",
   "name": "python",
   "nbconvert_exporter": "python",
   "pygments_lexer": "ipython2",
   "version": "2.7.6"
  }
 },
 "nbformat": 4,
 "nbformat_minor": 5
}
