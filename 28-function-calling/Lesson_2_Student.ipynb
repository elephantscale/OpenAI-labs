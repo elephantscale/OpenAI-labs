{
 "cells": [
  {
   "cell_type": "markdown",
   "id": "9f539190b2a64859",
   "metadata": {
    "collapsed": false,
    "jupyter": {
     "outputs_hidden": false
    }
   },
   "source": [
    "# Housekeeping"
   ]
  },
  {
   "cell_type": "code",
   "execution_count": null,
   "id": "8636842d9bcc6e9c",
   "metadata": {
    "ExecuteTime": {
     "end_time": "2024-06-29T07:23:22.643279Z",
     "start_time": "2024-06-29T07:23:22.590943Z"
    },
    "collapsed": false,
    "jupyter": {
     "outputs_hidden": false
    }
   },
   "outputs": [],
   "source": [
    "def afunction(arg1:int = 0, arg2:str = \"hello\", **kwargs)->int:\n",
    "    ''' this is a function definition\n",
    "        arg1 (int): an exemplary yet modest argument\n",
    "        arg2 (str): another nice argument\n",
    "        **kwargs : the rest of the rabble \n",
    "\n",
    "        returns arg1 incremented by one\n",
    "    '''\n",
    "    return(arg + 1)"
   ]
  },
  {
   "cell_type": "code",
   "execution_count": null,
   "id": "ee386c16184d754a",
   "metadata": {
    "ExecuteTime": {
     "end_time": "2024-06-29T07:23:23.480662Z",
     "start_time": "2024-06-29T07:23:23.471779Z"
    },
    "collapsed": false,
    "jupyter": {
     "outputs_hidden": false
    }
   },
   "outputs": [],
   "source": [
    "print(afunction.__name__)\n",
    "print(afunction.__doc__)"
   ]
  },
  {
   "cell_type": "code",
   "execution_count": null,
   "id": "89b48250636f67cc",
   "metadata": {
    "ExecuteTime": {
     "end_time": "2024-06-29T07:23:24.592794Z",
     "start_time": "2024-06-29T07:23:24.571757Z"
    },
    "collapsed": false,
    "jupyter": {
     "outputs_hidden": false
    }
   },
   "outputs": [],
   "source": [
    "import inspect\n",
    "print(inspect.signature(afunction))"
   ]
  },
  {
   "cell_type": "markdown",
   "id": "cc525fb3e12f8e7a",
   "metadata": {
    "collapsed": false,
    "jupyter": {
     "outputs_hidden": false
    }
   },
   "source": [
    "# Building User Query\n"
   ]
  },
  {
   "cell_type": "code",
   "execution_count": null,
   "id": "a9ed3dae25ea6a5e",
   "metadata": {
    "ExecuteTime": {
     "end_time": "2024-06-29T07:23:26.580782Z",
     "start_time": "2024-06-29T07:23:26.551943Z"
    },
    "collapsed": false,
    "jupyter": {
     "outputs_hidden": false
    }
   },
   "outputs": [],
   "source": [
    "import inspect\n",
    "def build_raven_prompt(function_list, user_query):\n",
    "    raven_prompt = \"\"\n",
    "    for function in function_list:\n",
    "        signature = inspect.signature(function)\n",
    "        docstring = function.__doc__\n",
    "        prompt = \\\n",
    "f'''\n",
    "Function:\n",
    "def {function.__name__}{signature}\n",
    "    \"\"\"\n",
    "    {docstring.strip()}\n",
    "    \"\"\"\n",
    "    \n",
    "'''\n",
    "        raven_prompt += prompt\n",
    "        \n",
    "    raven_prompt += f\"User Query: {user_query}<human_end>\"\n",
    "    return raven_prompt\n"
   ]
  },
  {
   "cell_type": "code",
   "execution_count": null,
   "id": "d05d816503712b72",
   "metadata": {
    "ExecuteTime": {
     "end_time": "2024-06-29T07:23:27.514998Z",
     "start_time": "2024-06-29T07:23:27.486306Z"
    },
    "collapsed": false,
    "jupyter": {
     "outputs_hidden": false
    }
   },
   "outputs": [],
   "source": [
    "print( build_raven_prompt([afunction], \"a query\"))"
   ]
  },
  {
   "cell_type": "markdown",
   "id": "c6f9e759982d96bf",
   "metadata": {
    "collapsed": false,
    "jupyter": {
     "outputs_hidden": false
    }
   },
   "source": [
    "# Concrete Example For Parallel Calls"
   ]
  },
  {
   "cell_type": "code",
   "execution_count": null,
   "id": "645f7352bebb1026",
   "metadata": {
    "ExecuteTime": {
     "end_time": "2024-06-29T07:23:29.283628Z",
     "start_time": "2024-06-29T07:23:29.265099Z"
    },
    "collapsed": false,
    "jupyter": {
     "outputs_hidden": false
    }
   },
   "outputs": [],
   "source": [
    "from utils import draw_clown_face\n",
    "\n",
    "raven_msg = \"Hey, can you build me two clowns.\" \\\n",
    "\"The first clown should be red faced, with a blue nose\" \\\n",
    "\"and a mouth from 0 to 180 degrees. The mouth should be black.\" \\\n",
    "\"The second clown should have a blue face and a green nose\" \\\n",
    "\"and a red mouth that's 180 to 360 degrees.\""
   ]
  },
  {
   "cell_type": "code",
   "execution_count": null,
   "id": "a02ec5aff1bcb601",
   "metadata": {
    "ExecuteTime": {
     "end_time": "2024-06-29T07:23:29.971240Z",
     "start_time": "2024-06-29T07:23:29.965577Z"
    },
    "collapsed": false,
    "jupyter": {
     "outputs_hidden": false
    }
   },
   "outputs": [],
   "source": [
    "raven_prompt = build_raven_prompt([draw_clown_face], raven_msg)\n",
    "\n",
    "print (raven_prompt)"
   ]
  },
  {
   "cell_type": "code",
   "execution_count": null,
   "id": "2c926b1e9bc1ac28",
   "metadata": {
    "ExecuteTime": {
     "end_time": "2024-06-29T07:23:34.006976Z",
     "start_time": "2024-06-29T07:23:30.894962Z"
    },
    "collapsed": false,
    "jupyter": {
     "outputs_hidden": false
    }
   },
   "outputs": [],
   "source": [
    "from utils import query_raven\n",
    "raven_call = query_raven(raven_prompt)\n",
    "print (raven_call)\n",
    "exec(raven_call)"
   ]
  },
  {
   "cell_type": "markdown",
   "id": "10722e7c3d45c947",
   "metadata": {
    "collapsed": false,
    "jupyter": {
     "outputs_hidden": false
    }
   },
   "source": [
    "# Using Multiple Functions!"
   ]
  },
  {
   "cell_type": "code",
   "execution_count": null,
   "id": "94d893c6eb65bc89",
   "metadata": {
    "ExecuteTime": {
     "end_time": "2024-06-29T07:23:35.445333Z",
     "start_time": "2024-06-29T07:23:35.441833Z"
    },
    "collapsed": false,
    "jupyter": {
     "outputs_hidden": false
    }
   },
   "outputs": [],
   "source": [
    "from utils import draw_clown_face, draw_tie\n",
    "raven_msg = \"Hey draw a tie?\"\n",
    "raven_prompt = build_raven_prompt\\\n",
    "    ([draw_clown_face, draw_tie], raven_msg)"
   ]
  },
  {
   "cell_type": "code",
   "execution_count": null,
   "id": "22a4577c189dc179",
   "metadata": {
    "ExecuteTime": {
     "end_time": "2024-06-29T07:23:36.479355Z",
     "start_time": "2024-06-29T07:23:36.466799Z"
    },
    "collapsed": false,
    "jupyter": {
     "outputs_hidden": false
    }
   },
   "outputs": [],
   "source": [
    "print(raven_prompt)"
   ]
  },
  {
   "cell_type": "code",
   "execution_count": null,
   "id": "93c597aec3e27eb1",
   "metadata": {
    "ExecuteTime": {
     "end_time": "2024-06-29T07:23:38.496213Z",
     "start_time": "2024-06-29T07:23:37.517968Z"
    },
    "collapsed": false,
    "jupyter": {
     "outputs_hidden": false
    }
   },
   "outputs": [],
   "source": [
    "raven_call = query_raven(raven_prompt)\n",
    "print (raven_call)"
   ]
  },
  {
   "cell_type": "code",
   "execution_count": null,
   "id": "f69e413ba2e5be68",
   "metadata": {
    "ExecuteTime": {
     "end_time": "2024-06-29T07:23:39.233463Z",
     "start_time": "2024-06-29T07:23:39.199373Z"
    },
    "collapsed": false,
    "jupyter": {
     "outputs_hidden": false
    }
   },
   "outputs": [],
   "source": [
    "exec(raven_call)"
   ]
  },
  {
   "cell_type": "markdown",
   "id": "12e8632d75a2bfc",
   "metadata": {
    "collapsed": false,
    "jupyter": {
     "outputs_hidden": false
    }
   },
   "source": [
    "# Multiple Parallel Function Calling"
   ]
  },
  {
   "cell_type": "code",
   "execution_count": null,
   "id": "76b4d95b86998397",
   "metadata": {
    "ExecuteTime": {
     "end_time": "2024-06-29T07:23:51.295801Z",
     "start_time": "2024-06-29T07:23:51.283719Z"
    },
    "collapsed": false,
    "jupyter": {
     "outputs_hidden": false
    }
   },
   "outputs": [],
   "source": [
    "raven_msg = \"Draw a clown and a tie?\""
   ]
  },
  {
   "cell_type": "code",
   "execution_count": null,
   "id": "7e25c1a19564d790",
   "metadata": {
    "ExecuteTime": {
     "end_time": "2024-06-29T07:23:54.985638Z",
     "start_time": "2024-06-29T07:23:52.114611Z"
    },
    "collapsed": false,
    "jupyter": {
     "outputs_hidden": false
    }
   },
   "outputs": [],
   "source": [
    "raven_prompt = build_raven_prompt([draw_tie, draw_clown_face], raven_msg)\n",
    "raven_call = query_raven(raven_prompt)"
   ]
  },
  {
   "cell_type": "code",
   "execution_count": null,
   "id": "adf86ad7fcdc39fa",
   "metadata": {
    "ExecuteTime": {
     "end_time": "2024-06-29T07:23:55.933673Z",
     "start_time": "2024-06-29T07:23:55.929528Z"
    },
    "collapsed": false,
    "jupyter": {
     "outputs_hidden": false
    }
   },
   "outputs": [],
   "source": [
    "print (raven_call)"
   ]
  },
  {
   "cell_type": "code",
   "execution_count": null,
   "id": "19c336d49de119ae",
   "metadata": {
    "ExecuteTime": {
     "end_time": "2024-06-29T07:23:57.032660Z",
     "start_time": "2024-06-29T07:23:56.892524Z"
    },
    "collapsed": false,
    "jupyter": {
     "outputs_hidden": false
    }
   },
   "outputs": [],
   "source": [
    "exec(raven_call)"
   ]
  },
  {
   "cell_type": "markdown",
   "id": "134fe081080c4211",
   "metadata": {
    "collapsed": false,
    "jupyter": {
     "outputs_hidden": false
    }
   },
   "source": [
    "# What is the significance of the docstrings?"
   ]
  },
  {
   "cell_type": "code",
   "execution_count": null,
   "id": "9d73960aeff2fdde",
   "metadata": {
    "ExecuteTime": {
     "end_time": "2024-06-29T07:23:59.915009Z",
     "start_time": "2024-06-29T07:23:58.767693Z"
    },
    "collapsed": false,
    "jupyter": {
     "outputs_hidden": false
    }
   },
   "outputs": [],
   "source": [
    "raven_msg = \"Draw me a sad one with green head\"\n",
    "raven_prompt = build_raven_prompt([draw_clown_face], raven_msg)\n",
    "raven_call = query_raven(raven_prompt)\n",
    "print (raven_call)\n",
    "exec(raven_call)"
   ]
  },
  {
   "cell_type": "code",
   "execution_count": null,
   "id": "e553af0c40906582",
   "metadata": {
    "ExecuteTime": {
     "end_time": "2024-06-29T07:24:00.569084Z",
     "start_time": "2024-06-29T07:24:00.566347Z"
    },
    "collapsed": false,
    "jupyter": {
     "outputs_hidden": false
    }
   },
   "outputs": [],
   "source": [
    "print (raven_prompt)"
   ]
  },
  {
   "cell_type": "code",
   "execution_count": null,
   "id": "fe4ea2fd02451bf",
   "metadata": {
    "ExecuteTime": {
     "end_time": "2024-06-29T07:24:01.452171Z",
     "start_time": "2024-06-29T07:24:01.446143Z"
    },
    "collapsed": false,
    "jupyter": {
     "outputs_hidden": false
    }
   },
   "outputs": [],
   "source": [
    "raven_prompt_targeted = \\\n",
    "'''\n",
    "Function:\n",
    "def draw_clown_face(face_color='yellow', eye_color='black', nose_color='red', eye_size=0.05, mouth_size=(0.3, 0.1), mouth_color='black', eye_offset=(0.15, 0.15), mouth_theta=(200, 340))\n",
    "    \"\"\"\n",
    "    Draws a customizable, simplified clown face using matplotlib.\n",
    "\n",
    "    Parameters:\n",
    "    - face_color (str): Color of the clown's face. Default is 'yellow'.\n",
    "    - eye_color (str): Color of the clown's eyes. Default is 'black'.\n",
    "    - nose_color (str): Color of the clown's nose. Default is 'red'.\n",
    "    - eye_size (float): Radius of the clown's eyes. Default is 0.05.\n",
    "    - mouth_size (tuple): Width and height of the clown's mouth arc. Default is (0.3, 0.1).\n",
    "    - eye_offset (tuple): Horizontal and vertical offset for the eyes from the center. Default is (0.15, 0.15).\n",
    "    - mouth_theta (tuple): Controls the emotions of the clown. Starting and ending angles (in degrees) of the mouth arc. Default is (200, 340).\n",
    "\n",
    "    This function creates a plot displaying a simplified clown face, where essential facial features' size, position, and color can be customized. \n",
    "\n",
    "    Example usage:\n",
    "    draw_clown_face(face_color='lightblue', eye_color='green', nose_color='orange', \n",
    "                    eye_size=0.07, mouth_size=(0.4, 0.25), \n",
    "                    eye_offset=(0.2, 0.2), mouth_theta=(0, 180))\n",
    "\n",
    "    # This will draw a simplified clown face with a light blue face, green eyes, an orange nose, and a smiling mouth.\n",
    "    \"\"\"\n",
    "    \n",
    "User Query: Draw me a sad one with green head<human_end>\n",
    "'''"
   ]
  },
  {
   "cell_type": "code",
   "execution_count": null,
   "id": "a049ee17e9242ef7",
   "metadata": {
    "ExecuteTime": {
     "end_time": "2024-06-29T07:24:03.916014Z",
     "start_time": "2024-06-29T07:24:02.371540Z"
    },
    "collapsed": false,
    "jupyter": {
     "outputs_hidden": false
    }
   },
   "outputs": [],
   "source": [
    "raven_call = query_raven(raven_prompt_targeted)\n",
    "print (raven_call)\n",
    "exec(raven_call)"
   ]
  },
  {
   "cell_type": "markdown",
   "id": "dd3f442a236777ad",
   "metadata": {
    "collapsed": false,
    "jupyter": {
     "outputs_hidden": false
    }
   },
   "source": [
    "# Concrete Example For Nested APIs"
   ]
  },
  {
   "cell_type": "code",
   "execution_count": null,
   "id": "7f3e80056aea0221",
   "metadata": {
    "ExecuteTime": {
     "end_time": "2024-06-29T07:24:05.623285Z",
     "start_time": "2024-06-29T07:24:05.620733Z"
    },
    "collapsed": false,
    "jupyter": {
     "outputs_hidden": false
    }
   },
   "outputs": [],
   "source": [
    "raven_msg_nested = \"Hey draw me a clown with \"\\\n",
    "                    \"a red face, blue eyes, green nose, \"\\\n",
    "                    \"and a black mouth open from 0 to 360 \"\\\n",
    "                    \"degrees?\""
   ]
  },
  {
   "cell_type": "code",
   "execution_count": null,
   "id": "641cf7c02e6ded4c",
   "metadata": {
    "ExecuteTime": {
     "end_time": "2024-06-29T07:24:09.115728Z",
     "start_time": "2024-06-29T07:24:06.174214Z"
    },
    "collapsed": false,
    "jupyter": {
     "outputs_hidden": false
    }
   },
   "outputs": [],
   "source": [
    "from utils import draw_head, draw_eyes, \\\n",
    "    draw_nose, draw_mouth, \\\n",
    "    draw_clown_face_parts\n",
    "raven_function_nested = build_raven_prompt([draw_head, \\\n",
    "                                            draw_eyes, \\\n",
    "                                            draw_nose, \\\n",
    "                                            draw_mouth, \\\n",
    "                                            draw_clown_face_parts],\\\n",
    "                                            raven_msg_nested)\n",
    "raven_call = query_raven(raven_function_nested)"
   ]
  },
  {
   "cell_type": "code",
   "execution_count": null,
   "id": "149033a05057b60e",
   "metadata": {
    "ExecuteTime": {
     "end_time": "2024-06-29T07:24:09.120818Z",
     "start_time": "2024-06-29T07:24:09.117696Z"
    },
    "collapsed": false,
    "jupyter": {
     "outputs_hidden": false
    }
   },
   "outputs": [],
   "source": [
    "print (raven_call)"
   ]
  },
  {
   "cell_type": "code",
   "execution_count": null,
   "id": "e3234688c31d9b6d",
   "metadata": {
    "ExecuteTime": {
     "end_time": "2024-06-29T07:24:09.977994Z",
     "start_time": "2024-06-29T07:24:09.942301Z"
    },
    "collapsed": false,
    "jupyter": {
     "outputs_hidden": false
    }
   },
   "outputs": [],
   "source": [
    "exec(raven_call)"
   ]
  }
 ],
 "metadata": {
  "kernelspec": {
   "display_name": "Python 3 (ipykernel)",
   "language": "python",
   "name": "python3"
  },
  "language_info": {
   "codemirror_mode": {
    "name": "ipython",
    "version": 3
   },
   "file_extension": ".py",
   "mimetype": "text/x-python",
   "name": "python",
   "nbconvert_exporter": "python",
   "pygments_lexer": "ipython3",
   "version": "3.12.3"
  }
 },
 "nbformat": 4,
 "nbformat_minor": 5
}
