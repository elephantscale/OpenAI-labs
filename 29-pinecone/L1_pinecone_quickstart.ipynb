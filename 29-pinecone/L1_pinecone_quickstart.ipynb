{
 "cells": [
  {
   "cell_type": "markdown",
   "id": "5c0ed152c1e04aa2",
   "metadata": {
    "collapsed": false,
    "jupyter": {
     "outputs_hidden": false
    }
   },
   "source": [
    "# Creating an Index"
   ]
  },
  {
   "cell_type": "markdown",
   "id": "2ffcb216-f5f2-4d1b-aa51-f758af4f496e",
   "metadata": {},
   "source": [
    "## Setup"
   ]
  },
  {
   "cell_type": "code",
   "execution_count": null,
   "id": "a0878bd4754b5026",
   "metadata": {
    "collapsed": false,
    "is_executing": true,
    "jupyter": {
     "outputs_hidden": false
    }
   },
   "outputs": [],
   "source": [
    "import os\n",
    "import time\n",
    "import pandas as pd\n",
    "from pinecone import Pinecone\n",
    "from dotenv import load_dotenv\n",
    "from pinecone import ServerlessSpec\n",
    "\n",
    "load_dotenv()"
   ]
  },
  {
   "cell_type": "markdown",
   "id": "21b44c5151190938",
   "metadata": {
    "collapsed": false,
    "jupyter": {
     "outputs_hidden": false
    }
   },
   "source": [
    "## configure client"
   ]
  },
  {
   "cell_type": "code",
   "execution_count": null,
   "id": "7cd2c8d0d875f1e7",
   "metadata": {
    "collapsed": false,
    "is_executing": true,
    "jupyter": {
     "outputs_hidden": false
    }
   },
   "outputs": [],
   "source": [
    "pinecone_api_key = os.getenv(\"PINECONE_API_KEY\")\n",
    "pc = Pinecone(api_key=pinecone_api_key)"
   ]
  },
  {
   "cell_type": "code",
   "execution_count": null,
   "id": "6c4e4d12b3e9b331",
   "metadata": {
    "ExecuteTime": {
     "end_time": "2024-07-02T08:10:49.904551Z",
     "start_time": "2024-07-02T08:10:49.900216Z"
    },
    "collapsed": false,
    "jupyter": {
     "outputs_hidden": false
    }
   },
   "outputs": [],
   "source": [
    "cloud = os.environ.get('PINECONE_CLOUD') or 'aws'\n",
    "region = os.environ.get('PINECONE_REGION') or 'us-east-1'\n",
    "\n",
    "spec = ServerlessSpec(cloud=cloud, region=region)"
   ]
  },
  {
   "cell_type": "markdown",
   "id": "a5b5b204e54ced80",
   "metadata": {
    "collapsed": false,
    "jupyter": {
     "outputs_hidden": false
    }
   },
   "source": [
    "## Giving our index a name"
   ]
  },
  {
   "cell_type": "code",
   "execution_count": null,
   "id": "e2664ecb9b469c55",
   "metadata": {
    "ExecuteTime": {
     "end_time": "2024-07-02T08:10:51.462816Z",
     "start_time": "2024-07-02T08:10:51.456153Z"
    },
    "collapsed": false,
    "jupyter": {
     "outputs_hidden": false
    }
   },
   "outputs": [],
   "source": [
    "index_name = \"lab-29\""
   ]
  },
  {
   "cell_type": "markdown",
   "id": "1370a842480cc6b1",
   "metadata": {
    "collapsed": false,
    "jupyter": {
     "outputs_hidden": false
    }
   },
   "source": [
    "## Delete the index, if an index of the same name already exists"
   ]
  },
  {
   "cell_type": "code",
   "execution_count": null,
   "id": "3bbd477d16a4017c",
   "metadata": {
    "ExecuteTime": {
     "end_time": "2024-07-02T08:10:53.183214Z",
     "start_time": "2024-07-02T08:10:52.834057Z"
    },
    "collapsed": false,
    "jupyter": {
     "outputs_hidden": false
    }
   },
   "outputs": [],
   "source": [
    "if index_name in pc.list_indexes().names():\n",
    "    pc.delete_index(index_name)"
   ]
  },
  {
   "cell_type": "markdown",
   "id": "b962b61102c3fbcc",
   "metadata": {
    "collapsed": false,
    "jupyter": {
     "outputs_hidden": false
    }
   },
   "source": [
    "## Creating a Pinecone Index."
   ]
  },
  {
   "cell_type": "code",
   "execution_count": null,
   "id": "8e2ce736bb12cb33",
   "metadata": {
    "ExecuteTime": {
     "end_time": "2024-07-02T08:10:54.930741Z",
     "start_time": "2024-07-02T08:10:54.522532Z"
    },
    "collapsed": false,
    "jupyter": {
     "outputs_hidden": false
    }
   },
   "outputs": [],
   "source": [
    "dimensions = 3\n",
    "pc.create_index(\n",
    "    name=index_name,\n",
    "    dimension=dimensions,\n",
    "    metric=\"cosine\",\n",
    "    spec=spec\n",
    ")\n",
    "\n",
    "# wait for index to be ready before connecting\n",
    "while not pc.describe_index(index_name).status['ready']:\n",
    "    time.sleep(1)"
   ]
  },
  {
   "cell_type": "code",
   "execution_count": null,
   "id": "9491476544fa32cd",
   "metadata": {
    "collapsed": false,
    "jupyter": {
     "outputs_hidden": false
    }
   },
   "outputs": [],
   "source": [
    "index = pc.Index(index_name)"
   ]
  },
  {
   "cell_type": "code",
   "execution_count": null,
   "id": "9eca8575-8922-454e-bfee-9a55e5685aaa",
   "metadata": {},
   "outputs": [],
   "source": [
    "df = pd.DataFrame(\n",
    "    data={\n",
    "        \"id\": [\"A\", \"B\"],\n",
    "        \"vector\": [[1., 1., 1.], [1., 2., 3.]]\n",
    "    })\n",
    "df"
   ]
  },
  {
   "cell_type": "code",
   "execution_count": null,
   "id": "aa7da41c-e264-4bc4-a0c8-51b400451522",
   "metadata": {},
   "outputs": [],
   "source": [
    "index.upsert(vectors=zip(df.id, df.vector))"
   ]
  },
  {
   "cell_type": "code",
   "execution_count": null,
   "id": "90f55811-e227-4646-bfc7-cb28502052f4",
   "metadata": {},
   "outputs": [],
   "source": [
    "index.describe_index_stats()"
   ]
  },
  {
   "cell_type": "code",
   "execution_count": null,
   "id": "93df76d5-debc-45f4-8254-766a1c309924",
   "metadata": {},
   "outputs": [],
   "source": [
    "index.query(\n",
    "    vector=[2., 2., 2.],\n",
    "    top_k=5,\n",
    "    include_values=True) "
   ]
  },
  {
   "cell_type": "code",
   "execution_count": null,
   "id": "0fe1c665-7c41-4db3-b7b0-a57e6b9af097",
   "metadata": {},
   "outputs": [],
   "source": [
    "pc.delete_index(index_name)"
   ]
  }
 ],
 "metadata": {
  "kernelspec": {
   "display_name": "Python (lab 29)",
   "language": "python",
   "name": "29"
  },
  "language_info": {
   "codemirror_mode": {
    "name": "ipython",
    "version": 3
   },
   "file_extension": ".py",
   "mimetype": "text/x-python",
   "name": "python",
   "nbconvert_exporter": "python",
   "pygments_lexer": "ipython3",
   "version": "3.12.3"
  }
 },
 "nbformat": 4,
 "nbformat_minor": 5
}
