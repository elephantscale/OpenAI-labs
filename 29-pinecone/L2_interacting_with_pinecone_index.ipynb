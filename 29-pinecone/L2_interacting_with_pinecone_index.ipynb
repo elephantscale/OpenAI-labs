{
 "cells": [
  {
   "cell_type": "markdown",
   "id": "593d9fc1-d494-49d4-bd37-66baea83f106",
   "metadata": {
    "collapsed": true,
    "jupyter": {
     "outputs_hidden": true
    }
   },
   "source": [
    "# Interacting with a Pinecone index"
   ]
  },
  {
   "cell_type": "markdown",
   "id": "42347bf8-0e6e-48d6-bf35-a2aea8cd1a2d",
   "metadata": {},
   "source": [
    "## Creating an index"
   ]
  },
  {
   "cell_type": "code",
   "execution_count": null,
   "id": "ed375615-470a-4be1-a351-c4cfa2e19aeb",
   "metadata": {},
   "outputs": [],
   "source": [
    "import os\n",
    "import time\n",
    "import pandas as pd\n",
    "from pinecone import Pinecone\n",
    "from dotenv import load_dotenv\n",
    "from pinecone import ServerlessSpec\n",
    "\n",
    "load_dotenv()"
   ]
  },
  {
   "cell_type": "code",
   "execution_count": null,
   "id": "89106885-305f-43b5-93ce-cba9a2a0c7b6",
   "metadata": {},
   "outputs": [],
   "source": [
    "# initialize connection to pinecone (get API key at app.pinecone.io)\n",
    "pinecone_api_key = os.getenv(\"PINECONE_API_KEY\")\n",
    "pc = Pinecone(api_key=pinecone_api_key)"
   ]
  },
  {
   "cell_type": "code",
   "execution_count": null,
   "id": "777139e2-08ee-4148-8deb-760617a7a711",
   "metadata": {},
   "outputs": [],
   "source": [
    "cloud = os.environ.get('PINECONE_CLOUD') or 'aws'\n",
    "region = os.environ.get('PINECONE_REGION') or 'us-east-1'\n",
    "\n",
    "spec = ServerlessSpec(cloud=cloud, region=region)"
   ]
  },
  {
   "cell_type": "code",
   "execution_count": null,
   "id": "ed248ac1-a9e8-437d-9512-ef512e135d67",
   "metadata": {},
   "outputs": [],
   "source": [
    "index_name = \"interacting-with-the-index\""
   ]
  },
  {
   "cell_type": "code",
   "execution_count": null,
   "id": "716c2fd4-1276-4590-9c75-b22cc42d2664",
   "metadata": {},
   "outputs": [],
   "source": [
    "# Delete index if exists\n",
    "if index_name in pc.list_indexes().names():\n",
    "    pc.delete_index(index_name)"
   ]
  },
  {
   "cell_type": "code",
   "execution_count": null,
   "id": "806593ad-3ea5-4915-99b3-af89101306c6",
   "metadata": {},
   "outputs": [],
   "source": [
    "# Create index\n",
    "pc.create_index(\n",
    "    name=index_name, \n",
    "    dimension=2, \n",
    "    metric=\"euclidean\",\n",
    "    spec=spec\n",
    ")"
   ]
  },
  {
   "cell_type": "code",
   "execution_count": null,
   "id": "a5f735f4-10ab-48a0-bd6c-476e37481b40",
   "metadata": {},
   "outputs": [],
   "source": [
    "# wait for index to be ready before connecting\n",
    "while not pc.describe_index(index_name).status['ready']:\n",
    "    time.sleep(1)\n",
    "\n",
    "# Connect to the index\n",
    "index = pc.Index(index_name)"
   ]
  },
  {
   "cell_type": "code",
   "execution_count": null,
   "id": "b465f761-0eb1-43ea-b27c-265bc6344133",
   "metadata": {},
   "outputs": [],
   "source": [
    "\n",
    "df = pd.DataFrame()\n",
    "df[\"id\"] = [\"A\", \"B\", \"C\", \"D\", \"E\"]\n",
    "df[\"vector\"] = [[1., 1.], [2., 2.], [3., 3.], [4., 4.], [5., 5.]]\n",
    "df"
   ]
  },
  {
   "cell_type": "code",
   "execution_count": null,
   "id": "bd529654-854e-4a9a-a04b-39d9fe13f5da",
   "metadata": {},
   "outputs": [],
   "source": [
    "# Upsert the vectors\n",
    "AB_df = df[:2]\n",
    "index.upsert(vectors=zip(AB_df.id, AB_df.vector))"
   ]
  },
  {
   "cell_type": "markdown",
   "id": "ef07f0ad-7341-48de-8efb-b48260967bde",
   "metadata": {},
   "source": [
    "## Fetch vectors"
   ]
  },
  {
   "cell_type": "code",
   "execution_count": null,
   "id": "c347f2de-e645-46fc-9084-92ec83b1cb9e",
   "metadata": {},
   "outputs": [],
   "source": [
    "fetch_results=index.fetch(ids=[\"A\", \"B\"])\n",
    "fetch_results"
   ]
  },
  {
   "cell_type": "markdown",
   "id": "6be8f7ff-b64c-4d1e-a050-edd4fca53d5a",
   "metadata": {},
   "source": [
    "## Query top-k vectors"
   ]
  },
  {
   "cell_type": "code",
   "execution_count": null,
   "id": "18d45fe9-fc64-4cc7-9fb8-6d0857d9e4cd",
   "metadata": {},
   "outputs": [],
   "source": [
    "result=index.query(vector=[1.1,1.1],top_k=2)\n",
    "result"
   ]
  },
  {
   "cell_type": "markdown",
   "id": "0fc84479-ee0e-46d7-bed6-498d76c82ae2",
   "metadata": {},
   "source": [
    "## Update vectors by ID"
   ]
  },
  {
   "cell_type": "code",
   "execution_count": null,
   "id": "735d8029-697c-471c-802f-ba9beb22a600",
   "metadata": {},
   "outputs": [],
   "source": [
    "# Fetch current vectors by ID\n",
    "fetch_result = index.fetch(ids=[\"A\"])\n",
    "fetch_result"
   ]
  },
  {
   "cell_type": "code",
   "execution_count": null,
   "id": "db704358-6091-4b72-8f9d-6de136bc3908",
   "metadata": {},
   "outputs": [],
   "source": [
    "# Update vectors by ID\n",
    "index.upsert(vectors=[(\"A\",[0.1, 0.1])])"
   ]
  },
  {
   "cell_type": "code",
   "execution_count": null,
   "id": "22e7f370-73ee-4b82-8ce9-3fc28a156656",
   "metadata": {},
   "outputs": [],
   "source": [
    "# Fetch vector by the same ID again\n",
    "fetch_result = index.fetch(ids=[\"A\"])\n",
    "fetch_result"
   ]
  },
  {
   "cell_type": "markdown",
   "id": "cf9b8dc9-1578-427d-8a4f-9f6ffa1bf1c2",
   "metadata": {},
   "source": [
    "## Delete vectors by ID"
   ]
  },
  {
   "cell_type": "code",
   "execution_count": null,
   "id": "442bce9e-dfa2-45c4-8cbe-54e225c8c33a",
   "metadata": {},
   "outputs": [],
   "source": [
    "# Delete vectors by ID\n",
    "index.delete(ids=[\"A\"])"
   ]
  },
  {
   "cell_type": "code",
   "execution_count": null,
   "id": "1a2eb57a-79f4-46e1-bce1-e27f76a91ec5",
   "metadata": {},
   "outputs": [],
   "source": [
    "# Deleted vectors are empty\n",
    "fetch_results = index.fetch(ids=[\"A\", \"B\"])\n",
    "fetch_results"
   ]
  },
  {
   "cell_type": "markdown",
   "id": "e25a4d2b-ce7a-41ed-b8a4-c988fd2f98a2",
   "metadata": {},
   "source": [
    "## Get index statistics"
   ]
  },
  {
   "cell_type": "code",
   "execution_count": null,
   "id": "43e51153-7345-4d86-a5af-d1e71b7cbd23",
   "metadata": {},
   "outputs": [],
   "source": [
    "# Index statistics\n",
    "index.describe_index_stats()"
   ]
  },
  {
   "cell_type": "markdown",
   "id": "1ade29ca-5445-4dba-94f0-bf020d668e55",
   "metadata": {},
   "source": [
    "## Delete the index\n"
   ]
  },
  {
   "cell_type": "code",
   "execution_count": 18,
   "id": "3da658ff-7cf4-40cf-b650-c611912c3e98",
   "metadata": {},
   "outputs": [],
   "source": [
    "# delete the index\n",
    "pc.delete_index(index_name)"
   ]
  }
 ],
 "metadata": {
  "kernelspec": {
   "display_name": "Python 3 (ipykernel)",
   "language": "python",
   "name": "python3"
  },
  "language_info": {
   "codemirror_mode": {
    "name": "ipython",
    "version": 3
   },
   "file_extension": ".py",
   "mimetype": "text/x-python",
   "name": "python",
   "nbconvert_exporter": "python",
   "pygments_lexer": "ipython3",
   "version": "3.12.3"
  }
 },
 "nbformat": 4,
 "nbformat_minor": 5
}
