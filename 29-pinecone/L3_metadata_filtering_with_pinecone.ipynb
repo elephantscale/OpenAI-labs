{
 "cells": [
  {
   "cell_type": "markdown",
   "id": "5a9c3c89-3723-4e0d-bba6-45002b46e26a",
   "metadata": {
    "collapsed": true,
    "jupyter": {
     "outputs_hidden": true
    }
   },
   "source": [
    "# Metadata filtering with Pinecone\n"
   ]
  },
  {
   "cell_type": "code",
   "execution_count": null,
   "id": "1b726fe2-9358-4992-8567-7b8e53be2075",
   "metadata": {},
   "outputs": [],
   "source": [
    "import os\n",
    "import pandas as pd\n",
    "from pinecone import Pinecone\n",
    "from dotenv import load_dotenv\n",
    "from pinecone import ServerlessSpec\n",
    "\n",
    "load_dotenv()"
   ]
  },
  {
   "cell_type": "markdown",
   "id": "a746e621-91e8-4dcf-81c1-aeab7a76bc1f",
   "metadata": {},
   "source": [
    "## Creating an Index"
   ]
  },
  {
   "cell_type": "code",
   "execution_count": null,
   "id": "ed3c9236-b609-4f00-bbed-7dc38527a43b",
   "metadata": {},
   "outputs": [],
   "source": [
    "# initialize connection to pinecone (get API key at app.pinecone.io)\n",
    "api_key = os.environ.get('PINECONE_API_KEY') or 'PINECONE_API_KEY'\n",
    "\n",
    "# configure client\n",
    "pc = Pinecone(api_key=api_key)\n",
    "\n",
    "cloud = os.environ.get('PINECONE_CLOUD') or 'aws'\n",
    "region = os.environ.get('PINECONE_REGION') or 'us-east-1'\n",
    "\n",
    "spec = ServerlessSpec(cloud=cloud, region=region)\n",
    "\n",
    "index_name = \"pinecone-metadata-filtering\"\n",
    "\n",
    "# Delete index if exists\n",
    "if index_name in pc.list_indexes().names():\n",
    "    pc.delete_index(index_name)\n",
    "\n",
    "# Create an index\n",
    "pc.create_index(\n",
    "    name=index_name, \n",
    "    dimension=2, \n",
    "    metric=\"euclidean\",\n",
    "    spec=spec\n",
    ")\n",
    "\n",
    "# wait for index to be ready before connecting\n",
    "while not pc.describe_index(index_name).status['ready']:\n",
    "    time.sleep(1)\n",
    "# Connect to the index\n",
    "index = pc.Index(index_name)"
   ]
  },
  {
   "cell_type": "markdown",
   "id": "c0327b2d-bfc9-4a74-88c6-5e3b74b959a6",
   "metadata": {},
   "source": [
    "## Generate sample document data"
   ]
  },
  {
   "cell_type": "code",
   "execution_count": null,
   "id": "436b1adb-a40e-41ec-915b-50def4bb9d88",
   "metadata": {},
   "outputs": [],
   "source": [
    "df = pd.DataFrame()\n",
    "df[\"id\"] = [\"F-1\", \"F-2\", \"S-1\", \"S-2\"]\n",
    "df[\"vector\"] = [[1., 1.], [2., 2.], [3., 3.], [4., 4.]]\n",
    "df[\"metadata\"] = [\n",
    "    {\"category\": \"finance\", \"published\": 2015},\n",
    "    {\"category\": \"finance\", \"published\": 2016},\n",
    "    {\"category\": \"sport\", \"published\": 2017},\n",
    "    {\"category\": \"sport\", \"published\": 2018}]\n",
    "df"
   ]
  },
  {
   "cell_type": "markdown",
   "id": "989d87a0-b5be-4bf3-acd7-6fabc0b046b8",
   "metadata": {},
   "source": [
    "## Insert vectors"
   ]
  },
  {
   "cell_type": "code",
   "execution_count": null,
   "id": "2df9fff8-a194-456b-8268-74c851777569",
   "metadata": {},
   "outputs": [],
   "source": [
    "index.upsert(vectors=zip(df.id, df.vector, df.metadata))\n",
    "index.describe_index_stats()"
   ]
  },
  {
   "cell_type": "markdown",
   "id": "a7860d96-8509-4214-add2-f3826400846f",
   "metadata": {},
   "source": [
    "## Fetch a vector"
   ]
  },
  {
   "cell_type": "code",
   "execution_count": null,
   "id": "df146293-be9f-4b3c-b87c-0c60249bf183",
   "metadata": {},
   "outputs": [],
   "source": [
    "index.fetch(ids=[\"F-1\"])"
   ]
  },
  {
   "cell_type": "markdown",
   "id": "e4191a8e-0b3c-416d-9c90-60bdbe1e2148",
   "metadata": {},
   "source": [
    "## Query top-3 without filtering"
   ]
  },
  {
   "cell_type": "code",
   "execution_count": null,
   "id": "a8281fd9-5695-499d-aee0-d5be21f87520",
   "metadata": {},
   "outputs": [],
   "source": [
    "query_results = index.query(vector=df[df.id == \"F-1\"].vector[0], top_k=3)\n",
    "query_results"
   ]
  },
  {
   "cell_type": "markdown",
   "id": "221771e9-c9fe-4462-a98b-1385826dfca0",
   "metadata": {},
   "source": [
    "## Query results with articles in finance published after 2015"
   ]
  },
  {
   "cell_type": "code",
   "execution_count": null,
   "id": "82e97522-a890-4d7e-bc59-350433b79e17",
   "metadata": {},
   "outputs": [],
   "source": [
    "filter_condition = {\n",
    "    \"category\" : {\"$eq\": \"finance\"},\n",
    "    \"published\": {\"$gt\": 2015 }\n",
    "}\n",
    "query_results = index.query(vector=\n",
    "    df[df.id == \"F-1\"].vector[0], top_k=3, filter=filter_condition\n",
    ")\n",
    "query_results"
   ]
  },
  {
   "cell_type": "code",
   "execution_count": null,
   "id": "e183ee1a-a5cf-448c-98ff-774b55fb79df",
   "metadata": {},
   "outputs": [],
   "source": [
    "pc.delete_index(index_name)"
   ]
  }
 ],
 "metadata": {
  "kernelspec": {
   "display_name": "Python 3 (ipykernel)",
   "language": "python",
   "name": "python3"
  },
  "language_info": {
   "codemirror_mode": {
    "name": "ipython",
    "version": 3
   },
   "file_extension": ".py",
   "mimetype": "text/x-python",
   "name": "python",
   "nbconvert_exporter": "python",
   "pygments_lexer": "ipython3",
   "version": "3.12.3"
  }
 },
 "nbformat": 4,
 "nbformat_minor": 5
}
