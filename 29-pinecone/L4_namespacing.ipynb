{
 "cells": [
  {
   "cell_type": "markdown",
   "id": "5c9aa471-f30e-48c2-9c9d-a7d97738b5e7",
   "metadata": {
    "collapsed": true,
    "jupyter": {
     "outputs_hidden": true
    }
   },
   "source": [
    "# Namespacing with Pinecone"
   ]
  },
  {
   "cell_type": "markdown",
   "id": "6265a741-33c5-4ee0-99d0-450a0b679b4d",
   "metadata": {},
   "source": [
    "## Setup"
   ]
  },
  {
   "cell_type": "code",
   "execution_count": null,
   "id": "e9d1b334-98e5-4d0d-9144-1beaa5a23d92",
   "metadata": {},
   "outputs": [],
   "source": [
    "import os\n",
    "import pandas as pd\n",
    "from pinecone import Pinecone\n",
    "from dotenv import load_dotenv\n",
    "from pinecone import ServerlessSpec\n",
    "\n",
    "load_dotenv()"
   ]
  },
  {
   "cell_type": "markdown",
   "id": "835a2e22-55e3-42ec-8ee5-aeb38f96cb61",
   "metadata": {},
   "source": [
    "## Creating an Index"
   ]
  },
  {
   "cell_type": "code",
   "execution_count": null,
   "id": "c9afa43f-e3c2-4834-9e2c-c475362184b6",
   "metadata": {},
   "outputs": [],
   "source": [
    "# initialize connection to pinecone (get API key at app.pinecone.io)\n",
    "api_key = os.environ.get('PINECONE_API_KEY') or 'PINECONE_API_KEY'\n",
    "\n",
    "# configure client\n",
    "pc = Pinecone(api_key=api_key)\n",
    "\n",
    "cloud = os.environ.get('PINECONE_CLOUD') or 'aws'\n",
    "region = os.environ.get('PINECONE_REGION') or 'us-east-1'\n",
    "\n",
    "spec = ServerlessSpec(cloud=cloud, region=region)\n",
    "\n",
    "index_name = \"pinecone-namespacing\"\n",
    "\n",
    "# Delete index if exists\n",
    "if index_name in pc.list_indexes().names():\n",
    "    pc.delete_index(index_name)\n",
    "\n",
    "# Create an index\n",
    "pc.create_index(\n",
    "    name=index_name, \n",
    "    dimension=2, \n",
    "    metric=\"euclidean\",\n",
    "    spec=spec\n",
    ")\n",
    "\n",
    "# wait for index to be ready before connecting\n",
    "while not pc.describe_index(index_name).status['ready']:\n",
    "    time.sleep(1)\n",
    "# Connect to the index\n",
    "index = pc.Index(index_name)"
   ]
  },
  {
   "cell_type": "code",
   "execution_count": null,
   "id": "7d7569c4-9843-4dae-a428-54b65168cfe0",
   "metadata": {},
   "outputs": [],
   "source": [
    "# Delete index if exists\n",
    "if index_name in pc.list_indexes().names():\n",
    "    pc.delete_index(index_name)\n",
    "\n",
    "# Create an index\n",
    "pc.create_index(\n",
    "    name=index_name, \n",
    "    dimension=2, \n",
    "    metric=\"euclidean\",\n",
    "    spec=spec\n",
    ")\n",
    "\n",
    "# wait for index to be ready before connecting\n",
    "while not pc.describe_index(index_name).status['ready']:\n",
    "    time.sleep(1)\n",
    "\n",
    "pc.list_indexes().names()"
   ]
  },
  {
   "cell_type": "code",
   "execution_count": null,
   "id": "1f103432-56b8-4249-ba36-aa8d9f11b006",
   "metadata": {},
   "outputs": [],
   "source": [
    "# Connect to the index\n",
    "index = pc.Index(index_name)\n"
   ]
  },
  {
   "cell_type": "markdown",
   "id": "62865983-2a7f-4881-b7c1-92df71fb3fc3",
   "metadata": {},
   "source": [
    "## Generate movie data"
   ]
  },
  {
   "cell_type": "code",
   "execution_count": null,
   "id": "327817d2-06ef-46f3-a7b1-9d4ab659114e",
   "metadata": {},
   "outputs": [],
   "source": [
    "df = pd.DataFrame()\n",
    "df[\"id\"] = [\"Wall-E\", \"Up\", \"Ratatouille\", \"Toy Story\"]\n",
    "df[\"vector\"] = [[1., 1.], [2., 2.], [3., 3.], [4., 4.]]\n",
    "df"
   ]
  },
  {
   "cell_type": "markdown",
   "id": "6436c208-8056-4649-8e26-97776837da06",
   "metadata": {},
   "source": [
    "## Insert vectors without specifying a namespace"
   ]
  },
  {
   "cell_type": "code",
   "execution_count": null,
   "id": "848d5867-c6b4-4eab-bbe7-f0f47f4ec788",
   "metadata": {},
   "outputs": [],
   "source": [
    "# Insert vectors without specifying a namespace\n",
    "index.upsert(vectors=zip(df.id, df.vector))\n",
    "index.describe_index_stats()"
   ]
  },
  {
   "cell_type": "markdown",
   "id": "a2124567-33cf-435e-952a-34de00c60e7a",
   "metadata": {},
   "source": [
    "## Insert vectors into a namespace"
   ]
  },
  {
   "cell_type": "code",
   "execution_count": null,
   "id": "6c70b760-cd56-4229-bc76-5ff4f5ec61a7",
   "metadata": {},
   "outputs": [],
   "source": [
    "romantic_comedies = [\"Wall-E\", \"Ratatouille\"]\n",
    "romcom_df = df[df.id.isin(romantic_comedies)]\n",
    "romcom_df"
   ]
  },
  {
   "cell_type": "code",
   "execution_count": null,
   "id": "7ee370f0-51c7-436e-a7a4-b5d594c0f8e3",
   "metadata": {},
   "outputs": [],
   "source": [
    "# Insert vectors into a namespace\n",
    "index.upsert(vectors=zip(romcom_df.id, romcom_df.vector), namespace=\"romantic-comedy\")\n",
    "index.describe_index_stats()"
   ]
  },
  {
   "cell_type": "markdown",
   "id": "e5d0e44e-32f9-4af8-8ff3-d197a3009d8b",
   "metadata": {},
   "source": [
    "## Query top-3 results, without a namespace"
   ]
  },
  {
   "cell_type": "code",
   "execution_count": null,
   "id": "57d51729-1815-4ce1-bec4-1d52bb735f5b",
   "metadata": {},
   "outputs": [],
   "source": [
    "query_results = index.query(vector=df[df.id == \"Wall-E\"].vector[0], top_k=3)\n",
    "query_results"
   ]
  },
  {
   "cell_type": "markdown",
   "id": "65ebde8b-5117-4858-a2f4-a487133c4b9c",
   "metadata": {},
   "source": [
    "## Query top-3 results, with a namespace\n"
   ]
  },
  {
   "cell_type": "code",
   "execution_count": null,
   "id": "d39689cf-e0e6-4844-9c53-7983e101e0fe",
   "metadata": {},
   "outputs": [],
   "source": [
    "query_results = index.query(vector=\n",
    "    df[df.id == \"Wall-E\"].vector[0], top_k=3, namespace=\"romantic-comedy\"\n",
    ")\n",
    "query_results"
   ]
  },
  {
   "cell_type": "code",
   "execution_count": null,
   "id": "8f2f24da-09c2-49a7-ba3d-c3605459f049",
   "metadata": {},
   "outputs": [],
   "source": [
    "# delete the index\n",
    "pc.delete_index(index_name)"
   ]
  }
 ],
 "metadata": {
  "kernelspec": {
   "display_name": "Python 3 (ipykernel)",
   "language": "python",
   "name": "python3"
  },
  "language_info": {
   "codemirror_mode": {
    "name": "ipython",
    "version": 3
   },
   "file_extension": ".py",
   "mimetype": "text/x-python",
   "name": "python",
   "nbconvert_exporter": "python",
   "pygments_lexer": "ipython3",
   "version": "3.12.3"
  }
 },
 "nbformat": 4,
 "nbformat_minor": 5
}
